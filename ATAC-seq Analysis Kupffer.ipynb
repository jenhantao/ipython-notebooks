{
 "cells": [
  {
   "cell_type": "markdown",
   "metadata": {},
   "source": [
    "# ATAC-seq Analysis (Kupffer)"
   ]
  },
  {
   "cell_type": "code",
   "execution_count": 4,
   "metadata": {
    "collapsed": false
   },
   "outputs": [
    {
     "name": "stdout",
     "output_type": "stream",
     "text": [
      "The autoreload extension is already loaded. To reload it, use:\n",
      "  %reload_ext autoreload\n"
     ]
    }
   ],
   "source": [
    "### header ###\n",
    "__author__ = \"Jenhan Tao\"\n",
    "__license__ = \"BSD\"\n",
    "__email__ = \"jenhantao@gmail.com\"\n",
    "%load_ext autoreload\n",
    "%autoreload 2"
   ]
  },
  {
   "cell_type": "code",
   "execution_count": 5,
   "metadata": {
    "collapsed": false
   },
   "outputs": [],
   "source": [
    "### imports ###\n",
    "import sys\n",
    "import os\n",
    "import pandas as pd\n",
    "import numpy as np\n",
    "import argparse\n",
    "import matplotlib\n",
    "import itertools\n",
    "import scipy\n",
    "import matplotlib.pyplot as plt \n",
    "import seaborn as sns\n",
    "from IPython.display import Image, display\n",
    "from scipy.spatial.distance import pdist, squareform\n",
    "from scipy.cluster.hierarchy import linkage, dendrogram\n",
    "import scipy\n",
    "import scipy.stats\n",
    "import sklearn\n",
    "from sklearn import preprocessing\n",
    "from sklearn import decomposition\n",
    "from mpl_toolkits.mplot3d import Axes3D\n",
    "from matplotlib_venn import venn3, venn2\n",
    "import pickle\n",
    "from matplotlib import patches as mpatches\n",
    "from sklearn.cluster import KMeans\n",
    "from sklearn import svm, datasets\n",
    "from sklearn.utils import shuffle\n",
    "from sklearn.metrics import roc_curve, auc\n",
    "from sklearn import ensemble\n",
    "from sklearn import neighbors\n",
    "import networkx as nx\n",
    "import matplotlib_venn\n",
    "from sklearn.cross_validation import train_test_split\n",
    "from random import shuffle\n",
    "%matplotlib inline\n",
    "matplotlib.pylab.rcParams['savefig.dpi'] = 200\n",
    "sys.setrecursionlimit(3000)\n",
    "sns.set_context('notebook')"
   ]
  },
  {
   "cell_type": "markdown",
   "metadata": {},
   "source": [
    "## Functions"
   ]
  },
  {
   "cell_type": "code",
   "execution_count": 6,
   "metadata": {
    "collapsed": true
   },
   "outputs": [],
   "source": [
    "\n",
    "def get_matched_split(features, labels, test_size):\n",
    "    '''\n",
    "    feature: 2D array (samples x features)\n",
    "    labels: 1D boolean array (samples x)\n",
    "    test_size: fraction of data to test on\n",
    "    '''\n",
    "    \n",
    "    ### match GC content of samples labelled True with those labelled False by thowing out False samples\n",
    "    # retrieve sequences using index of labels\n",
    "    index_label_tuples = tuple(zip(labels.index.values, labels.values))\n",
    "    \n",
    "    true_ids = [x[0] for x in index_label_tuples if x[1]]\n",
    "    \n",
    "    false_ids = [x[0] for x in index_label_tuples if not x[1]]\n",
    "    \n",
    "        \n",
    "    filtered_ids = true_ids + false_ids\n",
    "    filtered_features = features[features.index.isin(filtered_ids)]\n",
    "    filtered_labels = labels[labels.index.isin(filtered_ids)]\n",
    "\n",
    "\n",
    "    if test_size <= 0.5:\n",
    "        training_indices, test_indices = next(iter(\n",
    "                sklearn.cross_validation.StratifiedKFold(filtered_labels, int(1/test_size), shuffle=True)))\n",
    "    else:\n",
    "        test_indices, training_indices = next(\n",
    "            iter(sklearn.cross_validation.StratifiedKFold(filtered_labels, int(1/(1-test_size)), shuffle=True)))\n",
    "    training_ids = [filtered_ids[i] for i in training_indices]\n",
    "    test_ids = [filtered_ids[i] for i in test_indices]\n",
    "    \n",
    "    training_features = filtered_features[filtered_features.index.isin(training_ids)]\n",
    "    test_features = filtered_features[filtered_features.index.isin(test_ids)]\n",
    "    training_labels = filtered_labels[filtered_labels.index.isin(training_ids)]\n",
    "    test_labels = filtered_labels[filtered_labels.index.isin(test_ids)]\n",
    "    \n",
    "    return training_features, test_features, training_labels, test_labels\n",
    "    "
   ]
  },
  {
   "cell_type": "markdown",
   "metadata": {},
   "source": [
    "## Preprocessing"
   ]
  },
  {
   "cell_type": "code",
   "execution_count": 8,
   "metadata": {
    "collapsed": false
   },
   "outputs": [],
   "source": [
    "# file directories\n",
    "workingDirectory = '/home/jenhan/analysis/atac_analysis_kupffer/'\n",
    "\n",
    "genomes = ['hg19','mm10', 'hg38']\n",
    "scratchDirectory = workingDirectory + '/scratch/'\n",
    "os.chdir(workingDirectory)\n",
    "\n"
   ]
  },
  {
   "cell_type": "markdown",
   "metadata": {},
   "source": [
    "### ATAC-seq"
   ]
  },
  {
   "cell_type": "code",
   "execution_count": 9,
   "metadata": {
    "collapsed": false
   },
   "outputs": [],
   "source": [
    "\n",
    "tagDirPath = workingDirectory + '/tag_directories_atac/'\n",
    "\n",
    "strains = []\n",
    "treatments = []\n",
    "owners = []\n",
    "dates = []\n",
    "originalNames = []\n",
    "cellTypes = []\n",
    "for f in os.listdir(tagDirPath):\n",
    "    originalName = f\n",
    "    metaDataTokens = f.split('_')\n",
    "    \n",
    "    originalNames.append(originalName)\n",
    "    # grab metadata from string tokens\n",
    "    strain = metaDataTokens[0].strip()\n",
    "    cellType = metaDataTokens[1].strip()\n",
    "    treatment = metaDataTokens[3].strip().split('-')[0]\n",
    "    owner = metaDataTokens[5].strip()\n",
    "    date = metaDataTokens[4].strip()\n",
    "    \n",
    "    # append to overall lists\n",
    "    strains.append(strain)\n",
    "    treatments.append(treatment)\n",
    "    owners.append(owner)\n",
    "    dates.append(date)\n",
    "    cellTypes.append(cellType)\n",
    "metadata_frame = pd.DataFrame([strains, \n",
    "                                  cellTypes,\n",
    "                                  treatments, \n",
    "                                  owners, \n",
    "                                  originalNames, \n",
    "                                  ]).transpose()\n",
    "metadata_frame.columns = ['strain', \n",
    "                          'Cell Type',\n",
    "                         'treatment',\n",
    "                         'owner', \n",
    "                         'sampleName']\n",
    "\n",
    "# ### read in log files ###\n",
    "\n",
    "# create data frame summarizing mapping quality logs\n",
    "\n",
    "# from tagInfo.txt\n",
    "_originalNames =[]\n",
    "_totalReads = []\n",
    "_fragmentLengthEstimate =[]\n",
    "_peakSizeEstimate = []\n",
    "_tagsPerBP = []\n",
    "_averageTagsPerPosition = []\n",
    "_averageTagLength = []\n",
    "_averageFragmentGCcontent = []\n",
    "\n",
    "\n",
    "for tagdir in os.listdir(tagDirPath):\n",
    "    with open(tagDirPath + '/' + tagdir + '/tagInfo.txt') as f:\n",
    "        data = f.readlines()\n",
    "        _originalNames.append(tagdir)\n",
    "        _fragmentLengthEstimate.append(float(data[2].strip().split('=')[1]))\n",
    "        _peakSizeEstimate.append(float(data[3].strip().split('=')[1]))\n",
    "        _tagsPerBP.append(float(data[4].strip().split('=')[1]))\n",
    "        _averageTagsPerPosition.append(float(data[5].strip().split('=')[1]))\n",
    "        _averageTagLength.append(float(data[6].strip().split('=')[1]))\n",
    "        _averageFragmentGCcontent.append(float(data[8].strip().split('=')[1]))\n",
    "        _totalReads.append(float(data[1].split()[2]))\n",
    "mappingStats_frame = pd.DataFrame([_originalNames,\n",
    "                                   _totalReads, \n",
    "\n",
    "                                   _fragmentLengthEstimate,\n",
    "                                   _peakSizeEstimate,\n",
    "                                   _tagsPerBP,\n",
    "                                   _averageTagsPerPosition,\n",
    "                                   _averageTagLength,\n",
    "                                   _averageFragmentGCcontent,\n",
    "                                  ]).transpose()\n",
    "mappingStats_frame.columns = ['sampleName',\n",
    "                              'totalReads', \n",
    "                              'fragmentLengthEstimate',\n",
    "                              'peakSizeEstimate',\n",
    "                              'tagsPerBP',\n",
    "                              'averageTagsPerPosition',\n",
    "                              'averageTagLength',\n",
    "                              'averageFragmentGCcontent']\n",
    "\n",
    "summary_frame = metadata_frame.merge(mappingStats_frame, on='sampleName')\n",
    "\n",
    "\n",
    "summary_frame.index  = pd.MultiIndex.from_arrays([list(summary_frame['strain'].values), \n",
    "                                                  list(summary_frame['Cell Type'].values), \n",
    "                                                  list(summary_frame['treatment'].values)])\n",
    "summary_frame = summary_frame.sort()\n",
    "summary_frame.to_csv('qc_metrics_atac.tsv', sep='\\t', index=False)\n",
    "summary_frame_atac = summary_frame.copy()"
   ]
  },
  {
   "cell_type": "markdown",
   "metadata": {},
   "source": [
    "## Filter Data on QC Metrics"
   ]
  },
  {
   "cell_type": "code",
   "execution_count": 10,
   "metadata": {
    "collapsed": false,
    "scrolled": false
   },
   "outputs": [
    {
     "data": {
      "image/png": "[encoded data removed]",
      "text/plain": [
       "<matplotlib.figure.Figure at 0x7faf4a5953c8>"
      ]
     },
     "metadata": {},
     "output_type": "display_data"
    },
    {
     "data": {
      "image/png": "[encoded data removed]",
      "text/plain": [
       "<matplotlib.figure.Figure at 0x7faf476e9d30>"
      ]
     },
     "metadata": {},
     "output_type": "display_data"
    }
   ],
   "source": [
    "sns.distplot(summary_frame_atac['totalReads'], bins=20, kde=True)\n",
    "plt.title('Distribution of Mapped Reads (ATAC)')\n",
    "plt.xlabel('Mapped Reads')\n",
    "plt.ylabel('Frequency')\n",
    "plt.show()\n",
    "\n",
    "sns.distplot(summary_frame_atac['averageTagsPerPosition'], bins=20)\n",
    "plt.title('Distribution of Clonality (ATAC)')\n",
    "plt.xlabel('Clonality')\n",
    "plt.show()\n"
   ]
  },
  {
   "cell_type": "code",
   "execution_count": 11,
   "metadata": {
    "collapsed": true
   },
   "outputs": [],
   "source": [
    "filtered_summary_frame_atac = summary_frame_atac.copy()"
   ]
  },
  {
   "cell_type": "code",
   "execution_count": 12,
   "metadata": {
    "collapsed": true
   },
   "outputs": [],
   "source": [
    "# filter samples according to threshold for the fraction of uniquely mapped reads\n",
    "readsThreshold = 1000000\n",
    "pbcThreshold=0.0\n",
    "# gcThreshold=0.10\n",
    "clonalityThreshold = 20\n",
    "# spotThreshold = 0.005"
   ]
  },
  {
   "cell_type": "markdown",
   "metadata": {},
   "source": [
    "## ATAC-seq Peak Calling"
   ]
  },
  {
   "cell_type": "code",
   "execution_count": 13,
   "metadata": {
    "collapsed": false
   },
   "outputs": [
    {
     "name": "stdout",
     "output_type": "stream",
     "text": [
      "findPeaks /home/jenhan/analysis/atac_analysis_kupffer//tag_directories_atac//C57Bl6_Kupffer_ATAC_Vehicle_JSS_15-08-11 -L 0 -C 0 -fdr 0.9 -style factor -size 200 -minDist 200  > ./peak_files/C57Bl6_Kupffer_ATAC_Vehicle_JSS_15-08-11_peaks.tsv &\n",
      "findPeaks /home/jenhan/analysis/atac_analysis_kupffer//tag_directories_atac//C57Bl6_Kupffer_ATAC_Vehicle_JSS_15-08-12 -L 0 -C 0 -fdr 0.9 -style factor -size 200 -minDist 200  > ./peak_files/C57Bl6_Kupffer_ATAC_Vehicle_JSS_15-08-12_peaks.tsv &\n"
     ]
    }
   ],
   "source": [
    "### call peaks ###\n",
    "peakDirectory = './peak_files'\n",
    "# iterate through each individual file\n",
    "if not os.path.exists(peakDirectory):\n",
    "    os.makedirs(peakDirectory)\n",
    "\n",
    "# make peak files with simplified names\n",
    "\n",
    "for sn in filtered_summary_frame_atac['sampleName'].values:\n",
    "    \n",
    "    peakFileName = sn + \"_peaks.tsv\"\n",
    "\n",
    "    print('findPeaks ' + tagDirPath + '/' + sn + \n",
    "                     ' -L 0 -C 0 -fdr 0.9' +\n",
    "                     ' -style factor -size 200 -minDist 200  > ' + \n",
    "                     peakDirectory +'/' + peakFileName + ' &')\n",
    "\n"
   ]
  },
  {
   "cell_type": "code",
   "execution_count": 14,
   "metadata": {
    "collapsed": false
   },
   "outputs": [
    {
     "name": "stderr",
     "output_type": "stream",
     "text": [
      "\tFragment Length = 131\n",
      "\tFragment Length = 141\n",
      "\tTotal Tags = 13789367.0\n",
      "\tTotal Tags = 12867906.0\n",
      "\tTags per bp = 0.006895\n",
      "\tTags per bp = 0.006434\n",
      "\tMax tags per bp set automatically to 1.0\n",
      "\tMax tags per bp set automatically to 1.0\n",
      "\tFinding peaks of size 200, no closer than 200\n",
      "\tFinding peaks of size 200, no closer than 200\n",
      "\t\tFinding peaks on chr1 (minCount=0.3), total tags positions = 817389\n",
      "\t\tFinding peaks on chr1 (minCount=0.4), total tags positions = 900314\n",
      "\t\tFinding peaks on chr2 (minCount=0.3), total tags positions = 824071\n",
      "\t\tFinding peaks on chr2 (minCount=0.4), total tags positions = 909406\n",
      "\t\tFinding peaks on chr3 (minCount=0.3), total tags positions = 667611\n",
      "\t\tFinding peaks on chr3 (minCount=0.4), total tags positions = 735815\n",
      "\t\tFinding peaks on chr4 (minCount=0.3), total tags positions = 665029\n",
      "\t\tFinding peaks on chr4 (minCount=0.4), total tags positions = 744557\n",
      "\t\tFinding peaks on chr5 (minCount=0.3), total tags positions = 635108\n",
      "\t\tFinding peaks on chr5 (minCount=0.4), total tags positions = 711484\n",
      "\t\tFinding peaks on chr6 (minCount=0.3), total tags positions = 641604\n",
      "\t\tFinding peaks on chr6 (minCount=0.4), total tags positions = 713495\n",
      "\t\tFinding peaks on chr7 (minCount=0.3), total tags positions = 600999\n",
      "\t\tFinding peaks on chr7 (minCount=0.4), total tags positions = 676181\n",
      "\t\tFinding peaks on chr8 (minCount=0.3), total tags positions = 553847\n",
      "\t\tFinding peaks on chr9 (minCount=0.3), total tags positions = 521207\n",
      "\t\tFinding peaks on chr8 (minCount=0.4), total tags positions = 626805\n",
      "\t\tFinding peaks on chr10 (minCount=0.3), total tags positions = 629035\n",
      "\t\tFinding peaks on chr9 (minCount=0.4), total tags positions = 586641\n",
      "\t\tFinding peaks on chr11 (minCount=0.3), total tags positions = 567402\n",
      "\t\tFinding peaks on chr10 (minCount=0.4), total tags positions = 688366\n",
      "\t\tFinding peaks on chr12 (minCount=0.3), total tags positions = 480173\n",
      "\t\tFinding peaks on chr11 (minCount=0.4), total tags positions = 645268\n",
      "\t\tFinding peaks on chr13 (minCount=0.3), total tags positions = 514371\n",
      "\t\tFinding peaks on chr12 (minCount=0.4), total tags positions = 527719\n",
      "\t\tFinding peaks on chr14 (minCount=0.3), total tags positions = 469325\n",
      "\t\tFinding peaks on chr13 (minCount=0.4), total tags positions = 558503\n",
      "\t\tFinding peaks on chr15 (minCount=0.3), total tags positions = 454036\n",
      "\t\tFinding peaks on chr16 (minCount=0.3), total tags positions = 449910\n",
      "\t\tFinding peaks on chr14 (minCount=0.4), total tags positions = 520698\n",
      "\t\tFinding peaks on chr17 (minCount=0.3), total tags positions = 454922\n",
      "\t\tFinding peaks on chr15 (minCount=0.4), total tags positions = 514566\n",
      "\t\tFinding peaks on chr18 (minCount=0.3), total tags positions = 391460\n",
      "\t\tFinding peaks on chr16 (minCount=0.4), total tags positions = 501905\n",
      "\t\tFinding peaks on chr19 (minCount=0.3), total tags positions = 278009\n",
      "\t\tFinding peaks on chrX (minCount=0.3), total tags positions = 412634\n",
      "\t\tFinding peaks on chr17 (minCount=0.4), total tags positions = 506441\n",
      "\t\tFinding peaks on chrY (minCount=0.3), total tags positions = 413\n",
      "\t\tFinding peaks on chr1_GL456210_random (minCount=0.3), total tags positions = 76\n",
      "\t\tFinding peaks on chr1_GL456211_random (minCount=0.3), total tags positions = 166\n",
      "\t\tFinding peaks on chr1_GL456212_random (minCount=0.3), total tags positions = 101\n",
      "\t\tFinding peaks on chr1_GL456221_random (minCount=0.3), total tags positions = 89\n",
      "\t\tFinding peaks on chr4_GL456216_random (minCount=0.3), total tags positions = 766\n",
      "\t\tFinding peaks on chr4_JH584292_random (minCount=0.3), total tags positions = 64\n",
      "\t\tFinding peaks on chr4_JH584293_random (minCount=0.3), total tags positions = 1\n",
      "\t\tFinding peaks on chr4_JH584294_random (minCount=0.3), total tags positions = 2\n",
      "\t\tFinding peaks on chr4_JH584295_random (minCount=0.3), total tags positions = 42\n",
      "\t\tFinding peaks on chr5_GL456354_random (minCount=0.3), total tags positions = 9\n",
      "\t\tFinding peaks on chr5_JH584296_random (minCount=0.3), total tags positions = 4\n",
      "\t\tFinding peaks on chr5_JH584297_random (minCount=0.3), total tags positions = 8\n",
      "\t\tFinding peaks on chr5_JH584298_random (minCount=0.3), total tags positions = 1\n",
      "\t\tFinding peaks on chr5_JH584299_random (minCount=0.3), total tags positions = 100\n",
      "\t\tFinding peaks on chr7_GL456219_random (minCount=0.3), total tags positions = 1\n",
      "\t\tFinding peaks on chrUn_GL456239 (minCount=0.3), total tags positions = 396\n",
      "\t\tFinding peaks on chrUn_GL456359 (minCount=0.3), total tags positions = 236\n",
      "\t\tFinding peaks on chrUn_GL456360 (minCount=0.3), total tags positions = 35\n",
      "\t\tFinding peaks on chrUn_GL456366 (minCount=0.3), total tags positions = 62\n",
      "\t\tFinding peaks on chrUn_GL456367 (minCount=0.3), total tags positions = 88\n",
      "\t\tFinding peaks on chrUn_GL456368 (minCount=0.3), total tags positions = 41\n",
      "\t\tFinding peaks on chrUn_GL456370 (minCount=0.3), total tags positions = 191\n",
      "\t\tFinding peaks on chrUn_GL456372 (minCount=0.3), total tags positions = 25\n",
      "\t\tFinding peaks on chrUn_GL456378 (minCount=0.3), total tags positions = 103\n",
      "\t\tFinding peaks on chrUn_GL456379 (minCount=0.3), total tags positions = 157\n",
      "\t\tFinding peaks on chrUn_GL456381 (minCount=0.3), total tags positions = 133\n",
      "\t\tFinding peaks on chrUn_GL456382 (minCount=0.3), total tags positions = 42\n",
      "\t\tFinding peaks on chrUn_GL456383 (minCount=0.3), total tags positions = 127\n",
      "\t\tFinding peaks on chrUn_GL456385 (minCount=0.3), total tags positions = 58\n",
      "\t\tFinding peaks on chrUn_GL456387 (minCount=0.3), total tags positions = 182\n",
      "\t\tFinding peaks on chrUn_GL456389 (minCount=0.3), total tags positions = 153\n",
      "\t\tFinding peaks on chrUn_GL456390 (minCount=0.3), total tags positions = 100\n",
      "\t\tFinding peaks on chrUn_GL456392 (minCount=0.3), total tags positions = 383\n",
      "\t\tFinding peaks on chrUn_GL456393 (minCount=0.3), total tags positions = 357\n",
      "\t\tFinding peaks on chrUn_GL456394 (minCount=0.3), total tags positions = 100\n",
      "\t\tFinding peaks on chrUn_GL456396 (minCount=0.3), total tags positions = 115\n",
      "\t\tFinding peaks on chrUn_JH584304 (minCount=0.3), total tags positions = 8231\n",
      "\t\tFinding peaks on chrX_GL456233_random (minCount=0.3), total tags positions = 944\n",
      "\t\tFinding peaks on chr18 (minCount=0.4), total tags positions = 425709\n",
      "\t\tFinding peaks on chr19 (minCount=0.4), total tags positions = 311077\n",
      "\t\tFinding peaks on chrX (minCount=0.4), total tags positions = 304648\n",
      "\t\tFinding peaks on chrY (minCount=0.4), total tags positions = 10993\n",
      "\t\tFinding peaks on chr1_GL456210_random (minCount=0.4), total tags positions = 118\n",
      "\t\tFinding peaks on chr1_GL456211_random (minCount=0.4), total tags positions = 230\n",
      "\t\tFinding peaks on chr1_GL456212_random (minCount=0.4), total tags positions = 139\n",
      "\t\tFinding peaks on chr1_GL456221_random (minCount=0.4), total tags positions = 137\n",
      "\t\tFinding peaks on chr4_GL456216_random (minCount=0.4), total tags positions = 881\n",
      "\t\tFinding peaks on chr4_JH584292_random (minCount=0.4), total tags positions = 56\n",
      "\t\tFinding peaks on chr4_JH584295_random (minCount=0.4), total tags positions = 70\n",
      "\t\tFinding peaks on chr5_GL456354_random (minCount=0.4), total tags positions = 15\n",
      "\t\tFinding peaks on chr5_JH584296_random (minCount=0.4), total tags positions = 8\n",
      "\t\tFinding peaks on chr5_JH584297_random (minCount=0.4), total tags positions = 4\n",
      "\t\tFinding peaks on chr5_JH584299_random (minCount=0.4), total tags positions = 138\n",
      "\t\tFinding peaks on chrUn_GL456239 (minCount=0.4), total tags positions = 478\n",
      "\t\tFinding peaks on chrUn_GL456359 (minCount=0.4), total tags positions = 185\n",
      "\t\tFinding peaks on chrUn_GL456360 (minCount=0.4), total tags positions = 49\n",
      "\t\tFinding peaks on chrUn_GL456366 (minCount=0.4), total tags positions = 74\n",
      "\t\tFinding peaks on chrUn_GL456367 (minCount=0.4), total tags positions = 71\n",
      "\t\tFinding peaks on chrUn_GL456368 (minCount=0.4), total tags positions = 50\n",
      "\t\tFinding peaks on chrUn_GL456370 (minCount=0.4), total tags positions = 180\n",
      "\t\tFinding peaks on chrUn_GL456372 (minCount=0.4), total tags positions = 28\n",
      "\t\tFinding peaks on chrUn_GL456378 (minCount=0.4), total tags positions = 114\n",
      "\t\tFinding peaks on chrUn_GL456379 (minCount=0.4), total tags positions = 92\n",
      "\t\tFinding peaks on chrUn_GL456381 (minCount=0.4), total tags positions = 96\n",
      "\t\tFinding peaks on chrUn_GL456382 (minCount=0.4), total tags positions = 22\n",
      "\t\tFinding peaks on chrUn_GL456383 (minCount=0.4), total tags positions = 158\n",
      "\t\tFinding peaks on chrUn_GL456385 (minCount=0.4), total tags positions = 84\n",
      "\t\tFinding peaks on chrUn_GL456387 (minCount=0.4), total tags positions = 219\n",
      "\t\tFinding peaks on chrUn_GL456389 (minCount=0.4), total tags positions = 141\n",
      "\t\tFinding peaks on chrUn_GL456390 (minCount=0.4), total tags positions = 105\n",
      "\t\tFinding peaks on chrUn_GL456392 (minCount=0.4), total tags positions = 401\n",
      "\t\tFinding peaks on chrUn_GL456393 (minCount=0.4), total tags positions = 389\n",
      "\t\tFinding peaks on chrUn_GL456394 (minCount=0.4), total tags positions = 68\n",
      "\t\tFinding peaks on chrUn_GL456396 (minCount=0.4), total tags positions = 88\n",
      "\t\tFinding peaks on chrUn_JH584304 (minCount=0.4), total tags positions = 8233\n",
      "\t\tFinding peaks on chrX_GL456233_random (minCount=0.4), total tags positions = 629\n",
      "\t\tFinding peaks on chrY_JH584301_random (minCount=0.4), total tags positions = 1\n",
      "\t\tTags Used for cluster (less clonal tags) = 11042244.0 / 12867906.0\n",
      "\tExpected tags per peak = 1.104224 (tbp = 0.005521)\n",
      "\t\tThreshold\tPeak Count\tExpected Peak Count\tFDR\tPoisson\n",
      "\t\t10\t61248.000\t10.935\t1.79e-04\t2.73e-07\n",
      "\t\t9\t68755.000\t100.112\t1.46e-03\t2.50e-06\n",
      "\t\t8\t78953.000\t826.953\t1.05e-02\t2.07e-05\n",
      "\t\t7\t94324.000\t6092.845\t6.46e-02\t1.52e-04\n",
      "\t\t6\t123416.000\t39474.879\t3.20e-01\t9.87e-04\n",
      "\t\t5\t194326.000\t220862.121\t1.00e+00\t5.52e-03\n",
      "\t\t4\t394792.000\t1042195.450\t1.00e+00\t2.61e-02\n",
      "\t\t3\t938313.000\t4017436.311\t1.00e+00\t1.00e-01\n",
      "\t\t2\t2052924.000\t12100687.660\t1.00e+00\t3.03e-01\n",
      "\t\t1\t3908513.000\t26741284.118\t1.00e+00\t6.69e-01\n",
      "\t\t0\t3908513.000\t39999999.884\t1.00e+00\t1.00e+00\n",
      "\t90.00% FDR Threshold set at 6.0 (poisson pvalue ~ 9.87e-04)\n",
      "\t123416 peaks passed threshold\n",
      "\t\tTags Used for cluster (less clonal tags) = 12134342.0 / 13789367.0\n",
      "\tExpected tags per peak = 1.213434 (tbp = 0.006067)\n",
      "\t\tThreshold\tPeak Count\tExpected Peak Count\tFDR\tPoisson\n",
      "\t\t10\t60868.000\t25.451\t4.18e-04\t6.36e-07\n",
      "\t\t9\t69584.000\t212.284\t3.05e-03\t5.31e-06\n",
      "\t\t8\t82043.000\t1598.024\t1.95e-02\t4.00e-05\n",
      "\t\t7\t102526.000\t10734.005\t1.05e-01\t2.68e-04\n",
      "\t\t6\t143790.000\t63437.219\t4.41e-01\t1.59e-03\n",
      "\t\t5\t244741.000\t324035.848\t1.00e+00\t8.10e-03\n",
      "\t\t4\t511323.000\t1397842.043\t1.00e+00\t3.49e-02\n",
      "\t\t3\t1154628.000\t4937568.159\t1.00e+00\t1.23e-01\n",
      "\t\t2\t2316636.000\t13688910.745\t1.00e+00\t3.42e-01\n",
      "\t\t1\t4087699.000\t28113001.417\t1.00e+00\t7.03e-01\n",
      "\t\t0\t4087699.000\t39999999.857\t1.00e+00\t1.00e+00\n",
      "\t90.00% FDR Threshold set at 6.0 (poisson pvalue ~ 1.59e-03)\n",
      "\t143790 peaks passed threshold\n",
      "\tTotal Peaks identified = 123416\n",
      "\tCentering peaks of size 200 using a fragment length of 141\n",
      "\tTotal Peaks identified = 143790\n",
      "\tCentering peaks of size 200 using a fragment length of 131\n"
     ]
    }
   ],
   "source": [
    "%%bash\n",
    "findPeaks /home/jenhan/analysis/atac_analysis_kupffer//tag_directories_atac//C57Bl6_Kupffer_ATAC_Vehicle_JSS_15-08-11 -L 0 -C 0 -fdr 0.9 -style factor -size 200 -minDist 200  > ./peak_files/C57Bl6_Kupffer_ATAC_Vehicle_JSS_15-08-11_peaks.tsv &\n",
    "findPeaks /home/jenhan/analysis/atac_analysis_kupffer//tag_directories_atac//C57Bl6_Kupffer_ATAC_Vehicle_JSS_15-08-12 -L 0 -C 0 -fdr 0.9 -style factor -size 200 -minDist 200  > ./peak_files/C57Bl6_Kupffer_ATAC_Vehicle_JSS_15-08-12_peaks.tsv &"
   ]
  },
  {
   "cell_type": "markdown",
   "metadata": {},
   "source": [
    "### Run IDR"
   ]
  },
  {
   "cell_type": "code",
   "execution_count": 15,
   "metadata": {
    "collapsed": false
   },
   "outputs": [
    {
     "name": "stdout",
     "output_type": "stream",
     "text": [
      "rm: cannot remove ‘./idr_atac/*’: No such file or directory\n",
      "python /home/jenhan/code/seq_merge_pipe/run_idr_homerPeaks.py ./peak_files/C57Bl6_Kupffer_ATAC_Vehicle_JSS_15-08-11_peaks.tsv ./peak_files/C57Bl6_Kupffer_ATAC_Vehicle_JSS_15-08-12_peaks.tsv ./idr_atac/ &\n"
     ]
    }
   ],
   "source": [
    "! rm ./idr_atac/*\n",
    "idrDirectory = './idr_atac/'\n",
    "\n",
    "! if [ ! -d $idrDirectory ]; then mkdir $idrDirectory; fi\n",
    "\n",
    "replicateIndices = []\n",
    "for index in set(filtered_summary_frame_atac.index):\n",
    "    factor_treatment_rows = filtered_summary_frame_atac.loc[index]\n",
    "    if len(factor_treatment_rows) > 1:       \n",
    "        replicateIndices.append(index)\n",
    "\n",
    "# homer peaks\n",
    "for ri in replicateIndices:\n",
    "    samples = filtered_summary_frame_atac.ix[ri, 'sampleName'].values\n",
    "    for i in range(len(samples) - 1):\n",
    "        for j in range(i+1, len(samples)):\n",
    "            sample1 = samples[i]\n",
    "            sample2 = samples[j]\n",
    "            peakFile1 = peakDirectory + '/' + sample1 + '_peaks.tsv'\n",
    "            peakFile2 = peakDirectory + '/' + sample2 + '_peaks.tsv'\n",
    "            !echo \"python /home/jenhan/code/seq_merge_pipe/run_idr_homerPeaks.py $peakFile1 $peakFile2 $idrDirectory &\"\n",
    "            "
   ]
  },
  {
   "cell_type": "code",
   "execution_count": 16,
   "metadata": {
    "collapsed": false
   },
   "outputs": [
    {
     "name": "stdout",
     "output_type": "stream",
     "text": [
      "Performing IDR analysis on the following samples: ./peak_files/C57Bl6_Kupffer_ATAC_Vehicle_JSS_15-08-11_peaks.tsv, ./peak_files/C57Bl6_Kupffer_ATAC_Vehicle_JSS_15-08-12_peaks.tsv\n",
      "Output files will be written to: ./idr_atac/\n",
      "Using the following IDR threshold: 0.05\n",
      "Peaks will be ranked using: findPeaks Score\n",
      "Other available scoreColumns: ['Normalized Tag Count' 'focus ratio' 'findPeaks Score' 'Score']\n",
      "idr --samples ./idr_atac//C57Bl6_Kupffer_ATAC_Vehicle_JSS_15-08-11_peaks.narrowPeak ./idr_atac//C57Bl6_Kupffer_ATAC_Vehicle_JSS_15-08-12_peaks.narrowPeak --output-file ./idr_atac//C57Bl6_Kupffer_ATAC_Vehicle_JSS_15-08-11_peaks_C57Bl6_Kupffer_ATAC_Vehicle_JSS_15-08-12_peaks_idr.out --plot --idr-threshold 0.05 &\n"
     ]
    },
    {
     "name": "stderr",
     "output_type": "stream",
     "text": [
      "Initial parameter values: [0.10 1.00 0.20 0.50]\n",
      "Final parameter values: [2.19 1.45 0.92 0.65]\n",
      "/bioinformatics/software/anaconda3/lib/python3.4/site-packages/idr-2.0.2-py3.4-linux-x86_64.egg/idr/idr.py:415: FutureWarning: comparison to `None` will result in an elementwise object comparison in the future.\n",
      "  if localIDRs == None or IDRs == None:\n",
      "Number of reported peaks - 44021/78122 (56.3%)\n",
      "\n",
      "Number of peaks passing IDR cutoff of 0.05 - 44021/78122 (56.3%)\n",
      "\n"
     ]
    }
   ],
   "source": [
    "%%bash\n",
    "python /home/jenhan/code/seq_merge_pipe/run_idr_homerPeaks.py ./peak_files/C57Bl6_Kupffer_ATAC_Vehicle_JSS_15-08-11_peaks.tsv ./peak_files/C57Bl6_Kupffer_ATAC_Vehicle_JSS_15-08-12_peaks.tsv ./idr_atac/ &"
   ]
  },
  {
   "cell_type": "code",
   "execution_count": 17,
   "metadata": {
    "collapsed": false
   },
   "outputs": [
    {
     "name": "stdout",
     "output_type": "stream",
     "text": [
      "cp ./idr_atac//C57Bl6_Kupffer_ATAC_Vehicle_JSS_15-08-11_peaks_C57Bl6_Kupffer_ATAC_Vehicle_JSS_15-08-12_peaks_idr.tsv ./idr_peak_files/C57Bl6_Kupffer_Vehicle_peaks.tsv\r\n"
     ]
    }
   ],
   "source": [
    "idrDirectory = './idr_atac/'\n",
    "! if [ ! -d ./idr_peak_files ]; then mkdir ./idr_peak_files;fi\n",
    "count_dict = {}\n",
    "for f in os.listdir(idrDirectory):\n",
    "    if 'idr.tsv' in f:\n",
    "        tokens = f.split('_')\n",
    "        strain = tokens[0]\n",
    "        cellType = tokens[1]\n",
    "        treatment = tokens[3].split('-')[0]\n",
    "        condition = '_'.join([strain, cellType, treatment])\n",
    "        with open(idrDirectory + f) as file:\n",
    "            data = file.readlines()\n",
    "        numPeaks = len(data) - 1\n",
    "        if not condition in count_dict:\n",
    "            count_dict[condition] = (f, numPeaks)\n",
    "        else:\n",
    "            if numPeaks > count_dict[condition][1]:\n",
    "                count_dict[condition] = (f, numPeaks)        \n",
    "for key in count_dict:\n",
    "    idrResult = count_dict[key][0]\n",
    "    peakFileName = key+'_peaks.tsv'\n",
    "\n",
    "    !echo cp $idrDirectory/$idrResult ./idr_peak_files/$peakFileName\n",
    "    !cp $idrDirectory/$idrResult ./idr_peak_files/$peakFileName"
   ]
  },
  {
   "cell_type": "code",
   "execution_count": 18,
   "metadata": {
    "collapsed": false
   },
   "outputs": [],
   "source": [
    "# read in peak data data\n",
    "peak_frame = pd.read_csv('./idr_peak_files/C57Bl6_Kupffer_Vehicle_peaks.tsv' , sep='\\t',\n",
    "                         skiprows=1,\n",
    "                         names=['ID', 'chr', 'start', 'end', 'strand', 'idrScore', 'peakScore'])\n",
    "peak_frame = peak_frame.fillna('0')\n",
    "\n",
    "peak_frame.index = peak_frame['ID'].values\n",
    "\n",
    "# remove peaks in unknown/random chromosomes\n",
    "peak_frame = peak_frame[~peak_frame['chr'].str.contains('random')]\n",
    "peak_frame = peak_frame[~peak_frame['chr'].str.contains('Un')]\n",
    "\n"
   ]
  },
  {
   "cell_type": "markdown",
   "metadata": {},
   "source": [
    "### Create background peaks from genomic sequences from each chromosome"
   ]
  },
  {
   "cell_type": "code",
   "execution_count": 21,
   "metadata": {
    "collapsed": false
   },
   "outputs": [],
   "source": [
    "! if [ ! -d ./group_by_chromosome ]; then mkdir ./group_by_chromosome; fi\n",
    "! rm -rf ./group_by_chromosome/*\n",
    "\n",
    "! if [ ! -d ./group ]; then mkdir ./group; fi\n",
    "! rm -rf ./group/*"
   ]
  },
  {
   "cell_type": "code",
   "execution_count": null,
   "metadata": {
    "collapsed": false
   },
   "outputs": [
    {
     "name": "stdout",
     "output_type": "stream",
     "text": [
      "chr19 (1337, 7)\n",
      "chr6 (2489, 7)\n",
      "chr7 (2659, 7)\n",
      "chr18 (1407, 7)\n",
      "chr5 (2660, 7)\n",
      "chr4 (2688, 7)\n",
      "chr1 (3039, 7)\n",
      "chr3 (2384, 7)\n",
      "chr2 (3486, 7)\n",
      "chr14 (1605, 7)\n",
      "chrX (894, 7)\n",
      "chr15 (1769, 7)\n",
      "chr17"
     ]
    }
   ],
   "source": [
    "peakSize = 200 # size of artificial background peaks\n",
    "N_threshold = 0.5 # throw away background peaks containing greater than this fraction of N\n",
    "\n",
    "tile_peak_file = open('./group/merged_tile_peaks.tsv','w')\n",
    "\n",
    "tile_peak_file.write('\\t'.join(['#ID', 'chr', 'start', 'end', 'strand\\n']))\n",
    "\n",
    "for f in os.listdir('/home/jenhan/analysis/atac_analysis/mm10_genome/'):\n",
    "    if '.fa' in f and not f in ['chrY.fa', 'chrM.fa'] :\n",
    "        current_chromosome = f.split('.')[0]\n",
    "        \n",
    "        # create seperate peak file containing just this chromosome\n",
    "        if not os.path.isdir('./group_by_chromosome/'+current_chromosome):\n",
    "            os.mkdir('./group_by_chromosome/'+current_chromosome)\n",
    "        current_tile_peak_file = open(\n",
    "            './group_by_chromosome/'+ current_chromosome + '/' + current_chromosome +'_tile_peaks.tsv','w')\n",
    "        current_tile_peak_file.write('\\t'.join(['#ID', 'chr', 'start', 'end', 'strand\\n']))\n",
    "        \n",
    "        # read in fastq file line by line\n",
    "        with open('/home/jenhan/analysis/atac_analysis/mm10_genome/' + f) as chromosome_file:\n",
    "            data = chromosome_file.readlines()\n",
    "        genome_seq = ''\n",
    "        for line in data[1:]:\n",
    "            genome_seq += line.strip().upper()\n",
    "        genome_seq_size = len(genome_seq)\n",
    "        \n",
    "        # create array indicating if position is N\n",
    "        is_N = [True if x == 'N' else False for x in genome_seq]\n",
    "\n",
    "        # create array indicating if position overlaps with a peak\n",
    "        # simultaneously write ATAC-seq peaks\n",
    "        is_peak = [False for x in genome_seq]\n",
    "        current_peak_frame = peak_frame[peak_frame['chr']==current_chromosome]\n",
    "        \n",
    "        print(current_chromosome, current_peak_frame.shape)\n",
    "        positions = list(zip(current_peak_frame['ID'].values, current_peak_frame['start'].values, current_peak_frame['end'].values))\n",
    "        for pos in positions:\n",
    "            \n",
    "            ID = pos[0]\n",
    "            start = pos[1] - 1\n",
    "            end = pos[2]\n",
    "            for i in range(start, end):\n",
    "                is_peak[i] = True\n",
    "            tile_peak_file.write('\\t'.join([ID, current_chromosome, str(start), str(end), '+\\n']))  \n",
    "            current_tile_peak_file.write('\\t'.join([ID, current_chromosome, str(start), str(end), '+\\n']))  \n",
    "        \n",
    "        # write background peak files\n",
    "        for i in range(0,genome_seq_size, peakSize):\n",
    "            n_count = np.sum(is_N[i:i+peakSize+1])\n",
    "            if not n_count > peakSize * N_threshold:\n",
    "                if not np.sum(is_peak[i:i+peakSize+1]) > 0:\n",
    "                    tile_peak_file.write('\\t'.join(['tile_'+str(i), current_chromosome, str(i), str(i+peakSize), '+\\n']))        \n",
    "                    current_tile_peak_file.write('\\t'.join([current_chromosome + '_tile_'+str(i), current_chromosome, str(i), str(i+peakSize), '+\\n']))        \n",
    "\n",
    "        current_tile_peak_file.close()\n",
    "tile_peak_file.close()  "
   ]
  },
  {
   "cell_type": "markdown",
   "metadata": {},
   "source": [
    "### Extract genomic sequences for each set of peak files"
   ]
  },
  {
   "cell_type": "code",
   "execution_count": null,
   "metadata": {
    "collapsed": false
   },
   "outputs": [],
   "source": [
    "peakDirectory =  './group_by_chromosome/'\n",
    "for chrom in os.listdir(peakDirectory):\n",
    "    peakPath = peakDirectory + chrom + '/' + chrom + '_tile_peaks.tsv'\n",
    "    seqPath = peakPath.replace('_peaks.tsv','.fa')\n",
    "    !homerTools extract $peakPath /bioinformatics/homer/data/genomes/mm10 -fa > $seqPath\n",
    "\n",
    "    "
   ]
  },
  {
   "cell_type": "markdown",
   "metadata": {},
   "source": [
    "## Scan Peaks for Motifs"
   ]
  },
  {
   "cell_type": "code",
   "execution_count": null,
   "metadata": {
    "collapsed": false
   },
   "outputs": [],
   "source": [
    "# create a script to scan for motifs using FIMO\n",
    "! if [ ! -d ./fimo_results/ ]; then mkdir ./fimo_results/; fi\n",
    "! if [ ! -d ./fimo_out/ ]; then mkdir ./fimo_out/; fi\n",
    "\n",
    "\n",
    "pthresh = 0.01\n",
    "motif_dir = '/home/jenhan/analysis/cobinding_motif_analysis/fimo_motifs/'\n",
    "fimo_results_dir = './fimo_results'\n",
    "\n",
    "\n",
    "peakDirectory =  './group_by_chromosome/'\n",
    "for chrom in os.listdir(peakDirectory):\n",
    "    scriptFile = open('scanMotifs_' + chrom + '.sh','w')\n",
    "    for m in os.listdir(motif_dir):\n",
    "        fimo_out_dir = './fimo_out/' + chrom + '_' + m.replace('.fimo','')\n",
    "\n",
    "        if 'fimo' in m:\n",
    "            outPath = fimo_results_dir + '/' +chrom + '_'+ m.replace('.fimo','') +'.txt'\n",
    "            scriptFile.write(\n",
    "                'fimo --text --max-stored-scores 2000000 --output-pthresh ' + \n",
    "                str(pthresh)  + ' ' +\n",
    "                motif_dir + '/' + m + ' ./group_by_chromosome/' + chrom + '/' + chrom + '_tile.fa ' +\n",
    "                '> ' + outPath + ' & \\n')\n",
    "    scriptFile.close()\n",
    "\n",
    "\n",
    "\n"
   ]
  },
  {
   "cell_type": "code",
   "execution_count": null,
   "metadata": {
    "collapsed": false
   },
   "outputs": [],
   "source": [
    "%%bash\n",
    "chmod a+x ./scanMotifs*.sh\n",
    "for i in ./scanMotifs*sh; \n",
    "    do echo 'sleeping...';\n",
    "    echo $i;\n",
    "    $i;\n",
    "    sleep 5m;\n",
    "done\n"
   ]
  },
  {
   "cell_type": "markdown",
   "metadata": {},
   "source": [
    "## Read in Score Files"
   ]
  },
  {
   "cell_type": "markdown",
   "metadata": {},
   "source": [
    "### Motif Scores"
   ]
  },
  {
   "cell_type": "code",
   "execution_count": null,
   "metadata": {
    "collapsed": false
   },
   "outputs": [],
   "source": [
    "###  create pickles for each chromosome\n",
    "! if [ ! -d ./pickles ]; then mkdir ./pickles; fi\n",
    "motif_dir = '/home/jenhan/analysis/cobinding_motif_analysis/fimo_motifs/'\n",
    "\n",
    "peakDirectory =  './group_by_chromosome/'\n",
    "scaler = preprocessing.MinMaxScaler()\n",
    "\n",
    "\n",
    "for chrom in sorted(os.listdir(peakDirectory)):\n",
    "    peak_frame = pd.read_csv('./group_by_chromosome/' + chrom + '/' + chrom + '_tile_peaks.tsv', sep='\\t')\n",
    "    columns = peak_frame.columns.values\n",
    "    columns[0] = 'ID'\n",
    "    peak_frame.columns = columns\n",
    "    peak_frame['Factors'] = ['atac' if not 'tile' in x else 'tile' for x in peak_frame['ID'].values]\n",
    "    \n",
    "#     peak_start_dict = dict(zip(peak_frame['ID'].values, peak_frame['start'].values))\n",
    "\n",
    "    motif_score_frame = peak_frame[['ID', 'Factors', 'chr']]\n",
    "    motif_score_frame.index=motif_score_frame['ID'].values\n",
    "\n",
    "#     motif_sequence_frame = peak_frame[['ID', 'Factors', 'chr']]\n",
    "#     motif_sequence_frame.index=motif_score_frame['ID'].values\n",
    "\n",
    "#     motif_strand_frame = peak_frame[['ID', 'Factors', 'chr']]\n",
    "#     motif_strand_frame.index=motif_score_frame['ID'].values\n",
    "\n",
    "#     motif_start_frame = peak_frame[['ID', 'Factors', 'chr']]\n",
    "#     motif_start_frame.index=motif_score_frame['ID'].values\n",
    "\n",
    "#     motif_end_frame = peak_frame[['ID', 'Factors', 'chr']]\n",
    "#     motif_end_frame.index=motif_score_frame['ID'].values\n",
    "\n",
    "#     motif_count_frame = peak_frame[['ID', 'Factors', 'chr']]\n",
    "#     motif_count_frame.index = motif_count_frame['ID'].values\n",
    "\n",
    "    counter=0\n",
    "    for m in sorted(os.listdir(motif_dir)):\n",
    "        counter+=1\n",
    "\n",
    "        if '.fimo' in m:\n",
    "            print(chrom, counter,m)\n",
    "            motif_results = './fimo_results/' + chrom + '_' + m.replace('.fimo','') +'.txt'\n",
    "            fimo_result_frame=pd.read_csv(motif_results, \n",
    "                                          skiprows=1,\n",
    "                                          names=['motif_name', \n",
    "                                                 'peak_id', \n",
    "                                                 'start', \n",
    "                                                 'stop', \n",
    "                                                 'strand', \n",
    "                                                 'score', \n",
    "                                                 'pvalue', \n",
    "                                                 'sequence'],\n",
    "                                          sep='\\t')\n",
    "            motif_name = m.replace('.fimo','')\n",
    "            id_score_dict = {}\n",
    "#             id_strand_dict = {}\n",
    "#             id_sequence_dict = {}\n",
    "#             id_start_dict = {}\n",
    "#             id_end_dict = {}\n",
    "#             id_count_dict = {}\n",
    "            \n",
    "            ids = fimo_result_frame['peak_id'].values\n",
    "            scores = fimo_result_frame['score'].values\n",
    "#             strands = fimo_result_frame['strand'].values\n",
    "#             sequences = fimo_result_frame['sequence']\n",
    "#             starts = fimo_result_frame['start']\n",
    "#             ends = fimo_result_frame['stop']\n",
    "\n",
    "            for i in range(len(ids)):\n",
    "                currentScore = float(scores[i])\n",
    "#                 currentSequence = sequences[i]\n",
    "#                 currentStrand = strands[i]\n",
    "#                 currentStart = int(starts[i])\n",
    "#                 currentEnd = int(ends[i])\n",
    "                if currentScore < 0.0:\n",
    "                    currentScore = 0.0\n",
    "                if ids[i] in id_score_dict:\n",
    "                    if currentScore > id_score_dict[ids[i]]:\n",
    "                        id_score_dict[ids[i]] = currentScore\n",
    "#                         id_sequence_dict[ids[i]] = currentSequence\n",
    "#                         id_strand_dict[ids[i]] = currentStrand\n",
    "#                         id_start_dict[ids[i]] = currentStart\n",
    "#                         id_end_dict[ids[i]] = currentEnd\n",
    "#                         id_count_dict[ids[i]] += 1\n",
    "                else:\n",
    "                    id_score_dict[ids[i]] = currentScore\n",
    "#                     id_sequence_dict[ids[i]] = currentSequence\n",
    "#                     id_strand_dict[ids[i]] = currentStrand\n",
    "#                     id_start_dict[ids[i]] = currentStart\n",
    "#                     id_end_dict[ids[i]] = currentEnd\n",
    "#                     id_count_dict[ids[i]] = 0\n",
    "\n",
    "            motif_score_frame[motif_name] = [id_score_dict[x] if x in id_score_dict else 0 for x in motif_score_frame['ID'].values]\n",
    "#             motif_sequence_frame[motif_name] = [id_sequence_dict[x] if x in id_sequence_dict else '?' for x in motif_sequence_frame['ID'].values]\n",
    "#             motif_strand_frame[motif_name] = [id_strand_dict[x] if x in id_score_dict else '' for x in motif_strand_frame['ID'].values]\n",
    "#             motif_start_frame[motif_name] = [id_start_dict[x] + peak_start_dict[x] if x in id_start_dict else -1 for x in motif_start_frame['ID'].values]\n",
    "#             motif_end_frame[motif_name] = [id_end_dict[x] + peak_start_dict[x] if x in id_end_dict else -1 for x in motif_end_frame['ID'].values]\n",
    "#             motif_count_frame[motif_name] = [id_count_dict[x] if x in id_count_dict else 0 for x in motif_count_frame['ID'].values]\n",
    "\n",
    "    motif_score_frame.to_pickle('./pickles/' + chrom + '_motif_score_frame.pickle')\n",
    "\n",
    "#     motif_sequence_frame.to_pickle('./pickles/' + chrom + '_motif_sequence_frame.pickle')\n",
    "\n",
    "#     motif_strand_frame.to_pickle('./pickles/' + chrom + '_motif_strand_frame.pickle')\n",
    "\n",
    "#     motif_start_frame.to_pickle('./pickles/' + chrom + '_motif_start_frame.pickle')\n",
    "\n",
    "#     motif_end_frame.to_pickle('./pickles/' + chrom + '_motif_end_frame.pickle')\n",
    "\n",
    "#     motif_count_frame.to_pickle('./pickles/' + chrom + '_motif_count_frame.pickle')\n",
    "\n",
    "    normed_motif_frame = pd.DataFrame(scaler.fit_transform(motif_score_frame.ix[:,3:]))\n",
    "    normed_motif_frame.columns = motif_score_frame.columns.values[3:]\n",
    "    normed_motif_frame.index = motif_score_frame.index.values\n",
    "    \n",
    "    normed_motif_frame.to_pickle('./pickles/' + chrom + '_normed_motif_frame.pickle')"
   ]
  },
  {
   "cell_type": "markdown",
   "metadata": {},
   "source": [
    "## Logistic Regression on all Chromosomes"
   ]
  },
  {
   "cell_type": "code",
   "execution_count": null,
   "metadata": {
    "collapsed": false
   },
   "outputs": [],
   "source": [
    "chromosome_coeff_dict = {} # store coefficients for each chromosome {trainingChromosome:{testChromosome:[coefficients]}}\n",
    "chromosome_probas_dict = {} # probabilities for each locus {trainingChromosome:{testChromosome:[probas]}}\n",
    "chromosome_rocAUC_dict = {} # ROC AUC for each chromosome {trainingChromosome:{testChromosome:auc}}\n",
    "chromosome_prAUC_dict = {}\n",
    "peakDirectory = './group_by_chromosome/'\n",
    "chromosomes = sorted(os.listdir(peakDirectory))\n",
    "for training_chromosome in chromosomes:\n",
    "    training_features = pd.read_pickle('./pickles/' + training_chromosome + '_normed_motif_frame.pickle')\n",
    "    training_labels = [False if 'tile' in x else True for x in training_features.index.values]\n",
    "\n",
    "    #  train classifier\n",
    "    lr_classifier = sklearn.linear_model.LogisticRegression(penalty='l1')\n",
    "    lr_classifier.fit(training_features, training_labels)\n",
    "\n",
    "    # initialize sub dictionaries to store results\n",
    "    chromosome_probas_dict[training_chromosome] = {}\n",
    "    chromosome_rocAUC_dict[training_chromosome] = {}\n",
    "    chromosome_prAUC_dict[training_chromosome] = {}\n",
    "    \n",
    "    coefficients = lr_classifier.coef_\n",
    "\n",
    "    chromosome_coeff_dict[training_chromosome] = coefficients.flatten()\n",
    "    for chrom in chromosomes:\n",
    "        print('training on ', training_chromosome, 'testing on ', chrom)\n",
    "        if not chrom == training_chromosome:\n",
    "            test_features = pd.read_pickle('./pickles/' + chrom + '_normed_motif_frame.pickle')\n",
    "            test_labels = [False if 'tile' in x else True for x in test_features.index.values]\n",
    "\n",
    "            probas_lr = lr_classifier.predict_proba(test_features)\n",
    "\n",
    "            fpr, tpr, thresholds_roc_lr = sklearn.metrics.roc_curve(test_labels, probas_lr[:, 1])\n",
    "            \n",
    "            precision, recall, thresholds = sklearn.metrics.precision_recall_curve(test_labels, probas_lr[:, 1])\n",
    "            \n",
    "            roc_auc = auc(fpr, tpr) # calculate area under the curve\n",
    "            pr_auc = auc(recall, precision)\n",
    "            \n",
    "            \n",
    "            chromosome_probas_dict[training_chromosome][chrom] = probas_lr[:,1]\n",
    "            chromosome_rocAUC_dict[training_chromosome][chrom] = roc_auc\n",
    "            chromosome_prAUC_dict[training_chromosome][chrom] = pr_auc\n",
    "\n",
    "            print(training_chromosome, chrom, roc_auc, pr_auc)\n",
    "motifs = training_features.columns.values"
   ]
  },
  {
   "cell_type": "code",
   "execution_count": null,
   "metadata": {
    "collapsed": false
   },
   "outputs": [],
   "source": [
    "pickle.dump(chromosome_coeff_dict, open('chromosome_coeff_dict.pickle','wb'))\n",
    "pickle.dump(chromosome_probas_dict, open('chromosome_probas_dict.pickle','wb'))\n",
    "pickle.dump(chromosome_rocAUC_dict, open('chromosome_rocAUC_dict.pickle','wb'))\n",
    "pickle.dump(chromosome_prAUC_dict, open('chromosome_prAUC_dict.pickle','wb'))"
   ]
  },
  {
   "cell_type": "markdown",
   "metadata": {},
   "source": [
    "## Summarize Performance"
   ]
  },
  {
   "cell_type": "markdown",
   "metadata": {},
   "source": [
    "### Visualize Correlations"
   ]
  },
  {
   "cell_type": "code",
   "execution_count": null,
   "metadata": {
    "collapsed": false
   },
   "outputs": [],
   "source": [
    "###Show Correlation Between Test Validation Sets\n",
    "chromosomes = ['chr1', 'chr2', 'chr3', 'chr4', 'chr5', 'chr6', 'chr7', 'chr8', 'chr9', 'chr10',\n",
    "               'chr11', 'chr12', 'chr13', 'chr14', 'chr15', 'chr16', 'chr17', 'chr18', 'chr19', 'chrX'\n",
    "              ]\n",
    "\n",
    "    \n",
    "chromosome_index_dict = dict(zip(chromosomes, range(len(chromosomes))))\n",
    "\n",
    "corr_matrix = np.zeros((len(chromosomes), len(chromosomes)))\n",
    "for i in range(len(chromosomes) - 1):\n",
    "    training_chromosome_1 = chromosomes[i]\n",
    "    index_1 = chromosome_index_dict[training_chromosome_1]\n",
    "    for j in range(i+1, len(chromosomes)):\n",
    "        training_chromosome_2 = chromosomes[j]\n",
    "        index_2 = chromosome_index_dict[training_chromosome_2]\n",
    "        pearson, pvalue = scipy.stats.pearsonr(chromosome_coeff_dict[training_chromosome_1],\n",
    "                                              chromosome_coeff_dict[training_chromosome_2])\n",
    "        corr_matrix[index_1][index_2] = pearson\n",
    "        corr_matrix[index_2][index_1] = pearson\n",
    "\n",
    "cg = sns.clustermap(data=corr_matrix, cmap='Blues', xticklabels = chromosomes, yticklabels = chromosomes)\n",
    "plt.setp(cg.ax_heatmap.yaxis.get_majorticklabels(), rotation=0);\n",
    "plt.title(\"Pearson Correlation Between Cross Validation Sets\")"
   ]
  },
  {
   "cell_type": "markdown",
   "metadata": {},
   "source": [
    "### Visualize rocAUC"
   ]
  },
  {
   "cell_type": "code",
   "execution_count": null,
   "metadata": {
    "collapsed": false
   },
   "outputs": [],
   "source": [
    "### Show AUCs as a training X test X AUC heatmap\n",
    "chromosomes = ['chr1', 'chr2', 'chr3', 'chr4', 'chr5', 'chr6', 'chr7', 'chr8', 'chr9', 'chr10',\n",
    "               'chr11', 'chr12', 'chr13', 'chr14', 'chr15', 'chr16', 'chr17', 'chr18', 'chr19', 'chrX'\n",
    "              ]\n",
    "roc_matrix = np.zeros((len(chromosomes), len(chromosomes)))\n",
    "for i in range(len(chromosomes)):\n",
    "    training_chromosome = chromosomes[i]\n",
    "    for j in range(len(chromosomes)):\n",
    "        if not i==j:\n",
    "            test_chromosome = chromosomes[j]\n",
    "            roc_matrix[i][j] = chromosome_rocAUC_dict[training_chromosome][test_chromosome]\n",
    "\n",
    "pr_matrix = np.zeros((len(chromosomes), len(chromosomes)))\n",
    "for i in range(len(chromosomes)):\n",
    "    training_chromosome = chromosomes[i]\n",
    "    for j in range(len(chromosomes)):\n",
    "        if not i==j:\n",
    "            test_chromosome = chromosomes[j]\n",
    "            pr_matrix[i][j] = chromosome_prAUC_dict[training_chromosome][test_chromosome]\n",
    "            \n",
    "\n",
    "data = pd.DataFrame({'Training Chromosome': chromosomes, \n",
    "                         'mean aucROC':roc_matrix.sum(axis=1)/(len(chromosomes)-1)})\n",
    "\n",
    "sns.barplot(data=data, x='Training Chromosome', y='mean aucROC', palette = 'coolwarm')\n",
    "plt.ylabel('Mean rocAUC')\n",
    "# plt.gca().set_xticklabels(chromosomes)\n",
    "plt.xticks(rotation=90)\n",
    "# plt.xlabel('Training Chromosome')"
   ]
  },
  {
   "cell_type": "markdown",
   "metadata": {},
   "source": [
    "### Visualize prAUC"
   ]
  },
  {
   "cell_type": "code",
   "execution_count": null,
   "metadata": {
    "collapsed": false
   },
   "outputs": [],
   "source": [
    "### Show AUCs as a training X test X AUC heatmap\n",
    "chromosomes = ['chr1', 'chr2', 'chr3', 'chr4', 'chr5', 'chr6', 'chr7', 'chr8', 'chr9', 'chr10',\n",
    "               'chr11', 'chr12', 'chr13', 'chr14', 'chr15', 'chr16', 'chr17', 'chr18', 'chr19', 'chrX'\n",
    "              ]\n",
    "\n",
    "# sns.heatmap(matrix,\n",
    "#            xticklabels = chromosomes,\n",
    "#            yticklabels = chromosomes,\n",
    "#            cmap='Blues',\n",
    "# #            annot=True,\n",
    "# #            fmt='g',\n",
    "#            vmin=0,\n",
    "#            vmax=1.0\n",
    "#            )\n",
    "# plt.xlabel('Training Chromosome')        \n",
    "# plt.ylabel('Test Chromosome')\n",
    "# plt.title('ROC AUC')\n",
    "\n",
    "data = pd.DataFrame({'Training Chromosome': chromosomes, \n",
    "                         'mean prAUC':matrix.sum(axis=1)/(len(chromosomes)-1)})\n",
    "\n",
    "sns.barplot(data=data, x='Training Chromosome', y='mean prAUC', palette = 'coolwarm')\n",
    "plt.ylabel('Mean prAUC')\n",
    "# plt.gca().set_xticklabels(chromosomes)\n",
    "plt.xticks(rotation=90)\n",
    "plt.ylim(0,1)\n",
    "# plt.xlabel('Training Chromosome')"
   ]
  },
  {
   "cell_type": "code",
   "execution_count": null,
   "metadata": {
    "collapsed": false
   },
   "outputs": [],
   "source": [
    "### Create bedGraph Track\n",
    "\n",
    "# average probabilities across all training/test sets\n",
    "chromosomes = sorted(os.listdir(peakDirectory))\n",
    "\n",
    "chromosome_meanProbas_dict = {} # {chromosome:[meanProbas]}\n",
    "\n",
    "for test_chromosome in chromosomes:\n",
    "    probas = []\n",
    "    for training_chromosome in chromosomes:\n",
    "        if not test_chromosome == training_chromosome:\n",
    "            probas.append(chromosome_probas_dict[training_chromosome][test_chromosome])\n",
    "    mean_probas = np.mean(probas, axis=0)\n",
    "    chromosome_meanProbas_dict[test_chromosome] = mean_probas\n",
    "\n",
    "\n",
    "        "
   ]
  },
  {
   "cell_type": "code",
   "execution_count": null,
   "metadata": {
    "collapsed": false
   },
   "outputs": [],
   "source": [
    "! if [ ! -d ./bedgraph ]; then mkdir ./bedgraph; fi\n",
    "! rm ./bedgraph/*\n",
    "scalingFactor = 100\n",
    "bedgraph_file = open('./bedgraph/scores.bedgraph', 'w')\n",
    "bedgraph_file.write('track type=bedGraph name=\"Classifier Scores\" description=\"Probs * 100\"\\n')\n",
    "for chrom in chromosomes:\n",
    "    current_bedgraph_file = open('./bedgraph/'+chrom + '.bedgraph', 'w')\n",
    "    current_bedgraph_file.write('track type=bedGraph name=\"' + chrom +' Scores\" description=\"Probs * 100\"\\n')\n",
    "    print(chrom)\n",
    "    with open('./group_by_chromosome/' + chrom + '/' + chrom + '_tile_peaks.tsv') as f:\n",
    "        data = f.readlines()\n",
    "    \n",
    "    probas = chromosome_meanProbas_dict[chrom]\n",
    "    print(np.sum(probas>0.5))\n",
    "    data = data[1:-1]\n",
    "    for i in range(len(data)):\n",
    "            if probas[i] > 0.01:\n",
    "                tokens = data[i].split('\\t')\n",
    "                chrom = tokens[1]\n",
    "                start = tokens[2]\n",
    "                end = tokens[3]\n",
    "                prob = str(probas[i] * scalingFactor)\n",
    "                bedgraph_file.write('\\t'.join([chrom, start, end, prob]) + '\\n')\n",
    "                current_bedgraph_file.write('\\t'.join([chrom, start, end, prob]) + '\\n')\n",
    "\n",
    "\n",
    "    current_bedgraph_file.close()\n",
    "bedgraph_file.close()"
   ]
  },
  {
   "cell_type": "code",
   "execution_count": null,
   "metadata": {
    "collapsed": false
   },
   "outputs": [],
   "source": [
    "!pos2bed.pl ./idr_peak_files/C57Bl6_Thiomac_Veh_peaks.tsv > ./bedgraph/C57Bl6_Thiomac_Veh_peaks.bed\n",
    "!pos2bed.pl ./idr_peak_files/C57Bl6_Thiomac_KLA_peaks.tsv > ./bedgraph/C57Bl6_Thiomac_KLA_peaks.bed"
   ]
  },
  {
   "cell_type": "markdown",
   "metadata": {},
   "source": [
    "### Show Top Motifs"
   ]
  },
  {
   "cell_type": "code",
   "execution_count": null,
   "metadata": {
    "collapsed": false
   },
   "outputs": [],
   "source": [
    "### Show Top Motifs\n",
    "\n",
    "# average coeffs across all training/test sets\n",
    "chromosomes = sorted(os.listdir(peakDirectory))\n",
    "\n",
    "chromosome_meanCoeffs_dict = {} # {chromosome:[meanCoeffs]}\n",
    "\n",
    "coeffs = []\n",
    "for training_chromosome in chromosomes:\n",
    "    coeffs.append(chromosome_coeff_dict[test_chromosome])\n",
    "mean_coeffs = np.mean(coeffs, axis=0)\n",
    "chromosome_meanCoeffs_dict[test_chromosome] = mean_coeffs\n",
    "\n",
    "coefficients_frame = pd.DataFrame({'Weight':mean_coeffs})\n",
    "coefficients_frame.index = motifs\n",
    "    \n"
   ]
  },
  {
   "cell_type": "code",
   "execution_count": null,
   "metadata": {
    "collapsed": false
   },
   "outputs": [],
   "source": [
    "threshold = 1.4\n",
    "\n",
    "factor_motifs_dict = {}\n",
    "significant_motifs = set()\n",
    "for factor in coefficients_frame.columns.values:\n",
    "    weights = coefficients_frame[factor]\n",
    "    std = np.std(weights)\n",
    "    mean = np.mean(weights)\n",
    "    positive_hits = list(weights[weights >= mean + threshold*std].index.values)\n",
    "    negative_hits = list(weights[weights <= mean - threshold*std].index.values)\n",
    "    motif_hits = negative_hits + positive_hits\n",
    "    \n",
    "    print(factor, mean-threshold*std, mean+threshold*std)\n",
    "    for m in motif_hits:\n",
    "        significant_motifs.add(m)"
   ]
  },
  {
   "cell_type": "code",
   "execution_count": null,
   "metadata": {
    "collapsed": false
   },
   "outputs": [],
   "source": [
    "sns.distplot(coefficients_frame['Weight'].values, bins=50)\n",
    "plt.xlabel('Weight Magnitude')\n",
    "plt.ylabel('Frequency (KDE)')"
   ]
  },
  {
   "cell_type": "code",
   "execution_count": 42,
   "metadata": {
    "collapsed": false
   },
   "outputs": [
    {
     "data": {
      "image/png": "[encoded data removed]",
      "text/plain": [
       "<matplotlib.figure.Figure at 0x7faf10823b00>"
      ]
     },
     "metadata": {},
     "output_type": "display_data"
    }
   ],
   "source": [
    "\n",
    "data = coefficients_frame[coefficients_frame.index.isin(significant_motifs)]\n",
    "\n",
    "# fig, ax = plt.subplots(figsize=(10,10))\n",
    "with sns.axes_style('whitegrid'):\n",
    "    data['Motif'] = data.index.values\n",
    "    data.columns = ['Weight', 'Motif']\n",
    "    data = data.sort('Weight')\n",
    "    sns.factorplot(data = data, x= 'Motif', y='Weight', size=4, kind='bar', palette='coolwarm')\n",
    "    plt.xticks(rotation=90)"
   ]
  },
  {
   "cell_type": "markdown",
   "metadata": {},
   "source": [
    "## Predictions with Top Motifs"
   ]
  },
  {
   "cell_type": "code",
   "execution_count": null,
   "metadata": {
    "collapsed": false
   },
   "outputs": [],
   "source": [
    "motif_features = sorted(significant_motifs)\n",
    "\n",
    "significant_chromosome_coeff_dict = {} # store coefficients for each chromosome {trainingChromosome:{testChromosome:[coefficients]}}\n",
    "significant_chromosome_probas_dict = {} # probabilities for each locus {trainingChromosome:{testChromosome:[probas]}}\n",
    "significant_chromosome_rocAUC_dict = {} # ROC AUC for each chromosome {trainingChromosome:{testChromosome:auc}}\n",
    "significant_chromosome_prAUC_dict = {}\n",
    "peakDirectory = './group_by_chromosome/'\n",
    "chromosomes = sorted(os.listdir(peakDirectory))\n",
    "\n",
    "for training_chromosome in chromosomes:\n",
    "    training_features = pd.read_pickle('./pickles/' + training_chromosome + '_normed_motif_frame.pickle')\n",
    "    training_features = training_features[motif_features]\n",
    "    training_labels = [False if 'tile' in x else True for x in training_features.index.values]\n",
    "\n",
    "    #  train classifier\n",
    "    lr_classifier = sklearn.linear_model.LogisticRegression(penalty='l1')\n",
    "    lr_classifier.fit(training_features, training_labels)\n",
    "\n",
    "    # initialize sub dictionaries to store results\n",
    "    significant_chromosome_probas_dict[training_chromosome] = {}\n",
    "    significant_chromosome_rocAUC_dict[training_chromosome] = {}\n",
    "    significant_chromosome_prAUC_dict[training_chromosome] = {}\n",
    "\n",
    "    coefficients = lr_classifier.coef_\n",
    "\n",
    "    significant_chromosome_coeff_dict[training_chromosome] = coefficients.flatten()\n",
    "    for chrom in chromosomes:\n",
    "        print('training on ', training_chromosome, 'testing on ', chrom)\n",
    "        if not chrom == training_chromosome:\n",
    "            test_features = pd.read_pickle('./pickles/' + chrom + '_normed_motif_frame.pickle')\n",
    "            test_features = test_features[motif_features]\n",
    "            test_labels = [False if 'tile' in x else True for x in test_features.index.values]\n",
    "\n",
    "            probas_lr = lr_classifier.predict_proba(test_features)\n",
    "\n",
    "            fpr, tpr, thresholds_roc_lr = sklearn.metrics.roc_curve(test_labels, probas_lr[:, 1])\n",
    "            precision, recall, thresholds = sklearn.metrics.precision_recall_curve(test_labels, probas_lr[:, 1])\n",
    "\n",
    "#             roc_auc = sklearn.metrics.roc_auc_score(test_labels, probas_lr[:, 1])\n",
    "#             pr_auc = sklearn.metrics.precision_score(test_labels, probas_lr[:, 1] > 0.5)\n",
    "            \n",
    "            roc_auc = auc(fpr, tpr) # calculate area under the curve\n",
    "            pr_auc = auc(recall, precision)\n",
    "            \n",
    "            \n",
    "            significant_chromosome_probas_dict[training_chromosome][chrom] = probas_lr[:,1]\n",
    "            significant_chromosome_rocAUC_dict[training_chromosome][chrom] = roc_auc\n",
    "            significant_chromosome_prAUC_dict[training_chromosome][chrom] = pr_auc\n",
    "\n",
    "            print(training_chromosome, chrom, roc_auc, pr_auc)\n"
   ]
  },
  {
   "cell_type": "code",
   "execution_count": null,
   "metadata": {
    "collapsed": true
   },
   "outputs": [],
   "source": []
  },
  {
   "cell_type": "code",
   "execution_count": null,
   "metadata": {
    "collapsed": true
   },
   "outputs": [],
   "source": []
  }
 ],
 "metadata": {
  "kernelspec": {
   "display_name": "Python 3",
   "language": "python",
   "name": "python3"
  },
  "language_info": {
   "codemirror_mode": {
    "name": "ipython",
    "version": 3
   },
   "file_extension": ".py",
   "mimetype": "text/x-python",
   "name": "python",
   "nbconvert_exporter": "python",
   "pygments_lexer": "ipython3",
   "version": "3.4.4"
  }
 },
 "nbformat": 4,
 "nbformat_minor": 0
}
