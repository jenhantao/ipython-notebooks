{
 "cells": [
  {
   "cell_type": "markdown",
   "metadata": {},
   "source": [
    "# Signals Analysis"
   ]
  },
  {
   "cell_type": "code",
   "execution_count": 1,
   "metadata": {
    "collapsed": true
   },
   "outputs": [],
   "source": [
    "### header ###\n",
    "__author__ = \"Jenhan Tao\"\n",
    "__license__ = \"BSD\"\n",
    "__email__ = \"jenhantao@gmail.com\"\n",
    "%load_ext autoreload\n",
    "%autoreload 2\n",
    "### imports ###\n",
    "import sys\n",
    "%matplotlib inline\n",
    "import os\n",
    "import pandas as pd\n",
    "import numpy as np\n",
    "import matplotlib\n",
    "import threading\n",
    "import matplotlib.pyplot as plt \n",
    "import seaborn as sns\n",
    "from collections import Counter\n",
    "matplotlib.pylab.rcParams['savefig.dpi'] = 200\n",
    "sys.setrecursionlimit(3000)\n",
    "import pickle\n",
    "from sklearn import preprocessing\n",
    "import time\n",
    "sns.set_context('talk')"
   ]
  },
  {
   "cell_type": "code",
   "execution_count": 2,
   "metadata": {
    "collapsed": true
   },
   "outputs": [],
   "source": [
    "workingDirectory = '/home/jtao/analysis/signals_analysis/'\n",
    "os.chdir(workingDirectory)"
   ]
  },
  {
   "cell_type": "markdown",
   "metadata": {},
   "source": [
    "## Identify Acessible Promoters"
   ]
  },
  {
   "cell_type": "code",
   "execution_count": 3,
   "metadata": {
    "collapsed": false
   },
   "outputs": [
    {
     "name": "stdout",
     "output_type": "stream",
     "text": [
      "\tMax distance to merge: direct overlap required (-d given)\n",
      "\tMerging peaks... \n",
      "\tComparing ./resized_peak_files/c57bl6_kla-1h_peaks.tsv (32895 total) and ./resized_peak_files/c57bl6_kla-1h_peaks.tsv (32895 total)\n",
      "\tComparing ./resized_peak_files/c57bl6_kla-1h_peaks.tsv (32895 total) and ./resized_peak_files/c57bl6_ifng-1h_peaks.tsv (30129 total)\n",
      "\tComparing ./resized_peak_files/c57bl6_kla-1h_peaks.tsv (32895 total) and ./resized_peak_files/c57bl6_veh_peaks.tsv (29766 total)\n",
      "\tComparing ./resized_peak_files/c57bl6_ifng-1h_peaks.tsv (30129 total) and ./resized_peak_files/c57bl6_kla-1h_peaks.tsv (32895 total)\n",
      "\tComparing ./resized_peak_files/c57bl6_ifng-1h_peaks.tsv (30129 total) and ./resized_peak_files/c57bl6_ifng-1h_peaks.tsv (30129 total)\n",
      "\tComparing ./resized_peak_files/c57bl6_ifng-1h_peaks.tsv (30129 total) and ./resized_peak_files/c57bl6_veh_peaks.tsv (29766 total)\n",
      "\tComparing ./resized_peak_files/c57bl6_veh_peaks.tsv (29766 total) and ./resized_peak_files/c57bl6_kla-1h_peaks.tsv (32895 total)\n",
      "\tComparing ./resized_peak_files/c57bl6_veh_peaks.tsv (29766 total) and ./resized_peak_files/c57bl6_ifng-1h_peaks.tsv (30129 total)\n",
      "\tComparing ./resized_peak_files/c57bl6_veh_peaks.tsv (29766 total) and ./resized_peak_files/c57bl6_veh_peaks.tsv (29766 total)\n",
      "\n"
     ]
    }
   ],
   "source": [
    "! mergePeaks -d given -venn venn.txt ./resized_peak_files/c57bl6_kla-1h_peaks.tsv ./resized_peak_files/c57bl6_ifng-1h_peaks.tsv ./resized_peak_files/c57bl6_veh_peaks.tsv > ./merged_atac_veh_ifng_kla_peaks.tsv"
   ]
  },
  {
   "cell_type": "code",
   "execution_count": null,
   "metadata": {
    "collapsed": false,
    "scrolled": true
   },
   "outputs": [],
   "source": [
    "! annotatePeaks.pl ./merged_atac_veh_ifng_kla_peaks.tsv mm10 > ./annotated_atac_veh_ifng_kla_peaks.tsv"
   ]
  },
  {
   "cell_type": "code",
   "execution_count": 23,
   "metadata": {
    "collapsed": true
   },
   "outputs": [],
   "source": [
    "# read in annotated frame\n",
    "annotated_frame = pd.read_csv('./annotated_atac_veh_ifng_kla_peaks.tsv', sep='\\t')\n",
    "annotated_frame.index = annotated_frame.ix[:,0]\n",
    "\n",
    "# get promoter associated peaks and associated gene names\n",
    "annotated_frame['Annotation'] = [x.split(' ')[0] for x in annotated_frame['Annotation'].astype(str)]\n",
    "promoter_ids = annotated_frame[annotated_frame['Annotation'].str.contains('promoter')].ix[:,0].values\n",
    "\n",
    "id_gene_dict = dict(zip(promoter_ids, annotated_frame.ix[promoter_ids,'Gene Name'].values))"
   ]
  },
  {
   "cell_type": "code",
   "execution_count": 31,
   "metadata": {
    "collapsed": false
   },
   "outputs": [],
   "source": [
    "merged_frame = pd.read_csv('./merged_atac_veh_ifng_kla_peaks.tsv', sep='\\t')\n",
    "merged_frame.index = merged_frame.ix[:,0].values\n",
    "\n",
    "# filter away peaks in unused chromsomes\n",
    "filtered_frame = merged_frame[\n",
    "             ~(merged_frame['chr'].str.contains('chrY')) & \n",
    "             ~(merged_frame['chr'].str.contains('chrM')) &\n",
    "             ~(merged_frame['chr'].str.contains('random')) &\n",
    "             ~(merged_frame['chr'].str.contains('Un'))]\n",
    "\n",
    "merged_frame = pd.read_csv('./merged_atac_peaks.tsv', sep='\\t')\n",
    "\n",
    "filtered_frame = filtered_frame[filtered_frame.index.isin(promoter_ids)]\n",
    "\n",
    "# resize peaks\n",
    "target_peak_size = 200\n",
    "peakCenters = (filtered_frame['start'] + filtered_frame['end']) /2\n",
    "int_peakCenters = np.ceil(peakCenters).astype(int)\n",
    "new_starts = int_peakCenters - int(target_peak_size/2)\n",
    "new_ends = int_peakCenters + int(target_peak_size/2)\n",
    "filtered_frame['start'] = new_starts\n",
    "filtered_frame['end'] = new_ends\n",
    "filtered_frame.to_csv('./merged_atac_peaks_promoters.tsv', sep='\\t', index=False)"
   ]
  },
  {
   "cell_type": "code",
   "execution_count": 33,
   "metadata": {
    "collapsed": false
   },
   "outputs": [
    {
     "name": "stdout",
     "output_type": "stream",
     "text": [
      "Finished reading merged peak file...\n",
      "Integrating scores for c57bl6_kla-1h\n",
      "Integrating scores for c57bl6_ifng-1h\n",
      "Integrating scores for c57bl6_veh\n"
     ]
    }
   ],
   "source": [
    "! makeSummaryFile.py ./merged_atac_peaks_promoters.tsv ./group_atac_promoter_summary.tsv ./resized_peak_files/c57bl6_kla-1h_peaks.tsv ./resized_peak_files/c57bl6_ifng-1h_peaks.tsv ./resized_peak_files/c57bl6_veh_peaks.tsv"
   ]
  },
  {
   "cell_type": "code",
   "execution_count": 34,
   "metadata": {
    "collapsed": true
   },
   "outputs": [],
   "source": [
    "# read in peak data data\n",
    "summary_frame = pd.read_csv('./group_atac_promoter_summary.tsv' , sep='\\t')\n",
    "summary_frame = summary_frame.fillna('0')\n",
    "for col in summary_frame.columns[5:]:\n",
    "    floatValues = []\n",
    "    for val in summary_frame[col].values.astype(str):\n",
    "        if ',' in val:\n",
    "            maxVal = np.mean([float(x) for x in val.split(',')])\n",
    "            floatValues.append(maxVal)\n",
    "        else:\n",
    "            floatValues.append(float(val))\n",
    "    summary_frame[col] = floatValues\n",
    "summary_frame.index = summary_frame['ID'].values\n"
   ]
  },
  {
   "cell_type": "markdown",
   "metadata": {},
   "source": [
    "## Calculate Motif Scores"
   ]
  },
  {
   "cell_type": "code",
   "execution_count": 49,
   "metadata": {
    "collapsed": false
   },
   "outputs": [
    {
     "name": "stdout",
     "output_type": "stream",
     "text": [
      "\r\n",
      "\tConverted 11276 peaks total\r\n",
      "\r\n"
     ]
    }
   ],
   "source": [
    "%%bash\n",
    "# extract sequences for analysis\n",
    "pos2bed.pl ./merged_atac_peaks_promoters.tsv > ./tmp\n",
    "tail -n +2 ./tmp > ./merged_atac_peaks_promoters.bed\n",
    "rm tmp"
   ]
  },
  {
   "cell_type": "code",
   "execution_count": 51,
   "metadata": {
    "collapsed": false
   },
   "outputs": [
    {
     "name": "stdout",
     "output_type": "stream",
     "text": [
      "reading genome mm10\r\n"
     ]
    }
   ],
   "source": [
    "!/gpfs/data01/glasslab/home/jtao/code/tba/extract_sequences.py ./merged_atac_peaks_promoters.bed mm10 ./merged_atac_peaks_promoters.fasta"
   ]
  },
  {
   "cell_type": "code",
   "execution_count": 52,
   "metadata": {
    "collapsed": false
   },
   "outputs": [
    {
     "name": "stdout",
     "output_type": "stream",
     "text": [
      "arnt_mycn calculation time: 154.56569361686707\n",
      "alx1_alx4_arx calculation time: 156.1815402507782\n",
      "ar_nr3c1_nr3c2 calculation time: 156.1735589504242\n",
      "bcl6b calculation time: 153.7626292705536\n",
      "ap-1 calculation time: 157.42601561546326\n",
      "arid3b calculation time: 160.17927384376526\n",
      "arntl_mitf calculation time: 159.66860842704773\n",
      "bcl6 calculation time: 158.16161274909973\n",
      "atf7_batf3_creb5 calculation time: 159.45191478729248\n",
      "ctcf calculation time: 155.91757535934448\n",
      "creb3-l1 calculation time: 156.87389707565308\n",
      "ewsr1-fli1 calculation time: 149.93628191947937\n",
      "cdx calculation time: 158.00419235229492\n",
      "bhlhe23 calculation time: 158.63525700569153\n",
      "esr1 calculation time: 151.51000308990479\n",
      "elk_etv calculation time: 151.9554738998413\n",
      "bhlh calculation time: 159.9209144115448\n",
      "dmbx1 calculation time: 156.35902786254883\n",
      "arid5a calculation time: 163.18458771705627\n",
      "cenpb calculation time: 159.456316947937\n",
      "glis calculation time: 149.40900897979736\n",
      "ascl2_nhlh1 calculation time: 163.51305603981018\n",
      "arid3a calculation time: 165.79508233070374\n",
      "e2f7 calculation time: 156.19492626190186\n",
      "e2f1 calculation time: 157.67037963867188\n",
      "gfi1 calculation time: 152.08729457855225\n",
      "gata calculation time: 152.84231233596802\n",
      "e2f2 calculation time: 158.07583236694336\n",
      "ebf1 calculation time: 157.26472878456116\n",
      "bhlha15 calculation time: 163.50252652168274\n",
      "dux4 calculation time: 159.48880910873413\n",
      "crem calculation time: 161.64212656021118\n",
      "fox calculation time: 154.1159529685974\n",
      "cebp calculation time: 162.7222340106964\n",
      "dux calculation time: 159.9971318244934\n",
      "ebox calculation time: 157.31567668914795\n",
      "esr2 calculation time: 155.90797209739685\n",
      "gcm calculation time: 153.9414312839508\n",
      "gfi1b calculation time: 153.35508799552917\n",
      "dbp_hlf_tef calculation time: 161.68638610839844\n",
      "dmrt3 calculation time: 161.24262237548828\n",
      "duxa calculation time: 160.65678668022156\n",
      "elf calculation time: 157.98726153373718\n",
      "figla_id4_snai2_tcf3_tcf4 calculation time: 156.15822052955627\n",
      "e2f8 calculation time: 159.67934775352478\n",
      "esrr calculation time: 157.45555424690247\n",
      "gli2 calculation time: 154.8296422958374\n",
      "e2f4_e2f6 calculation time: 160.83935642242432\n",
      "cux calculation time: 163.75691604614258\n",
      "egr calculation time: 159.71409487724304\n",
      "grhl1 calculation time: 144.92402625083923\n",
      "gmeb2 calculation time: 147.28736805915833\n",
      "hes calculation time: 147.71434712409973\n",
      "gsc calculation time: 149.3247902393341\n",
      "hoxb5_hoxd3 calculation time: 143.1995177268982\n",
      "hic calculation time: 151.6648907661438\n",
      "hnf4a calculation time: 147.80534291267395\n",
      "irf2 calculation time: 141.31600499153137\n",
      "homeobox-5 calculation time: 146.71766567230225\n",
      "hoxc13 calculation time: 145.27034759521484\n",
      "hnf1 calculation time: 149.79870867729187\n",
      "hltf calculation time: 150.32082557678223\n",
      "hoxa11 calculation time: 147.45930814743042\n",
      "homeobox-2 calculation time: 149.3449673652649\n",
      "hoxc9 calculation time: 146.25191521644592\n",
      "irf1 calculation time: 144.8642807006836\n",
      "hoxd8 calculation time: 149.1623182296753\n",
      "homeobox-4 calculation time: 152.9287281036377\n",
      "mafg calculation time: 145.91778206825256\n",
      "isl2_nkx3-1_nkx3-2 calculation time: 147.78890371322632\n",
      "hoxa9 calculation time: 152.26087403297424\n",
      "hoxa5 calculation time: 152.82459330558777\n",
      "homeobox-1 calculation time: 155.05407667160034\n",
      "hinfp calculation time: 157.63704562187195\n",
      "mef2c calculation time: 146.5451056957245\n",
      "hnf4g calculation time: 156.04507088661194\n",
      "irf7-8-9 calculation time: 149.69673776626587\n",
      "homeobox-3 calculation time: 155.12227487564087\n",
      "lhx3 calculation time: 148.73967671394348\n",
      "insm1 calculation time: 151.16247487068176\n",
      "meis calculation time: 148.03761410713196\n",
      "maf_nrl calculation time: 150.27683186531067\n",
      "mef2a-b-d calculation time: 149.6939971446991\n",
      "mecom calculation time: 150.08158349990845\n",
      "mtf1 calculation time: 148.1387484073639\n",
      "id2_mlxip calculation time: 154.30162692070007\n",
      "hsf calculation time: 154.8716902732849\n",
      "lef1 calculation time: 152.4151258468628\n",
      "lin54 calculation time: 152.47021341323853\n",
      "myb calculation time: 149.63471508026123\n",
      "mybl2 calculation time: 148.9552662372589\n",
      "klf calculation time: 154.0666868686676\n",
      "myog_tcf12 calculation time: 148.61661338806152\n",
      "mybl1 calculation time: 149.980149269104\n",
      "myc calculation time: 150.85025310516357\n",
      "mga_tbx calculation time: 155.71205043792725\n",
      "msc_myf6_tfap4 calculation time: 156.41267919540405\n",
      "nfat calculation time: 154.36326217651367\n",
      "mzf1 calculation time: 156.2418656349182\n",
      "mzf1var.2 calculation time: 156.08671975135803\n",
      "nfya calculation time: 149.3886740207672\n",
      "nfil3 calculation time: 153.44550275802612\n",
      "nfi calculation time: 157.69509100914001\n",
      "nr2_rxr calculation time: 147.54367899894714\n",
      "nr5a2 calculation time: 146.4379186630249\n",
      "nr2f1 calculation time: 148.21083164215088\n",
      "onecut calculation time: 147.31574702262878\n",
      "nr2e1 calculation time: 150.03659534454346\n",
      "nkx2-5var.2 calculation time: 151.67944359779358\n",
      "nfkb calculation time: 157.2909209728241\n",
      "nfyb calculation time: 154.1280074119568\n",
      "nrf1 calculation time: 151.56690645217896\n",
      "pou1f1 calculation time: 145.066987991333\n",
      "pax1_pax9 calculation time: 149.4309687614441\n",
      "nkx2-3_nkx2-8 calculation time: 156.0430462360382\n",
      "nkx2-5 calculation time: 156.10740756988525\n",
      "nr4a2 calculation time: 153.63223385810852\n",
      "pax5 calculation time: 149.26570320129395\n",
      "pparg calculation time: 146.63546562194824\n",
      "plag1 calculation time: 148.54707431793213\n",
      "pknox_tgif calculation time: 149.07844161987305\n",
      "rar calculation time: 145.7795741558075\n",
      "pax6 calculation time: 151.11161065101624\n",
      "rargvar.2 calculation time: 145.74057507514954\n",
      "phox2_prop calculation time: 150.9516532421112\n",
      "rfx calculation time: 145.70458102226257\n",
      "nr2e3 calculation time: 158.5080647468567\n",
      "rar_rxr calculation time: 147.53200769424438\n",
      "pparg_rxra calculation time: 149.07196617126465\n",
      "pax2 calculation time: 153.97794461250305\n",
      "pbx1 calculation time: 152.74070858955383\n",
      "pou4 calculation time: 151.00838446617126\n",
      "runx calculation time: 145.42677068710327\n",
      "rest calculation time: 147.99875259399414\n",
      "rreb1 calculation time: 146.18041348457336\n",
      "rhox11 calculation time: 147.58032894134521\n",
      "prox1 calculation time: 152.19680404663086\n",
      "prdm1 calculation time: 152.9855351448059\n",
      "rxravdr calculation time: 148.54909086227417\n",
      "roravar.2 calculation time: 150.19553136825562\n",
      "pou6f2 calculation time: 155.12704920768738\n",
      "pou2-3-5 calculation time: 157.13342547416687\n",
      "rel calculation time: 155.65116238594055\n",
      "six3 calculation time: 150.46430110931396\n",
      "rora calculation time: 155.12825727462769\n",
      "pax3_pax7 calculation time: 163.72865080833435\n",
      "sox1-l1-21-4 calculation time: 149.7104253768921\n",
      "scrt calculation time: 155.05436992645264\n",
      "sox10 calculation time: 152.5049865245819\n",
      "smad3 calculation time: 154.36275625228882\n",
      "sox17 calculation time: 138.30830550193787\n",
      "sox2 calculation time: 144.9605610370636\n",
      "sox8 calculation time: 142.391832113266\n",
      "sox5_sox9_sry calculation time: 144.5660319328308\n",
      "tbp calculation time: 138.7030689716339\n",
      "srebpf calculation time: 142.5580234527588\n",
      "spi1-c calculation time: 144.02743697166443\n",
      "sp1 calculation time: 146.2301173210144\n",
      "spz1 calculation time: 144.66992783546448\n",
      "srf calculation time: 142.71322321891785\n",
      "stat1-3 calculation time: 143.51845598220825\n",
      "sox3_sox6 calculation time: 150.14682841300964\n",
      "spib calculation time: 147.30530285835266\n",
      "stat6 calculation time: 144.34718656539917\n",
      "tp73 calculation time: 138.73836827278137\n",
      "sp4 calculation time: 148.7575168609619\n",
      "zbed1 calculation time: 136.68812775611877\n",
      "t calculation time: 144.8861050605774\n",
      "tfap2-3 calculation time: 141.5113914012909\n",
      "tfcp2 calculation time: 141.40870118141174\n",
      "zic calculation time: 136.12119388580322\n",
      "znf263 calculation time: 134.795880317688\n",
      "tcf7 calculation time: 144.3106653690338\n",
      "usf calculation time: 141.33577418327332\n",
      "tbx calculation time: 146.51852297782898\n",
      "tcfl5 calculation time: 144.9164435863495\n",
      "tp53 calculation time: 142.7074112892151\n",
      "tp63 calculation time: 142.45613551139832\n",
      "tcf21 calculation time: 146.4614086151123\n",
      "xbp1 calculation time: 141.7123100757599\n",
      "tead calculation time: 145.72772693634033\n",
      "tfap1 calculation time: 145.62916469573975\n",
      "ventx calculation time: 142.86902856826782\n",
      "znf143 calculation time: 138.72273874282837\n",
      "zbtb7 calculation time: 140.32079935073853\n",
      "thap1 calculation time: 144.94990277290344\n",
      "zfx calculation time: 140.45634293556213\n",
      "zbtb33 calculation time: 141.75832176208496\n",
      "zeb1 calculation time: 141.64334082603455\n",
      "zbtb18 calculation time: 142.8340711593628\n",
      "yy2 calculation time: 144.94384789466858\n",
      "yy1 calculation time: 145.6294550895691\n",
      "znf354c calculation time: 140.0593240261078\n",
      "znf410 calculation time: 139.52237796783447\n",
      "znf423 calculation time: 139.4894506931305\n",
      "znf740 calculation time: 141.07030773162842\n",
      "total time 626.3845410346985\n"
     ]
    }
   ],
   "source": [
    "# calculate motif scores\n",
    "!/gpfs/data01/glasslab/home/jtao/code/tba/calculate_all_motif_scores.py -num_procs 50 ./merged_atac_peaks_promoters.fasta ./motif_scores_promoters /gpfs/data01/glasslab/home/jtao/analysis/cobinding_motif_analysis/jaspar_2016_curated_homerFormat/*motif "
   ]
  }
 ],
 "metadata": {
  "kernelspec": {
   "display_name": "Python [Root]",
   "language": "python",
   "name": "Python [Root]"
  },
  "language_info": {
   "codemirror_mode": {
    "name": "ipython",
    "version": 3
   },
   "file_extension": ".py",
   "mimetype": "text/x-python",
   "name": "python",
   "nbconvert_exporter": "python",
   "pygments_lexer": "ipython3",
   "version": "3.5.1"
  }
 },
 "nbformat": 4,
 "nbformat_minor": 0
}
