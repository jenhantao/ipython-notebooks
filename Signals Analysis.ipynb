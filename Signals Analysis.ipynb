{
 "cells": [
  {
   "cell_type": "markdown",
   "metadata": {},
   "source": [
    "# Signals Analysis"
   ]
  },
  {
   "cell_type": "code",
   "execution_count": 1,
   "metadata": {
    "collapsed": false
   },
   "outputs": [],
   "source": [
    "### header ###\n",
    "__author__ = \"Jenhan Tao\"\n",
    "__license__ = \"BSD\"\n",
    "__email__ = \"jenhantao@gmail.com\"\n",
    "%load_ext autoreload\n",
    "%autoreload 2\n",
    "### imports ###\n",
    "import sys\n",
    "%matplotlib inline\n",
    "import os\n",
    "import pandas as pd\n",
    "import numpy as np\n",
    "import matplotlib\n",
    "import threading\n",
    "import matplotlib.pyplot as plt \n",
    "import seaborn as sns\n",
    "from collections import Counter\n",
    "import matplotlib_venn\n",
    "import networkx as nx\n",
    "from networkx.drawing.nx_agraph import graphviz_layout\n",
    "matplotlib.pylab.rcParams['savefig.dpi'] = 200\n",
    "sys.setrecursionlimit(3000)\n",
    "import pickle\n",
    "from sklearn import preprocessing\n",
    "import time\n",
    "import scipy\n",
    "sns.set_context('notebook')"
   ]
  },
  {
   "cell_type": "code",
   "execution_count": 2,
   "metadata": {
    "collapsed": true
   },
   "outputs": [],
   "source": [
    "workingDirectory = '/home/jtao/analysis/signals_analysis/'\n",
    "os.chdir(workingDirectory)"
   ]
  },
  {
   "cell_type": "markdown",
   "metadata": {},
   "source": [
    "## Functions"
   ]
  },
  {
   "cell_type": "code",
   "execution_count": 3,
   "metadata": {
    "collapsed": true
   },
   "outputs": [],
   "source": [
    "def convert_sequences_to_array(sequences):\n",
    "    '''\n",
    "    inputs: sequence of nucleotides represented as a string composed of A, C, G, T\n",
    "    outputs: a list of numpy array representations of a sequence with:\n",
    "             A = [1, 0, 0, 0]\n",
    "             C = [0, 1, 0, 0]\n",
    "             G = [0, 0, 1, 0]\n",
    "             T = [0, 0, 0, 1]\n",
    "             \n",
    "    '''\n",
    "    nucleotide_array_dict = {'A': [1, 0, 0, 0],\n",
    "                             'C': [0, 1, 0, 0],\n",
    "                             'G': [0, 0, 1, 0],\n",
    "                             'T': [0, 0, 0, 1],\n",
    "                             'N': [0, 0, 0, 0]}\n",
    "    sequence_array_list = []\n",
    "    for seq in sequences:\n",
    "        seq_array = []\n",
    "        for nuc in seq:\n",
    "            seq_array.append(nucleotide_array_dict[nuc])\n",
    "        seq_array = np.array(seq_array)\n",
    "        sequence_array_list.append(seq_array)\n",
    "    return sequence_array_list\n",
    "\n",
    "\n"
   ]
  },
  {
   "cell_type": "code",
   "execution_count": 4,
   "metadata": {
    "collapsed": true
   },
   "outputs": [],
   "source": [
    "def read_fasta(file_path):\n",
    "    '''\n",
    "    reads in a fasta file and returns a list of sequence ids and a list of sequences\n",
    "    inputs: filepath - path to a fasta file\n",
    "    outputs: sequence_list - a list of sequences\n",
    "             id_list - a list of ids\n",
    "    '''\n",
    "    with open(file_path) as f:\n",
    "        data = f.readlines()\n",
    "    id_list = []\n",
    "    sequence_list = []\n",
    "    # loop through each sequence\n",
    "    for line in data:\n",
    "        if '>' in line:\n",
    "            seq_id = line.strip()[1:]\n",
    "            id_list.append(seq_id)\n",
    "        else:\n",
    "            seq = line.strip()\n",
    "            sequence_list.append(seq)\n",
    "    return sequence_list, id_list\n",
    "\n"
   ]
  },
  {
   "cell_type": "code",
   "execution_count": 5,
   "metadata": {
    "collapsed": true
   },
   "outputs": [],
   "source": [
    "def read_motif_file(motifPath, pseudocount):\n",
    "    '''\n",
    "    reads all motif files in a directory \n",
    "    inputs: path to a directory containing homer motif files\n",
    "    outputs: an array of tuples representing each motif\n",
    "    '''\n",
    "    name_metadata_dict = {}\n",
    "    with open(motifPath) as f:\n",
    "        data = f.readlines()\n",
    "    name = '.'.join(motifPath.split('/')[-1].split('.')[:-1])\n",
    "    matrix = []\n",
    "    metadata = data[0].strip()\n",
    "    for line in data[1:]:\n",
    "        tokens = line.strip().split(\"\\t\")\n",
    "        if len(tokens) > 1:\n",
    "            scores = np.array([float(x) for x in tokens])\n",
    "            scores = scores + pseudocount\n",
    "            scores= scores/np.sum(scores)\n",
    "            matrix.append(scores)\n",
    "    return (name,np.array(matrix))"
   ]
  },
  {
   "cell_type": "code",
   "execution_count": 6,
   "metadata": {
    "collapsed": true
   },
   "outputs": [],
   "source": [
    "def plot_motif_sequence(seq_index,\n",
    "                        sequence_array_list, \n",
    "                        motif_score_dict, \n",
    "                        motif_score_rc_dict, \n",
    "                        motif_size_dict,\n",
    "                        threshold = 0,\n",
    "                        color_dict = None,\n",
    "                        symmetric_motifs = [],\n",
    "                        algorithm_plot = False,\n",
    "                       ):\n",
    "    '''\n",
    "    visualize a single sequence using the highest scoring nonoverlapping motifs\n",
    "    '''\n",
    "    motif_names = sorted(motif_score_dict.keys())\n",
    "    seq_array = sequence_array_list[seq_index]\n",
    "    seq_size = seq_array.shape[0]\n",
    "    # initialize position_node array\n",
    "    position_node_array = [[] for x in range(seq_size)]\n",
    "\n",
    "    # intialize graph\n",
    "    seq_graph = nx.Graph()\n",
    "\n",
    "    # initialize\n",
    "    for motif in motif_names:\n",
    "        motif_size = motif_size_dict[motif]\n",
    "        indices = list(range(len(motif_score_dict[motif][seq_index])))\n",
    "        forward_scores = motif_score_dict[motif][seq_index]\n",
    "        revcomp_scores = motif_score_rc_dict[motif][seq_index]\n",
    "\n",
    "        # identify motif instances using score threshold\n",
    "        filtered_forward_motif_instances = [x for x in zip(indices, forward_scores) if x[1]>threshold]\n",
    "        filtered_revcomp_motif_instances = [x for x in zip(indices, revcomp_scores) if x[1]>threshold]\n",
    "\n",
    "        # create graph node for every forward motif instance\n",
    "        for mi in filtered_forward_motif_instances:\n",
    "            node_id = str(mi[0]) + '_' + motif\n",
    "            seq_graph.add_node(node_id, \n",
    "                               name=motif,\n",
    "                               start=mi[0], \n",
    "                               end = mi[0] + motif_size, \n",
    "                               score=mi[1], \n",
    "                               orientation='+')\n",
    "\n",
    "            # figure out positions motif instance occupies\n",
    "            start_position = mi[0]\n",
    "            end_position=start_position + motif_size\n",
    "\n",
    "            # add node_id to position_node array\n",
    "            for pos in range(start_position, end_position):\n",
    "                position_node_array[pos].append(node_id)\n",
    "\n",
    "        # create graph node for every revcomp motif instance\n",
    "        for mi in filtered_revcomp_motif_instances:\n",
    "            node_id = str(mi[0]) + '_' + motif\n",
    "            seq_graph.add_node(node_id, \n",
    "                               name=motif,\n",
    "                               start=mi[0], \n",
    "                               end = mi[0] + motif_size, \n",
    "                               score=mi[1], \n",
    "                               orientation='-')\n",
    "\n",
    "            # figure out positions motif instance occupies\n",
    "            start_position = mi[0]\n",
    "            end_position=start_position + motif_size\n",
    "\n",
    "            # add node_id to position_node array\n",
    "            for pos in range(start_position, end_position):\n",
    "                position_node_array[pos].append(node_id)\n",
    "\n",
    "    # figure out which edges to create\n",
    "    edges_to_add = set()\n",
    "    for pos in range(len(position_node_array)):\n",
    "        nodes_at_pos = position_node_array[pos]\n",
    "        # make sure edges are ordered alphabetically\n",
    "        # so I don't have to deal with A-B and B-A\n",
    "        nodes_at_pos.sort() \n",
    "        # generate proposed edges\n",
    "        num_nodes = len(nodes_at_pos)\n",
    "        for i in range(num_nodes - 1):\n",
    "            for j in range(i+1, num_nodes):\n",
    "                id_1 = nodes_at_pos[i]\n",
    "                id_2 = nodes_at_pos[j]\n",
    "                edges_to_add.add((id_1,id_2))\n",
    "    seq_graph.add_edges_from(edges_to_add)\n",
    "\n",
    "    # find best motif instances\n",
    "\n",
    "    # loop through nodes and remove motif instances until there are no neighboring motif instances\n",
    "    num_edges = seq_graph.number_of_edges()\n",
    "    num_nodes = seq_graph.number_of_nodes()\n",
    "    \n",
    "    node_counts = [num_nodes]\n",
    "    edge_counts = [num_edges]\n",
    "    motif_instances =[]\n",
    "    while num_edges > 0:\n",
    "        # sort nodes by motif score\n",
    "        sorted_nodes = sorted(seq_graph.nodes(data=True), key=lambda x: x[1]['score'], reverse=True)\n",
    "\n",
    "        top_node = sorted_nodes[0]\n",
    "        top_node_id = top_node[0]\n",
    "\n",
    "        # save motif instance\n",
    "        motif_instances.append(top_node)\n",
    "\n",
    "        # remove node and neighbors from graph\n",
    "        neighbors = seq_graph.neighbors(top_node_id)\n",
    "\n",
    "        seq_graph.remove_node(top_node_id)\n",
    "        seq_graph.remove_nodes_from(neighbors)\n",
    "\n",
    "        num_edges = seq_graph.number_of_edges()\n",
    "        num_nodes = seq_graph.number_of_nodes()\n",
    "\n",
    "        node_counts.append(num_nodes)\n",
    "        edge_counts.append(num_edges)\n",
    "        \n",
    "#         print(num_edges, num_nodes)\n",
    "        \n",
    "    # create list representation of motifs\n",
    "    sorted_motif_instances = sorted(motif_instances, key = lambda x:x[1]['start'])\n",
    "   \n",
    "    if algorithm_plot:\n",
    "        with sns.axes_style('ticks'):\n",
    "            fig, ax1 = plt.subplots()\n",
    "            ax2 = ax1.twinx()\n",
    "            ln1 = ax1.plot(list(range(len(node_counts))), \n",
    "                     node_counts, \n",
    "                     c='red',\n",
    "                     label = 'Motif Instances')\n",
    "\n",
    "            ln2 = ax2.plot(list(range(len(edge_counts))), \n",
    "                     edge_counts, \n",
    "                     c='blue',\n",
    "                     label = 'Motif Overlaps')\n",
    "        \n",
    "            ax1.set_xlabel('# Motifs Selected')\n",
    "            ax1.set_ylabel('# Motif Instances')\n",
    "            ax2.set_ylabel('# Motif Overlaps')\n",
    "            \n",
    "            lns = ln1+ln2\n",
    "            labs = [l.get_label() for l in lns]\n",
    "            ax2.legend(lns, labs, loc=0)\n",
    "            \n",
    "    # visualize loci\n",
    "    if color_dict == None:\n",
    "        color_dict = dict(zip(motif_names,\n",
    "                            sns.color_palette(\"hls\", len(motif_names))\n",
    "                            )\n",
    "                        )\n",
    "    with sns.axes_style('ticks'):\n",
    "        plt.figure(figsize=(16,2))\n",
    "        for mi in sorted_motif_instances:\n",
    "            name = mi[1]['name']\n",
    "            start = mi[1]['start']\n",
    "            end = mi[1]['end']\n",
    "            score = mi[1]['score']\n",
    "            orientation = mi[1]['orientation']\n",
    "\n",
    "            midpoint = start + (end - start)/2\n",
    "\n",
    "            color = color_dict[name]\n",
    "            # plot positions\n",
    "            if name in symmetric_motifs:\n",
    "                plt.plot([start, end], [0,0], c=color)\n",
    "            elif orientation == '+':\n",
    "                plt.arrow(start, 0, end-start, 0, \n",
    "                          color=color, \n",
    "                          width=0.1, \n",
    "                          head_width=1,\n",
    "                          length_includes_head=True)\n",
    "            else:\n",
    "                plt.arrow(end, 0, start-end, 0, \n",
    "                          color=color, \n",
    "                          width=0.1, \n",
    "                          head_width=1,\n",
    "                          length_includes_head=True)\n",
    "    #         plt.plot([start, end], [-1,-1], c=color)\n",
    "            # plot motif score\n",
    "            plt.plot([midpoint, midpoint], [0, score], c=color)\n",
    "            plt.annotate(xy=(midpoint-3.75, 1.5), s=name, size=8, rotation =90, ha='left', va='bottom')\n",
    "        plt.ylim(-1,14)\n",
    "        plt.xlim(0,seq_size)\n",
    "        plt.xlabel('Position')\n",
    "        plt.ylabel('Motif Score')\n",
    "        sns.despine()\n",
    "    \n",
    "    \n",
    "    return sorted_motif_instances"
   ]
  },
  {
   "cell_type": "code",
   "execution_count": 7,
   "metadata": {
    "collapsed": true
   },
   "outputs": [],
   "source": [
    "def calc_motif_sequence(seq_index,\n",
    "                        sequence_array_list, \n",
    "                        motif_score_dict, \n",
    "                        motif_score_rc_dict, \n",
    "                        motif_size_dict,\n",
    "                        threshold = 0,\n",
    "                        symmetric_motifs = [],\n",
    "                       ):\n",
    "    '''\n",
    "    visualize a single sequence using the highest scoring nonoverlapping motifs\n",
    "    '''\n",
    "    motif_names = sorted(motif_score_dict.keys())\n",
    "    seq_array = sequence_array_list[seq_index]\n",
    "    seq_size = seq_array.shape[0]\n",
    "    # initialize position_node array\n",
    "    position_node_array = [[] for x in range(seq_size)]\n",
    "\n",
    "    # intialize graph\n",
    "    seq_graph = nx.Graph()\n",
    "\n",
    "    # initialize\n",
    "    for motif in motif_names:\n",
    "        motif_size = motif_size_dict[motif]\n",
    "        indices = list(range(len(motif_score_dict[motif][seq_index])))\n",
    "        forward_scores = motif_score_dict[motif][seq_index]\n",
    "        revcomp_scores = motif_score_rc_dict[motif][seq_index]\n",
    "\n",
    "        # identify motif instances using score threshold\n",
    "        filtered_forward_motif_instances = [x for x in zip(indices, forward_scores) if x[1]>threshold]\n",
    "        filtered_revcomp_motif_instances = [x for x in zip(indices, revcomp_scores) if x[1]>threshold]\n",
    "\n",
    "        # create graph node for every forward motif instance\n",
    "        for mi in filtered_forward_motif_instances:\n",
    "            node_id = str(mi[0]) + '_' + motif\n",
    "            seq_graph.add_node(node_id, \n",
    "                               name=motif,\n",
    "                               start=mi[0], \n",
    "                               end = mi[0] + motif_size, \n",
    "                               score=mi[1], \n",
    "                               orientation='+')\n",
    "\n",
    "            # figure out positions motif instance occupies\n",
    "            start_position = mi[0]\n",
    "            end_position=start_position + motif_size\n",
    "\n",
    "            # add node_id to position_node array\n",
    "            for pos in range(start_position, end_position):\n",
    "                position_node_array[pos].append(node_id)\n",
    "\n",
    "        # create graph node for every revcomp motif instance\n",
    "        for mi in filtered_revcomp_motif_instances:\n",
    "            node_id = str(mi[0]) + '_' + motif\n",
    "            seq_graph.add_node(node_id, \n",
    "                               name=motif,\n",
    "                               start=mi[0], \n",
    "                               end = mi[0] + motif_size, \n",
    "                               score=mi[1], \n",
    "                               orientation='-')\n",
    "\n",
    "            # figure out positions motif instance occupies\n",
    "            start_position = mi[0]\n",
    "            end_position=start_position + motif_size\n",
    "\n",
    "            # add node_id to position_node array\n",
    "            for pos in range(start_position, end_position):\n",
    "                position_node_array[pos].append(node_id)\n",
    "\n",
    "    # figure out which edges to create\n",
    "    edges_to_add = set()\n",
    "    for pos in range(len(position_node_array)):\n",
    "        nodes_at_pos = position_node_array[pos]\n",
    "        # make sure edges are ordered alphabetically\n",
    "        # so I don't have to deal with A-B and B-A\n",
    "        nodes_at_pos.sort() \n",
    "        # generate proposed edges\n",
    "        num_nodes = len(nodes_at_pos)\n",
    "        for i in range(num_nodes - 1):\n",
    "            for j in range(i+1, num_nodes):\n",
    "                id_1 = nodes_at_pos[i]\n",
    "                id_2 = nodes_at_pos[j]\n",
    "                edges_to_add.add((id_1,id_2))\n",
    "    seq_graph.add_edges_from(edges_to_add)\n",
    "\n",
    "    # find best motif instances\n",
    "\n",
    "    # loop through nodes and remove motif instances until there are no neighboring motif instances\n",
    "    num_edges = seq_graph.number_of_edges()\n",
    "    num_nodes = seq_graph.number_of_nodes()\n",
    "    \n",
    "    node_counts = [num_nodes]\n",
    "    edge_counts = [num_edges]\n",
    "    motif_instances =[]\n",
    "    while num_edges > 0:\n",
    "        # sort nodes by motif score\n",
    "        sorted_nodes = sorted(seq_graph.nodes(data=True), key=lambda x: x[1]['score'], reverse=True)\n",
    "\n",
    "        top_node = sorted_nodes[0]\n",
    "        top_node_id = top_node[0]\n",
    "\n",
    "        # save motif instance\n",
    "        motif_to_save = top_node[1]\n",
    "        if motif_to_save['name'] in symmetric_motifs:\n",
    "            motif_to_save['orientation'] = '|'\n",
    "        motif_instances.append(motif_to_save)\n",
    "\n",
    "        # remove node and neighbors from graph\n",
    "        neighbors = seq_graph.neighbors(top_node_id)\n",
    "\n",
    "        seq_graph.remove_node(top_node_id)\n",
    "        seq_graph.remove_nodes_from(neighbors)\n",
    "\n",
    "        num_edges = seq_graph.number_of_edges()\n",
    "        num_nodes = seq_graph.number_of_nodes()\n",
    "\n",
    "        node_counts.append(num_nodes)\n",
    "        edge_counts.append(num_edges)\n",
    "        \n",
    "       \n",
    "    # create list representation of motifs\n",
    "    sorted_motif_instances = sorted(motif_instances, key = lambda x:x['start'])\n",
    "   \n",
    "    \n",
    "    \n",
    "    return sorted_motif_instances"
   ]
  },
  {
   "cell_type": "markdown",
   "metadata": {},
   "source": [
    "## Identify Acessible Promoters"
   ]
  },
  {
   "cell_type": "code",
   "execution_count": 205,
   "metadata": {
    "collapsed": false
   },
   "outputs": [
    {
     "name": "stdout",
     "output_type": "stream",
     "text": [
      "\tMax distance to merge: direct overlap required (-d given)\n",
      "\tMerging peaks... \n",
      "\tComparing ./resized_peak_files/c57bl6_kla-1h_peaks.tsv (31867 total) and ./resized_peak_files/c57bl6_kla-1h_peaks.tsv (31867 total)\n",
      "\tComparing ./resized_peak_files/c57bl6_kla-1h_peaks.tsv (31867 total) and ./resized_peak_files/c57bl6_ifng-1h_peaks.tsv (28784 total)\n",
      "\tComparing ./resized_peak_files/c57bl6_kla-1h_peaks.tsv (31867 total) and ./resized_peak_files/c57bl6_veh_peaks.tsv (32540 total)\n",
      "\tComparing ./resized_peak_files/c57bl6_ifng-1h_peaks.tsv (28784 total) and ./resized_peak_files/c57bl6_kla-1h_peaks.tsv (31867 total)\n",
      "\tComparing ./resized_peak_files/c57bl6_ifng-1h_peaks.tsv (28784 total) and ./resized_peak_files/c57bl6_ifng-1h_peaks.tsv (28784 total)\n",
      "\tComparing ./resized_peak_files/c57bl6_ifng-1h_peaks.tsv (28784 total) and ./resized_peak_files/c57bl6_veh_peaks.tsv (32540 total)\n",
      "\tComparing ./resized_peak_files/c57bl6_veh_peaks.tsv (32540 total) and ./resized_peak_files/c57bl6_kla-1h_peaks.tsv (31867 total)\n",
      "\tComparing ./resized_peak_files/c57bl6_veh_peaks.tsv (32540 total) and ./resized_peak_files/c57bl6_ifng-1h_peaks.tsv (28784 total)\n",
      "\tComparing ./resized_peak_files/c57bl6_veh_peaks.tsv (32540 total) and ./resized_peak_files/c57bl6_veh_peaks.tsv (32540 total)\n",
      "\n"
     ]
    }
   ],
   "source": [
    "! mergePeaks -d given -venn venn.txt ./resized_peak_files/c57bl6_kla-1h_peaks.tsv ./resized_peak_files/c57bl6_ifng-1h_peaks.tsv ./resized_peak_files/c57bl6_veh_peaks.tsv > ./merged_atac_veh_ifng_kla_peaks.tsv"
   ]
  },
  {
   "cell_type": "code",
   "execution_count": 207,
   "metadata": {
    "collapsed": false
   },
   "outputs": [
    {
     "name": "stderr",
     "output_type": "stream",
     "text": [
      "/gpfs/data01/glasslab/home/jtao/software/anaconda3/lib/python3.5/site-packages/ipykernel/__main__.py:20: SettingWithCopyWarning: \n",
      "A value is trying to be set on a copy of a slice from a DataFrame.\n",
      "Try using .loc[row_indexer,col_indexer] = value instead\n",
      "\n",
      "See the caveats in the documentation: http://pandas.pydata.org/pandas-docs/stable/indexing.html#indexing-view-versus-copy\n",
      "/gpfs/data01/glasslab/home/jtao/software/anaconda3/lib/python3.5/site-packages/ipykernel/__main__.py:21: SettingWithCopyWarning: \n",
      "A value is trying to be set on a copy of a slice from a DataFrame.\n",
      "Try using .loc[row_indexer,col_indexer] = value instead\n",
      "\n",
      "See the caveats in the documentation: http://pandas.pydata.org/pandas-docs/stable/indexing.html#indexing-view-versus-copy\n"
     ]
    }
   ],
   "source": [
    "# resize peaks\n",
    "target_peak_size = 150\n",
    "\n",
    "\n",
    "merged_frame = pd.read_csv('./merged_atac_veh_ifng_kla_peaks.tsv', sep='\\t')\n",
    "merged_frame.index = merged_frame.ix[:,0].values\n",
    "\n",
    "# filter away peaks in unused chromsomes\n",
    "filtered_frame = merged_frame[\n",
    "             ~(merged_frame['chr'].str.contains('chrY')) & \n",
    "             ~(merged_frame['chr'].str.contains('chrM')) &\n",
    "             ~(merged_frame['chr'].str.contains('random')) &\n",
    "             ~(merged_frame['chr'].str.contains('Un'))]\n",
    "\n",
    "# resize peaks\n",
    "peakCenters = (filtered_frame['start'] + filtered_frame['end']) /2\n",
    "int_peakCenters = np.ceil(peakCenters).astype(int)\n",
    "new_starts = int_peakCenters - int(target_peak_size/2)\n",
    "new_ends = int_peakCenters + int(target_peak_size/2)\n",
    "filtered_frame['start'] = new_starts\n",
    "filtered_frame['end'] = new_ends\n",
    "filtered_frame.to_csv('./merged_atac_veh_ifng_kla_resized_peaks.tsv', sep='\\t', index=False)"
   ]
  },
  {
   "cell_type": "code",
   "execution_count": 209,
   "metadata": {
    "collapsed": false,
    "scrolled": true
   },
   "outputs": [
    {
     "name": "stdout",
     "output_type": "stream",
     "text": [
      "\n",
      "\tPeak file = ./merged_atac_veh_ifng_kla_resized_peaks.tsv\n",
      "\tGenome = mm10\n",
      "\tOrganism = mouse\n",
      "\tTag Directories:\n",
      "\t\t./tag_directories_atac/C57Bl6_BMDM_ATAC_KLA-1h_BC_16-02-11-and-16-09-15\n",
      "\t\t./tag_directories_atac/C57Bl6_BMDM_ATAC_KLA-1h_BC_16-05-06\n",
      "\t\t./tag_directories_atac/C57Bl6_BMDM_ATAC_IFNg-1h_SD_SD340\n",
      "\t\t./tag_directories_atac/C57Bl6_BMDM_ATAC_IFNg-1h_SD_SD341\n",
      "\t\t./tag_directories_atac/C57Bl6_BMDM_ATAC_Veh_BC_16-02-11-and-16-09-15\n",
      "\t\t./tag_directories_atac/C57Bl6_BMDM_ATAC_Veh_BC_16-05-06\n",
      "\tPeak/BED file conversion summary:\n",
      "\t\tBED/Header formatted lines: 0\n",
      "\t\tpeakfile formatted lines: 49464\n",
      "\t\tDuplicated Peak IDs: 0\n",
      "\n",
      "\tPeak File Statistics:\n",
      "\t\tTotal Peaks: 49464\n",
      "\t\tRedundant Peak IDs: 0\n",
      "\t\tPeaks lacking information: 0 (need at least 5 columns per peak)\n",
      "\t\tPeaks with misformatted coordinates: 0 (should be integer)\n",
      "\t\tPeaks with misformatted strand: 0 (should be either +/- or 0/1)\n",
      "\n",
      "\tPeak file looks good!\n",
      "\n",
      "\tReading Positions...\n",
      "\t-----------------------\n",
      "\tFinding Closest TSS...\n",
      "\tAnnotating:....................\n",
      "\t\tAnnotation\tNumber of peaks\tTotal size (bp)\tLog2 Enrichment\n",
      "\t\t3UTR\t473.0\t19668322\t0.355\n",
      "\t\tmiRNA\t1.0\t20053\t1.407\n",
      "\t\tncRNA\t138.0\t2893366\t1.343\n",
      "\t\tTTS\t683.0\t26128255\t0.475\n",
      "\t\tpseudo\t6.0\t509738\t-0.676\n",
      "\t\tExon\t884.0\t33217203\t0.501\n",
      "\t\tIntron\t19347.0\t926318212\t0.151\n",
      "\t\tIntergenic\t16618.0\t1591257167\t-0.849\n",
      "\t\tPromoter\t10749.0\t28309367\t4.336\n",
      "\t\t5UTR\t561.0\t2077761\t3.844\n",
      "\t\tsnoRNA\t1.0\t19\t11.451\n",
      "\t\trRNA\t3.0\t5631\t4.824\n",
      "\tNOTE: If this part takes more than 2 minutes, there is a good chance\n",
      "\t\tyour machine ran out of memory: consider hitting ctrl+C and rerunning\n",
      "\t\tthe command with \"-noann\"\n",
      "\tTo capture annotation stats in a file, use \"-annStats <filename>\" next time\n",
      "\tAnnotating:....................\n",
      "\t\tAnnotation\tNumber of peaks\tTotal size (bp)\tLog2 Enrichment\n",
      "\t\t3UTR\t473.0\t19668322\t0.356\n",
      "\t\tOther\t76.0\t7166306\t-0.826\n",
      "\t\tRC?\t0.0\t10979\t-15.594\n",
      "\t\tRNA\t1.0\t114021\t-1.100\n",
      "\t\tmiRNA\t1.0\t20053\t1.408\n",
      "\t\tncRNA\t138.0\t2893366\t1.343\n",
      "\t\tTTS\t683.0\t26128255\t0.476\n",
      "\t\tLINE\t1546.0\t521357097\t-2.664\n",
      "\t\tLINE?\t0.0\t8168\t-15.594\n",
      "\t\tsrpRNA\t1.0\t43388\t0.294\n",
      "\t\tSINE\t1390.0\t194261631\t-1.393\n",
      "\t\tRC\t0.0\t65909\t-15.594\n",
      "\t\ttRNA\t27.0\t266920\t2.428\n",
      "\t\tDNA?\t0.0\t142594\t-15.594\n",
      "\t\tpseudo\t6.0\t509738\t-0.675\n",
      "\t\tDNA\t284.0\t28414247\t-0.911\n",
      "\t\tExon\t884.0\t33217203\t0.502\n",
      "\t\tIntron\t15400.0\t589127896\t0.476\n",
      "\t\tIntergenic\t12711.0\t801077083\t-0.244\n",
      "\t\tPromoter\t10749.0\t28309367\t4.336\n",
      "\t\t5UTR\t561.0\t2077761\t3.845\n",
      "\t\tsnoRNA\t1.0\t19\t11.451\n",
      "\t\tLTR?\t5.0\t193659\t0.458\n",
      "\t\tscRNA\t5.0\t579110\t-1.122\n",
      "\t\tCpG-Island\t1260.0\t3345642\t4.325\n",
      "\t\tLow_complexity\t143.0\t18533957\t-1.285\n",
      "\t\tLTR\t2923.0\t293374785\t-0.916\n",
      "\t\tSimple_repeat\t136.0\t55384339\t-2.936\n",
      "\t\tsnRNA\t4.0\t237355\t-0.157\n",
      "\t\tUnknown\t7.0\t1251155\t-1.748\n",
      "\t\tSINE?\t0.0\t29758\t-15.594\n",
      "\t\tSatellite\t27.0\t3706654\t-1.368\n",
      "\t\trRNA\t22.0\t165655\t2.821\n",
      "\tCounting Tags in Peaks from each directory...\n",
      "\tRatio for ./tag_directories_atac/C57Bl6_BMDM_ATAC_KLA-1h_BC_16-02-11-and-16-09-15 : 2.06387401122376\n",
      "\tRatio for ./tag_directories_atac/C57Bl6_BMDM_ATAC_KLA-1h_BC_16-05-06 : 1.69756258870826\n",
      "\tRatio for ./tag_directories_atac/C57Bl6_BMDM_ATAC_IFNg-1h_SD_SD340 : 2.73042612122218\n",
      "\tRatio for ./tag_directories_atac/C57Bl6_BMDM_ATAC_IFNg-1h_SD_SD341 : 2.58331647719332\n",
      "\tRatio for ./tag_directories_atac/C57Bl6_BMDM_ATAC_Veh_BC_16-02-11-and-16-09-15 : 2.90393015002574\n",
      "\tRatio for ./tag_directories_atac/C57Bl6_BMDM_ATAC_Veh_BC_16-05-06 : 1.40978920972715\n",
      "\tOrganism: mouse\n",
      "\tLoading Gene Informaiton...\n",
      "\tOutputing Annotation File...\n",
      "\tDone annotating peaks file\n",
      "\n"
     ]
    }
   ],
   "source": [
    "! annotatePeaks.pl ./merged_atac_veh_ifng_kla_resized_peaks.tsv mm10 -d ./tag_directories_atac/*KLA* ./tag_directories_atac/*IFNg* ./tag_directories_atac/*Veh* > ./annotated_atac_veh_ifng_kla_peaks.tsv"
   ]
  },
  {
   "cell_type": "code",
   "execution_count": 210,
   "metadata": {
    "collapsed": true
   },
   "outputs": [],
   "source": [
    "# read in annotated frame\n",
    "annotated_frame = pd.read_csv('./annotated_atac_veh_ifng_kla_peaks.tsv', sep='\\t')\n",
    "annotated_frame.index = annotated_frame.ix[:,0].values\n",
    "# annotated_frame.index = annotated_frame['Chr']+':'+(annotated_frame['Start']-1).astype(str)+'-'+annotated_frame['End'].astype(str)\n",
    "# get promoter associated peaks and associated gene names\n",
    "annotated_frame['Annotation'] = [x.split(' ')[0] for x in annotated_frame['Annotation'].astype(str)]\n",
    "promoter_ids = annotated_frame[annotated_frame['Annotation'].str.contains('promoter')].index.values\n",
    "annotated_promoter_frame = annotated_frame[annotated_frame.index.isin(promoter_ids)]\n",
    "\n",
    "\n",
    "columns = list(annotated_promoter_frame.columns.values)\n",
    "columns = columns[:4] + [x for x in columns[1:] if 'Tag Count' in x]\n",
    "\n",
    "annotated_promoter_frame =annotated_promoter_frame[columns]\n",
    "columns[0] = 'PeakID'\n",
    "columns = [x.split('/')[-1].split(' ')[0] if '/' in x else x for x in columns]\n",
    "annotated_promoter_frame.columns = columns\n",
    "treatments = set([x.split('_')[3] for x in annotated_promoter_frame.columns if '_' in x])\n",
    "\n",
    "for treatment in treatments:\n",
    "    treatment_cols = [x for x in columns if treatment in x]\n",
    "    annotated_promoter_frame[treatment] = annotated_promoter_frame[treatment_cols].mean(axis=1)\n",
    "    for t in treatment_cols:\n",
    "        del annotated_promoter_frame[t]\n",
    "\n",
    "filtered_frame = filtered_frame[filtered_frame.index.isin(promoter_ids)]\n",
    "\n",
    "filtered_frame.to_csv('./merged_atac_peaks_promoters.tsv', sep='\\t', index=False)"
   ]
  },
  {
   "cell_type": "code",
   "execution_count": 211,
   "metadata": {
    "collapsed": true
   },
   "outputs": [],
   "source": [
    "id_gene_dict = dict(zip(promoter_ids, annotated_frame.ix[promoter_ids,'Gene Name'].values))\n",
    "gene_id_dict = dict(zip(annotated_frame.ix[promoter_ids,'Gene Name'].values, promoter_ids))\n",
    "\n"
   ]
  },
  {
   "cell_type": "code",
   "execution_count": 212,
   "metadata": {
    "collapsed": false
   },
   "outputs": [
    {
     "name": "stdout",
     "output_type": "stream",
     "text": [
      "Finished reading merged peak file...\n",
      "Integrating scores for c57bl6_kla-1h\n",
      "Integrating scores for c57bl6_ifng-1h\n",
      "Integrating scores for c57bl6_veh\n"
     ]
    }
   ],
   "source": [
    "! makeSummaryFile.py ./merged_atac_peaks_promoters.tsv ./group_atac_promoter_summary.tsv ./resized_peak_files/c57bl6_kla-1h_peaks.tsv ./resized_peak_files/c57bl6_ifng-1h_peaks.tsv ./resized_peak_files/c57bl6_veh_peaks.tsv"
   ]
  },
  {
   "cell_type": "code",
   "execution_count": 213,
   "metadata": {
    "collapsed": true
   },
   "outputs": [],
   "source": [
    "# read in peak data data\n",
    "summary_frame = pd.read_csv('./group_atac_promoter_summary.tsv' , sep='\\t')\n",
    "summary_frame = summary_frame.fillna('0')\n",
    "for col in summary_frame.columns[5:]:\n",
    "    floatValues = []\n",
    "    for val in summary_frame[col].values.astype(str):\n",
    "        if ',' in val:\n",
    "            maxVal = np.mean([float(x) for x in val.split(',')])\n",
    "            floatValues.append(maxVal)\n",
    "        else:\n",
    "            floatValues.append(float(val))\n",
    "    summary_frame[col] = floatValues\n",
    "summary_frame.index = summary_frame['ID'].values\n"
   ]
  },
  {
   "cell_type": "markdown",
   "metadata": {},
   "source": [
    "## Calculate Motif Scores"
   ]
  },
  {
   "cell_type": "code",
   "execution_count": 215,
   "metadata": {
    "collapsed": false
   },
   "outputs": [
    {
     "name": "stderr",
     "output_type": "stream",
     "text": [
      "\n",
      "\tConverted 10749 peaks total\n",
      "\n"
     ]
    }
   ],
   "source": [
    "%%bash\n",
    "# extract sequences for analysis\n",
    "pos2bed.pl ./merged_atac_peaks_promoters.tsv > ./tmp\n",
    "tail -n +2 ./tmp > ./merged_atac_peaks_promoters.bed\n",
    "rm tmp"
   ]
  },
  {
   "cell_type": "code",
   "execution_count": 216,
   "metadata": {
    "collapsed": false
   },
   "outputs": [
    {
     "name": "stdout",
     "output_type": "stream",
     "text": [
      "reading genome mm10\r\n"
     ]
    }
   ],
   "source": [
    "!/gpfs/data01/glasslab/home/jtao/code/tba/extract_sequences.py ./merged_atac_peaks_promoters.bed mm10 ./merged_atac_peaks_promoters.fasta"
   ]
  },
  {
   "cell_type": "code",
   "execution_count": 217,
   "metadata": {
    "collapsed": false,
    "scrolled": true
   },
   "outputs": [
    {
     "name": "stdout",
     "output_type": "stream",
     "text": [
      "CEBP-related_1_merged calculation time: 48.22063446044922\n",
      "Brachyury-related_1_merged calculation time: 48.447853803634644\n",
      "Bach1::Mafk calculation time: 49.32014441490173\n",
      "CREB1 calculation time: 47.52396202087402\n",
      "CEBPA calculation time: 48.569976568222046\n",
      "CTCF calculation time: 47.38583779335022\n",
      "Arid5a calculation time: 50.261611461639404\n",
      "E2F-related_3_merged calculation time: 46.23663401603699\n",
      "CP2-related_1_merged calculation time: 48.30460858345032\n",
      "AP-2_2_merged calculation time: 51.52819848060608\n",
      "BCL6B calculation time: 50.12594985961914\n",
      "Ahr::Arnt calculation time: 51.5624623298645\n",
      "ATF4 calculation time: 51.836594343185425\n",
      "Ddit3::Cebpa calculation time: 47.73860239982605\n",
      "DMRT3 calculation time: 48.4640429019928\n",
      "E2F1 calculation time: 47.539663553237915\n",
      "EBF1 calculation time: 47.51175045967102\n",
      "Bcl6 calculation time: 51.79398560523987\n",
      "CENPB calculation time: 50.8032169342041\n",
      "E2F-related_1_merged calculation time: 49.117496728897095\n",
      "CREB-related_1_merged calculation time: 50.66426086425781\n",
      "Dux calculation time: 49.57693099975586\n",
      "E2F-related_2_merged calculation time: 49.53038549423218\n",
      "Arid3a calculation time: 55.08298349380493\n",
      "Arid3b calculation time: 54.88897395133972\n",
      "CEBP-related_2_merged calculation time: 56.04649901390076\n",
      "BARHL2 calculation time: 62.09493970870972\n",
      "AP-2_1_merged calculation time: 65.47262787818909\n",
      "EGR1 calculation time: 47.22380208969116\n",
      "Forkhead_1_merged calculation time: 47.26416254043579\n",
      "Factors_1_merged calculation time: 48.32236361503601\n",
      "Foxq1 calculation time: 47.678900957107544\n",
      "GATA1::TAL1 calculation time: 47.81835675239563\n",
      "FOXH1 calculation time: 49.66010570526123\n",
      "Ets-related_1_merged calculation time: 50.156781911849976\n",
      "Foxd3 calculation time: 49.12205123901367\n",
      "GATA-type_1_merged calculation time: 48.954906702041626\n",
      "GMEB2 calculation time: 48.20199656486511\n",
      "Gfi1 calculation time: 48.2796106338501\n",
      "Gmeb1 calculation time: 47.86607623100281\n",
      "HD-CUT_2_merged calculation time: 47.44980597496033\n",
      "Gabpa calculation time: 48.612497329711914\n",
      "HINFP calculation time: 47.77073097229004\n",
      "Ets-related_2_merged calculation time: 52.60517930984497\n",
      "HNF4G calculation time: 48.64206552505493\n",
      "GCM_1_merged calculation time: 51.88470959663391\n",
      "HD-CUT_1_merged calculation time: 50.83592486381531\n",
      "GLI2 calculation time: 53.205474615097046\n",
      "HOX-related_1_merged calculation time: 50.606321811676025\n",
      "HMBOX1 calculation time: 52.516010761260986\n",
      "HLTF calculation time: 56.29179382324219\n",
      "Gfi1b calculation time: 59.755291223526\n",
      "EWSR1-FLI1 calculation time: 63.279306173324585\n",
      "HOX-related_3_merged calculation time: 54.369887828826904\n",
      "HOX-related_4_merged calculation time: 54.98702049255371\n",
      "HOX-related_2_merged calculation time: 71.0733962059021\n",
      "Klf12 calculation time: 52.85969567298889\n",
      "MAFG::NFE2L1 calculation time: 62.09734654426575\n",
      "HSF_1_merged calculation time: 78.05450963973999\n",
      "Jun-related_2_merged calculation time: 74.81953310966492\n",
      "Lhx3 calculation time: 75.11934852600098\n",
      "Interferon-regulatory_1_merged calculation time: 83.00098991394043\n",
      "Hoxd8 calculation time: 85.23387551307678\n",
      "IRF1 calculation time: 84.74373173713684\n",
      "MZF1_var.2 calculation time: 79.1827301979065\n",
      "IRF2 calculation time: 86.21265006065369\n",
      "Hand1::Tcf3 calculation time: 88.9351875782013\n",
      "Hnf4a calculation time: 88.16157293319702\n",
      "Hairy-related_1_merged calculation time: 89.62371015548706\n",
      "HOXA5 calculation time: 93.23257637023926\n",
      "Hes2 calculation time: 90.31825399398804\n",
      "More_4_merged calculation time: 64.22691464424133\n",
      "MAFG calculation time: 89.33021068572998\n",
      "MAF::NFE2 calculation time: 90.10672187805176\n",
      "Jun-related_1_merged calculation time: 91.87456035614014\n",
      "LIN54 calculation time: 92.48372006416321\n",
      "Maf-related_1_merged calculation time: 85.76358771324158\n",
      "INSM1 calculation time: 96.04235625267029\n",
      "MZF1 calculation time: 91.65162777900696\n",
      "Mecom calculation time: 86.22004580497742\n",
      "MTF1 calculation time: 96.02141261100769\n",
      "More_1_merged calculation time: 88.95935010910034\n",
      "More_2_merged calculation time: 92.22106885910034\n",
      "More_5_merged calculation time: 59.89278030395508\n",
      "More_3_merged calculation time: 98.67902660369873\n",
      "MybSANT_1_merged calculation time: 76.47874641418457\n",
      "Myb calculation time: 88.73167562484741\n",
      "NF-kappaB-related_1_merged calculation time: 75.52043509483337\n",
      "Myod1 calculation time: 85.8975145816803\n",
      "NFIC::TLX1 calculation time: 79.17729377746582\n",
      "NFYA calculation time: 79.09772038459778\n",
      "MyoD_1_merged calculation time: 93.84408116340637\n",
      "NFAT-related_1_merged calculation time: 84.71057724952698\n",
      "PAS_1_merged calculation time: 70.99403953552246\n",
      "Nr5a2 calculation time: 74.9640600681305\n",
      "NK-related_1_merged calculation time: 85.43687748908997\n",
      "NFIL3 calculation time: 87.18512296676636\n",
      "Nfe2l2 calculation time: 81.16059494018555\n",
      "NFYB calculation time: 87.81887412071228\n",
      "NRF1 calculation time: 83.50658440589905\n",
      "NF-kappaB-related_2_merged calculation time: 91.33620834350586\n",
      "NR2F1 calculation time: 89.15764427185059\n",
      "Nr2e3 calculation time: 82.19977188110352\n",
      "Nkx2-5 calculation time: 87.0275399684906\n",
      "NR4A2 calculation time: 90.31393671035767\n",
      "Nr2e1 calculation time: 87.3598210811615\n",
      "NK-related_2_merged calculation time: 94.58951258659363\n",
      "Nr1h3::Rxra calculation time: 90.96472477912903\n",
      "Nkx2-5_var.2 calculation time: 95.33024716377258\n",
      "PBX1 calculation time: 79.56266736984253\n",
      "Nuclear_1_merged calculation time: 95.4639937877655\n",
      "PLAG1 calculation time: 79.9434461593628\n",
      "PAX5 calculation time: 90.82683110237122\n",
      "POU_2_merged calculation time: 69.56352877616882\n",
      "Paired-related_3_merged calculation time: 57.761539459228516\n",
      "POU6F2 calculation time: 85.22376155853271\n",
      "POU_1_merged calculation time: 87.3910722732544\n",
      "PPARG calculation time: 78.7962954044342\n",
      "Paired-related_2_merged calculation time: 71.66736960411072\n",
      "RXR-related_1_merged calculation time: 58.28627610206604\n",
      "Paired-related_5_merged calculation time: 74.67719602584839\n",
      "Paired-related_1_merged calculation time: 79.46953701972961\n",
      "PROX1 calculation time: 80.23644781112671\n",
      "Paired_2_merged calculation time: 77.16722536087036\n",
      "RREB1 calculation time: 73.43175339698792\n",
      "Pax2 calculation time: 81.4160692691803\n",
      "POU_3_merged calculation time: 94.43315958976746\n",
      "RORA calculation time: 75.20460176467896\n",
      "Paired-related_4_merged calculation time: 86.30104637145996\n",
      "RFX-related_1_merged calculation time: 82.18714880943298\n",
      "REST calculation time: 83.55637502670288\n",
      "Paired_1_merged calculation time: 88.96298027038574\n",
      "Pax6 calculation time: 90.64038372039795\n",
      "RXR-related_2_merged calculation time: 74.60656881332397\n",
      "Pou5f1::Sox2 calculation time: 90.99437808990479\n",
      "PRDM1 calculation time: 104.95531368255615\n",
      "RORA_var.2 calculation time: 92.04425430297852\n",
      "Regulators_1_merged calculation time: 80.03405141830444\n",
      "RXR-related_3_merged calculation time: 86.67884588241577\n",
      "RXRA::VDR calculation time: 89.18424320220947\n",
      "RUNX1 calculation time: 100.19776773452759\n",
      "Rhox11 calculation time: 74.78095698356628\n",
      "SMAD2::SMAD3::SMAD4 calculation time: 74.41473340988159\n",
      "SMAD3 calculation time: 80.74768543243408\n",
      "SOX-related_1_merged calculation time: 81.0962495803833\n",
      "SOX-related_3_merged calculation time: 78.68790102005005\n",
      "Runt-related_1_merged calculation time: 97.22203254699707\n",
      "SOX-related_2_merged calculation time: 85.65005493164062\n",
      "STAT1::STAT2 calculation time: 73.19014406204224\n",
      "SPDEF calculation time: 81.1722764968872\n",
      "SPIB calculation time: 83.92636680603027\n",
      "Spz1 calculation time: 76.38739228248596\n",
      "Six3 calculation time: 81.81358075141907\n",
      "SRF calculation time: 87.5320873260498\n",
      "Sox17 calculation time: 82.71598410606384\n",
      "SOX10 calculation time: 94.20107388496399\n",
      "STAT_1_merged calculation time: 87.0963065624237\n",
      "Steroid_2_merged calculation time: 82.62495946884155\n",
      "TAL1::TCF3 calculation time: 81.09963583946228\n",
      "TALE-type_1_merged calculation time: 81.07586455345154\n",
      "TBP calculation time: 80.05299544334412\n",
      "Steroid_3_merged calculation time: 89.69040536880493\n",
      "Steroid_1_merged calculation time: 92.12266445159912\n",
      "TCF-7-related_1_merged calculation time: 80.28448724746704\n",
      "TALE-type_2_merged calculation time: 89.89296841621399\n",
      "TEF-1-related_1_merged calculation time: 83.33113837242126\n",
      "TBrain-related_1_merged calculation time: 90.79157876968384\n",
      "TP53 calculation time: 81.4577112197876\n",
      "THAP1 calculation time: 87.6886796951294\n",
      "Tal-related_2_merged calculation time: 69.50063943862915\n",
      "Tal-related_1_merged calculation time: 79.67826771736145\n",
      "Three-zinc_1_merged calculation time: 71.61593198776245\n",
      "Vdr calculation time: 67.94426822662354\n",
      "Three-zinc_2_merged calculation time: 72.93333339691162\n",
      "YY2 calculation time: 67.56188607215881\n",
      "YY1 calculation time: 70.31639552116394\n",
      "ZBTB33 calculation time: 61.58327388763428\n",
      "XBP1 calculation time: 73.14071846008301\n",
      "Three-zinc_3_merged calculation time: 76.81505274772644\n",
      "ZEB1 calculation time: 65.52838468551636\n",
      "Zfx calculation time: 55.743549823760986\n",
      "ZBED1 calculation time: 73.59370827674866\n",
      "ZNF143 calculation time: 65.5279769897461\n",
      "ZNF740 calculation time: 58.85153532028198\n",
      "ZNF263 calculation time: 64.43897080421448\n",
      "ZNF410 calculation time: 63.08976674079895\n",
      "ZBTB18 calculation time: 74.66679811477661\n",
      "Znf423 calculation time: 60.53893256187439\n",
      "ZBTB7A calculation time: 78.93809103965759\n",
      "p53-related_1_merged calculation time: 59.698336124420166\n",
      "ZNF354C calculation time: 75.84065246582031\n",
      "bHLH-ZIP_1_merged calculation time: 67.5472948551178\n",
      "total time 526.7614312171936\n"
     ]
    }
   ],
   "source": [
    "# calculate motif scores\n",
    "! rm -r ./motif_scores_promoters\n",
    "!/gpfs/data01/glasslab/home/jtao/code/tba/calculate_all_motif_scores.py -num_procs 28 ./merged_atac_peaks_promoters.fasta ./motif_scores_promoters /gpfs/data01/glasslab/home/jtao/analysis/jaspar_analysis/curated_motifs/*motif "
   ]
  },
  {
   "cell_type": "code",
   "execution_count": 218,
   "metadata": {
    "collapsed": false,
    "scrolled": true
   },
   "outputs": [
    {
     "name": "stdout",
     "output_type": "stream",
     "text": [
      "reading AP-2_1_merged\n",
      "reading AP-2_2_merged\n",
      "reading ATF4\n",
      "reading Ahr::Arnt\n",
      "reading Arid3a\n",
      "reading Arid3b\n",
      "reading Arid5a\n",
      "reading BARHL2\n",
      "reading BCL6B\n",
      "reading Bach1::Mafk\n",
      "reading Bcl6\n",
      "reading Brachyury-related_1_merged\n",
      "reading CEBP-related_1_merged\n",
      "reading CEBP-related_2_merged\n",
      "reading CEBPA\n",
      "reading CENPB\n",
      "reading CP2-related_1_merged\n",
      "reading CREB-related_1_merged\n",
      "reading CREB1\n",
      "reading CTCF\n",
      "reading DMRT3\n",
      "reading Ddit3::Cebpa\n",
      "reading Dux\n",
      "reading E2F-related_1_merged\n",
      "reading E2F-related_2_merged\n",
      "reading E2F-related_3_merged\n",
      "reading E2F1\n",
      "reading EBF1\n",
      "reading EGR1\n",
      "reading EWSR1-FLI1\n",
      "reading Ets-related_1_merged\n",
      "reading Ets-related_2_merged\n",
      "reading FOXH1\n",
      "reading Factors_1_merged\n",
      "reading Forkhead_1_merged\n",
      "reading Foxd3\n",
      "reading Foxq1\n",
      "reading GATA-type_1_merged\n",
      "reading GATA1::TAL1\n",
      "reading GCM_1_merged\n",
      "reading GLI2\n",
      "reading GMEB2\n",
      "reading Gabpa\n",
      "reading Gfi1\n",
      "reading Gfi1b\n",
      "reading Gmeb1\n",
      "reading HD-CUT_1_merged\n",
      "reading HD-CUT_2_merged\n",
      "reading HINFP\n",
      "reading HLTF\n",
      "reading HMBOX1\n",
      "reading HNF4G\n",
      "reading HOX-related_1_merged\n",
      "reading HOX-related_2_merged\n",
      "reading HOX-related_3_merged\n",
      "reading HOX-related_4_merged\n",
      "reading HOXA5\n",
      "reading HSF_1_merged\n",
      "reading Hairy-related_1_merged\n",
      "reading Hand1::Tcf3\n",
      "reading Hes2\n",
      "reading Hnf4a\n",
      "reading Hoxd8\n",
      "reading INSM1\n",
      "reading IRF1\n",
      "reading IRF2\n",
      "reading Interferon-regulatory_1_merged\n",
      "reading Jun-related_1_merged\n",
      "reading Jun-related_2_merged\n",
      "reading Klf12\n",
      "reading LIN54\n",
      "reading Lhx3\n",
      "reading MAF::NFE2\n",
      "reading MAFG\n",
      "reading MAFG::NFE2L1\n",
      "reading MTF1\n",
      "reading MZF1\n",
      "reading MZF1_var\n",
      "reading Maf-related_1_merged\n",
      "reading Mecom\n",
      "reading More_1_merged\n",
      "reading More_2_merged\n",
      "reading More_3_merged\n",
      "reading More_4_merged\n",
      "reading More_5_merged\n",
      "reading Myb\n",
      "reading MybSANT_1_merged\n",
      "reading MyoD_1_merged\n",
      "reading Myod1\n",
      "reading NF-kappaB-related_1_merged\n",
      "reading NF-kappaB-related_2_merged\n",
      "reading NFAT-related_1_merged\n",
      "reading NFIC::TLX1\n",
      "reading NFIL3\n",
      "reading NFYA\n",
      "reading NFYB\n",
      "reading NK-related_1_merged\n",
      "reading NK-related_2_merged\n",
      "reading NR2F1\n",
      "reading NR4A2\n",
      "reading NRF1\n",
      "reading Nfe2l2\n",
      "reading Nkx2-5\n",
      "reading Nkx2-5_var\n",
      "reading Nr1h3::Rxra\n",
      "reading Nr2e1\n",
      "reading Nr2e3\n",
      "reading Nr5a2\n",
      "reading Nuclear_1_merged\n",
      "reading PAS_1_merged\n",
      "reading PAX5\n",
      "reading PBX1\n",
      "reading PLAG1\n",
      "reading POU6F2\n",
      "reading POU_1_merged\n",
      "reading POU_2_merged\n",
      "reading POU_3_merged\n",
      "reading PPARG\n",
      "reading PRDM1\n",
      "reading PROX1\n",
      "reading Paired-related_1_merged\n",
      "reading Paired-related_2_merged\n",
      "reading Paired-related_3_merged\n",
      "reading Paired-related_4_merged\n",
      "reading Paired-related_5_merged\n",
      "reading Paired_1_merged\n",
      "reading Paired_2_merged\n",
      "reading Pax2\n",
      "reading Pax6\n",
      "reading Pou5f1::Sox2\n",
      "reading REST\n",
      "reading RFX-related_1_merged\n",
      "reading RORA\n",
      "reading RORA_var\n",
      "reading RREB1\n",
      "reading RUNX1\n",
      "reading RXR-related_1_merged\n",
      "reading RXR-related_2_merged\n",
      "reading RXR-related_3_merged\n",
      "reading RXRA::VDR\n",
      "reading Regulators_1_merged\n",
      "reading Rhox11\n",
      "reading Runt-related_1_merged\n",
      "reading SMAD2::SMAD3::SMAD4\n",
      "reading SMAD3\n",
      "reading SOX-related_1_merged\n",
      "reading SOX-related_2_merged\n",
      "reading SOX-related_3_merged\n",
      "reading SOX10\n",
      "reading SPDEF\n",
      "reading SPIB\n",
      "reading SRF\n",
      "reading STAT1::STAT2\n",
      "reading STAT_1_merged\n",
      "reading Six3\n",
      "reading Sox17\n",
      "reading Spz1\n",
      "reading Steroid_1_merged\n",
      "reading Steroid_2_merged\n",
      "reading Steroid_3_merged\n",
      "reading TAL1::TCF3\n",
      "reading TALE-type_1_merged\n",
      "reading TALE-type_2_merged\n",
      "reading TBP\n",
      "reading TBrain-related_1_merged\n",
      "reading TCF-7-related_1_merged\n",
      "reading TEF-1-related_1_merged\n",
      "reading THAP1\n",
      "reading TP53\n",
      "reading Tal-related_1_merged\n",
      "reading Tal-related_2_merged\n",
      "reading Three-zinc_1_merged\n",
      "reading Three-zinc_2_merged\n",
      "reading Three-zinc_3_merged\n",
      "reading Vdr\n",
      "reading XBP1\n",
      "reading YY1\n",
      "reading YY2\n",
      "reading ZBED1\n",
      "reading ZBTB18\n",
      "reading ZBTB33\n",
      "reading ZBTB7A\n",
      "reading ZEB1\n",
      "reading ZNF143\n",
      "reading ZNF263\n",
      "reading ZNF354C\n",
      "reading ZNF410\n",
      "reading ZNF740\n",
      "reading Zfx\n",
      "reading Znf423\n",
      "reading bHLH-ZIP_1_merged\n",
      "reading p53-related_1_merged\n"
     ]
    }
   ],
   "source": [
    "motif_score_dict = {}\n",
    "motif_score_rc_dict = {}\n",
    "for f in sorted(os.listdir('./motif_scores_promoters/')):\n",
    "    motif_name = f.split('.')[0]\n",
    "    if 'rc' in f:\n",
    "        print('reading', motif_name)\n",
    "        motif_score_rc_dict[motif_name] = pickle.load(open('./motif_scores_promoters/'+f, 'rb'))\n",
    "    else:\n",
    "        motif_score_dict[motif_name] = pickle.load(open('./motif_scores_promoters/'+f, 'rb'))\n",
    "\n",
    "\n"
   ]
  },
  {
   "cell_type": "code",
   "execution_count": 219,
   "metadata": {
    "collapsed": false,
    "scrolled": true
   },
   "outputs": [],
   "source": [
    "pseudocount = 0.001\n",
    "motif_file_path = '/gpfs/data01/glasslab/home/jtao/analysis/jaspar_analysis/curated_motifs/'\n",
    "all_motifs = []\n",
    "\n",
    "for m in os.listdir(motif_file_path):\n",
    "    if '.motif' in m:\n",
    "        motif = read_motif_file(motif_file_path + '/' + m, pseudocount)\n",
    "        all_motifs.append(motif)\n",
    "# sort motifs by name\n",
    "all_motifs.sort(key=lambda x:x[0])\n",
    "\n",
    "fasta_path = './merged_atac_peaks_promoters.fasta'\n",
    "\n",
    "sequence_list, id_list = read_fasta(fasta_path)\n",
    "\n",
    "# convert strings to arrays\n",
    "sequence_array_list = convert_sequences_to_array(sequence_list)\n",
    "\n",
    "motif_size_dict = {}\n",
    "for motif in all_motifs:\n",
    "    name = motif[0]\n",
    "    size = motif[1].shape[0]\n",
    "    if '.' in name:\n",
    "        name = '.'.join(name.split('.')[:-1])\n",
    "    motif_size_dict[name] = size\n",
    "\n",
    "motif_names = sorted(motif_size_dict.keys())"
   ]
  },
  {
   "cell_type": "markdown",
   "metadata": {},
   "source": [
    "## Identify Symmetric Motifs"
   ]
  },
  {
   "cell_type": "code",
   "execution_count": 220,
   "metadata": {
    "collapsed": false
   },
   "outputs": [],
   "source": [
    "num_sequence_to_sample = 100\n",
    "num_seqs = len(sequence_array_list)\n",
    "mean_pearsons = []\n",
    "motif_symmetryPearson_dict = {}\n",
    "for motif in sorted(motif_score_dict.keys()):\n",
    "    \n",
    "    pearsons = []\n",
    "    for i in range(num_sequence_to_sample):\n",
    "        index = np.random.randint(0,num_seqs)\n",
    "\n",
    "        forward_scores = motif_score_dict[motif][index]\n",
    "        reverse_scores = motif_score_rc_dict[motif][index]\n",
    "\n",
    "        pearson, pval = scipy.stats.pearsonr(forward_scores, reverse_scores)\n",
    "        pearsons.append(pearson)\n",
    "    mean_pearson = np.mean(pearsons)\n",
    "    mean_pearsons.append(mean_pearson)\n",
    "    motif_symmetryPearson_dict[motif] = mean_pearson\n",
    "symmetric_motifs = [x for x in motif_symmetryPearson_dict if motif_symmetryPearson_dict[x] > 0.8]\n"
   ]
  },
  {
   "cell_type": "markdown",
   "metadata": {},
   "source": [
    "## Read in Expression Data"
   ]
  },
  {
   "cell_type": "code",
   "execution_count": 428,
   "metadata": {
    "collapsed": true
   },
   "outputs": [],
   "source": [
    "diff_expression_frame = pd.read_csv('./edgeR_out.tsv', sep='\\t')\n",
    "columns = diff_expression_frame.columns.values\n",
    "columns[0] = 'refseq'\n",
    "columns[7] = 'gene'\n",
    "\n",
    "columns = [x.lower() for x in columns]\n",
    "diff_expression_frame.columns = columns"
   ]
  },
  {
   "cell_type": "code",
   "execution_count": 429,
   "metadata": {
    "collapsed": false
   },
   "outputs": [],
   "source": [
    "diff_expression_frame = diff_expression_frame.ix[:,['refseq', 'chr', 'start', 'end', 'gene'] + [x for x in diff_expression_frame.columns if 'vs.' in x]]\n",
    "diff_expression_frame['gene'] = [x.split('|')[0] for x in diff_expression_frame['gene'].values]"
   ]
  },
  {
   "cell_type": "code",
   "execution_count": 430,
   "metadata": {
    "collapsed": false
   },
   "outputs": [
    {
     "name": "stderr",
     "output_type": "stream",
     "text": [
      "/gpfs/data01/glasslab/home/jtao/software/anaconda3/lib/python3.5/site-packages/ipykernel/__main__.py:20: SettingWithCopyWarning: \n",
      "A value is trying to be set on a copy of a slice from a DataFrame.\n",
      "Try using .loc[row_indexer,col_indexer] = value instead\n",
      "\n",
      "See the caveats in the documentation: http://pandas.pydata.org/pandas-docs/stable/indexing.html#indexing-view-versus-copy\n"
     ]
    }
   ],
   "source": [
    "rpkm_frame = pd.read_csv('./rpkm.tsv', sep='\\t')\n",
    "columns = rpkm_frame.columns.values\n",
    "columns[0] = 'Refseq'\n",
    "columns[7] = 'Gene'\n",
    "rpkm_frame.columns = columns\n",
    "rpkm_frame['All Gene Names'] = rpkm_frame['Gene'].values\n",
    "rpkm_frame['Gene'] = [x.split('|')[0] for x in rpkm_frame['Gene'].values]\n",
    "rpkm_frame.index = rpkm_frame['Gene'].values\n",
    "rpkm_frame.drop('chr', axis=1, inplace=True)\n",
    "rpkm_frame.drop('start', axis=1, inplace=True)\n",
    "rpkm_frame.drop('end', axis=1, inplace=True)\n",
    "rpkm_frame.drop('strand', axis=1, inplace=True)\n",
    "rpkm_frame.drop('Length', axis=1, inplace=True)\n",
    "rpkm_frame.drop('Copies', axis=1, inplace=True)\n",
    "\n",
    "rpkm_mean_frame = rpkm_frame[['Refseq', 'Gene', 'All Gene Names']]\n",
    "for condition in ['Veh-1h', 'KLA-1h', 'IFNg-1h']:\n",
    "    current_cols = [x for x in rpkm_frame.columns if condition in x]\n",
    "    mean_vals = rpkm_frame[current_cols].mean(axis=1)\n",
    "    rpkm_mean_frame[condition] = mean_vals\n",
    "    "
   ]
  },
  {
   "cell_type": "code",
   "execution_count": null,
   "metadata": {
    "collapsed": false
   },
   "outputs": [],
   "source": [
    "sns.jointplot(np.log2(rpkm_mean_frame['Veh-1h']+1),\n",
    "              np.log2(rpkm_mean_frame['KLA-1h']+1),\n",
    "              s=5)"
   ]
  },
  {
   "cell_type": "code",
   "execution_count": null,
   "metadata": {
    "collapsed": false
   },
   "outputs": [],
   "source": [
    "sns.jointplot(np.log2(rpkm_mean_frame['Veh-1h']+1),\n",
    "              np.log2(rpkm_mean_frame['IFNg-1h']+1),\n",
    "              s=5)"
   ]
  },
  {
   "cell_type": "code",
   "execution_count": 285,
   "metadata": {
    "collapsed": false
   },
   "outputs": [],
   "source": [
    "diff_expressed_genes = diff_expression_frame[(diff_expression_frame['veh-1h vs. ifng-1h adj. p-value'] < 0.05) |\n",
    "                                             (diff_expression_frame['veh-1h vs. kla-1h adj. p-value'] < 0.05) |\n",
    "                                             (diff_expression_frame['ifng-1h vs. kla-1h adj. p-value'] < 0.05)\n",
    "                                            ]['gene'].values\n",
    "\n",
    "\n",
    "\n"
   ]
  },
  {
   "cell_type": "code",
   "execution_count": 452,
   "metadata": {
    "collapsed": false
   },
   "outputs": [
    {
     "name": "stdout",
     "output_type": "stream",
     "text": [
      "(1290, 3)\n"
     ]
    },
    {
     "data": {
      "image/png": "[encoded data removed]",
      "text/plain": [
       "<matplotlib.figure.Figure at 0x7f3a91861c50>"
      ]
     },
     "metadata": {},
     "output_type": "display_data"
    }
   ],
   "source": [
    "numRowClusters = 6\n",
    "colorDict = dict(zip(range(numRowClusters),['red', 'blue', 'yellow', 'orange', 'green', 'magenta']))\n",
    "\n",
    "data = rpkm_mean_frame[(rpkm_mean_frame['Gene'].isin(diff_expressed_genes)) &\n",
    "                (rpkm_mean_frame.ix[:,3:].max(axis=1) >= 32)].ix[:,3:]\n",
    "# zscores = np.log2(data+1).apply(scipy.stats.zscore, axis=0)\n",
    "zscores = data.apply(scipy.stats.zscore, axis=1)\n",
    "\n",
    "\n",
    "cg=sns.clustermap(zscores,\n",
    "               yticklabels=False,\n",
    "               col_cluster=False,\n",
    "               row_cluster=True,\n",
    "               vmin=-2,\n",
    "               vmax=2,\n",
    "               cmap='coolwarm'\n",
    "              )\n",
    "plt.close()\n",
    "row_linkage = cg.dendrogram_row.linkage\n",
    "\n",
    "row_flatCluster = scipy.cluster.hierarchy.fcluster(row_linkage, numRowClusters, criterion=\"maxclust\")\n",
    "\n",
    "row_colors = [colorDict[row_flatCluster[i] -1] for i in range(len(zscores.index))]\n",
    "sns.clustermap(zscores, \n",
    "                row_linkage = row_linkage,\n",
    "                row_colors = row_colors,\n",
    "                yticklabels = False,\n",
    "                col_cluster=False,\n",
    "                vmin=-2,\n",
    "                vmax=2,\n",
    "                cmap='coolwarm'\n",
    ")\n",
    "\n",
    "print(data.shape)"
   ]
  },
  {
   "cell_type": "markdown",
   "metadata": {},
   "source": [
    "### Name Clusters"
   ]
  },
  {
   "cell_type": "code",
   "execution_count": 454,
   "metadata": {
    "collapsed": false
   },
   "outputs": [],
   "source": [
    "# ['red', 'blue', 'yellow', 'orange', 'green', 'magenta']\n",
    "cluster_name_dict = {1:'KLA Down',2:'IFNg Specific',3:'Veh Specific',4:'KLA Specific', 5:'KLA Specific', 6:'IFNg Down'}"
   ]
  },
  {
   "cell_type": "markdown",
   "metadata": {},
   "source": [
    "## Identifying Signal Specific Syntax"
   ]
  },
  {
   "cell_type": "code",
   "execution_count": 434,
   "metadata": {
    "collapsed": false
   },
   "outputs": [],
   "source": [
    "gene_cluster_dict = dict(zip(zscores.index.values, row_flatCluster))\n",
    "cluster_genes_dict = {x:[] for x in range(1,numRowClusters+1)}\n",
    "for gene in gene_cluster_dict:\n",
    "    cluster = gene_cluster_dict[gene] \n",
    "    cluster_genes_dict[cluster].append(gene)"
   ]
  },
  {
   "cell_type": "code",
   "execution_count": 435,
   "metadata": {
    "collapsed": true
   },
   "outputs": [],
   "source": [
    "id_sequence_array_dict = dict(zip(id_list, sequence_array_list))"
   ]
  },
  {
   "cell_type": "code",
   "execution_count": 443,
   "metadata": {
    "collapsed": false
   },
   "outputs": [
    {
     "name": "stdout",
     "output_type": "stream",
     "text": [
      "1\n",
      "321 321\n",
      "241 241\n",
      "2\n",
      "436 436\n",
      "345 345\n",
      "3\n",
      "94 94\n",
      "81 81\n",
      "5\n",
      "285 285\n",
      "217 217\n",
      "6\n",
      "139 139\n",
      "115 115\n"
     ]
    }
   ],
   "source": [
    "cluster_id_dict = {}\n",
    "for cluster in cluster_genes_dict:\n",
    "    cluster_genes = cluster_genes_dict[cluster]\n",
    "    cluster_seq_ids = []\n",
    "    \n",
    "    for g in cluster_genes:\n",
    "        if g in gene_id_dict:\n",
    "            cluster_seq_ids.append(gene_id_dict[g])\n",
    "    if len(cluster_seq_ids) > 50:\n",
    "        cluster_id_dict[cluster] = cluster_seq_ids\n",
    "        print(cluster)\n",
    "        print(len(cluster_genes), len(set(cluster_genes)))\n",
    "        print(len(cluster_seq_ids), len(set(cluster_seq_ids)))\n",
    "\n"
   ]
  },
  {
   "cell_type": "markdown",
   "metadata": {},
   "source": [
    "## Promoter Stats"
   ]
  },
  {
   "cell_type": "code",
   "execution_count": null,
   "metadata": {
    "collapsed": false
   },
   "outputs": [],
   "source": [
    "treatments = summary_frame.columns[5:]\n",
    "id_set_list = []\n",
    "labels = []\n",
    "for t in treatments:\n",
    "    id_set_list.append(set(summary_frame[summary_frame[t] > 0].index.values))\n",
    "    labels.append(t.split('_')[1])"
   ]
  },
  {
   "cell_type": "code",
   "execution_count": null,
   "metadata": {
    "collapsed": false
   },
   "outputs": [],
   "source": [
    "matplotlib_venn.venn3(id_set_list, labels)"
   ]
  },
  {
   "cell_type": "code",
   "execution_count": null,
   "metadata": {
    "collapsed": false
   },
   "outputs": [],
   "source": [
    "sns.jointplot(annotated_promoter_frame['Veh'], annotated_promoter_frame['KLA-1h'], s=5)"
   ]
  },
  {
   "cell_type": "code",
   "execution_count": null,
   "metadata": {
    "collapsed": false
   },
   "outputs": [],
   "source": [
    "sns.jointplot(annotated_promoter_frame['Veh'], annotated_promoter_frame['IFNg-1h'], s=5)"
   ]
  },
  {
   "cell_type": "code",
   "execution_count": null,
   "metadata": {
    "collapsed": false
   },
   "outputs": [],
   "source": [
    "sns.jointplot(annotated_promoter_frame['IFNg-1h'], annotated_promoter_frame['KLA-1h'], s=5)"
   ]
  },
  {
   "cell_type": "code",
   "execution_count": null,
   "metadata": {
    "collapsed": false
   },
   "outputs": [],
   "source": [
    "sns.clustermap(np.log2(annotated_promoter_frame.ix[:,-3:]+1), \n",
    "               col_cluster = False,\n",
    "               yticklabels=False, \n",
    "               xticklabels=True,\n",
    "               cmap='Greys',\n",
    "               vmax=8)"
   ]
  },
  {
   "cell_type": "code",
   "execution_count": null,
   "metadata": {
    "collapsed": false
   },
   "outputs": [],
   "source": [
    "ratios = (annotated_promoter_frame['KLA-1h'] + 1 )/(annotated_promoter_frame['IFNg-1h'] + 1)\n"
   ]
  },
  {
   "cell_type": "markdown",
   "metadata": {},
   "source": [
    "## Best Motif Sequence "
   ]
  },
  {
   "cell_type": "code",
   "execution_count": null,
   "metadata": {
    "collapsed": false
   },
   "outputs": [],
   "source": [
    "id_motif_sequence_dict = {}\n",
    "for seq_index in range(len(sequence_array_list)):\n",
    "    \n",
    "    msl = calc_motif_sequence(seq_index,\n",
    "                        sequence_array_list, \n",
    "                        motif_score_dict, \n",
    "                        motif_score_rc_dict, \n",
    "                        motif_size_dict,\n",
    "                        threshold = 0,\n",
    "                        symmetric_motifs = symmetric_motifs,\n",
    "                       )\n",
    "    seq_id = id_list[seq_index]\n",
    "    id_motif_sequence_dict[seq_id] = msl\n",
    "    if seq_index % 100 == 0:\n",
    "        print(seq_index)"
   ]
  },
  {
   "cell_type": "code",
   "execution_count": null,
   "metadata": {
    "collapsed": true
   },
   "outputs": [],
   "source": [
    "pickle.dump(id_motif_sequence_dict, open('./id_motif_sequence_dict.pickle', 'wb'))"
   ]
  },
  {
   "cell_type": "code",
   "execution_count": null,
   "metadata": {
    "collapsed": false
   },
   "outputs": [],
   "source": [
    "id_motif_sequence_dict = pickle.load(open('./id_motif_sequence_dict.pickle', 'rb'))"
   ]
  },
  {
   "cell_type": "markdown",
   "metadata": {},
   "source": [
    "### Motif K-mers"
   ]
  },
  {
   "cell_type": "code",
   "execution_count": null,
   "metadata": {
    "collapsed": false
   },
   "outputs": [],
   "source": [
    "k = 3\n",
    "frequency_list = []\n",
    "cluster_list = []\n",
    "kmer_list = []\n",
    "\n",
    "for key in cluster_id_dict:\n",
    "    cluster_ids = cluster_id_dict[key]\n",
    "    motif_sequence_list = [id_motif_sequence_dict[x] for x in cluster_ids ]\n",
    "    kmer_count_dict = {}\n",
    "    for msl in motif_sequence_list:\n",
    "        for i in range(0, len(msl) - k + 1):\n",
    "            kmer = msl[i:i+k]\n",
    "            kmer_token = ' * '.join([m['name'] + ' ' + m['orientation'] for m in kmer])\n",
    "            if kmer_token in kmer_count_dict:\n",
    "                kmer_count_dict[kmer_token] +=1\n",
    "            else:\n",
    "                kmer_count_dict[kmer_token] = 1\n",
    "    kmer_count_list = [(x,kmer_count_dict[x]) for x in kmer_count_dict]\n",
    "    \n",
    "    num_seqs = len(motif_sequence_list)\n",
    "    frequencies = [x[1]/num_seqs for x in kmer_count_list]\n",
    "    names = [x[0] for x in kmer_count_list]\n",
    "    \n",
    "    kmer_list = kmer_list + names\n",
    "    cluster_list = cluster_list + [key] * len(frequencies)\n",
    "    frequency_list = frequency_list + frequencies\n",
    "            "
   ]
  },
  {
   "cell_type": "code",
   "execution_count": null,
   "metadata": {
    "collapsed": true
   },
   "outputs": [],
   "source": [
    "frame = pd.DataFrame({'K-mer':kmer_list,\n",
    "                      'Cluster':cluster_list,\n",
    "                      'Frequency':frequency_list})"
   ]
  },
  {
   "cell_type": "code",
   "execution_count": null,
   "metadata": {
    "collapsed": false
   },
   "outputs": [],
   "source": [
    "frame.sort('Frequency', ascending=False, inplace = True)\n",
    "num_kmers_to_show = 50\n",
    "kmers_to_show = set()\n",
    "ordered_kmers = frame['K-mer'].values\n",
    "counter = 0\n",
    "while len(kmers_to_show) < num_kmers_to_show and counter < len(ordered_kmers):\n",
    "    candidate = ordered_kmers[counter]\n",
    "#     if 'ap-1' in candidate and 'cebp' in candidate:\n",
    "    kmers_to_show.add(ordered_kmers[counter])\n",
    "    counter +=1"
   ]
  },
  {
   "cell_type": "code",
   "execution_count": null,
   "metadata": {
    "collapsed": false
   },
   "outputs": [],
   "source": [
    "sns.factorplot(data = frame[frame['K-mer'].isin(kmers_to_show)],\n",
    "               x='K-mer',\n",
    "               y = 'Frequency',\n",
    "               hue = 'Cluster',\n",
    "               kind='bar',\n",
    "               hue_order=[1,2,3,4],\n",
    "               size=8)\n",
    "plt.xticks(rotation = 90);"
   ]
  },
  {
   "cell_type": "code",
   "execution_count": null,
   "metadata": {
    "collapsed": false
   },
   "outputs": [],
   "source": [
    "sns.distplot(frame['Frequency'])\n",
    "plt.xlabel('Fraction of Promoters in Cluster that Contains Motif K-mer')\n",
    "plt.ylabel('# Motif K-mer')"
   ]
  },
  {
   "cell_type": "markdown",
   "metadata": {},
   "source": [
    "## Motif skip-mers"
   ]
  },
  {
   "cell_type": "code",
   "execution_count": null,
   "metadata": {
    "collapsed": false
   },
   "outputs": [],
   "source": [
    "k = 3\n",
    "frequency_list = []\n",
    "cluster_list = []\n",
    "kmer_list = []\n",
    "for key in cluster_id_dict:\n",
    "    print('cluster', key)\n",
    "    cluster_ids = cluster_id_dict[key]\n",
    "    motif_sequence_list = [id_motif_sequence_dict[x] for x in cluster_ids ]\n",
    "    kmer_count_dict = {}\n",
    "    counter = 0\n",
    "    for msl in motif_sequence_list:\n",
    "        for x in range(0,len(msl) - 2):\n",
    "            for y in range(x+1, len(msl) - 1):\n",
    "                for z in range(y+1, len(msl)):\n",
    "                    kmer = [msl[x], msl[y], msl[z]]\n",
    "                    kmer_token = ' * '.join([m['name'] + ' ' + m['orientation'] for m in kmer])\n",
    "                    if kmer_token in kmer_count_dict:\n",
    "                        kmer_count_dict[kmer_token] +=1\n",
    "                    else:\n",
    "                        kmer_count_dict[kmer_token] = 1\n",
    "        counter+=1\n",
    "        if counter %100 ==0:\n",
    "            print(counter)\n",
    "    kmer_count_list = [(x,kmer_count_dict[x]) for x in kmer_count_dict]\n",
    "    \n",
    "    num_seqs = len(motif_sequence_list)\n",
    "    frequencies = [x[1]/num_seqs for x in kmer_count_list]\n",
    "    names = [x[0] for x in kmer_count_list]\n",
    "    \n",
    "    kmer_list = kmer_list + names\n",
    "    cluster_list = cluster_list + [key] * len(frequencies)\n",
    "    frequency_list = frequency_list + frequencies\n",
    "cluster_name_list = [cluster_name_dict[x] for x in cluster_list]\n",
    "\n",
    "            "
   ]
  },
  {
   "cell_type": "code",
   "execution_count": null,
   "metadata": {
    "collapsed": true
   },
   "outputs": [],
   "source": [
    "frame = pd.DataFrame({'K-mer':kmer_list,\n",
    "                      'Cluster':cluster_list,\n",
    "                      'Frequency':frequency_list,\n",
    "                      'Cluster Name':cluster_name_list})"
   ]
  },
  {
   "cell_type": "code",
   "execution_count": null,
   "metadata": {
    "collapsed": false
   },
   "outputs": [],
   "source": [
    "frame.sort('Frequency', ascending=False, inplace = True)\n",
    "num_kmers_to_show = 50\n",
    "kmers_to_show = set()\n",
    "ordered_kmers = frame['K-mer'].values\n",
    "counter = 0\n",
    "while len(kmers_to_show) < num_kmers_to_show and counter < len(ordered_kmers):\n",
    "    candidate = ordered_kmers[counter]\n",
    "    if not 'mzf1' in candidate and not 'nfi' in candidate:\n",
    "        kmers_to_show.add(ordered_kmers[counter])\n",
    "    counter +=1"
   ]
  },
  {
   "cell_type": "code",
   "execution_count": null,
   "metadata": {
    "collapsed": false
   },
   "outputs": [],
   "source": [
    "sns.factorplot(data = frame[frame['K-mer'].isin(kmers_to_show)],\n",
    "               x='K-mer',\n",
    "               y = 'Frequency',\n",
    "               hue = 'Cluster Name',\n",
    "               kind='bar',\n",
    "#                hue_order=[1,2,3,4],\n",
    "               size=8)\n",
    "plt.xticks(rotation = 90);"
   ]
  },
  {
   "cell_type": "code",
   "execution_count": null,
   "metadata": {
    "collapsed": false
   },
   "outputs": [],
   "source": [
    "sns.distplot(frame['Frequency'])\n",
    "plt.xlabel('Fraction of Promoters in Cluster that Contains Motif K-mer')\n",
    "plt.ylabel('# Motif K-mer')"
   ]
  },
  {
   "cell_type": "code",
   "execution_count": null,
   "metadata": {
    "collapsed": false,
    "scrolled": false
   },
   "outputs": [],
   "source": [
    "_=plot_motif_sequence(100,\n",
    "                        sequence_array_list, \n",
    "                        motif_score_dict, \n",
    "                        motif_score_rc_dict, \n",
    "                        motif_size_dict,\n",
    "                        threshold = 0,\n",
    "                        color_dict = None,\n",
    "                        symmetric_motifs = symmetric_motifs,\n",
    "                        algorithm_plot = False,\n",
    "                       )"
   ]
  },
  {
   "cell_type": "markdown",
   "metadata": {
    "collapsed": true
   },
   "source": [
    "# New Motif Sequence Algorithm"
   ]
  },
  {
   "cell_type": "markdown",
   "metadata": {},
   "source": [
    "### Identify Expressed TFs and Motifs"
   ]
  },
  {
   "cell_type": "markdown",
   "metadata": {},
   "source": [
    "#### Read in motif gene mapping"
   ]
  },
  {
   "cell_type": "code",
   "execution_count": 229,
   "metadata": {
    "collapsed": false
   },
   "outputs": [],
   "source": [
    "gene_motif_dict = {}\n",
    "with open('/gpfs/data01/glasslab/home/jtao/analysis/jaspar_analysis/clustered_motifs/motifGene.txt') as f:\n",
    "    data = f.readlines()\n",
    "for line in data:\n",
    "    tokens = line.strip().split()\n",
    "    motif = tokens[0]\n",
    "    genes = tokens[1].split('|')\n",
    "    for g in genes:\n",
    "        if g in gene_motif_dict:\n",
    "            gene_motif_dict[g.upper()].append(motif)\n",
    "        else:\n",
    "            gene_motif_dict[g.upper()] = [motif]"
   ]
  },
  {
   "cell_type": "markdown",
   "metadata": {},
   "source": [
    "### Plot # of motifs vs expression threshold"
   ]
  },
  {
   "cell_type": "code",
   "execution_count": 415,
   "metadata": {
    "collapsed": false
   },
   "outputs": [
    {
     "data": {
      "text/plain": [
       "<matplotlib.text.Text at 0x7f371cbe3ac8>"
      ]
     },
     "execution_count": 415,
     "metadata": {},
     "output_type": "execute_result"
    },
    {
     "data": {
      "image/png": "[encoded data removed]",
      "text/plain": [
       "<matplotlib.figure.Figure at 0x7f369bf0f4e0>"
      ]
     },
     "metadata": {},
     "output_type": "display_data"
    }
   ],
   "source": [
    "expression_threshold = 16\n",
    "# thresholds = [1,2,4,8,16,32,64,128]\n",
    "thresholds = range(100)\n",
    "num_motifs = []\n",
    "for expression_threshold in thresholds:\n",
    "    motifs_at_threshold = []\n",
    "    gene_names = rpkm_mean_frame[\n",
    "        rpkm_mean_frame.ix[:,2:].max(axis=1) >= expression_threshold\n",
    "                    ].ix[:,'All Gene Names'].values\n",
    "    for gn in gene_names:\n",
    "        genes = gn.upper().split('|')\n",
    "        for g in genes:\n",
    "            if g in gene_motif_dict:\n",
    "                motifs_at_threshold += gene_motif_dict[g]\n",
    "    motifs_at_threshold = sorted(set(motifs_at_threshold))\n",
    "    num_motifs.append(len(motifs_at_threshold))\n",
    "plt.plot(thresholds, num_motifs) \n",
    "plt.xlabel('Expression Threshold (RPKM)')\n",
    "plt.ylabel('Number of Motifs')"
   ]
  },
  {
   "cell_type": "code",
   "execution_count": 416,
   "metadata": {
    "collapsed": false
   },
   "outputs": [
    {
     "name": "stdout",
     "output_type": "stream",
     "text": [
      "57\n"
     ]
    }
   ],
   "source": [
    "expression_threshold = 20\n",
    "motifs_to_include = []\n",
    "gene_names = rpkm_mean_frame[\n",
    "    rpkm_mean_frame.ix[:,2:].max(axis=1) >= expression_threshold\n",
    "                ].ix[:,'All Gene Names'].values\n",
    "for gn in gene_names:\n",
    "    genes = gn.upper().split('|')\n",
    "    for g in genes:\n",
    "        if g in gene_motif_dict:\n",
    "            motifs_to_include += gene_motif_dict[g]\n",
    "motifs_to_include = sorted(set(motifs_to_include))\n",
    "print(len(set(motifs_to_include)))"
   ]
  },
  {
   "cell_type": "code",
   "execution_count": 417,
   "metadata": {
    "collapsed": false
   },
   "outputs": [
    {
     "name": "stdout",
     "output_type": "stream",
     "text": [
      "ATF4\n",
      "Bcl6\n",
      "CEBP-related_1_merged\n",
      "CEBP-related_2_merged\n",
      "CENPB\n",
      "CREB-related_1_merged\n",
      "Ddit3::Cebpa\n",
      "E2F-related_1_merged\n",
      "EGR1\n",
      "Ets-related_1_merged\n",
      "Ets-related_2_merged\n",
      "Forkhead_1_merged\n",
      "Fos-related_1_merged\n",
      "HD-CUT_1_merged\n",
      "Hairy-related_1_merged\n",
      "IRF1\n",
      "IRF2\n",
      "Interferon-regulatory_1_merged\n",
      "Jun-related_1_merged\n",
      "Jun-related_2_merged\n",
      "Jun-related_3_merged\n",
      "MAFG\n",
      "MAFG::NFE2L1\n",
      "Maf-related_1_merged\n",
      "More_1_merged\n",
      "More_3_merged\n",
      "NF-kappaB-related_1_merged\n",
      "NF-kappaB-related_2_merged\n",
      "NFIL3\n",
      "NFYA\n",
      "NRF1\n",
      "Nfe2l2\n",
      "Nr1h3::Rxra\n",
      "PAS_1_merged\n",
      "POU_2_merged\n",
      "PPARG\n",
      "PRDM1\n",
      "Paired-related_3_merged\n",
      "RUNX1\n",
      "RXR-related_1_merged\n",
      "RXR-related_3_merged\n",
      "Regulators_1_merged\n",
      "SRF\n",
      "STAT1::STAT2\n",
      "STAT_1_merged\n",
      "Steroid_2_merged\n",
      "Steroid_3_merged\n",
      "TALE-type_1_merged\n",
      "TBrain-related_1_merged\n",
      "TP53\n",
      "Three-zinc_1_merged\n",
      "Three-zinc_3_merged\n",
      "XBP1\n",
      "YY1\n",
      "ZBTB7A\n",
      "bHLH-ZIP_1_merged\n",
      "p53-related_1_merged\n"
     ]
    }
   ],
   "source": [
    "for m in motifs_to_include:\n",
    "    print(m)"
   ]
  },
  {
   "cell_type": "markdown",
   "metadata": {
    "collapsed": true
   },
   "source": [
    "### Refactor motif_score_dict"
   ]
  },
  {
   "cell_type": "code",
   "execution_count": 418,
   "metadata": {
    "collapsed": false
   },
   "outputs": [],
   "source": [
    "id_motifScore_forward_dict = {}\n",
    "for i in range(len(id_list)):\n",
    "    current_id = id_list[i]\n",
    "    current_dict = {}\n",
    "    for motif in motifs_to_include:\n",
    "        if motif in motif_score_dict:\n",
    "            current_dict[motif] = motif_score_dict[motif][i]\n",
    "    id_motifScore_forward_dict[current_id] = current_dict"
   ]
  },
  {
   "cell_type": "code",
   "execution_count": 419,
   "metadata": {
    "collapsed": true
   },
   "outputs": [],
   "source": [
    "id_motifScore_reverse_dict = {}\n",
    "for i in range(len(id_list)):\n",
    "    current_id = id_list[i]\n",
    "    current_dict = {}\n",
    "    for motif in motifs_to_include:\n",
    "        if motif in motif_score_rc_dict:\n",
    "            current_dict[motif] = motif_score_rc_dict[motif][i]\n",
    "    id_motifScore_reverse_dict[current_id] = current_dict"
   ]
  },
  {
   "cell_type": "code",
   "execution_count": 476,
   "metadata": {
    "collapsed": false
   },
   "outputs": [],
   "source": [
    "def calc_multi_motif_sequence(seq_array, \n",
    "                              forward_score_dict, \n",
    "                              reverse_score_dict, \n",
    "                              motif_size_dict,\n",
    "                              score_threshold = 0,\n",
    "                              distance_threshold = 200,\n",
    "                              symmetric_motifs = []\n",
    "                             ):\n",
    "    '''\n",
    "    '''\n",
    "    motif_names = sorted(forward_score_dict.keys())\n",
    "    seq_size = seq_array.shape[0]\n",
    "    # initialize position_node array\n",
    "    position_node_array = [[] for x in range(seq_size)]\n",
    "\n",
    "    # intialize graph\n",
    "    seq_graph = nx.DiGraph()\n",
    "\n",
    "    # initialize\n",
    "    for motif in motif_names:\n",
    "        motif_size = motif_size_dict[motif]\n",
    "        indices = list(range(len(forward_score_dict[motif])))\n",
    "        forward_scores = forward_score_dict[motif]\n",
    "        revcomp_scores = reverse_score_dict[motif]\n",
    "\n",
    "        # identify motif instances using score score_threshold\n",
    "        filtered_forward_motif_instances = [x for x in zip(indices, forward_scores) if x[1]>score_threshold]\n",
    "        filtered_revcomp_motif_instances = [x for x in zip(indices, revcomp_scores) if x[1]>score_threshold]\n",
    "\n",
    "        # create graph node for every forward motif instance\n",
    "        for mi in filtered_forward_motif_instances:\n",
    "            node_id = str(mi[0]) + ' ' + motif + ' +'\n",
    "            seq_graph.add_node(node_id, \n",
    "                               name=motif,\n",
    "                               start=mi[0], \n",
    "                               end = mi[0] + motif_size, \n",
    "                               score=mi[1], \n",
    "                               orientation='+')\n",
    "\n",
    "            # figure out positions motif instance occupies\n",
    "            start_position = mi[0]\n",
    "            end_position=start_position + motif_size\n",
    "\n",
    "            # add node_id to position_node array\n",
    "            for pos in range(start_position, end_position):\n",
    "                position_node_array[pos].append(node_id)\n",
    "\n",
    "        # create graph node for every revcomp motif instance\n",
    "        for mi in filtered_revcomp_motif_instances:\n",
    "            node_id = str(mi[0]) + ' ' + motif + ' -'\n",
    "            seq_graph.add_node(node_id, \n",
    "                               name=motif,\n",
    "                               start=mi[0], \n",
    "                               end = mi[0] + motif_size, \n",
    "                               score=mi[1], \n",
    "                               orientation='-')\n",
    "\n",
    "            # figure out positions motif instance occupies\n",
    "            start_position = mi[0]\n",
    "            end_position=start_position + motif_size\n",
    "\n",
    "            # add node_id to position_node array\n",
    "            for pos in range(start_position, end_position):\n",
    "                position_node_array[pos].append(node_id)\n",
    "\n",
    "    # add edges\n",
    "    all_nodes = seq_graph.nodes(data=True)\n",
    "    edges_to_add = []\n",
    "    for node in all_nodes:\n",
    "        # find the first nonoverlapping motif(s)\n",
    "        end_pos = node[1]['end']\n",
    "        first_neighbor_pos = end_pos\n",
    "        candidate_neighbors = []\n",
    "        while len(candidate_neighbors) < 1 and first_neighbor_pos < seq_size:\n",
    "            candidate_neighbors = position_node_array[first_neighbor_pos]\n",
    "            first_neighbor_pos += 1\n",
    "            \n",
    "        # find largest motif amongst the first nonoverlapping motif(s)\n",
    "        max_size_end = -1\n",
    "        max_size_start = -1\n",
    "        for n in candidate_neighbors:\n",
    "            neighbor = seq_graph.node[n]\n",
    "            neighbor_end = neighbor['end']\n",
    "            neighbor_start = neighbor['start']\n",
    "            if neighbor_end > max_size_end:\n",
    "                max_size_end = neighbor_end\n",
    "                max_size_start = neighbor_start\n",
    "        # identify all motifs that overlap with the first largest nonoverlapping motif(s)\n",
    "        for pos in range(max_size_start, max_size_end):\n",
    "            candidate_neighbors = candidate_neighbors + position_node_array[pos]\n",
    "        candidate_neighbors = set(candidate_neighbors)\n",
    "        \n",
    "        for n in candidate_neighbors:\n",
    "            neighbor = seq_graph.node[n]\n",
    "            neighbor_start = neighbor['start']\n",
    "            if neighbor_start >= end_pos:\n",
    "                edges_to_add.append((node[0], n))\n",
    "    seq_graph.add_edges_from(edges_to_add)\n",
    "\n",
    "    # creat start node and connect all nodes with 0 incoming edges\n",
    "    start_edges = []\n",
    "    for node_id, in_degree in seq_graph.in_degree_iter():\n",
    "        if in_degree == 0:\n",
    "            start_edges.append(('start', node_id))\n",
    "            \n",
    "    # create end node and connect all nodes with 0 outgoing edges\n",
    "    end_edges = []\n",
    "    for node_id, out_degree in seq_graph.out_degree_iter():\n",
    "        if out_degree == 0:\n",
    "            end_edges.append((node_id, 'end'))\n",
    "    \n",
    "    seq_graph.add_edges_from(start_edges)\n",
    "    seq_graph.add_edges_from(end_edges)\n",
    "    \n",
    "    # generate all paths from start to end node\n",
    "    paths = nx.all_simple_paths(seq_graph, 'start', 'end')\n",
    "    \n",
    "    # add data to list of paths\n",
    "    id_score_dict = nx.get_node_attributes(seq_graph, 'score')\n",
    "    paths_with_data = []\n",
    "    paths_without_data = []\n",
    "    counter = 0\n",
    "    for p in paths:\n",
    "        \n",
    "        if counter > 1000:\n",
    "            print('Too many paths!!!')\n",
    "            return seq_graph, [], [] \n",
    "        counter += 1\n",
    "        \n",
    "        current_p_with_data = []\n",
    "        current_p_without_data = []\n",
    "        for n in p:\n",
    "#             if n == 'start':\n",
    "#                 motif_name = 'start'\n",
    "#                 orientation = '|'\n",
    "#                 score = score_threshold\n",
    "#             elif n == 'end':\n",
    "#                 motif_name = 'end'\n",
    "#                 orientation = '|'\n",
    "#                 score = score_threshold\n",
    "#             else:\n",
    "            # exclude end and start nodes which were created just for creating paths\n",
    "            if not n== 'start' and not n == 'end':\n",
    "                tokens = n.split()\n",
    "                motif_name = tokens[1]\n",
    "                orientation = tokens[2]\n",
    "                score = id_score_dict[n]\n",
    "                \n",
    "                n_with_data = (motif_name, orientation, score)\n",
    "                current_p_with_data.append(n_with_data)\n",
    "                current_p_without_data.append(motif_name + ' ' + orientation)\n",
    "        paths_with_data.append(current_p_with_data)\n",
    "        paths_without_data.append(current_p_without_data)\n",
    "\n",
    "    return seq_graph, paths_with_data, paths_without_data"
   ]
  },
  {
   "cell_type": "code",
   "execution_count": 477,
   "metadata": {
    "collapsed": false
   },
   "outputs": [
    {
     "name": "stdout",
     "output_type": "stream",
     "text": [
      "Name: \n",
      "Type: DiGraph\n",
      "Number of nodes: 19\n",
      "Number of edges: 37\n",
      "Average in degree:   1.9474\n",
      "Average out degree:   1.9474\n"
     ]
    }
   ],
   "source": [
    "index = 1\n",
    "seq_array = sequence_array_list[index]\n",
    "forward_score_dict = id_motifScore_forward_dict[id_list[index]]\n",
    "reverse_score_dict = id_motifScore_reverse_dict[id_list[index]]\n",
    "graph, paths, paths_nodata = calc_multi_motif_sequence(seq_array, \n",
    "                              forward_score_dict, \n",
    "                              reverse_score_dict, \n",
    "                              motif_size_dict,\n",
    "                              score_threshold = 5,\n",
    "                              distance_threshold = 50,\n",
    "                              symmetric_motifs = symmetric_motifs\n",
    "                             )\n",
    "print(nx.info(graph))"
   ]
  },
  {
   "cell_type": "code",
   "execution_count": 478,
   "metadata": {
    "collapsed": false
   },
   "outputs": [
    {
     "data": {
      "image/png": "[encoded data removed]",
      "text/plain": [
       "<matplotlib.figure.Figure at 0x7f39909bd048>"
      ]
     },
     "metadata": {},
     "output_type": "display_data"
    }
   ],
   "source": [
    "nx.draw(graph,\n",
    "        node_size=50,\n",
    "        with_labels=True,\n",
    "        font_size = 8,\n",
    "        pos=graphviz_layout(graph, prog = 'dot'))\n"
   ]
  },
  {
   "cell_type": "markdown",
   "metadata": {},
   "source": [
    "### Generate All Motif Paths for All Sequences"
   ]
  },
  {
   "cell_type": "markdown",
   "metadata": {},
   "source": [
    "### Identify Promoters that fall in one of the clusters"
   ]
  },
  {
   "cell_type": "markdown",
   "metadata": {},
   "source": [
    "### Associate cluster with sequence IDs"
   ]
  },
  {
   "cell_type": "code",
   "execution_count": 479,
   "metadata": {
    "collapsed": false
   },
   "outputs": [],
   "source": [
    "clustered_ids = []\n",
    "for cluster in cluster_id_dict:\n",
    "    peak_ids = cluster_id_dict[cluster]\n",
    "    cluster_frame = filtered_frame.loc[peak_ids,['chr', 'start', 'end']]\n",
    "    new_ids = cluster_frame['chr'] + ':' + (cluster_frame['start'] - 1).astype(str) + '-' + cluster_frame['end'].astype(str)\n",
    "    clustered_ids = clustered_ids + list(new_ids.values)\n",
    "clustered_ids = sorted(set(clustered_ids))"
   ]
  },
  {
   "cell_type": "markdown",
   "metadata": {},
   "source": [
    "### Calculate motif paths for sequences"
   ]
  },
  {
   "cell_type": "code",
   "execution_count": 480,
   "metadata": {
    "collapsed": false,
    "scrolled": true
   },
   "outputs": [
    {
     "name": "stdout",
     "output_type": "stream",
     "text": [
      "0\n",
      "Too many paths!!!\n",
      "100\n",
      "Too many paths!!!\n",
      "Too many paths!!!\n",
      "Too many paths!!!\n",
      "Too many paths!!!\n",
      "Too many paths!!!\n",
      "Too many paths!!!\n",
      "200\n",
      "Too many paths!!!\n",
      "300\n",
      "Too many paths!!!\n",
      "Too many paths!!!\n",
      "Too many paths!!!\n",
      "400\n",
      "Too many paths!!!\n",
      "500\n",
      "Too many paths!!!\n",
      "Too many paths!!!\n",
      "Too many paths!!!\n",
      "600\n",
      "Too many paths!!!\n",
      "Too many paths!!!\n",
      "Too many paths!!!\n",
      "700\n",
      "800\n",
      "Too many paths!!!\n",
      "Too many paths!!!\n",
      "900\n",
      "Too many paths!!!\n",
      "Too many paths!!!\n",
      "Too many paths!!!\n",
      "23\n"
     ]
    }
   ],
   "source": [
    "id_pathList_dict = {}\n",
    "counter = 0\n",
    "for index in range(len(clustered_ids)):\n",
    "    if index % 100 ==0: \n",
    "        print(index)\n",
    "    seq_id = clustered_ids[index]\n",
    "    seq_array = sequence_array_list[index]\n",
    "    forward_score_dict = id_motifScore_forward_dict[seq_id]\n",
    "    reverse_score_dict = id_motifScore_reverse_dict[seq_id]\n",
    "    result = calc_multi_motif_sequence(seq_array, \n",
    "             forward_score_dict, \n",
    "             reverse_score_dict, \n",
    "             motif_size_dict,\n",
    "             score_threshold = 5,\n",
    "             distance_threshold = 200,\n",
    "             symmetric_motifs = symmetric_motifs\n",
    "             )\n",
    "    graph, paths_with_data, paths_without_data = result\n",
    "    if len(paths_without_data) > 1:\n",
    "        id_pathList_dict[seq_id] = paths_without_data\n",
    "    else:\n",
    "        counter +=1\n",
    "print(counter)"
   ]
  },
  {
   "cell_type": "markdown",
   "metadata": {
    "collapsed": true
   },
   "source": [
    "### Create cluster_ids_dict for sequences that have motif paths"
   ]
  },
  {
   "cell_type": "code",
   "execution_count": 481,
   "metadata": {
    "collapsed": true
   },
   "outputs": [],
   "source": [
    "filtered_cluster_id_dict = {}\n",
    "for cluster in cluster_id_dict:\n",
    "    peak_ids = cluster_id_dict[cluster]\n",
    "    cluster_frame = filtered_frame.loc[peak_ids,['chr', 'start', 'end']]\n",
    "    new_ids = cluster_frame['chr'] + ':' + (cluster_frame['start'] - 1).astype(str) + '-' + cluster_frame['end'].astype(str)\n",
    "    \n",
    "    filtered_cluster_id_dict[cluster] = [x for x in list(new_ids) if x in id_pathList_dict]"
   ]
  },
  {
   "cell_type": "markdown",
   "metadata": {},
   "source": [
    "## Pattern Finding Algorithm"
   ]
  },
  {
   "cell_type": "code",
   "execution_count": 482,
   "metadata": {
    "collapsed": false
   },
   "outputs": [
    {
     "name": "stdout",
     "output_type": "stream",
     "text": [
      "chr7:111082983-111083134\n",
      "chr5:90891204-90891355\n",
      "chr14:54409379-54409530\n",
      "chr6:122308562-122308713\n",
      "chr3:57735712-57735863\n",
      "chr4:155223276-155223427\n",
      "chr7:126566456-126566607\n",
      "chr2:91202792-91202943\n",
      "chr18:46574407-46574558\n",
      "chr4:156200680-156200831\n",
      "chr11:116024345-116024496\n"
     ]
    }
   ],
   "source": [
    "num_paths = []\n",
    "for seq_id in id_pathList_dict:\n",
    "    paths = id_pathList_dict[seq_id]\n",
    "    num_paths.append(len(paths))\n",
    "    if len(paths) < 5:\n",
    "        print(seq_id)"
   ]
  },
  {
   "cell_type": "code",
   "execution_count": 483,
   "metadata": {
    "collapsed": false
   },
   "outputs": [
    {
     "name": "stderr",
     "output_type": "stream",
     "text": [
      "/gpfs/data01/glasslab/home/jtao/software/anaconda3/lib/python3.5/site-packages/statsmodels/nonparametric/kdetools.py:20: VisibleDeprecationWarning: using a non-integer number instead of an integer will result in an error in the future\n",
      "  y = X[:m/2+1] + np.r_[0,X[m/2+1:],0]*1j\n"
     ]
    },
    {
     "data": {
      "text/plain": [
       "<matplotlib.text.Text at 0x7f36a0f20940>"
      ]
     },
     "execution_count": 483,
     "metadata": {},
     "output_type": "execute_result"
    },
    {
     "data": {
      "image/png": "[encoded data removed]",
      "text/plain": [
       "<matplotlib.figure.Figure at 0x7f36d3c68c50>"
      ]
     },
     "metadata": {},
     "output_type": "display_data"
    }
   ],
   "source": [
    "sns.distplot([np.log2(x) for x in num_paths])\n",
    "plt.ylabel('Frequency (KDE)')\n",
    "plt.xlabel('Number of Motif Sequences')"
   ]
  },
  {
   "cell_type": "code",
   "execution_count": 484,
   "metadata": {
    "collapsed": false
   },
   "outputs": [
    {
     "data": {
      "text/plain": [
       "['chr19:10605390-10605541',\n",
       " 'chr15:76080839-76080990',\n",
       " 'chr5:92137720-92137871',\n",
       " 'chr1:93478434-93478585',\n",
       " 'chr7:45570223-45570374',\n",
       " 'chr5:30869529-30869680',\n",
       " 'chr11:80383150-80383301',\n",
       " 'chr11:115514413-115514564',\n",
       " 'chr10:80702108-80702259',\n",
       " 'chr8:105297594-105297745',\n",
       " 'chr3:108911694-108911845',\n",
       " 'chr8:83715080-83715231',\n",
       " 'chr16:87495827-87495978',\n",
       " 'chr10:77613630-77613781',\n",
       " 'chr4:62360452-62360603',\n",
       " 'chr7:45434567-45434718',\n",
       " 'chr8:71537398-71537549',\n",
       " 'chr11:101315869-101316020',\n",
       " 'chr2:25557659-25557810',\n",
       " 'chr10:78412930-78413081',\n",
       " 'chr14:55578333-55578484',\n",
       " 'chr4:148591317-148591468',\n",
       " 'chr10:117063794-117063945',\n",
       " 'chr7:27178984-27179135',\n",
       " 'chr15:100669457-100669608',\n",
       " 'chr7:140857256-140857407',\n",
       " 'chr4:132796305-132796456',\n",
       " 'chr10:128337608-128337759',\n",
       " 'chr4:134923501-134923652',\n",
       " 'chr8:70594227-70594378',\n",
       " 'chr4:55349685-55349836',\n",
       " 'chr6:28480118-28480269',\n",
       " 'chr5:30912780-30912931',\n",
       " 'chr8:84249680-84249831',\n",
       " 'chr2:181693797-181693948',\n",
       " 'chr5:124116065-124116216',\n",
       " 'chr10:128493792-128493943',\n",
       " 'chr12:87443795-87443946',\n",
       " 'chr15:75929780-75929931',\n",
       " 'chr9:26999567-26999718',\n",
       " 'chr9:44767782-44767933',\n",
       " 'chr1:75219201-75219352',\n",
       " 'chr16:91546531-91546682',\n",
       " 'chr11:72689899-72690050',\n",
       " 'chr7:25754830-25754981',\n",
       " 'chr17:33685431-33685582',\n",
       " 'chr15:89075972-89076123',\n",
       " 'chr9:120570982-120571133',\n",
       " 'chr6:66896331-66896482',\n",
       " 'chr15:78325766-78325917',\n",
       " 'chr11:5788460-5788611',\n",
       " 'chr6:136828181-136828332',\n",
       " 'chr6:51469931-51470082',\n",
       " 'chr11:74649237-74649388',\n",
       " 'chr17:56009101-56009252',\n",
       " 'chr5:100038946-100039097',\n",
       " 'chr11:115491796-115491947',\n",
       " 'chr18:36783096-36783247',\n",
       " 'chr7:102210260-102210411',\n",
       " 'chr2:103797337-103797488',\n",
       " 'chr10:80399539-80399690',\n",
       " 'chr4:40948306-40948457',\n",
       " 'chr2:130284399-130284550',\n",
       " 'chr1:171018694-171018845',\n",
       " 'chr11:100622825-100622976',\n",
       " 'chr7:19715639-19715790',\n",
       " 'chr7:28392793-28392944',\n",
       " 'chr17:56183927-56184078',\n",
       " 'chr10:80320504-80320655',\n",
       " 'chrX:74428837-74428988',\n",
       " 'chr1:71556990-71557141',\n",
       " 'chr4:133888020-133888171',\n",
       " 'chr11:120582125-120582276',\n",
       " 'chr1:170976002-170976153',\n",
       " 'chr6:55037930-55038081',\n",
       " 'chr11:95384391-95384542',\n",
       " 'chr7:3502510-3502661',\n",
       " 'chr10:81060288-81060439',\n",
       " 'chr5:129019781-129019932',\n",
       " 'chr10:79681816-79681967',\n",
       " 'chr2:91053961-91054112',\n",
       " 'chr2:144556173-144556324',\n",
       " 'chr12:103425905-103426056',\n",
       " 'chr8:111854308-111854459',\n",
       " 'chr16:17928740-17928891',\n",
       " 'chr2:38643937-38644088',\n",
       " 'chr18:60848940-60849091',\n",
       " 'chr17:34197676-34197827',\n",
       " 'chr2:84798732-84798883',\n",
       " 'chr14:30549038-30549189',\n",
       " 'chr15:77928949-77929100',\n",
       " 'chr4:118427894-118428045',\n",
       " 'chr7:28050050-28050201',\n",
       " 'chr2:180589161-180589312',\n",
       " 'chr8:84846864-84847015',\n",
       " 'chr19:8888788-8888939',\n",
       " 'chr17:34031655-34031806',\n",
       " 'chr11:100527938-100528089',\n",
       " 'chr8:107150403-107150554',\n",
       " 'chr17:35969779-35969930',\n",
       " 'chr5:24577563-24577714',\n",
       " 'chr9:106892017-106892168',\n",
       " 'chrX:160138406-160138557',\n",
       " 'chr11:101087202-101087353',\n",
       " 'chrX:20662752-20662903',\n",
       " 'chr16:20672730-20672881',\n",
       " 'chr6:71831245-71831396',\n",
       " 'chr16:20651547-20651698',\n",
       " 'chr1:156674541-156674692',\n",
       " 'chr17:57011396-57011547',\n",
       " 'chr4:156235904-156236055',\n",
       " 'chr11:120573080-120573231',\n",
       " 'chr13:8996092-8996243',\n",
       " 'chr9:44379338-44379489',\n",
       " 'chr10:77622122-77622273',\n",
       " 'chr15:81399673-81399824',\n",
       " 'chr4:43454522-43454673',\n",
       " 'chr8:111033758-111033909',\n",
       " 'chr6:87887694-87887845',\n",
       " 'chr7:3630563-3630714',\n",
       " 'chr3:88336131-88336282',\n",
       " 'chr5:31220646-31220797',\n",
       " 'chr6:124965484-124965635',\n",
       " 'chr14:55672135-55672286',\n",
       " 'chr8:112011240-112011391',\n",
       " 'chr6:17749105-17749256',\n",
       " 'chr9:21149861-21150012',\n",
       " 'chr5:115559317-115559468',\n",
       " 'chr13:55593040-55593191',\n",
       " 'chr19:5771374-5771525',\n",
       " 'chr11:118402001-118402152',\n",
       " 'chr11:98682273-98682424',\n",
       " 'chr15:83033240-83033391',\n",
       " 'chr8:79711642-79711793',\n",
       " 'chr19:29251410-29251561',\n",
       " 'chr1:74236420-74236571',\n",
       " 'chr1:131527461-131527612',\n",
       " 'chr7:16924068-16924219',\n",
       " 'chrX:102189261-102189412',\n",
       " 'chr11:120484497-120484648',\n",
       " 'chr6:124662769-124662920',\n",
       " 'chr17:36042687-36042838',\n",
       " 'chr1:185362914-185363065',\n",
       " 'chr5:21372620-21372771',\n",
       " 'chr9:40801102-40801253',\n",
       " 'chr3:139075341-139075492',\n",
       " 'chr11:55033339-55033490',\n",
       " 'chr5:125475729-125475880',\n",
       " 'chr5:21785150-21785301',\n",
       " 'chr6:87811950-87812101',\n",
       " 'chr15:31601730-31601881',\n",
       " 'chr12:85339334-85339485',\n",
       " 'chr11:116274083-116274234',\n",
       " 'chr10:127290612-127290763',\n",
       " 'chr4:133545954-133546105',\n",
       " 'chr5:137307668-137307819',\n",
       " 'chr12:102282229-102282380',\n",
       " 'chr10:78352411-78352562',\n",
       " 'chr16:91729288-91729439',\n",
       " 'chr1:160212912-160213063',\n",
       " 'chr8:13037126-13037277',\n",
       " 'chr4:109000555-109000706',\n",
       " 'chr15:103272683-103272834',\n",
       " 'chr7:27195656-27195807',\n",
       " 'chr19:5877884-5878035',\n",
       " 'chr4:154899038-154899189',\n",
       " 'chr4:136021705-136021856',\n",
       " 'chr1:37430050-37430201',\n",
       " 'chr11:83302716-83302867',\n",
       " 'chr5:129787255-129787406',\n",
       " 'chr7:143549135-143549286',\n",
       " 'chr4:134095042-134095193',\n",
       " 'chr2:144011230-144011381',\n",
       " 'chr6:131388410-131388561',\n",
       " 'chr17:71310921-71311072',\n",
       " 'chr19:8819793-8819944',\n",
       " 'chr7:28338765-28338916',\n",
       " 'chr17:46782609-46782760',\n",
       " 'chr1:59684906-59685057',\n",
       " 'chr6:125313826-125313977',\n",
       " 'chr2:167932226-167932377',\n",
       " 'chr17:57228096-57228247',\n",
       " 'chr11:35834497-35834648',\n",
       " 'chr8:122443412-122443563',\n",
       " 'chr17:35838219-35838370',\n",
       " 'chr7:17027821-17027972',\n",
       " 'chr9:21615978-21616129',\n",
       " 'chr17:7925814-7925965',\n",
       " 'chr2:174472977-174473128',\n",
       " 'chr17:57358538-57358689',\n",
       " 'chr19:4269166-4269317',\n",
       " 'chr4:46450908-46451059',\n",
       " 'chr11:50131053-50131204',\n",
       " 'chr11:69997227-69997378',\n",
       " 'chr5:76974558-76974709',\n",
       " 'chr7:110018188-110018339',\n",
       " 'chr7:13034668-13034819',\n",
       " 'chr5:140419226-140419377',\n",
       " 'chr12:17266412-17266563',\n",
       " 'chr1:180568819-180568970',\n",
       " 'chr7:126566456-126566607',\n",
       " 'chr11:78984966-78985117',\n",
       " 'chr15:11399683-11399834',\n",
       " 'chr14:77904246-77904397',\n",
       " 'chr8:109565664-109565815',\n",
       " 'chr6:113740631-113740782',\n",
       " 'chr13:98316955-98317106',\n",
       " 'chr6:122874401-122874552',\n",
       " 'chr8:84856892-84857043',\n",
       " 'chrX:7899051-7899202',\n",
       " 'chr11:121228835-121228986',\n",
       " 'chr1:152625103-152625254',\n",
       " 'chr5:120612879-120613030',\n",
       " 'chr10:128566005-128566156',\n",
       " 'chr13:75839748-75839899',\n",
       " 'chr10:62602203-62602354',\n",
       " 'chr11:116853268-116853419',\n",
       " 'chr4:43442193-43442344',\n",
       " 'chr8:88362025-88362176',\n",
       " 'chr6:124712108-124712259',\n",
       " 'chr5:122209734-122209885',\n",
       " 'chr19:55316506-55316657',\n",
       " 'chr7:125552106-125552257',\n",
       " 'chr15:81730016-81730167',\n",
       " 'chr7:4659001-4659152',\n",
       " 'chr5:135778488-135778639',\n",
       " 'chr2:154790643-154790794',\n",
       " 'chr2:174438885-174439036',\n",
       " 'chr4:126024656-126024807',\n",
       " 'chr17:27028600-27028751',\n",
       " 'chr4:149701517-149701668',\n",
       " 'chrX:8090431-8090582',\n",
       " 'chr15:74954934-74955085',\n",
       " 'chr11:53300570-53300721',\n",
       " 'chr19:7039945-7040096',\n",
       " 'chr8:40862127-40862278',\n",
       " 'chr7:19024239-19024390']"
      ]
     },
     "execution_count": 484,
     "metadata": {},
     "output_type": "execute_result"
    }
   ],
   "source": [
    "filtered_cluster_id_dict[1]"
   ]
  },
  {
   "cell_type": "code",
   "execution_count": 485,
   "metadata": {
    "collapsed": false
   },
   "outputs": [
    {
     "data": {
      "text/plain": [
       "[['E2F-related_1_merged -', 'CENPB +'],\n",
       " ['Ets-related_2_merged -', 'ZBTB7A +', 'Jun-related_2_merged -'],\n",
       " ['Ets-related_2_merged -', 'ZBTB7A +', 'EGR1 -', 'ZBTB7A -'],\n",
       " ['Ets-related_2_merged -',\n",
       "  'ZBTB7A +',\n",
       "  'EGR1 -',\n",
       "  'Three-zinc_1_merged -',\n",
       "  'Hairy-related_1_merged +'],\n",
       " ['Ets-related_2_merged -',\n",
       "  'ZBTB7A +',\n",
       "  'EGR1 -',\n",
       "  'Three-zinc_1_merged -',\n",
       "  'PAS_1_merged +'],\n",
       " ['Ets-related_2_merged -',\n",
       "  'ZBTB7A +',\n",
       "  'EGR1 -',\n",
       "  'Three-zinc_1_merged -',\n",
       "  'More_3_merged -'],\n",
       " ['Ets-related_2_merged -',\n",
       "  'ZBTB7A +',\n",
       "  'EGR1 -',\n",
       "  'Three-zinc_1_merged -',\n",
       "  'PAS_1_merged -'],\n",
       " ['Ets-related_2_merged -',\n",
       "  'ZBTB7A +',\n",
       "  'EGR1 -',\n",
       "  'Three-zinc_1_merged -',\n",
       "  'Hairy-related_1_merged -'],\n",
       " ['Ets-related_2_merged -', 'ZBTB7A +', 'EGR1 -', 'EGR1 -'],\n",
       " ['Ets-related_2_merged -', 'ZBTB7A +', 'EGR1 -', 'More_1_merged -'],\n",
       " ['Ets-related_2_merged -', 'ZBTB7A +', 'CENPB -', 'ZBTB7A -'],\n",
       " ['Ets-related_2_merged -',\n",
       "  'ZBTB7A +',\n",
       "  'CENPB -',\n",
       "  'Three-zinc_1_merged -',\n",
       "  'Hairy-related_1_merged +'],\n",
       " ['Ets-related_2_merged -',\n",
       "  'ZBTB7A +',\n",
       "  'CENPB -',\n",
       "  'Three-zinc_1_merged -',\n",
       "  'PAS_1_merged +'],\n",
       " ['Ets-related_2_merged -',\n",
       "  'ZBTB7A +',\n",
       "  'CENPB -',\n",
       "  'Three-zinc_1_merged -',\n",
       "  'More_3_merged -'],\n",
       " ['Ets-related_2_merged -',\n",
       "  'ZBTB7A +',\n",
       "  'CENPB -',\n",
       "  'Three-zinc_1_merged -',\n",
       "  'PAS_1_merged -'],\n",
       " ['Ets-related_2_merged -',\n",
       "  'ZBTB7A +',\n",
       "  'CENPB -',\n",
       "  'Three-zinc_1_merged -',\n",
       "  'Hairy-related_1_merged -'],\n",
       " ['Ets-related_2_merged -', 'ZBTB7A +', 'CENPB -', 'EGR1 -'],\n",
       " ['Ets-related_2_merged -', 'ZBTB7A +', 'CENPB -', 'Three-zinc_1_merged -'],\n",
       " ['Ets-related_2_merged -', 'ZBTB7A +', 'CENPB -', 'More_1_merged -'],\n",
       " ['Ets-related_2_merged -', 'ZBTB7A +', 'ZBTB7A +'],\n",
       " ['Ets-related_2_merged -', 'ZBTB7A +', 'RUNX1 -'],\n",
       " ['PRDM1 -', 'ZBTB7A +', 'Jun-related_2_merged -'],\n",
       " ['PRDM1 -', 'ZBTB7A +', 'EGR1 -', 'ZBTB7A -'],\n",
       " ['PRDM1 -',\n",
       "  'ZBTB7A +',\n",
       "  'EGR1 -',\n",
       "  'Three-zinc_1_merged -',\n",
       "  'Hairy-related_1_merged +'],\n",
       " ['PRDM1 -', 'ZBTB7A +', 'EGR1 -', 'Three-zinc_1_merged -', 'PAS_1_merged +'],\n",
       " ['PRDM1 -', 'ZBTB7A +', 'EGR1 -', 'Three-zinc_1_merged -', 'More_3_merged -'],\n",
       " ['PRDM1 -', 'ZBTB7A +', 'EGR1 -', 'Three-zinc_1_merged -', 'PAS_1_merged -'],\n",
       " ['PRDM1 -',\n",
       "  'ZBTB7A +',\n",
       "  'EGR1 -',\n",
       "  'Three-zinc_1_merged -',\n",
       "  'Hairy-related_1_merged -'],\n",
       " ['PRDM1 -', 'ZBTB7A +', 'EGR1 -', 'EGR1 -'],\n",
       " ['PRDM1 -', 'ZBTB7A +', 'EGR1 -', 'More_1_merged -'],\n",
       " ['PRDM1 -', 'ZBTB7A +', 'CENPB -', 'ZBTB7A -'],\n",
       " ['PRDM1 -',\n",
       "  'ZBTB7A +',\n",
       "  'CENPB -',\n",
       "  'Three-zinc_1_merged -',\n",
       "  'Hairy-related_1_merged +'],\n",
       " ['PRDM1 -', 'ZBTB7A +', 'CENPB -', 'Three-zinc_1_merged -', 'PAS_1_merged +'],\n",
       " ['PRDM1 -',\n",
       "  'ZBTB7A +',\n",
       "  'CENPB -',\n",
       "  'Three-zinc_1_merged -',\n",
       "  'More_3_merged -'],\n",
       " ['PRDM1 -', 'ZBTB7A +', 'CENPB -', 'Three-zinc_1_merged -', 'PAS_1_merged -'],\n",
       " ['PRDM1 -',\n",
       "  'ZBTB7A +',\n",
       "  'CENPB -',\n",
       "  'Three-zinc_1_merged -',\n",
       "  'Hairy-related_1_merged -'],\n",
       " ['PRDM1 -', 'ZBTB7A +', 'CENPB -', 'EGR1 -'],\n",
       " ['PRDM1 -', 'ZBTB7A +', 'CENPB -', 'Three-zinc_1_merged -'],\n",
       " ['PRDM1 -', 'ZBTB7A +', 'CENPB -', 'More_1_merged -'],\n",
       " ['PRDM1 -', 'ZBTB7A +', 'ZBTB7A +'],\n",
       " ['PRDM1 -', 'ZBTB7A +', 'RUNX1 -'],\n",
       " ['PRDM1 -', 'CENPB +'],\n",
       " ['MAFG::NFE2L1 -', 'ZBTB7A +', 'Jun-related_2_merged -'],\n",
       " ['MAFG::NFE2L1 -', 'ZBTB7A +', 'EGR1 -', 'ZBTB7A -'],\n",
       " ['MAFG::NFE2L1 -',\n",
       "  'ZBTB7A +',\n",
       "  'EGR1 -',\n",
       "  'Three-zinc_1_merged -',\n",
       "  'Hairy-related_1_merged +'],\n",
       " ['MAFG::NFE2L1 -',\n",
       "  'ZBTB7A +',\n",
       "  'EGR1 -',\n",
       "  'Three-zinc_1_merged -',\n",
       "  'PAS_1_merged +'],\n",
       " ['MAFG::NFE2L1 -',\n",
       "  'ZBTB7A +',\n",
       "  'EGR1 -',\n",
       "  'Three-zinc_1_merged -',\n",
       "  'More_3_merged -'],\n",
       " ['MAFG::NFE2L1 -',\n",
       "  'ZBTB7A +',\n",
       "  'EGR1 -',\n",
       "  'Three-zinc_1_merged -',\n",
       "  'PAS_1_merged -'],\n",
       " ['MAFG::NFE2L1 -',\n",
       "  'ZBTB7A +',\n",
       "  'EGR1 -',\n",
       "  'Three-zinc_1_merged -',\n",
       "  'Hairy-related_1_merged -'],\n",
       " ['MAFG::NFE2L1 -', 'ZBTB7A +', 'EGR1 -', 'EGR1 -'],\n",
       " ['MAFG::NFE2L1 -', 'ZBTB7A +', 'EGR1 -', 'More_1_merged -'],\n",
       " ['MAFG::NFE2L1 -', 'ZBTB7A +', 'CENPB -', 'ZBTB7A -'],\n",
       " ['MAFG::NFE2L1 -',\n",
       "  'ZBTB7A +',\n",
       "  'CENPB -',\n",
       "  'Three-zinc_1_merged -',\n",
       "  'Hairy-related_1_merged +'],\n",
       " ['MAFG::NFE2L1 -',\n",
       "  'ZBTB7A +',\n",
       "  'CENPB -',\n",
       "  'Three-zinc_1_merged -',\n",
       "  'PAS_1_merged +'],\n",
       " ['MAFG::NFE2L1 -',\n",
       "  'ZBTB7A +',\n",
       "  'CENPB -',\n",
       "  'Three-zinc_1_merged -',\n",
       "  'More_3_merged -'],\n",
       " ['MAFG::NFE2L1 -',\n",
       "  'ZBTB7A +',\n",
       "  'CENPB -',\n",
       "  'Three-zinc_1_merged -',\n",
       "  'PAS_1_merged -'],\n",
       " ['MAFG::NFE2L1 -',\n",
       "  'ZBTB7A +',\n",
       "  'CENPB -',\n",
       "  'Three-zinc_1_merged -',\n",
       "  'Hairy-related_1_merged -'],\n",
       " ['MAFG::NFE2L1 -', 'ZBTB7A +', 'CENPB -', 'EGR1 -'],\n",
       " ['MAFG::NFE2L1 -', 'ZBTB7A +', 'CENPB -', 'Three-zinc_1_merged -'],\n",
       " ['MAFG::NFE2L1 -', 'ZBTB7A +', 'CENPB -', 'More_1_merged -'],\n",
       " ['MAFG::NFE2L1 -', 'ZBTB7A +', 'ZBTB7A +'],\n",
       " ['MAFG::NFE2L1 -', 'ZBTB7A +', 'RUNX1 -']]"
      ]
     },
     "execution_count": 485,
     "metadata": {},
     "output_type": "execute_result"
    }
   ],
   "source": [
    "id_pathList_dict['chr19:10605390-10605541']"
   ]
  },
  {
   "cell_type": "code",
   "execution_count": null,
   "metadata": {
    "collapsed": true
   },
   "outputs": [],
   "source": [
    "def create_pattern_sequence_table(frequent_patterns, database):\n",
    "    '''\n",
    "    Constructs a matrix summarizing which sequences contains a frequent motif pattern\n",
    "    '''"
   ]
  },
  {
   "cell_type": "code",
   "execution_count": null,
   "metadata": {
    "collapsed": true
   },
   "outputs": [],
   "source": [
    "def project_database(prefix, database):\n",
    "    '''\n",
    "    projects a database of sequences and their corresponding motif paths\n",
    "    according to a prefix. \n",
    "    input: prefix - a string representing a motif and its orientation,\n",
    "           database - a dictionary containing lists of motif paths\n",
    "                      corresponding to each sequence\n",
    "                      {seq_id:[motif_sequences...]}\n",
    "    output: returns the projected database\n",
    "    '''\n",
    "    "
   ]
  },
  {
   "cell_type": "code",
   "execution_count": null,
   "metadata": {
    "collapsed": true
   },
   "outputs": [],
   "source": [
    "def find_frequent_motifs(database, support_level):\n",
    "    '''\n",
    "    Finds motifs in database that exceeds support level. \n",
    "    For each sequence, collapses the counts of all motif paths corresponding to that sequence\n",
    "    \n",
    "    inputs: database - a dictionary containing lists of motif paths\n",
    "                      corresponding to each sequence\n",
    "            support_level - number of times a motif must appear to be counted\n",
    "    outputs: \n",
    "    '''"
   ]
  },
  {
   "cell_type": "code",
   "execution_count": null,
   "metadata": {
    "collapsed": true
   },
   "outputs": [],
   "source": [
    "def motif_prefix_span(prefix, database, support_level):\n",
    "    '''\n",
    "    Finds frequents sequences of motifs in a datase of sequences and their corresponding\n",
    "    motif paths\n",
    "    inputs: prefix - a string representing a motif and its orientation\n",
    "            database - a dictionary containing lists of motif paths corresponding to each sequence\n",
    "            support level - number of times a motif must appear to be counted\n",
    "    outputs: a list of frequent patterns\n",
    "    '''"
   ]
  },
  {
   "cell_type": "code",
   "execution_count": null,
   "metadata": {
    "collapsed": true
   },
   "outputs": [],
   "source": [
    "min_support_level = 25\n",
    "\n"
   ]
  }
 ],
 "metadata": {
  "anaconda-cloud": {},
  "kernelspec": {
   "display_name": "Python [Root]",
   "language": "python",
   "name": "Python [Root]"
  },
  "language_info": {
   "codemirror_mode": {
    "name": "ipython",
    "version": 3
   },
   "file_extension": ".py",
   "mimetype": "text/x-python",
   "name": "python",
   "nbconvert_exporter": "python",
   "pygments_lexer": "ipython3",
   "version": "3.5.1"
  }
 },
 "nbformat": 4,
 "nbformat_minor": 0
}
