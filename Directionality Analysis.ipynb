{
 "cells": [
  {
   "cell_type": "markdown",
   "metadata": {},
   "source": [
    "# imports"
   ]
  },
  {
   "cell_type": "code",
   "execution_count": 26,
   "metadata": {
    "collapsed": false
   },
   "outputs": [
    {
     "name": "stdout",
     "output_type": "stream",
     "text": [
      "The autoreload extension is already loaded. To reload it, use:\n",
      "  %reload_ext autoreload\n",
      "env: PATH=/gpfs/data01/glasslab/home/jtao/perl5/bin:/gpfs/data01/glasslab/home/jtao/software/anaconda3/bin:/home/jtao/software/bin:/usr/local/sbin:/usr/sbin:/usr/bin:/usr/local/bin:/usr/bin:/gpfs/data01/glasslab/home/jtao/software/homer/bin:/gpfs/data01/glasslab/home/jtao/software/weblogo:/home/jtao/code/seq_merge_pipe:/home/vlink/mouse_strains/marge/shifting:/bioinformatics/glassutils/scripts:/bioinformatics/software/meme/bin\n"
     ]
    }
   ],
   "source": [
    "import os\n",
    "import sys\n",
    "import pandas as pd\n",
    "import matplotlib\n",
    "import seaborn as sns\n",
    "import pickle\n",
    "### notebook specific configuration ###\n",
    "%matplotlib inline\n",
    "sys.path.append(\"/home/jtao/code/seq_merge_pipe/\")\n",
    "matplotlib.pylab.rcParams['savefig.dpi'] = 200\n",
    "sys.setrecursionlimit(3000)\n",
    "os.chdir('/gpfs/data01/glasslab/home/jtao/analysis/directionality_analysis/jenhan_analysis/')\n",
    "sns.set_context('notebook')\n",
    "%load_ext autoreload\n",
    "%autoreload 2\n",
    "%env PATH=/gpfs/data01/glasslab/home/jtao/perl5/bin:/gpfs/data01/glasslab/home/jtao/software/anaconda3/bin:/home/jtao/software/bin:/usr/local/sbin:/usr/sbin:/usr/bin:/usr/local/bin:/usr/bin:/gpfs/data01/glasslab/home/jtao/software/homer/bin:/gpfs/data01/glasslab/home/jtao/software/weblogo:/home/jtao/code/seq_merge_pipe:/home/vlink/mouse_strains/marge/shifting:/bioinformatics/glassutils/scripts:/bioinformatics/software/meme/bin\n",
    "\n"
   ]
  },
  {
   "cell_type": "markdown",
   "metadata": {},
   "source": [
    "# Read Data"
   ]
  },
  {
   "cell_type": "code",
   "execution_count": 21,
   "metadata": {
    "collapsed": false
   },
   "outputs": [],
   "source": [
    "strain_list = []\n",
    "experiment_list = []\n",
    "treatment_list = []\n",
    "sampleCode_list = []\n",
    "date_list = []\n",
    "filename_list = []\n",
    "gro_tagDirectory_path = '/home/jtao/analysis/directionality_analysis/tag_directories_GRO/'\n",
    "for file in os.listdir(gro_tagDirectory_path):\n",
    "    \n",
    "    tokens = file.split('_')\n",
    "    strain = tokens[0]\n",
    "    experiment = tokens[2]\n",
    "    treatment = tokens[3]\n",
    "    sampleCode = tokens[4]\n",
    "    date = tokens[5]\n",
    "    \n",
    "    strain_list.append(strain)\n",
    "    experiment_list.append(experiment)\n",
    "    treatment_list.append(treatment)\n",
    "    sampleCode_list.append(sampleCode)\n",
    "    date_list.append(date)\n",
    "    filename_list.append(file)\n"
   ]
  },
  {
   "cell_type": "code",
   "execution_count": 23,
   "metadata": {
    "collapsed": false
   },
   "outputs": [],
   "source": [
    "# generate dictionary\n",
    "metadata_dict = {\n",
    "                'Strain':      strain_list,\n",
    "                'Experiment':  experiment_list,\n",
    "                'Treatment':   treatment_list,\n",
    "                'Sample Code': sampleCode_list,\n",
    "                'Date':        date_list,\n",
    "                'File Name': filename_list\n",
    "                }"
   ]
  },
  {
   "cell_type": "code",
   "execution_count": 24,
   "metadata": {
    "collapsed": true
   },
   "outputs": [],
   "source": [
    "# create data frame\n",
    "metadata_frame = pd.DataFrame(metadata_dict)\n",
    "metadata_frame = metadata_frame[['Experiment', 'Strain', 'Treatment', 'Sample Code', 'Date', 'File Name']]\n",
    "metadata_frame.index = metadata_frame['Sample Code'].values"
   ]
  },
  {
   "cell_type": "code",
   "execution_count": 28,
   "metadata": {
    "collapsed": false
   },
   "outputs": [],
   "source": [
    "# save metadata_frame as a pickle\n",
    "pickledFile = open('metadata_frame.pickle', 'wb')\n",
    "pickle.dump(metadata_frame, pickledFile)\n",
    "pickledFile.close()"
   ]
  },
  {
   "cell_type": "markdown",
   "metadata": {},
   "source": [
    "## Call Peaks"
   ]
  },
  {
   "cell_type": "code",
   "execution_count": 52,
   "metadata": {
    "collapsed": true
   },
   "outputs": [],
   "source": [
    "if not os.path.isdir('./peak_files'):\n",
    "    os.mkdir('peak_files')\n",
    "else:\n",
    "    # otherwise clear out the directory\n",
    "    for toDelete in os.listdir('./peak_files'):\n",
    "        os.system('rm /peak_files/*') #os_systems use for bash commands "
   ]
  },
  {
   "cell_type": "markdown",
   "metadata": {},
   "source": [
    "### -style GroSeq"
   ]
  },
  {
   "cell_type": "code",
   "execution_count": 53,
   "metadata": {
    "collapsed": false
   },
   "outputs": [
    {
     "name": "stdout",
     "output_type": "stream",
     "text": [
      "findPeaks /home/jtao/analysis/directionality_analysis/tag_directories_GRO//SPRET_BMDM_GRO_KLA-1h_SD017_16-01-06-and-16-01-26 -style groseq -o ./peak_files/SPRET_BMDM_GRO_KLA-1h_SD017_16-01-06-and-16-01-26_groseq_peaks.tsv\n",
      "findPeaks /home/jtao/analysis/directionality_analysis/tag_directories_GRO//BALB_BMDM_GRO_notx_SD175_16-05-26-and-16-08-26 -style groseq -o ./peak_files/BALB_BMDM_GRO_notx_SD175_16-05-26-and-16-08-26_groseq_peaks.tsv\n",
      "findPeaks /home/jtao/analysis/directionality_analysis/tag_directories_GRO//PWK_BMDM_GRO_notx_SD177_16-05-26 -style groseq -o ./peak_files/PWK_BMDM_GRO_notx_SD177_16-05-26_groseq_peaks.tsv\n",
      "findPeaks /home/jtao/analysis/directionality_analysis/tag_directories_GRO//BALB_BMDM_GRO_notx_SD258_16-07-27 -style groseq -o ./peak_files/BALB_BMDM_GRO_notx_SD258_16-07-27_groseq_peaks.tsv\n",
      "findPeaks /home/jtao/analysis/directionality_analysis/tag_directories_GRO//C57_BMDM_GRO_KLA-1h_SD010_16-01-06-and-16-01-26 -style groseq -o ./peak_files/C57_BMDM_GRO_KLA-1h_SD010_16-01-06-and-16-01-26_groseq_peaks.tsv\n",
      "findPeaks /home/jtao/analysis/directionality_analysis/tag_directories_GRO//BALB_BMDM_GRO_KLA-1h_SD176_16-05-26-and-16-08-26 -style groseq -o ./peak_files/BALB_BMDM_GRO_KLA-1h_SD176_16-05-26-and-16-08-26_groseq_peaks.tsv\n",
      "findPeaks /home/jtao/analysis/directionality_analysis/tag_directories_GRO//C57_BMDM_GRO_notx_SD009_16-01-06-and-16-01-26 -style groseq -o ./peak_files/C57_BMDM_GRO_notx_SD009_16-01-06-and-16-01-26_groseq_peaks.tsv\n",
      "findPeaks /home/jtao/analysis/directionality_analysis/tag_directories_GRO//NOD_BMDM_GRO_notx_SD018_16-01-06-and-16-01-26 -style groseq -o ./peak_files/NOD_BMDM_GRO_notx_SD018_16-01-06-and-16-01-26_groseq_peaks.tsv\n",
      "findPeaks /home/jtao/analysis/directionality_analysis/tag_directories_GRO//BALB_BMDM_GRO_KLA-1h_SD011_16-01-06-and-16-01-26 -style groseq -o ./peak_files/BALB_BMDM_GRO_KLA-1h_SD011_16-01-06-and-16-01-26_groseq_peaks.tsv\n",
      "findPeaks /home/jtao/analysis/directionality_analysis/tag_directories_GRO//NOD_BMDM_GRO_notx_SD260_16-07-27-and-16-08-26 -style groseq -o ./peak_files/NOD_BMDM_GRO_notx_SD260_16-07-27-and-16-08-26_groseq_peaks.tsv\n",
      "findPeaks /home/jtao/analysis/directionality_analysis/tag_directories_GRO//PWK_BMDM_GRO_KLA-1h_SD013_16-01-06-and-16-01-26 -style groseq -o ./peak_files/PWK_BMDM_GRO_KLA-1h_SD013_16-01-06-and-16-01-26_groseq_peaks.tsv\n",
      "findPeaks /home/jtao/analysis/directionality_analysis/tag_directories_GRO//C57_BMDM_GRO_notx_SD173_16-05-26 -style groseq -o ./peak_files/C57_BMDM_GRO_notx_SD173_16-05-26_groseq_peaks.tsv\n",
      "findPeaks /home/jtao/analysis/directionality_analysis/tag_directories_GRO//SPRET_BMDM_GRO_KLA-1h_SD180_16-05-26 -style groseq -o ./peak_files/SPRET_BMDM_GRO_KLA-1h_SD180_16-05-26_groseq_peaks.tsv\n",
      "findPeaks /home/jtao/analysis/directionality_analysis/tag_directories_GRO//PWK_BMDM_GRO_KLA-1h_SD178_16-05-26 -style groseq -o ./peak_files/PWK_BMDM_GRO_KLA-1h_SD178_16-05-26_groseq_peaks.tsv\n",
      "findPeaks /home/jtao/analysis/directionality_analysis/tag_directories_GRO//PWK_BMDM_GRO_notx_SD012_16-01-06-and-16-01-26 -style groseq -o ./peak_files/PWK_BMDM_GRO_notx_SD012_16-01-06-and-16-01-26_groseq_peaks.tsv\n",
      "findPeaks /home/jtao/analysis/directionality_analysis/tag_directories_GRO//NOD_BMDM_GRO_KLA-1h_SD261_16-07-27-and-16-08-26 -style groseq -o ./peak_files/NOD_BMDM_GRO_KLA-1h_SD261_16-07-27-and-16-08-26_groseq_peaks.tsv\n",
      "findPeaks /home/jtao/analysis/directionality_analysis/tag_directories_GRO//SPRET_BMDM_GRO_notx_SD270_16-8-05-and-16-08-26 -style groseq -o ./peak_files/SPRET_BMDM_GRO_notx_SD270_16-8-05-and-16-08-26_groseq_peaks.tsv\n",
      "findPeaks /home/jtao/analysis/directionality_analysis/tag_directories_GRO//SPRET_BMDM_GRO_notx_SD016_16-01-06-and-16-01-26 -style groseq -o ./peak_files/SPRET_BMDM_GRO_notx_SD016_16-01-06-and-16-01-26_groseq_peaks.tsv\n",
      "findPeaks /home/jtao/analysis/directionality_analysis/tag_directories_GRO//NOD_BMDM_GRO_KLA-1h_SD019_16-01-06-and-16-01-26 -style groseq -o ./peak_files/NOD_BMDM_GRO_KLA-1h_SD019_16-01-06-and-16-01-26_groseq_peaks.tsv\n",
      "findPeaks /home/jtao/analysis/directionality_analysis/tag_directories_GRO//C57_BMDM_GRO_KLA-1h_SD174_16-05-26 -style groseq -o ./peak_files/C57_BMDM_GRO_KLA-1h_SD174_16-05-26_groseq_peaks.tsv\n"
     ]
    }
   ],
   "source": [
    "gro_tagDirectory_path = '/home/jtao/analysis/directionality_analysis/tag_directories_GRO/'\n",
    "style = 'groseq'\n",
    "# make peak file directory if it does not exist\n",
    "\n",
    "\n",
    "for file in metadata_frame['File Name']:\n",
    "    commandTokens = ['findPeaks']\n",
    "    \n",
    "    tagDirectoryPath = gro_tagDirectory_path + '/' + file\n",
    "    commandTokens.append(tagDirectoryPath)\n",
    "    commandTokens.append('-style')\n",
    "    commandTokens.append(style)\n",
    "    outputPath = './peak_files/' + file + '_' + style + '_peaks.tsv'\n",
    "    commandTokens.append('-o')\n",
    "    commandTokens.append(outputPath)\n",
    "    \n",
    "    commandString = ' '.join(commandTokens) # join command tokens with a ' ' in between\n",
    "    \n",
    "    print(commandString)\n",
    "    \n",
    "    # call Homer\n",
    "    os.system(commandString)"
   ]
  },
  {
   "cell_type": "markdown",
   "metadata": {},
   "source": [
    "### -style TSS"
   ]
  },
  {
   "cell_type": "code",
   "execution_count": 54,
   "metadata": {
    "collapsed": false
   },
   "outputs": [
    {
     "name": "stdout",
     "output_type": "stream",
     "text": [
      "findPeaks /home/jtao/analysis/directionality_analysis/tag_directories_GRO//SPRET_BMDM_GRO_KLA-1h_SD017_16-01-06-and-16-01-26 -style tss -o ./peak_files/SPRET_BMDM_GRO_KLA-1h_SD017_16-01-06-and-16-01-26_tss_peaks.tsv\n",
      "findPeaks /home/jtao/analysis/directionality_analysis/tag_directories_GRO//BALB_BMDM_GRO_notx_SD175_16-05-26-and-16-08-26 -style tss -o ./peak_files/BALB_BMDM_GRO_notx_SD175_16-05-26-and-16-08-26_tss_peaks.tsv\n",
      "findPeaks /home/jtao/analysis/directionality_analysis/tag_directories_GRO//PWK_BMDM_GRO_notx_SD177_16-05-26 -style tss -o ./peak_files/PWK_BMDM_GRO_notx_SD177_16-05-26_tss_peaks.tsv\n",
      "findPeaks /home/jtao/analysis/directionality_analysis/tag_directories_GRO//BALB_BMDM_GRO_notx_SD258_16-07-27 -style tss -o ./peak_files/BALB_BMDM_GRO_notx_SD258_16-07-27_tss_peaks.tsv\n",
      "findPeaks /home/jtao/analysis/directionality_analysis/tag_directories_GRO//C57_BMDM_GRO_KLA-1h_SD010_16-01-06-and-16-01-26 -style tss -o ./peak_files/C57_BMDM_GRO_KLA-1h_SD010_16-01-06-and-16-01-26_tss_peaks.tsv\n",
      "findPeaks /home/jtao/analysis/directionality_analysis/tag_directories_GRO//BALB_BMDM_GRO_KLA-1h_SD176_16-05-26-and-16-08-26 -style tss -o ./peak_files/BALB_BMDM_GRO_KLA-1h_SD176_16-05-26-and-16-08-26_tss_peaks.tsv\n",
      "findPeaks /home/jtao/analysis/directionality_analysis/tag_directories_GRO//C57_BMDM_GRO_notx_SD009_16-01-06-and-16-01-26 -style tss -o ./peak_files/C57_BMDM_GRO_notx_SD009_16-01-06-and-16-01-26_tss_peaks.tsv\n",
      "findPeaks /home/jtao/analysis/directionality_analysis/tag_directories_GRO//NOD_BMDM_GRO_notx_SD018_16-01-06-and-16-01-26 -style tss -o ./peak_files/NOD_BMDM_GRO_notx_SD018_16-01-06-and-16-01-26_tss_peaks.tsv\n",
      "findPeaks /home/jtao/analysis/directionality_analysis/tag_directories_GRO//BALB_BMDM_GRO_KLA-1h_SD011_16-01-06-and-16-01-26 -style tss -o ./peak_files/BALB_BMDM_GRO_KLA-1h_SD011_16-01-06-and-16-01-26_tss_peaks.tsv\n",
      "findPeaks /home/jtao/analysis/directionality_analysis/tag_directories_GRO//NOD_BMDM_GRO_notx_SD260_16-07-27-and-16-08-26 -style tss -o ./peak_files/NOD_BMDM_GRO_notx_SD260_16-07-27-and-16-08-26_tss_peaks.tsv\n",
      "findPeaks /home/jtao/analysis/directionality_analysis/tag_directories_GRO//PWK_BMDM_GRO_KLA-1h_SD013_16-01-06-and-16-01-26 -style tss -o ./peak_files/PWK_BMDM_GRO_KLA-1h_SD013_16-01-06-and-16-01-26_tss_peaks.tsv\n",
      "findPeaks /home/jtao/analysis/directionality_analysis/tag_directories_GRO//C57_BMDM_GRO_notx_SD173_16-05-26 -style tss -o ./peak_files/C57_BMDM_GRO_notx_SD173_16-05-26_tss_peaks.tsv\n",
      "findPeaks /home/jtao/analysis/directionality_analysis/tag_directories_GRO//SPRET_BMDM_GRO_KLA-1h_SD180_16-05-26 -style tss -o ./peak_files/SPRET_BMDM_GRO_KLA-1h_SD180_16-05-26_tss_peaks.tsv\n",
      "findPeaks /home/jtao/analysis/directionality_analysis/tag_directories_GRO//PWK_BMDM_GRO_KLA-1h_SD178_16-05-26 -style tss -o ./peak_files/PWK_BMDM_GRO_KLA-1h_SD178_16-05-26_tss_peaks.tsv\n",
      "findPeaks /home/jtao/analysis/directionality_analysis/tag_directories_GRO//PWK_BMDM_GRO_notx_SD012_16-01-06-and-16-01-26 -style tss -o ./peak_files/PWK_BMDM_GRO_notx_SD012_16-01-06-and-16-01-26_tss_peaks.tsv\n",
      "findPeaks /home/jtao/analysis/directionality_analysis/tag_directories_GRO//NOD_BMDM_GRO_KLA-1h_SD261_16-07-27-and-16-08-26 -style tss -o ./peak_files/NOD_BMDM_GRO_KLA-1h_SD261_16-07-27-and-16-08-26_tss_peaks.tsv\n",
      "findPeaks /home/jtao/analysis/directionality_analysis/tag_directories_GRO//SPRET_BMDM_GRO_notx_SD270_16-8-05-and-16-08-26 -style tss -o ./peak_files/SPRET_BMDM_GRO_notx_SD270_16-8-05-and-16-08-26_tss_peaks.tsv\n",
      "findPeaks /home/jtao/analysis/directionality_analysis/tag_directories_GRO//SPRET_BMDM_GRO_notx_SD016_16-01-06-and-16-01-26 -style tss -o ./peak_files/SPRET_BMDM_GRO_notx_SD016_16-01-06-and-16-01-26_tss_peaks.tsv\n",
      "findPeaks /home/jtao/analysis/directionality_analysis/tag_directories_GRO//NOD_BMDM_GRO_KLA-1h_SD019_16-01-06-and-16-01-26 -style tss -o ./peak_files/NOD_BMDM_GRO_KLA-1h_SD019_16-01-06-and-16-01-26_tss_peaks.tsv\n",
      "findPeaks /home/jtao/analysis/directionality_analysis/tag_directories_GRO//C57_BMDM_GRO_KLA-1h_SD174_16-05-26 -style tss -o ./peak_files/C57_BMDM_GRO_KLA-1h_SD174_16-05-26_tss_peaks.tsv\n"
     ]
    }
   ],
   "source": [
    "gro_tagDirectory_path = '/home/jtao/analysis/directionality_analysis/tag_directories_GRO/'\n",
    "style = 'tss'\n",
    "\n",
    "for file in metadata_frame['File Name']:\n",
    "    commandTokens = ['findPeaks']\n",
    "    \n",
    "    tagDirectoryPath = gro_tagDirectory_path + '/' + file\n",
    "    commandTokens.append(tagDirectoryPath)\n",
    "    commandTokens.append('-style')\n",
    "    commandTokens.append(style)\n",
    "    outputPath = './peak_files/' + file + '_' + style + '_peaks.tsv'\n",
    "    commandTokens.append('-o')\n",
    "    commandTokens.append(outputPath)\n",
    "    \n",
    "    commandString = ' '.join(commandTokens) # join command tokens with a ' ' in between\n",
    "    \n",
    "    print(commandString)\n",
    "    \n",
    "    # call Homer\n",
    "    os.system(commandString)"
   ]
  },
  {
   "cell_type": "markdown",
   "metadata": {},
   "source": [
    "## Merge Peak Files"
   ]
  },
  {
   "cell_type": "code",
   "execution_count": 55,
   "metadata": {
    "collapsed": true
   },
   "outputs": [],
   "source": [
    "if not os.path.isdir('./merged_peak_files'):\n",
    "    os.mkdir('merged_peak_files')\n",
    "else:\n",
    "    # otherwise clear out the directory\n",
    "    for toDelete in os.listdir('./merged_peak_files'):\n",
    "        os.system('rm /merged_peak_files/*') #os_systems use for bash commands "
   ]
  },
  {
   "cell_type": "markdown",
   "metadata": {},
   "source": [
    "### -style groseq"
   ]
  },
  {
   "cell_type": "code",
   "execution_count": 58,
   "metadata": {
    "collapsed": false
   },
   "outputs": [
    {
     "name": "stdout",
     "output_type": "stream",
     "text": [
      "mergePeaks -d given ./peak_files/BALB_BMDM_GRO_KLA-1h_SD176_16-05-26-and-16-08-26_groseq_peaks.tsv ./peak_files/BALB_BMDM_GRO_KLA-1h_SD011_16-01-06-and-16-01-26_groseq_peaks.tsv >./merged_peak_files/BALB_KLA-1h_groseq_mergedPeaks.tsv\n",
      "mergePeaks -d given ./peak_files/BALB_BMDM_GRO_notx_SD175_16-05-26-and-16-08-26_groseq_peaks.tsv ./peak_files/BALB_BMDM_GRO_notx_SD258_16-07-27_groseq_peaks.tsv >./merged_peak_files/BALB_KLA-1h_groseq_mergedPeaks.tsv\n",
      "mergePeaks -d given ./peak_files/C57_BMDM_GRO_KLA-1h_SD010_16-01-06-and-16-01-26_groseq_peaks.tsv ./peak_files/C57_BMDM_GRO_KLA-1h_SD174_16-05-26_groseq_peaks.tsv >./merged_peak_files/C57_KLA-1h_groseq_mergedPeaks.tsv\n",
      "mergePeaks -d given ./peak_files/C57_BMDM_GRO_notx_SD009_16-01-06-and-16-01-26_groseq_peaks.tsv ./peak_files/C57_BMDM_GRO_notx_SD173_16-05-26_groseq_peaks.tsv >./merged_peak_files/C57_KLA-1h_groseq_mergedPeaks.tsv\n",
      "mergePeaks -d given ./peak_files/NOD_BMDM_GRO_KLA-1h_SD261_16-07-27-and-16-08-26_groseq_peaks.tsv ./peak_files/NOD_BMDM_GRO_KLA-1h_SD019_16-01-06-and-16-01-26_groseq_peaks.tsv >./merged_peak_files/NOD_KLA-1h_groseq_mergedPeaks.tsv\n",
      "mergePeaks -d given ./peak_files/NOD_BMDM_GRO_notx_SD018_16-01-06-and-16-01-26_groseq_peaks.tsv ./peak_files/NOD_BMDM_GRO_notx_SD260_16-07-27-and-16-08-26_groseq_peaks.tsv >./merged_peak_files/NOD_KLA-1h_groseq_mergedPeaks.tsv\n",
      "mergePeaks -d given ./peak_files/PWK_BMDM_GRO_KLA-1h_SD013_16-01-06-and-16-01-26_groseq_peaks.tsv ./peak_files/PWK_BMDM_GRO_KLA-1h_SD178_16-05-26_groseq_peaks.tsv >./merged_peak_files/PWK_KLA-1h_groseq_mergedPeaks.tsv\n",
      "mergePeaks -d given ./peak_files/PWK_BMDM_GRO_notx_SD177_16-05-26_groseq_peaks.tsv ./peak_files/PWK_BMDM_GRO_notx_SD012_16-01-06-and-16-01-26_groseq_peaks.tsv >./merged_peak_files/PWK_KLA-1h_groseq_mergedPeaks.tsv\n",
      "mergePeaks -d given ./peak_files/SPRET_BMDM_GRO_KLA-1h_SD017_16-01-06-and-16-01-26_groseq_peaks.tsv ./peak_files/SPRET_BMDM_GRO_KLA-1h_SD180_16-05-26_groseq_peaks.tsv >./merged_peak_files/SPRET_KLA-1h_groseq_mergedPeaks.tsv\n",
      "mergePeaks -d given ./peak_files/SPRET_BMDM_GRO_notx_SD270_16-8-05-and-16-08-26_groseq_peaks.tsv ./peak_files/SPRET_BMDM_GRO_notx_SD016_16-01-06-and-16-01-26_groseq_peaks.tsv >./merged_peak_files/SPRET_KLA-1h_groseq_mergedPeaks.tsv\n"
     ]
    }
   ],
   "source": [
    "style = 'groseq'\n",
    "strains = sorted(set(metadata_frame['Strain'].values))\n",
    "treatments = sorted(set(metadata_frame['Treatment'].values))\n",
    "       \n",
    "for s in strains:\n",
    "    for t in treatments:\n",
    "        strain_index = metadata_frame['Strain'] == s\n",
    "        treatment_index = metadata_frame['Treatment'] == t\n",
    "        combined_index = (strain_index) & (treatment_index)\n",
    "        \n",
    "        commandTokens2 = ['mergePeaks']\n",
    "        commandTokens2.append('-d given')\n",
    "        \n",
    "        fileNames = metadata_frame.ix[combined_index,'File Name']\n",
    "        fileName1 = './peak_files/' + fileNames[0] + '_' + style + '_peaks.tsv'\n",
    "        fileName2 = './peak_files/' + fileNames[1] + '_' + style + '_peaks.tsv'\n",
    "        \n",
    "        commandTokens2.append(fileName1)\n",
    "        commandTokens2.append(fileName2)\n",
    "        \n",
    "        outputFile = './merged_peak_files/' + s + '_' + treatment + '_' + style + '_mergedPeaks.tsv'\n",
    "        commandTokens2.append('>'+outputFile)\n",
    "        commandString = ' '.join(commandTokens2)\n",
    "        \n",
    "        print(commandString)\n",
    "    \n",
    "        # call Homer\n",
    "        os.system(commandString)"
   ]
  },
  {
   "cell_type": "markdown",
   "metadata": {},
   "source": [
    "### -style tss"
   ]
  },
  {
   "cell_type": "code",
   "execution_count": 59,
   "metadata": {
    "collapsed": false
   },
   "outputs": [
    {
     "name": "stdout",
     "output_type": "stream",
     "text": [
      "mergePeaks -d given ./peak_files/BALB_BMDM_GRO_KLA-1h_SD176_16-05-26-and-16-08-26_tss_peaks.tsv ./peak_files/BALB_BMDM_GRO_KLA-1h_SD011_16-01-06-and-16-01-26_tss_peaks.tsv >./merged_peak_files/BALB_KLA-1h_tss_mergedPeaks.tsv\n",
      "mergePeaks -d given ./peak_files/BALB_BMDM_GRO_notx_SD175_16-05-26-and-16-08-26_tss_peaks.tsv ./peak_files/BALB_BMDM_GRO_notx_SD258_16-07-27_tss_peaks.tsv >./merged_peak_files/BALB_KLA-1h_tss_mergedPeaks.tsv\n",
      "mergePeaks -d given ./peak_files/C57_BMDM_GRO_KLA-1h_SD010_16-01-06-and-16-01-26_tss_peaks.tsv ./peak_files/C57_BMDM_GRO_KLA-1h_SD174_16-05-26_tss_peaks.tsv >./merged_peak_files/C57_KLA-1h_tss_mergedPeaks.tsv\n",
      "mergePeaks -d given ./peak_files/C57_BMDM_GRO_notx_SD009_16-01-06-and-16-01-26_tss_peaks.tsv ./peak_files/C57_BMDM_GRO_notx_SD173_16-05-26_tss_peaks.tsv >./merged_peak_files/C57_KLA-1h_tss_mergedPeaks.tsv\n",
      "mergePeaks -d given ./peak_files/NOD_BMDM_GRO_KLA-1h_SD261_16-07-27-and-16-08-26_tss_peaks.tsv ./peak_files/NOD_BMDM_GRO_KLA-1h_SD019_16-01-06-and-16-01-26_tss_peaks.tsv >./merged_peak_files/NOD_KLA-1h_tss_mergedPeaks.tsv\n",
      "mergePeaks -d given ./peak_files/NOD_BMDM_GRO_notx_SD018_16-01-06-and-16-01-26_tss_peaks.tsv ./peak_files/NOD_BMDM_GRO_notx_SD260_16-07-27-and-16-08-26_tss_peaks.tsv >./merged_peak_files/NOD_KLA-1h_tss_mergedPeaks.tsv\n",
      "mergePeaks -d given ./peak_files/PWK_BMDM_GRO_KLA-1h_SD013_16-01-06-and-16-01-26_tss_peaks.tsv ./peak_files/PWK_BMDM_GRO_KLA-1h_SD178_16-05-26_tss_peaks.tsv >./merged_peak_files/PWK_KLA-1h_tss_mergedPeaks.tsv\n",
      "mergePeaks -d given ./peak_files/PWK_BMDM_GRO_notx_SD177_16-05-26_tss_peaks.tsv ./peak_files/PWK_BMDM_GRO_notx_SD012_16-01-06-and-16-01-26_tss_peaks.tsv >./merged_peak_files/PWK_KLA-1h_tss_mergedPeaks.tsv\n",
      "mergePeaks -d given ./peak_files/SPRET_BMDM_GRO_KLA-1h_SD017_16-01-06-and-16-01-26_tss_peaks.tsv ./peak_files/SPRET_BMDM_GRO_KLA-1h_SD180_16-05-26_tss_peaks.tsv >./merged_peak_files/SPRET_KLA-1h_tss_mergedPeaks.tsv\n",
      "mergePeaks -d given ./peak_files/SPRET_BMDM_GRO_notx_SD270_16-8-05-and-16-08-26_tss_peaks.tsv ./peak_files/SPRET_BMDM_GRO_notx_SD016_16-01-06-and-16-01-26_tss_peaks.tsv >./merged_peak_files/SPRET_KLA-1h_tss_mergedPeaks.tsv\n"
     ]
    }
   ],
   "source": [
    "style = 'tss'\n",
    "strains = sorted(set(metadata_frame['Strain'].values))\n",
    "treatments = sorted(set(metadata_frame['Treatment'].values))\n",
    "\n",
    "for s in strains:\n",
    "    for t in treatments:\n",
    "        strain_index = metadata_frame['Strain'] == s\n",
    "        treatment_index = metadata_frame['Treatment'] == t\n",
    "        combined_index = (strain_index) & (treatment_index)\n",
    "        \n",
    "        commandTokens2 = ['mergePeaks']\n",
    "        commandTokens2.append('-d given')\n",
    "        \n",
    "        fileNames = metadata_frame.ix[combined_index,'File Name']\n",
    "        fileName1 = './peak_files/' + fileNames[0] + '_' + style + '_peaks.tsv'\n",
    "        fileName2 = './peak_files/' + fileNames[1] + '_' + style + '_peaks.tsv'\n",
    "        \n",
    "        commandTokens2.append(fileName1)\n",
    "        commandTokens2.append(fileName2)\n",
    "        \n",
    "        outputFile = './merged_peak_files/' + s + '_' + treatment + '_' + style + '_mergedPeaks.tsv'\n",
    "        commandTokens2.append('>'+outputFile)\n",
    "        commandString = ' '.join(commandTokens2)\n",
    "        \n",
    "        print(commandString)\n",
    "    \n",
    "        # call Homer\n",
    "        os.system(commandString)"
   ]
  },
  {
   "cell_type": "code",
   "execution_count": 36,
   "metadata": {
    "collapsed": true
   },
   "outputs": [],
   "source": [
    "!ls peak_files/"
   ]
  },
  {
   "cell_type": "code",
   "execution_count": null,
   "metadata": {
    "collapsed": true
   },
   "outputs": [],
   "source": []
  }
 ],
 "metadata": {
  "anaconda-cloud": {},
  "kernelspec": {
   "display_name": "Python [Root]",
   "language": "python",
   "name": "Python [Root]"
  },
  "language_info": {
   "codemirror_mode": {
    "name": "ipython",
    "version": 3
   },
   "file_extension": ".py",
   "mimetype": "text/x-python",
   "name": "python",
   "nbconvert_exporter": "python",
   "pygments_lexer": "ipython3",
   "version": "3.5.1"
  }
 },
 "nbformat": 4,
 "nbformat_minor": 0
}
