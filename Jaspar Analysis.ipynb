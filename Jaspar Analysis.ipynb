{
 "cells": [
  {
   "cell_type": "markdown",
   "metadata": {},
   "source": [
    "# Jaspar Analysis"
   ]
  },
  {
   "cell_type": "code",
   "execution_count": 1,
   "metadata": {},
   "outputs": [
    {
     "name": "stderr",
     "output_type": "stream",
     "text": [
      "/home/jtao/software/anaconda3/lib/python3.5/site-packages/IPython/html.py:14: ShimWarning: The `IPython.html` package has been deprecated since IPython 4.0. You should import from `notebook` instead. `IPython.html.widgets` has moved to `ipywidgets`.\n",
      "  \"`IPython.html.widgets` has moved to `ipywidgets`.\", ShimWarning)\n"
     ]
    }
   ],
   "source": [
    "### header ###\n",
    "__author__ = \"Jenhan Tao\"\n",
    "__license__ = \"BSD\"\n",
    "__email__ = \"jenhantao@gmail.com\"\n",
    "%load_ext autoreload\n",
    "%autoreload 2\n",
    "### imports ###\n",
    "import sys\n",
    "%matplotlib inline\n",
    "import os\n",
    "import pandas as pd\n",
    "import numpy as np\n",
    "import matplotlib\n",
    "import matplotlib.pyplot as plt \n",
    "import seaborn as sns\n",
    "sys.setrecursionlimit(3000)\n",
    "import pickle\n",
    "import time\n",
    "import scipy\n",
    "import Bio\n",
    "sns.set_context('notebook')"
   ]
  },
  {
   "cell_type": "code",
   "execution_count": 2,
   "metadata": {},
   "outputs": [],
   "source": [
    "workingDirectory = '/home/jtao/analysis/jaspar_analysis/'\n",
    "os.chdir(workingDirectory)"
   ]
  },
  {
   "cell_type": "markdown",
   "metadata": {},
   "source": [
    "## Separate JASPAR motifs into individual files"
   ]
  },
  {
   "cell_type": "code",
   "execution_count": 3,
   "metadata": {},
   "outputs": [],
   "source": [
    "with open('./pfm_vertebrates_jaspar_2016.txt') as f:\n",
    "    data = f.readlines()"
   ]
  },
  {
   "cell_type": "code",
   "execution_count": 4,
   "metadata": {},
   "outputs": [],
   "source": [
    "nonempty_lines = []\n",
    "for line in data:\n",
    "    if len(line) > 1:\n",
    "        nonempty_lines.append(line.strip())"
   ]
  },
  {
   "cell_type": "code",
   "execution_count": 5,
   "metadata": {},
   "outputs": [],
   "source": [
    "output_path = './individual_motifs/'\n",
    "if not os.path.isdir(output_path):\n",
    "    os.mkdir(output_path)\n",
    "all_motif_names = []\n",
    "for i in range(0, len(nonempty_lines), 5):\n",
    "    name_line = nonempty_lines[i + 0]\n",
    "    motif_name = name_line.split()[1]\n",
    "    all_motif_names.append(motif_name)\n",
    "    A_line = nonempty_lines[i + 1]\n",
    "    C_line = nonempty_lines[i + 2]\n",
    "    G_line = nonempty_lines[i + 3]\n",
    "    T_line = nonempty_lines[i + 4]\n",
    "  \n",
    "    out_file = open(output_path + '/' + motif_name + '.jaspar', 'w')\n",
    "    out_file.write(name_line + '\\n')\n",
    "    out_file.write(A_line + '\\n')\n",
    "    out_file.write(C_line + '\\n')\n",
    "    out_file.write(G_line + '\\n')\n",
    "    out_file.write(T_line + '\\n')\n",
    "\n",
    "    out_file.close()"
   ]
  },
  {
   "cell_type": "markdown",
   "metadata": {},
   "source": [
    "## Read Jaspar Metadata"
   ]
  },
  {
   "cell_type": "markdown",
   "metadata": {},
   "source": [
    "### Read in Motif ID and Index mapping"
   ]
  },
  {
   "cell_type": "code",
   "execution_count": 6,
   "metadata": {},
   "outputs": [],
   "source": [
    "with open('./MATRIX_2016.txt') as f:\n",
    "    data = f.readlines()\n",
    "\n",
    "motifID_index_dict = {}\n",
    "motifName_index_dict = {}\n",
    "for line in data:\n",
    "    tokens = line.strip().split()\n",
    "    index = tokens[0]\n",
    "    motif_id = tokens[2]\n",
    "    name = tokens[4]\n",
    "    \n",
    "    motifID_index_dict[motif_id] = index\n",
    "    motifName_index_dict[name] = index"
   ]
  },
  {
   "cell_type": "markdown",
   "metadata": {},
   "source": [
    "### Read in Protein ID"
   ]
  },
  {
   "cell_type": "code",
   "execution_count": 7,
   "metadata": {},
   "outputs": [],
   "source": [
    "with open('./MATRIX_PROTEIN_2016.txt') as f:\n",
    "    data = f.readlines()\n",
    "\n",
    "index_uniprot_dict = {}\n",
    "for line in data:\n",
    "    tokens = line.strip().split()\n",
    "    \n",
    "    index = tokens[0]\n",
    "    uniprot = tokens[1]\n",
    "    \n",
    "    index_uniprot_dict[index] = uniprot\n",
    "#     print(uniprot)"
   ]
  },
  {
   "cell_type": "markdown",
   "metadata": {},
   "source": [
    "### Read in Annotations (Family)"
   ]
  },
  {
   "cell_type": "code",
   "execution_count": 8,
   "metadata": {},
   "outputs": [],
   "source": [
    "with open('./MATRIX_ANNOTATION_2016.txt') as f:\n",
    "    data = f.readlines()\n",
    "\n",
    "index_family_dict = {}\n",
    "index_class_dict = {}\n",
    "for line in data:\n",
    "    tokens = line.strip().split()\n",
    "    index = tokens[0]\n",
    "    data_type = tokens[1]\n",
    "    data = '_'.join(tokens[2:])\n",
    "    if data_type == 'family':\n",
    "        family = data\n",
    "        index_family_dict[index] = family\n",
    "    if data_type == 'class':\n",
    "        motif_class = data\n",
    "        index_class_dict[index] = motif_class"
   ]
  },
  {
   "cell_type": "markdown",
   "metadata": {},
   "source": [
    "### Read Uniprot Gene Mapping"
   ]
  },
  {
   "cell_type": "code",
   "execution_count": 9,
   "metadata": {},
   "outputs": [],
   "source": [
    "uniprot_geneName_dict = {}\n",
    "with open('./uniprot_gene_mapping.txt') as f:\n",
    "    data = f.readlines()\n",
    "for line in data:\n",
    "    tokens = line.strip().split()\n",
    "    uniprot = tokens[0]\n",
    "    geneName = tokens[1]\n",
    "    uniprot_geneName_dict[uniprot] = geneName"
   ]
  },
  {
   "cell_type": "markdown",
   "metadata": {},
   "source": [
    "### Create DataFrame"
   ]
  },
  {
   "cell_type": "code",
   "execution_count": 10,
   "metadata": {},
   "outputs": [],
   "source": [
    "name_list = []\n",
    "gene_list = []\n",
    "class_list = []\n",
    "family_list = []\n",
    "\n",
    "for motifName in all_motif_names:\n",
    "    gene = 'unknown'\n",
    "    family = 'unknown'\n",
    "    motif_class = 'unknown'\n",
    "    \n",
    "    index = motifName_index_dict[motifName]\n",
    "    if index in index_uniprot_dict:\n",
    "        uniprot = index_uniprot_dict[index]\n",
    "        if uniprot in uniprot_geneName_dict:\n",
    "            gene = uniprot_geneName_dict[uniprot]\n",
    "    if index in index_family_dict:\n",
    "        family = index_family_dict[index]\n",
    "    if index in index_class_dict:\n",
    "        motif_class = index_class_dict[index]\n",
    "    \n",
    "    name_list.append(motifName)\n",
    "    gene_list.append(gene)\n",
    "    class_list.append(motif_class)\n",
    "    family_list.append(family)\n",
    "    \n",
    "jaspar_metadata_frame = pd.DataFrame({'Name':name_list,\n",
    "              'Family':family_list,\n",
    "              'Class':class_list,\n",
    "              'Gene':gene_list})\n",
    "jaspar_metadata_frame = jaspar_metadata_frame[['Name', 'Gene', 'Family', 'Class', ]]\n",
    "# jaspar_metadata_frame.to_csv('./metadata.tsv', sep='\\t', index=False)"
   ]
  },
  {
   "cell_type": "markdown",
   "metadata": {},
   "source": [
    "## Convert CISBP Motifs"
   ]
  },
  {
   "cell_type": "code",
   "execution_count": 11,
   "metadata": {},
   "outputs": [],
   "source": [
    "cisbp_metadata_frame = pd.read_csv('./cisbp/TF_Information.txt', sep='\\t')\n",
    "\n",
    "# cisbp_metadata_frame= cisbp_metadata_frame[cisbp_metadata_frame['TF_Status'].astype(str)=='D']\n",
    "\n",
    "cisbp_metadata_frame= cisbp_metadata_frame[cisbp_metadata_frame['TF_Status'].astype(str)!='N']\n",
    "\n",
    "cisbp_motif_genes = [x.lower() for x in cisbp_metadata_frame['TF_Name'].unique()]"
   ]
  },
  {
   "cell_type": "markdown",
   "metadata": {
    "collapsed": true
   },
   "source": [
    "## Check Human TFome"
   ]
  },
  {
   "cell_type": "code",
   "execution_count": 12,
   "metadata": {},
   "outputs": [],
   "source": [
    "with open ('./Human-TFome.txt') as f:\n",
    "    data = f.readlines()\n",
    "    \n",
    "human_tfs = [x.strip().lower() for x in data]"
   ]
  },
  {
   "cell_type": "code",
   "execution_count": 13,
   "metadata": {},
   "outputs": [],
   "source": [
    "jaspar_motif_genes = [x.lower() for x in  jaspar_metadata_frame['Gene'].values]"
   ]
  },
  {
   "cell_type": "markdown",
   "metadata": {},
   "source": [
    "### Identify Motifs to Grab from CISBP"
   ]
  },
  {
   "cell_type": "code",
   "execution_count": 14,
   "metadata": {},
   "outputs": [
    {
     "name": "stdout",
     "output_type": "stream",
     "text": [
      "num missing 1105\n",
      "rescued by cisbp 348\n",
      "zinc fingers 503\n"
     ]
    }
   ],
   "source": [
    "count = 0\n",
    "count2=0\n",
    "count3=0\n",
    "cisbp_rescued_genes = []\n",
    "for x in human_tfs:\n",
    "    if not x in jaspar_motif_genes:\n",
    "        count+=1\n",
    "        if x in cisbp_motif_genes:\n",
    "            cisbp_rescued_genes.append(x)\n",
    "            count2+=1\n",
    "        if 'znf' in x:\n",
    "            count3+=1\n",
    "print('num missing', count)\n",
    "print('rescued by cisbp', count2)\n",
    "print('zinc fingers', count3)"
   ]
  },
  {
   "cell_type": "code",
   "execution_count": 15,
   "metadata": {},
   "outputs": [],
   "source": [
    "rescued_indices = cisbp_metadata_frame[cisbp_metadata_frame['TF_Name'].str.lower().isin(cisbp_rescued_genes)].index.values"
   ]
  },
  {
   "cell_type": "code",
   "execution_count": 16,
   "metadata": {},
   "outputs": [
    {
     "data": {
      "text/html": [
       "<div>\n",
       "<style>\n",
       "    .dataframe thead tr:only-child th {\n",
       "        text-align: right;\n",
       "    }\n",
       "\n",
       "    .dataframe thead th {\n",
       "        text-align: left;\n",
       "    }\n",
       "\n",
       "    .dataframe tbody tr th {\n",
       "        vertical-align: top;\n",
       "    }\n",
       "</style>\n",
       "<table border=\"1\" class=\"dataframe\">\n",
       "  <thead>\n",
       "    <tr style=\"text-align: right;\">\n",
       "      <th></th>\n",
       "      <th>TF_ID</th>\n",
       "      <th>Family_ID</th>\n",
       "      <th>TSource_ID</th>\n",
       "      <th>Motif_ID</th>\n",
       "      <th>MSource_ID</th>\n",
       "      <th>DBID</th>\n",
       "      <th>TF_Name</th>\n",
       "      <th>TF_Species</th>\n",
       "      <th>TF_Status</th>\n",
       "      <th>Family_Name</th>\n",
       "      <th>...</th>\n",
       "      <th>MSource_Type</th>\n",
       "      <th>MSource_Author</th>\n",
       "      <th>MSource_Year</th>\n",
       "      <th>PMID</th>\n",
       "      <th>MSource_Version</th>\n",
       "      <th>TfSource_Name</th>\n",
       "      <th>TfSource_URL</th>\n",
       "      <th>TfSource_Year</th>\n",
       "      <th>TfSource_Month</th>\n",
       "      <th>TfSource_Day</th>\n",
       "    </tr>\n",
       "  </thead>\n",
       "  <tbody>\n",
       "    <tr>\n",
       "      <th>0</th>\n",
       "      <td>T004843_1.02</td>\n",
       "      <td>F035_1.02</td>\n",
       "      <td>TS19_1.02</td>\n",
       "      <td>M2938_1.02</td>\n",
       "      <td>MS26_1.02</td>\n",
       "      <td>ENSG00000008196</td>\n",
       "      <td>TFAP2B</td>\n",
       "      <td>Homo_sapiens</td>\n",
       "      <td>D</td>\n",
       "      <td>AP-2</td>\n",
       "      <td>...</td>\n",
       "      <td>Transfac</td>\n",
       "      <td>Matys</td>\n",
       "      <td>2006</td>\n",
       "      <td>16381825</td>\n",
       "      <td>2014.2</td>\n",
       "      <td>Ensembl</td>\n",
       "      <td>http://www.ensembl.org/</td>\n",
       "      <td>2011</td>\n",
       "      <td>Oct</td>\n",
       "      <td>26</td>\n",
       "    </tr>\n",
       "    <tr>\n",
       "      <th>1</th>\n",
       "      <td>T004843_1.02</td>\n",
       "      <td>F035_1.02</td>\n",
       "      <td>TS19_1.02</td>\n",
       "      <td>M5917_1.02</td>\n",
       "      <td>MS20_1.02</td>\n",
       "      <td>ENSG00000008196</td>\n",
       "      <td>TFAP2B</td>\n",
       "      <td>Homo_sapiens</td>\n",
       "      <td>D</td>\n",
       "      <td>AP-2</td>\n",
       "      <td>...</td>\n",
       "      <td>SELEX</td>\n",
       "      <td>Jolma</td>\n",
       "      <td>2013</td>\n",
       "      <td>23332764</td>\n",
       "      <td>January 2013</td>\n",
       "      <td>Ensembl</td>\n",
       "      <td>http://www.ensembl.org/</td>\n",
       "      <td>2011</td>\n",
       "      <td>Oct</td>\n",
       "      <td>26</td>\n",
       "    </tr>\n",
       "    <tr>\n",
       "      <th>2</th>\n",
       "      <td>T004843_1.02</td>\n",
       "      <td>F035_1.02</td>\n",
       "      <td>TS19_1.02</td>\n",
       "      <td>M5918_1.02</td>\n",
       "      <td>MS20_1.02</td>\n",
       "      <td>ENSG00000008196</td>\n",
       "      <td>TFAP2B</td>\n",
       "      <td>Homo_sapiens</td>\n",
       "      <td>D</td>\n",
       "      <td>AP-2</td>\n",
       "      <td>...</td>\n",
       "      <td>SELEX</td>\n",
       "      <td>Jolma</td>\n",
       "      <td>2013</td>\n",
       "      <td>23332764</td>\n",
       "      <td>January 2013</td>\n",
       "      <td>Ensembl</td>\n",
       "      <td>http://www.ensembl.org/</td>\n",
       "      <td>2011</td>\n",
       "      <td>Oct</td>\n",
       "      <td>26</td>\n",
       "    </tr>\n",
       "    <tr>\n",
       "      <th>3</th>\n",
       "      <td>T004843_1.02</td>\n",
       "      <td>F035_1.02</td>\n",
       "      <td>TS19_1.02</td>\n",
       "      <td>M5919_1.02</td>\n",
       "      <td>MS20_1.02</td>\n",
       "      <td>ENSG00000008196</td>\n",
       "      <td>TFAP2B</td>\n",
       "      <td>Homo_sapiens</td>\n",
       "      <td>D</td>\n",
       "      <td>AP-2</td>\n",
       "      <td>...</td>\n",
       "      <td>SELEX</td>\n",
       "      <td>Jolma</td>\n",
       "      <td>2013</td>\n",
       "      <td>23332764</td>\n",
       "      <td>January 2013</td>\n",
       "      <td>Ensembl</td>\n",
       "      <td>http://www.ensembl.org/</td>\n",
       "      <td>2011</td>\n",
       "      <td>Oct</td>\n",
       "      <td>26</td>\n",
       "    </tr>\n",
       "    <tr>\n",
       "      <th>4</th>\n",
       "      <td>T004843_1.02</td>\n",
       "      <td>F035_1.02</td>\n",
       "      <td>TS19_1.02</td>\n",
       "      <td>M6144_1.02</td>\n",
       "      <td>MS18_1.02</td>\n",
       "      <td>ENSG00000008196</td>\n",
       "      <td>TFAP2B</td>\n",
       "      <td>Homo_sapiens</td>\n",
       "      <td>D</td>\n",
       "      <td>AP-2</td>\n",
       "      <td>...</td>\n",
       "      <td>HocoMoco</td>\n",
       "      <td>Kulakovskiy</td>\n",
       "      <td>2013</td>\n",
       "      <td>23175603</td>\n",
       "      <td>July 2014</td>\n",
       "      <td>Ensembl</td>\n",
       "      <td>http://www.ensembl.org/</td>\n",
       "      <td>2011</td>\n",
       "      <td>Oct</td>\n",
       "      <td>26</td>\n",
       "    </tr>\n",
       "  </tbody>\n",
       "</table>\n",
       "<p>5 rows × 26 columns</p>\n",
       "</div>"
      ],
      "text/plain": [
       "          TF_ID  Family_ID TSource_ID    Motif_ID MSource_ID             DBID  \\\n",
       "0  T004843_1.02  F035_1.02  TS19_1.02  M2938_1.02  MS26_1.02  ENSG00000008196   \n",
       "1  T004843_1.02  F035_1.02  TS19_1.02  M5917_1.02  MS20_1.02  ENSG00000008196   \n",
       "2  T004843_1.02  F035_1.02  TS19_1.02  M5918_1.02  MS20_1.02  ENSG00000008196   \n",
       "3  T004843_1.02  F035_1.02  TS19_1.02  M5919_1.02  MS20_1.02  ENSG00000008196   \n",
       "4  T004843_1.02  F035_1.02  TS19_1.02  M6144_1.02  MS18_1.02  ENSG00000008196   \n",
       "\n",
       "  TF_Name    TF_Species TF_Status Family_Name     ...      MSource_Type  \\\n",
       "0  TFAP2B  Homo_sapiens         D        AP-2     ...          Transfac   \n",
       "1  TFAP2B  Homo_sapiens         D        AP-2     ...             SELEX   \n",
       "2  TFAP2B  Homo_sapiens         D        AP-2     ...             SELEX   \n",
       "3  TFAP2B  Homo_sapiens         D        AP-2     ...             SELEX   \n",
       "4  TFAP2B  Homo_sapiens         D        AP-2     ...          HocoMoco   \n",
       "\n",
       "   MSource_Author  MSource_Year      PMID MSource_Version TfSource_Name  \\\n",
       "0           Matys          2006  16381825          2014.2       Ensembl   \n",
       "1           Jolma          2013  23332764    January 2013       Ensembl   \n",
       "2           Jolma          2013  23332764    January 2013       Ensembl   \n",
       "3           Jolma          2013  23332764    January 2013       Ensembl   \n",
       "4     Kulakovskiy          2013  23175603       July 2014       Ensembl   \n",
       "\n",
       "              TfSource_URL TfSource_Year TfSource_Month TfSource_Day  \n",
       "0  http://www.ensembl.org/          2011            Oct           26  \n",
       "1  http://www.ensembl.org/          2011            Oct           26  \n",
       "2  http://www.ensembl.org/          2011            Oct           26  \n",
       "3  http://www.ensembl.org/          2011            Oct           26  \n",
       "4  http://www.ensembl.org/          2011            Oct           26  \n",
       "\n",
       "[5 rows x 26 columns]"
      ]
     },
     "execution_count": 16,
     "metadata": {},
     "output_type": "execute_result"
    }
   ],
   "source": [
    "cisbp_metadata_frame.head()"
   ]
  },
  {
   "cell_type": "code",
   "execution_count": 38,
   "metadata": {},
   "outputs": [],
   "source": [
    "output_path = './individual_cisbp_motifs/'\n",
    "if not os.path.isdir(output_path):\n",
    "    os.mkdir(output_path)\n",
    "else:\n",
    "    for f in os.listdir(output_path):\n",
    "        os.remove(output_path + '/'+f)\n",
    "names = cisbp_metadata_frame.loc[rescued_indices, 'TF_Name'].values\n",
    "motif_ids = cisbp_metadata_frame.loc[rescued_indices, 'Motif_ID'].values\n",
    "name_count_dict = {}\n",
    "for motif_id, motif_name in zip(motif_ids, names):\n",
    "    with open('./cisbp/pwms_all_motifs/'+motif_id+'.txt') as f:\n",
    "        data = f.readlines()\n",
    "    if len(data) > 1:\n",
    "        if motif_name in name_count_dict:\n",
    "            name_count_dict[motif_name] += 1\n",
    "            new_name = motif_name +'_ver'+str(name_count_dict[motif_name])\n",
    "            cisbp_id_name_dict[motif_id] = new_name\n",
    "        else:\n",
    "            name_count_dict[motif_name] = 1\n",
    "            new_name=motif_name\n",
    "            \n",
    "        A_freqs = []\n",
    "        C_freqs = []\n",
    "        G_freqs = []\n",
    "        T_freqs = []    \n",
    "        new_name = cisbp_id_name_dict[motif_id]\n",
    "        converted_file = open(output_path + '/' + new_name + '.jaspar', 'w')\n",
    "        converted_file.write('>' + motif_id + '\\t' + new_name + '\\n')\n",
    "        for line in data[1:]:\n",
    "            freqs = line.strip().split()[1:]\n",
    "            A_freqs.append(freqs[0])\n",
    "            C_freqs.append(freqs[1])\n",
    "            G_freqs.append(freqs[2])\n",
    "            T_freqs.append(freqs[3])\n",
    "        converted_file.write('A [' + '\\t'.join(A_freqs) + ' ]\\n')\n",
    "        converted_file.write('C [' + '\\t'.join(C_freqs) + ' ]\\n')\n",
    "        converted_file.write('G [' + '\\t'.join(G_freqs) + ' ]\\n')\n",
    "        converted_file.write('T [' + '\\t'.join(T_freqs) + ' ]\\n')\n",
    "        converted_file.close()\n"
   ]
  },
  {
   "cell_type": "markdown",
   "metadata": {},
   "source": [
    "## Merge Metadata"
   ]
  },
  {
   "cell_type": "code",
   "execution_count": 42,
   "metadata": {},
   "outputs": [],
   "source": []
  },
  {
   "cell_type": "markdown",
   "metadata": {
    "collapsed": true
   },
   "source": [
    "### Score Motifs"
   ]
  },
  {
   "cell_type": "code",
   "execution_count": 66,
   "metadata": {},
   "outputs": [
    {
     "name": "stdout",
     "output_type": "stream",
     "text": [
      "Process is terminated.\n"
     ]
    }
   ],
   "source": [
    "%%bash\n",
    "rm ./motif_similarity_scores/ -r\n",
    "/gpfs/data01/glasslab/home/jtao/code/tba/motif_tools/score_motifs.py ./motif_similarity_scores -num_procs 48 ./individual_motifs/*jaspar ./individual_cisbp_motifs/*jaspar"
   ]
  },
  {
   "cell_type": "markdown",
   "metadata": {},
   "source": [
    "### Cluster"
   ]
  },
  {
   "cell_type": "code",
   "execution_count": 67,
   "metadata": {},
   "outputs": [
    {
     "name": "stderr",
     "output_type": "stream",
     "text": [
      "Traceback (most recent call last):\n",
      "  File \"/gpfs/data01/glasslab/home/jtao/code/tba/motif_tools/threshold_cluster_motifs.py\", line 523, in <module>\n",
      "    score_frame = pd.read_csv(scorePath, sep='\\t',index_col=0)\n",
      "  File \"/gpfs/data01/glasslab/home/jtao/software/anaconda3/lib/python3.5/site-packages/pandas/io/parsers.py\", line 655, in parser_f\n",
      "    return _read(filepath_or_buffer, kwds)\n",
      "  File \"/gpfs/data01/glasslab/home/jtao/software/anaconda3/lib/python3.5/site-packages/pandas/io/parsers.py\", line 405, in _read\n",
      "    parser = TextFileReader(filepath_or_buffer, **kwds)\n",
      "  File \"/gpfs/data01/glasslab/home/jtao/software/anaconda3/lib/python3.5/site-packages/pandas/io/parsers.py\", line 764, in __init__\n",
      "    self._make_engine(self.engine)\n",
      "  File \"/gpfs/data01/glasslab/home/jtao/software/anaconda3/lib/python3.5/site-packages/pandas/io/parsers.py\", line 985, in _make_engine\n",
      "    self._engine = CParserWrapper(self.f, **self.options)\n",
      "  File \"/gpfs/data01/glasslab/home/jtao/software/anaconda3/lib/python3.5/site-packages/pandas/io/parsers.py\", line 1605, in __init__\n",
      "    self._reader = parsers.TextReader(src, **kwds)\n",
      "  File \"pandas/_libs/parsers.pyx\", line 394, in pandas._libs.parsers.TextReader.__cinit__ (pandas/_libs/parsers.c:4209)\n",
      "  File \"pandas/_libs/parsers.pyx\", line 710, in pandas._libs.parsers.TextReader._setup_parser_source (pandas/_libs/parsers.c:8873)\n",
      "FileNotFoundError: File b'./motif_similarity_scores/correlation.tsv' does not exist\n"
     ]
    }
   ],
   "source": [
    "%%bash\n",
    "rm ./clustered_motifs/ -r\n",
    "\n",
    "/gpfs/data01/glasslab/home/jtao/code/tba/motif_tools/threshold_cluster_motifs.py ./motif_similarity_scores/correlation.tsv ./clustered_motifs 0.9 ./individual_motifs/*jaspar ./individual_cisbp_motifs/*jaspar"
   ]
  },
  {
   "cell_type": "code",
   "execution_count": null,
   "metadata": {},
   "outputs": [],
   "source": []
  }
 ],
 "metadata": {
  "anaconda-cloud": {},
  "kernelspec": {
   "display_name": "Python 3",
   "language": "python",
   "name": "python3"
  },
  "language_info": {
   "codemirror_mode": {
    "name": "ipython",
    "version": 3
   },
   "file_extension": ".py",
   "mimetype": "text/x-python",
   "name": "python",
   "nbconvert_exporter": "python",
   "pygments_lexer": "ipython3",
   "version": "3.5.1"
  }
 },
 "nbformat": 4,
 "nbformat_minor": 1
}
