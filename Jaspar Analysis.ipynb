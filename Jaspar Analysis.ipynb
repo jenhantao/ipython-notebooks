{
 "cells": [
  {
   "cell_type": "markdown",
   "metadata": {},
   "source": [
    "# Jaspar Analysis"
   ]
  },
  {
   "cell_type": "code",
   "execution_count": 2,
   "metadata": {},
   "outputs": [],
   "source": [
    "### header ###\n",
    "__author__ = \"Jenhan Tao\"\n",
    "__license__ = \"BSD\"\n",
    "__email__ = \"jenhantao@gmail.com\"\n",
    "%load_ext autoreload\n",
    "%autoreload 2\n",
    "### imports ###\n",
    "import sys\n",
    "%matplotlib inline\n",
    "import os\n",
    "import pandas as pd\n",
    "import numpy as np\n",
    "import matplotlib\n",
    "import matplotlib.pyplot as plt \n",
    "import seaborn as sns\n",
    "sys.setrecursionlimit(3000)\n",
    "import pickle\n",
    "import time\n",
    "import scipy\n",
    "import Bio\n",
    "sns.set_context('notebook')"
   ]
  },
  {
   "cell_type": "code",
   "execution_count": 3,
   "metadata": {},
   "outputs": [],
   "source": [
    "workingDirectory = '/home/jtao/analysis/jaspar_analysis/'\n",
    "os.chdir(workingDirectory)"
   ]
  },
  {
   "cell_type": "markdown",
   "metadata": {},
   "source": [
    "## Separate JASPAR motifs into individual files"
   ]
  },
  {
   "cell_type": "code",
   "execution_count": 4,
   "metadata": {},
   "outputs": [],
   "source": [
    "with open('./pfm_vertebrates_jaspar_2016.txt') as f:\n",
    "    data = f.readlines()"
   ]
  },
  {
   "cell_type": "code",
   "execution_count": 5,
   "metadata": {},
   "outputs": [],
   "source": [
    "nonempty_lines = []\n",
    "for line in data:\n",
    "    if len(line) > 1:\n",
    "        nonempty_lines.append(line.strip())"
   ]
  },
  {
   "cell_type": "code",
   "execution_count": 6,
   "metadata": {},
   "outputs": [],
   "source": [
    "output_path = './individual_motifs/'\n",
    "if not os.path.isdir(output_path):\n",
    "    os.mkdir(output_path)\n",
    "else:\n",
    "    for f in os.listdir(output_path):\n",
    "        os.remove(output_path + '/' + f)\n",
    "all_motif_names = []\n",
    "for i in range(0, len(nonempty_lines), 5):\n",
    "    name_line = nonempty_lines[i + 0]\n",
    "    motif_name = name_line.split()[1]\n",
    "    all_motif_names.append(motif_name)\n",
    "    A_line = nonempty_lines[i + 1]\n",
    "    C_line = nonempty_lines[i + 2]\n",
    "    G_line = nonempty_lines[i + 3]\n",
    "    T_line = nonempty_lines[i + 4]\n",
    "  \n",
    "    out_file = open(output_path + '/' + motif_name + '.jaspar', 'w')\n",
    "    out_file.write(name_line + '\\n')\n",
    "    out_file.write(A_line + '\\n')\n",
    "    out_file.write(C_line + '\\n')\n",
    "    out_file.write(G_line + '\\n')\n",
    "    out_file.write(T_line + '\\n')\n",
    "\n",
    "    out_file.close()"
   ]
  },
  {
   "cell_type": "markdown",
   "metadata": {},
   "source": [
    "## Read Jaspar Metadata"
   ]
  },
  {
   "cell_type": "markdown",
   "metadata": {},
   "source": [
    "### Read in Motif ID and Index mapping"
   ]
  },
  {
   "cell_type": "code",
   "execution_count": 7,
   "metadata": {},
   "outputs": [],
   "source": [
    "with open('./MATRIX_2016.txt') as f:\n",
    "    data = f.readlines()\n",
    "\n",
    "motifID_index_dict = {}\n",
    "motifName_index_dict = {}\n",
    "for line in data:\n",
    "    tokens = line.strip().split()\n",
    "    index = tokens[0]\n",
    "    motif_id = tokens[2]\n",
    "    name = tokens[4]\n",
    "    \n",
    "    motifID_index_dict[motif_id] = index\n",
    "    motifName_index_dict[name] = index"
   ]
  },
  {
   "cell_type": "markdown",
   "metadata": {},
   "source": [
    "### Read in Protein ID"
   ]
  },
  {
   "cell_type": "code",
   "execution_count": 8,
   "metadata": {},
   "outputs": [],
   "source": [
    "with open('./MATRIX_PROTEIN_2016.txt') as f:\n",
    "    data = f.readlines()\n",
    "\n",
    "index_uniprot_dict = {}\n",
    "for line in data:\n",
    "    tokens = line.strip().split()\n",
    "    \n",
    "    index = tokens[0]\n",
    "    uniprot = tokens[1]\n",
    "    \n",
    "    index_uniprot_dict[index] = uniprot\n",
    "#     print(uniprot)"
   ]
  },
  {
   "cell_type": "markdown",
   "metadata": {},
   "source": [
    "### Read in Annotations (Family)"
   ]
  },
  {
   "cell_type": "code",
   "execution_count": 9,
   "metadata": {},
   "outputs": [],
   "source": [
    "with open('./MATRIX_ANNOTATION_2016.txt') as f:\n",
    "    data = f.readlines()\n",
    "\n",
    "index_family_dict = {}\n",
    "index_class_dict = {}\n",
    "for line in data:\n",
    "    tokens = line.strip().split()\n",
    "    index = tokens[0]\n",
    "    data_type = tokens[1]\n",
    "    data = '_'.join(tokens[2:])\n",
    "    if data_type == 'family':\n",
    "        family = data\n",
    "        index_family_dict[index] = family\n",
    "    if data_type == 'class':\n",
    "        motif_class = data\n",
    "        index_class_dict[index] = motif_class"
   ]
  },
  {
   "cell_type": "markdown",
   "metadata": {},
   "source": [
    "### Read Uniprot Gene Mapping"
   ]
  },
  {
   "cell_type": "code",
   "execution_count": 10,
   "metadata": {},
   "outputs": [],
   "source": [
    "uniprot_geneName_dict = {}\n",
    "with open('./uniprot_gene_mapping.txt') as f:\n",
    "    data = f.readlines()\n",
    "for line in data:\n",
    "    tokens = line.strip().split()\n",
    "    uniprot = tokens[0]\n",
    "    geneName = tokens[1]\n",
    "    uniprot_geneName_dict[uniprot] = geneName"
   ]
  },
  {
   "cell_type": "markdown",
   "metadata": {},
   "source": [
    "### Create DataFrame"
   ]
  },
  {
   "cell_type": "code",
   "execution_count": 11,
   "metadata": {},
   "outputs": [],
   "source": [
    "name_list = []\n",
    "gene_list = []\n",
    "class_list = []\n",
    "family_list = []\n",
    "\n",
    "for motifName in all_motif_names:\n",
    "    gene = 'unknown'\n",
    "    family = 'unknown'\n",
    "    motif_class = 'unknown'\n",
    "    \n",
    "    index = motifName_index_dict[motifName]\n",
    "    if index in index_uniprot_dict:\n",
    "        uniprot = index_uniprot_dict[index]\n",
    "        if uniprot in uniprot_geneName_dict:\n",
    "            gene = uniprot_geneName_dict[uniprot]\n",
    "    if index in index_family_dict:\n",
    "        family = index_family_dict[index]\n",
    "    if index in index_class_dict:\n",
    "        motif_class = index_class_dict[index]\n",
    "    \n",
    "    name_list.append(motifName)\n",
    "    gene_list.append(gene)\n",
    "    class_list.append(motif_class)\n",
    "    family_list.append(family)\n",
    "    \n",
    "jaspar_metadata_frame = pd.DataFrame({'Name':name_list,\n",
    "              'Family':family_list,\n",
    "              'Class':class_list,\n",
    "              'Gene':gene_list})\n",
    "jaspar_metadata_frame = jaspar_metadata_frame[['Name', 'Gene', 'Family', 'Class', ]]\n",
    "\n",
    "# edit rel data\n",
    "jaspar_metadata_frame.loc[jaspar_metadata_frame['Name'] == 'REL','Gene'] = 'REL'\n",
    "\n",
    "jaspar_metadata_frame.loc[jaspar_metadata_frame['Name'] == 'REL','Family'] = 'Rel'\n"
   ]
  },
  {
   "cell_type": "markdown",
   "metadata": {},
   "source": [
    "## Convert CISBP Motifs"
   ]
  },
  {
   "cell_type": "code",
   "execution_count": 12,
   "metadata": {},
   "outputs": [],
   "source": [
    "cisbp_metadata_frame = pd.read_csv('./cisbp/TF_Information.txt', sep='\\t')\n",
    "\n",
    "# cisbp_metadata_frame= cisbp_metadata_frame[cisbp_metadata_frame['TF_Status'].astype(str)=='D']\n",
    "\n",
    "cisbp_metadata_frame= cisbp_metadata_frame[cisbp_metadata_frame['TF_Status'].astype(str)!='N']\n",
    "\n",
    "cisbp_motif_genes = [x.lower() for x in cisbp_metadata_frame['TF_Name'].unique()]"
   ]
  },
  {
   "cell_type": "markdown",
   "metadata": {
    "collapsed": true
   },
   "source": [
    "## Check Human TFome"
   ]
  },
  {
   "cell_type": "code",
   "execution_count": 13,
   "metadata": {},
   "outputs": [],
   "source": [
    "with open ('./Human-TFome.txt') as f:\n",
    "    data = f.readlines()\n",
    "    \n",
    "human_tfs = [x.strip().lower() for x in data]"
   ]
  },
  {
   "cell_type": "code",
   "execution_count": 14,
   "metadata": {},
   "outputs": [],
   "source": [
    "jaspar_motif_genes = [x.lower() for x in  jaspar_metadata_frame['Gene'].values]"
   ]
  },
  {
   "cell_type": "markdown",
   "metadata": {},
   "source": [
    "### Identify Motifs to Grab from CISBP"
   ]
  },
  {
   "cell_type": "code",
   "execution_count": 15,
   "metadata": {},
   "outputs": [
    {
     "name": "stdout",
     "output_type": "stream",
     "text": [
      "num missing 1104\n",
      "rescued by cisbp 347\n",
      "zinc fingers 503\n"
     ]
    }
   ],
   "source": [
    "count = 0\n",
    "count2=0\n",
    "count3=0\n",
    "cisbp_rescued_genes = []\n",
    "for x in human_tfs:\n",
    "    if not x in jaspar_motif_genes:\n",
    "        count+=1\n",
    "        if x in cisbp_motif_genes:\n",
    "            cisbp_rescued_genes.append(x)\n",
    "            count2+=1\n",
    "        if 'znf' in x:\n",
    "            count3+=1\n",
    "print('num missing', count)\n",
    "print('rescued by cisbp', count2)\n",
    "print('zinc fingers', count3)"
   ]
  },
  {
   "cell_type": "code",
   "execution_count": 16,
   "metadata": {},
   "outputs": [],
   "source": [
    "rescued_indices = cisbp_metadata_frame[cisbp_metadata_frame['TF_Name'].str.lower().isin(cisbp_rescued_genes)].index.values"
   ]
  },
  {
   "cell_type": "code",
   "execution_count": 17,
   "metadata": {},
   "outputs": [],
   "source": [
    "output_path = './individual_cisbp_motifs/'\n",
    "if not os.path.isdir(output_path):\n",
    "    os.mkdir(output_path)\n",
    "else:\n",
    "    for f in os.listdir(output_path):\n",
    "        os.remove(output_path + '/'+f)\n",
    "names = cisbp_metadata_frame.loc[rescued_indices, 'TF_Name'].values\n",
    "motif_ids = cisbp_metadata_frame.loc[rescued_indices, 'Motif_ID'].values\n",
    "name_count_dict = {}\n",
    "cisbp_id_newName_dict = {}\n",
    "cisbp_id_seenName_dict = {}\n",
    "for motif_id, motif_name in zip(motif_ids, names):\n",
    "    with open('./cisbp/pwms_all_motifs/'+motif_id+'.txt') as f:\n",
    "        data = f.readlines()\n",
    "    if len(data) > 1:\n",
    "        if motif_id in cisbp_id_newName_dict:\n",
    "            motif_name = cisbp_id_seenName_dict[motif_id]\n",
    "            name_count_dict[seen_name] += 1\n",
    "            new_name = seen_name +'_var'+str(name_count_dict[seen_name])\n",
    "            print(motif_id, new_name)\n",
    "        else:\n",
    "            if motif_name in name_count_dict:\n",
    "                name_count_dict[motif_name] += 1\n",
    "                new_name = motif_name +'_var'+str(name_count_dict[motif_name])\n",
    "            else:\n",
    "                cisbp_id_seenName_dict[motif_id] = motif_name\n",
    "                name_count_dict[motif_name] = 1\n",
    "                new_name=motif_name\n",
    "        \n",
    "            \n",
    "        cisbp_id_newName_dict[motif_id + '|' + motif_name] = new_name    \n",
    "        \n",
    "        A_freqs = []\n",
    "        C_freqs = []\n",
    "        G_freqs = []\n",
    "        T_freqs = []    \n",
    "\n",
    "        converted_file = open(output_path + '/' + new_name + '.jaspar', 'w')\n",
    "        converted_file.write('>' + motif_id + '\\t' + new_name + '\\n')\n",
    "        for line in data[1:]:\n",
    "            freqs = line.strip().split()[1:]\n",
    "            A_freqs.append(freqs[0])\n",
    "            C_freqs.append(freqs[1])\n",
    "            G_freqs.append(freqs[2])\n",
    "            T_freqs.append(freqs[3])\n",
    "        converted_file.write('A [' + '\\t'.join(A_freqs) + ' ]\\n')\n",
    "        converted_file.write('C [' + '\\t'.join(C_freqs) + ' ]\\n')\n",
    "        converted_file.write('G [' + '\\t'.join(G_freqs) + ' ]\\n')\n",
    "        converted_file.write('T [' + '\\t'.join(T_freqs) + ' ]\\n')\n",
    "        converted_file.close()\n"
   ]
  },
  {
   "cell_type": "markdown",
   "metadata": {},
   "source": [
    "## Merge Metadata"
   ]
  },
  {
   "cell_type": "code",
   "execution_count": 18,
   "metadata": {},
   "outputs": [],
   "source": [
    "jaspar_merge_data = jaspar_metadata_frame[['Name', 'Gene', 'Family']]\n",
    "jaspar_merge_data['Source'] = 'JASPAR'\n",
    "rescued_ids = [x.split('|')[0] for x in cisbp_id_newName_dict.keys()]\n",
    "rescued_names = [x.split('|')[1] for x in cisbp_id_newName_dict.keys()]\n",
    "cisbp_merge_data = cisbp_metadata_frame[(cisbp_metadata_frame['Motif_ID'].isin(rescued_ids)) &\n",
    "                                        (cisbp_metadata_frame['TF_Name'].isin(rescued_names))][['Motif_ID', 'TF_Name', 'Family_Name']]\n",
    "\n",
    "\n",
    "   \n",
    "cisbp_merge_data['Motif_ID'] = [cisbp_id_newName_dict[x] for x in cisbp_merge_data['Motif_ID'] + '|' + cisbp_merge_data['TF_Name']]\n",
    "cisbp_merge_data.columns = ['Name', 'Gene', 'Family']\n",
    "cisbp_merge_data['Source'] = 'CISBP'\n",
    "merged_metadata_frame = pd.concat([jaspar_merge_data, cisbp_merge_data])\n",
    "\n",
    "merged_metadata_frame.to_csv('./metadata.tsv', sep='\\t', index=False)"
   ]
  },
  {
   "cell_type": "markdown",
   "metadata": {},
   "source": [
    "## Clean Up"
   ]
  },
  {
   "cell_type": "code",
   "execution_count": 19,
   "metadata": {},
   "outputs": [],
   "source": [
    "os.remove('./individual_motifs/Nobox.jaspar')"
   ]
  },
  {
   "cell_type": "code",
   "execution_count": 20,
   "metadata": {},
   "outputs": [
    {
     "data": {
      "text/plain": [
       "848"
      ]
     },
     "execution_count": 20,
     "metadata": {},
     "output_type": "execute_result"
    }
   ],
   "source": [
    "len(merged_metadata_frame['Name'])"
   ]
  },
  {
   "cell_type": "code",
   "execution_count": 21,
   "metadata": {},
   "outputs": [
    {
     "data": {
      "text/plain": [
       "848"
      ]
     },
     "execution_count": 21,
     "metadata": {},
     "output_type": "execute_result"
    }
   ],
   "source": [
    "len(merged_metadata_frame['Name'].unique())"
   ]
  },
  {
   "cell_type": "markdown",
   "metadata": {},
   "source": [
    "## Round 1"
   ]
  },
  {
   "cell_type": "markdown",
   "metadata": {
    "collapsed": true
   },
   "source": [
    "### Score Motifs"
   ]
  },
  {
   "cell_type": "code",
   "execution_count": 33,
   "metadata": {},
   "outputs": [
    {
     "name": "stdout",
     "output_type": "stream",
     "text": [
      "Reading motif files...\n",
      "Calculating alignments between motifs and scoring motifs\n",
      "Creating visualizations...\n"
     ]
    },
    {
     "name": "stderr",
     "output_type": "stream",
     "text": [
      "rm: cannot remove ‘./motif_similarity_scores/’: No such file or directory\n"
     ]
    }
   ],
   "source": [
    "%%bash\n",
    "rm ./motif_similarity_scores/ -r\n",
    "/gpfs/data01/glasslab/home/jtao/code/tba/motif_tools/score_motifs.py ./motif_similarity_scores -num_procs 48 ./individual_motifs/*jaspar ./individual_cisbp_motifs/*jaspar"
   ]
  },
  {
   "cell_type": "markdown",
   "metadata": {},
   "source": [
    "### Cluster"
   ]
  },
  {
   "cell_type": "code",
   "execution_count": 34,
   "metadata": {},
   "outputs": [],
   "source": [
    "%%bash\n",
    "rm ./clustered_motifs/ -r\n",
    "\n",
    "/gpfs/data01/glasslab/home/jtao/code/tba/motif_tools/threshold_cluster_motifs.py ./motif_similarity_scores/correlation.tsv ./clustered_motifs 0.8 ./individual_motifs/*jaspar ./individual_cisbp_motifs/*jaspar "
   ]
  },
  {
   "cell_type": "markdown",
   "metadata": {},
   "source": [
    "### Merge metadata"
   ]
  },
  {
   "cell_type": "code",
   "execution_count": 35,
   "metadata": {},
   "outputs": [],
   "source": [
    "%%bash\n",
    "cat metadata.tsv > metadata_round1.tsv\n",
    "tail -n +2 clustered_motifs/motif_metadata.tsv >> metadata_round1.tsv "
   ]
  },
  {
   "cell_type": "markdown",
   "metadata": {},
   "source": [
    "## Round 2"
   ]
  },
  {
   "cell_type": "markdown",
   "metadata": {
    "collapsed": true
   },
   "source": [
    "### Score Motifs"
   ]
  },
  {
   "cell_type": "code",
   "execution_count": null,
   "metadata": {
    "scrolled": true
   },
   "outputs": [],
   "source": [
    "%%bash\n",
    "rm ./motif_similarity_scores_round/ -r\n",
    "/gpfs/data01/glasslab/home/jtao/code/tba/motif_tools/score_motifs.py ./motif_similarity_scores_round2/ -num_procs 48 ./clustered_motifs/clustered_motifs/*motif"
   ]
  },
  {
   "cell_type": "markdown",
   "metadata": {},
   "source": [
    "### Cluster"
   ]
  },
  {
   "cell_type": "code",
   "execution_count": 37,
   "metadata": {},
   "outputs": [
    {
     "name": "stderr",
     "output_type": "stream",
     "text": [
      "/gpfs/data01/glasslab/home/jtao/software/anaconda3/lib/python3.5/site-packages/scipy/stats/stats.py:3021: RuntimeWarning: invalid value encountered in double_scalars\n",
      "  r = r_num / r_den\n"
     ]
    }
   ],
   "source": [
    "%%bash\n",
    "rm ./clustered_motifs_round2/ -r\n",
    "\n",
    "/gpfs/data01/glasslab/home/jtao/code/tba/motif_tools/threshold_cluster_motifs.py ./motif_similarity_scores_round2/correlation.tsv ./clustered_motifs_round2 0.8 ./clustered_motifs/clustered_motifs/*motif -metadata_path /home/jtao/analysis/jaspar_analysis/metadata_round1.tsv"
   ]
  },
  {
   "cell_type": "markdown",
   "metadata": {},
   "source": [
    "### Merge metadata"
   ]
  },
  {
   "cell_type": "code",
   "execution_count": 38,
   "metadata": {},
   "outputs": [],
   "source": [
    "%%bash\n",
    "cat metadata.tsv > final_metadata.tsv\n",
    "tail -n +2 clustered_motifs_round2/motif_metadata.tsv >> final_metadata.tsv "
   ]
  },
  {
   "cell_type": "markdown",
   "metadata": {},
   "source": [
    "## Create HTML"
   ]
  },
  {
   "cell_type": "code",
   "execution_count": null,
   "metadata": {},
   "outputs": [],
   "source": [
    "%%bash\n",
    "rm ./html_clustering/ -r\n",
    "\n",
    "/gpfs/data01/glasslab/home/jtao/code/tba/motif_tools/threshold_cluster_motifs.py ./motif_similarity_scores_round2/correlation.tsv ./html_clustering 0.8 ./clustered_motifs/clustered_motifs/*motif -metadata_path /home/jtao/analysis/jaspar_analysis/metadata_round1.tsv -createHTML"
   ]
  },
  {
   "cell_type": "code",
   "execution_count": null,
   "metadata": {},
   "outputs": [],
   "source": []
  }
 ],
 "metadata": {
  "anaconda-cloud": {},
  "kernelspec": {
   "display_name": "Python 3",
   "language": "python",
   "name": "python3"
  },
  "language_info": {
   "codemirror_mode": {
    "name": "ipython",
    "version": 3
   },
   "file_extension": ".py",
   "mimetype": "text/x-python",
   "name": "python",
   "nbconvert_exporter": "python",
   "pygments_lexer": "ipython3",
   "version": "3.5.1"
  }
 },
 "nbformat": 4,
 "nbformat_minor": 1
}
