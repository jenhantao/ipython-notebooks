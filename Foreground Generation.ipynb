{
 "cells": [
  {
   "cell_type": "markdown",
   "metadata": {},
   "source": [
    "# Foreground Generation"
   ]
  },
  {
   "cell_type": "code",
   "execution_count": 2,
   "metadata": {
    "collapsed": false
   },
   "outputs": [
    {
     "name": "stdout",
     "output_type": "stream",
     "text": [
      "env: PATH=/gpfs/data01/glasslab/home/jtao/perl5/bin:/gpfs/data01/glasslab/home/jtao/software/anaconda3/bin:/home/jtao/software/bin:/usr/local/sbin:/usr/sbin:/usr/bin:/usr/local/bin:/usr/bin:/gpfs/data01/glasslab/home/jtao/software/homer/bin:/gpfs/data01/glasslab/home/jtao/software/weblogo:/home/jtao/code/seq_merge_pipe:/home/vlink/mouse_strains/marge/shifting:/bioinformatics/glassutils/scripts:/bioinformatics/software/meme/bin:/home/jtao/software/lsgkm/bin\n"
     ]
    }
   ],
   "source": [
    "### header ###\n",
    "__author__ = \"Jenhan Tao\"\n",
    "__license__ = \"BSD\"\n",
    "__email__ = \"jenhantao@gmail.com\"\n",
    "\n",
    "### imports ###\n",
    "import sys\n",
    "import os\n",
    "import pandas as pd\n",
    "import numpy as np\n",
    "import matplotlib\n",
    "import itertools\n",
    "import scipy\n",
    "import matplotlib.pyplot as plt \n",
    "import seaborn as sns\n",
    "import pickle\n",
    "from sklearn import preprocessing\n",
    "import sklearn\n",
    "from sklearn import svm, datasets\n",
    "from sklearn.utils import shuffle\n",
    "from sklearn.metrics import roc_curve, auc\n",
    "import matplotlib_venn\n",
    "from sklearn.cross_validation import train_test_split\n",
    "from random import shuffle\n",
    "import threading\n",
    "import time\n",
    "from collections import Counter\n",
    "### notebook specific configuration ###\n",
    "%matplotlib inline\n",
    "matplotlib.pylab.rcParams['savefig.dpi'] = 200\n",
    "sys.setrecursionlimit(5000)\n",
    "os.chdir('/gpfs/data01/glasslab/home/jtao/analysis/cobinding_motif_analysis/')\n",
    "sns.set_context('notebook')\n",
    "%load_ext autoreload\n",
    "%autoreload 2\n",
    "%env PATH=/gpfs/data01/glasslab/home/jtao/perl5/bin:/gpfs/data01/glasslab/home/jtao/software/anaconda3/bin:/home/jtao/software/bin:/usr/local/sbin:/usr/sbin:/usr/bin:/usr/local/bin:/usr/bin:/gpfs/data01/glasslab/home/jtao/software/homer/bin:/gpfs/data01/glasslab/home/jtao/software/weblogo:/home/jtao/code/seq_merge_pipe:/home/vlink/mouse_strains/marge/shifting:/bioinformatics/glassutils/scripts:/bioinformatics/software/meme/bin:/home/jtao/software/lsgkm/bin"
   ]
  },
  {
   "cell_type": "markdown",
   "metadata": {},
   "source": [
    "## Copy Data Files"
   ]
  },
  {
   "cell_type": "code",
   "execution_count": null,
   "metadata": {
    "collapsed": true
   },
   "outputs": [],
   "source": [
    "\n",
    "for ft in [\n",
    " 'atf3_kla',\n",
    " 'atf3_veh',\n",
    " 'cebpa_kla',\n",
    " 'cebpa_veh',\n",
    " 'cjun_kla',\n",
    " 'cjun_veh',\n",
    " 'fos_kla',\n",
    " 'fos_veh',\n",
    " 'fra2_veh',\n",
    " 'fra2_kla',\n",
    " 'junb_kla',\n",
    " 'junb_veh',\n",
    " 'jund_kla',\n",
    " 'jund_veh',\n",
    " 'p65_kla',\n",
    " 'p65_veh',\n",
    " 'pu1_kla',\n",
    " 'pu1_veh']:\n",
    "    c57bl6_path = '/home/jtao/analysis/ap1_analysis/idrPeaks/c57bl6_' + ft + '_peaks.tsv'\n",
    "    balbc_path = '/home/jtao/analysis/ap1_analysis/idrPeaks_strains/balbc_' + ft + '_peaks.tsv'\n",
    "    ! cp $c57bl6_path ./peak_files/\n",
    "    ! cp $balbc_path ./peak_files\n",
    "    "
   ]
  },
  {
   "cell_type": "markdown",
   "metadata": {},
   "source": [
    "### Resize Peak Files"
   ]
  },
  {
   "cell_type": "code",
   "execution_count": null,
   "metadata": {
    "collapsed": true
   },
   "outputs": [],
   "source": [
    "target_peak_size = 100\n",
    "\n",
    "if not os.path.isdir('./resized_peak_files'):\n",
    "    os.mkdir('./resized_peak_files')\n",
    "else:\n",
    "    for rpf in os.listdir('./resized_peak_files'):\n",
    "        os.remove('./resized_peak_files/' + rpf)\n",
    "\n",
    "for pf in os.listdir('./peak_files/'):\n",
    "    current_peak_frame = pd.read_csv('./peak_files/' + pf, sep='\\t' )\n",
    "    peakCenters = (current_peak_frame['start'] + current_peak_frame['end']) /2\n",
    "    int_peakCenters = np.ceil(peakCenters).astype(int)\n",
    "    new_starts = int_peakCenters - int(target_peak_size/2)\n",
    "    new_ends = int_peakCenters + int(target_peak_size/2)\n",
    "    current_peak_frame['start'] = new_starts\n",
    "    current_peak_frame['end'] = new_ends\n",
    "    current_peak_frame.to_csv('./resized_peak_files/' + pf, sep='\\t', index=False)"
   ]
  },
  {
   "cell_type": "markdown",
   "metadata": {},
   "source": [
    "### Create Group Summary Files"
   ]
  },
  {
   "cell_type": "code",
   "execution_count": null,
   "metadata": {
    "collapsed": true
   },
   "outputs": [],
   "source": [
    "%%capture\n",
    "! mergePeaks -d given -venn venn.txt ./resized_peak_files/* > ./merged_peaks.tsv"
   ]
  },
  {
   "cell_type": "code",
   "execution_count": null,
   "metadata": {
    "collapsed": true
   },
   "outputs": [],
   "source": [
    "merged_frame = pd.read_csv('./merged_peaks.tsv', sep='\\t')\n",
    "\n",
    "# filter away peaks in unused chromsomes\n",
    "filtered_frame = merged_frame[\n",
    "             ~(merged_frame['chr'].str.contains('chrY')) & \n",
    "             ~(merged_frame['chr'].str.contains('chrM')) &\n",
    "             ~(merged_frame['chr'].str.contains('random')) &\n",
    "             ~(merged_frame['chr'].str.contains('Un'))]\n",
    "\n",
    "# resize peaks\n",
    "target_peak_size = 200\n",
    "peakCenters = (filtered_frame['start'] + filtered_frame['end']) /2\n",
    "int_peakCenters = np.ceil(peakCenters).astype(int)\n",
    "new_starts = int_peakCenters - int(target_peak_size/2)\n",
    "new_ends = int_peakCenters + int(target_peak_size/2)\n",
    "filtered_frame['start'] = new_starts\n",
    "filtered_frame['end'] = new_ends\n",
    "filtered_frame.to_csv('./merged_peaks_filtered_resized.tsv', sep='\\t', index=False)"
   ]
  },
  {
   "cell_type": "code",
   "execution_count": null,
   "metadata": {
    "collapsed": true
   },
   "outputs": [],
   "source": [
    "! makeSummaryFile.py ./merged_peaks_filtered_resized.tsv ./group_summary.tsv ./resized_peak_files/*"
   ]
  },
  {
   "cell_type": "markdown",
   "metadata": {},
   "source": [
    "### Retrieve Sequences Under Peaks"
   ]
  },
  {
   "cell_type": "code",
   "execution_count": null,
   "metadata": {
    "collapsed": true
   },
   "outputs": [],
   "source": [
    "%%bash\n",
    "if [ ! -d ./peak_sequences ] ;\n",
    "    then mkdir ./peak_sequences\n",
    "else\n",
    "    rm ./peak_sequences/*\n",
    "fi"
   ]
  },
  {
   "cell_type": "code",
   "execution_count": null,
   "metadata": {
    "collapsed": true
   },
   "outputs": [],
   "source": [
    "%%bash\n",
    "perl /home/vlink/mouse_strains/marge/analysis/extract_seq_from_peakfiles.pl -strains C57BL6J -file ./merged_peaks_filtered_resized.tsv -output ./peak_sequences/C57BL6J_marge.fa\n",
    "perl /home/vlink/mouse_strains/marge/analysis/extract_seq_from_peakfiles.pl -strains BALBCJ -file ./merged_peaks_filtered_resized.tsv -output ./peak_sequences/BALBCJ_marge.fa\n",
    "# perl /home/vlink/mouse_strains/marge/analysis/extract_seq_from_peakfiles.pl -strains NODSHILTJ -file ./merged_peaks_filtered_resized -output ./peak_sequences/NODSHILTJ_marge.fa\n"
   ]
  },
  {
   "cell_type": "code",
   "execution_count": null,
   "metadata": {
    "collapsed": true
   },
   "outputs": [],
   "source": [
    "# reformat fastq files to use homer peak IDs\n",
    "\n",
    "coordinate_peakID_dict = {} # {chr_start_end:homerID}\n",
    "with open ('./merged_peaks_filtered_resized.tsv') as f:\n",
    "    data = f.readlines()\n",
    "for line in data[1:]:\n",
    "    tokens = line.split('\\t')\n",
    "    coordinate = '_'.join(tokens[1:4])\n",
    "    peakID = tokens[0].strip()\n",
    "    coordinate_peakID_dict[coordinate] = tokens[0]"
   ]
  },
  {
   "cell_type": "code",
   "execution_count": null,
   "metadata": {
    "collapsed": true
   },
   "outputs": [],
   "source": [
    "for fastaFile in os.listdir('./peak_sequences/'):\n",
    "    if 'marge' in fastaFile:\n",
    "        strain = fastaFile.split('_')[0]\n",
    "        outFile = open('./peak_sequences/' + fastaFile.replace('_marge',''), 'w')\n",
    "        print(fastaFile)\n",
    "        with open('./peak_sequences/' + fastaFile) as f:\n",
    "            data = f.readlines()\n",
    "        for line in data:\n",
    "            if '>' in line:\n",
    "                coordinate = line[1:].replace('_'+strain,'').strip()\n",
    "                \n",
    "                peakID = coordinate_peakID_dict[coordinate]\n",
    "                outFile.write('>' + peakID + '\\n')\n",
    "               \n",
    "            else:\n",
    "                outFile.write(line)\n",
    "        outFile.close()"
   ]
  },
  {
   "cell_type": "markdown",
   "metadata": {},
   "source": [
    "### create a script to scan for motifs using FIMO\n",
    "\n"
   ]
  },
  {
   "cell_type": "code",
   "execution_count": 28,
   "metadata": {
    "collapsed": false
   },
   "outputs": [
    {
     "name": "stdout",
     "output_type": "stream",
     "text": [
      "C57BL6J.fa\n"
     ]
    }
   ],
   "source": [
    "# create a script to scan for motifs using FIMO\n",
    "! if [ ! -d /home/jtao/analysis/cobinding_motif_analysis/fimo_out/ ]; then mkdir /home/jtao/analysis/cobinding_motif_analysis/fimo_out/; fi\n",
    "! rm -rf fimo_out/*\n",
    "! rm -rf fimo_result/*\n",
    "\n",
    "\n",
    "pthresh = 0.01\n",
    "motif_dir = '/home/jtao/analysis/cobinding_motif_analysis/fimo_motifs/'\n",
    "\n",
    "fimo_results_dir = './fimo_results'\n",
    "\n",
    "for fastaFile in os.listdir('./peak_sequences/'):\n",
    "    if not 'marge' in fastaFile:\n",
    "        print(fastaFile)\n",
    "        strain = fastaFile.split('.')[0]\n",
    "        count = 0\n",
    "        scriptFile = open('scanMotifs_'+ strain +'.sh','w')\n",
    "        for m in sorted(os.listdir(motif_dir)):\n",
    "            if 'fimo' in m:\n",
    "                fimo_out_dir = './fimo_out/' + strain + '_' +m.replace('.fimo','')\n",
    "                outPath = fimo_results_dir + '/' +strain + '_' + m.replace('.fimo','') +'.txt'\n",
    "                scriptFile.write(\n",
    "        #             '(sleep ' + str(15 * count) + \n",
    "                    '(sleep ' + str(0 * count) + \n",
    "                    's; fimo --text --max-stored-scores 2000000 --output-pthresh ' + \n",
    "                    str(pthresh) +' --oc ' + fimo_out_dir + ' ' +\n",
    "                    motif_dir + '/' + m + ' ./peak_sequences/' + fastaFile +\n",
    "                    '> ' + outPath + ' ) & \\n')\n",
    "                count+=1\n",
    "        scriptFile.close()"
   ]
  },
  {
   "cell_type": "code",
   "execution_count": null,
   "metadata": {
    "collapsed": false
   },
   "outputs": [],
   "source": [
    "%%bash\n",
    "chmod a+x ./scanMotifs*\n",
    "./scanMotifs_C57BL6J.sh\n",
    "./scanMotifs_BALBCJ.sh\n",
    "# ./scanMotifs_NODSHILTJ.sh"
   ]
  },
  {
   "cell_type": "markdown",
   "metadata": {},
   "source": [
    "## Read in Scores"
   ]
  },
  {
   "cell_type": "code",
   "execution_count": 3,
   "metadata": {
    "collapsed": false
   },
   "outputs": [
    {
     "name": "stderr",
     "output_type": "stream",
     "text": [
      "/gpfs/data01/glasslab/home/jtao/software/anaconda3/lib/python3.5/site-packages/IPython/core/interactiveshell.py:2723: DtypeWarning: Columns (5,6,8,9,11,13,14,15,19,23,24,25,26,29,31,34,35) have mixed types. Specify dtype option on import or set low_memory=False.\n",
      "  interactivity=interactivity, compiler=compiler, result=result)\n"
     ]
    }
   ],
   "source": [
    "# read in peak data data\n",
    "summary_frame = pd.read_csv('./group_summary.tsv' , sep='\\t')\n",
    "summary_frame = summary_frame.fillna('0')\n",
    "for col in summary_frame.columns[5:]:\n",
    "    floatValues = []\n",
    "    for val in summary_frame[col].values.astype(str):\n",
    "        if ',' in val:\n",
    "            maxVal = np.mean([float(x) for x in val.split(',')])\n",
    "            floatValues.append(maxVal)\n",
    "        else:\n",
    "            floatValues.append(float(val))\n",
    "    summary_frame[col] = floatValues\n",
    "summary_frame.index = summary_frame['ID'].values\n",
    "\n",
    "# remove peaks in unknown/random chromosomes\n",
    "summary_frame = summary_frame[~summary_frame['chr'].str.contains('random')]\n",
    "summary_frame = summary_frame[~summary_frame['chr'].str.contains('Un')]\n",
    "\n",
    "\n",
    "_factors = sorted(list(set([x.split('_')[1] for x in summary_frame.columns if '_' in x])))\n",
    "summary_frame.to_pickle('summary_frame.pickle')"
   ]
  },
  {
   "cell_type": "code",
   "execution_count": 4,
   "metadata": {
    "collapsed": false
   },
   "outputs": [
    {
     "data": {
      "text/plain": [
       "<matplotlib.text.Text at 0x7fa42721edd8>"
      ]
     },
     "execution_count": 4,
     "metadata": {},
     "output_type": "execute_result"
    },
    {
     "data": {
      "image/png": "[encoded data removed]",
      "text/plain": [
       "<matplotlib.figure.Figure at 0x7fa46426deb8>"
      ]
     },
     "metadata": {},
     "output_type": "display_data"
    }
   ],
   "source": [
    "# plot motif positions to make sure that nothing went wrong with the merging\n",
    "sizes = summary_frame['end'] - summary_frame['start']\n",
    "plt.hist(sizes, bins = 20);\n",
    "plt.xlabel('Merged Region Size')\n",
    "plt.ylabel('Frequency')\n",
    "plt.title('Distribution of Peak Sizes')"
   ]
  },
  {
   "cell_type": "markdown",
   "metadata": {},
   "source": [
    "### Read in Motif Scores"
   ]
  },
  {
   "cell_type": "code",
   "execution_count": null,
   "metadata": {
    "collapsed": true
   },
   "outputs": [],
   "source": [
    "def read_fimo_file(thread_lock, motif_results_path, \n",
    "                   all_peak_ids,\n",
    "                   motif_score_dict,\n",
    "                   motif_sequence_dict,\n",
    "                   motif_strand_dict,\n",
    "                   motif_start_dict,\n",
    "                   motif_end_dict,\n",
    "                   motif_count_dict,\n",
    "                  ):\n",
    "    \n",
    "    # read in fimo result as data frame\n",
    "    fimo_result_dict=pd.read_csv(motif_results_path, \n",
    "                                  skiprows=1,\n",
    "                                  names=['motif_name', \n",
    "                                         'peak_id', \n",
    "                                         'start', \n",
    "                                         'stop', \n",
    "                                         'strand', \n",
    "                                         'score', \n",
    "                                         'pvalue', \n",
    "                                         'sequence'],\n",
    "                                  sep='\\t')\n",
    "    motif_name = fimo_result_dict['motif_name'].values[0]\n",
    "    print('reading', motif_name)\n",
    "    \n",
    "    id_values_dict = {} # {PeakID:(motifScore, motifSequence, motifStrand, motifStart, motifEnd)}\n",
    "    # drop all motif instances that has less than the maximum score\n",
    "    sorted_fimo_result_dict = fimo_result_dict.sort_values(by='score', ascending=False)\n",
    "    top_fimo_result_dict = sorted_fimo_result_dict.drop_duplicates(subset='peak_id')\n",
    "    \n",
    "    # convert data frame to a dictionary \n",
    "    unique_peak_ids = top_fimo_result_dict['peak_id'].values\n",
    "    scores = top_fimo_result_dict['score'].values\n",
    "    strands = top_fimo_result_dict['strand'].values\n",
    "    sequences = top_fimo_result_dict['sequence'].values\n",
    "    starts = top_fimo_result_dict['start'].values\n",
    "    ends = top_fimo_result_dict['stop'].values\n",
    "    \n",
    "    for i in range(len(unique_peak_ids)):\n",
    "        currentPeakID = unique_peak_ids[i]\n",
    "        currentScore = float(scores[i])\n",
    "        currentSequence = sequences[i]\n",
    "        currentStrand = strands[i]\n",
    "        currentStart = int(starts[i])\n",
    "        currentEnd = int(ends[i])\n",
    "        # bundle values\n",
    "        \n",
    "        if currentScore < 0.0:\n",
    "            currentScore = 0.0\n",
    "        \n",
    "        newValues = (currentScore, \n",
    "                     currentSequence, \n",
    "                     currentStrand, \n",
    "                     currentStart, \n",
    "                     currentEnd, \n",
    "                     )\n",
    "        id_values_dict[currentPeakID] = newValues\n",
    "    \n",
    "    # sort values according to all peak IDs\n",
    "    sorted_values = [id_values_dict[x] if x in id_values_dict else (0,'','?',-1,-1) for x in  all_peak_ids]\n",
    "    sorted_scores = [x[0] for x in sorted_values]\n",
    "    sorted_sequences = [x[1] for x in sorted_values]\n",
    "    sorted_strands = [x[2] for x in sorted_values]\n",
    "    sorted_starts = [x[3] for x in sorted_values]\n",
    "    sorted_ends = [x[4] for x in sorted_values]\n",
    "    \n",
    "    # count the number of motif instances\n",
    "    peak_ids = fimo_result_dict['peak_id'].values\n",
    "    id_count_dict = Counter(peak_ids)\n",
    "    \n",
    "    sorted_counts = [id_count_dict[x] if x in id_count_dict else 0 for x in all_peak_ids]\n",
    "    \n",
    "    while thread_lock.locked_lock():\n",
    "        time.sleep(1)\n",
    "    thread_lock.acquire()\n",
    "        \n",
    "    motif_score_dict[motif_name] = sorted_scores\n",
    "    motif_sequence_dict[motif_name] = sorted_sequences\n",
    "    motif_strand_dict[motif_name] = sorted_strands\n",
    "    motif_start_dict[motif_name] = sorted_starts\n",
    "    motif_end_dict[motif_name] = sorted_ends\n",
    "    motif_count_dict[motif_name] = sorted_counts\n",
    "    # release lock\n",
    "    print('finished reading', motif_name )\n",
    "    if thread_lock.locked_lock():\n",
    "        thread_lock.release()\n",
    "    \n",
    "    return None"
   ]
  },
  {
   "cell_type": "code",
   "execution_count": null,
   "metadata": {
    "collapsed": false
   },
   "outputs": [
    {
     "name": "stdout",
     "output_type": "stream",
     "text": [
      "C57BL6J.fa\n",
      "reading dmrt3\n",
      "reading cux\n",
      "reading e2f2\n",
      "reading arid3a\n",
      "reading gmeb2\n",
      "reading dmbx1\n",
      "reading alx1_alx4_arx\n",
      "reading crem\n",
      "reading arid5a\n",
      "readingreading gsc\n",
      " hnf1\n",
      "reading atf7_batf3_creb5\n",
      "reading ebox\n",
      "reading e2f1\n",
      "reading dux\n",
      "reading ap-1\n",
      "reading creb3-l1\n",
      "reading bhlhe23\n",
      "reading cenpb\n"
     ]
    }
   ],
   "source": [
    "start = time.time()\n",
    "fimo_result_path = './fimo_results/'\n",
    "for fastaFile in os.listdir('./peak_sequences/'):\n",
    "    if not 'marge' in fastaFile:\n",
    "        print(fastaFile)\n",
    "        strain = fastaFile.split('.')[0]\n",
    "\n",
    "        motif_score_dict = {}\n",
    "        motif_sequence_dict ={}\n",
    "        motif_strand_dict = {}\n",
    "        motif_start_dict = {}\n",
    "        motif_end_dict = {}\n",
    "        motif_count_dict = {}\n",
    "        thread_list = []\n",
    "        all_peak_ids = summary_frame.index.values\n",
    "        lock = threading.Lock()\n",
    "        for m in sorted(os.listdir('./fimo_results')):\n",
    "            try:\n",
    "                current_thread = threading.Thread(target = read_fimo_file,\n",
    "                                 args =(lock,\n",
    "                                        fimo_result_path + '/' + m, \n",
    "                                        all_peak_ids,\n",
    "                                        motif_score_dict,\n",
    "                                        motif_sequence_dict,\n",
    "                                        motif_strand_dict,\n",
    "                                        motif_start_dict,\n",
    "                                        motif_end_dict,\n",
    "                                        motif_count_dict,\n",
    "                                        ))\n",
    "                thread_list.append(current_thread)\n",
    "                current_thread.start()\n",
    "            finally:\n",
    "                if lock.locked_lock():\n",
    "                    lock.release()\n",
    "        for current_thread in thread_list:\n",
    "            current_thread.join()\n",
    "        \n",
    "        # convert dictionaries to data frames\n",
    "        motif_score_frame = pd.DataFrame(motif_score_dict , index = summary_frame['ID'].values)\n",
    "        motif_sequence_frame = pd.DataFrame(motif_sequence_dict , index = summary_frame['ID'].values)\n",
    "        motif_strand_frame = pd.DataFrame(motif_strand_dict , index = summary_frame['ID'].values)\n",
    "        motif_start_frame = pd.DataFrame(motif_start_dict , index = summary_frame['ID'].values)\n",
    "        motif_end_frame = pd.DataFrame(motif_end_dict , index = summary_frame['ID'].values)\n",
    "        motif_count_frame = pd.DataFrame(motif_count_dict , index = summary_frame['ID'].values)\n",
    "\n",
    "        for frame in [motif_score_frame, \n",
    "                      motif_sequence_frame, \n",
    "                      motif_strand_frame, \n",
    "                      motif_start_frame, \n",
    "                      motif_end_frame, \n",
    "                      motif_count_frame]:\n",
    "            motif_cols = frame.columns.values\n",
    "            frame['ID'] = summary_frame['ID'].values\n",
    "            frame['Factors'] = summary_frame['Factors'].values\n",
    "            frame['chr'] = summary_frame['chr'].values\n",
    "\n",
    "        motif_score_frame.to_pickle('motif_score_frame_'+  strain + '.pickle2')\n",
    "\n",
    "        motif_sequence_frame.to_pickle('motif_sequence_frame_'+  strain + '.pickle2')\n",
    "\n",
    "        motif_strand_frame.to_pickle('motif_strand_frame_'+  strain + '.pickle2')\n",
    "\n",
    "        motif_start_frame.to_pickle('motif_start_frame_'+  strain + '.pickle2')\n",
    "\n",
    "        motif_end_frame.to_pickle('motif_end_frame_'+  strain + '.pickle2')\n",
    "\n",
    "        motif_count_frame.to_pickle('motif_count_frame_'+  strain + '.pickle2')\n",
    "        \n",
    "end = time.time()\n",
    "print('total time', end - start)\n",
    "\n",
    "\n",
    "\n",
    "\n"
   ]
  },
  {
   "cell_type": "code",
   "execution_count": null,
   "metadata": {
    "collapsed": true
   },
   "outputs": [],
   "source": [
    "motif_count_frame"
   ]
  },
  {
   "cell_type": "code",
   "execution_count": null,
   "metadata": {
    "collapsed": true
   },
   "outputs": [],
   "source": []
  }
 ],
 "metadata": {
  "anaconda-cloud": {},
  "kernelspec": {
   "display_name": "Python [Root]",
   "language": "python",
   "name": "Python [Root]"
  },
  "language_info": {
   "codemirror_mode": {
    "name": "ipython",
    "version": 3
   },
   "file_extension": ".py",
   "mimetype": "text/x-python",
   "name": "python",
   "nbconvert_exporter": "python",
   "pygments_lexer": "ipython3",
   "version": "3.5.1"
  }
 },
 "nbformat": 4,
 "nbformat_minor": 0
}
