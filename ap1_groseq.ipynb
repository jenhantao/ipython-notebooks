{
 "metadata": {
  "name": "",
  "signature": "sha256:57997bf39b3b4510d48ea03db95122b70de08a146cb1882f22feb6a3e1cab892"
 },
 "nbformat": 3,
 "nbformat_minor": 0,
 "worksheets": [
  {
   "cells": [
    {
     "cell_type": "heading",
     "level": 1,
     "metadata": {},
     "source": [
      "AP-1 Gro-Seq Analysis"
     ]
    },
    {
     "cell_type": "markdown",
     "metadata": {},
     "source": [
      "An iPython analysis for assessing if AP-1 family members demonstrate any pattern in their relationship to Gro-Seq signal as given by tag density plots. Tag density is assessed on the forward and reverse strands as well as before and after KLA treatment."
     ]
    },
    {
     "cell_type": "heading",
     "level": 6,
     "metadata": {},
     "source": [
      "Manually Extracted Features"
     ]
    },
    {
     "cell_type": "code",
     "collapsed": false,
     "input": [
      "### imports and configuration ###\n",
      "\n",
      "%matplotlib inline\n",
      "\n",
      "from matplotlib import pyplot as plt\n",
      "import pandas as pd\n",
      "import scipy.spatial.distance\n",
      "import scipy.cluster.hierarchy"
     ],
     "language": "python",
     "metadata": {},
     "outputs": [],
     "prompt_number": 42
    },
    {
     "cell_type": "code",
     "collapsed": false,
     "input": [
      "# initialize eye-balled vectors as pandas data frame\n",
      "# initialize vehicle frame\n",
      "vehFrame = pd.DataFrame(columns=[\"factor\", \"onRev\", \"multipleOnRev\", \"onFwd\", \"multipleOnFwd\"])\n",
      "vehFrame.loc[0] = [\"cebpa-veh\",1,1,0,0]\n",
      "vehFrame.loc[1] = [\"cjun-veh\",1,1,1,0]\n",
      "vehFrame.loc[2] = [\"fos-veh\",1,0,1,0]\n",
      "vehFrame.loc[3] = [\"fra1-veh\",1,0,1,0]\n",
      "vehFrame.loc[4] = [\"fra2-veh\",1,0,1,0]\n",
      "vehFrame.loc[5] = [\"jdp2-veh\",1,0,1,0]\n",
      "vehFrame.loc[6] = [\"junb-veh\",1,0,1,1]\n",
      "vehFrame.loc[7] = [\"jund-veh\",1,1,1,0]\n",
      "vehFrame.loc[8] = [\"ncor-veh\",1,0,1,0]\n",
      "vehFrame.loc[9] = [\"p65-veh\",1,0,1,0]\n",
      "vehFrame.loc[10] = [\"pu1-veh\",1,1,1,1]\n",
      "\n",
      "# initialize kla frame\n",
      "klaFrame = pd.DataFrame(columns=[\"factor\", \"onRev\", \"multipleOnRev\", \"onFwd\", \"multipleOnFwd\"])\n",
      "klaFrame.loc[0] = [\"cebpa-kla\",1,1,0,0]\n",
      "klaFrame.loc[1] = [\"cjun-kla\",1,1,1,0]\n",
      "klaFrame.loc[2] = [\"fos-kla\",1,1,0,0]\n",
      "klaFrame.loc[3] = [\"fra1-kla\",1,0,1,0]\n",
      "klaFrame.loc[4] = [\"fra2-kla\",1,1,1,0]\n",
      "klaFrame.loc[5] = [\"jdp2-kla\",1,1,1,0]\n",
      "klaFrame.loc[6] = [\"junb-kla\",1,1,0,0]\n",
      "klaFrame.loc[7] = [\"jund-kla\",1,1,1,0]\n",
      "klaFrame.loc[8] = [\"ncor-kla\",1,0,1,0]\n",
      "klaFrame.loc[9] = [\"p65-kla\",1,1,0,0]\n",
      "klaFrame.loc[10] = [\"pu1-kla\",1,1,1,1]\n"
     ],
     "language": "python",
     "metadata": {},
     "outputs": [],
     "prompt_number": 162
    },
    {
     "cell_type": "code",
     "collapsed": false,
     "input": [
      "vehFrame"
     ],
     "language": "python",
     "metadata": {},
     "outputs": [
      {
       "html": [
        "<div style=\"max-height:1000px;max-width:1500px;overflow:auto;\">\n",
        "<table border=\"1\" class=\"dataframe\">\n",
        "  <thead>\n",
        "    <tr style=\"text-align: right;\">\n",
        "      <th></th>\n",
        "      <th>factor</th>\n",
        "      <th>onRev</th>\n",
        "      <th>multipleOnRev</th>\n",
        "      <th>onFwd</th>\n",
        "      <th>multipleOnFwd</th>\n",
        "    </tr>\n",
        "  </thead>\n",
        "  <tbody>\n",
        "    <tr>\n",
        "      <th>0 </th>\n",
        "      <td> cebpa-veh</td>\n",
        "      <td> 1</td>\n",
        "      <td> 1</td>\n",
        "      <td> 0</td>\n",
        "      <td> 0</td>\n",
        "    </tr>\n",
        "    <tr>\n",
        "      <th>1 </th>\n",
        "      <td>  cjun-veh</td>\n",
        "      <td> 1</td>\n",
        "      <td> 1</td>\n",
        "      <td> 1</td>\n",
        "      <td> 0</td>\n",
        "    </tr>\n",
        "    <tr>\n",
        "      <th>2 </th>\n",
        "      <td>   fos-veh</td>\n",
        "      <td> 1</td>\n",
        "      <td> 0</td>\n",
        "      <td> 1</td>\n",
        "      <td> 0</td>\n",
        "    </tr>\n",
        "    <tr>\n",
        "      <th>3 </th>\n",
        "      <td>  fra1-veh</td>\n",
        "      <td> 1</td>\n",
        "      <td> 0</td>\n",
        "      <td> 1</td>\n",
        "      <td> 0</td>\n",
        "    </tr>\n",
        "    <tr>\n",
        "      <th>4 </th>\n",
        "      <td>  fra2-veh</td>\n",
        "      <td> 1</td>\n",
        "      <td> 0</td>\n",
        "      <td> 1</td>\n",
        "      <td> 0</td>\n",
        "    </tr>\n",
        "    <tr>\n",
        "      <th>5 </th>\n",
        "      <td>  jdp2-veh</td>\n",
        "      <td> 1</td>\n",
        "      <td> 0</td>\n",
        "      <td> 1</td>\n",
        "      <td> 0</td>\n",
        "    </tr>\n",
        "    <tr>\n",
        "      <th>6 </th>\n",
        "      <td>  junb-veh</td>\n",
        "      <td> 1</td>\n",
        "      <td> 0</td>\n",
        "      <td> 1</td>\n",
        "      <td> 1</td>\n",
        "    </tr>\n",
        "    <tr>\n",
        "      <th>7 </th>\n",
        "      <td>  jund-veh</td>\n",
        "      <td> 1</td>\n",
        "      <td> 1</td>\n",
        "      <td> 1</td>\n",
        "      <td> 0</td>\n",
        "    </tr>\n",
        "    <tr>\n",
        "      <th>8 </th>\n",
        "      <td>  ncor-veh</td>\n",
        "      <td> 1</td>\n",
        "      <td> 0</td>\n",
        "      <td> 1</td>\n",
        "      <td> 0</td>\n",
        "    </tr>\n",
        "    <tr>\n",
        "      <th>9 </th>\n",
        "      <td>   p65-veh</td>\n",
        "      <td> 1</td>\n",
        "      <td> 0</td>\n",
        "      <td> 1</td>\n",
        "      <td> 0</td>\n",
        "    </tr>\n",
        "    <tr>\n",
        "      <th>10</th>\n",
        "      <td>   pu1-veh</td>\n",
        "      <td> 1</td>\n",
        "      <td> 1</td>\n",
        "      <td> 1</td>\n",
        "      <td> 1</td>\n",
        "    </tr>\n",
        "  </tbody>\n",
        "</table>\n",
        "</div>"
       ],
       "metadata": {},
       "output_type": "pyout",
       "prompt_number": 141,
       "text": [
        "       factor onRev multipleOnRev onFwd multipleOnFwd\n",
        "0   cebpa-veh     1             1     0             0\n",
        "1    cjun-veh     1             1     1             0\n",
        "2     fos-veh     1             0     1             0\n",
        "3    fra1-veh     1             0     1             0\n",
        "4    fra2-veh     1             0     1             0\n",
        "5    jdp2-veh     1             0     1             0\n",
        "6    junb-veh     1             0     1             1\n",
        "7    jund-veh     1             1     1             0\n",
        "8    ncor-veh     1             0     1             0\n",
        "9     p65-veh     1             0     1             0\n",
        "10    pu1-veh     1             1     1             1"
       ]
      }
     ],
     "prompt_number": 141
    },
    {
     "cell_type": "code",
     "collapsed": false,
     "input": [
      "klaFrame"
     ],
     "language": "python",
     "metadata": {},
     "outputs": [
      {
       "html": [
        "<div style=\"max-height:1000px;max-width:1500px;overflow:auto;\">\n",
        "<table border=\"1\" class=\"dataframe\">\n",
        "  <thead>\n",
        "    <tr style=\"text-align: right;\">\n",
        "      <th></th>\n",
        "      <th>factor</th>\n",
        "      <th>onRev</th>\n",
        "      <th>multipleOnRev</th>\n",
        "      <th>onFwd</th>\n",
        "      <th>multipleOnFwd</th>\n",
        "    </tr>\n",
        "  </thead>\n",
        "  <tbody>\n",
        "    <tr>\n",
        "      <th>0 </th>\n",
        "      <td> cebpa-kla</td>\n",
        "      <td> 1</td>\n",
        "      <td> 1</td>\n",
        "      <td> 0</td>\n",
        "      <td> 0</td>\n",
        "    </tr>\n",
        "    <tr>\n",
        "      <th>1 </th>\n",
        "      <td>  cjun-kla</td>\n",
        "      <td> 1</td>\n",
        "      <td> 1</td>\n",
        "      <td> 1</td>\n",
        "      <td> 0</td>\n",
        "    </tr>\n",
        "    <tr>\n",
        "      <th>2 </th>\n",
        "      <td>   fos-kla</td>\n",
        "      <td> 1</td>\n",
        "      <td> 1</td>\n",
        "      <td> 0</td>\n",
        "      <td> 0</td>\n",
        "    </tr>\n",
        "    <tr>\n",
        "      <th>3 </th>\n",
        "      <td>  fra1-kla</td>\n",
        "      <td> 1</td>\n",
        "      <td> 0</td>\n",
        "      <td> 1</td>\n",
        "      <td> 0</td>\n",
        "    </tr>\n",
        "    <tr>\n",
        "      <th>4 </th>\n",
        "      <td>  fra2-kla</td>\n",
        "      <td> 1</td>\n",
        "      <td> 1</td>\n",
        "      <td> 1</td>\n",
        "      <td> 0</td>\n",
        "    </tr>\n",
        "    <tr>\n",
        "      <th>5 </th>\n",
        "      <td>  jdp2-kla</td>\n",
        "      <td> 1</td>\n",
        "      <td> 1</td>\n",
        "      <td> 1</td>\n",
        "      <td> 0</td>\n",
        "    </tr>\n",
        "    <tr>\n",
        "      <th>6 </th>\n",
        "      <td>  junb-kla</td>\n",
        "      <td> 1</td>\n",
        "      <td> 1</td>\n",
        "      <td> 0</td>\n",
        "      <td> 0</td>\n",
        "    </tr>\n",
        "    <tr>\n",
        "      <th>7 </th>\n",
        "      <td>  jund-kla</td>\n",
        "      <td> 1</td>\n",
        "      <td> 1</td>\n",
        "      <td> 1</td>\n",
        "      <td> 0</td>\n",
        "    </tr>\n",
        "    <tr>\n",
        "      <th>8 </th>\n",
        "      <td>  ncor-kla</td>\n",
        "      <td> 1</td>\n",
        "      <td> 0</td>\n",
        "      <td> 1</td>\n",
        "      <td> 0</td>\n",
        "    </tr>\n",
        "    <tr>\n",
        "      <th>9 </th>\n",
        "      <td>   p65-kla</td>\n",
        "      <td> 1</td>\n",
        "      <td> 1</td>\n",
        "      <td> 0</td>\n",
        "      <td> 0</td>\n",
        "    </tr>\n",
        "    <tr>\n",
        "      <th>10</th>\n",
        "      <td>   pu1-kla</td>\n",
        "      <td> 1</td>\n",
        "      <td> 1</td>\n",
        "      <td> 1</td>\n",
        "      <td> 1</td>\n",
        "    </tr>\n",
        "  </tbody>\n",
        "</table>\n",
        "</div>"
       ],
       "metadata": {},
       "output_type": "pyout",
       "prompt_number": 142,
       "text": [
        "       factor onRev multipleOnRev onFwd multipleOnFwd\n",
        "0   cebpa-kla     1             1     0             0\n",
        "1    cjun-kla     1             1     1             0\n",
        "2     fos-kla     1             1     0             0\n",
        "3    fra1-kla     1             0     1             0\n",
        "4    fra2-kla     1             1     1             0\n",
        "5    jdp2-kla     1             1     1             0\n",
        "6    junb-kla     1             1     0             0\n",
        "7    jund-kla     1             1     1             0\n",
        "8    ncor-kla     1             0     1             0\n",
        "9     p65-kla     1             1     0             0\n",
        "10    pu1-kla     1             1     1             1"
       ]
      }
     ],
     "prompt_number": 142
    },
    {
     "cell_type": "code",
     "collapsed": false,
     "input": [
      "# weight characteristics; multiple peaks not as important\n",
      "klaFrame[\"onRev\"] = klaFrame[\"onRev\"] * 2\n",
      "vehFrame[\"onRev\"] = vehFrame[\"onRev\"] * 2\n",
      "\n",
      "klaFrame[\"onFwd\"] = klaFrame[\"onFwd\"] * 2\n",
      "vehFrame[\"onFwd\"] = vehFrame[\"onFwd\"] * 2"
     ],
     "language": "python",
     "metadata": {},
     "outputs": [],
     "prompt_number": 152
    },
    {
     "cell_type": "code",
     "collapsed": false,
     "input": [
      "# cluster rows seperately for vehicle\n",
      "veh_labels = list(vehFrame[\"factor\"])\n",
      "veh_characteristics = list(vehFrame.loc[:,[\"onRev\",\"multipleOnRev\",\"onFwd\",\"multipleOnFwd\"]].values.tolist())\n",
      "veh_distances = scipy.spatial.distance.pdist(veh_characteristics)\n",
      "veh_linkage = scipy.cluster.hierarchy.linkage(veh_distances,method=\"complete\")\n",
      "veh_dendrogram = scipy.cluster.hierarchy.dendrogram(veh_linkage, labels = veh_labels)\n",
      "locs, labels = plt.xticks()\n",
      "plt.setp(labels, rotation=90)"
     ],
     "language": "python",
     "metadata": {},
     "outputs": [
      {
       "metadata": {},
       "output_type": "pyout",
       "prompt_number": 307,
       "text": [
        "[None, None, None, None, None, None, None, None, None, None, None]"
       ]
      },
      {
       "metadata": {},
       "output_type": "display_data",
       "png": "[encoded data removed]",
       "text": [
        "<matplotlib.figure.Figure at 0x7f608a0d6b38>"
       ]
      }
     ],
     "prompt_number": 307
    },
    {
     "cell_type": "code",
     "collapsed": false,
     "input": [
      "# cluster rows seperately for kla\n",
      "kla_labels = list(klaFrame[\"factor\"])\n",
      "kla_characteristics = klaFrame.loc[:,[\"onRev\",\"multipleOnRev\",\"onFwd\",\"multipleOnFwd\"]].values\n",
      "kla_distances = scipy.spatial.distance.pdist(kla_characteristics)\n",
      "kla_linkage = scipy.cluster.hierarchy.linkage(kla_distances,method=\"complete\")\n",
      "kla_dendrogram = scipy.cluster.hierarchy.dendrogram(kla_linkage, labels = kla_labels)\n",
      "locs, labels = plt.xticks()\n",
      "plt.setp(labels, rotation=90)"
     ],
     "language": "python",
     "metadata": {},
     "outputs": [
      {
       "metadata": {},
       "output_type": "pyout",
       "prompt_number": 308,
       "text": [
        "[None, None, None, None, None, None, None, None, None, None, None]"
       ]
      },
      {
       "metadata": {},
       "output_type": "display_data",
       "png": "[encoded data removed]",
       "text": [
        "<matplotlib.figure.Figure at 0x7f6089d95b70>"
       ]
      }
     ],
     "prompt_number": 308
    },
    {
     "cell_type": "heading",
     "level": 6,
     "metadata": {},
     "source": [
      "Un-normalized Data"
     ]
    },
    {
     "cell_type": "code",
     "collapsed": false,
     "input": [
      "# try using the raw data without normalization\n",
      "# read in the data\n",
      "kla_histDir = '/data/home/jenhan/analysis/ap1_analysis/output_kla_all/tagDensity_pairs/hist_files/'\n",
      "kla_overallArrays = []\n",
      "kla_fwdArrays = []\n",
      "kla_revArrays = []\n",
      "kla_array_labels = []\n",
      "for filePath in os.listdir(kla_histDir):\n",
      "    if \"hist.txt\" in filePath:\n",
      "        tokens = filePath.split(\"_\")\n",
      "        if \"gro\" in tokens[1] and not \"h3k\" in tokens[0]:\n",
      "            # read in the data\n",
      "            name1 = tokens[0]\n",
      "            name2 = tokens[1]\n",
      "            df = pd.read_csv(kla_histDir + filePath, sep=\"\\t\")\n",
      "            df.columns = [\"DistToPeakCenter\", name1 + \"_coverage\", name1 + \"_+tags\",\n",
      "            name1 + \"_-tags\", name2 + \"_coverage\", name2 + \"_+tags\", name2 + \"_-tags\"]\n",
      "    \n",
      "            # get gro seq tags - which is what I'll cluster on\n",
      "            gro_fwd_tags = df[name2+\"_+tags\"].tolist()\n",
      "            gro_rev_tags = df[name2+\"_-tags\"].tolist()\n",
      "            gro_array = gro_rev_tags + gro_fwd_tags\n",
      "            \n",
      "            kla_labels.append(name1)\n",
      "            kla_overallArrays.append(gro_array)\n",
      "            kla_fwdArrays.append(gro_fwd_tags)\n",
      "            kla_revArrays.append(gro_rev_tags)\n",
      "            \n",
      "veh_histDir = '/data/home/jenhan/analysis/ap1_analysis/output_veh_all/tagDensity_pairs/hist_files/'\n",
      "veh_overallArrays = []\n",
      "veh_fwdArrays = []\n",
      "veh_revArrays = []\n",
      "veh_array_labels = []\n",
      "for filePath in os.listdir(veh_histDir):\n",
      "    if \"hist.txt\" in filePath:\n",
      "        tokens = filePath.split(\"_\")\n",
      "        if \"gro\" in tokens[1] and not \"h3k\" in tokens[0]:\n",
      "            # read in the data\n",
      "            name1 = tokens[0]\n",
      "            name2 = tokens[1]\n",
      "            df = pd.read_csv(veh_histDir + filePath, sep=\"\\t\")\n",
      "            df.columns = [\"DistToPeakCenter\", name1 + \"_coverage\", name1 + \"_+tags\",\n",
      "            name1 + \"_-tags\", name2 + \"_coverage\", name2 + \"_+tags\", name2 + \"_-tags\"]\n",
      "    \n",
      "            # get gro seq tags - which is what I'll cluster on\n",
      "            gro_fwd_tags = df[name2+\"_+tags\"].tolist()\n",
      "            gro_rev_tags = df[name2+\"_-tags\"].tolist()\n",
      "            gro_array = gro_rev_tags + gro_fwd_tags\n",
      "            \n",
      "            veh_labels.append(name1)\n",
      "            veh_overallArrays.append(gro_array)\n",
      "            veh_fwdArrays.append(gro_fwd_tags)\n",
      "            veh_revArrays.append(gro_rev_tags)\n",
      "            "
     ],
     "language": "python",
     "metadata": {},
     "outputs": [],
     "prompt_number": 297
    },
    {
     "cell_type": "code",
     "collapsed": false,
     "input": [
      "# try clustering on unnormalized data\n",
      "# cluster rows seperately for vehicle\n",
      "veh_array_characteristics = np.array(veh_overallArrays)\n",
      "veh_array_distances = scipy.spatial.distance.pdist(veh_array_characteristics)\n",
      "veh_array_linkage = scipy.cluster.hierarchy.linkage(veh_array_distances,method=\"complete\")\n",
      "veh_array_dendrogram = scipy.cluster.hierarchy.dendrogram(veh_array_linkage, labels = veh_labels)\n",
      "locs, labels = plt.xticks()\n",
      "plt.setp(labels, rotation=90)\n"
     ],
     "language": "python",
     "metadata": {},
     "outputs": [
      {
       "metadata": {},
       "output_type": "pyout",
       "prompt_number": 298,
       "text": [
        "[None, None, None, None, None, None, None, None, None, None, None]"
       ]
      },
      {
       "metadata": {},
       "output_type": "display_data",
       "png": "[encoded data removed]",
       "text": [
        "<matplotlib.figure.Figure at 0x7f6089e0ebe0>"
       ]
      }
     ],
     "prompt_number": 298
    },
    {
     "cell_type": "code",
     "collapsed": false,
     "input": [
      "# try clustering on unnormalized data\n",
      "# cluster rows seperately for klaicle\n",
      "kla_array_characteristics = np.array(kla_overallArrays)\n",
      "kla_array_distances = scipy.spatial.distance.pdist(kla_array_characteristics)\n",
      "kla_array_linkage = scipy.cluster.hierarchy.linkage(kla_array_distances,method=\"complete\")\n",
      "kla_array_dendrogram = scipy.cluster.hierarchy.dendrogram(kla_array_linkage, labels = kla_labels)\n",
      "locs, labels = plt.xticks()\n",
      "plt.setp(labels, rotation=90)"
     ],
     "language": "python",
     "metadata": {},
     "outputs": [
      {
       "metadata": {},
       "output_type": "pyout",
       "prompt_number": 299,
       "text": [
        "[None, None, None, None, None, None, None, None, None, None, None]"
       ]
      },
      {
       "metadata": {},
       "output_type": "display_data",
       "png": "[encoded data removed]",
       "text": [
        "<matplotlib.figure.Figure at 0x7f6089d73518>"
       ]
      }
     ],
     "prompt_number": 299
    },
    {
     "cell_type": "heading",
     "level": 6,
     "metadata": {},
     "source": [
      "Normalized Data"
     ]
    },
    {
     "cell_type": "code",
     "collapsed": false,
     "input": [
      "# normalize the data\n",
      "veh_fwdArrays_normed = []\n",
      "veh_revArrays_normed = []\n",
      "veh_overallArrays_normed = []\n",
      "for i in range(len(veh_revArrays)):\n",
      "    normedRev = veh_revArrays[i]/np.max(veh_revArrays[i])\n",
      "    normedFwd = veh_fwdArrays[i]/np.max(veh_fwdArrays[i])\n",
      "    veh_revArrays_normed.append(normedRev)\n",
      "    veh_fwdArrays_normed.append(normedFwd)\n",
      "    veh_overallArrays_normed.append(normedRev+normedFwd)\n",
      "\n",
      "kla_fwdArrays_normed = []\n",
      "kla_revArrays_normed = []\n",
      "kla_overallArrays_normed = []\n",
      "for i in range(len(kla_revArrays)):\n",
      "    normedRev = kla_revArrays[i]/np.max(kla_revArrays[i])\n",
      "    normedFwd = kla_fwdArrays[i]/np.max(kla_fwdArrays[i])\n",
      "    kla_revArrays_normed.append(normedRev)\n",
      "    kla_fwdArrays_normed.append(normedFwd)\n",
      "    kla_overallArrays_normed.append(normedRev+normedFwd)"
     ],
     "language": "python",
     "metadata": {},
     "outputs": [],
     "prompt_number": 301
    },
    {
     "cell_type": "code",
     "collapsed": false,
     "input": [
      "# try clustering on normalized data\n",
      "veh_normed_characteristics = veh_overallArrays_normed\n",
      "veh_normed_distances = scipy.spatial.distance.pdist(veh_normed_characteristics)\n",
      "veh_normed_linkage = scipy.cluster.hierarchy.linkage(veh_normed_distances,method=\"complete\")\n",
      "veh_normed_dendrogram = scipy.cluster.hierarchy.dendrogram(veh_normed_linkage, labels = veh_labels)\n",
      "locs, labels = plt.xticks()\n",
      "plt.setp(labels, rotation=90)"
     ],
     "language": "python",
     "metadata": {},
     "outputs": [
      {
       "metadata": {},
       "output_type": "pyout",
       "prompt_number": 305,
       "text": [
        "[None, None, None, None, None, None, None, None, None, None, None]"
       ]
      },
      {
       "metadata": {},
       "output_type": "display_data",
       "png": "[encoded data removed]",
       "text": [
        "<matplotlib.figure.Figure at 0x7f6089cb0e80>"
       ]
      }
     ],
     "prompt_number": 305
    },
    {
     "cell_type": "code",
     "collapsed": false,
     "input": [
      "kla_normed_characteristics = kla_overallArrays_normed\n",
      "kla_normed_distances = scipy.spatial.distance.pdist(kla_normed_characteristics)\n",
      "kla_normed_linkage = scipy.cluster.hierarchy.linkage(kla_normed_distances,method=\"complete\")\n",
      "kla_normed_dendrogram = scipy.cluster.hierarchy.dendrogram(kla_normed_linkage, labels = kla_labels)\n",
      "locs, labels = plt.xticks()\n",
      "plt.setp(labels, rotation=90)"
     ],
     "language": "python",
     "metadata": {},
     "outputs": [
      {
       "metadata": {},
       "output_type": "pyout",
       "prompt_number": 306,
       "text": [
        "[None, None, None, None, None, None, None, None, None, None, None]"
       ]
      },
      {
       "metadata": {},
       "output_type": "display_data",
       "png": "[encoded data removed]",
       "text": [
        "<matplotlib.figure.Figure at 0x7f6089d96b38>"
       ]
      }
     ],
     "prompt_number": 306
    },
    {
     "cell_type": "code",
     "collapsed": false,
     "input": [],
     "language": "python",
     "metadata": {},
     "outputs": []
    }
   ],
   "metadata": {}
  }
 ]
}