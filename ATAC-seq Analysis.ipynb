{
 "cells": [
  {
   "cell_type": "markdown",
   "metadata": {},
   "source": [
    "# ATAC-seq Analysis"
   ]
  },
  {
   "cell_type": "code",
   "execution_count": 1,
   "metadata": {
    "collapsed": false
   },
   "outputs": [],
   "source": [
    "### header ###\n",
    "__author__ = \"Jenhan Tao\"\n",
    "__license__ = \"BSD\"\n",
    "__email__ = \"jenhantao@gmail.com\"\n",
    "%load_ext autoreload\n",
    "%autoreload 2"
   ]
  },
  {
   "cell_type": "code",
   "execution_count": 2,
   "metadata": {
    "collapsed": true
   },
   "outputs": [],
   "source": [
    "### imports ###\n",
    "import sys\n",
    "import os\n",
    "import pandas as pd\n",
    "import numpy as np\n",
    "import argparse\n",
    "import matplotlib\n",
    "import itertools\n",
    "import scipy\n",
    "import matplotlib.pyplot as plt \n",
    "import seaborn as sns\n",
    "from IPython.display import Image, display\n",
    "from scipy.spatial.distance import pdist, squareform\n",
    "from scipy.cluster.hierarchy import linkage, dendrogram\n",
    "import scipy\n",
    "import scipy.stats\n",
    "import sklearn\n",
    "from sklearn import preprocessing\n",
    "from sklearn import decomposition\n",
    "from mpl_toolkits.mplot3d import Axes3D\n",
    "from matplotlib_venn import venn3, venn2\n",
    "import pickle\n",
    "from matplotlib import patches as mpatches\n",
    "from sklearn.cluster import KMeans\n",
    "from sklearn import svm, datasets\n",
    "from sklearn.utils import shuffle\n",
    "from sklearn.metrics import roc_curve, auc\n",
    "from sklearn import ensemble\n",
    "from sklearn import neighbors\n",
    "import networkx as nx\n",
    "import matplotlib_venn\n",
    "from sklearn.cross_validation import train_test_split\n",
    "from random import shuffle\n",
    "%matplotlib inline\n",
    "matplotlib.pylab.rcParams['savefig.dpi'] = 200\n",
    "sys.setrecursionlimit(3000)\n",
    "sns.set_context('notebook')"
   ]
  },
  {
   "cell_type": "markdown",
   "metadata": {},
   "source": [
    "## Functions"
   ]
  },
  {
   "cell_type": "code",
   "execution_count": 3,
   "metadata": {
    "collapsed": true
   },
   "outputs": [],
   "source": [
    "\n",
    "def get_matched_split(features, labels, test_size):\n",
    "    '''\n",
    "    feature: 2D array (samples x features)\n",
    "    labels: 1D boolean array (samples x)\n",
    "    test_size: fraction of data to test on\n",
    "    '''\n",
    "    \n",
    "    ### match GC content of samples labelled True with those labelled False by thowing out False samples\n",
    "    # retrieve sequences using index of labels\n",
    "    index_label_tuples = tuple(zip(labels.index.values, labels.values))\n",
    "    \n",
    "    true_ids = [x[0] for x in index_label_tuples if x[1]]\n",
    "    \n",
    "    false_ids = [x[0] for x in index_label_tuples if not x[1]]\n",
    "    \n",
    "        \n",
    "    filtered_ids = true_ids + false_ids\n",
    "    filtered_features = features[features.index.isin(filtered_ids)]\n",
    "    filtered_labels = labels[labels.index.isin(filtered_ids)]\n",
    "\n",
    "\n",
    "    if test_size <= 0.5:\n",
    "        training_indices, test_indices = next(iter(\n",
    "                sklearn.cross_validation.StratifiedKFold(filtered_labels, int(1/test_size), shuffle=True)))\n",
    "    else:\n",
    "        test_indices, training_indices = next(\n",
    "            iter(sklearn.cross_validation.StratifiedKFold(filtered_labels, int(1/(1-test_size)), shuffle=True)))\n",
    "    training_ids = [filtered_ids[i] for i in training_indices]\n",
    "    test_ids = [filtered_ids[i] for i in test_indices]\n",
    "    \n",
    "    training_features = filtered_features[filtered_features.index.isin(training_ids)]\n",
    "    test_features = filtered_features[filtered_features.index.isin(test_ids)]\n",
    "    training_labels = filtered_labels[filtered_labels.index.isin(training_ids)]\n",
    "    test_labels = filtered_labels[filtered_labels.index.isin(test_ids)]\n",
    "    \n",
    "    return training_features, test_features, training_labels, test_labels\n",
    "    "
   ]
  },
  {
   "cell_type": "markdown",
   "metadata": {},
   "source": [
    "## Preprocessing"
   ]
  },
  {
   "cell_type": "code",
   "execution_count": 4,
   "metadata": {
    "collapsed": true
   },
   "outputs": [],
   "source": [
    "# file directories\n",
    "workingDirectory = '/home/jenhan/analysis/atac_analysis/'\n",
    "\n",
    "genomes = ['hg19','mm10', 'hg38']\n",
    "scratchDirectory = workingDirectory + '/scratch/'\n"
   ]
  },
  {
   "cell_type": "markdown",
   "metadata": {},
   "source": [
    "### RNA-seq"
   ]
  },
  {
   "cell_type": "code",
   "execution_count": 5,
   "metadata": {
    "collapsed": false
   },
   "outputs": [],
   "source": [
    "\n",
    "tagDirPath = workingDirectory + '/tag_directories_rna/'\n",
    "\n",
    "\n",
    "os.chdir(workingDirectory)\n",
    "\n",
    "strains = []\n",
    "treatments = []\n",
    "owners = []\n",
    "dates = []\n",
    "originalNames = []\n",
    "cellTypes = []\n",
    "for f in os.listdir(tagDirPath):\n",
    "    originalName = f\n",
    "    metaDataTokens = f.split('_')\n",
    "    \n",
    "    originalNames.append(originalName)\n",
    "    # grab metadata from string tokens\n",
    "    strain = metaDataTokens[0].strip()\n",
    "    cellType = metaDataTokens[1].strip()\n",
    "    treatment = metaDataTokens[3].strip().split('-')[0]\n",
    "    owner = metaDataTokens[5].strip()\n",
    "    date = metaDataTokens[4].strip()\n",
    "    \n",
    "    # append to overall lists\n",
    "    strains.append(strain)\n",
    "    treatments.append(treatment)\n",
    "    owners.append(owner)\n",
    "    dates.append(date)\n",
    "    cellTypes.append(cellType)\n",
    "metadata_frame = pd.DataFrame([strains, \n",
    "                                  cellTypes,\n",
    "                                  treatments, \n",
    "                                  owners, \n",
    "                                  originalNames, \n",
    "                                  ]).transpose()\n",
    "metadata_frame.columns = ['strain', \n",
    "                          'Cell Type',\n",
    "                         'treatment',\n",
    "                         'owner', \n",
    "                         'sampleName']\n",
    "\n",
    "# ### read in log files ###\n",
    "\n",
    "# create data frame summarizing mapping quality logs\n",
    "\n",
    "# from tagInfo.txt\n",
    "_originalNames =[]\n",
    "_totalReads = []\n",
    "_fragmentLengthEstimate =[]\n",
    "_peakSizeEstimate = []\n",
    "_tagsPerBP = []\n",
    "_averageTagsPerPosition = []\n",
    "_averageTagLength = []\n",
    "_averageFragmentGCcontent = []\n",
    "\n",
    "\n",
    "for tagdir in os.listdir(tagDirPath):\n",
    "    with open(tagDirPath + '/' + tagdir + '/tagInfo.txt') as f:\n",
    "        data = f.readlines()\n",
    "        _originalNames.append(tagdir)\n",
    "        _fragmentLengthEstimate.append(float(data[2].strip().split('=')[1]))\n",
    "        _peakSizeEstimate.append(float(data[3].strip().split('=')[1]))\n",
    "        _tagsPerBP.append(float(data[4].strip().split('=')[1]))\n",
    "        _averageTagsPerPosition.append(float(data[5].strip().split('=')[1]))\n",
    "        _averageTagLength.append(float(data[6].strip().split('=')[1]))\n",
    "        _averageFragmentGCcontent.append(float(data[8].strip().split('=')[1]))\n",
    "        _totalReads.append(float(data[1].split()[2]))\n",
    "mappingStats_frame = pd.DataFrame([_originalNames,\n",
    "                                   _totalReads, \n",
    "\n",
    "                                   _fragmentLengthEstimate,\n",
    "                                   _peakSizeEstimate,\n",
    "                                   _tagsPerBP,\n",
    "                                   _averageTagsPerPosition,\n",
    "                                   _averageTagLength,\n",
    "                                   _averageFragmentGCcontent,\n",
    "                                  ]).transpose()\n",
    "mappingStats_frame.columns = ['sampleName',\n",
    "                              'totalReads', \n",
    "                              'fragmentLengthEstimate',\n",
    "                              'peakSizeEstimate',\n",
    "                              'tagsPerBP',\n",
    "                              'averageTagsPerPosition',\n",
    "                              'averageTagLength',\n",
    "                              'averageFragmentGCcontent']\n",
    "\n",
    "summary_frame = metadata_frame.merge(mappingStats_frame, on='sampleName')\n",
    "\n",
    "\n",
    "summary_frame.index  = pd.MultiIndex.from_arrays([list(summary_frame['strain'].values), list(summary_frame['Cell Type'].values)])\n",
    "summary_frame = summary_frame.sort()\n",
    "summary_frame.to_csv('qc_metrics_rna.tsv', sep='\\t', index=False)\n",
    "summary_frame_rna = summary_frame.copy()"
   ]
  },
  {
   "cell_type": "markdown",
   "metadata": {},
   "source": [
    "### ATAC-seq"
   ]
  },
  {
   "cell_type": "code",
   "execution_count": 6,
   "metadata": {
    "collapsed": false
   },
   "outputs": [],
   "source": [
    "\n",
    "tagDirPath = workingDirectory + '/tag_directories_atac/'\n",
    "\n",
    "strains = []\n",
    "treatments = []\n",
    "owners = []\n",
    "dates = []\n",
    "originalNames = []\n",
    "cellTypes = []\n",
    "for f in os.listdir(tagDirPath):\n",
    "    originalName = f\n",
    "    metaDataTokens = f.split('_')\n",
    "    \n",
    "    originalNames.append(originalName)\n",
    "    # grab metadata from string tokens\n",
    "    strain = metaDataTokens[0].strip()\n",
    "    cellType = metaDataTokens[1].strip()\n",
    "    treatment = metaDataTokens[3].strip().split('-')[0]\n",
    "    owner = metaDataTokens[5].strip()\n",
    "    date = metaDataTokens[4].strip()\n",
    "    \n",
    "    # append to overall lists\n",
    "    strains.append(strain)\n",
    "    treatments.append(treatment)\n",
    "    owners.append(owner)\n",
    "    dates.append(date)\n",
    "    cellTypes.append(cellType)\n",
    "metadata_frame = pd.DataFrame([strains, \n",
    "                                  cellTypes,\n",
    "                                  treatments, \n",
    "                                  owners, \n",
    "                                  originalNames, \n",
    "                                  ]).transpose()\n",
    "metadata_frame.columns = ['strain', \n",
    "                          'Cell Type',\n",
    "                         'treatment',\n",
    "                         'owner', \n",
    "                         'sampleName']\n",
    "\n",
    "# ### read in log files ###\n",
    "\n",
    "# create data frame summarizing mapping quality logs\n",
    "\n",
    "# from tagInfo.txt\n",
    "_originalNames =[]\n",
    "_totalReads = []\n",
    "_fragmentLengthEstimate =[]\n",
    "_peakSizeEstimate = []\n",
    "_tagsPerBP = []\n",
    "_averageTagsPerPosition = []\n",
    "_averageTagLength = []\n",
    "_averageFragmentGCcontent = []\n",
    "\n",
    "\n",
    "for tagdir in os.listdir(tagDirPath):\n",
    "    with open(tagDirPath + '/' + tagdir + '/tagInfo.txt') as f:\n",
    "        data = f.readlines()\n",
    "        _originalNames.append(tagdir)\n",
    "        _fragmentLengthEstimate.append(float(data[2].strip().split('=')[1]))\n",
    "        _peakSizeEstimate.append(float(data[3].strip().split('=')[1]))\n",
    "        _tagsPerBP.append(float(data[4].strip().split('=')[1]))\n",
    "        _averageTagsPerPosition.append(float(data[5].strip().split('=')[1]))\n",
    "        _averageTagLength.append(float(data[6].strip().split('=')[1]))\n",
    "        _averageFragmentGCcontent.append(float(data[8].strip().split('=')[1]))\n",
    "        _totalReads.append(float(data[1].split()[2]))\n",
    "mappingStats_frame = pd.DataFrame([_originalNames,\n",
    "                                   _totalReads, \n",
    "\n",
    "                                   _fragmentLengthEstimate,\n",
    "                                   _peakSizeEstimate,\n",
    "                                   _tagsPerBP,\n",
    "                                   _averageTagsPerPosition,\n",
    "                                   _averageTagLength,\n",
    "                                   _averageFragmentGCcontent,\n",
    "                                  ]).transpose()\n",
    "mappingStats_frame.columns = ['sampleName',\n",
    "                              'totalReads', \n",
    "                              'fragmentLengthEstimate',\n",
    "                              'peakSizeEstimate',\n",
    "                              'tagsPerBP',\n",
    "                              'averageTagsPerPosition',\n",
    "                              'averageTagLength',\n",
    "                              'averageFragmentGCcontent']\n",
    "\n",
    "summary_frame = metadata_frame.merge(mappingStats_frame, on='sampleName')\n",
    "\n",
    "\n",
    "summary_frame.index  = pd.MultiIndex.from_arrays([list(summary_frame['strain'].values), \n",
    "                                                  list(summary_frame['Cell Type'].values), \n",
    "                                                  list(summary_frame['treatment'].values)])\n",
    "summary_frame = summary_frame.sort()\n",
    "summary_frame.to_csv('qc_metrics_atac.tsv', sep='\\t', index=False)\n",
    "summary_frame_atac = summary_frame.copy()"
   ]
  },
  {
   "cell_type": "markdown",
   "metadata": {},
   "source": [
    "## Filter Data on QC Metrics"
   ]
  },
  {
   "cell_type": "code",
   "execution_count": 7,
   "metadata": {
    "collapsed": false,
    "scrolled": false
   },
   "outputs": [
    {
     "data": {
      "image/png": "[encoded data removed]",
      "text/plain": [
       "<matplotlib.figure.Figure at 0x7f41f6456d30>"
      ]
     },
     "metadata": {},
     "output_type": "display_data"
    },
    {
     "data": {
      "image/png": "[encoded data removed]",
      "text/plain": [
       "<matplotlib.figure.Figure at 0x7f41f6396a90>"
      ]
     },
     "metadata": {},
     "output_type": "display_data"
    },
    {
     "data": {
      "image/png": "[encoded data removed]",
      "text/plain": [
       "<matplotlib.figure.Figure at 0x7f41f63a82e8>"
      ]
     },
     "metadata": {},
     "output_type": "display_data"
    },
    {
     "data": {
      "image/png": "[encoded data removed]",
      "text/plain": [
       "<matplotlib.figure.Figure at 0x7f41f63c1240>"
      ]
     },
     "metadata": {},
     "output_type": "display_data"
    }
   ],
   "source": [
    "sns.distplot(summary_frame_rna['totalReads'], bins=20, kde=True)\n",
    "plt.title('Distribution of Mapped Reads (RNA)')\n",
    "plt.xlabel('Mapped Reads')\n",
    "plt.ylabel('Frequency')\n",
    "plt.show()\n",
    "\n",
    "sns.distplot(summary_frame_rna['averageTagsPerPosition'], bins=20)\n",
    "plt.title('Distribution of Clonality (RNA)')\n",
    "plt.xlabel('Clonality')\n",
    "plt.show()\n",
    "\n",
    "sns.distplot(summary_frame_atac['totalReads'], bins=20, kde=True)\n",
    "plt.title('Distribution of Mapped Reads (ATAC)')\n",
    "plt.xlabel('Mapped Reads')\n",
    "plt.ylabel('Frequency')\n",
    "plt.show()\n",
    "\n",
    "sns.distplot(summary_frame_atac['averageTagsPerPosition'], bins=20)\n",
    "plt.title('Distribution of Clonality (ATAC)')\n",
    "plt.xlabel('Clonality')\n",
    "plt.show()\n"
   ]
  },
  {
   "cell_type": "code",
   "execution_count": 8,
   "metadata": {
    "collapsed": true
   },
   "outputs": [],
   "source": [
    "filtered_summary_frame_atac = summary_frame_atac.copy()"
   ]
  },
  {
   "cell_type": "code",
   "execution_count": 9,
   "metadata": {
    "collapsed": true
   },
   "outputs": [],
   "source": [
    "# filter samples according to threshold for the fraction of uniquely mapped reads\n",
    "readsThreshold = 1000000\n",
    "pbcThreshold=0.0\n",
    "# gcThreshold=0.10\n",
    "clonalityThreshold = 20\n",
    "# spotThreshold = 0.005\n",
    "\n",
    "filtered_summary_frame_rna = summary_frame_rna.copy()\n",
    "\n",
    "filtered_summary_frame_rna = filtered_summary_frame_rna[filtered_summary_frame_rna['totalReads'] >= readsThreshold]\n",
    "\n",
    "filtered_summary_frame_rna = filtered_summary_frame_rna[filtered_summary_frame_rna['averageTagsPerPosition'] <= clonalityThreshold]"
   ]
  },
  {
   "cell_type": "markdown",
   "metadata": {},
   "source": [
    "## Calculate RPKM Values"
   ]
  },
  {
   "cell_type": "code",
   "execution_count": null,
   "metadata": {
    "collapsed": false
   },
   "outputs": [],
   "source": [
    "filteredTagDirectories = ' '.join(['/home/jenhan/analysis/atac_analysis//tag_directories_rna/' +x for x in filtered_summary_frame_rna['sampleName']])\n",
    "!analyzeRepeats.pl rna mm10 -count exons -condenseGenes -rpkm -d $filteredTagDirectories > rpkm.tsv\n",
    "!analyzeRepeats.pl rna mm10 -count exons -condenseGenes -noadj -d $filteredTagDirectories > raw.tsv\n",
    "\n"
   ]
  },
  {
   "cell_type": "code",
   "execution_count": 10,
   "metadata": {
    "collapsed": false
   },
   "outputs": [],
   "source": [
    "# read in RPKM values\n",
    "rpkm_frame = pd.read_csv(\"rpkm.tsv\",sep=\"\\t\")\n",
    "columns = rpkm_frame.columns.values\n",
    "columns[0] = \"refseq\"\n",
    "for i in range(len(columns)):\n",
    "    if \"FPKM\" in columns[i]:\n",
    "        columns[i] = columns[i].split(\"/\")[-1].split()[0]\n",
    "rpkm_frame.columns = columns    \n",
    "rpkm_frame['gene'] = [x.split(\"|\")[0] for x in rpkm_frame['Annotation/Divergence']]\n",
    "columns = list(rpkm_frame.columns.values)\n",
    "columns = columns[:-1]\n",
    "columns.insert(1,'gene')\n",
    "rpkm_frame = rpkm_frame[columns]\n",
    "\n",
    "\n",
    "raw_frame = pd.read_csv(\"raw.tsv\",sep=\"\\t\")\n",
    "columns = raw_frame.columns.values\n",
    "columns[0] = \"refseq\"\n",
    "for i in range(len(columns)):\n",
    "    if \"reads\" in columns[i]:\n",
    "        columns[i] = columns[i].split(\"/\")[-1].split()[0]\n",
    "raw_frame.columns = columns  \n",
    "raw_frame['gene'] = [x.split(\"|\")[0] for x in raw_frame['Annotation/Divergence']]\n",
    "columns = list(raw_frame.columns.values)\n",
    "columns = columns[:-1]\n",
    "columns.insert(1,'gene')\n",
    "raw_frame = raw_frame[columns]\n",
    "\n",
    "refseq_gene_mapping = dict(zip(rpkm_frame['refseq'].values, [x.split(\"|\")[0] for x in rpkm_frame['Annotation/Divergence']]))\n",
    "gene_refseq_mapping = dict(zip([x.split(\"|\")[0] for x in rpkm_frame['Annotation/Divergence']], rpkm_frame['refseq'].values))\n",
    "refseq_gene_mapping.update(dict(zip(raw_frame['refseq'].values, [x.split(\"|\")[0] for x in raw_frame['Annotation/Divergence']])))\n",
    "gene_refseq_mapping.update(dict(zip([x.split(\"|\")[0] for x in raw_frame['Annotation/Divergence']], raw_frame['refseq'].values)))\n",
    "\n",
    "# get filtered rpkm values\n",
    "filtered_rpkm_frame =  rpkm_frame[[x for x in rpkm_frame.columns if x in filtered_summary_frame_rna['sampleName'].values]]\n",
    "# columns = [originalName_simpleName_dict[x] for x in filtered_rpkm_frame.columns.values]\n",
    "# filtered_rpkm_frame.columns = columns\n",
    "filtered_rpkm_frame.index = rpkm_frame.refseq.values\n",
    "# get rid of genes that aren't expressed at all\n",
    "filtered_rpkm_frame = filtered_rpkm_frame[filtered_rpkm_frame.sum(axis=1) > 1.0]"
   ]
  },
  {
   "cell_type": "markdown",
   "metadata": {},
   "source": [
    "### Run IDR"
   ]
  },
  {
   "cell_type": "code",
   "execution_count": null,
   "metadata": {
    "collapsed": false,
    "scrolled": false
   },
   "outputs": [],
   "source": [
    "# %%capture\n",
    "idrDirectory = '/home/jenhan/analysis/atac_analysis/idr_rna/'\n",
    "sampleColumns = rpkm_frame.columns.values[9:]\n",
    "originalName_simpleTreatment_dict = dict(zip(filtered_summary_frame_rna['sampleName'], \n",
    "                                             filtered_summary_frame_rna['Cell Type'] +\n",
    "                                             '_' + filtered_summary_frame_rna['treatment']))\n",
    "originalName_strain_dict = dict(zip(filtered_summary_frame_rna['sampleName'], filtered_summary_frame_rna['strain']))\n",
    "\n",
    "conditions = \" \".join([originalName_strain_dict[x] + '_' + originalName_simpleTreatment_dict[x] for x in sampleColumns])\n",
    "!echo \"python /home/jenhan/code/seq_merge_pipe/run_idr_homerRNA.py rpkm.tsv $idrDirectory $conditions &\"\n",
    "# !python /home/jenhan/code/seq_merge_pipe/run_idr_homerRNA.py rpkm.tsv $idrDirectory $conditions -p\n",
    "!python /home/jenhan/code/seq_merge_pipe/run_idr_homerRNA.py rpkm.tsv $idrDirectory $conditions"
   ]
  },
  {
   "cell_type": "code",
   "execution_count": 15,
   "metadata": {
    "collapsed": false
   },
   "outputs": [],
   "source": [
    "idr_rpkm_frame = pd.read_csv('idr_rna/idr_intersection_rpkm.tsv', sep='\\t')\n",
    "\n",
    "columns = idr_rpkm_frame.columns.values\n",
    "columns[0] = \"refseq\"\n",
    "for i in range(len(columns)):\n",
    "    if \"FPKM\" in columns[i]:\n",
    "        columns[i] = columns[i].split(\"/\")[-1].split()[0]\n",
    "idr_rpkm_frame.columns = columns    \n",
    "idr_rpkm_frame['gene'] = [x.split(\"|\")[0].upper() for x in idr_rpkm_frame['Annotation/Divergence']]\n",
    "columns = list(idr_rpkm_frame.columns.values)\n",
    "columns = columns[:-1]\n",
    "columns.insert(1,'gene')\n",
    "idr_rpkm_frame = idr_rpkm_frame[columns]\n",
    "idr_rpkm_frame.index = idr_rpkm_frame['gene'].values\n",
    "idr_rpkm_frame = idr_rpkm_frame.ix[:,9:]\n",
    "\n",
    "idr_rpkm_mean_frame = pd.DataFrame()\n",
    "treatment_col_dict = {}\n",
    "for col in idr_rpkm_frame.columns.values:\n",
    "    treatment = '_'.join(col.split('_')[0:4]).replace('RNA_','')\n",
    "    if not treatment in treatment_col_dict:\n",
    "        treatment_col_dict[treatment] = [col]\n",
    "    else:\n",
    "        treatment_col_dict[treatment].append(col)\n",
    "for treatment in treatment_col_dict:\n",
    "    idr_rpkm_mean_frame[treatment] = np.mean(idr_rpkm_frame[treatment_col_dict[treatment]], axis=1)\n",
    "idr_rpkm_mean_frame = idr_rpkm_mean_frame.sort()\n",
    "\n",
    "idr_rpkm_median_frame = pd.DataFrame()\n",
    "treatment_col_dict = {}\n",
    "for col in idr_rpkm_frame.columns.values:\n",
    "    treatment = '_'.join(col.split('_')[0:4]).replace('RNA_','')\n",
    "    if not treatment in treatment_col_dict:\n",
    "        treatment_col_dict[treatment] = [col]\n",
    "    else:\n",
    "        treatment_col_dict[treatment].append(col)\n",
    "for treatment in treatment_col_dict:\n",
    "    idr_rpkm_median_frame[treatment] = np.median(idr_rpkm_frame[treatment_col_dict[treatment]], axis=1)\n",
    "idr_rpkm_median_frame.index = idr_rpkm_frame.index.values\n",
    "\n",
    "idr_rpkm_median_frame = idr_rpkm_median_frame.sort()\n",
    "\n",
    "idr_rpkm_frame.to_pickle('idr_rpkm_frame.pickle')\n",
    "idr_rpkm_mean_frame.to_pickle('idr_rpkm_mean_frame.pickle')\n",
    "idr_rpkm_median_frame.to_pickle('idr_rpkm_median_frame.pickle')"
   ]
  },
  {
   "cell_type": "code",
   "execution_count": 16,
   "metadata": {
    "collapsed": false
   },
   "outputs": [
    {
     "name": "stdout",
     "output_type": "stream",
     "text": [
      "\n",
      "\tDifferential Expression Program: edgeR\n",
      "\tAutodetecting input file format...\n",
      "\tUsing edgeR to calculate differential expression/enrichment...\n",
      "\tAutodetected analyzeRepeats.pl file\n",
      "\tOutput Stats C57Bl6_Thiomac_KLA vs. C57Bl6_Thiomac_Veh:\n",
      "\t\tTotal Genes: 24453\n",
      "\t\tTotal Up-regulated in C57Bl6_Thiomac_Veh vs. C57Bl6_Thiomac_KLA: 10 (0.041%) [log2fold>1, FDR<0.05]\n",
      "\t\tTotal Dn-regulated in C57Bl6_Thiomac_Veh vs. C57Bl6_Thiomac_KLA: 206 (0.842%) [log2fold<-1, FDR<0.05]\n",
      "\n"
     ]
    }
   ],
   "source": [
    "# %%capture\n",
    "# use Homer to call differentially expressed genes with replicates\n",
    "sample_condition_dict = dict(zip(filtered_summary_frame_rna['sampleName'], \n",
    "                                 filtered_summary_frame_rna['strain'] \n",
    "                                 + '_'+ filtered_summary_frame_rna['Cell Type']\n",
    "                                 + '_'+ filtered_summary_frame_rna['treatment']))\n",
    "samples = raw_frame.columns[9:].values\n",
    "\n",
    "conditions = \" \".join([sample_condition_dict[x.split('/')[-1]] for x in samples])\n",
    "! getDiffExpression.pl raw.tsv -AvsA $conditions > homer_diffExpresion.tsv"
   ]
  },
  {
   "cell_type": "code",
   "execution_count": 17,
   "metadata": {
    "collapsed": true
   },
   "outputs": [],
   "source": [
    "diffExpression_frame = pd.read_csv('homer_diffExpresion.tsv', sep='\\t')\n",
    "columns = diffExpression_frame.columns.values\n",
    "columns[0]='refseq'\n",
    "columns = [x.split('/')[-1] if '/' in x else x for x in columns]\n",
    "diffExpression_frame.columns=columns\n",
    "diffExpression_frame.index = diffExpression_frame.refseq.values\n",
    "diffExpression_frame['gene'] = [x.split('|')[0].upper() for x in diffExpression_frame['Divergence']]\n",
    "columns = ['refseq', 'gene'] + [x for x in diffExpression_frame.columns if 'vs.' in x]\n",
    "diffExpression_frame = diffExpression_frame[columns]"
   ]
  },
  {
   "cell_type": "markdown",
   "metadata": {},
   "source": [
    "## ATAC-seq Peak Calling"
   ]
  },
  {
   "cell_type": "code",
   "execution_count": 10,
   "metadata": {
    "collapsed": false
   },
   "outputs": [
    {
     "name": "stdout",
     "output_type": "stream",
     "text": [
      "findPeaks /home/jenhan/analysis/atac_analysis//tag_directories_atac//C57Bl6_Thiomac_ATAC_KLA-1h-2_SD_16-03-22 -L 0 -C 0 -fdr 0.9 -style factor -size 200  > /home/jenhan/analysis/atac_analysis/peak_files/C57Bl6_Thiomac_ATAC_KLA-1h-2_SD_16-03-22_peaks.tsv &\n",
      "findPeaks /home/jenhan/analysis/atac_analysis//tag_directories_atac//C57Bl6_Thiomac_ATAC_KLA-1h-1_SD_16-03-22 -L 0 -C 0 -fdr 0.9 -style factor -size 200  > /home/jenhan/analysis/atac_analysis/peak_files/C57Bl6_Thiomac_ATAC_KLA-1h-1_SD_16-03-22_peaks.tsv &\n",
      "findPeaks /home/jenhan/analysis/atac_analysis//tag_directories_atac//C57Bl6_Thiomac_ATAC_Veh_SD_16-03-22-and-16-04-11 -L 0 -C 0 -fdr 0.9 -style factor -size 200  > /home/jenhan/analysis/atac_analysis/peak_files/C57Bl6_Thiomac_ATAC_Veh_SD_16-03-22-and-16-04-11_peaks.tsv &\n",
      "findPeaks /home/jenhan/analysis/atac_analysis//tag_directories_atac//C57Bl6_Thiomac_ATAC_Veh_SD_16-03-22 -L 0 -C 0 -fdr 0.9 -style factor -size 200  > /home/jenhan/analysis/atac_analysis/peak_files/C57Bl6_Thiomac_ATAC_Veh_SD_16-03-22_peaks.tsv &\n"
     ]
    }
   ],
   "source": [
    "### call peaks ###\n",
    "peakDirectory = '/home/jenhan/analysis/atac_analysis/peak_files'\n",
    "# iterate through each individual file\n",
    "if not os.path.exists(peakDirectory):\n",
    "    os.makedirs(peakDirectory)\n",
    "\n",
    "# make peak files with simplified names\n",
    "\n",
    "for sn in filtered_summary_frame_atac['sampleName'].values:\n",
    "    \n",
    "    peakFileName = sn + \"_peaks.tsv\"\n",
    "\n",
    "    print('findPeaks ' + tagDirPath + '/' + sn + \n",
    "                     ' -L 0 -C 0 -fdr 0.9' +\n",
    "                     ' -style factor -size 200  > ' + \n",
    "                     peakDirectory +'/' + peakFileName + ' &')\n",
    "\n"
   ]
  },
  {
   "cell_type": "code",
   "execution_count": 11,
   "metadata": {
    "collapsed": false
   },
   "outputs": [
    {
     "name": "stderr",
     "output_type": "stream",
     "text": [
      "\tFragment Length = 67\n",
      "\tTotal Tags = 12733303.0\n",
      "\tTags per bp = 0.006367\n",
      "\tMax tags per bp set automatically to 1.0\n",
      "\tFinding peaks of size 200, no closer than 400\n",
      "\tFragment Length = 67\n",
      "\tTotal Tags = 6737504.0\n",
      "\tTags per bp = 0.003369\n",
      "\tMax tags per bp set automatically to 1.0\n",
      "\tFinding peaks of size 200, no closer than 400\n",
      "\tFragment Length = 67\n",
      "\tTotal Tags = 5746574.0\n",
      "\tTags per bp = 0.002873\n",
      "\tMax tags per bp set automatically to 1.0\n",
      "\tFragment Length = 77\n",
      "\tTotal Tags = 9726543.0\n",
      "\tTags per bp = 0.004863\n",
      "\tMax tags per bp set automatically to 1.0\n",
      "\tFinding peaks of size 200, no closer than 400\n",
      "\tFinding peaks of size 200, no closer than 400\n",
      "\t\tFinding peaks on chr1 (minCount=-0.4), total tags positions = 273690\n",
      "\t\tFinding peaks on chr1 (minCount=-0.3), total tags positions = 317898\n",
      "\t\tFinding peaks on chr1 (minCount=-0.0), total tags positions = 448119\n",
      "\t\tFinding peaks on chr1 (minCount=0.3), total tags positions = 571010\n",
      "\t\tFinding peaks on chr2 (minCount=-0.4), total tags positions = 267441\n",
      "\t\tFinding peaks on chr2 (minCount=-0.3), total tags positions = 298232\n",
      "\t\tFinding peaks on chr3 (minCount=-0.4), total tags positions = 232210\n",
      "\t\tFinding peaks on chr2 (minCount=-0.0), total tags positions = 467469\n",
      "\t\tFinding peaks on chr3 (minCount=-0.3), total tags positions = 264569\n",
      "\t\tFinding peaks on chr4 (minCount=-0.4), total tags positions = 213947\n",
      "\t\tFinding peaks on chr2 (minCount=0.3), total tags positions = 595160\n",
      "\t\tFinding peaks on chr4 (minCount=-0.3), total tags positions = 246291\n",
      "\t\tFinding peaks on chr5 (minCount=-0.4), total tags positions = 209463\n",
      "\t\tFinding peaks on chr3 (minCount=-0.0), total tags positions = 361506\n",
      "\t\tFinding peaks on chr5 (minCount=-0.3), total tags positions = 235812\n",
      "\t\tFinding peaks on chr6 (minCount=-0.4), total tags positions = 212432\n",
      "\t\tFinding peaks on chr3 (minCount=0.3), total tags positions = 463249\n",
      "\t\tFinding peaks on chr4 (minCount=-0.0), total tags positions = 341390\n",
      "\t\tFinding peaks on chr6 (minCount=-0.3), total tags positions = 242671\n",
      "\t\tFinding peaks on chr7 (minCount=-0.4), total tags positions = 198963\n",
      "\t\tFinding peaks on chr8 (minCount=-0.4), total tags positions = 182362\n",
      "\t\tFinding peaks on chr7 (minCount=-0.3), total tags positions = 228626\n",
      "\t\tFinding peaks on chr5 (minCount=-0.0), total tags positions = 341525\n",
      "\t\tFinding peaks on chr9 (minCount=-0.4), total tags positions = 180869\n",
      "\t\tFinding peaks on chr4 (minCount=0.3), total tags positions = 449620\n",
      "\t\tFinding peaks on chr8 (minCount=-0.3), total tags positions = 214705\n",
      "\t\tFinding peaks on chr10 (minCount=-0.4), total tags positions = 198523\n",
      "\t\tFinding peaks on chr9 (minCount=-0.3), total tags positions = 204779\n",
      "\t\tFinding peaks on chr6 (minCount=-0.0), total tags positions = 346462\n",
      "\t\tFinding peaks on chr11 (minCount=-0.4), total tags positions = 173868\n",
      "\t\tFinding peaks on chr5 (minCount=0.3), total tags positions = 440550\n",
      "\t\tFinding peaks on chr10 (minCount=-0.3), total tags positions = 224245\n",
      "\t\tFinding peaks on chr12 (minCount=-0.4), total tags positions = 163691\n",
      "\t\tFinding peaks on chr7 (minCount=-0.0), total tags positions = 328758\n",
      "\t\tFinding peaks on chr11 (minCount=-0.3), total tags positions = 190964\n",
      "\t\tFinding peaks on chr13 (minCount=-0.4), total tags positions = 178683\n",
      "\t\tFinding peaks on chr14 (minCount=-0.4), total tags positions = 154124\n",
      "\t\tFinding peaks on chr12 (minCount=-0.3), total tags positions = 188778\n",
      "\t\tFinding peaks on chr6 (minCount=0.3), total tags positions = 442135\n",
      "\t\tFinding peaks on chr8 (minCount=-0.0), total tags positions = 290410\n",
      "\t\tFinding peaks on chr15 (minCount=-0.4), total tags positions = 146670\n",
      "\t\tFinding peaks on chr13 (minCount=-0.3), total tags positions = 202353\n",
      "\t\tFinding peaks on chr16 (minCount=-0.4), total tags positions = 136713\n",
      "\t\tFinding peaks on chr9 (minCount=-0.0), total tags positions = 293906\n",
      "\t\tFinding peaks on chr14 (minCount=-0.3), total tags positions = 179282\n",
      "\t\tFinding peaks on chr17 (minCount=-0.4), total tags positions = 135189\n",
      "\t\tFinding peaks on chr7 (minCount=0.3), total tags positions = 427613\n",
      "\t\tFinding peaks on chr18 (minCount=-0.4), total tags positions = 130726\n",
      "\t\tFinding peaks on chr15 (minCount=-0.3), total tags positions = 165061\n",
      "\t\tFinding peaks on chr19 (minCount=-0.4), total tags positions = 84819\n",
      "\t\tFinding peaks on chr10 (minCount=-0.0), total tags positions = 345585\n",
      "\t\tFinding peaks on chr16 (minCount=-0.3), total tags positions = 154518\n",
      "\t\tFinding peaks on chrX (minCount=-0.4), total tags positions = 95846\n",
      "\t\tFinding peaks on chrY (minCount=-0.4), total tags positions = 3126\n",
      "\t\tFinding peaks on chr1_GL456210_random (minCount=-0.4), total tags positions = 36\n",
      "\t\tFinding peaks on chr1_GL456211_random (minCount=-0.4), total tags positions = 55\n",
      "\t\tFinding peaks on chr1_GL456212_random (minCount=-0.4), total tags positions = 63\n",
      "\t\tFinding peaks on chr1_GL456221_random (minCount=-0.4), total tags positions = 41\n",
      "\t\tFinding peaks on chr4_GL456216_random (minCount=-0.4), total tags positions = 277\n",
      "\t\tFinding peaks on chr4_JH584292_random (minCount=-0.4), total tags positions = 7\n",
      "\t\tFinding peaks on chr4_JH584295_random (minCount=-0.4), total tags positions = 6\n",
      "\t\tFinding peaks on chr5_GL456354_random (minCount=-0.4), total tags positions = 2\n",
      "\t\tFinding peaks on chr5_JH584296_random (minCount=-0.4), total tags positions = 4\n",
      "\t\tFinding peaks on chr5_JH584297_random (minCount=-0.4), total tags positions = 1\n",
      "\t\tFinding peaks on chr5_JH584299_random (minCount=-0.4), total tags positions = 54\n",
      "\t\tFinding peaks on chrUn_GL456239 (minCount=-0.4), total tags positions = 137\n",
      "\t\tFinding peaks on chrUn_GL456359 (minCount=-0.4), total tags positions = 150\n",
      "\t\tFinding peaks on chrUn_GL456360 (minCount=-0.4), total tags positions = 23\n",
      "\t\tFinding peaks on chrUn_GL456366 (minCount=-0.4), total tags positions = 35\n",
      "\t\tFinding peaks on chrUn_GL456367 (minCount=-0.4), total tags positions = 20\n",
      "\t\tFinding peaks on chrUn_GL456368 (minCount=-0.4), total tags positions = 12\n",
      "\t\tFinding peaks on chrUn_GL456370 (minCount=-0.4), total tags positions = 7\n",
      "\t\tFinding peaks on chrUn_GL456372 (minCount=-0.4), total tags positions = 7\n",
      "\t\tFinding peaks on chrUn_GL456378 (minCount=-0.4), total tags positions = 18\n",
      "\t\tFinding peaks on chrUn_GL456379 (minCount=-0.4), total tags positions = 23\n",
      "\t\tFinding peaks on chrUn_GL456381 (minCount=-0.4), total tags positions = 16\n",
      "\t\tFinding peaks on chrUn_GL456382 (minCount=-0.4), total tags positions = 3\n",
      "\t\tFinding peaks on chrUn_GL456383 (minCount=-0.4), total tags positions = 36\n",
      "\t\tFinding peaks on chrUn_GL456385 (minCount=-0.4), total tags positions = 29\n",
      "\t\tFinding peaks on chrUn_GL456387 (minCount=-0.4), total tags positions = 60\n",
      "\t\tFinding peaks on chrUn_GL456389 (minCount=-0.4), total tags positions = 24\n",
      "\t\tFinding peaks on chrUn_GL456390 (minCount=-0.4), total tags positions = 22\n",
      "\t\tFinding peaks on chrUn_GL456392 (minCount=-0.4), total tags positions = 105\n",
      "\t\tFinding peaks on chrUn_GL456393 (minCount=-0.4), total tags positions = 89\n",
      "\t\tFinding peaks on chrUn_GL456394 (minCount=-0.4), total tags positions = 19\n",
      "\t\tFinding peaks on chrUn_GL456396 (minCount=-0.4), total tags positions = 14\n",
      "\t\tFinding peaks on chrUn_JH584304 (minCount=-0.4), total tags positions = 3824\n",
      "\t\tFinding peaks on chrX_GL456233_random (minCount=-0.4), total tags positions = 366\n",
      "\t\tFinding peaks on chr8 (minCount=0.3), total tags positions = 385037\n",
      "\t\tFinding peaks on chr17 (minCount=-0.3), total tags positions = 149643\n",
      "\t\tFinding peaks on chr11 (minCount=-0.0), total tags positions = 307992\n",
      "\t\tFinding peaks on chr18 (minCount=-0.3), total tags positions = 150231\n",
      "\t\tFinding peaks on chr19 (minCount=-0.3), total tags positions = 92826\n",
      "\t\tFinding peaks on chr9 (minCount=0.3), total tags positions = 383535\n",
      "\t\tFinding peaks on chrX (minCount=-0.3), total tags positions = 111072\n",
      "\t\tFinding peaks on chr12 (minCount=-0.0), total tags positions = 260044\n",
      "\t\tFinding peaks on chrY (minCount=-0.3), total tags positions = 4178\n",
      "\t\tFinding peaks on chr1_GL456210_random (minCount=-0.3), total tags positions = 63\n",
      "\t\tFinding peaks on chr1_GL456211_random (minCount=-0.3), total tags positions = 116\n",
      "\t\tFinding peaks on chr1_GL456212_random (minCount=-0.3), total tags positions = 77\n",
      "\t\tFinding peaks on chr1_GL456221_random (minCount=-0.3), total tags positions = 47\n",
      "\t\tFinding peaks on chr4_GL456216_random (minCount=-0.3), total tags positions = 260\n",
      "\t\tFinding peaks on chr4_JH584292_random (minCount=-0.3), total tags positions = 20\n",
      "\t\tFinding peaks on chr4_JH584295_random (minCount=-0.3), total tags positions = 7\n",
      "\t\tFinding peaks on chr5_GL456354_random (minCount=-0.3), total tags positions = 9\n",
      "\t\tFinding peaks on chr5_JH584296_random (minCount=-0.3), total tags positions = 2\n",
      "\t\tFinding peaks on chr5_JH584297_random (minCount=-0.3), total tags positions = 4\n",
      "\t\tFinding peaks on chr5_JH584299_random (minCount=-0.3), total tags positions = 51\n",
      "\t\tFinding peaks on chrUn_GL456239 (minCount=-0.3), total tags positions = 195\n",
      "\t\tFinding peaks on chrUn_GL456359 (minCount=-0.3), total tags positions = 172\n",
      "\t\tFinding peaks on chrUn_GL456360 (minCount=-0.3), total tags positions = 18\n",
      "\t\tFinding peaks on chrUn_GL456366 (minCount=-0.3), total tags positions = 29\n",
      "\t\tFinding peaks on chrUn_GL456367 (minCount=-0.3), total tags positions = 15\n",
      "\t\tFinding peaks on chrUn_GL456368 (minCount=-0.3), total tags positions = 13\n",
      "\t\tFinding peaks on chrUn_GL456370 (minCount=-0.3), total tags positions = 15\n",
      "\t\tFinding peaks on chrUn_GL456372 (minCount=-0.3), total tags positions = 12\n",
      "\t\tFinding peaks on chrUn_GL456378 (minCount=-0.3), total tags positions = 39\n",
      "\t\tFinding peaks on chrUn_GL456379 (minCount=-0.3), total tags positions = 35\n",
      "\t\tFinding peaks on chrUn_GL456381 (minCount=-0.3), total tags positions = 33\n",
      "\t\tFinding peaks on chrUn_GL456382 (minCount=-0.3), total tags positions = 6\n",
      "\t\tFinding peaks on chrUn_GL456383 (minCount=-0.3), total tags positions = 35\n",
      "\t\tFinding peaks on chrUn_GL456385 (minCount=-0.3), total tags positions = 35\n",
      "\t\tFinding peaks on chrUn_GL456387 (minCount=-0.3), total tags positions = 68\n",
      "\t\tFinding peaks on chrUn_GL456389 (minCount=-0.3), total tags positions = 46\n",
      "\t\tFinding peaks on chrUn_GL456390 (minCount=-0.3), total tags positions = 27\n",
      "\t\tFinding peaks on chrUn_GL456392 (minCount=-0.3), total tags positions = 142\n",
      "\t\tFinding peaks on chrUn_GL456393 (minCount=-0.3), total tags positions = 141\n",
      "\t\tFinding peaks on chrUn_GL456394 (minCount=-0.3), total tags positions = 23\n",
      "\t\tFinding peaks on chrUn_GL456396 (minCount=-0.3), total tags positions = 21\n",
      "\t\tFinding peaks on chrUn_JH584304 (minCount=-0.3), total tags positions = 5526\n",
      "\t\tFinding peaks on chrX_GL456233_random (minCount=-0.3), total tags positions = 409\n",
      "\t\tFinding peaks on chrY_JH584300_random (minCount=-0.3), total tags positions = 1\n",
      "\t\tTags Used for cluster (less clonal tags) = 3578940.0 / 5746574.0\n",
      "\tExpected tags per peak = 0.357894 (tbp = 0.001789)\n",
      "\t\tFinding peaks on chr13 (minCount=-0.0), total tags positions = 297083\n",
      "\t\tFinding peaks on chr10 (minCount=0.3), total tags positions = 430963\n",
      "\t\tThreshold\tPeak Count\tExpected Peak Count\tFDR\tPoisson\n",
      "\t\t6\t56421.000\t42.996\t7.62e-04\t2.15e-06\n",
      "\t\t5\t65745.000\t727.206\t1.11e-02\t3.64e-05\n",
      "\t\t4\t82595.000\t10286.043\t1.25e-01\t5.14e-04\n",
      "\t\t3\t136578.000\t117120.319\t8.58e-01\t5.86e-03\n",
      "\t\t2\t401768.000\t1012644.777\t1.00e+00\t5.06e-02\n",
      "\t\t1\t1435138.000\t6017056.430\t1.00e+00\t3.01e-01\n",
      "\t\t0\t1435138.000\t19999999.996\t1.00e+00\t1.00e+00\n",
      "\t90.00% FDR Threshold set at 3.0 (poisson pvalue ~ 5.86e-03)\n",
      "\t\tFinding peaks on chr14 (minCount=-0.0), total tags positions = 232400\n",
      "\t136578 peaks passed threshold\n",
      "\t\tFinding peaks on chr11 (minCount=0.3), total tags positions = 403758\n",
      "\t\tFinding peaks on chr15 (minCount=-0.0), total tags positions = 239543\n",
      "\t\tTags Used for cluster (less clonal tags) = 4074446.0 / 6737504.0\n",
      "\tExpected tags per peak = 0.407445 (tbp = 0.002037)\n",
      "\t\tFinding peaks on chr16 (minCount=-0.0), total tags positions = 223528\n",
      "\t\tFinding peaks on chr12 (minCount=0.3), total tags positions = 336436\n",
      "\t\tThreshold\tPeak Count\tExpected Peak Count\tFDR\tPoisson\n",
      "\t\t7\t46466.000\t5.184\t1.12e-04\t2.59e-07\n",
      "\t\t6\t53165.000\t89.743\t1.69e-03\t4.49e-06\n",
      "\t\t5\t63219.000\t1334.947\t2.11e-02\t6.67e-05\n",
      "\t\t4\t85528.000\t16615.605\t1.94e-01\t8.31e-04\n",
      "\t\t3\t169954.000\t166630.189\t9.80e-01\t8.33e-03\n",
      "\t\t2\t545919.000\t1271182.235\t1.00e+00\t6.36e-02\n",
      "\t\t1\t1688085.000\t6693033.731\t1.00e+00\t3.35e-01\n",
      "\t\t0\t1688085.000\t19999999.994\t1.00e+00\t1.00e+00\n",
      "\t90.00% FDR Threshold set at 4.0 (poisson pvalue ~ 8.31e-04)\n",
      "\t\tFinding peaks on chr17 (minCount=-0.0), total tags positions = 231242\n",
      "\t85528 peaks passed threshold\n",
      "\t\tFinding peaks on chr18 (minCount=-0.0), total tags positions = 205176\n",
      "\t\tFinding peaks on chr13 (minCount=0.3), total tags positions = 376041\n",
      "\t\tFinding peaks on chr19 (minCount=-0.0), total tags positions = 145467\n",
      "\t\tFinding peaks on chrX (minCount=-0.0), total tags positions = 140379\n",
      "\t\tFinding peaks on chrY (minCount=-0.0), total tags positions = 3519\n",
      "\t\tFinding peaks on chr14 (minCount=0.3), total tags positions = 310129\n",
      "\t\tFinding peaks on chr1_GL456210_random (minCount=-0.0), total tags positions = 32\n",
      "\t\tFinding peaks on chr1_GL456211_random (minCount=-0.0), total tags positions = 67\n",
      "\t\tFinding peaks on chr1_GL456212_random (minCount=-0.0), total tags positions = 41\n",
      "\t\tFinding peaks on chr1_GL456221_random (minCount=-0.0), total tags positions = 34\n",
      "\t\tFinding peaks on chr4_GL456216_random (minCount=-0.0), total tags positions = 593\n",
      "\t\tFinding peaks on chr4_GL456350_random (minCount=-0.0), total tags positions = 1\n",
      "\t\tFinding peaks on chr4_JH584292_random (minCount=-0.0), total tags positions = 10\n",
      "\t\tFinding peaks on chr4_JH584295_random (minCount=-0.0), total tags positions = 22\n",
      "\t\tFinding peaks on chr5_GL456354_random (minCount=-0.0), total tags positions = 4\n",
      "\t\tFinding peaks on chr5_JH584296_random (minCount=-0.0), total tags positions = 3\n",
      "\t\tFinding peaks on chr5_JH584297_random (minCount=-0.0), total tags positions = 1\n",
      "\t\tFinding peaks on chr5_JH584299_random (minCount=-0.0), total tags positions = 36\n",
      "\t\tFinding peaks on chrUn_GL456239 (minCount=-0.0), total tags positions = 128\n",
      "\t\tFinding peaks on chrUn_GL456359 (minCount=-0.0), total tags positions = 242\n",
      "\t\tFinding peaks on chrUn_GL456360 (minCount=-0.0), total tags positions = 11\n",
      "\t\tFinding peaks on chrUn_GL456366 (minCount=-0.0), total tags positions = 19\n",
      "\t\tFinding peaks on chrUn_GL456367 (minCount=-0.0), total tags positions = 10\n",
      "\t\tFinding peaks on chrUn_GL456368 (minCount=-0.0), total tags positions = 4\n",
      "\t\tFinding peaks on chrUn_GL456370 (minCount=-0.0), total tags positions = 8\n",
      "\t\tFinding peaks on chrUn_GL456372 (minCount=-0.0), total tags positions = 16\n",
      "\t\tFinding peaks on chrUn_GL456378 (minCount=-0.0), total tags positions = 22\n",
      "\t\tFinding peaks on chrUn_GL456379 (minCount=-0.0), total tags positions = 31\n",
      "\t\tFinding peaks on chrUn_GL456381 (minCount=-0.0), total tags positions = 18\n",
      "\t\tFinding peaks on chrUn_GL456382 (minCount=-0.0), total tags positions = 7\n",
      "\t\tFinding peaks on chrUn_GL456383 (minCount=-0.0), total tags positions = 30\n",
      "\t\tFinding peaks on chrUn_GL456385 (minCount=-0.0), total tags positions = 14\n",
      "\t\tFinding peaks on chrUn_GL456387 (minCount=-0.0), total tags positions = 47\n",
      "\t\tFinding peaks on chrUn_GL456389 (minCount=-0.0), total tags positions = 24\n",
      "\t\tFinding peaks on chrUn_GL456390 (minCount=-0.0), total tags positions = 20\n",
      "\t\tFinding peaks on chrUn_GL456392 (minCount=-0.0), total tags positions = 105\n",
      "\t\tFinding peaks on chrUn_GL456393 (minCount=-0.0), total tags positions = 99\n",
      "\t\tFinding peaks on chrUn_GL456394 (minCount=-0.0), total tags positions = 11\n",
      "\t\tFinding peaks on chrUn_GL456396 (minCount=-0.0), total tags positions = 9\n",
      "\t\tFinding peaks on chrUn_JH584304 (minCount=-0.0), total tags positions = 6445\n",
      "\t\tFinding peaks on chrX_GL456233_random (minCount=-0.0), total tags positions = 563\n",
      "\t\tFinding peaks on chr15 (minCount=0.3), total tags positions = 308908\n",
      "\t\tFinding peaks on chr16 (minCount=0.3), total tags positions = 284081\n",
      "\t\tTags Used for cluster (less clonal tags) = 5860230.0 / 9726543.0\n",
      "\tExpected tags per peak = 0.586023 (tbp = 0.002930)\n",
      "\t\tFinding peaks on chr17 (minCount=0.3), total tags positions = 297788\n",
      "\t\tThreshold\tPeak Count\tExpected Peak Count\tFDR\tPoisson\n",
      "\t\t7\t87992.000\t56.525\t6.42e-04\t2.83e-06\n",
      "\t\t6\t97795.000\t682.676\t6.98e-03\t3.41e-05\n",
      "\t\t5\t110985.000\t7093.522\t6.39e-02\t3.55e-04\n",
      "\t\t4\t133146.000\t61791.437\t4.64e-01\t3.09e-03\n",
      "\t\t3\t190996.000\t435141.403\t1.00e+00\t2.18e-02\n",
      "\t\t2\t443455.000\t2346414.464\t1.00e+00\t1.17e-01\n",
      "\t\t1\t1439811.000\t8869275.008\t1.00e+00\t4.43e-01\n",
      "\t\t0\t1439811.000\t19999999.986\t1.00e+00\t1.00e+00\n",
      "\t90.00% FDR Threshold set at 4.0 (poisson pvalue ~ 3.09e-03)\n",
      "\t133146 peaks passed threshold\n",
      "\t\tFinding peaks on chr18 (minCount=0.3), total tags positions = 268009\n",
      "\t\tFinding peaks on chr19 (minCount=0.3), total tags positions = 184777\n",
      "\t\tFinding peaks on chrX (minCount=0.3), total tags positions = 183136\n",
      "\t\tFinding peaks on chrY (minCount=0.3), total tags positions = 5044\n",
      "\t\tFinding peaks on chr1_GL456210_random (minCount=0.3), total tags positions = 51\n",
      "\t\tFinding peaks on chr1_GL456211_random (minCount=0.3), total tags positions = 119\n",
      "\t\tFinding peaks on chr1_GL456212_random (minCount=0.3), total tags positions = 69\n",
      "\t\tFinding peaks on chr1_GL456221_random (minCount=0.3), total tags positions = 67\n",
      "\t\tFinding peaks on chr4_GL456216_random (minCount=0.3), total tags positions = 697\n",
      "\t\tFinding peaks on chr4_JH584292_random (minCount=0.3), total tags positions = 19\n",
      "\t\tFinding peaks on chr4_JH584295_random (minCount=0.3), total tags positions = 31\n",
      "\t\tFinding peaks on chr5_GL456354_random (minCount=0.3), total tags positions = 16\n",
      "\t\tFinding peaks on chr5_JH584297_random (minCount=0.3), total tags positions = 1\n",
      "\t\tFinding peaks on chr5_JH584299_random (minCount=0.3), total tags positions = 75\n",
      "\t\tFinding peaks on chrUn_GL456239 (minCount=0.3), total tags positions = 204\n",
      "\t\tFinding peaks on chrUn_GL456359 (minCount=0.3), total tags positions = 264\n",
      "\t\tFinding peaks on chrUn_GL456360 (minCount=0.3), total tags positions = 31\n",
      "\t\tFinding peaks on chrUn_GL456366 (minCount=0.3), total tags positions = 42\n",
      "\t\tFinding peaks on chrUn_GL456367 (minCount=0.3), total tags positions = 14\n",
      "\t\tFinding peaks on chrUn_GL456368 (minCount=0.3), total tags positions = 17\n",
      "\t\tFinding peaks on chrUn_GL456370 (minCount=0.3), total tags positions = 13\n",
      "\t\tFinding peaks on chrUn_GL456372 (minCount=0.3), total tags positions = 16\n",
      "\t\tFinding peaks on chrUn_GL456378 (minCount=0.3), total tags positions = 33\n",
      "\t\tFinding peaks on chrUn_GL456379 (minCount=0.3), total tags positions = 27\n",
      "\t\tFinding peaks on chrUn_GL456381 (minCount=0.3), total tags positions = 36\n",
      "\t\tFinding peaks on chrUn_GL456382 (minCount=0.3), total tags positions = 10\n",
      "\t\tFinding peaks on chrUn_GL456383 (minCount=0.3), total tags positions = 28\n",
      "\t\tFinding peaks on chrUn_GL456385 (minCount=0.3), total tags positions = 26\n",
      "\t\tFinding peaks on chrUn_GL456387 (minCount=0.3), total tags positions = 62\n",
      "\t\tFinding peaks on chrUn_GL456389 (minCount=0.3), total tags positions = 34\n",
      "\t\tFinding peaks on chrUn_GL456390 (minCount=0.3), total tags positions = 20\n",
      "\t\tFinding peaks on chrUn_GL456392 (minCount=0.3), total tags positions = 124\n",
      "\t\tFinding peaks on chrUn_GL456393 (minCount=0.3), total tags positions = 115\n",
      "\t\tFinding peaks on chrUn_GL456394 (minCount=0.3), total tags positions = 27\n",
      "\t\tFinding peaks on chrUn_GL456396 (minCount=0.3), total tags positions = 22\n",
      "\t\tFinding peaks on chrUn_JH584304 (minCount=0.3), total tags positions = 6575\n",
      "\t\tFinding peaks on chrX_GL456233_random (minCount=0.3), total tags positions = 624\n",
      "\t\tTags Used for cluster (less clonal tags) = 7556488.0 / 12733303.0\n",
      "\tExpected tags per peak = 0.755649 (tbp = 0.003778)\n",
      "\tTotal Peaks identified = 136578\n",
      "\t\tThreshold\tPeak Count\tExpected Peak Count\tFDR\tPoisson\n",
      "\t\t8\t81435.000\t27.016\t3.32e-04\t1.35e-06\n",
      "\t\t7\t89592.000\t289.236\t3.23e-03\t1.45e-05\n",
      "\t\t6\t100891.000\t2718.324\t2.69e-02\t1.36e-04\n",
      "\t\t5\t119338.000\t22005.764\t1.84e-01\t1.10e-03\n",
      "\t\t4\t162884.000\t149627.490\t9.19e-01\t7.48e-03\n",
      "\t\t3\t312892.000\t825188.555\t1.00e+00\t4.13e-02\n",
      "\t\t2\t831851.000\t3507232.462\t1.00e+00\t1.75e-01\n",
      "\t\t1\t1982990.000\t10605884.484\t1.00e+00\t5.30e-01\n",
      "\t\t0\t1982990.000\t19999999.976\t1.00e+00\t1.00e+00\n",
      "\t90.00% FDR Threshold set at 5.0 (poisson pvalue ~ 1.10e-03)\n",
      "\tCentering peaks of size 200 using a fragment length of 67\n",
      "\t119338 peaks passed threshold\n",
      "\tTotal Peaks identified = 85528\n",
      "\tCentering peaks of size 200 using a fragment length of 67\n",
      "\tTotal Peaks identified = 133146\n",
      "\tCentering peaks of size 200 using a fragment length of 77\n",
      "\tTotal Peaks identified = 119338\n",
      "\tCentering peaks of size 200 using a fragment length of 67\n"
     ]
    }
   ],
   "source": [
    "%%bash\n",
    "findPeaks /home/jenhan/analysis/atac_analysis//tag_directories_atac//C57Bl6_Thiomac_ATAC_KLA-1h-2_SD_16-03-22 -L 0 -C 0 -fdr 0.9 -style factor -size 200  > /home/jenhan/analysis/atac_analysis/peak_files/C57Bl6_Thiomac_ATAC_KLA-1h-2_SD_16-03-22_peaks.tsv &\n",
    "findPeaks /home/jenhan/analysis/atac_analysis//tag_directories_atac//C57Bl6_Thiomac_ATAC_KLA-1h-1_SD_16-03-22 -L 0 -C 0 -fdr 0.9 -style factor -size 200  > /home/jenhan/analysis/atac_analysis/peak_files/C57Bl6_Thiomac_ATAC_KLA-1h-1_SD_16-03-22_peaks.tsv &\n",
    "findPeaks /home/jenhan/analysis/atac_analysis//tag_directories_atac//C57Bl6_Thiomac_ATAC_Veh_SD_16-03-22-and-16-04-11 -L 0 -C 0 -fdr 0.9 -style factor -size 200  > /home/jenhan/analysis/atac_analysis/peak_files/C57Bl6_Thiomac_ATAC_Veh_SD_16-03-22-and-16-04-11_peaks.tsv &\n",
    "findPeaks /home/jenhan/analysis/atac_analysis//tag_directories_atac//C57Bl6_Thiomac_ATAC_Veh_SD_16-03-22 -L 0 -C 0 -fdr 0.9 -style factor -size 200  > /home/jenhan/analysis/atac_analysis/peak_files/C57Bl6_Thiomac_ATAC_Veh_SD_16-03-22_peaks.tsv &"
   ]
  },
  {
   "cell_type": "markdown",
   "metadata": {},
   "source": [
    "### Run IDR"
   ]
  },
  {
   "cell_type": "code",
   "execution_count": 12,
   "metadata": {
    "collapsed": false
   },
   "outputs": [
    {
     "name": "stdout",
     "output_type": "stream",
     "text": [
      "python /home/jenhan/code/seq_merge_pipe/run_idr_homerPeaks.py /home/jenhan/analysis/atac_analysis/peak_files/C57Bl6_Thiomac_ATAC_KLA-1h-2_SD_16-03-22_peaks.tsv /home/jenhan/analysis/atac_analysis/peak_files/C57Bl6_Thiomac_ATAC_KLA-1h-1_SD_16-03-22_peaks.tsv /home/jenhan/analysis/atac_analysis/idr_atac/ &\n",
      "python /home/jenhan/code/seq_merge_pipe/run_idr_homerPeaks.py /home/jenhan/analysis/atac_analysis/peak_files/C57Bl6_Thiomac_ATAC_Veh_SD_16-03-22-and-16-04-11_peaks.tsv /home/jenhan/analysis/atac_analysis/peak_files/C57Bl6_Thiomac_ATAC_Veh_SD_16-03-22_peaks.tsv /home/jenhan/analysis/atac_analysis/idr_atac/ &\n"
     ]
    }
   ],
   "source": [
    "! rm ./idr_atac/*\n",
    "idrDirectory = '/home/jenhan/analysis/atac_analysis/idr_atac/'\n",
    "\n",
    "! if [ ! -d $idrDirectory ]; then mkdir $idrDirectory; fi\n",
    "\n",
    "replicateIndices = []\n",
    "for index in set(filtered_summary_frame_atac.index):\n",
    "    factor_treatment_rows = filtered_summary_frame_atac.loc[index]\n",
    "    if len(factor_treatment_rows) > 1:       \n",
    "        replicateIndices.append(index)\n",
    "\n",
    "# homer peaks\n",
    "for ri in replicateIndices:\n",
    "    samples = filtered_summary_frame_atac.ix[ri, 'sampleName'].values\n",
    "    for i in range(len(samples) - 1):\n",
    "        for j in range(i+1, len(samples)):\n",
    "            sample1 = samples[i]\n",
    "            sample2 = samples[j]\n",
    "            peakFile1 = peakDirectory + '/' + sample1 + '_peaks.tsv'\n",
    "            peakFile2 = peakDirectory + '/' + sample2 + '_peaks.tsv'\n",
    "            !echo \"python /home/jenhan/code/seq_merge_pipe/run_idr_homerPeaks.py $peakFile1 $peakFile2 $idrDirectory &\"\n",
    "            "
   ]
  },
  {
   "cell_type": "code",
   "execution_count": 13,
   "metadata": {
    "collapsed": false
   },
   "outputs": [
    {
     "name": "stdout",
     "output_type": "stream",
     "text": [
      "Performing IDR analysis on the following samples: /home/jenhan/analysis/atac_analysis/peak_files/C57Bl6_Thiomac_ATAC_Veh_SD_16-03-22-and-16-04-11_peaks.tsv, /home/jenhan/analysis/atac_analysis/peak_files/C57Bl6_Thiomac_ATAC_Veh_SD_16-03-22_peaks.tsv\n",
      "Output files will be written to: /home/jenhan/analysis/atac_analysis/idr_atac/\n",
      "Using the following IDR threshold: 0.05\n",
      "Peaks will be ranked using: findPeaks Score\n",
      "Other available scoreColumns: ['Normalized Tag Count' 'focus ratio' 'findPeaks Score' 'Score']\n",
      "idr --samples /home/jenhan/analysis/atac_analysis/idr_atac//C57Bl6_Thiomac_ATAC_Veh_SD_16-03-22-and-16-04-11_peaks.narrowPeak /home/jenhan/analysis/atac_analysis/idr_atac//C57Bl6_Thiomac_ATAC_Veh_SD_16-03-22_peaks.narrowPeak --output-file /home/jenhan/analysis/atac_analysis/idr_atac//C57Bl6_Thiomac_ATAC_Veh_SD_16-03-22-and-16-04-11_peaks_C57Bl6_Thiomac_ATAC_Veh_SD_16-03-22_peaks_idr.out --plot --idr-threshold 0.05 &\n",
      "Performing IDR analysis on the following samples: /home/jenhan/analysis/atac_analysis/peak_files/C57Bl6_Thiomac_ATAC_KLA-1h-2_SD_16-03-22_peaks.tsv, /home/jenhan/analysis/atac_analysis/peak_files/C57Bl6_Thiomac_ATAC_KLA-1h-1_SD_16-03-22_peaks.tsv\n",
      "Output files will be written to: /home/jenhan/analysis/atac_analysis/idr_atac/\n",
      "Using the following IDR threshold: 0.05\n",
      "Peaks will be ranked using: findPeaks Score\n",
      "Other available scoreColumns: ['Normalized Tag Count' 'focus ratio' 'findPeaks Score' 'Score']\n",
      "idr --samples /home/jenhan/analysis/atac_analysis/idr_atac//C57Bl6_Thiomac_ATAC_KLA-1h-2_SD_16-03-22_peaks.narrowPeak /home/jenhan/analysis/atac_analysis/idr_atac//C57Bl6_Thiomac_ATAC_KLA-1h-1_SD_16-03-22_peaks.narrowPeak --output-file /home/jenhan/analysis/atac_analysis/idr_atac//C57Bl6_Thiomac_ATAC_KLA-1h-2_SD_16-03-22_peaks_C57Bl6_Thiomac_ATAC_KLA-1h-1_SD_16-03-22_peaks_idr.out --plot --idr-threshold 0.05 &\n"
     ]
    },
    {
     "name": "stderr",
     "output_type": "stream",
     "text": [
      "Initial parameter values: [0.10 1.00 0.20 0.50]\n",
      "Initial parameter values: [0.10 1.00 0.20 0.50]\n",
      "Final parameter values: [2.12 1.48 0.93 0.63]\n",
      "/bioinformatics/software/anaconda3/lib/python3.4/site-packages/idr-2.0.2-py3.4-linux-x86_64.egg/idr/idr.py:415: FutureWarning: comparison to `None` will result in an elementwise object comparison in the future.\n",
      "  if localIDRs == None or IDRs == None:\n",
      "Number of reported peaks - 34036/63788 (53.4%)\n",
      "\n",
      "Number of peaks passing IDR cutoff of 0.05 - 34036/63788 (53.4%)\n",
      "\n",
      "Final parameter values: [2.64 1.64 0.96 0.66]\n",
      "/bioinformatics/software/anaconda3/lib/python3.4/site-packages/idr-2.0.2-py3.4-linux-x86_64.egg/idr/idr.py:415: FutureWarning: comparison to `None` will result in an elementwise object comparison in the future.\n",
      "  if localIDRs == None or IDRs == None:\n",
      "Number of reported peaks - 59389/96847 (61.3%)\n",
      "\n",
      "Number of peaks passing IDR cutoff of 0.05 - 59389/96847 (61.3%)\n",
      "\n"
     ]
    }
   ],
   "source": [
    "%%bash\n",
    "python /home/jenhan/code/seq_merge_pipe/run_idr_homerPeaks.py /home/jenhan/analysis/atac_analysis/peak_files/C57Bl6_Thiomac_ATAC_KLA-1h-2_SD_16-03-22_peaks.tsv /home/jenhan/analysis/atac_analysis/peak_files/C57Bl6_Thiomac_ATAC_KLA-1h-1_SD_16-03-22_peaks.tsv /home/jenhan/analysis/atac_analysis/idr_atac/ &\n",
    "python /home/jenhan/code/seq_merge_pipe/run_idr_homerPeaks.py /home/jenhan/analysis/atac_analysis/peak_files/C57Bl6_Thiomac_ATAC_Veh_SD_16-03-22-and-16-04-11_peaks.tsv /home/jenhan/analysis/atac_analysis/peak_files/C57Bl6_Thiomac_ATAC_Veh_SD_16-03-22_peaks.tsv /home/jenhan/analysis/atac_analysis/idr_atac/ &"
   ]
  },
  {
   "cell_type": "code",
   "execution_count": 14,
   "metadata": {
    "collapsed": false
   },
   "outputs": [
    {
     "name": "stdout",
     "output_type": "stream",
     "text": [
      "cp /home/jenhan/analysis/atac_analysis/idr_atac//C57Bl6_Thiomac_ATAC_KLA-1h-2_SD_16-03-22_peaks_C57Bl6_Thiomac_ATAC_KLA-1h-1_SD_16-03-22_peaks_idr.tsv ./idr_peak_files/C57Bl6_Thiomac_KLA_peaks.tsv\n",
      "cp /home/jenhan/analysis/atac_analysis/idr_atac//C57Bl6_Thiomac_ATAC_Veh_SD_16-03-22-and-16-04-11_peaks_C57Bl6_Thiomac_ATAC_Veh_SD_16-03-22_peaks_idr.tsv ./idr_peak_files/C57Bl6_Thiomac_Veh_peaks.tsv\n"
     ]
    }
   ],
   "source": [
    "idrDirectory = '/home/jenhan/analysis/atac_analysis/idr_atac/'\n",
    "count_dict = {}\n",
    "for f in os.listdir(idrDirectory):\n",
    "    if 'idr.tsv' in f:\n",
    "        tokens = f.split('_')\n",
    "        strain = tokens[0]\n",
    "        cellType = tokens[1]\n",
    "        treatment = tokens[3].split('-')[0]\n",
    "        condition = '_'.join([strain, cellType, treatment])\n",
    "        with open(idrDirectory + f) as file:\n",
    "            data = file.readlines()\n",
    "        numPeaks = len(data) - 1\n",
    "        if not condition in count_dict:\n",
    "            count_dict[condition] = (f, numPeaks)\n",
    "        else:\n",
    "            if numPeaks > count_dict[condition][1]:\n",
    "                count_dict[condition] = (f, numPeaks)        \n",
    "for key in count_dict:\n",
    "    idrResult = count_dict[key][0]\n",
    "    peakFileName = key+'_peaks.tsv'\n",
    "\n",
    "    !echo cp $idrDirectory/$idrResult ./idr_peak_files/$peakFileName\n",
    "    !cp $idrDirectory/$idrResult ./idr_peak_files/$peakFileName"
   ]
  },
  {
   "cell_type": "markdown",
   "metadata": {},
   "source": [
    "### Merge peak files"
   ]
  },
  {
   "cell_type": "code",
   "execution_count": 44,
   "metadata": {
    "collapsed": false
   },
   "outputs": [
    {
     "name": "stdout",
     "output_type": "stream",
     "text": [
      "\tMax distance to merge: direct overlap required (-d given)\n",
      "\tMerging peaks... \n",
      "\tComparing ./idr_peak_files/C57Bl6_Thiomac_KLA_peaks.tsv (59388 total) and ./idr_peak_files/C57Bl6_Thiomac_KLA_peaks.tsv (59388 total)\n",
      "\tComparing ./idr_peak_files/C57Bl6_Thiomac_KLA_peaks.tsv (59388 total) and ./idr_peak_files/C57Bl6_Thiomac_Veh_peaks.tsv (34035 total)\n",
      "\tComparing ./idr_peak_files/C57Bl6_Thiomac_Veh_peaks.tsv (34035 total) and ./idr_peak_files/C57Bl6_Thiomac_KLA_peaks.tsv (59388 total)\n",
      "\tComparing ./idr_peak_files/C57Bl6_Thiomac_Veh_peaks.tsv (34035 total) and ./idr_peak_files/C57Bl6_Thiomac_Veh_peaks.tsv (34035 total)\n",
      "\n",
      "Finished reading merged peak file...\n",
      "Integrating scores for C57Bl6_Thiomac_KLA\n",
      "Integrating scores for C57Bl6_Thiomac_Veh\n"
     ]
    }
   ],
   "source": [
    "! mergePeaks -d given -venn venn.txt ./idr_peak_files/* > ./merged_peaks.tsv\n",
    "! makeSummaryFile.py ./merged_peaks.tsv ./group_summary.tsv ./idr_peak_files/*"
   ]
  },
  {
   "cell_type": "code",
   "execution_count": 20,
   "metadata": {
    "collapsed": true
   },
   "outputs": [],
   "source": [
    "# read in peak data data\n",
    "peak_frame = pd.read_csv('./group_summary.tsv' , sep='\\t')\n",
    "peak_frame = peak_frame.fillna('0')\n",
    "for col in peak_frame.columns[5:]:\n",
    "    floatValues = []\n",
    "    for val in peak_frame[col].values.astype(str):\n",
    "        if ',' in val:\n",
    "            maxVal = np.max([float(x) for x in val.split(',')])\n",
    "            floatValues.append(maxVal)\n",
    "        else:\n",
    "            floatValues.append(float(val))\n",
    "    peak_frame[col] = floatValues\n",
    "peak_frame.index = peak_frame['ID'].values\n",
    "\n",
    "# remove peaks in unknown/random chromosomes\n",
    "peak_frame = peak_frame[~peak_frame['chr'].str.contains('random')]\n",
    "peak_frame = peak_frame[~peak_frame['chr'].str.contains('Un')]\n",
    "\n"
   ]
  },
  {
   "cell_type": "markdown",
   "metadata": {},
   "source": [
    "### Create background peaks from genomic sequences from each chromosome"
   ]
  },
  {
   "cell_type": "code",
   "execution_count": 63,
   "metadata": {
    "collapsed": false
   },
   "outputs": [
    {
     "name": "stdout",
     "output_type": "stream",
     "text": [
      "rm: cannot remove ‘./group_by_chromosome/chr4’: Directory not empty\r\n"
     ]
    }
   ],
   "source": [
    "! if [ ! -d ./group_by_chromosome ]; then mkdir ./group_by_chromosome; fi\n",
    "! rm -rf ./group_by_chromosome/*\n"
   ]
  },
  {
   "cell_type": "code",
   "execution_count": 64,
   "metadata": {
    "collapsed": false
   },
   "outputs": [
    {
     "name": "stdout",
     "output_type": "stream",
     "text": [
      "chr4\n",
      "chr5\n",
      "chr7\n",
      "chr6\n",
      "chr2\n",
      "chr3\n",
      "chr19\n",
      "chr1\n",
      "chr18\n",
      "chr9\n",
      "chr11\n",
      "chr10\n",
      "chr8\n",
      "chrX\n",
      "chr12\n",
      "chr13\n",
      "chr17\n",
      "chr16\n",
      "chr14\n",
      "chr15\n"
     ]
    }
   ],
   "source": [
    "peakSize = 200 # size of artificial background peaks\n",
    "N_threshold = 0.5 # throw away background peaks containing greater than this fraction of N\n",
    "\n",
    "tile_peak_file = open('./group/merged_tile_peaks.tsv','w')\n",
    "\n",
    "tile_peak_file.write('\\t'.join(['#ID', 'chr', 'start', 'end', 'strand\\n']))\n",
    "\n",
    "for f in os.listdir('./mm10_genome/'):\n",
    "    if '.fa' in f and not f in ['chrY.fa', 'chrM.fa'] :\n",
    "        current_chromosome = f.split('.')[0]\n",
    "        print(current_chromosome)\n",
    "        \n",
    "        # create seperate peak file containing just this chromosome\n",
    "        if not os.path.isdir('./group_by_chromosome/'+current_chromosome):\n",
    "            os.mkdir('./group_by_chromosome/'+current_chromosome)\n",
    "        current_tile_peak_file = open(\n",
    "            './group_by_chromosome/'+ current_chromosome + '/' + current_chromosome +'_tile_peaks.tsv','w')\n",
    "        current_tile_peak_file.write('\\t'.join(['#ID', 'chr', 'start', 'end', 'strand\\n']))\n",
    "        \n",
    "        # read in fastq file line by line\n",
    "        with open('./mm10_genome/' + f) as chromosome_file:\n",
    "            data = chromosome_file.readlines()\n",
    "        genome_seq = ''\n",
    "        for line in data[1:]:\n",
    "            genome_seq += line.strip().upper()\n",
    "        genome_seq_size = len(genome_seq)\n",
    "        \n",
    "        # create array indicating if position is N\n",
    "        is_N = [True if x == 'N' else False for x in genome_seq]\n",
    "\n",
    "        # create array indicating if position overlaps with a peak\n",
    "        # simultaneously write ATAC-seq peaks\n",
    "        is_peak = [False for x in genome_seq]\n",
    "        current_peak_frame = peak_frame[(peak_frame['chr'] == current_chromosome) &\n",
    "                                        (peak_frame['Factors'].str.contains('Veh'))] # only work with vehicle peaks for now\n",
    "\n",
    "        positions = list(zip(current_peak_frame['ID'].values, current_peak_frame['start'].values, current_peak_frame['end'].values))\n",
    "        for pos in positions:\n",
    "            ID = pos[0]\n",
    "            start = pos[1] - 1\n",
    "            end = pos[2]\n",
    "            for i in range(start, end):\n",
    "                is_peak[i] = True\n",
    "            tile_peak_file.write('\\t'.join([ID, current_chromosome, str(start), str(end), '+\\n']))  \n",
    "            current_tile_peak_file.write('\\t'.join([ID, current_chromosome, str(start), str(end), '+\\n']))  \n",
    "        \n",
    "        # write background peak files\n",
    "        for i in range(0,genome_seq_size, peakSize):\n",
    "            n_count = np.sum(is_N[i:i+peakSize+1])\n",
    "            if not n_count > peakSize * N_threshold:\n",
    "                if not np.sum(is_peak[i:i+peakSize+1]) > 0:\n",
    "                    tile_peak_file.write('\\t'.join(['tile_'+str(i), current_chromosome, str(i), str(i+peakSize), '+\\n']))        \n",
    "                    current_tile_peak_file.write('\\t'.join(['tile_'+str(i), current_chromosome, str(i), str(i+peakSize), '+\\n']))        \n",
    "\n",
    "        current_tile_peak_file.close()\n",
    "tile_peak_file.close()  "
   ]
  },
  {
   "cell_type": "markdown",
   "metadata": {},
   "source": [
    "### Extract genomic sequences for each set of peak files"
   ]
  },
  {
   "cell_type": "code",
   "execution_count": 72,
   "metadata": {
    "collapsed": false
   },
   "outputs": [
    {
     "name": "stdout",
     "output_type": "stream",
     "text": [
      "\n",
      "\tExtracting sequences from directory: /bioinformatics/homer/data/genomes/mm10\n",
      "\tExtracting 729181 sequences from chr6\n",
      "\n",
      "\tExtracting sequences from directory: /bioinformatics/homer/data/genomes/mm10\n",
      "\tExtracting 501482 sequences from chr15\n",
      "\n",
      "\tExtracting sequences from directory: /bioinformatics/homer/data/genomes/mm10\n",
      "\tExtracting 582712 sequences from chr12\n",
      "\n",
      "\tExtracting sequences from directory: /bioinformatics/homer/data/genomes/mm10\n",
      "\tExtracting 435763 sequences from chr18\n",
      "\n",
      "\tExtracting sequences from directory: /bioinformatics/homer/data/genomes/mm10\n",
      "\tExtracting 956420 sequences from chr1\n",
      "\n",
      "\tExtracting sequences from directory: /bioinformatics/homer/data/genomes/mm10\n",
      "\tExtracting 737162 sequences from chr5\n",
      "\n",
      "\tExtracting sequences from directory: /bioinformatics/homer/data/genomes/mm10\n",
      "\tExtracting 473514 sequences from chr16\n",
      "\n",
      "\tExtracting sequences from directory: /bioinformatics/homer/data/genomes/mm10\n",
      "\tExtracting 591421 sequences from chr11\n",
      "\n",
      "\tExtracting sequences from directory: /bioinformatics/homer/data/genomes/mm10\n",
      "\tExtracting 888267 sequences from chr2\n",
      "\n",
      "\tExtracting sequences from directory: /bioinformatics/homer/data/genomes/mm10\n",
      "\tExtracting 625867 sequences from chr8\n",
      "\n",
      "\tExtracting sequences from directory: /bioinformatics/homer/data/genomes/mm10\n",
      "\tExtracting 289762 sequences from chr19\n",
      "\n",
      "\tExtracting sequences from directory: /bioinformatics/homer/data/genomes/mm10\n",
      "\tExtracting 583318 sequences from chr13\n",
      "\n",
      "\tExtracting sequences from directory: /bioinformatics/homer/data/genomes/mm10\n",
      "\tExtracting 605593 sequences from chr14\n",
      "\n",
      "\tExtracting sequences from directory: /bioinformatics/homer/data/genomes/mm10\n",
      "\tExtracting 706716 sequences from chr7\n",
      "\n",
      "\tExtracting sequences from directory: /bioinformatics/homer/data/genomes/mm10\n",
      "\tExtracting 603627 sequences from chr9\n",
      "\n",
      "\tExtracting sequences from directory: /bioinformatics/homer/data/genomes/mm10\n",
      "\tExtracting 779297 sequences from chr3\n",
      "\n",
      "\tExtracting sequences from directory: /bioinformatics/homer/data/genomes/mm10\n",
      "\tExtracting 632682 sequences from chr10\n",
      "\n",
      "\tExtracting sequences from directory: /bioinformatics/homer/data/genomes/mm10\n",
      "\tExtracting 816421 sequences from chrX\n",
      "\n",
      "\tExtracting sequences from directory: /bioinformatics/homer/data/genomes/mm10\n",
      "\tExtracting 456834 sequences from chr17\n",
      "\n",
      "\tExtracting sequences from directory: /bioinformatics/homer/data/genomes/mm10\n",
      "\tExtracting 757817 sequences from chr4\n"
     ]
    }
   ],
   "source": [
    "peakDirectory =  './group_by_chromosome/'\n",
    "for chrom in os.listdir(peakDirectory):\n",
    "    peakPath = peakDirectory + chrom + '/' + chrom + '_tile_peaks.tsv'\n",
    "    seqPath = peakPath.replace('_peaks.tsv','.fa')\n",
    "    !homerTools extract $peakPath /bioinformatics/homer/data/genomes/mm10 -fa > $seqPath\n",
    "\n",
    "    "
   ]
  },
  {
   "cell_type": "markdown",
   "metadata": {},
   "source": [
    "## Scan Peaks for Motifs"
   ]
  },
  {
   "cell_type": "code",
   "execution_count": 87,
   "metadata": {
    "collapsed": false
   },
   "outputs": [],
   "source": [
    "# create a script to scan for motifs using FIMO\n",
    "! if [ ! -d ./fimo_results/ ]; then mkdir ./fimo_results/; fi\n",
    "! if [ ! -d ./fimo_out/ ]; then mkdir ./fimo_out/; fi\n",
    "\n",
    "\n",
    "pthresh = 0.01\n",
    "motif_dir = '/home/jenhan/analysis/cobinding_motif_analysis/fimo_motifs/'\n",
    "fimo_results_dir = './fimo_results'\n",
    "\n",
    "\n",
    "peakDirectory =  './group_by_chromosome/'\n",
    "for chrom in os.listdir(peakDirectory):\n",
    "    scriptFile = open('scanMotifs_' + chrom + '.sh','w')\n",
    "    for m in os.listdir(motif_dir):\n",
    "        fimo_out_dir = './fimo_out/' + chrom + '_' + m.replace('.fimo','')\n",
    "\n",
    "        if 'fimo' in m:\n",
    "            outPath = fimo_results_dir + '/' +chrom + '_'+ m.replace('.fimo','') +'.txt'\n",
    "            scriptFile.write(\n",
    "                'fimo --text --max-stored-scores 2000000 --output-pthresh ' + \n",
    "                str(pthresh)  + ' ' +\n",
    "                motif_dir + '/' + m + ' ./group_by_chromosome/' + chrom + '/' + chrom + '_tile.fa ' +\n",
    "                '> ' + outPath + ' & \\n')\n",
    "    scriptFile.close()\n",
    "\n",
    "\n",
    "\n"
   ]
  },
  {
   "cell_type": "code",
   "execution_count": null,
   "metadata": {
    "collapsed": false
   },
   "outputs": [],
   "source": [
    "%%bash\n",
    "chmod a+x ./scanMotifs*.sh\n",
    "for i in ./scanMotifs*sh; \n",
    "    do echo 'sleeping...';\n",
    "    echo $i;\n",
    "    $i;\n",
    "    sleep 5m;\n",
    "done\n"
   ]
  },
  {
   "cell_type": "markdown",
   "metadata": {},
   "source": [
    "## Read in Score Files"
   ]
  },
  {
   "cell_type": "markdown",
   "metadata": {},
   "source": [
    "### From Pickles"
   ]
  },
  {
   "cell_type": "code",
   "execution_count": null,
   "metadata": {
    "collapsed": true
   },
   "outputs": [],
   "source": [
    "motif_score_frame=pd.read_pickle('motif_score_frame.pickle')\n",
    "motif_sequence_frame = pd.read_pickle('motif_sequence_frame.pickle')\n",
    "motif_strand_frame = pd.read_pickle('motif_strand_frame.pickle')\n",
    "motif_start_frame = pd.read_pickle('motif_start_frame.pickle')\n",
    "motif_end_frame = pd.read_pickle('motif_end_frame.pickle')\n",
    "motif_count_frame = pd.read_pickle('motif_count_frame.pickle')\n",
    "peak_frame = pd.read_pickle('peak_frame.pickle')\n",
    "annotation_frame = pd.read_pickle('annotation_frame.pickle')\n",
    "\n",
    "# normed_motif_frame = pd.DataFrame(preprocessing.normalize(merged_motif_frame.ix[:,3:], axis=0))\n",
    "scaler = preprocessing.MinMaxScaler()\n",
    "normed_motif_frame = pd.DataFrame(scaler.fit_transform(motif_score_frame.ix[:,3:]))\n",
    "normed_motif_frame.columns = motif_score_frame.columns.values[3:]\n",
    "normed_motif_frame.index = motif_score_frame.index.values\n",
    "_factors = sorted(list(set([x.split('_')[1] for x in summary_frame.columns if '_' in x])))\n",
    "\n",
    "      \n",
    "### work with just intergenic peaks for now ###\n",
    "# intergenic_ids = annotation_frame[annotation_frame['Annotation'] == 'Intergenic'].index.values\n",
    "# motif_score_frame = motif_score_frame[motif_score_frame.index.isin(intergenic_ids)]\n",
    "# motif_sequence_frame = motif_sequence_frame[motif_sequence_frame.index.isin(intergenic_ids)]\n",
    "# motif_start_frame = motif_start_frame[motif_start_frame.index.isin(intergenic_ids)]\n",
    "# motif_end_frame = motif_end_frame[motif_end_frame.index.isin(intergenic_ids)]\n",
    "# motif_count_frame = motif_count_frame[motif_count_frame.index.isin(intergenic_ids)]\n",
    "# normed_motif_frame = normed_motif_frame[normed_motif_frame.index.isin(intergenic_ids)]\n",
    "# scaled_motif_frame = scaled_motif_frame[scaled_motif_frame.index.isin(intergenic_ids)]\n",
    "# summary_frame = summary_frame[summary_frame.index.isin(intergenic_ids)]\n",
    "# annotation_frame = annotation_frame[annotation_frame.index.isin(intergenic_ids)]\n",
    "\n",
    "\n",
    "### read in sequences as dictionary {peakID: sequence}\n",
    "with open('./group/merged_tile.fa') as f:\n",
    "    data = f.readlines()\n",
    "\n",
    "_id_sequence_dict = {}\n",
    "for line in data:\n",
    "    if line[0] == '>':\n",
    "        sequenceName = line.strip()[1:]\n",
    "    else:\n",
    "        _id_sequence_dict[sequenceName] = line.strip().upper()   \n",
    "        \n",
    "        \n",
    "        \n",
    "idr_rpkm_frame = pd.read_pickle('idr_rpkm_frame.pickle')\n",
    "idr_rpkm_mean_frame = pd.read_pickle('idr_rpkm_mean_frame.pickle')\n",
    "idr_rpkm_median_frame = pd.read_pickle('idr_rpkm_median_frame.pickle')"
   ]
  },
  {
   "cell_type": "markdown",
   "metadata": {},
   "source": [
    "### Motif Scores"
   ]
  },
  {
   "cell_type": "code",
   "execution_count": 92,
   "metadata": {
    "collapsed": false
   },
   "outputs": [
    {
     "name": "stdout",
     "output_type": "stream",
     "text": [
      "chr1_tile.fa  chr1_tile_peaks.tsv\r\n"
     ]
    }
   ],
   "source": [
    "!ls ./group_by_chromosome/chr1"
   ]
  },
  {
   "cell_type": "code",
   "execution_count": 100,
   "metadata": {
    "collapsed": false
   },
   "outputs": [
    {
     "data": {
      "text/html": [
       "<div style=\"max-height:1000px;max-width:1500px;overflow:auto;\">\n",
       "<table border=\"1\" class=\"dataframe\">\n",
       "  <thead>\n",
       "    <tr style=\"text-align: right;\">\n",
       "      <th></th>\n",
       "      <th>#ID</th>\n",
       "      <th>chr</th>\n",
       "      <th>start</th>\n",
       "      <th>end</th>\n",
       "      <th>strand</th>\n",
       "    </tr>\n",
       "  </thead>\n",
       "  <tbody>\n",
       "    <tr>\n",
       "      <th>0</th>\n",
       "      <td> Merged-chr4-59823711-1</td>\n",
       "      <td> chr4</td>\n",
       "      <td> 59823608</td>\n",
       "      <td> 59823813</td>\n",
       "      <td> +</td>\n",
       "    </tr>\n",
       "    <tr>\n",
       "      <th>1</th>\n",
       "      <td> Merged-chr4-28912248-1</td>\n",
       "      <td> chr4</td>\n",
       "      <td> 28912142</td>\n",
       "      <td> 28912353</td>\n",
       "      <td> +</td>\n",
       "    </tr>\n",
       "    <tr>\n",
       "      <th>2</th>\n",
       "      <td> Merged-chr4-47696184-1</td>\n",
       "      <td> chr4</td>\n",
       "      <td> 47696083</td>\n",
       "      <td> 47696284</td>\n",
       "      <td> +</td>\n",
       "    </tr>\n",
       "    <tr>\n",
       "      <th>3</th>\n",
       "      <td> Merged-chr4-63557449-1</td>\n",
       "      <td> chr4</td>\n",
       "      <td> 63557335</td>\n",
       "      <td> 63557562</td>\n",
       "      <td> +</td>\n",
       "    </tr>\n",
       "    <tr>\n",
       "      <th>4</th>\n",
       "      <td> Merged-chr4-66822669-1</td>\n",
       "      <td> chr4</td>\n",
       "      <td> 66822568</td>\n",
       "      <td> 66822769</td>\n",
       "      <td> +</td>\n",
       "    </tr>\n",
       "  </tbody>\n",
       "</table>\n",
       "</div>"
      ],
      "text/plain": [
       "                      #ID   chr     start       end strand\n",
       "0  Merged-chr4-59823711-1  chr4  59823608  59823813      +\n",
       "1  Merged-chr4-28912248-1  chr4  28912142  28912353      +\n",
       "2  Merged-chr4-47696184-1  chr4  47696083  47696284      +\n",
       "3  Merged-chr4-63557449-1  chr4  63557335  63557562      +\n",
       "4  Merged-chr4-66822669-1  chr4  66822568  66822769      +"
      ]
     },
     "execution_count": 100,
     "metadata": {},
     "output_type": "execute_result"
    }
   ],
   "source": [
    "current_peak_frame.head()"
   ]
  },
  {
   "cell_type": "code",
   "execution_count": null,
   "metadata": {
    "collapsed": false
   },
   "outputs": [],
   "source": [
    "###  create pickles for each chromosome\n",
    "! if [ ! -d ./pickles ]; then mkdir ./pickles; fi\n",
    "motif_dir = '/home/jenhan/analysis/cobinding_motif_analysis/fimo_motifs/'\n",
    "\n",
    "peakDirectory =  './group_by_chromosome/'\n",
    "\n",
    "for chrom in os.listdir(peakDirectory):\n",
    "    peak_frame = pd.read_csv('./group_by_chromosome/' + chrom + '/' + chrom + '_tile_peaks.tsv', sep='\\t')\n",
    "    columns = peak_frame.columns.values\n",
    "    columns[0] = 'ID'\n",
    "    peak_frame.columns = columns\n",
    "    peak_frame['Factors'] = ['atac' if not 'tile' in x else 'tile' for x in peak_frame['ID'].values]\n",
    "    \n",
    "    peak_start_dict = dict(zip(peak_frame['ID'].values, peak_frame['start'].values))\n",
    "\n",
    "    motif_score_frame = peak_frame[['ID', 'Factors', 'chr']]\n",
    "    motif_score_frame.index=motif_score_frame['ID'].values\n",
    "\n",
    "    motif_sequence_frame = peak_frame[['ID', 'Factors', 'chr']]\n",
    "    motif_sequence_frame.index=motif_score_frame['ID'].values\n",
    "\n",
    "    motif_strand_frame = peak_frame[['ID', 'Factors', 'chr']]\n",
    "    motif_strand_frame.index=motif_score_frame['ID'].values\n",
    "\n",
    "    motif_start_frame = peak_frame[['ID', 'Factors', 'chr']]\n",
    "    motif_start_frame.index=motif_score_frame['ID'].values\n",
    "\n",
    "    motif_end_frame = peak_frame[['ID', 'Factors', 'chr']]\n",
    "    motif_end_frame.index=motif_score_frame['ID'].values\n",
    "\n",
    "    motif_count_frame = peak_frame[['ID', 'Factors', 'chr']]\n",
    "    motif_count_frame.index = motif_count_frame['ID'].values\n",
    "\n",
    "    counter=0\n",
    "    for m in sorted(os.listdir(motif_dir)):\n",
    "        counter+=1\n",
    "\n",
    "        if '.fimo' in m:\n",
    "            print(chrom, counter,m)\n",
    "            motif_results = './fimo_results/' + chrom + '_' + m.replace('.fimo','') +'.txt'\n",
    "            fimo_result_frame=pd.read_csv(motif_results, \n",
    "                                          skiprows=1,\n",
    "                                          names=['motif_name', \n",
    "                                                 'peak_id', \n",
    "                                                 'start', \n",
    "                                                 'stop', \n",
    "                                                 'strand', \n",
    "                                                 'score', \n",
    "                                                 'pvalue', \n",
    "                                                 'sequence'],\n",
    "                                          sep='\\t')\n",
    "            motif_name = m.replace('.fimo','')\n",
    "            id_score_dict = {}\n",
    "            id_strand_dict = {}\n",
    "            id_sequence_dict = {}\n",
    "            id_start_dict = {}\n",
    "            id_end_dict = {}\n",
    "            id_count_dict = {}\n",
    "\n",
    "            ids = fimo_result_frame['peak_id'].values\n",
    "            scores = fimo_result_frame['score'].values\n",
    "            strands = fimo_result_frame['strand'].values\n",
    "            sequences = fimo_result_frame['sequence']\n",
    "            starts = fimo_result_frame['start']\n",
    "            ends = fimo_result_frame['stop']\n",
    "\n",
    "            for i in range(len(ids)):\n",
    "                currentScore = float(scores[i])\n",
    "                currentSequence = sequences[i]\n",
    "                currentStrand = strands[i]\n",
    "                currentStart = int(starts[i])\n",
    "                currentEnd = int(ends[i])\n",
    "                if currentScore < 0.0:\n",
    "                    currentScore = 0.0\n",
    "                if ids[i] in id_score_dict:\n",
    "                    if currentScore > id_score_dict[ids[i]]:\n",
    "                        id_score_dict[ids[i]] = currentScore\n",
    "                        id_sequence_dict[ids[i]] = currentSequence\n",
    "                        id_strand_dict[ids[i]] = currentStrand\n",
    "                        id_start_dict[ids[i]] = currentStart\n",
    "                        id_end_dict[ids[i]] = currentEnd\n",
    "                        id_count_dict[ids[i]] += 1\n",
    "                else:\n",
    "                    id_score_dict[ids[i]] = currentScore\n",
    "                    id_sequence_dict[ids[i]] = currentSequence\n",
    "                    id_strand_dict[ids[i]] = currentStrand\n",
    "                    id_start_dict[ids[i]] = currentStart\n",
    "                    id_end_dict[ids[i]] = currentEnd\n",
    "                    id_count_dict[ids[i]] = 0\n",
    "\n",
    "            motif_score_frame[motif_name] = [id_score_dict[x] if x in id_score_dict else 0 for x in motif_score_frame['ID'].values]\n",
    "            motif_sequence_frame[motif_name] = [id_sequence_dict[x] if x in id_sequence_dict else '?' for x in motif_sequence_frame['ID'].values]\n",
    "            motif_strand_frame[motif_name] = [id_strand_dict[x] if x in id_score_dict else '' for x in motif_strand_frame['ID'].values]\n",
    "            motif_start_frame[motif_name] = [id_start_dict[x] + peak_start_dict[x] if x in id_start_dict else -1 for x in motif_start_frame['ID'].values]\n",
    "            motif_end_frame[motif_name] = [id_end_dict[x] + peak_start_dict[x] if x in id_end_dict else -1 for x in motif_end_frame['ID'].values]\n",
    "            motif_count_frame[motif_name] = [id_count_dict[x] if x in id_count_dict else 0 for x in motif_count_frame['ID'].values]\n",
    "\n",
    "    motif_score_frame.to_pickle('./pickles/chrom' + '_motif_score_frame.pickle')\n",
    "\n",
    "    motif_sequence_frame.to_pickle('./pickles/chrom' + '_motif_sequence_frame.pickle')\n",
    "\n",
    "    motif_strand_frame.to_pickle('./pickles/chrom' + '_motif_strand_frame.pickle')\n",
    "\n",
    "    motif_start_frame.to_pickle('./pickles/chrom' + '_motif_start_frame.pickle')\n",
    "\n",
    "    motif_end_frame.to_pickle('./pickles/chrom' + '_motif_end_frame.pickle')\n",
    "\n",
    "    motif_count_frame.to_pickle('./pickles/chrom' + '_motif_count_frame.pickle')\n",
    "\n",
    "    scaler = preprocessing.MinMaxScaler()\n",
    "    normed_motif_frame = pd.DataFrame(scaler.fit_transform(motif_score_frame.ix[:,3:]))\n",
    "    normed_motif_frame.columns = motif_score_frame.columns.values[3:]\n",
    "    normed_motif_frame.index = motif_score_frame.index.values\n",
    "    \n",
    "    normed_motif_frame.to_pickle('./pickles/chrom' + '_normed_motif_frame.pickle')"
   ]
  },
  {
   "cell_type": "markdown",
   "metadata": {},
   "source": [
    "## Actual Analysis?.."
   ]
  },
  {
   "cell_type": "code",
   "execution_count": null,
   "metadata": {
    "collapsed": false
   },
   "outputs": [],
   "source": [
    "\n",
    "# plot motif positions to make sure that nothing went wrong with the merging\n",
    "sizes = summary_frame['end'] - summary_frame['start']\n",
    "plt.hist(sizes, bins = 20);\n",
    "plt.xlabel('Merged Region Size')\n",
    "plt.ylabel('Frequency')\n",
    "plt.title('Distribution of Peak Sizes')"
   ]
  },
  {
   "cell_type": "code",
   "execution_count": null,
   "metadata": {
    "collapsed": false
   },
   "outputs": [],
   "source": [
    "sns.boxplot(normed_motif_frame.ix[:,3:].values.flatten())"
   ]
  },
  {
   "cell_type": "code",
   "execution_count": null,
   "metadata": {
    "collapsed": false
   },
   "outputs": [],
   "source": [
    "# plot distribution of motif scores\n",
    "sns.set_context('notebook', font_scale=0.3)\n",
    "data_dict = {}\n",
    "count = 0\n",
    "sort_list = []\n",
    "for col in motif_score_frame.columns[3:]:\n",
    "    data_dict[col] = motif_score_frame[col].values\n",
    "    sort_list.append((col, np.mean(motif_score_frame[col].values)))\n",
    "sort_list = sorted(sort_list,key=lambda x:x[1])\n",
    "order = [x[0] for x in sort_list]\n",
    "sns.boxplot(pd.DataFrame(data_dict), \n",
    "            fliersize = 1.0,linewidth=0.4,\n",
    "            order = order)\n",
    "plt.xticks(rotation=90)\n",
    "# plt.xticks([])\n",
    "plt.xlabel(\"Motif\")\n",
    "plt.ylabel(\"Log Odds Motif Score\")\n",
    "plt.title(\"Distribution of FIMO Scores for Motifs Appearing in Peaks\")\n",
    "plt.show()\n",
    "del data_dict\n",
    "sns.set_context('talk', font_scale=1.0)\n",
    "\n",
    "# plot distribution of normed motif scores\n",
    "sns.set_context('notebook', font_scale=0.3)\n",
    "data_dict = {}\n",
    "count = 0\n",
    "sort_list = []\n",
    "for col in normed_motif_frame.columns:\n",
    "    data_dict[col] = normed_motif_frame[col].values\n",
    "    sort_list.append((col, np.mean(motif_score_frame[col].values)))\n",
    "sort_list = sorted(sort_list,key=lambda x:x[1])\n",
    "order = [x[0] for x in sort_list]\n",
    "sns.boxplot(pd.DataFrame(data_dict), \n",
    "            fliersize = 1.0,linewidth=0.4,\n",
    "            order = order)\n",
    "plt.xticks(rotation=90)\n",
    "# plt.xticks([])\n",
    "plt.xlabel(\"Motif\")\n",
    "plt.ylabel(\"Log Odds Motif Score\")\n",
    "plt.title(\"Distribution of FIMO Scores for Motifs Appearing in Peaks\")\n",
    "del data_dict\n",
    "plt.show()\n",
    "sns.set_context('notebook', font_scale=1.0)\n",
    "\n",
    "sns.distplot(motif_score_frame.ix[:,3:].values.flatten())\n",
    "plt.title('Overall Distribution of Motif Scores')\n",
    "plt.xlabel('Motif Score')\n",
    "plt.ylabel('Frequency')\n",
    "plt.show()\n",
    "sns.distplot(normed_motif_frame.ix[:,3:].values.flatten())\n",
    "# plt.xlim(-0.05, 0.05)\n",
    "plt.title('Overall Distribution of Motif Scores')\n",
    "plt.xlabel('NormalizedMotif Score')\n",
    "plt.ylabel('Frequency')"
   ]
  },
  {
   "cell_type": "code",
   "execution_count": null,
   "metadata": {
    "collapsed": false
   },
   "outputs": [],
   "source": [
    "# Show how motif scores correlate to one another\n",
    "# plot distribution of motif scores\n",
    "data_dict = {}\n",
    "count = 0\n",
    "sort_list = []\n",
    "motifs = motif_score_frame.columns[3:]\n",
    "motif_corr_pearson_matrix = np.zeros((len(motifs), len(motifs)))\n",
    "motif_corr_spearman_matrix = np.zeros((len(motifs), len(motifs)))\n",
    "# for every pair of motifs\n",
    "for i in range(len(motifs) -1 ):\n",
    "    for j in range(i+1, len(motifs)):\n",
    "        motif1 = motifs[i]\n",
    "        motif2 = motifs[j]\n",
    "        # get relevant motif scores\n",
    "        motifScores1 = motif_score_frame[motif1].values\n",
    "        motifScores2 = motif_score_frame[motif2].values\n",
    "        # calculate spearman and peason correlation\n",
    "        r, p_val_pearson = scipy.stats.pearsonr(motifScores1, motifScores2)\n",
    "        rho, p_val_spearman = scipy.stats.spearmanr(motifScores1, motifScores2)\n",
    "        # fill in position in matrix\n",
    "        motif_corr_pearson_matrix[i][j] = r\n",
    "        motif_corr_spearman_matrix[i][j] = rho\n",
    "        motif_corr_pearson_matrix[j][i] = r\n",
    "        motif_corr_spearman_matrix[j][i] = rho\n",
    "\n",
    "\n",
    "# create data frames\n",
    "motif_corr_pearson_frame = pd.DataFrame(motif_corr_pearson_matrix)\n",
    "motif_corr_spearman_frame = pd.DataFrame(motif_corr_spearman_matrix)\n",
    "\n",
    "motif_corr_pearson_frame = motif_corr_pearson_frame.fillna(0)\n",
    "motif_corr_pearson_frame.columns = motifs\n",
    "motif_corr_pearson_frame.index = motifs\n",
    "\n",
    "motif_corr_spearman_frame = motif_corr_spearman_frame.fillna(0)\n",
    "motif_corr_spearman_frame.columns = motifs\n",
    "motif_corr_spearman_frame.index = motifs\n",
    "\n",
    "sns.heatmap(motif_corr_pearson_frame,xticklabels = False, yticklabels = False, vmax=1.0)\n",
    "plt.title('Motif Score Pearson Correlation')\n",
    "plt.show()\n",
    "\n",
    "sns.heatmap(motif_corr_spearman_frame,xticklabels = False, yticklabels = False, vmax=1.0)\n",
    "plt.title('Motif Score Spearman Correlation')\n",
    "plt.show()"
   ]
  },
  {
   "cell_type": "code",
   "execution_count": null,
   "metadata": {
    "collapsed": false
   },
   "outputs": [],
   "source": [
    "sns.distplot(motif_corr_pearson_frame.max(), bins=20)\n",
    "plt.xlim(0,1)\n",
    "plt.title('Distribution of Pearson Correlations')\n",
    "plt.show()\n",
    "sns.distplot(motif_corr_spearman_frame.max(), bins=20)\n",
    "plt.xlim(0,1)\n",
    "plt.title('Distribution of Spearman Correlations')"
   ]
  },
  {
   "cell_type": "code",
   "execution_count": 187,
   "metadata": {
    "collapsed": false
   },
   "outputs": [
    {
     "data": {
      "text/plain": [
       "529"
      ]
     },
     "execution_count": 187,
     "metadata": {},
     "output_type": "execute_result"
    }
   ],
   "source": [
    "np.sum(labels)"
   ]
  },
  {
   "cell_type": "code",
   "execution_count": null,
   "metadata": {
    "collapsed": false
   },
   "outputs": [],
   "source": [
    "### for all peaks in vehicle \n",
    "factor_coeff_dict = {}\n",
    "factor_auc_dict_all = {}\n",
    "factors = ['C57Bl6_Thiomac_Veh']\n",
    "for factor in factors:\n",
    "    features = normed_motif_frame\n",
    "    labels = peak_frame['Factors'].str.contains(factor)\n",
    "    \n",
    "\n",
    "    training_features, test_features, training_labels, test_labels = get_matched_split(\n",
    "        features, labels, test_size = 0.2)\n",
    "    \n",
    "    #  Run classifier\n",
    "    lr_classifier = sklearn.linear_model.LogisticRegression(penalty='l1')\n",
    "    \n",
    "    lr_classifier.fit(training_features, training_labels)\n",
    "    # retreive probabilities for each classifier\n",
    "    probas_lr = lr_classifier.predict_proba(test_features)\n",
    "    \n",
    "    fpr, tpr, thresholds_roc_lr = sklearn.metrics.roc_curve(test_labels, probas_lr[:, 1])\n",
    "    roc_auc = auc(fpr, tpr)\n",
    "        \n",
    "    coefficients = lr_classifier.coef_    \n",
    "    factor_coeff_dict[factor] = coefficients.flatten()\n",
    "    factor_auc_dict_all[factor] = roc_auc\n",
    "    print(factor, roc_auc)\n",
    "    \n",
    "coefficients_frame = pd.DataFrame(factor_coeff_dict)\n",
    "coefficients_frame = coefficients_frame[factors]\n",
    "coefficients_frame.index = normed_motif_frame.columns.values\n"
   ]
  },
  {
   "cell_type": "code",
   "execution_count": null,
   "metadata": {
    "collapsed": false
   },
   "outputs": [],
   "source": [
    "sns.set_context('notebook', font_scale=1.0)\n",
    "plt.plot(fpr,tpr)\n",
    "plt.xlabel('FPR')\n",
    "plt.ylabel('TPR')"
   ]
  },
  {
   "cell_type": "code",
   "execution_count": null,
   "metadata": {
    "collapsed": false
   },
   "outputs": [],
   "source": [
    "factor_auc_dict_all"
   ]
  },
  {
   "cell_type": "code",
   "execution_count": null,
   "metadata": {
    "collapsed": false
   },
   "outputs": [],
   "source": [
    "factor_coeff_dict"
   ]
  },
  {
   "cell_type": "code",
   "execution_count": null,
   "metadata": {
    "collapsed": false
   },
   "outputs": [],
   "source": [
    "threshold = 2.0\n",
    "factorPair_motifs_positive_dict = {}\n",
    "factorPair_motifs_negative_dict = {}\n",
    "factorPair_motifs_dict = {}\n",
    "significant_motifs = set()\n",
    "for factor in coefficients_frame.columns.values:\n",
    "    weights = coefficients_frame[factor]\n",
    "    std = np.std(weights)\n",
    "    mean = np.mean(weights)\n",
    "    positive_hits = list(weights[weights >= mean + threshold*std].index.values)\n",
    "    negative_hits = list(weights[weights <= mean - threshold*std].index.values)\n",
    "    motif_hits = negative_hits + positive_hits\n",
    "    \n",
    "    print(factor, mean-threshold*std, mean+threshold*std)\n",
    "    for m in motif_hits:\n",
    "        significant_motifs.add(m)\n",
    "\n",
    "        "
   ]
  },
  {
   "cell_type": "code",
   "execution_count": null,
   "metadata": {
    "collapsed": false
   },
   "outputs": [],
   "source": [
    "sns.distplot(coefficients_frame.values.flatten())\n",
    "plt.ylabel('KDE')\n",
    "plt.xlabel('Weight')"
   ]
  },
  {
   "cell_type": "code",
   "execution_count": 270,
   "metadata": {
    "collapsed": false
   },
   "outputs": [
    {
     "data": {
      "image/png": "[encoded data removed]",
      "text/plain": [
       "<matplotlib.figure.Figure at 0x7fa94cbdb2e8>"
      ]
     },
     "metadata": {},
     "output_type": "display_data"
    }
   ],
   "source": [
    "threshold = 3\n",
    "coeff_std = np.std(coefficients_frame.values.flatten())\n",
    "coeff_mean = np.mean(coefficients_frame.values.flatten())\n",
    "data = coefficients_frame[coefficients_frame.index.isin(significant_motifs)]\n",
    "\n",
    "# fig, ax = plt.subplots(figsize=(10,10))\n",
    "with sns.axes_style('whitegrid'):\n",
    "    cg = sns.clustermap(data,\n",
    "                       vmax=(coeff_mean + threshold* coeff_std),\n",
    "                       vmin=(coeff_mean - threshold* coeff_std),\n",
    "                       center = coeff_mean,\n",
    "                       annot=False,annot_kws={\"size\": 6},\n",
    "                       col_cluster=False)\n",
    "    plt.setp(cg.ax_heatmap.yaxis.get_majorticklabels(), rotation=0);"
   ]
  },
  {
   "cell_type": "code",
   "execution_count": null,
   "metadata": {
    "collapsed": true
   },
   "outputs": [],
   "source": []
  }
 ],
 "metadata": {
  "kernelspec": {
   "display_name": "Python 3",
   "language": "python",
   "name": "python3"
  },
  "language_info": {
   "codemirror_mode": {
    "name": "ipython",
    "version": 3
   },
   "file_extension": ".py",
   "mimetype": "text/x-python",
   "name": "python",
   "nbconvert_exporter": "python",
   "pygments_lexer": "ipython3",
   "version": "3.4.4"
  }
 },
 "nbformat": 4,
 "nbformat_minor": 0
}
