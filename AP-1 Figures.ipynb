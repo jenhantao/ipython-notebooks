{
 "cells": [
  {
   "cell_type": "markdown",
   "metadata": {},
   "source": [
    "# AP-1 Figures"
   ]
  },
  {
   "cell_type": "code",
   "execution_count": null,
   "metadata": {
    "collapsed": false,
    "scrolled": true
   },
   "outputs": [],
   "source": [
    "### header ###\n",
    "__author__ = \"Jenhan Tao\"\n",
    "__license__ = \"BSD\"\n",
    "__email__ = \"jenhantao@gmail.com\"\n",
    "\n",
    "### imports ###\n",
    "import sys\n",
    "import os\n",
    "import pandas as pd\n",
    "import numpy as np\n",
    "import argparse\n",
    "import matplotlib\n",
    "import itertools\n",
    "import scipy\n",
    "import matplotlib.pyplot as plt \n",
    "import seaborn as sns\n",
    "from scipy.spatial.distance import pdist, squareform\n",
    "from scipy.cluster.hierarchy import linkage, dendrogram\n",
    "import scipy\n",
    "import pickle\n",
    "from sklearn import preprocessing\n",
    "import sklearn\n",
    "from sklearn import decomposition\n",
    "from mpl_toolkits.mplot3d import Axes3D\n",
    "from sklearn.cluster import KMeans\n",
    "from sklearn import svm, datasets\n",
    "from sklearn.utils import shuffle\n",
    "from sklearn.metrics import roc_curve, auc\n",
    "from sklearn import ensemble\n",
    "from sklearn import neighbors\n",
    "import networkx as nx\n",
    "import matplotlib_venn\n",
    "from sklearn.cross_validation import train_test_split\n",
    "from random import shuffle\n",
    "\n",
    "### notebook specific configuration ###\n",
    "%matplotlib inline\n",
    "sys.path.append(\"/home/jenhan/code/seq_merge_pipe/\")\n",
    "matplotlib.pylab.rcParams['savefig.dpi'] = 200\n",
    "sys.setrecursionlimit(5000)\n",
    "os.chdir('/home/jenhan/analysis/cobinding_motif_analysis/')\n",
    "sns.set_context('notebook')\n",
    "%load_ext autoreload\n",
    "%autoreload 2\n"
   ]
  },
  {
   "cell_type": "markdown",
   "metadata": {},
   "source": [
    "## Functions"
   ]
  },
  {
   "cell_type": "code",
   "execution_count": null,
   "metadata": {
    "collapsed": true
   },
   "outputs": [],
   "source": [
    "\n",
    "def get_GC_matched_split(features, labels, test_size, tolerance = 0.01):\n",
    "    '''\n",
    "    feature: 2D array (samples x features)\n",
    "    labels: 1D boolean array (samples x)\n",
    "    test_size: fraction of data to test on\n",
    "    tolerance: max difference in GC content between True and False labelled samples\n",
    "    '''\n",
    "    global _id_sequence_dict\n",
    "    \n",
    "    ### match GC content of samples labelled True with those labelled False by thowing out False samples\n",
    "    # retrieve sequences using index of labels\n",
    "    index_label_tuples = tuple(zip(labels.index.values, labels.values))\n",
    "    \n",
    "    true_sequences = [_id_sequence_dict[x[0]] for x in index_label_tuples if x[1]]\n",
    "    true_ids = [x[0] for x in index_label_tuples if x[1]]\n",
    "    \n",
    "    false_sequences = [_id_sequence_dict[x[0]] for x in index_label_tuples if not x[1]]\n",
    "    false_ids = [x[0] for x in index_label_tuples if not x[1]]\n",
    "    \n",
    "    # calculate GC content of True samples\n",
    "    true_gc_count = 0\n",
    "    true_length = 0\n",
    "    for s in true_sequences:\n",
    "        true_gc_count += s.count('G')\n",
    "        true_gc_count += s.count('C')\n",
    "        true_length += len(s)\n",
    "    true_gc_content = true_gc_count/(true_length+0.0000001)\n",
    "    \n",
    "    # calcuate GC content of False samples\n",
    "    false_gc_count = 0\n",
    "    false_length = 0\n",
    "    for s in false_sequences:\n",
    "        false_gc_count += s.count('G')\n",
    "        false_gc_count += s.count('C')\n",
    "        false_length += len(s)\n",
    "    false_gc_content = false_gc_count/(false_length+0.0000001)\n",
    "    \n",
    "    while abs(true_gc_content - false_gc_content) > tolerance:\n",
    "        # remove false GC sequences until GC content matches tolerance\n",
    "        selected_seq = False\n",
    "        \n",
    "        while not selected_seq:\n",
    "            rand_index = np.random.randint(len(false_sequences))\n",
    "            current_seq = false_sequences[rand_index]\n",
    "            current_gc_count = current_seq.count('G')+ current_seq.count('C')\n",
    "            current_length = len(current_seq)\n",
    "            current_gc = current_gc_count/current_length\n",
    "            if true_gc_content > false_gc_content:\n",
    "                # remove sequences that would increase overall GC content of False sequences\n",
    "                if current_gc < false_gc_content:\n",
    "                    selected_seq = True\n",
    "            else:\n",
    "                # remove sequences that would decrease overall GC content of False sequences\n",
    "                if current_gc > false_gc_content:\n",
    "                    selected_seq = True\n",
    "        false_gc_count -= current_gc_count\n",
    "        false_length -= current_length\n",
    "        false_gc_content = false_gc_count/false_length\n",
    "        \n",
    "        false_sequences.pop(rand_index)\n",
    "        false_ids.pop(rand_index)\n",
    "    \n",
    "    filtered_ids = true_ids + false_ids\n",
    "    filtered_features = features[features.index.isin(filtered_ids)]\n",
    "    filtered_labels = labels[labels.index.isin(filtered_ids)]\n",
    "\n",
    "    print('total:',features.shape[0], 'filtered:',filtered_features.shape[0], 'true gc:',np.round(true_gc_content,5), 'false gc:', np.round(false_gc_content,5), 'difference:',np.round(abs(true_gc_content - false_gc_content),5))\n",
    "\n",
    "#     training_features, test_features, training_labels, test_labels = train_test_split(\n",
    "#         filtered_features, filtered_labels, \n",
    "#         test_size =test_size, \n",
    "#         random_state=np.random.RandomState(0),\n",
    "#         )\n",
    "    if test_size <= 0.5:\n",
    "        training_indices, test_indices = next(iter(\n",
    "                sklearn.cross_validation.StratifiedKFold(filtered_labels, int(1/test_size), shuffle=True)))\n",
    "    else:\n",
    "        test_indices, training_indices = next(\n",
    "            iter(sklearn.cross_validation.StratifiedKFold(filtered_labels, int(1/(1-test_size)), shuffle=True)))\n",
    "    training_ids = [filtered_ids[i] for i in training_indices]\n",
    "    test_ids = [filtered_ids[i] for i in test_indices]\n",
    "    \n",
    "    training_features = filtered_features[filtered_features.index.isin(training_ids)]\n",
    "    test_features = filtered_features[filtered_features.index.isin(test_ids)]\n",
    "    training_labels = filtered_labels[filtered_labels.index.isin(training_ids)]\n",
    "    test_labels = filtered_labels[filtered_labels.index.isin(test_ids)]\n",
    "    \n",
    "    \n",
    "#     n_samples = filtered_features.shape[0]\n",
    "#     n_features = filtered_features.shape[1]\n",
    "\n",
    "#     # shuffle and split training and test sets\n",
    "#     filtered_features, filtered_labels = shuffle(filtered_features, filtered_labels, random_state=np.random.RandomState(0))\n",
    "#     split = int(0.80*n_samples)\n",
    "#     training_features, test_features = filtered_features[:split], filtered_features[split:]\n",
    "#     training_labels, test_labels = filtered_labels[:split], filtered_labels[split:]\n",
    "    \n",
    "    return training_features, test_features, training_labels, test_labels\n",
    "    "
   ]
  },
  {
   "cell_type": "markdown",
   "metadata": {},
   "source": [
    "## Read in Score Files"
   ]
  },
  {
   "cell_type": "code",
   "execution_count": null,
   "metadata": {
    "collapsed": false
   },
   "outputs": [],
   "source": [
    "motif_score_frame=pd.read_pickle('motif_score_frame.pickle')\n",
    "motif_sequence_frame = pd.read_pickle('motif_sequence_frame.pickle')\n",
    "motif_strand_frame = pd.read_pickle('motif_strand_frame.pickle')\n",
    "motif_start_frame = pd.read_pickle('motif_start_frame.pickle')\n",
    "motif_end_frame = pd.read_pickle('motif_end_frame.pickle')\n",
    "motif_count_frame = pd.read_pickle('motif_count_frame.pickle')\n",
    "summary_frame = pd.read_pickle('summary_frame.pickle')\n",
    "annotation_frame = pd.read_pickle('annotation_frame.pickle')\n",
    "\n",
    "# normed_motif_frame = pd.DataFrame(preprocessing.normalize(merged_motif_frame.ix[:,3:], axis=0))\n",
    "scaler = preprocessing.MinMaxScaler()\n",
    "normed_motif_frame = pd.DataFrame(scaler.fit_transform(motif_score_frame.ix[:,3:]))\n",
    "normed_motif_frame.columns = motif_score_frame.columns.values[3:]\n",
    "normed_motif_frame.index = motif_score_frame.index.values\n",
    "_factors = sorted(list(set([x.split('_')[1] for x in summary_frame.columns if '_' in x])))\n",
    "_factors.remove('atac')\n",
    "scaler = preprocessing.MinMaxScaler()\n",
    "normed_summary_frame = pd.DataFrame(scaler.fit_transform(summary_frame.ix[:,5:]))\n",
    "normed_summary_frame.columns = summary_frame.columns.values[5:]\n",
    "normed_summary_frame.index = summary_frame.index.values\n",
    "\n",
    "scaled_motif_frame = pd.DataFrame()\n",
    "for m in motif_score_frame.columns[3:]:\n",
    "    scaled_motif_frame[m] = motif_score_frame[m]/(2*motif_sequence_frame[m].str.len().max())\n",
    "\n",
    "\n",
    "### read in sequences as dictionary {peakID: sequence}\n",
    "with open('./group/merged.fa') as f:\n",
    "    data = f.readlines()\n",
    "\n",
    "_id_sequence_dict = {}\n",
    "for line in data:\n",
    "    if line[0] == '>':\n",
    "        sequenceName = line.strip()[1:]\n",
    "    else:\n",
    "        _id_sequence_dict[sequenceName] = line.strip().upper()    "
   ]
  },
  {
   "cell_type": "code",
   "execution_count": null,
   "metadata": {
    "collapsed": true
   },
   "outputs": [],
   "source": [
    "### work with just intergenic peaks for now ###\n",
    "intergenic_ids = annotation_frame[annotation_frame['Annotation'] == 'Intergenic'].index.values\n",
    "intergenic_motif_score_frame = motif_score_frame[motif_score_frame.index.isin(intergenic_ids)]\n",
    "intergenic_motif_sequence_frame = motif_sequence_frame[motif_sequence_frame.index.isin(intergenic_ids)]\n",
    "intergenic_motif_start_frame = motif_start_frame[motif_start_frame.index.isin(intergenic_ids)]\n",
    "intergenic_motif_end_frame = motif_end_frame[motif_end_frame.index.isin(intergenic_ids)]\n",
    "intergenic_motif_count_frame = motif_count_frame[motif_count_frame.index.isin(intergenic_ids)]\n",
    "intergenic_normed_motif_frame = normed_motif_frame[normed_motif_frame.index.isin(intergenic_ids)]\n",
    "intergenic_scaled_motif_frame = scaled_motif_frame[scaled_motif_frame.index.isin(intergenic_ids)]\n",
    "intergenic_summary_frame = summary_frame[summary_frame.index.isin(intergenic_ids)]\n",
    "intergenic_annotation_frame = annotation_frame[annotation_frame.index.isin(intergenic_ids)]\n",
    "\n"
   ]
  },
  {
   "cell_type": "code",
   "execution_count": null,
   "metadata": {
    "collapsed": true
   },
   "outputs": [],
   "source": [
    "ap1_members=['atf3', 'cjun', 'fos', 'fra1', 'fra2', 'jdp2', 'junb', 'jund']\n",
    "contains_ap1 = summary_frame[['c57bl6_'+x+'_veh' for x in ap1_members]].sum(axis=1)>0\n",
    "contains_ap1_tuples = tuple(zip(contains_ap1.index.values, contains_ap1.values, summary_frame['Factors'].values))\n",
    "summary_frame['Factors'] = [x[2] + ',c57bl6_ap-1_veh' if x[1] == True else x[2] for x in contains_ap1_tuples]\n",
    "\n",
    "contains_ap1 = summary_frame[['c57bl6_'+x+'_kla' for x in ap1_members]].sum(axis=1)>0\n",
    "contains_ap1_tuples = tuple(zip(contains_ap1.index.values, contains_ap1.values, summary_frame['Factors'].values))\n",
    "summary_frame['Factors'] = [x[2] + ',c57bl6_ap-1_kla' if x[1] == True else x[2] for x in contains_ap1_tuples]"
   ]
  },
  {
   "cell_type": "markdown",
   "metadata": {},
   "source": [
    "## Figure 1 - AP-1 genetically co-localizes with PU-1 and CEBPa"
   ]
  },
  {
   "cell_type": "markdown",
   "metadata": {},
   "source": [
    "### 1a - Venn diagram of PU-1, CEBPa, and AP-1 (all members merged) in vehicle and KLA"
   ]
  },
  {
   "cell_type": "code",
   "execution_count": null,
   "metadata": {
    "collapsed": true
   },
   "outputs": [],
   "source": [
    "ap1_members=['atf3', 'cjun', 'fos', 'fra1', 'fra2', 'jdp2', 'junb', 'jund']"
   ]
  },
  {
   "cell_type": "code",
   "execution_count": null,
   "metadata": {
    "collapsed": false
   },
   "outputs": [],
   "source": [
    "ap1_indices = summary_frame[summary_frame[['c57bl6_'+x+'_veh' for x in ap1_members]].sum(axis=1)>0].index.values\n",
    "pu1_indices = summary_frame[summary_frame['c57bl6_pu1_veh'] >0].index.values\n",
    "cebpa_indices = summary_frame[summary_frame['c57bl6_cebpa_veh']>0].index.values\n",
    "\n",
    "matplotlib_venn.venn3([set(ap1_indices), set(pu1_indices), set(cebpa_indices)],set_labels=['AP-1', 'PU-1', 'CEBPa'])\n",
    "plt.title('AP-1 binding overlap with PU-1 and CEBPa in Vehicle')"
   ]
  },
  {
   "cell_type": "markdown",
   "metadata": {},
   "source": [
    "### 1b -  Motif analysis of PU-1, CEBPa, and AP-1 peaks. Bar plots showing what fraction of the peaks for each factor contain the PU-1, CEBPa, and AP-1 motif"
   ]
  },
  {
   "cell_type": "code",
   "execution_count": null,
   "metadata": {
    "collapsed": true
   },
   "outputs": [],
   "source": [
    "ap1_members=['atf3', 'cjun', 'fos', 'fra1', 'fra2', 'jdp2', 'junb', 'jund']\n",
    "\n"
   ]
  },
  {
   "cell_type": "code",
   "execution_count": null,
   "metadata": {
    "collapsed": false
   },
   "outputs": [],
   "source": [
    "threshold = 0.3\n",
    "ap1_indices = summary_frame[summary_frame[['c57bl6_'+x+'_veh' for x in ap1_members]].sum(axis=1)>0].index.values\n",
    "pu1_indices = summary_frame[summary_frame['c57bl6_pu1_veh'] >0].index.values\n",
    "cebpa_indices = summary_frame[summary_frame['c57bl6_cebpa_veh']>0].index.values\n",
    "\n",
    "fractions = []\n",
    "motifs = []\n",
    "factors = []\n",
    "for motif in ['ap-1', 'cebp', 'spi1-c']:\n",
    "    motifs = motifs +[motif] * 3\n",
    "    \n",
    "    factors.append('AP-1')\n",
    "    fractions.append(np.sum(normed_motif_frame[normed_motif_frame.index.isin(ap1_indices)][motif] > threshold)/len(ap1_indices))\n",
    "    factors.append('CEBPa')\n",
    "    fractions.append(np.sum(normed_motif_frame[normed_motif_frame.index.isin(cebpa_indices)][motif] > threshold)/len(cebpa_indices))\n",
    "    factors.append('PU-1')\n",
    "    fractions.append(np.sum(normed_motif_frame[normed_motif_frame.index.isin(pu1_indices)][motif] > threshold)/len(pu1_indices))\n",
    "plottingFrame =pd.DataFrame({'Factor':factors,\n",
    "                           'Motif':motifs,\n",
    "                            'Fraction of all Peaks':fractions})\n",
    "sns.factorplot(data=plottingFrame, \n",
    "               x='Factor', \n",
    "               hue='Motif', \n",
    "               y='Fraction of all Peaks',\n",
    "              kind='bar'\n",
    "              )\n",
    "plt.ylim(0,1)\n",
    "plt.title('Fraction of Peaks Containing Motif of Collaborating Factor')"
   ]
  },
  {
   "cell_type": "code",
   "execution_count": null,
   "metadata": {
    "collapsed": false
   },
   "outputs": [],
   "source": [
    "threshold = 0.3\n",
    "ap1_indices = summary_frame[summary_frame[['c57bl6_'+x+'_veh' for x in ap1_members]].sum(axis=1)>0].index.values\n",
    "pu1_indices = summary_frame[summary_frame['c57bl6_pu1_veh'] >0].index.values\n",
    "cebpa_indices = summary_frame[summary_frame['c57bl6_cebpa_veh']>0].index.values\n",
    "open_indices = summary_frame[summary_frame[['c57bl6_' + x + '_veh' for x in _factors +['atac']]].sum(axis=1)>0].index.values\n",
    "fractions = []\n",
    "motifs = []\n",
    "factors = []\n",
    "for motif in ['ap-1', 'cebp', 'spi1-c']:\n",
    "    motifs = motifs +[motif] * 4\n",
    "    \n",
    "    factors.append('AP-1')\n",
    "    fractions.append(np.sum(normed_motif_frame[normed_motif_frame.index.isin(ap1_indices)][motif] > threshold)/len(ap1_indices))\n",
    "    factors.append('CEBPa')\n",
    "    fractions.append(np.sum(normed_motif_frame[normed_motif_frame.index.isin(cebpa_indices)][motif] > threshold)/len(cebpa_indices))\n",
    "    factors.append('PU-1')\n",
    "    fractions.append(np.sum(normed_motif_frame[normed_motif_frame.index.isin(pu1_indices)][motif] > threshold)/len(pu1_indices))\n",
    "    factors.append('Open Chromatin')\n",
    "    fractions.append(np.sum(normed_motif_frame[normed_motif_frame.index.isin(open_indices)][motif] > threshold)/len(open_indices))\n",
    "\n",
    "    \n",
    "plottingFrame =pd.DataFrame({'Factor':factors,\n",
    "                           'Motif':motifs,\n",
    "                            'Fraction of all Peaks':fractions})\n",
    "sns.factorplot(data=plottingFrame, \n",
    "               x='Factor', \n",
    "               hue='Motif', \n",
    "               y='Fraction of all Peaks',\n",
    "              kind='bar'\n",
    "              )\n",
    "plt.ylim(0,1)\n",
    "plt.title('Fraction of Peaks Containing Motif of Collaborating Factor')"
   ]
  },
  {
   "cell_type": "markdown",
   "metadata": {},
   "source": [
    "### 1c - Knockdown of of cJun impacts PU-1 and CEBPa binding. Venn diagrams showing overlap between knockdown and wildtype peaks in vehicle and KLA."
   ]
  },
  {
   "cell_type": "code",
   "execution_count": null,
   "metadata": {
    "collapsed": false
   },
   "outputs": [],
   "source": [
    "%%bash\n",
    "makeSummaryFile.sh /home/jenhan/analysis/ap1_analysis/peak_files_knockdowns_filtered/*Veh*tsv\n",
    "mv group_summary.tsv knockdown_summary.tsv"
   ]
  },
  {
   "cell_type": "code",
   "execution_count": null,
   "metadata": {
    "collapsed": true
   },
   "outputs": [],
   "source": [
    "knockdown_summary_frame = pd.read_csv('knockdown_summary.tsv', sep='\\t')"
   ]
  },
  {
   "cell_type": "code",
   "execution_count": null,
   "metadata": {
    "collapsed": false
   },
   "outputs": [],
   "source": [
    "notx_indices = knockdown_summary_frame[knockdown_summary_frame['Factors'].str.contains('CEBPa_Veh_notx')].index.values\n",
    "siCtrl_indices = knockdown_summary_frame[knockdown_summary_frame['Factors'].str.contains('CEBPa_Veh_siCtrl')].index.values\n",
    "siJun_indices = knockdown_summary_frame[knockdown_summary_frame['Factors'].str.contains('CEBPa_Veh_siJun')].index.values\n",
    "\n",
    "matplotlib_venn.venn3([set(notx_indices), set(siCtrl_indices), set(siJun_indices)],set_labels=['No Treatment', 'siControl', 'siJun'])\n",
    "plt.title('Effect of Jun Knockdown on CEBPa binding')"
   ]
  },
  {
   "cell_type": "code",
   "execution_count": null,
   "metadata": {
    "collapsed": false
   },
   "outputs": [],
   "source": [
    "notx_indices = knockdown_summary_frame[knockdown_summary_frame['Factors'].str.contains('PU1_Veh_notx')].index.values\n",
    "siCtrl_indices = knockdown_summary_frame[knockdown_summary_frame['Factors'].str.contains('PU1_Veh_siCtrl')].index.values\n",
    "siJun_indices = knockdown_summary_frame[knockdown_summary_frame['Factors'].str.contains('PU1_Veh_siJun')].index.values\n",
    "\n",
    "matplotlib_venn.venn3([set(notx_indices), set(siCtrl_indices), set(siJun_indices)],set_labels=['No Treatment', 'siControl', 'siJun'])\n",
    "plt.title('Effect of Jun Knockdown on PU1 binding')"
   ]
  },
  {
   "cell_type": "markdown",
   "metadata": {},
   "source": [
    "### 1d - expression of Jun, pu-1 and cebpa in vehicle under knockdown conditions"
   ]
  },
  {
   "cell_type": "code",
   "execution_count": null,
   "metadata": {
    "collapsed": false
   },
   "outputs": [],
   "source": [
    "%%bash\n",
    "analyzeRepeats.pl rna mm10 -count exons -condenseGenes -rpkm -d  /home/jenhan/analysis/ap1_analysis/tag_directories_rna/* >rpkm.tsv\n",
    "\n"
   ]
  },
  {
   "cell_type": "code",
   "execution_count": null,
   "metadata": {
    "collapsed": true
   },
   "outputs": [],
   "source": [
    "with open('rpkm.tsv') as f:\n",
    "    data=f.readlines()\n",
    "header = data[0].strip()\n",
    "\n",
    "conditions = ' '.join(['_'.join(x.split('/')[-1].replace(' FPKM','').split('_')[3:5]) for x in header.split('\\t')[8:]])"
   ]
  },
  {
   "cell_type": "code",
   "execution_count": null,
   "metadata": {
    "collapsed": false,
    "scrolled": false
   },
   "outputs": [],
   "source": [
    "# !python /home/jenhan/code/seq_merge_pipe/run_idr_homerRNA.py rpkm.tsv ./rna_idr $conditions -p\n",
    "!python /home/jenhan/code/seq_merge_pipe/run_idr_homerRNA.py rpkm.tsv ./rna_idr $conditions"
   ]
  },
  {
   "cell_type": "code",
   "execution_count": null,
   "metadata": {
    "collapsed": false
   },
   "outputs": [],
   "source": [
    "idr_rpkm_frame = pd.read_csv('rna_idr/idr_intersection_rpkm.tsv', sep='\\t')\n",
    "\n",
    "columns = idr_rpkm_frame.columns.values\n",
    "columns[0] = \"refseq\"\n",
    "for i in range(len(columns)):\n",
    "    if \"FPKM\" in columns[i]:\n",
    "        columns[i] = '_'.join(columns[i].split('/')[-1].split('_')[3:5])\n",
    "idr_rpkm_frame.columns = columns    \n",
    "idr_rpkm_frame['gene'] = [x.split(\"|\")[0].upper() for x in idr_rpkm_frame['Annotation/Divergence'].values]\n",
    "idr_rpkm_frame.index = idr_rpkm_frame['gene'].values\n",
    "\n",
    "idr_rpkm_mean_frame = pd.DataFrame()\n",
    "\n",
    "for treatment in idr_rpkm_frame.columns.values[8:-1]:\n",
    "    if len(idr_rpkm_frame[treatment].shape) > 1:\n",
    "        idr_rpkm_mean_frame[treatment] = np.mean(idr_rpkm_frame[treatment], axis=1)\n",
    "\n"
   ]
  },
  {
   "cell_type": "code",
   "execution_count": null,
   "metadata": {
    "collapsed": false
   },
   "outputs": [],
   "source": [
    "plottingFrame = pd.DataFrame(idr_rpkm_mean_frame[idr_rpkm_mean_frame.index.isin(\n",
    "            ['ATF3', 'JUN', 'FOS', 'JUNB', 'JUND', 'CEBPA', 'SPI1', 'REL','RELA'])].stack())\n",
    "plottingFrame['Factor'] = [x[0] for x in plottingFrame.index.values]\n",
    "plottingFrame['Treatment'] = [x[1] for x in plottingFrame.index.values]\n",
    "plottingFrame.columns = ['RPKM', 'Factor', 'Treatment']\n",
    "plottingFrame['Log2 RPKM'] = np.log2(plottingFrame['RPKM'].values + 1)\n",
    "sns.factorplot(data = plottingFrame, x='Factor', y='Log2 RPKM', hue='Treatment', kind='bar', \n",
    "               hue_order=['Veh_UT','Veh_siCtrl', 'Veh_sicJun'], \n",
    "               order = ['ATF3', 'JUN', 'FOS', 'JUNB', 'JUND', 'CEBPA', 'SPI1', 'REL','RELA']\n",
    "              )\n",
    "plt.title('RNA Expression of AP-1 and Related Factors')\n",
    "plt.xticks(rotation=90)"
   ]
  },
  {
   "cell_type": "markdown",
   "metadata": {
    "collapsed": true
   },
   "source": [
    "### 1e - IP of cJun and PU-1 and CEBPa"
   ]
  },
  {
   "cell_type": "markdown",
   "metadata": {},
   "source": [
    "Greg will do science stuff"
   ]
  },
  {
   "cell_type": "markdown",
   "metadata": {},
   "source": [
    "## Figure 2 - Introduce the AP-1 Cistrome"
   ]
  },
  {
   "cell_type": "markdown",
   "metadata": {},
   "source": [
    "### 2a -  Number of peaks before and after KLA treatment for PU.1, CEBPa, p65, AP-1\n",
    "\n"
   ]
  },
  {
   "cell_type": "code",
   "execution_count": null,
   "metadata": {
    "collapsed": false
   },
   "outputs": [],
   "source": [
    "kla_factors = ['atf3', 'cjun', 'fos', 'fra1', 'fra2','jdp2', 'junb', 'jund', 'cebpa', 'pu1', 'p65']\n"
   ]
  },
  {
   "cell_type": "code",
   "execution_count": null,
   "metadata": {
    "collapsed": false
   },
   "outputs": [],
   "source": [
    "treatments = []\n",
    "factors = []\n",
    "peakCounts = []\n",
    "for factor in kla_factors:\n",
    "    treatments = treatments + ['Lost', 'Unchanged', 'Gained']\n",
    "    factors = factors + [factor] * 3\n",
    "    peakCounts.append(summary_frame[(summary_frame['Factors'].str.contains('c57bl6_' + factor + '_veh')) & \n",
    "                                    ([not x for x in summary_frame['Factors'].str.contains('c57bl6_' + factor + '_kla')])\n",
    "                                   ].shape[0])\n",
    "    peakCounts.append(summary_frame[(summary_frame['Factors'].str.contains('c57bl6_' + factor + '_veh')) & \n",
    "                                    (summary_frame['Factors'].str.contains('c57bl6_' + factor + '_kla'))].shape[0])\n",
    "    peakCounts.append(summary_frame[(summary_frame['Factors'].str.contains('c57bl6_' + factor + '_kla')) & \n",
    "                                    ([not x for x in summary_frame['Factors'].str.contains('c57bl6_' + factor + '_veh')])\n",
    "                                   ].shape[0])   \n",
    "plottingFrame = pd.DataFrame({'Factor':factors,\n",
    "                             'Change after KLA Treatment': treatments,\n",
    "                             'Number of Peaks': peakCounts})\n",
    "sns.factorplot(data=plottingFrame, \n",
    "               x='Factor',\n",
    "              y='Number of Peaks',\n",
    "              hue='Change after KLA Treatment',\n",
    "              kind='bar')\n",
    "plt.title('Cistrome Change in Response to KLA')\n",
    "plt.xticks(rotation=90)"
   ]
  },
  {
   "cell_type": "code",
   "execution_count": null,
   "metadata": {
    "collapsed": false
   },
   "outputs": [],
   "source": [
    "treatments = []\n",
    "factors = []\n",
    "fractions = []\n",
    "for factor in ['atf3', 'cjun', 'fos', 'fra1','fra2','jdp2', 'junb', 'jund', 'cebpa', 'pu1', 'p65', 'ap-1']:\n",
    "    treatments = treatments + ['Vehicle', 'KLA']\n",
    "    factors = factors + [factor] * 2\n",
    "    fractions.append(summary_frame[(summary_frame['Factors'].str.contains('c57bl6_' + factor + '_veh'))].shape[0]/summary_frame.shape[0])\n",
    "    fractions.append(summary_frame[(summary_frame['Factors'].str.contains('c57bl6_' + factor + '_kla'))].shape[0]/summary_frame.shape[0])   \n",
    "plottingFrame = pd.DataFrame({'Factor':factors,\n",
    "                             'Treatment': treatments,\n",
    "                             'Fraction of Cistrome': fractions})\n",
    "sns.factorplot(data=plottingFrame, \n",
    "               x='Factor',\n",
    "              y='Fraction of Cistrome',\n",
    "              hue='Treatment',\n",
    "              kind='bar')\n",
    "plt.title('Fractional Cistrome Occupancy')\n",
    "plt.xticks(rotation=90)"
   ]
  },
  {
   "cell_type": "markdown",
   "metadata": {},
   "source": [
    "### 2b - Expression of AP-1 family members"
   ]
  },
  {
   "cell_type": "code",
   "execution_count": null,
   "metadata": {
    "collapsed": false
   },
   "outputs": [],
   "source": [
    "%%bash\n",
    "analyzeRepeats.pl rna mm10 -count exons -condenseGenes -rpkm -d  /home/jenhan/analysis/ap1_analysis/tag_directories_rna/*UT*/> rpkm.tsv\n",
    "\n",
    "%%bash\n",
    "python /home/jenhan/code/seq_merge_pipe/run_idr_homerRNA.py rpkm.tsv ./rna_idr KLA KLA Veh Veh"
   ]
  },
  {
   "cell_type": "code",
   "execution_count": null,
   "metadata": {
    "collapsed": true
   },
   "outputs": [],
   "source": [
    "idr_rpkm_frame = pd.read_csv('rna_idr/idr_intersection_rpkm.tsv', sep='\\t')\n",
    "\n",
    "columns = idr_rpkm_frame.columns.values\n",
    "columns[0] = \"refseq\"\n",
    "for i in range(len(columns)):\n",
    "    if \"FPKM\" in columns[i]:\n",
    "        columns[i] = '_'.join(columns[i].split('/')[-1].split('_')[3:5])\n",
    "idr_rpkm_frame.columns = columns    \n",
    "idr_rpkm_frame['gene'] = [x.split(\"|\")[0].upper() for x in idr_rpkm_frame['Annotation/Divergence'].values]\n",
    "idr_rpkm_frame.index = idr_rpkm_frame['gene'].values\n",
    "\n",
    "idr_rpkm_mean_frame = pd.DataFrame()\n",
    "\n",
    "for treatment in idr_rpkm_frame.columns.values[8:-1]:\n",
    "    idr_rpkm_mean_frame[treatment] = np.mean(idr_rpkm_frame[treatment].astype(float), axis=1)"
   ]
  },
  {
   "cell_type": "code",
   "execution_count": null,
   "metadata": {
    "collapsed": false
   },
   "outputs": [],
   "source": [
    "plottingFrame = pd.DataFrame(idr_rpkm_mean_frame[idr_rpkm_mean_frame.index.isin(\n",
    "            ['ATF3', 'JUN', 'FOS', 'FOSL1', 'FOSL2' ,'JDP2', 'JUNB', 'JUND', 'CEBPA', 'SPI1', 'REL','RELA'])].stack())\n",
    "plottingFrame['Factor'] = [x[0] for x in plottingFrame.index.values]\n",
    "plottingFrame['Treatment'] = [x[1] for x in plottingFrame.index.values]\n",
    "plottingFrame.columns = ['RPKM', 'Factor', 'Treatment']\n",
    "plottingFrame['Log2 RPKM'] = np.log2(plottingFrame['RPKM'].values + 1)\n",
    "sns.factorplot(data = plottingFrame, x='Factor', y='Log2 RPKM', hue='Treatment', kind='bar', \n",
    "               hue_order=['Veh_UT','KLA-1h_UT'], \n",
    "               order = ['ATF3', 'JUN', 'FOS', 'FOSL1', 'FOSL2' ,'JDP2', 'JUNB', 'JUND', 'CEBPA', 'SPI1', 'REL','RELA']\n",
    "              )\n",
    "plt.title('RNA Expression of AP-1 and Related Factors')\n",
    "plt.xticks(rotation=90)\n"
   ]
  },
  {
   "cell_type": "markdown",
   "metadata": {},
   "source": [
    "### 2c -  Overlap between all peaks before and after KLA treatment - heatmap (simpler) or clustermap (shows more than pairwise interactions). Or Karnaugh Map - what has to be emphasized is that while there are 2 clusters of PU-1 peaks - with and without AP-1. There are distinct subsets of AP-1 members"
   ]
  },
  {
   "cell_type": "code",
   "execution_count": null,
   "metadata": {
    "collapsed": false
   },
   "outputs": [],
   "source": [
    "ap1_members=['atf3', 'cjun', 'fos', 'fra1','fra2','jdp2', 'junb', 'jund']"
   ]
  },
  {
   "cell_type": "code",
   "execution_count": null,
   "metadata": {
    "collapsed": false
   },
   "outputs": [],
   "source": [
    "### hierarchically cluster peaks in vehicle conditions and do de novo motif analysis on each cluster ###\n",
    "numClusters = 2\n",
    "colorDict = dict(zip(range(numClusters+1), sns.color_palette(\"colorblind\") + \n",
    "                     sns.color_palette(\"Set1\") + \n",
    "                     sns.color_palette(\"Set2\") + \n",
    "                     sns.color_palette(\"husl\") +\n",
    "                     sns.color_palette(\"Paired\")\n",
    "                    ))\n",
    "\n",
    "indices = summary_frame[(summary_frame['Factors'].str.contains('_veh'))].index\n",
    "\n",
    "data = summary_frame[summary_frame.index.isin(indices)][[x for x in summary_frame.columns if 'c57bl6' in x]]\n",
    "data = data[[x for x in data.columns if '_veh' in x and not 'atac' in x]]\n",
    "# data = data[data.max(axis=1) > 0.0]\n",
    "data = data[data[['c57bl6_'+x+'_veh' for x in ap1_members]].max(axis=1) > 0.0]\n",
    "data = data[['c57bl6_'+x+'_veh' for x in ['atf3', 'cjun', 'fos', 'fra1','fra2','jdp2', 'junb', 'jund', 'pu1','cebpa','p65']]]\n",
    "\n",
    "\n",
    "logged_data = np.log2(data+1)\n",
    "\n",
    "cg = sns.clustermap(logged_data,\n",
    "          yticklabels=False,\n",
    "          xticklabels=True,\n",
    "          cmap='Blues',\n",
    "          col_cluster=False)\n",
    "\n"
   ]
  },
  {
   "cell_type": "code",
   "execution_count": null,
   "metadata": {
    "collapsed": false
   },
   "outputs": [],
   "source": [
    "### hierarchically cluster peaks in KLA condition and do de novo motif analysis on each cluster ###\n",
    "numClusters = 2\n",
    "colorDict = dict(zip(range(numClusters+1), sns.color_palette(\"colorblind\") + sns.color_palette(\"Set1\") + sns.color_palette(\"Set2\")))\n",
    "\n",
    "indices = summary_frame[(summary_frame['Factors'].str.contains('_kla'))].index\n",
    "\n",
    "data = summary_frame[summary_frame.index.isin(indices)][[x for x in summary_frame.columns if 'c57bl6' in x]]\n",
    "data = data[[x for x in data.columns if '_kla' in x and not 'atac' in x]]\n",
    "# data = data[data.max(axis=1) > 0.0]\n",
    "data = data[data[['c57bl6_'+x+'_kla' for x in ap1_members]].max(axis=1) > 0.0]\n",
    "data = data[['c57bl6_'+x+'_kla' for x in ['atf3', 'cjun', 'fos', 'fra1','fra2','jdp2', 'junb', 'jund', 'pu1','cebpa','p65']]]\n",
    "logged_data = np.log2(data+1)\n",
    "\n",
    "cg = sns.clustermap(logged_data,\n",
    "          yticklabels=False,\n",
    "          xticklabels=True,\n",
    "          cmap='Reds',\n",
    "          col_cluster=False)\n"
   ]
  },
  {
   "cell_type": "code",
   "execution_count": null,
   "metadata": {
    "collapsed": false
   },
   "outputs": [],
   "source": [
    "data = summary_frame[[x for x in summary_frame.columns if 'c57bl6' in x]]\n",
    "\n",
    "data = data[data[['c57bl6_'+x+'_veh' for x in ap1_members]+['c57bl6_'+x+'_kla' for x in ap1_members]].max(axis=1) > 0.0]\n",
    "\n",
    "veh_data = data[[x for x in data.columns if '_veh' in x and not 'atac' in x]]\n",
    "kla_data = data[[x for x in data.columns if '_kla' in x and not 'atac' in x]]\n",
    "\n",
    "fold_frame = np.log2(pd.DataFrame((kla_data.values+1)).divide((veh_data.values+1)))\n",
    "fold_frame.columns = [x.replace('_kla','').replace('c57bl6_','') for x in data.columns if '_kla' in x and not 'atac' in x]"
   ]
  },
  {
   "cell_type": "code",
   "execution_count": null,
   "metadata": {
    "collapsed": false
   },
   "outputs": [],
   "source": [
    "cg = sns.clustermap(fold_frame[['atf3', 'cjun', 'fos', 'fra1','fra2','jdp2', 'junb', 'jund', 'pu1','cebpa','p65']],\n",
    "          yticklabels=False,\n",
    "          xticklabels=True,\n",
    "          col_cluster=False,\n",
    "          vmin = -4,\n",
    "          vmax = 4,          \n",
    "          cmap='coolwarm')"
   ]
  },
  {
   "cell_type": "code",
   "execution_count": null,
   "metadata": {
    "collapsed": false
   },
   "outputs": [],
   "source": [
    "### hierarchically cluster peaks in KLA condition and do de novo motif analysis on each cluster ###\n",
    "colorDict = dict(zip(range(numClusters+1), sns.color_palette(\"colorblind\") + sns.color_palette(\"Set1\") + sns.color_palette(\"Set2\")))\n",
    "\n",
    "indices = summary_frame.index\n",
    "\n",
    "data = summary_frame[summary_frame.index.isin(indices)][[x for x in summary_frame.columns if 'c57bl6' in x]]\n",
    "data = data[[x for x in data.columns if not 'atac' in x]]\n",
    "data = data[data.max(axis=1) > 0.0]\n",
    "# data = data[data[['c57bl6_'+x+'_kla' for x in ap1_members]].max(axis=1) > 0.0]\n",
    "# data = data[['c57bl6_'+x+'_kla' for x in ['atf3','cjun','fos','junb','jund','pu1','cebpa','p65']]]\n",
    "logged_data = np.log2(data+1)\n",
    "\n",
    "cg = sns.clustermap(logged_data,\n",
    "          yticklabels=False,\n",
    "          xticklabels=True,\n",
    "          col_cluster=False)\n",
    "\n"
   ]
  },
  {
   "cell_type": "markdown",
   "metadata": {},
   "source": [
    "### overlap as heatmap"
   ]
  },
  {
   "cell_type": "code",
   "execution_count": null,
   "metadata": {
    "collapsed": false
   },
   "outputs": [],
   "source": [
    "# get peak IDS for peaks\n",
    "factor_index_dict_veh = {}\n",
    "factor_index_dict_kla = {}\n",
    "\n",
    "for f in _factors:\n",
    "    indices = summary_frame[summary_frame['c57bl6_'+f+'_veh'] > 0].index.values\n",
    "    factor_index_dict_veh[f] = set(indices)\n",
    "    \n",
    "for f in _factors:\n",
    "    indices = summary_frame[summary_frame['c57bl6_'+f+'_kla'] > 0].index.values\n",
    "    factor_index_dict_kla[f] = set(indices)\n",
    "    \n",
    "matrix = np.zeros((len(_factors), len(_factors)))\n",
    "for i in range(len(_factors) - 1):\n",
    "    for j in range(i+1, len(_factors)):\n",
    "        factor1 = _factors[i]\n",
    "        factor2 = _factors[j]\n",
    "        overlap_veh = factor_index_dict_veh[factor1].intersection(factor_index_dict_veh[factor2])\n",
    "        overlap_kla = factor_index_dict_kla[factor1].intersection(factor_index_dict_kla[factor2])\n",
    "        matrix[i][j] = len(overlap_veh)\n",
    "        matrix[j][i] = len(overlap_kla)\n",
    "    "
   ]
  },
  {
   "cell_type": "code",
   "execution_count": null,
   "metadata": {
    "collapsed": false
   },
   "outputs": [],
   "source": [
    "mask = np.zeros_like(matrix)\n",
    "mask[np.triu_indices_from(mask)] = True\n",
    "\n",
    "with sns.axes_style(\"white\"):\n",
    "    sns.heatmap(matrix, \n",
    "                xticklabels=_factors, \n",
    "                yticklabels=_factors,\n",
    "                vmax=10000,\n",
    "                cmap = 'Blues')\n",
    "\n",
    "\n",
    "with sns.axes_style(\"white\"):\n",
    "    cg =sns.heatmap(matrix, \n",
    "                xticklabels=_factors, \n",
    "                yticklabels=_factors,\n",
    "                mask=mask,\n",
    "                vmax=10000,\n",
    "                cmap = 'Reds')\n",
    "plt.setp(cg.axes.yaxis.get_majorticklabels(), rotation=0)\n",
    "\n",
    "\n",
    "plt.title('Overlap of Binding Sites')\n",
    "\n"
   ]
  },
  {
   "cell_type": "markdown",
   "metadata": {},
   "source": [
    "### overlap as chow ruskey diagram"
   ]
  },
  {
   "cell_type": "code",
   "execution_count": null,
   "metadata": {
    "collapsed": false
   },
   "outputs": [],
   "source": [
    "# ### generate R code for chow-ruskey diagram ###\n",
    "# veh_script = open('veh_chowRuskey_script.R','w')\n",
    "# veh_script.write('library(Vennerable);\\n')\n",
    "# # get peak IDS for peaks\n",
    "# for f in _factors:\n",
    "#     indices = summary_frame[summary_frame['c57bl6_'+f+'_veh'] > 0].index.values\n",
    "#     veh_script.write(f + '_ids <- list(' + ','.join([\"'\"+x+\"'\" for x in indices]) + ');\\n')\n",
    "#     veh_script.write(f+'_ids.name <-\"'+f+'\";\\n')\n",
    "# #     print(f + '_ids <- list(' + ','.join(['\"'+x+'\"' for x in indices]) + ');')\n",
    "# veh_script.write('veh_ids <- list(' + ','.join([x+'_ids' for x in _factors]) + ');\\n')\n",
    "# veh_script.write('veh_venn_object <- Venn(veh_ids);\\n')\n",
    "# veh_script.write('pdf(\"veh_chowRuskey.pdf\")\\n')\n",
    "# veh_script.write('plot(veh_venn_object,type=\"ChowRuskey\")\\n')\n",
    "# veh_script.write('dev.off()')\n",
    "# veh_script.close()"
   ]
  },
  {
   "cell_type": "code",
   "execution_count": null,
   "metadata": {
    "collapsed": true
   },
   "outputs": [],
   "source": [
    "# ### generate R code for chow-ruskey diagram ###\n",
    "# veh_script = open('kla_chowRuskey_script.R','w')\n",
    "# veh_script.write('library(Vennerable);\\n')\n",
    "# # get peak IDS for peaks\n",
    "# for f in _factors:\n",
    "#     indices = summary_frame[summary_frame['c57bl6_'+f+'_kla'] > 0].index.values\n",
    "#     veh_script.write(f + '_ids <- list(' + ','.join([\"'\"+x+\"'\" for x in indices]) + ');\\n')\n",
    "#     veh_script.write(f+'_ids.name <-\"'+f+'\";\\n')\n",
    "# #     print(f + '_ids <- list(' + ','.join(['\"'+x+'\"' for x in indices]) + ');')\n",
    "# veh_script.write('kla_ids <- list(' + ','.join([x+'_ids' for x in _factors]) + ');\\n')\n",
    "# veh_script.write('kla_venn_object <- Venn(kla_ids);\\n')\n",
    "# veh_script.write('pdf(\"kla_chowRuskey.pdf\")\\n')\n",
    "# veh_script.write('plot(kla_venn_object,type=\"ChowRuskey\")\\n')\n",
    "# veh_script.write('dev.off()')\n",
    "# veh_script.close()"
   ]
  },
  {
   "cell_type": "markdown",
   "metadata": {},
   "source": [
    "## Figure 3 - Motifs that coordinate binding of individual factors"
   ]
  },
  {
   "cell_type": "markdown",
   "metadata": {},
   "source": [
    "### 3a - workflow of motif analysis pipeline and prediction scheme"
   ]
  },
  {
   "cell_type": "markdown",
   "metadata": {},
   "source": [
    "### 3b - Predictive performance for each factor (bar plot). Or a heatmap (1 axis shows the fraction of samples used for training, the other axis shows each factor, color shows predictive ability)"
   ]
  },
  {
   "cell_type": "code",
   "execution_count": null,
   "metadata": {
    "collapsed": false
   },
   "outputs": [],
   "source": [
    "### test predictive ability with different test fraction sizes\n",
    "factor_auc_dict = {}\n",
    "c57bl6_indices = summary_frame[summary_frame['Factors'].str.contains('c57bl6')].index.values\n",
    "\n",
    "for factor in [x for x in _factors if not 'atac' in x]:\n",
    "    factor_auc_dict[factor] = []\n",
    "    print(factor)\n",
    "    for test_size in [0.1, 0.5, 0.9]:#np.arange(0.1,1.0,0.1):\n",
    "        features = normed_motif_frame[normed_motif_frame.index.isin(c57bl6_indices)]\n",
    "        labels = summary_frame[summary_frame.index.isin(c57bl6_indices)]['Factors'].str.contains(factor)\n",
    "\n",
    "\n",
    "        training_features, test_features, training_labels, test_labels = get_GC_matched_split(\n",
    "            features, labels, test_size = test_size, tolerance = 0.01)\n",
    "        print('test fraction:',test_size, 'num training features', len(training_features), 'num test features', len(test_features))\n",
    "\n",
    "\n",
    "        #  Run classifier\n",
    "        lr_classifier = sklearn.linear_model.LogisticRegression(penalty='l1')\n",
    "\n",
    "        lr_classifier.fit(training_features, training_labels)\n",
    "        # retreive probabilities for each classifier\n",
    "        probas_lr = lr_classifier.predict_proba(test_features)\n",
    "      \n",
    "        fpr_lr, tpr_lr, thresholds_roc_lr = sklearn.metrics.roc_curve(test_labels, probas_lr[:, 1])\n",
    "        roc_auc_lr = auc(fpr_lr, tpr_lr)\n",
    "        factor_auc_dict[factor].append(roc_auc_lr)\n",
    "\n",
    "auc_frame = pd.DataFrame(factor_auc_dict)\n",
    "auc_frame.index = [0.1, 0.5, 0.9]#np.arange(0.1,1.0,0.1)"
   ]
  },
  {
   "cell_type": "code",
   "execution_count": null,
   "metadata": {
    "collapsed": false
   },
   "outputs": [],
   "source": [
    "stacked_frame = pd.DataFrame(auc_frame.stack())\n",
    "stacked_frame['Factor'] = [x[1] for x in stacked_frame.index.values]\n",
    "stacked_frame['Training Fraction'] = [np.round(1- x[0],3) for x in stacked_frame.index.values]\n",
    "stacked_frame.columns = ['AUC', 'Factor', 'Training Fraction']\n",
    "stacked_frame.index = range(stacked_frame.shape[0])\n",
    "with sns.axes_style('whitegrid'):\n",
    "    sns.factorplot(data=stacked_frame[stacked_frame['Training Fraction'].isin([0.1,0.5, 0.9])], \n",
    "                   x='Factor', y='AUC', hue='Training Fraction', size=10, kind='bar', palette='Blues')\n",
    "    plt.ylim(0,1)\n",
    "    plt.title('Classifier Performance with Different Training Set Sizes')"
   ]
  },
  {
   "cell_type": "markdown",
   "metadata": {},
   "source": [
    "### 3c - Weights for all peaks (vehicle or KLA done seperately) as a heatmap, showing which motifs are important for each factor"
   ]
  },
  {
   "cell_type": "code",
   "execution_count": null,
   "metadata": {
    "collapsed": false
   },
   "outputs": [],
   "source": [
    "### for all peaks in vehicle \n",
    "factor_coeff_dict = {}\n",
    "factor_auc_dict_all = {}\n",
    "factor_intercept_dict_veh = {}\n",
    "\n",
    "# factors = ['atf3', 'cjun', 'jund','cebpa', 'pu1']\n",
    "# factors = ['atf3', 'cjun', 'fos', 'junb','jund', 'cebpa', 'pu1', 'p65']\n",
    "factors = ['ap-1', 'cebpa', 'pu1', 'p65']\n",
    "c57bl6_indices = summary_frame[summary_frame[['c57bl6_' + x + '_veh' for x in factors]].sum(axis=1) > 0].index.values\n",
    "\n",
    "for factor in factors:\n",
    "    features = normed_motif_frame[normed_motif_frame.index.isin(c57bl6_indices)]\n",
    "    labels = summary_frame[summary_frame.index.isin(c57bl6_indices)]['Factors'].str.contains(factor + '_veh')\n",
    "    \n",
    "\n",
    "    training_features, test_features, training_labels, test_labels = get_GC_matched_split(\n",
    "        features, labels, test_size = 0.5, tolerance = 0.01)\n",
    "    \n",
    "    #  Run classifier\n",
    "    lr_classifier = sklearn.linear_model.LogisticRegression(penalty='l1')\n",
    "    \n",
    "    lr_classifier.fit(training_features, training_labels)\n",
    "    # retreive probabilities for each classifier\n",
    "    probas_lr = lr_classifier.predict_proba(test_features)\n",
    "    \n",
    "    fpr, tpr, thresholds_roc_lr = sklearn.metrics.roc_curve(test_labels, probas_lr[:, 1])\n",
    "    roc_auc = auc(fpr, tpr)\n",
    "        \n",
    "    coefficients = lr_classifier.coef_    \n",
    "    factor_coeff_dict[factor] = coefficients.flatten()\n",
    "    factor_auc_dict_all[factor] = roc_auc\n",
    "    \n",
    "    factor_intercept_dict_veh[factor] = lr_classifier.intercept_\n",
    "    print(factor, roc_auc)\n",
    "    \n",
    "coefficients_frame_veh = pd.DataFrame(factor_coeff_dict)\n",
    "coefficients_frame_veh = coefficients_frame_veh[factors]\n",
    "coefficients_frame_veh.index = normed_motif_frame.columns.values\n"
   ]
  },
  {
   "cell_type": "code",
   "execution_count": null,
   "metadata": {
    "collapsed": false
   },
   "outputs": [],
   "source": [
    "threshold = 2.5\n",
    "factor_motifs_positive_dict = {}\n",
    "factor_motifs_negative_dict = {}\n",
    "factor_motifs_dict = {}\n",
    "significant_motifs_veh = set()\n",
    "for factor in coefficients_frame_veh.columns.values:\n",
    "    weights = coefficients_frame_veh[factor]\n",
    "    std = np.std(weights)\n",
    "    mean = np.mean(weights)\n",
    "    positive_hits = list(weights[weights >= mean + threshold*std].index.values)\n",
    "    negative_hits = list(weights[weights <= mean - threshold*std].index.values)\n",
    "    motif_hits = negative_hits + positive_hits\n",
    "    \n",
    "    print(factor, mean-threshold*std, mean+threshold*std)\n",
    "    for m in motif_hits:\n",
    "        significant_motifs_veh.add(m)\n",
    "    factor_motifs_dict[factor] = motif_hits\n",
    "    factor_motifs_negative_dict[ factor] = negative_hits\n",
    "    factor_motifs_positive_dict[factor] = positive_hits"
   ]
  },
  {
   "cell_type": "code",
   "execution_count": null,
   "metadata": {
    "collapsed": false
   },
   "outputs": [],
   "source": [
    "threshold = 2.5\n",
    "coeff_std = np.std(coefficients_frame_veh.values.flatten())\n",
    "coeff_mean = np.mean(coefficients_frame_veh.values.flatten())\n",
    "cg = sns.clustermap(coefficients_frame_veh[coefficients_frame_veh.index.isin(significant_motifs_veh)],\n",
    "                   vmax=(coeff_mean + threshold* coeff_std),\n",
    "                   vmin=(coeff_mean - threshold* coeff_std),\n",
    "                   center = coeff_mean,\n",
    "                   annot=False,annot_kws={\"size\": 8},\n",
    "                    col_cluster=False\n",
    "                )\n",
    "plt.setp(cg.ax_heatmap.yaxis.get_majorticklabels(), rotation=0);"
   ]
  },
  {
   "cell_type": "code",
   "execution_count": null,
   "metadata": {
    "collapsed": false
   },
   "outputs": [],
   "source": [
    "### for all peaks in kla \n",
    "factor_coeff_dict = {}\n",
    "factor_auc_dict_all = {}\n",
    "\n",
    "# factors = ['atf3', 'cjun', 'fos', 'junb','jund', 'cebpa', 'pu1', 'p65']\n",
    "factors = ['ap-1', 'cebpa', 'pu1', 'p65']\n",
    "c57bl6_indices = summary_frame[summary_frame[['c57bl6_' + x + '_kla' for x in factors]].sum(axis=1) > 0].index.values\n",
    "\n",
    "\n",
    "for factor in factors:\n",
    "    features = normed_motif_frame[normed_motif_frame.index.isin(c57bl6_indices)]\n",
    "    labels = summary_frame[summary_frame.index.isin(c57bl6_indices)]['Factors'].str.contains(factor + '_kla')\n",
    "    \n",
    "\n",
    "    training_features, test_features, training_labels, test_labels = get_GC_matched_split(\n",
    "        features, labels, test_size = 0.5, tolerance = 0.01)\n",
    "    \n",
    "    #  Run classifier\n",
    "    lr_classifier = sklearn.linear_model.LogisticRegression(penalty='l1')\n",
    "    \n",
    "    lr_classifier.fit(training_features, training_labels)\n",
    "    # retreive probabilities for each classifier\n",
    "    probas_lr = lr_classifier.predict_proba(test_features)\n",
    "    \n",
    "    fpr, tpr, thresholds_roc_lr = sklearn.metrics.roc_curve(test_labels, probas_lr[:, 1])\n",
    "    roc_auc = auc(fpr, tpr)\n",
    "        \n",
    "    coefficients = lr_classifier.coef_    \n",
    "    factor_coeff_dict[factor] = coefficients.flatten()\n",
    "    factor_auc_dict_all[factor] = roc_auc\n",
    "    print(factor, roc_auc)\n",
    "    \n",
    "coefficients_frame_kla = pd.DataFrame(factor_coeff_dict)\n",
    "coefficients_frame_kla = coefficients_frame_kla[factors]\n",
    "coefficients_frame_kla.index = normed_motif_frame.columns.values\n",
    "\n",
    "\n",
    "\n",
    "\n",
    "\n"
   ]
  },
  {
   "cell_type": "code",
   "execution_count": null,
   "metadata": {
    "collapsed": false
   },
   "outputs": [],
   "source": [
    "threshold = 2.5\n",
    "factor_motifs_positive_dict = {}\n",
    "factor_motifs_negative_dict = {}\n",
    "factor_motifs_dict = {}\n",
    "significant_motifs_kla = set()\n",
    "for factor in coefficients_frame_kla.columns.values:\n",
    "    weights = coefficients_frame_kla[factor]\n",
    "    std = np.std(weights)\n",
    "    mean = np.mean(weights)\n",
    "    positive_hits = list(weights[weights >= mean + threshold*std].index.values)\n",
    "    negative_hits = list(weights[weights <= mean - threshold*std].index.values)\n",
    "    motif_hits = negative_hits + positive_hits\n",
    "    \n",
    "    print(factor, mean-threshold*std, mean+threshold*std)\n",
    "    for m in motif_hits:\n",
    "        significant_motifs_kla.add(m)\n",
    "    factor_motifs_dict[factor] = motif_hits\n",
    "    factor_motifs_negative_dict[ factor] = negative_hits\n",
    "    factor_motifs_positive_dict[factor] = positive_hits\n",
    "#     sns.distplot(weights)\n",
    "#     for pos in [mean, mean-std, mean+std, mean+2*std, mean-2*std]:\n",
    "#         plt.axvline(pos)\n",
    "#     plt.title(factor)\n",
    "    \n",
    "#     plt.show()\n",
    "#     print(factor)"
   ]
  },
  {
   "cell_type": "code",
   "execution_count": null,
   "metadata": {
    "collapsed": false
   },
   "outputs": [],
   "source": [
    "threshold = 2.5\n",
    "coeff_std = np.std(coefficients_frame_kla.values.flatten())\n",
    "coeff_mean = np.mean(coefficients_frame_kla.values.flatten())\n",
    "cg = sns.clustermap(coefficients_frame_kla[coefficients_frame_kla.index.isin(significant_motifs_kla)],\n",
    "                   vmax=(coeff_mean + threshold* coeff_std),\n",
    "                   vmin=(coeff_mean - threshold* coeff_std),\n",
    "                   center = coeff_mean,\n",
    "                   annot=False,annot_kws={\"size\": 8},\n",
    "                   col_cluster=False)\n",
    "plt.setp(cg.ax_heatmap.yaxis.get_majorticklabels(), rotation=0);"
   ]
  },
  {
   "cell_type": "markdown",
   "metadata": {},
   "source": [
    "### 3d - boxplots of motif scores for the important motifs? Motif Distance Plots?"
   ]
  },
  {
   "cell_type": "code",
   "execution_count": null,
   "metadata": {
    "collapsed": false,
    "scrolled": false
   },
   "outputs": [],
   "source": [
    "### motif distance plots for veh peaks ###\n",
    "threshold = 2.5\n",
    "factor_motifs_positive_dict = {}\n",
    "factor_motifs_negative_dict = {}\n",
    "factor_motifs_dict = {}\n",
    "for factor in coefficients_frame_veh.columns.values:\n",
    "    weights = coefficients_frame_veh[factor]\n",
    "    std = np.std(weights)\n",
    "    mean = np.mean(weights)\n",
    "    positive_hits = list(weights[weights >= mean + threshold*std].index.values)\n",
    "    negative_hits = list(weights[weights <= mean - threshold*std].index.values)\n",
    "    motif_hits = negative_hits + positive_hits\n",
    "    \n",
    "    factor_motifs_dict[factor] = motif_hits\n",
    "    factor_motifs_negative_dict[ factor] = negative_hits\n",
    "    factor_motifs_positive_dict[factor] = positive_hits\n",
    "    \n",
    "colorDict = dict(zip(range(10), sns.color_palette(\"colorblind\") + \n",
    "                     sns.color_palette(\"Set1\") + \n",
    "                     sns.color_palette(\"Set2\") + \n",
    "                     sns.color_palette(\"husl\") +\n",
    "                     sns.color_palette(\"Paired\")\n",
    "                    ))\n",
    "for factor in coefficients_frame_veh.columns.values:\n",
    "    positive_motifs = sorted(factor_motifs_positive_dict[factor])\n",
    "    negative_motifs = sorted(factor_motifs_negative_dict[factor])\n",
    "    for i in range(len(positive_motifs)):\n",
    "        motif = positive_motifs[i]   \n",
    "        current_frame = summary_frame[summary_frame['Factors'].str.contains('c57bl6_'+factor + '_veh')]\n",
    "        peakCenters = current_frame['start'] + (current_frame['end'] - current_frame['start'])/2.0\n",
    "        peak_center_dict = dict(zip(peakCenters.index, peakCenters.values))\n",
    "        current_motif_frame = motif_start_frame[motif_start_frame.index.isin(current_frame.index)]\n",
    "        motif_starts = current_motif_frame[current_motif_frame[motif] > 0][motif]\n",
    "        motif_start_dict = dict(zip(motif_starts.index, motif_starts.values))\n",
    "        distances = [motif_start_dict[x] - peak_center_dict[x] for x in motif_start_dict]\n",
    "        for j in np.sum(current_motif_frame[current_motif_frame[motif] < 0]):\n",
    "            distances.append(-1000)\n",
    "        distances = np.array(distances)\n",
    "        with sns.axes_style('whitegrid',{'axes.grid': False}):\n",
    "            sns.kdeplot(distances, color=colorDict[i])\n",
    "    for i in range(len(negative_motifs)):\n",
    "        motif = negative_motifs[i]   \n",
    "        current_frame = summary_frame[summary_frame['Factors'].str.contains('c57bl6_'+factor+'_veh')]\n",
    "        peakCenters = current_frame['start'] + (current_frame['end'] - current_frame['start'])/2.0\n",
    "        peak_center_dict = dict(zip(peakCenters.index, peakCenters.values))\n",
    "        current_motif_frame = motif_start_frame[motif_start_frame.index.isin(current_frame.index)]\n",
    "        motif_starts = current_motif_frame[current_motif_frame[motif] > 0][motif]\n",
    "        motif_start_dict = dict(zip(motif_starts.index, motif_starts.values))\n",
    "        distances = [motif_start_dict[x] - peak_center_dict[x] for x in motif_start_dict]\n",
    "        for j in np.sum(current_motif_frame[current_motif_frame[motif] < 0]):\n",
    "            distances.append(-1000)\n",
    "        distances = np.array(distances)\n",
    "        with sns.axes_style('whitegrid',{'axes.grid': False}):\n",
    "            sns.kdeplot(distances, color=colorDict[i+len(positive_motifs)], linestyle='--')        \n",
    "    recs = []\n",
    "    for i in range(0,len(positive_motifs + negative_motifs)):\n",
    "        recs.append(matplotlib.patches.Rectangle((0,0),1,1,fc=colorDict[i]))\n",
    "    plt.legend(recs,positive_motifs + negative_motifs,loc='upper right')\n",
    "    plt.xlim(-500,500)\n",
    "    plt.ylabel('KDE')\n",
    "    plt.xlabel('Distance to ' + factor +' Peak Center')\n",
    "    plt.title('Motif Distance to '+factor +' Peak')\n",
    "    plt.show()"
   ]
  },
  {
   "cell_type": "code",
   "execution_count": null,
   "metadata": {
    "collapsed": false,
    "scrolled": false
   },
   "outputs": [],
   "source": [
    "### motif distance plots for KLA peaks ###\n",
    "threshold = 2.5\n",
    "factor_motifs_positive_dict = {}\n",
    "factor_motifs_negative_dict = {}\n",
    "factor_motifs_dict = {}\n",
    "significant_motifs_kla = set()\n",
    "for factor in coefficients_frame_kla.columns.values:\n",
    "    weights = coefficients_frame_kla[factor]\n",
    "    std = np.std(weights)\n",
    "    mean = np.mean(weights)\n",
    "    positive_hits = list(weights[weights >= mean + threshold*std].index.values)\n",
    "    negative_hits = list(weights[weights <= mean - threshold*std].index.values)\n",
    "    motif_hits = negative_hits + positive_hits\n",
    "    \n",
    "    print(factor, mean-threshold*std, mean+threshold*std)\n",
    "    for m in motif_hits:\n",
    "        significant_motifs_kla.add(m)\n",
    "    factor_motifs_dict[factor] = motif_hits\n",
    "    factor_motifs_negative_dict[ factor] = negative_hits\n",
    "    factor_motifs_positive_dict[factor] = positive_hits\n",
    "\n",
    "colorDict = dict(zip(range(10), sns.color_palette(\"colorblind\") + \n",
    "                     sns.color_palette(\"Set1\") + \n",
    "                     sns.color_palette(\"Set2\") + \n",
    "                     sns.color_palette(\"husl\") +\n",
    "                     sns.color_palette(\"Paired\")\n",
    "                    ))\n",
    "for factor in coefficients_frame_kla.columns.values:\n",
    "    positive_motifs = sorted(factor_motifs_positive_dict[factor])\n",
    "    negative_motifs = sorted(factor_motifs_negative_dict[factor])\n",
    "    for i in range(len(positive_motifs)):\n",
    "        motif = positive_motifs[i]   \n",
    "        current_frame = summary_frame[summary_frame['Factors'].str.contains('c57bl6_'+factor+'_kla')]\n",
    "        peakCenters = current_frame['start'] + (current_frame['end'] - current_frame['start'])/2.0\n",
    "        peak_center_dict = dict(zip(peakCenters.index, peakCenters.values))\n",
    "        current_motif_frame = motif_start_frame[motif_start_frame.index.isin(current_frame.index)]\n",
    "        motif_starts = current_motif_frame[current_motif_frame[motif] > 0][motif]\n",
    "        motif_start_dict = dict(zip(motif_starts.index, motif_starts.values))\n",
    "        distances = [motif_start_dict[x] - peak_center_dict[x] for x in motif_start_dict]\n",
    "        for j in np.sum(current_motif_frame[current_motif_frame[motif] < 0]):\n",
    "            distances.append(-1000)\n",
    "        distances = np.array(distances)\n",
    "        with sns.axes_style('whitegrid',{'axes.grid': False}):\n",
    "            sns.kdeplot(distances, color=colorDict[i])\n",
    "    for i in range(len(negative_motifs)):\n",
    "        motif = negative_motifs[i]   \n",
    "        current_frame = summary_frame[summary_frame['Factors'].str.contains('c57bl6_'+factor+'_kla')]\n",
    "        peakCenters = current_frame['start'] + (current_frame['end'] - current_frame['start'])/2.0\n",
    "        peak_center_dict = dict(zip(peakCenters.index, peakCenters.values))\n",
    "        current_motif_frame = motif_start_frame[motif_start_frame.index.isin(current_frame.index)]\n",
    "        motif_starts = current_motif_frame[current_motif_frame[motif] > 0][motif]\n",
    "        motif_start_dict = dict(zip(motif_starts.index, motif_starts.values))\n",
    "        distances = [motif_start_dict[x] - peak_center_dict[x] for x in motif_start_dict]\n",
    "        for j in np.sum(current_motif_frame[current_motif_frame[motif] < 0]):\n",
    "            distances.append(-1000)\n",
    "        distances = np.array(distances)\n",
    "        with sns.axes_style('whitegrid',{'axes.grid': False}):\n",
    "            sns.kdeplot(distances, color=colorDict[i+len(positive_motifs)], linestyle='--')        \n",
    "    recs = []\n",
    "    for i in range(0,len(positive_motifs + negative_motifs)):\n",
    "        recs.append(matplotlib.patches.Rectangle((0,0),1,1,fc=colorDict[i]))\n",
    "    plt.legend(recs,positive_motifs + negative_motifs,loc='upper right')\n",
    "    plt.xlim(-500,500)\n",
    "    plt.ylabel('KDE')\n",
    "    plt.xlabel('Distance to ' + factor +' Peak Center')\n",
    "    plt.title('Motif Distance to '+factor +' Peak')\n",
    "    plt.show()"
   ]
  },
  {
   "cell_type": "markdown",
   "metadata": {},
   "source": [
    "### 3e - strains confirmation\n",
    "\n"
   ]
  },
  {
   "cell_type": "markdown",
   "metadata": {},
   "source": [
    "#### Vehicle"
   ]
  },
  {
   "cell_type": "code",
   "execution_count": null,
   "metadata": {
    "collapsed": false
   },
   "outputs": [],
   "source": [
    "motif_balbcj_snp_frame = pd.read_pickle('./motif_balbcj_snp_frame.pickle')\n",
    "motif_nod_snp_frame = pd.read_pickle('./motif_nod_snp_frame.pickle')"
   ]
  },
  {
   "cell_type": "code",
   "execution_count": null,
   "metadata": {
    "collapsed": false
   },
   "outputs": [],
   "source": [
    "### for all peaks in vehicle \n",
    "factor_coeff_dict = {}\n",
    "factor_auc_dict_all = {}\n",
    "c57bl6_indices = summary_frame[(summary_frame['Factors'].str.contains('c57bl6')) &\n",
    "                              (summary_frame['Factors'].str.contains('veh'))].index.values\n",
    "factors = ['atf3', 'cjun', 'jund','cebpa', 'pu1']\n",
    "# factors = ['atf3', 'cjun', 'fos', 'junb','jund', 'cebpa', 'pu1', 'p65']\n",
    "# factors = ['ap-1', 'cebpa', 'pu1', 'p65']\n",
    "for factor in factors:\n",
    "    features = normed_motif_frame[normed_motif_frame.index.isin(c57bl6_indices)]\n",
    "    labels = summary_frame[summary_frame.index.isin(c57bl6_indices)]['Factors'].str.contains(factor + '_veh')\n",
    "    \n",
    "\n",
    "    training_features, test_features, training_labels, test_labels = get_GC_matched_split(\n",
    "        features, labels, test_size = 0.5, tolerance = 0.01)\n",
    "    \n",
    "    #  Run classifier\n",
    "    lr_classifier = sklearn.linear_model.LogisticRegression(penalty='l1')\n",
    "    \n",
    "    lr_classifier.fit(training_features, training_labels)\n",
    "    # retreive probabilities for each classifier\n",
    "    probas_lr = lr_classifier.predict_proba(test_features)\n",
    "    \n",
    "    fpr, tpr, thresholds_roc_lr = sklearn.metrics.roc_curve(test_labels, probas_lr[:, 1])\n",
    "    roc_auc = auc(fpr, tpr)\n",
    "        \n",
    "    coefficients = lr_classifier.coef_    \n",
    "    factor_coeff_dict[factor] = coefficients.flatten()\n",
    "    factor_auc_dict_all[factor] = roc_auc\n",
    "    print(factor, roc_auc)\n",
    "    \n",
    "coefficients_frame_veh = pd.DataFrame(factor_coeff_dict)\n",
    "coefficients_frame_veh = coefficients_frame_veh[factors]\n",
    "coefficients_frame_veh.index = normed_motif_frame.columns.values"
   ]
  },
  {
   "cell_type": "code",
   "execution_count": null,
   "metadata": {
    "collapsed": true
   },
   "outputs": [],
   "source": [
    "threshold = 2.5\n",
    "factor_motifs_positive_dict = {}\n",
    "factor_motifs_negative_dict = {}\n",
    "factor_motifs_dict = {}\n",
    "for factor in coefficients_frame_veh.columns.values:\n",
    "    weights = coefficients_frame_veh[factor]\n",
    "    std = np.std(weights)\n",
    "    mean = np.mean(weights)\n",
    "    positive_hits = list(weights[weights >= mean + threshold*std].index.values)\n",
    "    negative_hits = list(weights[weights <= mean - threshold*std].index.values)\n",
    "    motif_hits = negative_hits + positive_hits\n",
    "    \n",
    "    factor_motifs_dict[factor] = motif_hits\n",
    "    factor_motifs_negative_dict[ factor] = negative_hits\n",
    "    factor_motifs_positive_dict[factor] = positive_hits"
   ]
  },
  {
   "cell_type": "code",
   "execution_count": null,
   "metadata": {
    "collapsed": false,
    "scrolled": false
   },
   "outputs": [],
   "source": [
    "strains_factors = ['pu1',\n",
    "#                    'fos',\n",
    "                   'cjun',\n",
    "#                    'junb',\n",
    "                   'jund',\n",
    "                   'pu1']\n",
    "strains = ['balbc', 'nod']\n",
    "treatments = ['veh']\n",
    "\n",
    "strain_list = []\n",
    "factor_list = []\n",
    "binding_list = []\n",
    "binding_ratio_list = []\n",
    "\n",
    "for strain in strains:\n",
    "    for factor in strains_factors:\n",
    "        for treatment in treatments:\n",
    "            print(strain, factor, treatment)\n",
    "            strain_factor_treatment_1 = 'c57bl6'+'_'+factor+'_'+treatment\n",
    "            strain_factor_treatment_2 = strain+'_'+factor+'_'+treatment\n",
    "            indices = summary_frame[(summary_frame['Factors'].str.contains(strain_factor_treatment_1)) |\n",
    "                                   (summary_frame['Factors'].str.contains(strain_factor_treatment_2))].index.values\n",
    "            \n",
    "            positive_motifs = factor_motifs_positive_dict[factor]\n",
    "            negative_motifs = factor_motifs_negative_dict[factor]\n",
    "#             print(positive_motifs)\n",
    "            threshold = max(0,len(positive_motifs))\n",
    "            threshold = len(positive_motifs) -1\n",
    "            if strain == 'balbcj':\n",
    "                snp_indices = motif_balbcj_snp_frame[(motif_balbcj_snp_frame[positive_motifs].sum(axis=1) >= threshold) &\n",
    "                                                     (motif_balbcj_snp_frame.sum(axis=1) <=20)\n",
    "                                                    ].index.values\n",
    "            elif strain == 'nod':\n",
    "                snp_indices = motif_nod_snp_frame[(motif_nod_snp_frame[positive_motifs].sum(axis=1) >= threshold) &\n",
    "                                                     (motif_nod_snp_frame.sum(axis=1) <= 20)].index.values\n",
    "\n",
    "            indices = [x for x in indices if x in snp_indices]\n",
    "            \n",
    "            peakScores_1 = summary_frame.ix[indices,strain_factor_treatment_1]\n",
    "            peakScores_2 = summary_frame.ix[indices,strain_factor_treatment_2]\n",
    "            \n",
    "            binding_ratios = (peakScores_1 +1)/(peakScores_2 + 1)\n",
    "            log_binding_ratios = list(np.log2(binding_ratios+1))\n",
    "\n",
    "            if len(peakScores_1) > 1:\n",
    "\n",
    "                binding_ratio_list = binding_ratio_list + log_binding_ratios\n",
    "                binding_list = binding_list +list(peakScores_1)\n",
    "                binding_list = binding_list + list(peakScores_2)\n",
    "                factor_list = factor_list + [factor] * 1 * len(log_binding_ratios)\n",
    "#                 strain_list = strain_list + ['c57bl6']  *len(log_binding_ratios)\n",
    "                strain_list = strain_list + [strain]  *len(log_binding_ratios)"
   ]
  },
  {
   "cell_type": "code",
   "execution_count": null,
   "metadata": {
    "collapsed": false
   },
   "outputs": [],
   "source": [
    "snp_plotting_frame = pd.DataFrame({'Factor':factor_list,\n",
    "                                  'Strain':strain_list,\n",
    "                                   'Log 2 Binding Ratio':binding_ratio_list}\n",
    "                                  )\n",
    "sns.factorplot(data = snp_plotting_frame,\n",
    "               x='Factor', \n",
    "               hue='Strain',\n",
    "               y='Log 2 Binding Ratio',\n",
    "              kind='bar',\n",
    "             )\n",
    "plt.ylabel('Log 2 Binding Ratio (C57/Strain)')\n",
    "plt.show()\n"
   ]
  },
  {
   "cell_type": "markdown",
   "metadata": {},
   "source": [
    "#### KLA"
   ]
  },
  {
   "cell_type": "code",
   "execution_count": null,
   "metadata": {
    "collapsed": false
   },
   "outputs": [],
   "source": [
    "### for all peaks in kla \n",
    "factor_coeff_dict = {}\n",
    "factor_auc_dict_all = {}\n",
    "c57bl6_indices = summary_frame[(summary_frame['Factors'].str.contains('c57bl6')) &\n",
    "                              (summary_frame['Factors'].str.contains('kla'))].index.values\n",
    "factors = ['atf3', 'cjun', 'fos', 'junb','jund', 'cebpa', 'pu1', 'p65']\n",
    "# factors = ['ap-1', 'cebpa', 'pu1', 'p65']\n",
    "\n",
    "for factor in factors:\n",
    "    features = normed_motif_frame[normed_motif_frame.index.isin(c57bl6_indices)]\n",
    "    labels = summary_frame[summary_frame.index.isin(c57bl6_indices)]['Factors'].str.contains(factor + '_kla')\n",
    "    \n",
    "\n",
    "    training_features, test_features, training_labels, test_labels = get_GC_matched_split(\n",
    "        features, labels, test_size = 0.5, tolerance = 0.01)\n",
    "    \n",
    "    #  Run classifier\n",
    "    lr_classifier = sklearn.linear_model.LogisticRegression(penalty='l1')\n",
    "    \n",
    "    lr_classifier.fit(training_features, training_labels)\n",
    "    # retreive probabilities for each classifier\n",
    "    probas_lr = lr_classifier.predict_proba(test_features)\n",
    "    \n",
    "    fpr, tpr, thresholds_roc_lr = sklearn.metrics.roc_curve(test_labels, probas_lr[:, 1])\n",
    "    roc_auc = auc(fpr, tpr)\n",
    "        \n",
    "    coefficients = lr_classifier.coef_    \n",
    "    factor_coeff_dict[factor] = coefficients.flatten()\n",
    "    factor_auc_dict_all[factor] = roc_auc\n",
    "    print(factor, roc_auc)\n",
    "    \n",
    "coefficients_frame_kla = pd.DataFrame(factor_coeff_dict)\n",
    "coefficients_frame_kla = coefficients_frame_kla[factors]\n",
    "coefficients_frame_kla.index = normed_motif_frame.columns.values\n"
   ]
  },
  {
   "cell_type": "code",
   "execution_count": null,
   "metadata": {
    "collapsed": false
   },
   "outputs": [],
   "source": [
    "threshold = 2.5\n",
    "factor_motifs_positive_dict = {}\n",
    "factor_motifs_negative_dict = {}\n",
    "factor_motifs_dict = {}\n",
    "significant_motifs_kla = set()\n",
    "for factor in coefficients_frame_kla.columns.values:\n",
    "    weights = coefficients_frame_kla[factor]\n",
    "    std = np.std(weights)\n",
    "    mean = np.mean(weights)\n",
    "    positive_hits = list(weights[weights >= mean + threshold*std].index.values)\n",
    "    negative_hits = list(weights[weights <= mean - threshold*std].index.values)\n",
    "    motif_hits = negative_hits + positive_hits\n",
    "    \n",
    "    print(factor, mean-threshold*std, mean+threshold*std)\n",
    "    for m in motif_hits:\n",
    "        significant_motifs_kla.add(m)\n",
    "    factor_motifs_dict[factor] = motif_hits\n",
    "    factor_motifs_negative_dict[ factor] = negative_hits\n",
    "    factor_motifs_positive_dict[factor] = positive_hits\n"
   ]
  },
  {
   "cell_type": "code",
   "execution_count": null,
   "metadata": {
    "collapsed": false,
    "scrolled": false
   },
   "outputs": [],
   "source": [
    "strains_factors = ['pu1',\n",
    "                   'fos',\n",
    "                   'cjun',\n",
    "                   'junb',\n",
    "                   'jund',\n",
    "                   'pu1']\n",
    "strains = ['balbc', 'nod']\n",
    "treatments = ['kla']\n",
    "\n",
    "strain_list = []\n",
    "factor_list = []\n",
    "binding_list = []\n",
    "binding_ratio_list = []\n",
    "\n",
    "for strain in strains:\n",
    "    for factor in strains_factors:\n",
    "        for treatment in treatments:\n",
    "            print(strain, factor, treatment)\n",
    "            strain_factor_treatment_1 = 'c57bl6'+'_'+factor+'_'+treatment\n",
    "            strain_factor_treatment_2 = strain+'_'+factor+'_'+treatment\n",
    "            indices = summary_frame[(summary_frame['Factors'].str.contains(strain_factor_treatment_1)) |\n",
    "                                   (summary_frame['Factors'].str.contains(strain_factor_treatment_2))].index.values\n",
    "            \n",
    "            positive_motifs = factor_motifs_positive_dict[factor]\n",
    "            negative_motifs = factor_motifs_negative_dict[factor]\n",
    "#             print(positive_motifs)\n",
    "            threshold = max(0,len(positive_motifs))\n",
    "            threshold = len(positive_motifs) -1 \n",
    "            if strain == 'balbcj':\n",
    "                snp_indices = motif_balbcj_snp_frame[(motif_balbcj_snp_frame[positive_motifs].sum(axis=1) >= threshold) &\n",
    "                                                     (motif_balbcj_snp_frame.sum(axis=1) <=20)\n",
    "                                                    ].index.values\n",
    "            elif strain == 'nod':\n",
    "                snp_indices = motif_nod_snp_frame[(motif_nod_snp_frame[positive_motifs].sum(axis=1) >= threshold) &\n",
    "                                                     (motif_nod_snp_frame.sum(axis=1) <= 20)].index.values\n",
    "\n",
    "            indices = [x for x in indices if x in snp_indices]\n",
    "            \n",
    "            peakScores_1 = summary_frame.ix[indices,strain_factor_treatment_1]\n",
    "            peakScores_2 = summary_frame.ix[indices,strain_factor_treatment_2]\n",
    "            \n",
    "            binding_ratios = (peakScores_1 +1)/(peakScores_2 + 1)\n",
    "            log_binding_ratios = list(np.log2(binding_ratios+1))\n",
    "\n",
    "            if len(peakScores_1) > 1:\n",
    "\n",
    "                binding_ratio_list = binding_ratio_list + log_binding_ratios\n",
    "                binding_list = binding_list +list(peakScores_1)\n",
    "                binding_list = binding_list + list(peakScores_2)\n",
    "                factor_list = factor_list + [factor] * 1 * len(log_binding_ratios)\n",
    "#                 strain_list = strain_list + ['c57bl6']  *len(log_binding_ratios)\n",
    "                strain_list = strain_list + [strain]  *len(log_binding_ratios)"
   ]
  },
  {
   "cell_type": "code",
   "execution_count": null,
   "metadata": {
    "collapsed": false
   },
   "outputs": [],
   "source": [
    "snp_plotting_frame = pd.DataFrame({'Factor':factor_list,\n",
    "                                  'Strain':strain_list,\n",
    "                                   'Log 2 Binding Ratio':binding_ratio_list}\n",
    "                                  )\n",
    "sns.factorplot(data = snp_plotting_frame,\n",
    "               x='Factor', \n",
    "               hue='Strain',\n",
    "               y='Log 2 Binding Ratio',\n",
    "              kind='bar',\n",
    "             )\n",
    "plt.ylabel('Log 2 Binding Ratio (C57/Strain)')\n",
    "plt.show()\n"
   ]
  },
  {
   "cell_type": "markdown",
   "metadata": {},
   "source": [
    "## Figure 4 - Motifs that coordinate pairs of transcription factors"
   ]
  },
  {
   "cell_type": "markdown",
   "metadata": {},
   "source": [
    "### 4a - Workflow of motif analysis and prediction scheme\n"
   ]
  },
  {
   "cell_type": "markdown",
   "metadata": {},
   "source": [
    "### 4c- Heatmap highlighting weights that are important for each pair of factors (collapse AP-1 for comparisons to PU-1 and CEBPa and p65)\n"
   ]
  },
  {
   "cell_type": "markdown",
   "metadata": {},
   "source": [
    "#### comparisons to collapsed PU.1, CEBPa, and p65"
   ]
  },
  {
   "cell_type": "markdown",
   "metadata": {},
   "source": [
    "#### vehicle"
   ]
  },
  {
   "cell_type": "code",
   "execution_count": null,
   "metadata": {
    "collapsed": true
   },
   "outputs": [],
   "source": [
    "factors = ['ap-1', 'cebpa', 'p65', 'pu1']\n",
    "factorPairs = []\n",
    "for i in range(len(factors)-1):\n",
    "    for j in range(i+1, len(factors)):\n",
    "        factorPairs.append(('c57bl6_'+factors[i],'c57bl6_'+ factors[j]))"
   ]
  },
  {
   "cell_type": "code",
   "execution_count": null,
   "metadata": {
    "collapsed": false
   },
   "outputs": [],
   "source": [
    "### for all peaks in vehicle for all motifs\n",
    "factor_coeff_dict = {}\n",
    "factor_auc_dict_pairs = {}\n",
    "c57bl6_indices = summary_frame[(summary_frame['Factors'].str.contains('c57bl6')) &\n",
    "                              (summary_frame['Factors'].str.contains('veh'))].index.values\n",
    "\n",
    "for factorPair in factorPairs:\n",
    "    features = normed_motif_frame[normed_motif_frame.index.isin(c57bl6_indices)]\n",
    "    labels = summary_frame[summary_frame.index.isin(c57bl6_indices)]['Factors'].str.contains(\n",
    "        factorPair[0]+'_veh') & summary_frame['Factors'].str.contains(factorPair[1]+'_veh')\n",
    "    training_features, test_features, training_labels, test_labels = get_GC_matched_split(\n",
    "        features, labels, test_size = 0.5, tolerance = 0.01)\n",
    "    \n",
    "    # Run classifier\n",
    "    lr_classifier = sklearn.linear_model.LogisticRegression(penalty='l1')\n",
    "    \n",
    "    lr_classifier.fit(training_features, training_labels)\n",
    "    # retreive probabilities for each classifier\n",
    "    probas_lr = lr_classifier.predict_proba(test_features)\n",
    "    # retrieve predictions for each classifier\n",
    "    \n",
    "    fpr, tpr, thresholds_roc_lr = sklearn.metrics.roc_curve(test_labels, probas_lr[:, 1])\n",
    "    roc_auc = auc(fpr, tpr)\n",
    "    factor_auc_dict_pairs['_'.join(factorPair).replace('c57bl6_','')]= roc_auc\n",
    "    coefficients = lr_classifier.coef_\n",
    "    \n",
    "    factor_coeff_dict['_'.join(factorPair)] = coefficients.flatten()\n",
    "    print(factorPair, roc_auc)\n",
    "coefficients_frame_veh_pairs = pd.DataFrame(factor_coeff_dict)\n",
    "coefficients_frame_veh_pairs.index = normed_motif_frame.columns.values"
   ]
  },
  {
   "cell_type": "code",
   "execution_count": null,
   "metadata": {
    "collapsed": false
   },
   "outputs": [],
   "source": [
    "threshold = 2.5\n",
    "factorPair_motifs_positive_dict = {}\n",
    "factorPair_motifs_negative_dict = {}\n",
    "factorPair_motifs_dict = {}\n",
    "significant_motifs_veh_pairs = set()\n",
    "for factor in coefficients_frame_veh_pairs.columns.values:\n",
    "    weights = coefficients_frame_veh_pairs[factor]\n",
    "    std = np.std(weights)\n",
    "    mean = np.mean(weights)\n",
    "    positive_hits = list(weights[weights >= mean + threshold*std].index.values)\n",
    "    negative_hits = list(weights[weights <= mean - threshold*std].index.values)\n",
    "    motif_hits = negative_hits + positive_hits\n",
    "    \n",
    "    print(factor, mean-threshold*std, mean+threshold*std)\n",
    "    for m in motif_hits:\n",
    "        significant_motifs_veh_pairs.add(m)\n",
    "    factorPair_motifs_dict[factor] = motif_hits\n",
    "    factorPair_motifs_negative_dict[ factor] = negative_hits\n",
    "    factorPair_motifs_positive_dict[factor] = positive_hits\n",
    "#     sns.distplot(weights)\n",
    "#     for pos in [mean, mean-std, mean+std, mean+2*std, mean-2*std]:\n",
    "#         plt.axvline(pos)\n",
    "#     plt.title(factor)\n",
    "    \n",
    "#     plt.show()\n",
    "#     print(factor)"
   ]
  },
  {
   "cell_type": "code",
   "execution_count": null,
   "metadata": {
    "collapsed": false
   },
   "outputs": [],
   "source": [
    "threshold = 3\n",
    "coeff_std = np.std(coefficients_frame_veh_pairs.values.flatten())\n",
    "coeff_mean = np.mean(coefficients_frame_veh_pairs.values.flatten())\n",
    "data = coefficients_frame_veh_pairs[coefficients_frame_veh_pairs.index.isin(significant_motifs_veh_pairs)]\n",
    "data.columns = [x.replace('c57bl6_','') for x in data.columns.values]\n",
    "# fig, ax = plt.subplots(figsize=(10,10))\n",
    "with sns.axes_style('whitegrid'):\n",
    "    cg = sns.clustermap(data,\n",
    "                       vmax=(coeff_mean + threshold* coeff_std),\n",
    "                       vmin=(coeff_mean - threshold* coeff_std),\n",
    "                       center = coeff_mean,\n",
    "                       annot=False,annot_kws={\"size\": 6},\n",
    "                       col_cluster=False)\n",
    "    plt.setp(cg.ax_heatmap.yaxis.get_majorticklabels(), rotation=0);"
   ]
  },
  {
   "cell_type": "markdown",
   "metadata": {},
   "source": [
    "#### KLA"
   ]
  },
  {
   "cell_type": "code",
   "execution_count": null,
   "metadata": {
    "collapsed": false
   },
   "outputs": [],
   "source": [
    "### for all peaks in KLA for all motifs\n",
    "factor_coeff_dict = {}\n",
    "factor_auc_dict_pairs = {}\n",
    "c57bl6_indices = summary_frame[(summary_frame['Factors'].str.contains('c57bl6')) &\n",
    "                              (summary_frame['Factors'].str.contains('kla'))].index.values\n",
    "\n",
    "for factorPair in factorPairs:\n",
    "    features = normed_motif_frame[normed_motif_frame.index.isin(c57bl6_indices)]\n",
    "    labels = summary_frame[summary_frame.index.isin(c57bl6_indices)]['Factors'].str.contains(\n",
    "        factorPair[0]+'_kla') & summary_frame['Factors'].str.contains(factorPair[1]+'_kla')\n",
    "    training_features, test_features, training_labels, test_labels = get_GC_matched_split(\n",
    "        features, labels, test_size = 0.5, tolerance = 0.01)\n",
    "    \n",
    "    # Run classifier\n",
    "    lr_classifier = sklearn.linear_model.LogisticRegression(penalty='l1')\n",
    "    \n",
    "    lr_classifier.fit(training_features, training_labels)\n",
    "    # retreive probabilities for each classifier\n",
    "    probas_lr = lr_classifier.predict_proba(test_features)\n",
    "    # retrieve predictions for each classifier\n",
    "    \n",
    "    fpr, tpr, thresholds_roc_lr = sklearn.metrics.roc_curve(test_labels, probas_lr[:, 1])\n",
    "    roc_auc = auc(fpr, tpr)\n",
    "    factor_auc_dict_pairs['_'.join(factorPair).replace('c57bl6_','')]= roc_auc\n",
    "    coefficients = lr_classifier.coef_\n",
    "    \n",
    "    factor_coeff_dict['_'.join(factorPair)] = coefficients.flatten()\n",
    "    print(factorPair, roc_auc)\n",
    "coefficients_frame_kla_pairs = pd.DataFrame(factor_coeff_dict)\n",
    "coefficients_frame_kla_pairs.index = normed_motif_frame.columns.values\n",
    "\n"
   ]
  },
  {
   "cell_type": "code",
   "execution_count": null,
   "metadata": {
    "collapsed": false
   },
   "outputs": [],
   "source": [
    "threshold = 2.5\n",
    "factorPair_motifs_positive_dict = {}\n",
    "factorPair_motifs_negative_dict = {}\n",
    "factorPair_motifs_dict = {}\n",
    "significant_motifs_kla_pairs = set()\n",
    "for factor in coefficients_frame_kla_pairs.columns.values:\n",
    "    weights = coefficients_frame_kla_pairs[factor]\n",
    "    std = np.std(weights)\n",
    "    mean = np.mean(weights)\n",
    "    positive_hits = list(weights[weights >= mean + threshold*std].index.values)\n",
    "    negative_hits = list(weights[weights <= mean - threshold*std].index.values)\n",
    "    motif_hits = negative_hits + positive_hits\n",
    "    \n",
    "    print(factor, mean-threshold*std, mean+threshold*std)\n",
    "    for m in motif_hits:\n",
    "        significant_motifs_kla_pairs.add(m)\n",
    "    factorPair_motifs_dict[factor] = motif_hits\n",
    "    factorPair_motifs_negative_dict[ factor] = negative_hits\n",
    "    factorPair_motifs_positive_dict[factor] = positive_hits\n",
    "#     sns.distplot(weights)\n",
    "#     for pos in [mean, mean-std, mean+std, mean+2*std, mean-2*std]:\n",
    "#         plt.axvline(pos)\n",
    "#     plt.title(factor)\n",
    "    \n",
    "#     plt.show()\n",
    "#     print(factor)\n",
    "\n"
   ]
  },
  {
   "cell_type": "code",
   "execution_count": null,
   "metadata": {
    "collapsed": false
   },
   "outputs": [],
   "source": [
    "threshold = 3\n",
    "coeff_std = np.std(coefficients_frame_kla_pairs.values.flatten())\n",
    "coeff_mean = np.mean(coefficients_frame_kla_pairs.values.flatten())\n",
    "data = coefficients_frame_kla_pairs[coefficients_frame_kla_pairs.index.isin(significant_motifs_kla_pairs)]\n",
    "data.columns = [x.replace('c57bl6_','') for x in data.columns.values]\n",
    "cg = sns.clustermap(data,\n",
    "                   vmax=(coeff_mean + threshold* coeff_std),\n",
    "                   vmin=(coeff_mean - threshold* coeff_std),\n",
    "                   center = coeff_mean,\n",
    "                   annot=False,annot_kws={\"size\": 6},\n",
    "                   col_cluster=False)\n",
    "plt.setp(cg.ax_heatmap.yaxis.get_majorticklabels(), rotation=0);"
   ]
  },
  {
   "cell_type": "markdown",
   "metadata": {},
   "source": [
    "### comparisons within AP-1 dimers"
   ]
  },
  {
   "cell_type": "code",
   "execution_count": null,
   "metadata": {
    "collapsed": true
   },
   "outputs": [],
   "source": [
    "factors = ['atf3', 'cjun','fos', 'fra1','fra2','jdp2','junb', 'jund']\n",
    "factorPairs = []\n",
    "for i in range(len(factors)-1):\n",
    "    for j in range(i + 1, len(factors)):\n",
    "        factorPairs.append(('c57bl6_'+factors[i],'c57bl6_'+ factors[j]))"
   ]
  },
  {
   "cell_type": "code",
   "execution_count": null,
   "metadata": {
    "collapsed": false
   },
   "outputs": [],
   "source": [
    "### for all peaks in vehicle for all motifs\n",
    "factor_coeff_dict = {}\n",
    "factor_auc_dict_pairs = {}\n",
    "c57bl6_indicesc57bl6_indices = summary_frame[(summary_frame['Factors'].str.contains('c57bl6')) &\n",
    "                              (summary_frame['Factors'].str.contains('veh'))].index.values\n",
    "\n",
    "for factorPair in factorPairs:\n",
    "    features = normed_motif_frame[normed_motif_frame.index.isin(c57bl6_indices)]\n",
    "    label_frame = summary_frame[summary_frame.index.isin(c57bl6_indices)]\n",
    "    if factorPair[0] == factorPair[1]:\n",
    "        labels = label_frame.ix[:,5:].sum(axis=1) == label_frame[factorPair[0] + '_veh']\n",
    "    else:\n",
    "        labels = label_frame['Factors'].str.contains(\n",
    "        factorPair[0]+'_veh') & summary_frame['Factors'].str.contains(factorPair[1]+'_veh')\n",
    "    training_features, test_features, training_labels, test_labels = get_GC_matched_split(\n",
    "        features, labels, test_size = 0.5, tolerance = 0.01)\n",
    "    \n",
    "    # Run classifier\n",
    "    lr_classifier = sklearn.linear_model.LogisticRegression(penalty='l1')\n",
    "    \n",
    "    lr_classifier.fit(training_features, training_labels)\n",
    "    # retreive probabilities for each classifier\n",
    "    probas_lr = lr_classifier.predict_proba(test_features)\n",
    "    # retrieve predictions for each classifier\n",
    "    \n",
    "    fpr, tpr, thresholds_roc_lr = sklearn.metrics.roc_curve(test_labels, probas_lr[:, 1])\n",
    "    roc_auc = auc(fpr, tpr)\n",
    "    factor_auc_dict_pairs['_'.join(factorPair).replace('c57bl6_','')]= roc_auc\n",
    "    coefficients = lr_classifier.coef_\n",
    "    \n",
    "    factor_coeff_dict['_'.join(factorPair)] = coefficients.flatten()\n",
    "    print(factorPair, roc_auc)\n",
    "coefficients_frame_ap1_veh_pairs = pd.DataFrame(factor_coeff_dict)\n",
    "coefficients_frame_ap1_veh_pairs.index = normed_motif_frame.columns.values\n",
    "\n",
    "\n"
   ]
  },
  {
   "cell_type": "code",
   "execution_count": null,
   "metadata": {
    "collapsed": false
   },
   "outputs": [],
   "source": [
    "threshold = 2.5\n",
    "factorPair_motifs_positive_dict = {}\n",
    "factorPair_motifs_negative_dict = {}\n",
    "factorPair_motifs_dict = {}\n",
    "significant_motifs_ap1_veh_pairs = set()\n",
    "for factor in coefficients_frame_ap1_veh_pairs.columns.values:\n",
    "    weights = coefficients_frame_ap1_veh_pairs[factor]\n",
    "    std = np.std(weights)\n",
    "    mean = np.mean(weights)\n",
    "    positive_hits = list(weights[weights >= mean + threshold*std].index.values)\n",
    "    negative_hits = list(weights[weights <= mean - threshold*std].index.values)\n",
    "    motif_hits = negative_hits + positive_hits\n",
    "    \n",
    "    print(factor, mean-threshold*std, mean+threshold*std)\n",
    "    for m in motif_hits:\n",
    "        significant_motifs_ap1_veh_pairs.add(m)\n",
    "    factorPair_motifs_dict[factor] = motif_hits\n",
    "    factorPair_motifs_negative_dict[ factor] = negative_hits\n",
    "    factorPair_motifs_positive_dict[factor] = positive_hits\n",
    "\n"
   ]
  },
  {
   "cell_type": "code",
   "execution_count": null,
   "metadata": {
    "collapsed": false
   },
   "outputs": [],
   "source": [
    "threshold = 3\n",
    "coeff_std = np.std(coefficients_frame_ap1_veh_pairs.values.flatten())\n",
    "coeff_mean = np.mean(coefficients_frame_ap1_veh_pairs.values.flatten())\n",
    "data = coefficients_frame_ap1_veh_pairs[coefficients_frame_ap1_veh_pairs.index.isin(significant_motifs_ap1_veh_pairs)]\n",
    "data.columns = [x.replace('c57bl6_','') for x in data.columns.values]\n",
    "# fig, ax = plt.subplots(figsize=(10,10))\n",
    "data=data[(data.min(axis=1) <=0) & (data.max(axis=1) >= 0) ]\n",
    "# data=data[(data.min(axis=1) <=0)]\n",
    "with sns.axes_style('whitegrid'):\n",
    "    cg = sns.clustermap(data,\n",
    "                       vmax=(coeff_mean + threshold* coeff_std),\n",
    "                       vmin=(coeff_mean - threshold* coeff_std),\n",
    "                       center = coeff_mean,\n",
    "                       annot=False,annot_kws={\"size\": 6},\n",
    "                       col_cluster = False)\n",
    "    plt.setp(cg.ax_heatmap.yaxis.get_majorticklabels(), rotation=0, fontsize=8);"
   ]
  },
  {
   "cell_type": "code",
   "execution_count": null,
   "metadata": {
    "collapsed": true
   },
   "outputs": [],
   "source": [
    "factors = ['atf3', 'cjun','fos', 'fra1','fra2','jdp2','junb', 'jund']\n",
    "\n",
    "factorPairs = []\n",
    "for i in range(len(factors)-1):\n",
    "    for j in range(i+1, len(factors)):\n",
    "        factorPairs.append(('c57bl6_'+factors[i],'c57bl6_'+ factors[j]))"
   ]
  },
  {
   "cell_type": "code",
   "execution_count": null,
   "metadata": {
    "collapsed": false
   },
   "outputs": [],
   "source": [
    "### for all peaks in vehicle for all motifs\n",
    "factor_coeff_dict = {}\n",
    "factor_auc_dict_pairs = {}\n",
    "c57bl6_indices = summary_frame[(summary_frame['Factors'].str.contains('c57bl6')) &\n",
    "                              (summary_frame['Factors'].str.contains('kla'))].index.values\n",
    "\n",
    "for factorPair in factorPairs:\n",
    "    features = normed_motif_frame[normed_motif_frame.index.isin(c57bl6_indices)]\n",
    "    labels = summary_frame[summary_frame.index.isin(c57bl6_indices)]['Factors'].str.contains(\n",
    "        factorPair[0]+'_kla') & summary_frame['Factors'].str.contains(factorPair[1]+'_kla')\n",
    "    training_features, test_features, training_labels, test_labels = get_GC_matched_split(\n",
    "        features, labels, test_size = 0.5, tolerance = 0.01)\n",
    "    \n",
    "    # Run classifier\n",
    "    lr_classifier = sklearn.linear_model.LogisticRegression(penalty='l1')\n",
    "    \n",
    "    lr_classifier.fit(training_features, training_labels)\n",
    "    # retreive probabilities for each classifier\n",
    "    probas_lr = lr_classifier.predict_proba(test_features)\n",
    "    # retrieve predictions for each classifier\n",
    "    \n",
    "    fpr, tpr, thresholds_roc_lr = sklearn.metrics.roc_curve(test_labels, probas_lr[:, 1])\n",
    "    roc_auc = auc(fpr, tpr)\n",
    "    factor_auc_dict_pairs['_'.join(factorPair).replace('c57bl6_','')]= roc_auc\n",
    "    coefficients = lr_classifier.coef_\n",
    "    \n",
    "    factor_coeff_dict['_'.join(factorPair)] = coefficients.flatten()\n",
    "    print(factorPair, roc_auc)\n",
    "coefficients_frame_ap1_kla_pairs = pd.DataFrame(factor_coeff_dict)\n",
    "coefficients_frame_ap1_kla_pairs.index = normed_motif_frame.columns.values\n",
    "\n",
    "\n",
    "\n"
   ]
  },
  {
   "cell_type": "code",
   "execution_count": null,
   "metadata": {
    "collapsed": false
   },
   "outputs": [],
   "source": [
    "threshold = 2.5\n",
    "factorPair_motifs_positive_dict = {}\n",
    "factorPair_motifs_negative_dict = {}\n",
    "factorPair_motifs_dict = {}\n",
    "significant_motifs_ap1_kla_pairs = set()\n",
    "for factor in coefficients_frame_ap1_kla_pairs.columns.values:\n",
    "    weights = coefficients_frame_ap1_kla_pairs[factor]\n",
    "    std = np.std(weights)\n",
    "    mean = np.mean(weights)\n",
    "    positive_hits = list(weights[weights >= mean + threshold*std].index.values)\n",
    "    negative_hits = list(weights[weights <= mean - threshold*std].index.values)\n",
    "    motif_hits = negative_hits + positive_hits\n",
    "    \n",
    "    print(factor, mean-threshold*std, mean+threshold*std)\n",
    "    for m in motif_hits:\n",
    "        significant_motifs_ap1_kla_pairs.add(m)\n",
    "    factorPair_motifs_dict[factor] = motif_hits\n",
    "    factorPair_motifs_negative_dict[ factor] = negative_hits\n",
    "    factorPair_motifs_positive_dict[factor] = positive_hits\n",
    "\n"
   ]
  },
  {
   "cell_type": "code",
   "execution_count": null,
   "metadata": {
    "collapsed": false
   },
   "outputs": [],
   "source": [
    "threshold = 3\n",
    "coeff_std = np.std(coefficients_frame_ap1_kla_pairs.values.flatten())\n",
    "coeff_mean = np.mean(coefficients_frame_ap1_kla_pairs.values.flatten())\n",
    "data = coefficients_frame_ap1_kla_pairs[coefficients_frame_ap1_kla_pairs.index.isin(significant_motifs_ap1_kla_pairs)]\n",
    "data.columns = [x.replace('c57bl6_','') for x in data.columns.values]\n",
    "data=data[(data.min(axis=1) <=0) & (data.max(axis=1) >= 0) ]\n",
    "\n",
    "\n",
    "# fig, ax = plt.subplots(figsize=(10,10))\n",
    "with sns.axes_style('whitegrid'):\n",
    "    cg = sns.clustermap(data,\n",
    "                       vmax=(coeff_mean + threshold* coeff_std),\n",
    "                       vmin=(coeff_mean - threshold* coeff_std),\n",
    "                       center = coeff_mean,\n",
    "                       annot=False,annot_kws={\"size\": 6})\n",
    "    plt.setp(cg.ax_heatmap.yaxis.get_majorticklabels(), fontsize=8, rotation=0);\n",
    "    plt.setp(cg.ax_heatmap.xaxis.get_majorticklabels(), fontsize=8, rotation=90);"
   ]
  },
  {
   "cell_type": "markdown",
   "metadata": {},
   "source": [
    "### 4d- Strains confirmations. X-axis - binding ratio between two (Balb/nod vs C57) Y-axis motif score\n"
   ]
  },
  {
   "cell_type": "markdown",
   "metadata": {},
   "source": [
    "### 4e - crispr conformation? Knockout a loci and see that binding is disrupted (can’t be at AP-1 motif)"
   ]
  },
  {
   "cell_type": "markdown",
   "metadata": {},
   "source": [
    "## Figure 5 - Motifs that drive the KLA transition"
   ]
  },
  {
   "cell_type": "markdown",
   "metadata": {},
   "source": [
    "### For Individual Factors "
   ]
  },
  {
   "cell_type": "code",
   "execution_count": null,
   "metadata": {
    "collapsed": false
   },
   "outputs": [],
   "source": [
    "difference_indices = (coefficients_frame_kla*coefficients_frame_veh < 0) | \\\n",
    "                     (coefficients_frame_kla*coefficients_frame_veh == 0)\n",
    "current_coefficients_frame_kla = coefficients_frame_kla[difference_indices.sum(axis=1)>0]\n",
    "current_coefficients_frame_veh = coefficients_frame_veh[difference_indices.sum(axis=1)>0]\n",
    "\n",
    "coefficients_difference_frame = current_coefficients_frame_kla - current_coefficients_frame_veh\n",
    "coefficients_difference_frame[current_coefficients_frame_veh * current_coefficients_frame_kla > 0] =0\n",
    "# del coefficients_difference_frame['p65']\n"
   ]
  },
  {
   "cell_type": "code",
   "execution_count": null,
   "metadata": {
    "collapsed": false
   },
   "outputs": [],
   "source": [
    "sns.distplot(coefficients_difference_frame.values.flatten())\n",
    "print(np.std(coefficients_difference_frame.values.flatten()))"
   ]
  },
  {
   "cell_type": "code",
   "execution_count": null,
   "metadata": {
    "collapsed": false
   },
   "outputs": [],
   "source": [
    "threshold = 2.5\n",
    "significant_motifs_differences = set()\n",
    "for factor in coefficients_difference_frame.columns.values:\n",
    "    weights = coefficients_difference_frame[factor]\n",
    "    mean=np.mean(weights)\n",
    "    std = np.std(weights)\n",
    "    positive_hits = list(weights[weights >= mean + threshold * std].index.values)\n",
    "    negative_hits = list(weights[weights <= mean - threshold * std].index.values)\n",
    "    motif_hits = negative_hits + positive_hits\n",
    "    print(factor, mean, std)\n",
    "    for m in motif_hits:\n",
    "        significant_motifs_differences.add(m)"
   ]
  },
  {
   "cell_type": "code",
   "execution_count": null,
   "metadata": {
    "collapsed": false
   },
   "outputs": [],
   "source": [
    "threshold = 2.5\n",
    "coeff_std = np.std(coefficients_difference_frame.values.flatten());\n",
    "coeff_mean = np.mean(coefficients_difference_frame.values.flatten());\n",
    "data = coefficients_difference_frame[coefficients_difference_frame.index.isin(significant_motifs_differences)];\n",
    "data.columns = [x.replace('c57bl6_','') for x in data.columns.values];\n",
    "# fig, ax = plt.subplots(figsize=(10,10))\n",
    "cg = sns.clustermap(data,\n",
    "                   vmax=mean+threshold*coeff_std,\n",
    "                   vmin=mean-threshold*coeff_std,\n",
    "                   center = coeff_mean,\n",
    "                   annot=False,annot_kws={\"size\": 6},\n",
    "                    col_cluster=False\n",
    "                   );\n",
    "plt.setp(cg.ax_heatmap.yaxis.get_majorticklabels(), rotation=0);\n",
    "# plt.setp(cg.ax_heatmap.yaxis.get_majorticklabels(), fontsize=8, rotation=0);"
   ]
  },
  {
   "cell_type": "markdown",
   "metadata": {},
   "source": [
    "### For collaborative binding"
   ]
  },
  {
   "cell_type": "code",
   "execution_count": null,
   "metadata": {
    "collapsed": false
   },
   "outputs": [],
   "source": [
    "# difference_indices = (coefficients_frame_kla_pairs*coefficients_frame_veh_pairs < 0) | \\\n",
    "#                      (coefficients_frame_kla_pairs*coefficients_frame_veh_pairs == 0)\n",
    "# current_coefficients_frame_kla = coefficients_frame_kla_pairs[difference_indices.sum(axis=1)>0]\n",
    "# current_coefficients_frame_veh = coefficients_frame_veh_pairs[difference_indices.sum(axis=1)>0]\n",
    "\n",
    "# coefficients_difference_pair_frame = current_coefficients_frame_kla - current_coefficients_frame_veh\n",
    "# coefficients_difference_pair_frame[current_coefficients_frame_veh * current_coefficients_frame_kla > 0] =0\n",
    "# # # del coefficients_difference_frame['p65']\n",
    "\n"
   ]
  },
  {
   "cell_type": "code",
   "execution_count": null,
   "metadata": {
    "collapsed": false
   },
   "outputs": [],
   "source": [
    "# sns.distplot(coefficients_difference_pair_frame.values.flatten())\n",
    "# print(np.std(coefficients_difference_pair_frame.values.flatten()))"
   ]
  },
  {
   "cell_type": "code",
   "execution_count": null,
   "metadata": {
    "collapsed": false
   },
   "outputs": [],
   "source": [
    "# threshold = 3\n",
    "# significant_motifs_differences_pair = set()\n",
    "# for factor in coefficients_difference_pair_frame.columns.values:\n",
    "#     weights = coefficients_difference_pair_frame[factor]\n",
    "#     mean=np.mean(weights)\n",
    "#     std = np.std(weights)\n",
    "#     positive_hits = list(weights[weights >= mean + threshold * std].index.values)\n",
    "#     negative_hits = list(weights[weights <= mean - threshold * std].index.values)\n",
    "#     motif_hits = negative_hits + positive_hits\n",
    "#     print(factor, mean, std)\n",
    "#     for m in motif_hits:\n",
    "#         significant_motifs_differences_pair.add(m)"
   ]
  },
  {
   "cell_type": "code",
   "execution_count": null,
   "metadata": {
    "collapsed": false
   },
   "outputs": [],
   "source": [
    "# threshold = 3\n",
    "# coeff_std = np.std(coefficients_difference_pair_frame.values.flatten());\n",
    "# coeff_mean = np.mean(coefficients_difference_pair_frame.values.flatten());\n",
    "# data = coefficients_difference_pair_frame[coefficients_difference_pair_frame.index.isin(significant_motifs_differences_pair)];\n",
    "# data.columns = [x.replace('c57bl6_','') for x in data.columns.values];\n",
    "# # fig, ax = plt.subplots(figsize=(10,10))\n",
    "# cg = sns.clustermap(data,\n",
    "#                    vmax=mean+threshold*coeff_std,\n",
    "#                    vmin=mean-threshold*coeff_std,\n",
    "#                    center = coeff_mean,\n",
    "#                    annot=False,annot_kws={\"size\": 6},\n",
    "#                     col_cluster=False\n",
    "#                    );\n",
    "# plt.setp(cg.ax_heatmap.yaxis.get_majorticklabels(), fontsize=10, rotation=0);\n",
    "# # plt.setp(cg.ax_heatmap.yaxis.get_majorticklabels(), fontsize=8, rotation=0);"
   ]
  },
  {
   "cell_type": "markdown",
   "metadata": {},
   "source": [
    "## Motif Degeneracy"
   ]
  },
  {
   "cell_type": "code",
   "execution_count": null,
   "metadata": {
    "collapsed": false
   },
   "outputs": [],
   "source": [
    "steps = 10\n",
    "# motifs = normed_motif_frame.columns.values\n",
    "motifs = ['ap-1', 'spi1-c', 'cebp', 'rel','irf1', 'pbx1', 'znf740']\n",
    "matrix = np.zeros((len(motifs), steps))\n",
    "open_indices = summary_frame[summary_frame[['c57bl6_' + x + '_veh' for x in _factors +['atac']]].sum(axis=1)>0].index.values\n",
    "\n",
    "\n",
    "# current_frame = normed_motif_frame[normed_motif_frame.index.isin(intergenic_ids)]\n",
    "current_frame = normed_motif_frame\n",
    "current_frame = current_frame[current_frame.index.isin(open_indices)]\n",
    "totalPeaks = current_frame.shape[0]\n",
    "for i in range(len(motifs)):\n",
    "    motif = motifs[i]\n",
    "    \n",
    "    for j in range(steps):\n",
    "        threshold = j/steps\n",
    "        fraction = np.sum(current_frame[motif] > threshold) / totalPeaks\n",
    "        matrix[i][j] = fraction\n",
    "\n",
    "\n"
   ]
  },
  {
   "cell_type": "code",
   "execution_count": null,
   "metadata": {
    "collapsed": false
   },
   "outputs": [],
   "source": [
    "fraction_frame = pd.DataFrame(matrix)\n",
    "fraction_frame.index=motifs\n",
    "fraction_frame.columns = np.arange(0,1,1/steps)"
   ]
  },
  {
   "cell_type": "code",
   "execution_count": null,
   "metadata": {
    "collapsed": false
   },
   "outputs": [],
   "source": [
    "cg = sns.clustermap(fraction_frame,\n",
    "              col_cluster=False,\n",
    "                    row_cluster=False,\n",
    "              vmin=0,\n",
    "              vmax=1,\n",
    "                   annot=True)\n",
    "plt.setp(cg.ax_heatmap.yaxis.get_majorticklabels(), rotation=0,\n",
    "        );"
   ]
  },
  {
   "cell_type": "markdown",
   "metadata": {
    "collapsed": true
   },
   "source": [
    "## Dimer Switch "
   ]
  },
  {
   "cell_type": "code",
   "execution_count": null,
   "metadata": {
    "collapsed": true
   },
   "outputs": [],
   "source": [
    "factors = ['atf3', 'cjun','fos', 'fra1','fra2','jdp2','junb', 'jund']\n",
    "\n",
    "factorPairs = []\n",
    "for i in range(len(factors)-1):\n",
    "    for j in range(i+1, len(factors)):\n",
    "        factorPairs.append(('c57bl6_'+factors[i],'c57bl6_'+ factors[j]))"
   ]
  },
  {
   "cell_type": "code",
   "execution_count": null,
   "metadata": {
    "collapsed": false,
    "scrolled": true
   },
   "outputs": [],
   "source": [
    "factor_coeff_dict = {}\n",
    "fraction =0.5\n",
    "lr_classifier = sklearn.linear_model.LogisticRegression(penalty='l1')\n",
    "treatment = 'veh'\n",
    "feature_frame = normed_motif_frame\n",
    "\n",
    "for fp in factorPairs:\n",
    "    factor_auc_dict = {}\n",
    "    factor1 = fp[0] + '_' + treatment\n",
    "    factor2 = fp[1] + '_' + treatment\n",
    "    print(factor1,factor2)\n",
    "    # all factor 1\n",
    "    features = feature_frame.copy()\n",
    "    labels = summary_frame['Factors'].str.contains(factor1)\n",
    "    training_features, test_features, training_labels, test_labels = get_GC_matched_split(\n",
    "            features, labels, test_size = fraction, tolerance = 0.01)\n",
    "    lr_classifier.fit(training_features, training_labels)\n",
    "    coefficients = lr_classifier.coef_\n",
    "    factor_coeff_dict['all ' + factor1] = coefficients.flatten()\n",
    "    probas_lr = lr_classifier.predict_proba(test_features)\n",
    "    fpr_lr, tpr_lr, thresholds_roc_lr = sklearn.metrics.roc_curve(test_labels, probas_lr[:, 1])\n",
    "    roc_auc_lr = auc(fpr_lr, tpr_lr)\n",
    "    factor_auc_dict['all ' + factor1] = roc_auc_lr\n",
    "    \n",
    "    # factor 1 only\n",
    "    features = feature_frame.copy()\n",
    "    labels = summary_frame['Factors'].str.contains(factor1) & \\\n",
    "        [not x for x in summary_frame['Factors'].str.contains(factor2)]\n",
    "    training_features, test_features, training_labels, test_labels = get_GC_matched_split(\n",
    "            features, labels, test_size = fraction, tolerance = 0.01)\n",
    "    lr_classifier.fit(training_features, training_labels)\n",
    "    coefficients = lr_classifier.coef_\n",
    "    factor_coeff_dict[factor1 + ' only'] = coefficients.flatten()\n",
    "    probas_lr = lr_classifier.predict_proba(test_features)\n",
    "    fpr_lr, tpr_lr, thresholds_roc_lr = sklearn.metrics.roc_curve(test_labels, probas_lr[:, 1])\n",
    "    roc_auc_lr = auc(fpr_lr, tpr_lr)\n",
    "    factor_auc_dict[factor1 + ' only'] = roc_auc_lr\n",
    "    \n",
    "    # factor 1 and factor 2\n",
    "    features = feature_frame.copy()\n",
    "    labels = summary_frame['Factors'].str.contains(factor1) & \\\n",
    "        summary_frame['Factors'].str.contains(factor2)    \n",
    "    training_features, test_features, training_labels, test_labels = get_GC_matched_split(\n",
    "            features, labels, test_size = fraction, tolerance = 0.01)\n",
    "    lr_classifier.fit(training_features, training_labels)\n",
    "    coefficients = lr_classifier.coef_\n",
    "    factor_coeff_dict[factor1 + ' and ' +factor2] = coefficients.flatten()\n",
    "    probas_lr = lr_classifier.predict_proba(test_features)\n",
    "    fpr_lr, tpr_lr, thresholds_roc_lr = sklearn.metrics.roc_curve(test_labels, probas_lr[:, 1])\n",
    "    roc_auc_lr = auc(fpr_lr, tpr_lr)\n",
    "    factor_auc_dict[factor1 + ' and ' +factor2] = roc_auc_lr\n",
    "    \n",
    "    # factor 2 only\n",
    "    features = feature_frame.copy()\n",
    "    labels = summary_frame['Factors'].str.contains(factor2) & \\\n",
    "        [not x for x in summary_frame['Factors'].str.contains(factor1)]\n",
    "    training_features, test_features, training_labels, test_labels = get_GC_matched_split(\n",
    "            features, labels, test_size = fraction, tolerance = 0.01)\n",
    "    lr_classifier.fit(training_features, training_labels)\n",
    "    coefficients = lr_classifier.coef_\n",
    "    factor_coeff_dict[factor2 + ' only'] = coefficients.flatten()\n",
    "    probas_lr = lr_classifier.predict_proba(test_features)\n",
    "    fpr_lr, tpr_lr, thresholds_roc_lr = sklearn.metrics.roc_curve(test_labels, probas_lr[:, 1])\n",
    "    roc_auc_lr = auc(fpr_lr, tpr_lr)\n",
    "    factor_auc_dict[factor2 + ' only'] = roc_auc_lr\n",
    "    \n",
    "    # all factor 2\n",
    "    features = feature_frame.copy()\n",
    "    labels = summary_frame['Factors'].str.contains(factor2)\n",
    "    training_features, test_features, training_labels, test_labels = get_GC_matched_split(\n",
    "            features, labels, test_size = fraction, tolerance = 0.01)\n",
    "    lr_classifier.fit(training_features, training_labels)\n",
    "    coefficients = lr_classifier.coef_\n",
    "    factor_coeff_dict['all ' + factor2] = coefficients.flatten()\n",
    "    probas_lr = lr_classifier.predict_proba(test_features)\n",
    "    fpr_lr, tpr_lr, thresholds_roc_lr = sklearn.metrics.roc_curve(test_labels, probas_lr[:, 1])\n",
    "    roc_auc_lr = auc(fpr_lr, tpr_lr)\n",
    "    factor_auc_dict['all ' + factor2] = roc_auc_lr\n",
    "    \n",
    "    ### plot coefficents\n",
    "    frame = pd.DataFrame(factor_coeff_dict)\n",
    "    frame.index = features.columns.values\n",
    "    frame = frame[['all ' + factor1, \n",
    "                   factor1 + ' only', \n",
    "                   factor1 + ' and ' + factor2,\n",
    "                   factor2 + ' only',\n",
    "                   'all ' + factor2\n",
    "                  ]]\n",
    "    threshold = 2.5\n",
    "    coeff_std = np.std(frame.values.flatten())\n",
    "    coeff_mean = np.mean(frame.values.flatten())\n",
    "    print(coeff_mean + threshold* coeff_std,\n",
    "           coeff_mean - threshold* coeff_std)\n",
    "    significant_indices = (frame.max(axis=1) > coeff_mean + threshold* coeff_std) | \\\n",
    "                                           (frame.min(axis=1) < coeff_mean - threshold* coeff_std)\n",
    "    significant_motifs = frame[significant_indices].index.values\n",
    "    cg = sns.clustermap(frame[significant_indices],\n",
    "                   vmax=(coeff_mean + threshold* coeff_std),\n",
    "                   vmin=(coeff_mean - threshold* coeff_std),\n",
    "                   center = coeff_mean,\n",
    "                   annot=True,annot_kws={\"size\": 8},\n",
    "#                    figsize=(6,6),\n",
    "                   col_cluster=False)\n",
    "    plt.setp(cg.ax_heatmap.yaxis.get_majorticklabels(), fontsize=10, rotation=0);\n",
    "    plt.title(factor1 + ' and ' + factor2)\n",
    "    plt.show()\n",
    "    \n",
    "    print(factor_auc_dict)"
   ]
  },
  {
   "cell_type": "code",
   "execution_count": null,
   "metadata": {
    "collapsed": true
   },
   "outputs": [],
   "source": [
    "factor_coeff_dict = {}\n",
    "fraction =0.5\n",
    "lr_classifier = sklearn.linear_model.LogisticRegression(penalty='l1')\n",
    "treatment = 'kla'\n",
    "feature_frame = normed_motif_frame\n",
    "\n",
    "for fp in factorPairs:\n",
    "    factor_auc_dict = {}\n",
    "    factor1 = fp[0] + '_' + treatment\n",
    "    factor2 = fp[1] + '_' + treatment\n",
    "    print(factor1,factor2)\n",
    "    # all factor 1\n",
    "    features = feature_frame.copy()\n",
    "    labels = summary_frame['Factors'].str.contains(factor1)\n",
    "    training_features, test_features, training_labels, test_labels = get_GC_matched_split(\n",
    "            features, labels, test_size = fraction, tolerance = 0.01)\n",
    "    lr_classifier.fit(training_features, training_labels)\n",
    "    coefficients = lr_classifier.coef_\n",
    "    factor_coeff_dict['all ' + factor1] = coefficients.flatten()\n",
    "    probas_lr = lr_classifier.predict_proba(test_features)\n",
    "    fpr_lr, tpr_lr, thresholds_roc_lr = sklearn.metrics.roc_curve(test_labels, probas_lr[:, 1])\n",
    "    roc_auc_lr = auc(fpr_lr, tpr_lr)\n",
    "    factor_auc_dict['all ' + factor1] = roc_auc_lr\n",
    "    \n",
    "    # factor 1 only\n",
    "    features = feature_frame.copy()\n",
    "    labels = summary_frame['Factors'].str.contains(factor1) & \\\n",
    "        [not x for x in summary_frame['Factors'].str.contains(factor2)]\n",
    "    training_features, test_features, training_labels, test_labels = get_GC_matched_split(\n",
    "            features, labels, test_size = fraction, tolerance = 0.01)\n",
    "    lr_classifier.fit(training_features, training_labels)\n",
    "    coefficients = lr_classifier.coef_\n",
    "    factor_coeff_dict[factor1 + ' only'] = coefficients.flatten()\n",
    "    probas_lr = lr_classifier.predict_proba(test_features)\n",
    "    fpr_lr, tpr_lr, thresholds_roc_lr = sklearn.metrics.roc_curve(test_labels, probas_lr[:, 1])\n",
    "    roc_auc_lr = auc(fpr_lr, tpr_lr)\n",
    "    factor_auc_dict[factor1 + ' only'] = roc_auc_lr\n",
    "    \n",
    "    # factor 1 and factor 2\n",
    "    features = feature_frame.copy()\n",
    "    labels = summary_frame['Factors'].str.contains(factor1) & \\\n",
    "        summary_frame['Factors'].str.contains(factor2)    \n",
    "    training_features, test_features, training_labels, test_labels = get_GC_matched_split(\n",
    "            features, labels, test_size = fraction, tolerance = 0.01)\n",
    "    lr_classifier.fit(training_features, training_labels)\n",
    "    coefficients = lr_classifier.coef_\n",
    "    factor_coeff_dict[factor1 + ' and ' +factor2] = coefficients.flatten()\n",
    "    probas_lr = lr_classifier.predict_proba(test_features)\n",
    "    fpr_lr, tpr_lr, thresholds_roc_lr = sklearn.metrics.roc_curve(test_labels, probas_lr[:, 1])\n",
    "    roc_auc_lr = auc(fpr_lr, tpr_lr)\n",
    "    factor_auc_dict[factor1 + ' and ' +factor2] = roc_auc_lr\n",
    "    \n",
    "    # factor 2 only\n",
    "    features = feature_frame.copy()\n",
    "    labels = summary_frame['Factors'].str.contains(factor2) & \\\n",
    "        [not x for x in summary_frame['Factors'].str.contains(factor1)]\n",
    "    training_features, test_features, training_labels, test_labels = get_GC_matched_split(\n",
    "            features, labels, test_size = fraction, tolerance = 0.01)\n",
    "    lr_classifier.fit(training_features, training_labels)\n",
    "    coefficients = lr_classifier.coef_\n",
    "    factor_coeff_dict[factor2 + ' only'] = coefficients.flatten()\n",
    "    probas_lr = lr_classifier.predict_proba(test_features)\n",
    "    fpr_lr, tpr_lr, thresholds_roc_lr = sklearn.metrics.roc_curve(test_labels, probas_lr[:, 1])\n",
    "    roc_auc_lr = auc(fpr_lr, tpr_lr)\n",
    "    factor_auc_dict[factor2 + ' only'] = roc_auc_lr\n",
    "    \n",
    "    # all factor 2\n",
    "    features = feature_frame.copy()\n",
    "    labels = summary_frame['Factors'].str.contains(factor2)\n",
    "    training_features, test_features, training_labels, test_labels = get_GC_matched_split(\n",
    "            features, labels, test_size = fraction, tolerance = 0.01)\n",
    "    lr_classifier.fit(training_features, training_labels)\n",
    "    coefficients = lr_classifier.coef_\n",
    "    factor_coeff_dict['all ' + factor2] = coefficients.flatten()\n",
    "    probas_lr = lr_classifier.predict_proba(test_features)\n",
    "    fpr_lr, tpr_lr, thresholds_roc_lr = sklearn.metrics.roc_curve(test_labels, probas_lr[:, 1])\n",
    "    roc_auc_lr = auc(fpr_lr, tpr_lr)\n",
    "    factor_auc_dict['all ' + factor2] = roc_auc_lr\n",
    "    \n",
    "    ### plot coefficents\n",
    "    frame = pd.DataFrame(factor_coeff_dict)\n",
    "    frame.index = features.columns.values\n",
    "    frame = frame[['all ' + factor1, \n",
    "                   factor1 + ' only', \n",
    "                   factor1 + ' and ' + factor2,\n",
    "                   factor2 + ' only',\n",
    "                   'all ' + factor2\n",
    "                  ]]\n",
    "    threshold = 2.5\n",
    "    coeff_std = np.std(frame.values.flatten())\n",
    "    coeff_mean = np.mean(frame.values.flatten())\n",
    "    print(coeff_mean + threshold* coeff_std,\n",
    "           coeff_mean - threshold* coeff_std)\n",
    "    significant_indices = (frame.max(axis=1) > coeff_mean + threshold* coeff_std) | \\\n",
    "                                           (frame.min(axis=1) < coeff_mean - threshold* coeff_std)\n",
    "    significant_motifs = frame[significant_indices].index.values\n",
    "    cg = sns.clustermap(frame[significant_indices],\n",
    "                   vmax=(coeff_mean + threshold* coeff_std),\n",
    "                   vmin=(coeff_mean - threshold* coeff_std),\n",
    "                   center = coeff_mean,\n",
    "                   annot=True,annot_kws={\"size\": 8},\n",
    "#                    figsize=(6,6),\n",
    "                   col_cluster=False)\n",
    "    plt.setp(cg.ax_heatmap.yaxis.get_majorticklabels(), fontsize=10, rotation=0);\n",
    "    plt.title(factor1 + ' and ' + factor2)\n",
    "    plt.show()\n",
    "    \n",
    "    print(factor_auc_dict)"
   ]
  },
  {
   "cell_type": "markdown",
   "metadata": {},
   "source": [
    "## Strains Predictions"
   ]
  },
  {
   "cell_type": "code",
   "execution_count": null,
   "metadata": {
    "collapsed": false
   },
   "outputs": [],
   "source": [
    "# Compare predicitive ability in 3 different strains\n",
    "# train on 1 strain, predict on the others\n",
    "\n",
    "### for all peaks in vehicle and KLA\n",
    "aucs = []\n",
    "factors = []\n",
    "training_strains = []\n",
    "test_strains = []\n",
    "fraction = 0.05\n",
    "_factors = sorted(list(set([x.split('_')[1] for x in summary_frame.columns if '_' in x])))\n",
    "_factors.remove('atac')\n",
    "for factor in ['cjun', 'fos', 'junb', 'jund', 'pu1']:\n",
    "    print('****', factor, '****')\n",
    "\n",
    "    for training_strain in ['balbc', 'c57bl6','nod']:\n",
    "        print('**', training_strain,'**')\n",
    "        training_strain_indices = summary_frame[summary_frame['Factors'].str.contains(training_strain)].index.values\n",
    "        \n",
    "        features = normed_motif_frame[normed_motif_frame.index.isin(training_strain_indices)]\n",
    "        labels = summary_frame[summary_frame.index.isin(training_strain_indices)]['Factors'].str.contains(factor)\n",
    "\n",
    "        training_features, test_features, training_labels, test_labels = get_GC_matched_split(\n",
    "            features, labels, test_size = fraction, tolerance = 0.01)\n",
    "\n",
    "        lr_classifier = sklearn.linear_model.LogisticRegression(penalty='l1')\n",
    "        lr_classifier.fit(training_features, training_labels)\n",
    "        \n",
    "        probas_lr = lr_classifier.predict_proba(test_features)\n",
    "        fpr, tpr, thresholds_roc_lr = sklearn.metrics.roc_curve(test_labels, probas_lr[:, 1])\n",
    "        roc_auc = auc(fpr, tpr)\n",
    "        \n",
    "        aucs.append(roc_auc)\n",
    "        factors.append(factor)\n",
    "        training_strains.append(training_strain)\n",
    "        test_strains.append(training_strain)\n",
    "        print(roc_auc)\n",
    "        for test_strain in ['balbc', 'c57bl6','nod']:\n",
    "            if not training_strain == test_strain:\n",
    "                print(test_strain)\n",
    "                test_strain_indices = summary_frame[summary_frame['Factors'].str.contains(test_strain)].index.values\n",
    "                features = normed_motif_frame[normed_motif_frame.index.isin(test_strain_indices)]\n",
    "                labels = summary_frame[summary_frame.index.isin(test_strain_indices)]['Factors'].str.contains(factor)\n",
    "                \n",
    "                training_features, test_features, training_labels, test_labels = get_GC_matched_split(\n",
    "                    features, labels, test_size = fraction, tolerance = 0.01)\n",
    "                \n",
    "                probas_lr = lr_classifier.predict_proba(test_features)\n",
    "                fpr, tpr, thresholds_roc_lr = sklearn.metrics.roc_curve(test_labels, probas_lr[:, 1])\n",
    "                roc_auc = auc(fpr, tpr)\n",
    "                \n",
    "                aucs.append(roc_auc)\n",
    "                factors.append(factor)\n",
    "                training_strains.append(training_strain)\n",
    "                test_strains.append(test_strain)\n",
    "                print(roc_auc)"
   ]
  },
  {
   "cell_type": "code",
   "execution_count": null,
   "metadata": {
    "collapsed": false
   },
   "outputs": [],
   "source": [
    "strains_auc_frame = pd.DataFrame({'Factor':factors,\n",
    "                     'Training Strain':training_strains,\n",
    "                     'Testing Strain': test_strains,\n",
    "                     'ROC AUC': aucs,\n",
    "                      })\n"
   ]
  },
  {
   "cell_type": "code",
   "execution_count": null,
   "metadata": {
    "collapsed": false,
    "scrolled": false
   },
   "outputs": [],
   "source": [
    "sns.factorplot(data = strains_auc_frame[strains_auc_frame['Training Strain'] == 'c57bl6'], y= 'ROC AUC', x = 'Factor', hue = 'Testing Strain', col='Training Strain')\n",
    "plt.ylim(0.5,1)\n",
    "plt.ylabel('rocAUC')"
   ]
  },
  {
   "cell_type": "markdown",
   "metadata": {},
   "source": [
    "## Gro-seq"
   ]
  },
  {
   "cell_type": "code",
   "execution_count": null,
   "metadata": {
    "collapsed": true
   },
   "outputs": [],
   "source": [
    "factors = ['atf3', 'cjun','fos', 'fra1','fra2','jdp2','junb', 'jund']\n",
    "# factors = ['atf3', 'cjun','fos','junb', 'jund']\n",
    "factorPairs = []\n",
    "for i in range(len(factors)-1):\n",
    "    for j in range(i + 1, len(factors)):\n",
    "        factorPairs.append(('c57bl6_'+factors[i],'c57bl6_'+ factors[j]))"
   ]
  },
  {
   "cell_type": "code",
   "execution_count": null,
   "metadata": {
    "collapsed": false
   },
   "outputs": [],
   "source": [
    "# get peak IDS for peaks\n",
    "\n",
    "reads = []\n",
    "factors = []\n",
    "treatments = []\n",
    "fold_changes = []\n",
    "for treatment in ['Veh','KLA', 'Both']:\n",
    "    for fp in factorPairs:\n",
    "        factor_auc_dict = {}\n",
    "        factor1 = fp[0] + '_' + treatment.lower()\n",
    "        factor2 = fp[1] + '_' + treatment.lower()\n",
    "        \n",
    "        if treatment == 'Veh':\n",
    "            indices1 = set(intergenic_summary_frame[(intergenic_summary_frame[factor1] > 0) &\n",
    "                                                   (intergenic_summary_frame[factor1.replace('veh','kla')] == 0)].index.values)\n",
    "            indices2 = set(intergenic_summary_frame[(intergenic_summary_frame[factor2] > 0) &\n",
    "                                                   (intergenic_summary_frame[factor2.replace('veh','kla')] == 0)].index.values)\n",
    "        elif treatment == 'KLA':\n",
    "            indices1 = set(intergenic_summary_frame[(intergenic_summary_frame[factor1] > 0) &\n",
    "                                                   (intergenic_summary_frame[factor1.replace('kla','veh')] == 0)].index.values)\n",
    "            indices2 = set(intergenic_summary_frame[(intergenic_summary_frame[factor2] > 0) &\n",
    "                                                   (intergenic_summary_frame[factor2.replace('kla','veh')] == 0)].index.values)\n",
    "\n",
    "\n",
    "        else:\n",
    "            indices1 = set(intergenic_summary_frame[(intergenic_summary_frame[factor1.replace('both','veh')] > 0) &\n",
    "                                                   (intergenic_summary_frame[factor1.replace('both','kla')] > 0)].index.values)\n",
    "            indices2 = set(intergenic_summary_frame[(intergenic_summary_frame[factor2.replace('both','veh')] > 0) &\n",
    "                                                   (intergenic_summary_frame[factor2.replace('both','kla')] > 0)].index.values)\n",
    "\n",
    "            \n",
    "        indices = indices1.intersection(indices2)\n",
    "        if not treatment == 'Both':\n",
    "            gro_reads = intergenic_annotation_frame[intergenic_annotation_frame.index.isin(indices)]\\\n",
    "                [['Gro_'+ treatment +' +', 'Gro_'+treatment+ ' -']].sum(axis=1)\n",
    "        else:\n",
    "            gro_reads = intergenic_annotation_frame[intergenic_annotation_frame.index.isin(indices)]\\\n",
    "                [['Gro_Veh +', 'Gro_Veh -', 'Gro_KLA +', 'Gro_KLA -']].sum(axis=1)\n",
    "        veh_reads = intergenic_annotation_frame[intergenic_annotation_frame.index.isin(indices)]\\\n",
    "            [['Gro_Veh +', 'Gro_Veh -']].sum(axis=1)\n",
    "        kla_reads = intergenic_annotation_frame[intergenic_annotation_frame.index.isin(indices)]\\\n",
    "            [['Gro_KLA +', 'Gro_KLA -']].sum(axis=1)\n",
    "        \n",
    "        factors = factors + [' '.join(fp).replace('c57bl6_','')] * len(gro_reads)\n",
    "        treatments = treatments + [treatment] * len(gro_reads)\n",
    "        reads = reads + list(gro_reads)\n",
    "        fold_changes = fold_changes + list((kla_reads + 0.1)/(veh_reads + 0.1))\n",
    "\n"
   ]
  },
  {
   "cell_type": "code",
   "execution_count": null,
   "metadata": {
    "collapsed": false
   },
   "outputs": [],
   "source": [
    "gro_frame = pd.DataFrame({'Dimer':factors,\n",
    "                          'Treatment':treatments,\n",
    "                          'GRO-seq Tags':reads,\n",
    "                          'Log2 GRO-seq Tags': np.log2(np.array(reads)+1),\n",
    "                          'Fold Change':fold_changes,\n",
    "                          'Log2 Fold Change': np.log2(fold_changes)\n",
    "                          })\n"
   ]
  },
  {
   "cell_type": "code",
   "execution_count": null,
   "metadata": {
    "collapsed": false
   },
   "outputs": [],
   "source": [
    "sns.factorplot( data = gro_frame,\n",
    "                x='Dimer',\n",
    "                y= 'Log2 GRO-seq Tags',\n",
    "                hue='Treatment',\n",
    "                size=12)\n",
    "# plt.ylim(0,15)\n",
    "plt.xticks(rotation=90)"
   ]
  },
  {
   "cell_type": "code",
   "execution_count": null,
   "metadata": {
    "collapsed": false
   },
   "outputs": [],
   "source": [
    "sns.factorplot( data = gro_frame,\n",
    "                x='Dimer',\n",
    "                y= 'Log2 Fold Change',\n",
    "                hue='Treatment',\n",
    "                size=12)\n",
    "# plt.ylim(0,15)\n",
    "plt.xticks(rotation=90)"
   ]
  },
  {
   "cell_type": "markdown",
   "metadata": {},
   "source": [
    "### 5' Gro-seq"
   ]
  },
  {
   "cell_type": "code",
   "execution_count": null,
   "metadata": {
    "collapsed": true
   },
   "outputs": [],
   "source": [
    "factors = ['atf3', 'cjun','fos', 'fra1','fra2','jdp2','junb', 'jund']\n",
    "# factors = ['atf3', 'cjun','fos','junb', 'jund']\n",
    "factorPairs = []\n",
    "for i in range(len(factors)-1):\n",
    "    for j in range(i + 1, len(factors)):\n",
    "        factorPairs.append(('c57bl6_'+factors[i],'c57bl6_'+ factors[j]))"
   ]
  },
  {
   "cell_type": "code",
   "execution_count": null,
   "metadata": {
    "collapsed": false
   },
   "outputs": [],
   "source": [
    "# get peak IDS for peaks\n",
    "\n",
    "reads = []\n",
    "factors = []\n",
    "treatments = []\n",
    "fold_changes = []\n",
    "for treatment in ['Veh','KLA', 'Both']:\n",
    "    for fp in factorPairs:\n",
    "        factor_auc_dict = {}\n",
    "        factor1 = fp[0] + '_' + treatment.lower()\n",
    "        factor2 = fp[1] + '_' + treatment.lower()\n",
    "        \n",
    "        if treatment == 'Veh':\n",
    "            indices1 = set(summary_frame[(summary_frame[factor1] > 0) &\n",
    "                                                   (summary_frame[factor1.replace('veh','kla')] == 0)].index.values)\n",
    "            indices2 = set(summary_frame[(summary_frame[factor2] > 0) &\n",
    "                                                   (summary_frame[factor2.replace('veh','kla')] == 0)].index.values)\n",
    "        elif treatment == 'KLA':\n",
    "            indices1 = set(summary_frame[(summary_frame[factor1] > 0) &\n",
    "                                                   (summary_frame[factor1.replace('kla','veh')] == 0)].index.values)\n",
    "            indices2 = set(summary_frame[(summary_frame[factor2] > 0) &\n",
    "                                                   (summary_frame[factor2.replace('kla','veh')] == 0)].index.values)\n",
    "\n",
    "\n",
    "        else:\n",
    "            indices1 = set(summary_frame[(summary_frame[factor1.replace('both','veh')] > 0) &\n",
    "                                                   (summary_frame[factor1.replace('both','kla')] > 0)].index.values)\n",
    "            indices2 = set(summary_frame[(summary_frame[factor2.replace('both','veh')] > 0) &\n",
    "                                                   (summary_frame[factor2.replace('both','kla')] > 0)].index.values)\n",
    "\n",
    "            \n",
    "        indices = indices1.intersection(indices2)\n",
    "        if not treatment == 'Both':\n",
    "            gro_reads = annotation_frame[annotation_frame.index.isin(indices)]\\\n",
    "                [['5GRO_'+ treatment +' +', '5GRO_'+treatment+ ' -']].sum(axis=1)\n",
    "        else:\n",
    "            gro_reads = annotation_frame[annotation_frame.index.isin(indices)]\\\n",
    "                [['5GRO_Veh +', '5GRO_Veh -', '5GRO_KLA +', 'Gro_KLA -']].sum(axis=1)\n",
    "        veh_reads = annotation_frame[annotation_frame.index.isin(indices)]\\\n",
    "            [['5GRO_Veh +', '5GRO_Veh -']].sum(axis=1)\n",
    "        kla_reads = annotation_frame[annotation_frame.index.isin(indices)]\\\n",
    "            [['5GRO_KLA +', '5GRO_KLA -']].sum(axis=1)\n",
    "        \n",
    "        factors = factors + [' '.join(fp).replace('c57bl6_','')] * len(gro_reads)\n",
    "        treatments = treatments + [treatment] * len(gro_reads)\n",
    "        reads = reads + list(gro_reads)\n",
    "        fold_changes = fold_changes + list((kla_reads + 0.1)/(veh_reads + 0.1))\n",
    "\n",
    "\n"
   ]
  },
  {
   "cell_type": "code",
   "execution_count": null,
   "metadata": {
    "collapsed": true
   },
   "outputs": [],
   "source": [
    "gro5_frame = pd.DataFrame({'Dimer':factors,\n",
    "                          'Treatment':treatments,\n",
    "                          \"5' GRO-seq Tags\":reads,\n",
    "                          \"Log2 5' GRO-seq Tags\": np.log2(np.array(reads)+1),\n",
    "                          'Fold Change':fold_changes,\n",
    "                          'Log2 Fold Change': np.log2(fold_changes)\n",
    "                          })\n",
    "\n"
   ]
  },
  {
   "cell_type": "code",
   "execution_count": null,
   "metadata": {
    "collapsed": false
   },
   "outputs": [],
   "source": [
    "sns.factorplot( data = gro5_frame,\n",
    "                x='Dimer',\n",
    "                y= \"Log2 5' GRO-seq Tags\",\n",
    "                hue='Treatment',\n",
    "                size=12)\n",
    "# plt.ylim(0,15)\n",
    "plt.xticks(rotation=90)"
   ]
  },
  {
   "cell_type": "code",
   "execution_count": null,
   "metadata": {
    "collapsed": false
   },
   "outputs": [],
   "source": [
    "sns.factorplot( data = gro5_frame,\n",
    "                x='Dimer',\n",
    "                y= 'Log2 Fold Change',\n",
    "                hue='Treatment',\n",
    "                size=12)\n",
    "# plt.ylim(0,15)\n",
    "plt.xticks(rotation=90)"
   ]
  },
  {
   "cell_type": "markdown",
   "metadata": {},
   "source": [
    "## Change of Dimer across strains"
   ]
  },
  {
   "cell_type": "code",
   "execution_count": null,
   "metadata": {
    "collapsed": true
   },
   "outputs": [],
   "source": [
    "motif_balbcj_snp_frame = pd.read_pickle('./motif_balbcj_snp_frame.pickle')\n",
    "motif_nod_snp_frame = pd.read_pickle('./motif_nod_snp_frame.pickle')"
   ]
  },
  {
   "cell_type": "code",
   "execution_count": null,
   "metadata": {
    "collapsed": false,
    "scrolled": false
   },
   "outputs": [],
   "source": [
    "sns.set_style('ticks',{'axes.edgecolor': 'black',\n",
    "                       'xtick.direction': 'in',\n",
    "                       'ytick.direction': 'in', \n",
    "                         })\n",
    "\n",
    "strains = ['balbc', 'c57bl6', 'nod']\n",
    "\n",
    "strains_factors = ['cjun', 'fos', 'junb', 'jund']\n",
    "\n",
    "conditions = ['veh', 'kla']\n",
    "\n",
    "\n",
    "strain_list = []\n",
    "factor_list = []\n",
    "comparison_list = []\n",
    "peakCount_list = []\n",
    "condition_list = []\n",
    "for condition in conditions:\n",
    "    for i in range(len(strains) -1 ):\n",
    "        strain_1 = strains[i]\n",
    "        for j in range(i+1, len(strains)):\n",
    "            strain_2 = strains[j]\n",
    "            \n",
    "            strain_1_matrix = np.zeros((len(strains_factors), len(strains_factors)))\n",
    "            strain_2_matrix = np.zeros((len(strains_factors), len(strains_factors)))\n",
    "            \n",
    "            for x in range(len(strains_factors)):\n",
    "                \n",
    "                factor = strains_factors[x]\n",
    "                strain_1_indices = set(summary_frame[summary_frame[strain_1 + '_' + factor + '_' + condition] > 0].index.values)\n",
    "                strain_2_indices = set(summary_frame[summary_frame[strain_2 + '_' + factor + '_' + condition] > 0].index.values)\n",
    "                \n",
    "                # calculate strain specific indices for factor\n",
    "                strain_specific_indices_1 = summary_frame[summary_frame.index.isin(strain_1_indices - strain_2_indices)].index.values\n",
    "                strain_specific_indices_2 = summary_frame[summary_frame.index.isin(strain_2_indices - strain_1_indices)].index.values\n",
    "                \n",
    "                # compute overlap of strain specific binding with other factors\n",
    "                strain_1_frame = summary_frame[summary_frame.index.isin(strain_specific_indices_1)][[strain_1 + '_' + x + '_' + condition for x in strains_factors]]\n",
    "                strain_2_frame = summary_frame[summary_frame.index.isin(strain_specific_indices_2)][[strain_2 + '_' + x + '_' + condition for x in strains_factors]]\n",
    "        \n",
    "                factor_list = factor_list + 2 * [factor]\n",
    "                comparison_list = comparison_list + 2 * [strain_1 + ' vs ' + strain_2]\n",
    "                condition_list = condition_list + 2 * [condition]\n",
    "                strain_list.append(strain_1)\n",
    "                strain_list.append(strain_2)\n",
    "                peakCount_list.append(len(strain_specific_indices_1))\n",
    "                peakCount_list.append(len(strain_specific_indices_2))"
   ]
  },
  {
   "cell_type": "code",
   "execution_count": null,
   "metadata": {
    "collapsed": true
   },
   "outputs": [],
   "source": [
    "strain_specific_peak_frame = pd.DataFrame({'Comparison':comparison_list,\n",
    "                             'Strain':strain_list,\n",
    "                             'Number of Peaks':peakCount_list,\n",
    "                             'AP-1 Member':factor_list,\n",
    "                             'Treatment': condition_list\n",
    "                             })"
   ]
  },
  {
   "cell_type": "code",
   "execution_count": null,
   "metadata": {
    "collapsed": false,
    "scrolled": false
   },
   "outputs": [],
   "source": [
    "for comparison in sorted(set(strain_specific_peak_frame['Comparison'])):\n",
    "    sns.factorplot(data = strain_specific_peak_frame[strain_specific_peak_frame['Comparison'] == comparison],\n",
    "                  x='AP-1 Member',\n",
    "                  y='Number of Peaks',\n",
    "                  hue='Strain',\n",
    "                  kind='bar',\n",
    "                  ci=None,\n",
    "                  col='Treatment',\n",
    "                  sharey=True)\n",
    "    plt.suptitle(comparison)"
   ]
  },
  {
   "cell_type": "code",
   "execution_count": null,
   "metadata": {
    "collapsed": false,
    "scrolled": false
   },
   "outputs": [],
   "source": [
    "sns.set_style('ticks',{'axes.edgecolor': 'black',\n",
    "                       'xtick.direction': 'in',\n",
    "                       'ytick.direction': 'in', \n",
    "                         })\n",
    "\n",
    "strains = ['balbc', 'c57bl6', 'nod']\n",
    "\n",
    "\n",
    "strains_factors = ['cjun', 'fos', 'junb', 'jund']\n",
    "\n",
    "conditions = ['veh', 'kla']\n",
    "\n",
    "\n",
    "strain_list = []\n",
    "factor_list = []\n",
    "comparison_list = []\n",
    "peakCount_list = []\n",
    "condition_list = []\n",
    "\n",
    "for condition in conditions:\n",
    "    for i in range(len(strains) -1 ):\n",
    "        strain_1 = strains[i]\n",
    "        for j in range(i+1, len(strains)):\n",
    "            strain_2 = strains[j]\n",
    "            \n",
    "            comparison_indices = set()\n",
    "            for x in range(len(strains_factors)):\n",
    "                \n",
    "                factor = strains_factors[x]\n",
    "                strain_1_indices = set(summary_frame[summary_frame[strain_1 + '_' + factor + '_' + condition] > 0].index.values)\n",
    "                strain_2_indices = set(summary_frame[summary_frame[strain_2 + '_' + factor + '_' + condition] > 0].index.values)\n",
    "                \n",
    "                strain_specific_indices_1 = summary_frame[summary_frame.index.isin(strain_1_indices - strain_2_indices)].index.values\n",
    "                strain_specific_indices_2 = summary_frame[summary_frame.index.isin(strain_2_indices - strain_1_indices)].index.values\n",
    "                \n",
    "                comparison_indices = comparison_indices.union(strain_specific_indices_1)\n",
    "                comparison_indices = comparison_indices.union(strain_specific_indices_2)\n",
    "               \n",
    "            current_frame = summary_frame[summary_frame.index.isin(comparison_indices)]\n",
    "\n",
    "            strain_1_frame = current_frame[[strain_1 + '_' + f + '_' + condition for f in strains_factors]]\n",
    "            strain_2_frame = current_frame[[strain_2 + '_' + f + '_' + condition for f in strains_factors]]\n",
    "\n",
    "            fold_frame = np.log2(pd.DataFrame((strain_2_frame.values+1)).divide((strain_1_frame.values+1)))\n",
    "\n",
    "            fold_frame.columns = strains_factors\n",
    "            print(strain_1, strain_2, condition, fold_frame.shape)\n",
    "            sns.clustermap(fold_frame,\n",
    "                          yticklabels=False,\n",
    "                          vmin=-4,\n",
    "                          vmax=4,\n",
    "                          col_cluster=False)\n",
    "            plt.suptitle(strain_2 + '/' + strain_1 + ' Log2 Fold Change binding in ' + condition)\n",
    "            plt.show()"
   ]
  },
  {
   "cell_type": "markdown",
   "metadata": {},
   "source": [
    "## Find motifs responsible for dimer switch"
   ]
  },
  {
   "cell_type": "code",
   "execution_count": 218,
   "metadata": {
    "collapsed": true
   },
   "outputs": [],
   "source": [
    "motif_balbcj_snp_frame = pd.read_pickle('./motif_balbcj_snp_frame.pickle')\n",
    "motif_nod_snp_frame = pd.read_pickle('./motif_nod_snp_frame.pickle')"
   ]
  },
  {
   "cell_type": "code",
   "execution_count": 272,
   "metadata": {
    "collapsed": true
   },
   "outputs": [],
   "source": [
    "motif_balbcj_snp_bool_frame = motif_balbcj_snp_frame > 0\n",
    "motif_nod_snp_bool_frame = motif_nod_snp_frame > 0"
   ]
  },
  {
   "cell_type": "code",
   "execution_count": 219,
   "metadata": {
    "collapsed": false
   },
   "outputs": [
    {
     "name": "stdout",
     "output_type": "stream",
     "text": [
      "total: 47963 filtered: 37984 true gc: 0.47195 false gc: 0.48195 difference: 0.01\n",
      "atf3 0.823459761118\n",
      "total: 47963 filtered: 47963 true gc: 0.4948 false gc: 0.50151 difference: 0.00671\n",
      "cjun 0.806416824451\n",
      "total: 47963 filtered: 25341 true gc: 0.54434 false gc: 0.53434 difference: 0.01\n",
      "fos 0.812470487246\n",
      "total: 47963 filtered: 28286 true gc: 0.53833 false gc: 0.52833 difference: 0.01\n",
      "fra1 0.693084770619\n",
      "total: 47963 filtered: 37005 true gc: 0.52163 false gc: 0.51163 difference: 0.01\n",
      "fra2 0.764889922893\n",
      "total: 47963 filtered: 46538 true gc: 0.50975 false gc: 0.49975 difference: 0.01\n",
      "jdp2 0.751816188317\n",
      "total: 47963 filtered: 47963 true gc: 0.49641 false gc: 0.49865 difference: 0.00224\n",
      "junb 0.723003374115\n",
      "total: 47963 filtered: 40342 true gc: 0.51218 false gc: 0.50218 difference: 0.01\n",
      "jund 0.809439559633\n",
      "total: 47963 filtered: 45657 true gc: 0.49171 false gc: 0.50167 difference: 0.00996\n",
      "pu1 0.837628892395\n"
     ]
    }
   ],
   "source": [
    "### for all peaks in vehicle \n",
    "factor_coeff_dict = {}\n",
    "factors = ['atf3', 'cjun', 'fos', 'fra1', 'fra2', 'jdp2', 'junb', 'jund', 'pu1']\n",
    "c57bl6_indices = summary_frame[summary_frame[['c57bl6_' + x + '_veh' for x in factors]].sum(axis=1) > 0].index.values\n",
    "\n",
    "\n",
    "for factor in factors:\n",
    "    features = normed_motif_frame[normed_motif_frame.index.isin(c57bl6_indices)]\n",
    "    labels = summary_frame[summary_frame.index.isin(c57bl6_indices)]['Factors'].str.contains(factor + '_veh')\n",
    "    \n",
    "\n",
    "    training_features, test_features, training_labels, test_labels = get_GC_matched_split(\n",
    "        features, labels, test_size = 0.5, tolerance = 0.01)\n",
    "    \n",
    "    #  Run classifier\n",
    "    lr_classifier = sklearn.linear_model.LogisticRegression(penalty='l1')\n",
    "    \n",
    "    lr_classifier.fit(training_features, training_labels)\n",
    "    # retreive probabilities for each classifier\n",
    "    probas_lr = lr_classifier.predict_proba(test_features)\n",
    "    \n",
    "    fpr, tpr, thresholds_roc_lr = sklearn.metrics.roc_curve(test_labels, probas_lr[:, 1])\n",
    "    roc_auc = auc(fpr, tpr)\n",
    "        \n",
    "    coefficients = lr_classifier.coef_    \n",
    "    factor_coeff_dict[factor] = coefficients.flatten()\n",
    "    \n",
    "    print(factor, roc_auc)\n",
    "    \n",
    "coefficients_frame_veh_ind = pd.DataFrame(factor_coeff_dict)\n",
    "coefficients_frame_veh_ind = coefficients_frame_veh_ind[factors]\n",
    "coefficients_frame_veh_ind.index = normed_motif_frame.columns.values\n",
    "\n"
   ]
  },
  {
   "cell_type": "markdown",
   "metadata": {},
   "source": [
    "### For C57Bl6 and Balbc"
   ]
  },
  {
   "cell_type": "code",
   "execution_count": 220,
   "metadata": {
    "collapsed": false
   },
   "outputs": [
    {
     "name": "stdout",
     "output_type": "stream",
     "text": [
      "c57bl6 balbc veh (23107, 2)\n"
     ]
    }
   ],
   "source": [
    "sns.color_palette()\n",
    "strains_factors = ['cjun', 'jund']\n",
    "strain_1 = 'c57bl6'\n",
    "strain_2 = 'balbc'\n",
    "condition = 'veh'\n",
    "comparison_indices = set()\n",
    "for x in range(len(strains_factors)):\n",
    "\n",
    "    factor = strains_factors[x]\n",
    "    strain_1_indices = set(summary_frame[summary_frame[strain_1 + '_' + factor + '_' + condition] > 0].index.values)\n",
    "    strain_2_indices = set(summary_frame[summary_frame[strain_2 + '_' + factor + '_' + condition] > 0].index.values)\n",
    "\n",
    "    strain_specific_indices_1 = summary_frame[summary_frame.index.isin(strain_1_indices - strain_2_indices)].index.values\n",
    "    strain_specific_indices_2 = summary_frame[summary_frame.index.isin(strain_2_indices - strain_1_indices)].index.values\n",
    "\n",
    "    comparison_indices = comparison_indices.union(strain_specific_indices_1)\n",
    "    comparison_indices = comparison_indices.union(strain_specific_indices_2)\n",
    "\n",
    "current_frame = summary_frame[summary_frame.index.isin(comparison_indices)]\n",
    "\n",
    "strain_1_frame = current_frame[[strain_1 + '_' + f + '_' + condition for f in strains_factors]]\n",
    "strain_2_frame = current_frame[[strain_2 + '_' + f + '_' + condition for f in strains_factors]]\n",
    "\n",
    "fold_frame = np.log2(pd.DataFrame((strain_2_frame.values+1)).divide((strain_1_frame.values+1)))\n",
    "fold_frame.columns = strains_factors\n",
    "fold_frame.index = strain_1_frame.index.values\n",
    "\n",
    "state_dict = {}\n",
    "\n",
    "for f in fold_frame.columns:\n",
    "    state_dict[f] = [strain_1 if x < -2 else strain_2 if x > 2 else 'unchanged' for x in fold_frame[f]]\n",
    "state_frame = pd.DataFrame(state_dict, columns=fold_frame.columns)\n",
    "state_frame.index = fold_frame.index.values\n",
    "states = [' '.join(x) for x in state_frame.values]\n",
    "state_frame['state'] = states\n",
    "state_set = sorted(set(states))\n",
    "color_dict = dict(zip(state_set,\n",
    "                     sns.color_palette('husl',len(state_set))))\n",
    "\n",
    "colors = [color_dict[x] for x in states]\n",
    "\n",
    "\n",
    "print(strain_1, strain_2, condition, fold_frame.shape)\n"
   ]
  },
  {
   "cell_type": "code",
   "execution_count": 221,
   "metadata": {
    "collapsed": false
   },
   "outputs": [
    {
     "data": {
      "image/png": "[encoded data removed]",
      "text/plain": [
       "<matplotlib.figure.Figure at 0x7feb1e7b4b70>"
      ]
     },
     "metadata": {},
     "output_type": "display_data"
    }
   ],
   "source": [
    "sns.clustermap(fold_frame,\n",
    "              yticklabels=False,\n",
    "              vmin=-6,\n",
    "              vmax=6,\n",
    "              row_colors = colors,\n",
    "              col_cluster=False)\n",
    "plt.suptitle(strain_2 + '/' + strain_1 + ' Log2 Fold Change binding in ' + condition)\n",
    "plt.show()"
   ]
  },
  {
   "cell_type": "code",
   "execution_count": 287,
   "metadata": {
    "collapsed": false
   },
   "outputs": [
    {
     "data": {
      "image/png": "[encoded data removed]",
      "text/plain": [
       "<matplotlib.figure.Figure at 0x7feb1e926898>"
      ]
     },
     "metadata": {},
     "output_type": "display_data"
    },
    {
     "data": {
      "image/png": "[encoded data removed]",
      "text/plain": [
       "<matplotlib.figure.Figure at 0x7feb1ca9a208>"
      ]
     },
     "metadata": {},
     "output_type": "display_data"
    }
   ],
   "source": [
    "for factor in ['cjun', 'jund']:\n",
    "    for state in ['c57bl6']:#, 'balbc']:\n",
    "        indices = state_frame[state_frame[factor] == state].index.values\n",
    "        current_snp_frame = motif_balbcj_snp_frame[motif_balbcj_snp_frame.index.isin(indices)]\n",
    "        filtered_indices = current_snp_frame[current_snp_frame.sum(axis=1) > 0].index.values\n",
    "        \n",
    "        motif_weight_tuples = list(zip(coefficients_frame_veh_ind.index.values, coefficients_frame_veh_ind[factor].values))\n",
    "        motif_weight_tuples = sorted(motif_weight_tuples, key=lambda x:x[1], reverse=True)\n",
    "        seen_ids = set()\n",
    "        explained_peaks = []\n",
    "        labels = []\n",
    "        for mwt in motif_weight_tuples:\n",
    "            motif = mwt[0]\n",
    "            weight = mwt[1]\n",
    "            labels.append(motif + ' ('+ str(weight) +')')\n",
    "            motif_indices = current_snp_frame[current_snp_frame[motif]>0].index.values\n",
    "            seen_ids = seen_ids.union(set(motif_indices))\n",
    "            explained_peaks.append(len(seen_ids))\n",
    "        plt.plot(range(len(explained_peaks)), explained_peaks)\n",
    "#         plt.xticks(range(len(explained_peaks)),labels)\n",
    "        plt.xlabel('Motifs')\n",
    "        plt.ylabel('Number of Explained peaks')\n",
    "        plt.title(factor)\n",
    "        plt.show()"
   ]
  },
  {
   "cell_type": "code",
   "execution_count": 285,
   "metadata": {
    "collapsed": false
   },
   "outputs": [
    {
     "data": {
      "text/plain": [
       "['atf7_batf3_creb5 (1.84199869865)',\n",
       " 'ap-1 (1.65603101022)',\n",
       " 'cebp (1.13412690412)',\n",
       " 'xbp1 (1.05491428503)',\n",
       " 'pax2 (0.776008004995)',\n",
       " 'mef2a-b-d (0.649730710586)',\n",
       " 'arntl_mitf (0.636058881384)',\n",
       " 'mef2c (0.480983843819)',\n",
       " 'maf_nrl (0.441576723492)',\n",
       " 'bhlh (0.431221382829)',\n",
       " 'hsf (0.425983796227)',\n",
       " 'runx (0.416560336486)',\n",
       " 'usf (0.416503329154)',\n",
       " 'pax5 (0.402502609273)',\n",
       " 'meis (0.388793496193)',\n",
       " 'ar_nr3c1_nr3c2 (0.373971885569)',\n",
       " 'mafg (0.366397289908)',\n",
       " 'nfi (0.362881762986)',\n",
       " 'ascl2_nhlh1 (0.358897003207)',\n",
       " 'pax6 (0.353177148725)']"
      ]
     },
     "execution_count": 285,
     "metadata": {},
     "output_type": "execute_result"
    }
   ],
   "source": [
    "labels[:20]"
   ]
  },
  {
   "cell_type": "code",
   "execution_count": 270,
   "metadata": {
    "collapsed": false
   },
   "outputs": [
    {
     "data": {
      "text/plain": [
       "[('atf7_batf3_creb5', 1.8419986986458996),\n",
       " ('ap-1', 1.6560310102195714),\n",
       " ('cebp', 1.1341269041217357),\n",
       " ('xbp1', 1.0549142850294106),\n",
       " ('pax2', 0.77600800499531419),\n",
       " ('mef2a-b-d', 0.64973071058601606),\n",
       " ('arntl_mitf', 0.63605888138372457),\n",
       " ('mef2c', 0.48098384381887571),\n",
       " ('maf_nrl', 0.44157672349189397),\n",
       " ('bhlh', 0.43122138282944239),\n",
       " ('hsf', 0.42598379622693161),\n",
       " ('runx', 0.41656033648585772),\n",
       " ('usf', 0.41650332915379323),\n",
       " ('pax5', 0.40250260927255699),\n",
       " ('meis', 0.38879349619322967),\n",
       " ('ar_nr3c1_nr3c2', 0.37397188556915023),\n",
       " ('mafg', 0.36639728990776493),\n",
       " ('nfi', 0.36288176298645858),\n",
       " ('ascl2_nhlh1', 0.35889700320666557),\n",
       " ('pax6', 0.35317714872463091),\n",
       " ('pou6f2', 0.35258633986061971),\n",
       " ('rfx', 0.33908172349646393),\n",
       " ('rreb1', 0.33861036549042461),\n",
       " ('pou4', 0.30351285549171153),\n",
       " ('t', 0.28801453019703754),\n",
       " ('hoxb5_hoxd3', 0.28575405220808758),\n",
       " ('pknox_tgif', 0.27912921341597641),\n",
       " ('ebf1', 0.27723074161027306),\n",
       " ('duxa', 0.27376232564916919),\n",
       " ('esr2', 0.26904468441882606),\n",
       " ('spz1', 0.26163709484572018),\n",
       " ('e2f2', 0.25300103177914451),\n",
       " ('sox10', 0.25131726620686023),\n",
       " ('nkx2-5', 0.25049005934436169),\n",
       " ('tcfl5', 0.24745241776566584),\n",
       " ('zfx', 0.2426306767911062),\n",
       " ('hoxa5', 0.24066799054279872),\n",
       " ('hltf', 0.2395100607862625),\n",
       " ('gli2', 0.23945726712543572),\n",
       " ('rar', 0.23458273167844909),\n",
       " ('grhl1', 0.23220933915633543),\n",
       " ('zbtb33', 0.23062038979931507),\n",
       " ('srebpf', 0.21664161832774328),\n",
       " ('prdm1', 0.21308012325469294),\n",
       " ('hnf4g', 0.21017687954665473),\n",
       " ('nr2f1', 0.20833608335925524),\n",
       " ('crem', 0.20435855958430166),\n",
       " ('bcl6', 0.20171338029757802),\n",
       " ('gsc', 0.19676705039349346),\n",
       " ('mga_tbx', 0.19469556759547907),\n",
       " ('sp4', 0.1929367440405039),\n",
       " ('znf354c', 0.19153686312284424),\n",
       " ('arid5a', 0.19112724309044665),\n",
       " ('mecom', 0.18825793501083138),\n",
       " ('tp73', 0.18399530839155306),\n",
       " ('zbtb18', 0.18348523350048562),\n",
       " ('myb', 0.1785693148848766),\n",
       " ('rxravdr', 0.17653827201500563),\n",
       " ('sox17', 0.17429071116224512),\n",
       " ('mzf1var.2', 0.17001835351417449),\n",
       " ('nr4a2', 0.16738359462486921),\n",
       " ('pparg', 0.15977464811805855),\n",
       " ('hoxa11', 0.1591156461435379),\n",
       " ('cenpb', 0.15855534862085949),\n",
       " ('rhox11', 0.15786595509317367),\n",
       " ('sox3_sox6', 0.15491440351688021),\n",
       " ('fox', 0.1500054105334245),\n",
       " ('tfap2-3', 0.14873339346516368),\n",
       " ('myc', 0.14593106392015179),\n",
       " ('cdx', 0.14409175001801938),\n",
       " ('pou2-3-5', 0.14320688513208291),\n",
       " ('nfyb', 0.13900599363255273),\n",
       " ('dmrt3', 0.12804783464531408),\n",
       " ('zic', 0.12657222052025321),\n",
       " ('ebox', 0.12184966846035056),\n",
       " ('gata', 0.12092227749966494),\n",
       " ('nr2e3', 0.11670666530516896),\n",
       " ('nkx2-5var.2', 0.11066908275828449),\n",
       " ('zbed1', 0.11049675208721507),\n",
       " ('dmbx1', 0.097798720590775601),\n",
       " ('insm1', 0.093812605274607413),\n",
       " ('hic', 0.093367879108937762),\n",
       " ('hoxa9', 0.090963316695199956),\n",
       " ('e2f4_e2f6', 0.088298861236976348),\n",
       " ('stat6', 0.087491700479011517),\n",
       " ('stat1-3', 0.087271468510546402),\n",
       " ('rar_rxr', 0.085620441485519658),\n",
       " ('gfi1b', 0.083975988008383226),\n",
       " ('tcf7', 0.074618952594730226),\n",
       " ('yy2', 0.074550117798825449),\n",
       " ('roravar.2', 0.073904342748498483),\n",
       " ('gcm', 0.070281535472526024),\n",
       " ('rest', 0.067148950634123253),\n",
       " ('tead', 0.063750395677483432),\n",
       " ('znf263', 0.062505164963920723),\n",
       " ('homeobox-1', 0.06224399407234945),\n",
       " ('pparg_rxra', 0.060661927214874893),\n",
       " ('scrt', 0.059265994683480483),\n",
       " ('pbx1', 0.053686155407860682),\n",
       " ('nr2_rxr', 0.051546529539127119),\n",
       " ('gfi1', 0.049907316334449003),\n",
       " ('glis', 0.048140029168000982),\n",
       " ('thap1', 0.046855671340865962),\n",
       " ('znf423', 0.045273541404434577),\n",
       " ('hnf1', 0.043300621328544155),\n",
       " ('znf143', 0.041699823709443348),\n",
       " ('nrf1', 0.040507734555884675),\n",
       " ('six3', 0.040375916375342796),\n",
       " ('dbp_hlf_tef', 0.032407929013896219),\n",
       " ('smad3', 0.032209423527944564),\n",
       " ('sp1', 0.030279432116959291),\n",
       " ('irf1', 0.025984133024675574),\n",
       " ('dux4', 0.024630421807182931),\n",
       " ('nr2e1', 0.022998714473939214),\n",
       " ('znf740', 0.017223589403547349),\n",
       " ('hinfp', 0.01335165727988815),\n",
       " ('tbp', 0.0099387064163892879),\n",
       " ('nfat', 0.0066967158751603563),\n",
       " ('bhlha15', 0.0063002232525263095),\n",
       " ('tfcp2', 0.0034275573995927898),\n",
       " ('arnt_mycn', 0.0),\n",
       " ('bcl6b', 0.0),\n",
       " ('cux', 0.0),\n",
       " ('esrr', 0.0),\n",
       " ('hes', 0.0),\n",
       " ('homeobox-5', 0.0),\n",
       " ('klf', 0.0),\n",
       " ('lef1', 0.0),\n",
       " ('mtf1', 0.0),\n",
       " ('mybl1', 0.0),\n",
       " ('mybl2', 0.0),\n",
       " ('mzf1', 0.0),\n",
       " ('prox1', 0.0),\n",
       " ('rargvar.2', 0.0),\n",
       " ('rora', 0.0),\n",
       " ('sox1-l1-21-4', 0.0),\n",
       " ('srf', 0.0),\n",
       " ('tp53', 0.0),\n",
       " ('esr1', -0.0025528712203038324),\n",
       " ('pou1f1', -0.002913427697735812),\n",
       " ('myog_tcf12', -0.0032464448365979556),\n",
       " ('ewsr1-fli1', -0.003666027362888246),\n",
       " ('tfap1', -0.0063080772894405683),\n",
       " ('phox2_prop', -0.0090140342191053716),\n",
       " ('nr5a2', -0.009995508885227912),\n",
       " ('lin54', -0.012159241797114339),\n",
       " ('pax3_pax7', -0.014015312057159638),\n",
       " ('tbx', -0.016060980597895458),\n",
       " ('egr', -0.016832095664087519),\n",
       " ('homeobox-4', -0.018940409210310351),\n",
       " ('lhx3', -0.022673516584724357),\n",
       " ('onecut', -0.022878325514959667),\n",
       " ('nkx2-3_nkx2-8', -0.025371190253145985),\n",
       " ('hoxd8', -0.028646533036076293),\n",
       " ('dux', -0.0360669943604651),\n",
       " ('plag1', -0.046889931975564514),\n",
       " ('hoxc9', -0.048019072630842541),\n",
       " ('hoxc13', -0.05312990167605517),\n",
       " ('elf', -0.059015069654603708),\n",
       " ('msc_myf6_tfap4', -0.063050462178839625),\n",
       " ('irf2', -0.067638745838845077),\n",
       " ('bhlhe23', -0.068482077076414891),\n",
       " ('nfil3', -0.08693153124512841),\n",
       " ('ventx', -0.087464468626383074),\n",
       " ('figla_id4_snai2_tcf3_tcf4', -0.092131378070493819),\n",
       " ('homeobox-2', -0.10928824924914139),\n",
       " ('arid3a', -0.11196207376410529),\n",
       " ('tp63', -0.12042625130286984),\n",
       " ('sox5_sox9_sry', -0.12129572935406913),\n",
       " ('e2f8', -0.12170538304186077),\n",
       " ('homeobox-3', -0.13310835974444807),\n",
       " ('arid3b', -0.15842081022363752),\n",
       " ('elk_etv', -0.15900561687362369),\n",
       " ('zbtb7', -0.16556766413994609),\n",
       " ('yy1', -0.17830672158855346),\n",
       " ('sox2', -0.18733312537637872),\n",
       " ('e2f7', -0.19449386936100241),\n",
       " ('rel', -0.19522748300067488),\n",
       " ('e2f1', -0.20382337906421508),\n",
       " ('sox8', -0.22130003659943834),\n",
       " ('alx1_alx4_arx', -0.23693407568874941),\n",
       " ('tcf21', -0.24458929059847512),\n",
       " ('zeb1', -0.25731208604283934),\n",
       " ('spib', -0.26270053157543449),\n",
       " ('isl2_nkx3-1_nkx3-2', -0.26392636201890507),\n",
       " ('gmeb2', -0.28258743437579126),\n",
       " ('nfya', -0.41761915582332387),\n",
       " ('ctcf', -0.42741521352761735),\n",
       " ('hnf4a', -0.46474727455186304),\n",
       " ('id2_mlxip', -0.4681987776892777),\n",
       " ('znf410', -0.47543507262657475),\n",
       " ('nfkb', -0.49674537015672349),\n",
       " ('spi1-c', -0.57175985577871047),\n",
       " ('pax1_pax9', -0.57931839009734465),\n",
       " ('irf7-8-9', -0.64010103144311281),\n",
       " ('creb3-l1', -0.75942742057974477)]"
      ]
     },
     "execution_count": 270,
     "metadata": {},
     "output_type": "execute_result"
    }
   ],
   "source": [
    "motif_weight_tuples"
   ]
  },
  {
   "cell_type": "code",
   "execution_count": 254,
   "metadata": {
    "collapsed": false,
    "scrolled": false
   },
   "outputs": [
    {
     "name": "stdout",
     "output_type": "stream",
     "text": [
      "unchanged c57bl6\n"
     ]
    },
    {
     "data": {
      "image/png": "[encoded data removed]",
      "text/plain": [
       "<matplotlib.figure.Figure at 0x7feb1bcea550>"
      ]
     },
     "metadata": {},
     "output_type": "display_data"
    },
    {
     "data": {
      "image/png": "[encoded data removed]",
      "text/plain": [
       "<matplotlib.figure.Figure at 0x7feb1e930e10>"
      ]
     },
     "metadata": {},
     "output_type": "display_data"
    },
    {
     "name": "stdout",
     "output_type": "stream",
     "text": [
      "4200 1077\n"
     ]
    }
   ],
   "source": [
    "# for state in state_set:\n",
    "for state in ['unchanged c57bl6']:\n",
    "    print(state)\n",
    "    indices = state_frame[state_frame['state'] == state].index.values\n",
    "    current_frame = motif_balbcj_snp_bool_frame[motif_balbcj_snp_bool_frame.index.isin(indices)]\n",
    "    filtered_indices = current_frame[current_frame.sum(axis=1) > 0].index.values\n",
    "    motif_counts = motif_balbcj_snp_bool_frame[motif_balbcj_snp_bool_frame.index.isin(filtered_indices)].sum(axis=0)\n",
    "    sns.distplot(motif_counts.values, bins=20)\n",
    "    plt.show()\n",
    "    plt.scatter(motif_counts.values, coefficients_frame_veh_ind['jund'])\n",
    "    plt.show()\n",
    "    print(len(indices),len(filtered_indices))\n",
    "    "
   ]
  },
  {
   "cell_type": "code",
   "execution_count": 256,
   "metadata": {
    "collapsed": false
   },
   "outputs": [
    {
     "data": {
      "text/plain": [
       "1375"
      ]
     },
     "execution_count": 256,
     "metadata": {},
     "output_type": "execute_result"
    }
   ],
   "source": [
    "np.sum([x[0] for x in list(zip(motif_counts.values, coefficients_frame_veh_ind['jund'])) if x[1] > 0.5])"
   ]
  },
  {
   "cell_type": "markdown",
   "metadata": {},
   "source": [
    "### For C57Bl6 and Nod"
   ]
  },
  {
   "cell_type": "code",
   "execution_count": null,
   "metadata": {
    "collapsed": false
   },
   "outputs": [],
   "source": [
    "\n",
    "strains_factors = ['cjun', 'jund']\n",
    "strain_1 = 'c57bl6'\n",
    "strain_2 = 'nod'\n",
    "condition = 'veh'\n",
    "comparison_indices = set()\n",
    "for x in range(len(strains_factors)):\n",
    "\n",
    "    factor = strains_factors[x]\n",
    "    strain_1_indices = set(summary_frame[summary_frame[strain_1 + '_' + factor + '_' + condition] > 0].index.values)\n",
    "    strain_2_indices = set(summary_frame[summary_frame[strain_2 + '_' + factor + '_' + condition] > 0].index.values)\n",
    "\n",
    "    comparison_indices = comparison_indices.union(strain_1_indices)\n",
    "    comparison_indices = comparison_indices.union(strain_2_indices)\n",
    "\n",
    "current_frame = summary_frame[summary_frame.index.isin(comparison_indices)]\n",
    "\n",
    "strain_1_frame = current_frame[[strain_1 + '_' + f + '_' + condition for f in strains_factors]]\n",
    "strain_2_frame = current_frame[[strain_2 + '_' + f + '_' + condition for f in strains_factors]]\n",
    "\n",
    "fold_frame = np.log2(pd.DataFrame((strain_2_frame.values+1)).divide((strain_1_frame.values+1)))\n",
    "\n",
    "fold_frame.columns = strains_factors\n",
    "print(strain_1, strain_2, condition, fold_frame.shape)\n",
    "sns.clustermap(fold_frame,\n",
    "              yticklabels=False,\n",
    "              vmin=-4,\n",
    "              vmax=4,\n",
    "              col_cluster=False)\n",
    "plt.suptitle(strain_2 + '/' + strain_1 + ' Log2 Fold Change binding in ' + condition)\n",
    "plt.show()"
   ]
  },
  {
   "cell_type": "markdown",
   "metadata": {},
   "source": [
    "## Clustering Peaks according to important motifs"
   ]
  },
  {
   "cell_type": "code",
   "execution_count": null,
   "metadata": {
    "collapsed": false
   },
   "outputs": [],
   "source": [
    "### vehicle peaks ###\n",
    "threshold =2\n",
    "factor_motifs_positive_dict = {}\n",
    "factor_motifs_negative_dict = {}\n",
    "factor_motifs_dict = {}\n",
    "significant_motifs_veh = set()\n",
    "std = np.std(coefficients_frame_veh.values)\n",
    "mean = np.mean(coefficients_frame_veh.values)\n",
    "for factor in coefficients_frame_veh.columns.values:\n",
    "    weights = coefficients_frame_veh[factor]\n",
    "    std = np.std(weights)\n",
    "    mean = np.mean(weights)\n",
    "    positive_hits = list(weights[weights >= mean + threshold*std].index.values)\n",
    "    negative_hits = list(weights[weights <= mean - threshold*std].index.values)\n",
    "    motif_hits = negative_hits + positive_hits\n",
    "    \n",
    "    print(factor, mean-threshold*std, mean+threshold*std)\n",
    "    for m in motif_hits:\n",
    "        significant_motifs_veh.add(m)\n",
    "    factor_motifs_dict[factor] = motif_hits\n",
    "    factor_motifs_negative_dict[ factor] = negative_hits\n",
    "    factor_motifs_positive_dict[factor] = positive_hits"
   ]
  },
  {
   "cell_type": "code",
   "execution_count": null,
   "metadata": {
    "collapsed": false,
    "scrolled": false
   },
   "outputs": [],
   "source": [
    "treatment = 'veh'\n",
    "c57bl6_indices = summary_frame[(summary_frame['Factors'].str.contains('c57bl6_')) &\n",
    "                              (summary_frame['Factors'].str.contains(treatment))].index.values\n",
    "\n",
    "for factor in ['ap-1', 'cebpa', 'pu1']:\n",
    "    print(factor)\n",
    "    factor_indices = summary_frame[summary_frame['Factors'].str.contains('c57bl6_'+ factor + '_' + treatment)].index.values\n",
    "    \n",
    "    data = normed_motif_frame[normed_motif_frame.index.isin(factor_indices)][factor_motifs_dict[factor]]\n",
    "    print(data.shape, len(factor_indices))\n",
    "#     colors = ['blue' if x in factor_indices else 'grey' for x in c57bl6_indices]\n",
    "    sns.clustermap(data=data, \n",
    "                   yticklabels=False,\n",
    "                   col_cluster = False,\n",
    "                   )\n",
    "    plt.show()"
   ]
  },
  {
   "cell_type": "markdown",
   "metadata": {},
   "source": [
    "### KLA"
   ]
  },
  {
   "cell_type": "code",
   "execution_count": null,
   "metadata": {
    "collapsed": false
   },
   "outputs": [],
   "source": [
    "### KLA peaks ###\n",
    "threshold = 2.0\n",
    "factor_motifs_positive_dict = {}\n",
    "factor_motifs_negative_dict = {}\n",
    "factor_motifs_dict = {}\n",
    "\n",
    "significant_motifs_kla = set()\n",
    "# mean = np.mean(coefficients_frame_kla.values)\n",
    "# std = np.std(coefficients_frame_kla.values)\n",
    "\n",
    "for factor in coefficients_frame_kla.columns.values:\n",
    "    weights = coefficients_frame_kla[factor]\n",
    "    std = np.std(weights)\n",
    "    mean = np.mean(weights)\n",
    "    positive_hits = list(weights[weights >= mean + threshold*std].index.values)\n",
    "    negative_hits = list(weights[weights <= mean - threshold*std].index.values)\n",
    "    motif_hits = negative_hits + positive_hits\n",
    "    \n",
    "    print(factor, mean-threshold*std, mean+threshold*std)\n",
    "    for m in motif_hits:\n",
    "        significant_motifs_kla.add(m)\n",
    "    factor_motifs_dict[factor] = motif_hits\n",
    "    factor_motifs_negative_dict[ factor] = negative_hits\n",
    "    factor_motifs_positive_dict[factor] = positive_hits"
   ]
  },
  {
   "cell_type": "code",
   "execution_count": null,
   "metadata": {
    "collapsed": false,
    "scrolled": false
   },
   "outputs": [],
   "source": [
    "treatment = 'kla'\n",
    "c57bl6_indices = summary_frame[(summary_frame['Factors'].str.contains('c57bl6_')) &\n",
    "                              (summary_frame['Factors'].str.contains(treatment))].index.values\n",
    "\n",
    "for factor in ['pu1', 'ap-1', 'p65']:\n",
    "    print(factor)\n",
    "    factor_indices = summary_frame[summary_frame['Factors'].str.contains('c57bl6_'+ factor + '_' + treatment)].index.values\n",
    "    \n",
    "    data = normed_motif_frame[normed_motif_frame.index.isin(factor_indices)][factor_motifs_dict[factor]]\n",
    "    print(data.shape, len(factor_indices))\n",
    "#     colors = ['blue' if x in factor_indices else 'grey' for x in c57bl6_indices]\n",
    "    sns.clustermap(data=data, \n",
    "                   yticklabels=False,\n",
    "                   col_cluster = False,\n",
    "                   )\n",
    "    plt.show()"
   ]
  },
  {
   "cell_type": "markdown",
   "metadata": {},
   "source": [
    "### Combinations of Factors"
   ]
  },
  {
   "cell_type": "code",
   "execution_count": null,
   "metadata": {
    "collapsed": false
   },
   "outputs": [],
   "source": [
    "treatment = 'veh'\n",
    "c57bl6_indices = summary_frame[(summary_frame['Factors'].str.contains('c57bl6_')) &\n",
    "                              (summary_frame['Factors'].str.contains(treatment))].index.values\n",
    "color_dict = dict(zip(['ap-1', 'cebpa', 'pu1', ], sns.color_palette('colorblind')))\n",
    "colors = []\n",
    "for factor in ['ap-1', 'cebpa', 'pu1']:\n",
    "    print(factor)\n",
    "    factor_indices = summary_frame[summary_frame['Factors'].str.contains('c57bl6_'+ factor + '_' + treatment)].index.values\n",
    "    print(len(factor_indices))\n",
    "    current_color = color_dict[factor]\n",
    "    current_colors = [current_color if x in factor_indices else 'white' for x in c57bl6_indices]\n",
    "    colors.append(current_colors)\n",
    "\n",
    "data = normed_motif_frame[normed_motif_frame.index.isin(c57bl6_indices)][sorted(significant_motifs_veh)]\n",
    "\n",
    "    \n",
    "sns.clustermap(data=data, \n",
    "               yticklabels=False,\n",
    "               col_cluster = False,\n",
    "               row_colors = colors\n",
    "               )\n",
    "plt.show()"
   ]
  },
  {
   "cell_type": "code",
   "execution_count": null,
   "metadata": {
    "collapsed": false
   },
   "outputs": [],
   "source": [
    "treatment = 'kla'\n",
    "c57bl6_indices = summary_frame[(summary_frame['Factors'].str.contains('c57bl6_')) &\n",
    "                              (summary_frame['Factors'].str.contains(treatment))].index.values\n",
    "color_dict = dict(zip( ['ap-1', 'cebpa', 'pu1', 'p65'], sns.color_palette('colorblind')))\n",
    "colors = []\n",
    "for factor in ['ap-1', 'cebpa', 'pu1', 'p65']:\n",
    "    print(factor)\n",
    "    factor_indices = summary_frame[summary_frame['Factors'].str.contains('c57bl6_'+ factor + '_' + treatment)].index.values\n",
    "    print(len(factor_indices))\n",
    "    current_color = color_dict[factor]\n",
    "    current_colors = [current_color if x in factor_indices else 'white' for x in c57bl6_indices]\n",
    "    colors.append(current_colors)\n",
    "\n",
    "data = normed_motif_frame[normed_motif_frame.index.isin(c57bl6_indices)][sorted(significant_motifs_kla)]\n",
    "\n",
    "    \n",
    "sns.clustermap(data=data, \n",
    "               yticklabels=False,\n",
    "               col_cluster = False,\n",
    "               row_colors = colors\n",
    "               )\n",
    "plt.show()"
   ]
  },
  {
   "cell_type": "code",
   "execution_count": null,
   "metadata": {
    "collapsed": true
   },
   "outputs": [],
   "source": []
  }
 ],
 "metadata": {
  "kernelspec": {
   "display_name": "Python 3",
   "language": "python",
   "name": "python3"
  },
  "language_info": {
   "codemirror_mode": {
    "name": "ipython",
    "version": 3
   },
   "file_extension": ".py",
   "mimetype": "text/x-python",
   "name": "python",
   "nbconvert_exporter": "python",
   "pygments_lexer": "ipython3",
   "version": "3.4.4"
  }
 },
 "nbformat": 4,
 "nbformat_minor": 0
}
