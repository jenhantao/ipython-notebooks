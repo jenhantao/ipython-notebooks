{
 "cells": [
  {
   "cell_type": "markdown",
   "metadata": {},
   "source": [
    "# Signals Analysis"
   ]
  },
  {
   "cell_type": "code",
   "execution_count": 1,
   "metadata": {
    "collapsed": true
   },
   "outputs": [],
   "source": [
    "### header ###\n",
    "__author__ = \"Jenhan Tao\"\n",
    "__license__ = \"BSD\"\n",
    "__email__ = \"jenhantao@gmail.com\"\n",
    "%load_ext autoreload\n",
    "%autoreload 2\n",
    "### imports ###\n",
    "import sys\n",
    "%matplotlib inline\n",
    "import os\n",
    "import pandas as pd\n",
    "import numpy as np\n",
    "import matplotlib\n",
    "import threading\n",
    "import multiprocessing\n",
    "import matplotlib.pyplot as plt \n",
    "import seaborn as sns\n",
    "from collections import Counter\n",
    "import matplotlib_venn\n",
    "import networkx as nx\n",
    "from networkx.drawing.nx_agraph import graphviz_layout\n",
    "matplotlib.pylab.rcParams['savefig.dpi'] = 200\n",
    "sys.setrecursionlimit(3000)\n",
    "import pickle\n",
    "from sklearn import preprocessing\n",
    "import time\n",
    "import scipy\n",
    "from sklearn import tree\n",
    "import sklearn\n",
    "from sklearn import cross_validation\n",
    "sns.set_context('notebook')"
   ]
  },
  {
   "cell_type": "code",
   "execution_count": 2,
   "metadata": {
    "collapsed": true
   },
   "outputs": [],
   "source": [
    "workingDirectory = '/home/jtao/analysis/signal_level_analysis/'\n",
    "\n",
    "if not os.path.isdir(workingDirectory):\n",
    "    os.mkdir(workingDirectory)\n",
    "os.chdir(workingDirectory)"
   ]
  },
  {
   "cell_type": "markdown",
   "metadata": {},
   "source": [
    "## Functions"
   ]
  },
  {
   "cell_type": "code",
   "execution_count": 86,
   "metadata": {
    "collapsed": true
   },
   "outputs": [],
   "source": [
    "def convert_sequences_to_array(sequences):\n",
    "    '''\n",
    "    inputs: sequence of nucleotides represented as a string composed of A, C, G, T\n",
    "    outputs: a list of numpy array representations of a sequence with:\n",
    "             A = [1, 0, 0, 0]\n",
    "             C = [0, 1, 0, 0]\n",
    "             G = [0, 0, 1, 0]\n",
    "             T = [0, 0, 0, 1]\n",
    "             \n",
    "    '''\n",
    "    nucleotide_array_dict = {'A': [1, 0, 0, 0],\n",
    "                             'C': [0, 1, 0, 0],\n",
    "                             'G': [0, 0, 1, 0],\n",
    "                             'T': [0, 0, 0, 1],\n",
    "                             'N': [0, 0, 0, 0]}\n",
    "    sequence_array_list = []\n",
    "    for seq in sequences:\n",
    "        seq_array = []\n",
    "        for nuc in seq:\n",
    "            seq_array.append(nucleotide_array_dict[nuc])\n",
    "        seq_array = np.array(seq_array)\n",
    "        sequence_array_list.append(seq_array)\n",
    "    return sequence_array_list"
   ]
  },
  {
   "cell_type": "code",
   "execution_count": 88,
   "metadata": {
    "collapsed": true
   },
   "outputs": [],
   "source": [
    "def read_fasta(file_path):\n",
    "    '''\n",
    "    reads in a fasta file and returns a list of sequence ids and a list of sequences\n",
    "    inputs: filepath - path to a fasta file\n",
    "    outputs: sequence_list - a list of sequences\n",
    "             id_list - a list of ids\n",
    "    '''\n",
    "    with open(file_path) as f:\n",
    "        data = f.readlines()\n",
    "    id_list = []\n",
    "    sequence_list = []\n",
    "    # loop through each sequence\n",
    "    for line in data:\n",
    "        if '>' in line:\n",
    "            seq_id = line.strip()[1:]\n",
    "            id_list.append(seq_id)\n",
    "        else:\n",
    "            seq = line.strip()\n",
    "            sequence_list.append(seq)\n",
    "    return sequence_list, id_list"
   ]
  },
  {
   "cell_type": "code",
   "execution_count": 89,
   "metadata": {
    "collapsed": true
   },
   "outputs": [],
   "source": [
    "def read_motif_file(motifPath, pseudocount):\n",
    "    '''\n",
    "    reads all motif files in a directory \n",
    "    inputs: path to a directory containing homer motif files\n",
    "    outputs: an array of tuples representing each motif\n",
    "    '''\n",
    "    name_metadata_dict = {}\n",
    "    with open(motifPath) as f:\n",
    "        data = f.readlines()\n",
    "    name = '.'.join(motifPath.split('/')[-1].split('.')[:-1])\n",
    "    matrix = []\n",
    "    metadata = data[0].strip()\n",
    "    for line in data[1:]:\n",
    "        tokens = line.strip().split(\"\\t\")\n",
    "        if len(tokens) > 1:\n",
    "            scores = np.array([float(x) for x in tokens])\n",
    "            scores = scores + pseudocount\n",
    "            scores= scores/np.sum(scores)\n",
    "            matrix.append(scores)\n",
    "    return (name,np.array(matrix))"
   ]
  },
  {
   "cell_type": "code",
   "execution_count": 108,
   "metadata": {
    "collapsed": true
   },
   "outputs": [],
   "source": [
    "def calc_multi_motif_sequence(seq_array, \n",
    "                              forward_score_dict, \n",
    "                              reverse_score_dict, \n",
    "                              motif_size_dict,\n",
    "                              score_threshold = 0,\n",
    "                              distance_threshold = 200,\n",
    "                              symmetric_motifs = []\n",
    "                             ):\n",
    "    '''\n",
    "    '''\n",
    "    motif_names = sorted(forward_score_dict.keys())\n",
    "    seq_size = seq_array.shape[0]\n",
    "    # initialize position_node array\n",
    "    position_node_array = [[] for x in range(seq_size)]\n",
    "\n",
    "    # intialize graph\n",
    "    seq_graph = nx.DiGraph()\n",
    "\n",
    "    # initialize\n",
    "    for motif in motif_names:\n",
    "        motif_size = motif_size_dict[motif]\n",
    "        indices = list(range(len(forward_score_dict[motif])))\n",
    "        forward_scores = forward_score_dict[motif]\n",
    "        revcomp_scores = reverse_score_dict[motif]\n",
    "\n",
    "        # identify motif instances using score score_threshold\n",
    "        filtered_forward_motif_instances = [x for x in zip(indices, forward_scores) if x[1]>score_threshold]\n",
    "        filtered_revcomp_motif_instances = [x for x in zip(indices, revcomp_scores) if x[1]>score_threshold]\n",
    "\n",
    "        # create graph node for every forward motif instance\n",
    "        for mi in filtered_forward_motif_instances:\n",
    "            node_id = str(mi[0]) + ' ' + motif + ' +'\n",
    "            seq_graph.add_node(node_id, \n",
    "                               name=motif,\n",
    "                               start=mi[0], \n",
    "                               end = mi[0] + motif_size, \n",
    "                               score=mi[1], \n",
    "                               orientation='+')\n",
    "\n",
    "            # figure out positions motif instance occupies\n",
    "            start_position = mi[0]\n",
    "            end_position=start_position + motif_size\n",
    "\n",
    "            # add node_id to position_node array\n",
    "            for pos in range(start_position, end_position):\n",
    "                position_node_array[pos].append(node_id)\n",
    "\n",
    "        # create graph node for every revcomp motif instance\n",
    "        for mi in filtered_revcomp_motif_instances:\n",
    "            node_id = str(mi[0]) + ' ' + motif + ' -'\n",
    "            seq_graph.add_node(node_id, \n",
    "                               name=motif,\n",
    "                               start=mi[0], \n",
    "                               end = mi[0] + motif_size, \n",
    "                               score=mi[1], \n",
    "                               orientation='-')\n",
    "\n",
    "            # figure out positions motif instance occupies\n",
    "            start_position = mi[0]\n",
    "            end_position=start_position + motif_size\n",
    "\n",
    "            # add node_id to position_node array\n",
    "            for pos in range(start_position, end_position):\n",
    "                position_node_array[pos].append(node_id)\n",
    "\n",
    "    # add edges\n",
    "    all_nodes = seq_graph.nodes(data=True)\n",
    "    edges_to_add = []\n",
    "    for node in all_nodes:\n",
    "        # find the first nonoverlapping motif(s)\n",
    "        end_pos = node[1]['end']\n",
    "        first_neighbor_pos = end_pos\n",
    "        candidate_neighbors = []\n",
    "        while len(candidate_neighbors) < 1 and first_neighbor_pos < seq_size:\n",
    "            candidate_neighbors = position_node_array[first_neighbor_pos]\n",
    "            first_neighbor_pos += 1\n",
    "            \n",
    "        # find largest motif amongst the first nonoverlapping motif(s)\n",
    "        max_size_end = -1\n",
    "        max_size_start = -1\n",
    "        for n in candidate_neighbors:\n",
    "            neighbor = seq_graph.node[n]\n",
    "            neighbor_end = neighbor['end']\n",
    "            neighbor_start = neighbor['start']\n",
    "            if neighbor_end > max_size_end:\n",
    "                max_size_end = neighbor_end\n",
    "                max_size_start = neighbor_start\n",
    "        # identify all motifs that overlap with the first largest nonoverlapping motif(s)\n",
    "        for pos in range(max_size_start, max_size_end):\n",
    "            candidate_neighbors = candidate_neighbors + position_node_array[pos]\n",
    "        candidate_neighbors = set(candidate_neighbors)\n",
    "        \n",
    "        for n in candidate_neighbors:\n",
    "            neighbor = seq_graph.node[n]\n",
    "            neighbor_start = neighbor['start']\n",
    "            if neighbor_start >= end_pos:\n",
    "                edges_to_add.append((node[0], n))\n",
    "    seq_graph.add_edges_from(edges_to_add)\n",
    "\n",
    "    # creat start node and connect all nodes with 0 incoming edges\n",
    "    start_edges = []\n",
    "    for node_id, in_degree in seq_graph.in_degree_iter():\n",
    "        if in_degree == 0:\n",
    "            start_edges.append(('start', node_id))\n",
    "            \n",
    "    # create end node and connect all nodes with 0 outgoing edges\n",
    "    end_edges = []\n",
    "    for node_id, out_degree in seq_graph.out_degree_iter():\n",
    "        if out_degree == 0:\n",
    "            end_edges.append((node_id, 'end'))\n",
    "    \n",
    "    if len(start_edges) > 1:\n",
    "        seq_graph.add_edges_from(start_edges)\n",
    "    else:\n",
    "        seq_graph.add_node('start')\n",
    "    if len(end_edges) > 1:\n",
    "        seq_graph.add_edges_from(end_edges)\n",
    "    else:\n",
    "        seq_graph.add_node('end')\n",
    "    # generate all paths from start to end node\n",
    "    paths = nx.all_simple_paths(seq_graph, 'start', 'end')\n",
    "    \n",
    "    # add data to list of paths\n",
    "    id_score_dict = nx.get_node_attributes(seq_graph, 'score')\n",
    "    paths_with_data = []\n",
    "    paths_without_data = []\n",
    "    counter = 0\n",
    "    for p in paths:\n",
    "        \n",
    "        if counter > 10000:\n",
    "            print('Too many paths!!!')\n",
    "            return seq_graph, [], [] \n",
    "        counter += 1\n",
    "        \n",
    "        current_p_with_data = []\n",
    "        current_p_without_data = []\n",
    "        for n in p:\n",
    "#             if n == 'start':\n",
    "#                 motif_name = 'start'\n",
    "#                 orientation = '|'\n",
    "#                 score = score_threshold\n",
    "#             elif n == 'end':\n",
    "#                 motif_name = 'end'\n",
    "#                 orientation = '|'\n",
    "#                 score = score_threshold\n",
    "#             else:\n",
    "            # exclude end and start nodes which were created just for creating paths\n",
    "            if not n== 'start' and not n == 'end':\n",
    "                tokens = n.split()\n",
    "                motif_name = tokens[1]\n",
    "                orientation = tokens[2]\n",
    "                score = id_score_dict[n]\n",
    "                \n",
    "                n_with_data = (motif_name, orientation, score)\n",
    "                current_p_with_data.append(n_with_data)\n",
    "                current_p_without_data.append(motif_name + ' ' + orientation)\n",
    "        paths_with_data.append(current_p_with_data)\n",
    "        paths_without_data.append(current_p_without_data)\n",
    "\n",
    "    return seq_graph, paths_with_data, paths_without_data"
   ]
  },
  {
   "cell_type": "markdown",
   "metadata": {},
   "source": [
    "## Data Processing"
   ]
  },
  {
   "cell_type": "markdown",
   "metadata": {},
   "source": [
    "### ATAC Peaks"
   ]
  },
  {
   "cell_type": "code",
   "execution_count": 31,
   "metadata": {
    "collapsed": false
   },
   "outputs": [],
   "source": [
    "# %%capture \n",
    "# suppress output - this can be saved to a variable (like a log file)\n",
    "\n",
    "### call peaks ###\n",
    "# iterate through each individual file\n",
    "peakDirectory = workingDirectory + '/' + 'atac_peak_files'\n",
    "\n",
    "if not os.path.exists(peakDirectory):\n",
    "    os.makedirs(peakDirectory)\n",
    "\n",
    "# make peak files with simplified names\n",
    "# filteredSamples = list(filtered_mappingStats_frame['sampleName'].values)\n",
    "scriptFile1 = open('./peakCalling_homer_idr.sh', 'w')\n",
    "\n",
    "atacTagDirPath = './tag_directories_atac/'\n",
    "for tagDir in os.listdir(atacTagDirPath):\n",
    "    # call peaks only for experiments that passed thresholding\n",
    "    metaDataTokens = tagDir.split(\"_\")\n",
    "    treatment = metaDataTokens[4]\n",
    "\n",
    "    peakFileName1 = tagDir + \"_peaks.tsv\"\n",
    "\n",
    "    scriptFile1.write('findPeaks ' + atacTagDirPath + '/' + tagDir \n",
    "                     + ' -L 0 -C 0 -fdr 0.9' \n",
    "                     + ' -style factor -size 150  > ' + \n",
    "                     peakDirectory + '/' + peakFileName1 + ' &\\n')\n",
    "    \n",
    "scriptFile1.close()\n",
    "\n",
    "\n"
   ]
  },
  {
   "cell_type": "code",
   "execution_count": 32,
   "metadata": {
    "collapsed": false
   },
   "outputs": [
    {
     "name": "stderr",
     "output_type": "stream",
     "text": [
      "\tFragment Length = 67\n",
      "\tTotal Tags = 12733303.0\n",
      "\tTags per bp = 0.006367\n",
      "\tMax tags per bp set automatically to 1.0\n",
      "\tFinding peaks of size 150, no closer than 300\n",
      "\tFragment Length = 77\n",
      "\tTotal Tags = 9726543.0\n",
      "\tTags per bp = 0.004863\n",
      "\tMax tags per bp set automatically to 1.0\n",
      "\tFinding peaks of size 150, no closer than 300\n",
      "\tFragment Length = 87\n",
      "\tTotal Tags = 3551409.0\n",
      "\tTags per bp = 0.001776\n",
      "\tMax tags per bp set automatically to 1.0\n",
      "\tFinding peaks of size 150, no closer than 300\n",
      "\tFragment Length = 67\n",
      "\tTotal Tags = 5746574.0\n",
      "\tTags per bp = 0.002873\n",
      "\tMax tags per bp set automatically to 1.0\n",
      "\tFinding peaks of size 150, no closer than 300\n",
      "\t\tFinding peaks on chr1 (minCount=-0.7), total tags positions = 170908\n",
      "\t\tFinding peaks on chr1 (minCount=-0.6), total tags positions = 273690\n",
      "\t\tFinding peaks on chr1 (minCount=-0.3), total tags positions = 448119\n",
      "\t\tFinding peaks on chr2 (minCount=-0.7), total tags positions = 160142\n",
      "\t\tFinding peaks on chr1 (minCount=-0.0), total tags positions = 571010\n",
      "\t\tFinding peaks on chr3 (minCount=-0.7), total tags positions = 141090\n",
      "\t\tFinding peaks on chr2 (minCount=-0.6), total tags positions = 267441\n",
      "\t\tFinding peaks on chr4 (minCount=-0.7), total tags positions = 133494\n",
      "\t\tFinding peaks on chr5 (minCount=-0.7), total tags positions = 127485\n",
      "\t\tFinding peaks on chr2 (minCount=-0.3), total tags positions = 467469\n",
      "\t\tFinding peaks on chr3 (minCount=-0.6), total tags positions = 232210\n",
      "\t\tFinding peaks on chr6 (minCount=-0.7), total tags positions = 130168\n",
      "\t\tFinding peaks on chr2 (minCount=-0.0), total tags positions = 595160\n",
      "\t\tFinding peaks on chr4 (minCount=-0.6), total tags positions = 213947\n",
      "\t\tFinding peaks on chr7 (minCount=-0.7), total tags positions = 126847\n",
      "\t\tFinding peaks on chr8 (minCount=-0.7), total tags positions = 116721\n",
      "\t\tFinding peaks on chr3 (minCount=-0.3), total tags positions = 361506\n",
      "\t\tFinding peaks on chr9 (minCount=-0.7), total tags positions = 111018\n",
      "\t\tFinding peaks on chr5 (minCount=-0.6), total tags positions = 209463\n",
      "\t\tFinding peaks on chr10 (minCount=-0.7), total tags positions = 120634\n",
      "\t\tFinding peaks on chr3 (minCount=-0.0), total tags positions = 463249\n",
      "\t\tFinding peaks on chr4 (minCount=-0.3), total tags positions = 341390\n",
      "\t\tFinding peaks on chr6 (minCount=-0.6), total tags positions = 212432\n",
      "\t\tFinding peaks on chr11 (minCount=-0.7), total tags positions = 104419\n",
      "\t\tFinding peaks on chr12 (minCount=-0.7), total tags positions = 102539\n",
      "\t\tFinding peaks on chr7 (minCount=-0.6), total tags positions = 198963\n",
      "\t\tFinding peaks on chr13 (minCount=-0.7), total tags positions = 110143\n",
      "\t\tFinding peaks on chr14 (minCount=-0.7), total tags positions = 96560\n",
      "\t\tFinding peaks on chr5 (minCount=-0.3), total tags positions = 341525\n",
      "\t\tFinding peaks on chr15 (minCount=-0.7), total tags positions = 88247\n",
      "\t\tFinding peaks on chr8 (minCount=-0.6), total tags positions = 182362\n",
      "\t\tFinding peaks on chr4 (minCount=-0.0), total tags positions = 449620\n",
      "\t\tFinding peaks on chr16 (minCount=-0.7), total tags positions = 82078\n",
      "\t\tFinding peaks on chr17 (minCount=-0.7), total tags positions = 81645\n",
      "\t\tFinding peaks on chr9 (minCount=-0.6), total tags positions = 180869\n",
      "\t\tFinding peaks on chr6 (minCount=-0.3), total tags positions = 346462\n",
      "\t\tFinding peaks on chr18 (minCount=-0.7), total tags positions = 80697\n",
      "\t\tFinding peaks on chr19 (minCount=-0.7), total tags positions = 51078\n",
      "\t\tFinding peaks on chrX (minCount=-0.7), total tags positions = 60358\n",
      "\t\tFinding peaks on chr10 (minCount=-0.6), total tags positions = 198523\n",
      "\t\tFinding peaks on chrY (minCount=-0.7), total tags positions = 2874\n",
      "\t\tFinding peaks on chr1_GL456210_random (minCount=-0.7), total tags positions = 46\n",
      "\t\tFinding peaks on chr1_GL456211_random (minCount=-0.7), total tags positions = 99\n",
      "\t\tFinding peaks on chr1_GL456212_random (minCount=-0.7), total tags positions = 66\n",
      "\t\tFinding peaks on chr1_GL456221_random (minCount=-0.7), total tags positions = 48\n",
      "\t\tFinding peaks on chr4_GL456216_random (minCount=-0.7), total tags positions = 176\n",
      "\t\tFinding peaks on chr4_JH584292_random (minCount=-0.7), total tags positions = 9\n",
      "\t\tFinding peaks on chr4_JH584295_random (minCount=-0.7), total tags positions = 3\n",
      "\t\tFinding peaks on chr5_GL456354_random (minCount=-0.7), total tags positions = 6\n",
      "\t\tFinding peaks on chr5_JH584297_random (minCount=-0.7), total tags positions = 5\n",
      "\t\tFinding peaks on chr5_JH584299_random (minCount=-0.7), total tags positions = 38\n",
      "\t\tFinding peaks on chr7_GL456219_random (minCount=-0.7), total tags positions = 1\n",
      "\t\tFinding peaks on chrUn_GL456239 (minCount=-0.7), total tags positions = 112\n",
      "\t\tFinding peaks on chrUn_GL456359 (minCount=-0.7), total tags positions = 116\n",
      "\t\tFinding peaks on chrUn_GL456360 (minCount=-0.7), total tags positions = 12\n",
      "\t\tFinding peaks on chrUn_GL456366 (minCount=-0.7), total tags positions = 13\n",
      "\t\tFinding peaks on chrUn_GL456367 (minCount=-0.7), total tags positions = 8\n",
      "\t\tFinding peaks on chrUn_GL456368 (minCount=-0.7), total tags positions = 8\n",
      "\t\tFinding peaks on chrUn_GL456370 (minCount=-0.7), total tags positions = 7\n",
      "\t\tFinding peaks on chrUn_GL456372 (minCount=-0.7), total tags positions = 11\n",
      "\t\tFinding peaks on chrUn_GL456378 (minCount=-0.7), total tags positions = 21\n",
      "\t\tFinding peaks on chrUn_GL456379 (minCount=-0.7), total tags positions = 24\n",
      "\t\tFinding peaks on chrUn_GL456381 (minCount=-0.7), total tags positions = 22\n",
      "\t\tFinding peaks on chrUn_GL456382 (minCount=-0.7), total tags positions = 5\n",
      "\t\tFinding peaks on chrUn_GL456383 (minCount=-0.7), total tags positions = 11\n",
      "\t\tFinding peaks on chrUn_GL456385 (minCount=-0.7), total tags positions = 21\n",
      "\t\tFinding peaks on chrUn_GL456387 (minCount=-0.7), total tags positions = 43\n",
      "\t\tFinding peaks on chrUn_GL456389 (minCount=-0.7), total tags positions = 11\n",
      "\t\tFinding peaks on chrUn_GL456390 (minCount=-0.7), total tags positions = 6\n",
      "\t\tFinding peaks on chrUn_GL456392 (minCount=-0.7), total tags positions = 42\n",
      "\t\tFinding peaks on chrUn_GL456393 (minCount=-0.7), total tags positions = 75\n",
      "\t\tFinding peaks on chrUn_GL456394 (minCount=-0.7), total tags positions = 14\n",
      "\t\tFinding peaks on chrUn_GL456396 (minCount=-0.7), total tags positions = 13\n",
      "\t\tFinding peaks on chrUn_JH584304 (minCount=-0.7), total tags positions = 4515\n",
      "\t\tFinding peaks on chrX_GL456233_random (minCount=-0.7), total tags positions = 239\n",
      "\t\tFinding peaks on chr5 (minCount=-0.0), total tags positions = 440550\n",
      "\t\tFinding peaks on chr7 (minCount=-0.3), total tags positions = 328758\n",
      "\t\tFinding peaks on chr11 (minCount=-0.6), total tags positions = 173868\n",
      "\t\tFinding peaks on chr12 (minCount=-0.6), total tags positions = 163691\n",
      "\t\tTags Used for cluster (less clonal tags) = 2204991.0 / 3551409.0\n",
      "\tExpected tags per peak = 0.165374 (tbp = 0.001102)\n",
      "\t\tFinding peaks on chr8 (minCount=-0.3), total tags positions = 290410\n",
      "\t\tFinding peaks on chr6 (minCount=-0.0), total tags positions = 442135\n",
      "\t\tFinding peaks on chr13 (minCount=-0.6), total tags positions = 178683\n",
      "\t\tThreshold\tPeak Count\tExpected Peak Count\tFDR\tPoisson\n",
      "\t\t5\t38903.000\t23.955\t6.16e-04\t8.98e-07\n",
      "\t\t4\t48372.000\t728.338\t1.51e-02\t2.73e-05\n",
      "\t\t3\t71334.000\t17765.629\t2.49e-01\t6.66e-04\n",
      "\t\t2\t210740.000\t326833.416\t1.00e+00\t1.23e-02\n",
      "\t\t1\t1182580.000\t4064629.952\t1.00e+00\t1.52e-01\n",
      "\t\t0\t1182580.000\t26666666.666\t1.00e+00\t1.00e+00\n",
      "\t90.00% FDR Threshold set at 3.0 (poisson pvalue ~ 6.66e-04)\n",
      "\t\tFinding peaks on chr14 (minCount=-0.6), total tags positions = 154124\n",
      "\t\tFinding peaks on chr9 (minCount=-0.3), total tags positions = 293906\n",
      "\t\tFinding peaks on chr15 (minCount=-0.6), total tags positions = 146670\n",
      "\t71334 peaks passed threshold\n",
      "\t\tFinding peaks on chr7 (minCount=-0.0), total tags positions = 427613\n",
      "\t\tFinding peaks on chr16 (minCount=-0.6), total tags positions = 136713\n",
      "\t\tFinding peaks on chr10 (minCount=-0.3), total tags positions = 345585\n",
      "\t\tFinding peaks on chr17 (minCount=-0.6), total tags positions = 135189\n",
      "\t\tFinding peaks on chr18 (minCount=-0.6), total tags positions = 130726\n",
      "\t\tFinding peaks on chr8 (minCount=-0.0), total tags positions = 385037\n",
      "\t\tFinding peaks on chr19 (minCount=-0.6), total tags positions = 84819\n",
      "\t\tFinding peaks on chr11 (minCount=-0.3), total tags positions = 307992\n",
      "\t\tFinding peaks on chrX (minCount=-0.6), total tags positions = 95846\n",
      "\t\tFinding peaks on chrY (minCount=-0.6), total tags positions = 3126\n",
      "\t\tFinding peaks on chr1_GL456210_random (minCount=-0.6), total tags positions = 36\n",
      "\t\tFinding peaks on chr1_GL456211_random (minCount=-0.6), total tags positions = 55\n",
      "\t\tFinding peaks on chr1_GL456212_random (minCount=-0.6), total tags positions = 63\n",
      "\t\tFinding peaks on chr1_GL456221_random (minCount=-0.6), total tags positions = 41\n",
      "\t\tFinding peaks on chr4_GL456216_random (minCount=-0.6), total tags positions = 277\n",
      "\t\tFinding peaks on chr4_JH584292_random (minCount=-0.6), total tags positions = 7\n",
      "\t\tFinding peaks on chr4_JH584295_random (minCount=-0.6), total tags positions = 6\n",
      "\t\tFinding peaks on chr5_GL456354_random (minCount=-0.6), total tags positions = 2\n",
      "\t\tFinding peaks on chr5_JH584296_random (minCount=-0.6), total tags positions = 4\n",
      "\t\tFinding peaks on chr5_JH584297_random (minCount=-0.6), total tags positions = 1\n",
      "\t\tFinding peaks on chr5_JH584299_random (minCount=-0.6), total tags positions = 54\n",
      "\t\tFinding peaks on chrUn_GL456239 (minCount=-0.6), total tags positions = 137\n",
      "\t\tFinding peaks on chrUn_GL456359 (minCount=-0.6), total tags positions = 150\n",
      "\t\tFinding peaks on chrUn_GL456360 (minCount=-0.6), total tags positions = 23\n",
      "\t\tFinding peaks on chrUn_GL456366 (minCount=-0.6), total tags positions = 35\n",
      "\t\tFinding peaks on chrUn_GL456367 (minCount=-0.6), total tags positions = 20\n",
      "\t\tFinding peaks on chrUn_GL456368 (minCount=-0.6), total tags positions = 12\n",
      "\t\tFinding peaks on chrUn_GL456370 (minCount=-0.6), total tags positions = 7\n",
      "\t\tFinding peaks on chrUn_GL456372 (minCount=-0.6), total tags positions = 7\n",
      "\t\tFinding peaks on chrUn_GL456378 (minCount=-0.6), total tags positions = 18\n",
      "\t\tFinding peaks on chrUn_GL456379 (minCount=-0.6), total tags positions = 23\n",
      "\t\tFinding peaks on chrUn_GL456381 (minCount=-0.6), total tags positions = 16\n",
      "\t\tFinding peaks on chrUn_GL456382 (minCount=-0.6), total tags positions = 3\n",
      "\t\tFinding peaks on chrUn_GL456383 (minCount=-0.6), total tags positions = 36\n",
      "\t\tFinding peaks on chrUn_GL456385 (minCount=-0.6), total tags positions = 29\n",
      "\t\tFinding peaks on chrUn_GL456387 (minCount=-0.6), total tags positions = 60\n",
      "\t\tFinding peaks on chrUn_GL456389 (minCount=-0.6), total tags positions = 24\n",
      "\t\tFinding peaks on chrUn_GL456390 (minCount=-0.6), total tags positions = 22\n",
      "\t\tFinding peaks on chrUn_GL456392 (minCount=-0.6), total tags positions = 105\n",
      "\t\tFinding peaks on chrUn_GL456393 (minCount=-0.6), total tags positions = 89\n",
      "\t\tFinding peaks on chrUn_GL456394 (minCount=-0.6), total tags positions = 19\n",
      "\t\tFinding peaks on chrUn_GL456396 (minCount=-0.6), total tags positions = 14\n",
      "\t\tFinding peaks on chrUn_JH584304 (minCount=-0.6), total tags positions = 3824\n",
      "\t\tFinding peaks on chrX_GL456233_random (minCount=-0.6), total tags positions = 366\n",
      "\t\tFinding peaks on chr12 (minCount=-0.3), total tags positions = 260044\n",
      "\t\tFinding peaks on chr9 (minCount=-0.0), total tags positions = 383535\n",
      "\t\tFinding peaks on chr13 (minCount=-0.3), total tags positions = 297083\n",
      "\t\tFinding peaks on chr10 (minCount=-0.0), total tags positions = 430963\n",
      "\t\tTags Used for cluster (less clonal tags) = 3578940.0 / 5746574.0\n",
      "\tExpected tags per peak = 0.268420 (tbp = 0.001789)\n",
      "\t\tFinding peaks on chr14 (minCount=-0.3), total tags positions = 232400\n",
      "\t\tFinding peaks on chr15 (minCount=-0.3), total tags positions = 239543\n",
      "\t\tThreshold\tPeak Count\tExpected Peak Count\tFDR\tPoisson\n",
      "\t\t6\t55720.000\t11.012\t1.98e-04\t4.13e-07\n",
      "\t\t5\t65090.000\t247.763\t3.81e-03\t9.29e-06\n",
      "\t\t4\t80421.000\t4657.844\t5.79e-02\t1.75e-04\n",
      "\t\t3\t124735.000\t70376.840\t5.64e-01\t2.64e-03\n",
      "\t\t2\t367142.000\t804884.824\t1.00e+00\t3.02e-02\n",
      "\t\t1\t1567163.000\t6277700.945\t1.00e+00\t2.35e-01\n",
      "\t\t0\t1567163.000\t26666666.664\t1.00e+00\t1.00e+00\n",
      "\t90.00% FDR Threshold set at 3.0 (poisson pvalue ~ 2.64e-03)\n",
      "\t\tFinding peaks on chr11 (minCount=-0.0), total tags positions = 403758\n",
      "\t\tFinding peaks on chr16 (minCount=-0.3), total tags positions = 223528\n",
      "\t124735 peaks passed threshold\n",
      "\t\tFinding peaks on chr12 (minCount=-0.0), total tags positions = 336436\n",
      "\t\tFinding peaks on chr17 (minCount=-0.3), total tags positions = 231242\n",
      "\t\tFinding peaks on chr18 (minCount=-0.3), total tags positions = 205176\n",
      "\t\tFinding peaks on chr13 (minCount=-0.0), total tags positions = 376041\n",
      "\t\tFinding peaks on chr19 (minCount=-0.3), total tags positions = 145467\n",
      "\tTotal Peaks identified = 71334\n",
      "\tCentering peaks of size 150 using a fragment length of 87\n",
      "\t\tFinding peaks on chrX (minCount=-0.3), total tags positions = 140379\n",
      "\t\tFinding peaks on chrY (minCount=-0.3), total tags positions = 3519\n",
      "\t\tFinding peaks on chr1_GL456210_random (minCount=-0.3), total tags positions = 32\n",
      "\t\tFinding peaks on chr1_GL456211_random (minCount=-0.3), total tags positions = 67\n",
      "\t\tFinding peaks on chr1_GL456212_random (minCount=-0.3), total tags positions = 41\n",
      "\t\tFinding peaks on chr1_GL456221_random (minCount=-0.3), total tags positions = 34\n",
      "\t\tFinding peaks on chr4_GL456216_random (minCount=-0.3), total tags positions = 593\n",
      "\t\tFinding peaks on chr4_GL456350_random (minCount=-0.3), total tags positions = 1\n",
      "\t\tFinding peaks on chr4_JH584292_random (minCount=-0.3), total tags positions = 10\n",
      "\t\tFinding peaks on chr4_JH584295_random (minCount=-0.3), total tags positions = 22\n",
      "\t\tFinding peaks on chr5_GL456354_random (minCount=-0.3), total tags positions = 4\n",
      "\t\tFinding peaks on chr5_JH584296_random (minCount=-0.3), total tags positions = 3\n",
      "\t\tFinding peaks on chr5_JH584297_random (minCount=-0.3), total tags positions = 1\n",
      "\t\tFinding peaks on chr5_JH584299_random (minCount=-0.3), total tags positions = 36\n",
      "\t\tFinding peaks on chrUn_GL456239 (minCount=-0.3), total tags positions = 128\n",
      "\t\tFinding peaks on chrUn_GL456359 (minCount=-0.3), total tags positions = 242\n",
      "\t\tFinding peaks on chrUn_GL456360 (minCount=-0.3), total tags positions = 11\n",
      "\t\tFinding peaks on chrUn_GL456366 (minCount=-0.3), total tags positions = 19\n",
      "\t\tFinding peaks on chrUn_GL456367 (minCount=-0.3), total tags positions = 10\n",
      "\t\tFinding peaks on chrUn_GL456368 (minCount=-0.3), total tags positions = 4\n",
      "\t\tFinding peaks on chrUn_GL456370 (minCount=-0.3), total tags positions = 8\n",
      "\t\tFinding peaks on chrUn_GL456372 (minCount=-0.3), total tags positions = 16\n",
      "\t\tFinding peaks on chrUn_GL456378 (minCount=-0.3), total tags positions = 22\n",
      "\t\tFinding peaks on chrUn_GL456379 (minCount=-0.3), total tags positions = 31\n",
      "\t\tFinding peaks on chrUn_GL456381 (minCount=-0.3), total tags positions = 18\n",
      "\t\tFinding peaks on chrUn_GL456382 (minCount=-0.3), total tags positions = 7\n",
      "\t\tFinding peaks on chrUn_GL456383 (minCount=-0.3), total tags positions = 30\n",
      "\t\tFinding peaks on chrUn_GL456385 (minCount=-0.3), total tags positions = 14\n",
      "\t\tFinding peaks on chrUn_GL456387 (minCount=-0.3), total tags positions = 47\n",
      "\t\tFinding peaks on chrUn_GL456389 (minCount=-0.3), total tags positions = 24\n",
      "\t\tFinding peaks on chrUn_GL456390 (minCount=-0.3), total tags positions = 20\n",
      "\t\tFinding peaks on chrUn_GL456392 (minCount=-0.3), total tags positions = 105\n",
      "\t\tFinding peaks on chrUn_GL456393 (minCount=-0.3), total tags positions = 99\n",
      "\t\tFinding peaks on chrUn_GL456394 (minCount=-0.3), total tags positions = 11\n",
      "\t\tFinding peaks on chrUn_GL456396 (minCount=-0.3), total tags positions = 9\n",
      "\t\tFinding peaks on chrUn_JH584304 (minCount=-0.3), total tags positions = 6445\n",
      "\t\tFinding peaks on chrX_GL456233_random (minCount=-0.3), total tags positions = 563\n",
      "\t\tFinding peaks on chr14 (minCount=-0.0), total tags positions = 310129\n",
      "\t\tFinding peaks on chr15 (minCount=-0.0), total tags positions = 308908\n",
      "\t\tTags Used for cluster (less clonal tags) = 5860230.0 / 9726543.0\n",
      "\tExpected tags per peak = 0.439517 (tbp = 0.002930)\n",
      "\t\tFinding peaks on chr16 (minCount=-0.0), total tags positions = 284081\n",
      "\t\tThreshold\tPeak Count\tExpected Peak Count\tFDR\tPoisson\n",
      "\t\t7\t88343.000\t11.425\t1.29e-04\t4.28e-07\n",
      "\t\t6\t98608.000\t183.458\t1.86e-03\t6.88e-06\n",
      "\t\t5\t112270.000\t2531.940\t2.26e-02\t9.49e-05\n",
      "\t\t4\t133622.000\t29248.547\t2.19e-01\t1.10e-03\n",
      "\t\t3\t185280.000\t272393.553\t1.00e+00\t1.02e-02\n",
      "\t\t2\t421594.000\t1932021.287\t1.00e+00\t7.25e-02\n",
      "\t\t1\t1584730.000\t9484069.363\t1.00e+00\t3.56e-01\n",
      "\t\t0\t1584730.000\t26666666.657\t1.00e+00\t1.00e+00\n",
      "\t90.00% FDR Threshold set at 4.0 (poisson pvalue ~ 1.10e-03)\n",
      "\t\tFinding peaks on chr17 (minCount=-0.0), total tags positions = 297788\n",
      "\t133622 peaks passed threshold\n",
      "\t\tFinding peaks on chr18 (minCount=-0.0), total tags positions = 268009\n",
      "\t\tFinding peaks on chr19 (minCount=-0.0), total tags positions = 184777\n",
      "\t\tFinding peaks on chrX (minCount=-0.0), total tags positions = 183136\n",
      "\t\tFinding peaks on chrY (minCount=-0.0), total tags positions = 5044\n",
      "\t\tFinding peaks on chr1_GL456210_random (minCount=-0.0), total tags positions = 51\n",
      "\t\tFinding peaks on chr1_GL456211_random (minCount=-0.0), total tags positions = 119\n",
      "\t\tFinding peaks on chr1_GL456212_random (minCount=-0.0), total tags positions = 69\n",
      "\t\tFinding peaks on chr1_GL456221_random (minCount=-0.0), total tags positions = 67\n",
      "\t\tFinding peaks on chr4_GL456216_random (minCount=-0.0), total tags positions = 697\n",
      "\t\tFinding peaks on chr4_JH584292_random (minCount=-0.0), total tags positions = 19\n",
      "\t\tFinding peaks on chr4_JH584295_random (minCount=-0.0), total tags positions = 31\n",
      "\t\tFinding peaks on chr5_GL456354_random (minCount=-0.0), total tags positions = 16\n",
      "\t\tFinding peaks on chr5_JH584297_random (minCount=-0.0), total tags positions = 1\n",
      "\t\tFinding peaks on chr5_JH584299_random (minCount=-0.0), total tags positions = 75\n",
      "\t\tFinding peaks on chrUn_GL456239 (minCount=-0.0), total tags positions = 204\n",
      "\t\tFinding peaks on chrUn_GL456359 (minCount=-0.0), total tags positions = 264\n",
      "\t\tFinding peaks on chrUn_GL456360 (minCount=-0.0), total tags positions = 31\n",
      "\t\tFinding peaks on chrUn_GL456366 (minCount=-0.0), total tags positions = 42\n",
      "\t\tFinding peaks on chrUn_GL456367 (minCount=-0.0), total tags positions = 14\n",
      "\t\tFinding peaks on chrUn_GL456368 (minCount=-0.0), total tags positions = 17\n",
      "\t\tFinding peaks on chrUn_GL456370 (minCount=-0.0), total tags positions = 13\n",
      "\t\tFinding peaks on chrUn_GL456372 (minCount=-0.0), total tags positions = 16\n",
      "\t\tFinding peaks on chrUn_GL456378 (minCount=-0.0), total tags positions = 33\n",
      "\t\tFinding peaks on chrUn_GL456379 (minCount=-0.0), total tags positions = 27\n",
      "\t\tFinding peaks on chrUn_GL456381 (minCount=-0.0), total tags positions = 36\n",
      "\t\tFinding peaks on chrUn_GL456382 (minCount=-0.0), total tags positions = 10\n",
      "\t\tFinding peaks on chrUn_GL456383 (minCount=-0.0), total tags positions = 28\n",
      "\t\tFinding peaks on chrUn_GL456385 (minCount=-0.0), total tags positions = 26\n",
      "\t\tFinding peaks on chrUn_GL456387 (minCount=-0.0), total tags positions = 62\n",
      "\t\tFinding peaks on chrUn_GL456389 (minCount=-0.0), total tags positions = 34\n",
      "\t\tFinding peaks on chrUn_GL456390 (minCount=-0.0), total tags positions = 20\n",
      "\t\tFinding peaks on chrUn_GL456392 (minCount=-0.0), total tags positions = 124\n",
      "\t\tFinding peaks on chrUn_GL456393 (minCount=-0.0), total tags positions = 115\n",
      "\t\tFinding peaks on chrUn_GL456394 (minCount=-0.0), total tags positions = 27\n",
      "\t\tFinding peaks on chrUn_GL456396 (minCount=-0.0), total tags positions = 22\n",
      "\t\tFinding peaks on chrUn_JH584304 (minCount=-0.0), total tags positions = 6575\n",
      "\t\tFinding peaks on chrX_GL456233_random (minCount=-0.0), total tags positions = 624\n",
      "\t\tTags Used for cluster (less clonal tags) = 7556488.0 / 12733303.0\n",
      "\tExpected tags per peak = 0.566737 (tbp = 0.003778)\n",
      "\tTotal Peaks identified = 124735\n",
      "\tCentering peaks of size 150 using a fragment length of 67\n",
      "\t\tThreshold\tPeak Count\tExpected Peak Count\tFDR\tPoisson\n",
      "\t\t7\t89081.000\t60.634\t6.81e-04\t2.27e-06\n",
      "\t\t6\t100060.000\t756.929\t7.56e-03\t2.84e-05\n",
      "\t\t5\t117027.000\t8128.551\t6.95e-02\t3.05e-04\n",
      "\t\t4\t152252.000\t73164.262\t4.81e-01\t2.74e-03\n",
      "\t\t3\t275523.000\t532183.234\t1.00e+00\t2.00e-02\n",
      "\t\t2\t790002.000\t2961983.948\t1.00e+00\t1.11e-01\n",
      "\t\t1\t2278738.000\t11536693.290\t1.00e+00\t4.33e-01\n",
      "\t\t0\t2278738.000\t26666666.650\t1.00e+00\t1.00e+00\n",
      "\t90.00% FDR Threshold set at 4.0 (poisson pvalue ~ 2.74e-03)\n",
      "\t152252 peaks passed threshold\n",
      "\tTotal Peaks identified = 133622\n",
      "\tCentering peaks of size 150 using a fragment length of 77\n",
      "\tTotal Peaks identified = 152252\n",
      "\tCentering peaks of size 150 using a fragment length of 67\n"
     ]
    }
   ],
   "source": [
    "%%bash\n",
    "rm ./atac_peak_files/*\n",
    "chmod a+x ./*sh\n",
    "bash ./peakCalling_homer_idr.sh"
   ]
  },
  {
   "cell_type": "code",
   "execution_count": 34,
   "metadata": {
    "collapsed": false
   },
   "outputs": [
    {
     "name": "stdout",
     "output_type": "stream",
     "text": [
      "rm: cannot remove ‘./atac_idr/*’: No such file or directory\n",
      "Veh 124766\n",
      "KLA-1h 152283\n"
     ]
    }
   ],
   "source": [
    "idrDirectory = './atac_idr/'\n",
    "scriptFile = open('./run_idr.sh', 'w')\n",
    "!rm ./atac_idr/*\n",
    "\n",
    "! if [ ! -d $idrDirectory ]; then mkdir $idrDirectory; fi\n",
    "replicateIndices = []\n",
    "\n",
    "\n",
    "# homer peaks\n",
    "counter = 0\n",
    "treatments = set([x.split('_')[3] for x in os.listdir(atacTagDirPath)])\n",
    "for treatment in treatments:\n",
    "    samples = [ x for x in os.listdir(atacTagDirPath) if treatment in x]\n",
    "    \n",
    "    for i in range(len(samples) - 1):\n",
    "        for j in range(i+1, len(samples)):\n",
    "            counter += 1\n",
    "            sample1 = samples[i]\n",
    "            sample2 = samples[j]\n",
    "            peakFile1 = peakDirectory + '/' + sample1 + '_peaks.tsv'\n",
    "            peakFile2 = peakDirectory + '/' + sample2 + '_peaks.tsv'\n",
    "            \n",
    "            # determine IDR threshold based on number of peaks\n",
    "            # https://sites.google.com/site/anshulkundaje/projects/idr\n",
    "            with open(peakFile1) as f:\n",
    "                data = f.readlines()\n",
    "            len_1 = len(data)\n",
    "            with open(peakFile2) as f:\n",
    "                data = f.readlines()\n",
    "            len_2 = len(data)\n",
    "            max_length = max(len_1, len_2)\n",
    "            commandString = ' '.join(['python /home/jtao/code/seq_merge_pipe/run_idr_homerPeaks.py',\n",
    "                                     peakFile1,\n",
    "                                     peakFile2,\n",
    "                                     idrDirectory])\n",
    "            print(treatment,max_length)\n",
    "            if max_length > 150000 + 35: # 35 is the number of header rows in peak files\n",
    "                commandString += \" -threshold 0.01\"\n",
    "            else: \n",
    "                commandString += \" -threshold 0.05\"            \n",
    "            commandString += ' &'\n",
    "            scriptFile.write(commandString + '\\n')\n",
    "scriptFile.close()"
   ]
  },
  {
   "cell_type": "code",
   "execution_count": 30,
   "metadata": {
    "collapsed": false,
    "scrolled": true
   },
   "outputs": [
    {
     "name": "stdout",
     "output_type": "stream",
     "text": [
      "Performing IDR analysis on the following samples: /home/jtao/analysis/signal_level_analysis//atac_peak_files/C57Bl6_Thiomac_ATAC_Veh_SD_16-03-22-and-16-04-11-SD72_peaks.tsv, /home/jtao/analysis/signal_level_analysis//atac_peak_files/C57Bl6_Thiomac_ATAC_Veh_SD_16-03-22_peaks.tsv\n",
      "Output files will be written to: ./atac_idr/\n",
      "Using the following IDR threshold: 0.02\n",
      "Peaks will be ranked using: findPeaks Score\n",
      "Other available scoreColumns: ['Normalized Tag Count' 'focus ratio' 'findPeaks Score' 'Score']\n",
      "idr --samples ./atac_idr//C57Bl6_Thiomac_ATAC_Veh_SD_16-03-22-and-16-04-11-SD72_peaks.narrowPeak ./atac_idr//C57Bl6_Thiomac_ATAC_Veh_SD_16-03-22_peaks.narrowPeak --output-file ./atac_idr//C57Bl6_Thiomac_ATAC_Veh_SD_16-03-22-and-16-04-11-SD72_peaks_C57Bl6_Thiomac_ATAC_Veh_SD_16-03-22_peaks_idr.out --plot --idr-threshold 0.02 &\n",
      "Performing IDR analysis on the following samples: /home/jtao/analysis/signal_level_analysis//atac_peak_files/C57Bl6_Thiomac_ATAC_KLA-1h_SD_16-03-22-2_peaks.tsv, /home/jtao/analysis/signal_level_analysis//atac_peak_files/C57Bl6_Thiomac_ATAC_KLA-1h_SD_16-03-22-1_peaks.tsv\n",
      "Output files will be written to: ./atac_idr/\n",
      "Using the following IDR threshold: 0.02\n",
      "Peaks will be ranked using: findPeaks Score\n",
      "Other available scoreColumns: ['Normalized Tag Count' 'focus ratio' 'findPeaks Score' 'Score']\n",
      "idr --samples ./atac_idr//C57Bl6_Thiomac_ATAC_KLA-1h_SD_16-03-22-2_peaks.narrowPeak ./atac_idr//C57Bl6_Thiomac_ATAC_KLA-1h_SD_16-03-22-1_peaks.narrowPeak --output-file ./atac_idr//C57Bl6_Thiomac_ATAC_KLA-1h_SD_16-03-22-2_peaks_C57Bl6_Thiomac_ATAC_KLA-1h_SD_16-03-22-1_peaks_idr.out --plot --idr-threshold 0.02 &\n"
     ]
    },
    {
     "name": "stderr",
     "output_type": "stream",
     "text": [
      "Initial parameter values: [0.10 1.00 0.20 0.50]\n",
      "Initial parameter values: [0.10 1.00 0.20 0.50]\n",
      "Final parameter values: [2.06 1.41 0.92 0.61]\n",
      "/gpfs/data01/glasslab/home/jtao/software/anaconda3/lib/python3.5/site-packages/idr-2.0.2-py3.5-linux-x86_64.egg/idr/idr.py:415: FutureWarning: comparison to `None` will result in an elementwise object comparison in the future.\n",
      "  if localIDRs == None or IDRs == None:\n",
      "Number of reported peaks - 24073/54727 (44.0%)\n",
      "\n",
      "Number of peaks passing IDR cutoff of 0.02 - 24073/54727 (44.0%)\n",
      "\n",
      "/home/jtao/code/seq_merge_pipe/run_idr_homerPeaks.py:178: SettingWithCopyWarning: \n",
      "A value is trying to be set on a copy of a slice from a DataFrame.\n",
      "Try using .loc[row_indexer,col_indexer] = value instead\n",
      "\n",
      "See the caveats in the documentation: http://pandas.pydata.org/pandas-docs/stable/indexing.html#indexing-view-versus-copy\n",
      "  narrowPeakFrame['pValue'] = -1\n",
      "Final parameter values: [2.64 1.64 0.96 0.66]\n",
      "/gpfs/data01/glasslab/home/jtao/software/anaconda3/lib/python3.5/site-packages/idr-2.0.2-py3.5-linux-x86_64.egg/idr/idr.py:415: FutureWarning: comparison to `None` will result in an elementwise object comparison in the future.\n",
      "  if localIDRs == None or IDRs == None:\n",
      "Number of reported peaks - 53706/96847 (55.5%)\n",
      "\n",
      "Number of peaks passing IDR cutoff of 0.02 - 53706/96847 (55.5%)\n",
      "\n",
      "/home/jtao/code/seq_merge_pipe/run_idr_homerPeaks.py:178: SettingWithCopyWarning: \n",
      "A value is trying to be set on a copy of a slice from a DataFrame.\n",
      "Try using .loc[row_indexer,col_indexer] = value instead\n",
      "\n",
      "See the caveats in the documentation: http://pandas.pydata.org/pandas-docs/stable/indexing.html#indexing-view-versus-copy\n",
      "  narrowPeakFrame['pValue'] = -1\n"
     ]
    }
   ],
   "source": [
    "%%bash\n",
    "bash ./run_idr.sh"
   ]
  },
  {
   "cell_type": "code",
   "execution_count": 35,
   "metadata": {
    "collapsed": false
   },
   "outputs": [
    {
     "name": "stdout",
     "output_type": "stream",
     "text": [
      "C57Bl6_Thiomac_ATAC_KLA-1h\n",
      "C57Bl6_Thiomac_ATAC_Veh\n"
     ]
    },
    {
     "name": "stderr",
     "output_type": "stream",
     "text": [
      "/gpfs/data01/glasslab/home/jtao/software/anaconda3/lib/python3.5/site-packages/ipykernel/__main__.py:34: FutureWarning: sort(....) is deprecated, use sort_index(.....)\n"
     ]
    },
    {
     "data": {
      "image/png": "[encoded data removed]",
      "text/plain": [
       "<matplotlib.figure.Figure at 0x7f764f9ac2e8>"
      ]
     },
     "metadata": {},
     "output_type": "display_data"
    }
   ],
   "source": [
    "# pick the IDR results that have the most peaks\n",
    "idrDirectory = './atac_idr/'\n",
    "treatment_bestIDR_dict = {}\n",
    "treatment_peakNumber_dict = {}\n",
    "for p in os.listdir(idrDirectory):\n",
    "    if 'idr.tsv' in p:\n",
    "        with open (idrDirectory + '/' + p) as f:\n",
    "            data = f.readlines()\n",
    "        numPeaks = len(data) - 1\n",
    "        treatment = '_'.join(p.split('_')[:4])\n",
    "        print(treatment)\n",
    "        if treatment in treatment_peakNumber_dict:\n",
    "            if treatment_peakNumber_dict[treatment] < numPeaks:\n",
    "                treatment_peakNumber_dict[treatment] = numPeaks\n",
    "                treatment_bestIDR_dict[treatment] = p\n",
    "        else:\n",
    "            treatment_peakNumber_dict[treatment] = numPeaks\n",
    "            treatment_bestIDR_dict[treatment] = p\n",
    "strains = []\n",
    "factors = []\n",
    "treatments = []\n",
    "numPeaks = []\n",
    "for treatment in treatment_peakNumber_dict.keys():\n",
    "    tokens = treatment.split('_')\n",
    "    strains.append(tokens[0])\n",
    "    treatments.append(tokens[3])\n",
    "    numPeaks.append(treatment_peakNumber_dict[treatment])\n",
    "\n",
    "idrPeak_frame = pd.DataFrame({'strain':strains,\n",
    "                 'treatment':treatments,\n",
    "                 'peaks': numPeaks})\n",
    "    \n",
    "idrPeak_frame.index  = pd.MultiIndex.from_arrays([list(idrPeak_frame['strain'].values), list(idrPeak_frame['treatment'].values)])\n",
    "idrPeak_frame = idrPeak_frame.sort()\n",
    "sns.factorplot(x='treatment', y='peaks', data = idrPeak_frame, size =8, kind='bar')\n",
    "plt.xticks(rotation=90);\n",
    "# plt.ylim([0,30000])\n",
    "    "
   ]
  },
  {
   "cell_type": "code",
   "execution_count": 39,
   "metadata": {
    "collapsed": false
   },
   "outputs": [
    {
     "name": "stdout",
     "output_type": "stream",
     "text": [
      "C57Bl6\tKLA-1h\tC57Bl6_Thiomac_ATAC_KLA-1h_SD\tC57Bl6_Thiomac_ATAC_KLA-1h_SD_16-03-22-1\tC57Bl6_Thiomac_ATAC_KLA-1h_SD_16-03-22-2_peaks_C57Bl6_Thiomac_ATAC_KLA-1h_SD_16-03-22-1_peaks_idr.tsv\n",
      "C57Bl6\tVeh\tC57Bl6_Thiomac_ATAC_Veh_SD\tC57Bl6_Thiomac_ATAC_Veh_SD_16-03-22\tC57Bl6_Thiomac_ATAC_Veh_SD_16-03-22-and-16-04-11-SD72_peaks_C57Bl6_Thiomac_ATAC_Veh_SD_16-03-22_peaks_idr.tsv\n"
     ]
    }
   ],
   "source": [
    "if not os.path.isdir('./atac_idr_peaks/'):\n",
    "    os.mkdir('./atac_idr_peaks/')\n",
    "else:\n",
    "    for f in os.listdir('./atac_idr_peaks/'):\n",
    "        os.remove('./atac_idr_peaks/' + f)\n",
    "for key in sorted(treatment_bestIDR_dict.keys()):\n",
    "    p = treatment_bestIDR_dict[key]\n",
    "    tokens = p.split('_')\n",
    "    strain = tokens[0]\n",
    "    treatment = tokens[3]\n",
    "    sample1 = '_'.join(tokens[:5])\n",
    "    sample2 = '_'.join(tokens[7:13])\n",
    "    print('\\t'.join([strain, treatment, sample1, sample2, str(treatment_bestIDR_dict[key])]))\n",
    "\n",
    "    if treatment_bestIDR_dict[key]:\n",
    "        outpath = './atac_idr_peaks/' + '_'.join([strain, treatment]) + '_peaks.tsv'\n",
    "        !cp $idrDirectory/$p $outpath\n"
   ]
  },
  {
   "cell_type": "code",
   "execution_count": 40,
   "metadata": {
    "collapsed": true
   },
   "outputs": [],
   "source": [
    "target_peak_size = 100\n",
    "\n",
    "if not os.path.isdir('./resized_peak_files'):\n",
    "    os.mkdir('./resized_peak_files')\n",
    "else:\n",
    "    for rpf in os.listdir('./resized_peak_files'):\n",
    "        os.remove('./resized_peak_files/' + rpf)\n",
    "\n",
    "for pf in os.listdir('./atac_idr_peaks/'):\n",
    "    current_peak_frame = pd.read_csv('./atac_idr_peaks/' + pf, sep='\\t' )\n",
    "    peakCenters = (current_peak_frame['start'] + current_peak_frame['end']) /2\n",
    "    int_peakCenters = np.ceil(peakCenters).astype(int)\n",
    "    new_starts = int_peakCenters - int(target_peak_size/2)\n",
    "    new_ends = int_peakCenters + int(target_peak_size/2)\n",
    "    current_peak_frame['start'] = new_starts\n",
    "    current_peak_frame['end'] = new_ends\n",
    "    current_peak_frame.to_csv('./resized_peak_files/' + pf, sep='\\t', index=False)"
   ]
  },
  {
   "cell_type": "code",
   "execution_count": 41,
   "metadata": {
    "collapsed": true
   },
   "outputs": [],
   "source": [
    "%%capture\n",
    "! mergePeaks -d given -venn venn.txt ./resized_peak_files/* > ./merged_atac_peaks.tsv"
   ]
  },
  {
   "cell_type": "code",
   "execution_count": 42,
   "metadata": {
    "collapsed": false
   },
   "outputs": [
    {
     "name": "stderr",
     "output_type": "stream",
     "text": [
      "/gpfs/data01/glasslab/home/jtao/software/anaconda3/lib/python3.5/site-packages/ipykernel/__main__.py:16: SettingWithCopyWarning: \n",
      "A value is trying to be set on a copy of a slice from a DataFrame.\n",
      "Try using .loc[row_indexer,col_indexer] = value instead\n",
      "\n",
      "See the caveats in the documentation: http://pandas.pydata.org/pandas-docs/stable/indexing.html#indexing-view-versus-copy\n",
      "/gpfs/data01/glasslab/home/jtao/software/anaconda3/lib/python3.5/site-packages/ipykernel/__main__.py:17: SettingWithCopyWarning: \n",
      "A value is trying to be set on a copy of a slice from a DataFrame.\n",
      "Try using .loc[row_indexer,col_indexer] = value instead\n",
      "\n",
      "See the caveats in the documentation: http://pandas.pydata.org/pandas-docs/stable/indexing.html#indexing-view-versus-copy\n"
     ]
    }
   ],
   "source": [
    "merged_frame = pd.read_csv('./merged_atac_peaks.tsv', sep='\\t')\n",
    "\n",
    "# filter away peaks in unused chromsomes\n",
    "filtered_frame = merged_frame[\n",
    "             ~(merged_frame['chr'].str.contains('chrY')) & \n",
    "             ~(merged_frame['chr'].str.contains('chrM')) &\n",
    "             ~(merged_frame['chr'].str.contains('random')) &\n",
    "             ~(merged_frame['chr'].str.contains('Un'))]\n",
    "\n",
    "# resize peaks\n",
    "target_peak_size = 150\n",
    "peakCenters = (filtered_frame['start'] + filtered_frame['end']) /2\n",
    "int_peakCenters = np.ceil(peakCenters).astype(int)\n",
    "new_starts = int_peakCenters - int(target_peak_size/2)\n",
    "new_ends = int_peakCenters + int(target_peak_size/2)\n",
    "filtered_frame['start'] = new_starts\n",
    "filtered_frame['end'] = new_ends\n",
    "filtered_frame.to_csv('./merged_atac_peaks_filtered_resized.tsv', sep='\\t', index=False)"
   ]
  },
  {
   "cell_type": "code",
   "execution_count": 44,
   "metadata": {
    "collapsed": false
   },
   "outputs": [
    {
     "name": "stdout",
     "output_type": "stream",
     "text": [
      "Finished reading merged peak file...\n",
      "Integrating scores for C57Bl6_KLA-1h\n",
      "Integrating scores for C57Bl6_Veh\n"
     ]
    }
   ],
   "source": [
    "! makeSummaryFile.py ./merged_atac_peaks_filtered_resized.tsv ./group_atac_summary.tsv ./resized_peak_files/*"
   ]
  },
  {
   "cell_type": "markdown",
   "metadata": {},
   "source": [
    "## Annotate Peaks"
   ]
  },
  {
   "cell_type": "markdown",
   "metadata": {},
   "source": [
    "### ATAC"
   ]
  },
  {
   "cell_type": "code",
   "execution_count": 43,
   "metadata": {
    "collapsed": false,
    "scrolled": true
   },
   "outputs": [
    {
     "name": "stdout",
     "output_type": "stream",
     "text": [
      "\n",
      "\tPeak file = ./merged_atac_peaks_filtered_resized.tsv\n",
      "\tGenome = mm10\n",
      "\tOrganism = mouse\n",
      "\tTag Directories:\n",
      "\t\t./tag_directories_atac/C57Bl6_Thiomac_ATAC_KLA-1h_SD_16-03-22-1/\n",
      "\t\t./tag_directories_atac/C57Bl6_Thiomac_ATAC_KLA-1h_SD_16-03-22-2/\n",
      "\t\t./tag_directories_atac/C57Bl6_Thiomac_ATAC_Veh_SD_16-03-22/\n",
      "\t\t./tag_directories_atac/C57Bl6_Thiomac_ATAC_Veh_SD_16-03-22-and-16-04-11-SD72/\n",
      "\tPeak/BED file conversion summary:\n",
      "\t\tBED/Header formatted lines: 0\n",
      "\t\tpeakfile formatted lines: 56469\n",
      "\t\tDuplicated Peak IDs: 0\n",
      "\n",
      "\tPeak File Statistics:\n",
      "\t\tTotal Peaks: 56469\n",
      "\t\tRedundant Peak IDs: 0\n",
      "\t\tPeaks lacking information: 0 (need at least 5 columns per peak)\n",
      "\t\tPeaks with misformatted coordinates: 0 (should be integer)\n",
      "\t\tPeaks with misformatted strand: 0 (should be either +/- or 0/1)\n",
      "\n",
      "\tPeak file looks good!\n",
      "\n",
      "\tReading Positions...\n",
      "\t-----------------------\n",
      "\tFinding Closest TSS...\n",
      "\tAnnotating:....................\n",
      "\t\tAnnotation\tNumber of peaks\tTotal size (bp)\tLog2 Enrichment\n",
      "\t\t3UTR\t448.0\t19668322\t0.085\n",
      "\t\tmiRNA\t2.0\t20053\t2.216\n",
      "\t\tncRNA\t134.0\t2893366\t1.109\n",
      "\t\tTTS\t675.0\t26128255\t0.267\n",
      "\t\tpseudo\t7.0\t509738\t-0.645\n",
      "\t\tExon\t737.0\t33217203\t0.048\n",
      "\t\tIntron\t23038.0\t926318212\t0.212\n",
      "\t\tIntergenic\t19564.0\t1591257167\t-0.804\n",
      "\t\tPromoter\t11433.0\t28309367\t4.234\n",
      "\t\t5UTR\t422.0\t2077761\t3.242\n",
      "\t\tsnoRNA\t0.0\t19\t-15.785\n",
      "\t\trRNA\t9.0\t5631\t6.218\n",
      "\tNOTE: If this part takes more than 2 minutes, there is a good chance\n",
      "\t\tyour machine ran out of memory: consider hitting ctrl+C and rerunning\n",
      "\t\tthe command with \"-noann\"\n",
      "\tTo capture annotation stats in a file, use \"-annStats <filename>\" next time\n",
      "\tAnnotating:....................\n",
      "\t\tAnnotation\tNumber of peaks\tTotal size (bp)\tLog2 Enrichment\n",
      "\t\t3UTR\t448.0\t19668322\t0.086\n",
      "\t\tOther\t100.0\t7166306\t-0.621\n",
      "\t\tRC?\t0.0\t10979\t-15.785\n",
      "\t\tRNA\t1.0\t114021\t-1.291\n",
      "\t\tmiRNA\t2.0\t20053\t2.217\n",
      "\t\tncRNA\t134.0\t2893366\t1.110\n",
      "\t\tTTS\t675.0\t26128255\t0.268\n",
      "\t\tLINE\t2168.0\t521357097\t-2.367\n",
      "\t\tLINE?\t0.0\t8168\t-15.785\n",
      "\t\tsrpRNA\t1.0\t43388\t0.103\n",
      "\t\tSINE\t1679.0\t194261631\t-1.312\n",
      "\t\tRC\t0.0\t65909\t-15.785\n",
      "\t\ttRNA\t29.0\t266920\t2.340\n",
      "\t\tDNA?\t0.0\t142594\t-15.785\n",
      "\t\tpseudo\t7.0\t509738\t-0.644\n",
      "\t\tDNA\t457.0\t28414247\t-0.416\n",
      "\t\tExon\t737.0\t33217203\t0.048\n",
      "\t\tIntron\t18060.0\t589127896\t0.515\n",
      "\t\tIntergenic\t14700.0\t801077083\t-0.226\n",
      "\t\tPromoter\t11432.0\t28309367\t4.234\n",
      "\t\t5UTR\t422.0\t2077761\t3.243\n",
      "\t\tsnoRNA\t0.0\t19\t-15.785\n",
      "\t\tLTR?\t7.0\t193659\t0.752\n",
      "\t\tscRNA\t3.0\t579110\t-2.050\n",
      "\t\tCpG-Island\t1595.0\t3345642\t4.474\n",
      "\t\tLow_complexity\t103.0\t18533957\t-1.949\n",
      "\t\tLTR\t3560.0\t293374785\t-0.822\n",
      "\t\tSimple_repeat\t78.0\t55384339\t-3.929\n",
      "\t\tsnRNA\t5.0\t237355\t-0.027\n",
      "\t\tUnknown\t13.0\t1251155\t-1.046\n",
      "\t\tSINE?\t0.0\t29758\t-15.785\n",
      "\t\tSatellite\t31.0\t3706654\t-1.359\n",
      "\t\trRNA\t22.0\t165655\t2.630\n",
      "\tCounting Tags in Peaks from each directory...\n",
      "\tRatio for ./tag_directories_atac/C57Bl6_Thiomac_ATAC_KLA-1h_SD_16-03-22-1/ : 1.02811451098299\n",
      "\tRatio for ./tag_directories_atac/C57Bl6_Thiomac_ATAC_KLA-1h_SD_16-03-22-2/ : 0.785342184977456\n",
      "\tRatio for ./tag_directories_atac/C57Bl6_Thiomac_ATAC_Veh_SD_16-03-22/ : 1.74016727183884\n",
      "\tRatio for ./tag_directories_atac/C57Bl6_Thiomac_ATAC_Veh_SD_16-03-22-and-16-04-11-SD72/ : 2.8157838198867\n",
      "\tOrganism: mouse\n",
      "\tLoading Gene Informaiton...\n",
      "\tOutputing Annotation File...\n",
      "\tDone annotating peaks file\n",
      "\n"
     ]
    }
   ],
   "source": [
    "! annotatePeaks.pl ./merged_atac_peaks_filtered_resized.tsv mm10 -d ./tag_directories_atac/*/ > ./annotated_atac_peaks.tsv"
   ]
  },
  {
   "cell_type": "markdown",
   "metadata": {},
   "source": [
    "### GRO"
   ]
  },
  {
   "cell_type": "code",
   "execution_count": 58,
   "metadata": {
    "collapsed": false,
    "scrolled": true
   },
   "outputs": [
    {
     "name": "stdout",
     "output_type": "stream",
     "text": [
      "\n",
      "\tPeak file = ./merged_atac_peaks_filtered_resized.tsv\n",
      "\tGenome = mm10\n",
      "\tOrganism = mouse\n",
      "\tPeak Region set to 500\n",
      "\tFragment Length set to 0\n",
      "\tTag Directories:\n",
      "\t\t./tag_directories_gro/C57Bl6_Thiomac_GRO_KLA-1h_SD_16-08-16-SD273/\n",
      "\t\t./tag_directories_gro/C57Bl6_Thiomac_GRO_KLA-1h_SD_16-08-16-SD274/\n",
      "\t\t./tag_directories_gro/C57Bl6_Thiomac_GRO_Veh_SD_16-08-16-SD271/\n",
      "\t\t./tag_directories_gro/C57Bl6_Thiomac_GRO_Veh_SD_16-08-16-SD272/\n",
      "\tPeak/BED file conversion summary:\n",
      "\t\tBED/Header formatted lines: 0\n",
      "\t\tpeakfile formatted lines: 56469\n",
      "\t\tDuplicated Peak IDs: 0\n",
      "\n",
      "\tPeak File Statistics:\n",
      "\t\tTotal Peaks: 56469\n",
      "\t\tRedundant Peak IDs: 0\n",
      "\t\tPeaks lacking information: 0 (need at least 5 columns per peak)\n",
      "\t\tPeaks with misformatted coordinates: 0 (should be integer)\n",
      "\t\tPeaks with misformatted strand: 0 (should be either +/- or 0/1)\n",
      "\n",
      "\tPeak file looks good!\n",
      "\n",
      "\tResizing peaks...\n",
      "\tReading Positions...\n",
      "\t-----------------------\n",
      "\tFinding Closest TSS...\n",
      "\tAnnotating:....................\n",
      "\t\tAnnotation\tNumber of peaks\tTotal size (bp)\tLog2 Enrichment\n",
      "\t\t3UTR\t448.0\t19668322\t0.085\n",
      "\t\tmiRNA\t2.0\t20053\t2.216\n",
      "\t\tncRNA\t134.0\t2893366\t1.109\n",
      "\t\tTTS\t675.0\t26128255\t0.267\n",
      "\t\tpseudo\t7.0\t509738\t-0.645\n",
      "\t\tExon\t737.0\t33217203\t0.048\n",
      "\t\tIntron\t23038.0\t926318212\t0.212\n",
      "\t\tIntergenic\t19564.0\t1591257167\t-0.804\n",
      "\t\tPromoter\t11433.0\t28309367\t4.234\n",
      "\t\t5UTR\t422.0\t2077761\t3.242\n",
      "\t\tsnoRNA\t0.0\t19\t-15.785\n",
      "\t\trRNA\t9.0\t5631\t6.218\n",
      "\tNOTE: If this part takes more than 2 minutes, there is a good chance\n",
      "\t\tyour machine ran out of memory: consider hitting ctrl+C and rerunning\n",
      "\t\tthe command with \"-noann\"\n",
      "\tTo capture annotation stats in a file, use \"-annStats <filename>\" next time\n",
      "\tAnnotating:....................\n",
      "\t\tAnnotation\tNumber of peaks\tTotal size (bp)\tLog2 Enrichment\n",
      "\t\t3UTR\t448.0\t19668322\t0.086\n",
      "\t\tOther\t100.0\t7166306\t-0.621\n",
      "\t\tRC?\t0.0\t10979\t-15.785\n",
      "\t\tRNA\t1.0\t114021\t-1.291\n",
      "\t\tmiRNA\t2.0\t20053\t2.217\n",
      "\t\tncRNA\t134.0\t2893366\t1.110\n",
      "\t\tTTS\t675.0\t26128255\t0.268\n",
      "\t\tLINE\t2168.0\t521357097\t-2.367\n",
      "\t\tLINE?\t0.0\t8168\t-15.785\n",
      "\t\tsrpRNA\t1.0\t43388\t0.103\n",
      "\t\tSINE\t1679.0\t194261631\t-1.312\n",
      "\t\tRC\t0.0\t65909\t-15.785\n",
      "\t\ttRNA\t29.0\t266920\t2.340\n",
      "\t\tDNA?\t0.0\t142594\t-15.785\n",
      "\t\tpseudo\t7.0\t509738\t-0.644\n",
      "\t\tDNA\t457.0\t28414247\t-0.416\n",
      "\t\tExon\t737.0\t33217203\t0.048\n",
      "\t\tIntron\t18060.0\t589127896\t0.515\n",
      "\t\tIntergenic\t14700.0\t801077083\t-0.226\n",
      "\t\tPromoter\t11432.0\t28309367\t4.234\n",
      "\t\t5UTR\t422.0\t2077761\t3.243\n",
      "\t\tsnoRNA\t0.0\t19\t-15.785\n",
      "\t\tLTR?\t7.0\t193659\t0.752\n",
      "\t\tscRNA\t3.0\t579110\t-2.050\n",
      "\t\tCpG-Island\t1595.0\t3345642\t4.474\n",
      "\t\tLow_complexity\t103.0\t18533957\t-1.949\n",
      "\t\tLTR\t3560.0\t293374785\t-0.822\n",
      "\t\tSimple_repeat\t78.0\t55384339\t-3.929\n",
      "\t\tsnRNA\t5.0\t237355\t-0.027\n",
      "\t\tUnknown\t13.0\t1251155\t-1.046\n",
      "\t\tSINE?\t0.0\t29758\t-15.785\n",
      "\t\tSatellite\t31.0\t3706654\t-1.359\n",
      "\t\trRNA\t22.0\t165655\t2.630\n",
      "\tCounting Tags in Peaks from each directory...\n",
      "\tRatio for ./tag_directories_gro/C57Bl6_Thiomac_GRO_KLA-1h_SD_16-08-16-SD273/ : 3.44152690912683\n",
      "\tRatio for ./tag_directories_gro/C57Bl6_Thiomac_GRO_KLA-1h_SD_16-08-16-SD274/ : 4.26128494786318\n",
      "\tRatio for ./tag_directories_gro/C57Bl6_Thiomac_GRO_Veh_SD_16-08-16-SD271/ : 2.28976311026766\n",
      "\tRatio for ./tag_directories_gro/C57Bl6_Thiomac_GRO_Veh_SD_16-08-16-SD272/ : 2.47168255093458\n",
      "\tOrganism: mouse\n",
      "\tLoading Gene Informaiton...\n",
      "\tOutputing Annotation File...\n",
      "\tDone annotating peaks file\n",
      "\n"
     ]
    }
   ],
   "source": [
    "! annotatePeaks.pl ./merged_atac_peaks_filtered_resized.tsv mm10 -size 500 -fragLength 0 -d ./tag_directories_gro/*/ > ./annotated_gro_peaks.tsv"
   ]
  },
  {
   "cell_type": "markdown",
   "metadata": {},
   "source": [
    "### Differential ATAC Peaks"
   ]
  },
  {
   "cell_type": "code",
   "execution_count": 46,
   "metadata": {
    "collapsed": false,
    "scrolled": true
   },
   "outputs": [
    {
     "name": "stdout",
     "output_type": "stream",
     "text": [
      "\n",
      "\tPeak file = ./merged_atac_peaks_filtered_resized.tsv\n",
      "\tGenome = mm10\n",
      "\tOrganism = mouse\n",
      "\tWill NOT normalize tag counts\n",
      "\tTag Directories:\n",
      "\t\t./tag_directories_atac/C57Bl6_Thiomac_ATAC_Veh_SD_16-03-22\n",
      "\t\t./tag_directories_atac/C57Bl6_Thiomac_ATAC_Veh_SD_16-03-22-and-16-04-11-SD72\n",
      "\t\t./tag_directories_atac/C57Bl6_Thiomac_ATAC_KLA-1h_SD_16-03-22-1\n",
      "\t\t./tag_directories_atac/C57Bl6_Thiomac_ATAC_KLA-1h_SD_16-03-22-2\n",
      "\tPeak/BED file conversion summary:\n",
      "\t\tBED/Header formatted lines: 0\n",
      "\t\tpeakfile formatted lines: 56469\n",
      "\t\tDuplicated Peak IDs: 0\n",
      "\n",
      "\tPeak File Statistics:\n",
      "\t\tTotal Peaks: 56469\n",
      "\t\tRedundant Peak IDs: 0\n",
      "\t\tPeaks lacking information: 0 (need at least 5 columns per peak)\n",
      "\t\tPeaks with misformatted coordinates: 0 (should be integer)\n",
      "\t\tPeaks with misformatted strand: 0 (should be either +/- or 0/1)\n",
      "\n",
      "\tPeak file looks good!\n",
      "\n",
      "\tReading Positions...\n",
      "\t-----------------------\n",
      "\tFinding Closest TSS...\n",
      "\tAnnotating:....................\n",
      "\t\tAnnotation\tNumber of peaks\tTotal size (bp)\tLog2 Enrichment\n",
      "\t\t3UTR\t448.0\t19668322\t0.085\n",
      "\t\tmiRNA\t2.0\t20053\t2.216\n",
      "\t\tncRNA\t134.0\t2893366\t1.109\n",
      "\t\tTTS\t675.0\t26128255\t0.267\n",
      "\t\tpseudo\t7.0\t509738\t-0.645\n",
      "\t\tExon\t737.0\t33217203\t0.048\n",
      "\t\tIntron\t23038.0\t926318212\t0.212\n",
      "\t\tIntergenic\t19564.0\t1591257167\t-0.804\n",
      "\t\tPromoter\t11433.0\t28309367\t4.234\n",
      "\t\t5UTR\t422.0\t2077761\t3.242\n",
      "\t\tsnoRNA\t0.0\t19\t-15.785\n",
      "\t\trRNA\t9.0\t5631\t6.218\n",
      "\tNOTE: If this part takes more than 2 minutes, there is a good chance\n",
      "\t\tyour machine ran out of memory: consider hitting ctrl+C and rerunning\n",
      "\t\tthe command with \"-noann\"\n",
      "\tTo capture annotation stats in a file, use \"-annStats <filename>\" next time\n",
      "\tAnnotating:....................\n",
      "\t\tAnnotation\tNumber of peaks\tTotal size (bp)\tLog2 Enrichment\n",
      "\t\t3UTR\t448.0\t19668322\t0.086\n",
      "\t\tOther\t100.0\t7166306\t-0.621\n",
      "\t\tRC?\t0.0\t10979\t-15.785\n",
      "\t\tRNA\t1.0\t114021\t-1.291\n",
      "\t\tmiRNA\t2.0\t20053\t2.217\n",
      "\t\tncRNA\t134.0\t2893366\t1.110\n",
      "\t\tTTS\t675.0\t26128255\t0.268\n",
      "\t\tLINE\t2168.0\t521357097\t-2.367\n",
      "\t\tLINE?\t0.0\t8168\t-15.785\n",
      "\t\tsrpRNA\t1.0\t43388\t0.103\n",
      "\t\tSINE\t1679.0\t194261631\t-1.312\n",
      "\t\tRC\t0.0\t65909\t-15.785\n",
      "\t\ttRNA\t29.0\t266920\t2.340\n",
      "\t\tDNA?\t0.0\t142594\t-15.785\n",
      "\t\tpseudo\t7.0\t509738\t-0.644\n",
      "\t\tDNA\t457.0\t28414247\t-0.416\n",
      "\t\tExon\t737.0\t33217203\t0.048\n",
      "\t\tIntron\t18060.0\t589127896\t0.515\n",
      "\t\tIntergenic\t14700.0\t801077083\t-0.226\n",
      "\t\tPromoter\t11432.0\t28309367\t4.234\n",
      "\t\t5UTR\t422.0\t2077761\t3.243\n",
      "\t\tsnoRNA\t0.0\t19\t-15.785\n",
      "\t\tLTR?\t7.0\t193659\t0.752\n",
      "\t\tscRNA\t3.0\t579110\t-2.050\n",
      "\t\tCpG-Island\t1595.0\t3345642\t4.474\n",
      "\t\tLow_complexity\t103.0\t18533957\t-1.949\n",
      "\t\tLTR\t3560.0\t293374785\t-0.822\n",
      "\t\tSimple_repeat\t78.0\t55384339\t-3.929\n",
      "\t\tsnRNA\t5.0\t237355\t-0.027\n",
      "\t\tUnknown\t13.0\t1251155\t-1.046\n",
      "\t\tSINE?\t0.0\t29758\t-15.785\n",
      "\t\tSatellite\t31.0\t3706654\t-1.359\n",
      "\t\trRNA\t22.0\t165655\t2.630\n",
      "\tCounting Tags in Peaks from each directory...\n",
      "\tOrganism: mouse\n",
      "\tLoading Gene Informaiton...\n",
      "\tOutputing Annotation File...\n",
      "\tDone annotating peaks file\n",
      "\n"
     ]
    }
   ],
   "source": [
    "tag_dirs = sorted(os.listdir('./tag_directories_atac/'))\n",
    "treated_dirs = ' '.join(['./tag_directories_atac/' + x for x in tag_dirs if not '_Veh_' in x])\n",
    "veh_dirs = ' '.join(['./tag_directories_atac/' +x for x in tag_dirs if  '_Veh_' in x])\n",
    "! annotatePeaks.pl ./merged_atac_peaks_filtered_resized.tsv mm10 -raw -d $veh_dirs $treated_dirs > ./annotated_atac_peaks_raw.tsv"
   ]
  },
  {
   "cell_type": "code",
   "execution_count": 47,
   "metadata": {
    "collapsed": false
   },
   "outputs": [
    {
     "name": "stdout",
     "output_type": "stream",
     "text": [
      "\n",
      "\tDifferential Expression Program: edgeR\n",
      "\tAutodetecting input file format...\n",
      "\tUsing edgeR to calculate differential expression/enrichment...\n",
      "\tAutodetected annotatePeaks.pl file\n",
      "\tOutput Stats Veh vs. KLA-1h:\n",
      "\t\tTotal Genes: 56469\n",
      "\t\tTotal Up-regulated in KLA-1h vs. Veh: 12317 (21.812%) [log2fold>1, FDR<0.05]\n",
      "\t\tTotal Dn-regulated in KLA-1h vs. Veh: 7399 (13.103%) [log2fold<-1, FDR<0.05]\n",
      "\n"
     ]
    }
   ],
   "source": [
    "with open('./annotated_atac_peaks_raw.tsv') as f:\n",
    "    data = f.readline()\n",
    "conditions = [x.split('/')[2].split('_')[3] for x in data.split('\\t')[19:]]\n",
    "condition_string = ' '.join(conditions)\n",
    "!getDiffExpression.pl ./annotated_atac_peaks_raw.tsv $condition_string -AvsA > edgeR_atac_out.tsv"
   ]
  },
  {
   "cell_type": "markdown",
   "metadata": {},
   "source": [
    "## Differentially Expressed Genes"
   ]
  },
  {
   "cell_type": "code",
   "execution_count": 72,
   "metadata": {
    "collapsed": true
   },
   "outputs": [],
   "source": [
    "tag_dirs = sorted(os.listdir('./tag_directories_rna/'))\n",
    "treated_dirs = ' '.join(['./tag_directories_rna/' + x for x in tag_dirs if not '_Veh' in x])\n",
    "veh_dirs = ' '.join(['./tag_directories_rna/' +x for x in tag_dirs if  '_Veh' in x])"
   ]
  },
  {
   "cell_type": "code",
   "execution_count": 73,
   "metadata": {
    "collapsed": false
   },
   "outputs": [
    {
     "name": "stdout",
     "output_type": "stream",
     "text": [
      "\tTag Directories:\n",
      "\t\t./tag_directories_rna/C57Bl6_Thiomac_RNA_Veh_UT_CR_12-03-09\n",
      "\t\t./tag_directories_rna/C57Bl6_Thiomac_RNA_Veh_UT_TKS_14-12-15\n",
      "\t\t./tag_directories_rna/C57Bl6_Thiomac_RNA_Veh_UT_TKS_15-04-06\n",
      "\t\t./tag_directories_rna/C57Bl6_Thiomac_RNA_KLA-1h_UT_CR_12-03-09\n",
      "\t\t./tag_directories_rna/C57Bl6_Thiomac_RNA_KLA-1h_UT_VML_15-02-17\n",
      "\tInput file format: homerRmsk\n",
      "\tFiltering based on repeat parameters: kept 35756 of 35756\n",
      "\tCalculating read coverage for ./tag_directories_rna/C57Bl6_Thiomac_RNA_Veh_UT_CR_12-03-09\n",
      "\tCalculating read coverage for ./tag_directories_rna/C57Bl6_Thiomac_RNA_Veh_UT_TKS_14-12-15\n",
      "\tCalculating read coverage for ./tag_directories_rna/C57Bl6_Thiomac_RNA_Veh_UT_TKS_15-04-06\n",
      "\tCalculating read coverage for ./tag_directories_rna/C57Bl6_Thiomac_RNA_KLA-1h_UT_CR_12-03-09\n",
      "\tCalculating read coverage for ./tag_directories_rna/C57Bl6_Thiomac_RNA_KLA-1h_UT_VML_15-02-17\n",
      "\tPrinting output\n",
      "\t\tPrinted 24453 of 34711 repeats (expression >= -1e+20)\n"
     ]
    }
   ],
   "source": [
    "!analyzeRepeats.pl rna mm10 -condenseGenes -count exons -noadj -d $veh_dirs $treated_dirs > raw.tsv"
   ]
  },
  {
   "cell_type": "code",
   "execution_count": 74,
   "metadata": {
    "collapsed": false
   },
   "outputs": [
    {
     "name": "stdout",
     "output_type": "stream",
     "text": [
      "\tTag Directories:\n",
      "\t\t./tag_directories_rna/C57Bl6_Thiomac_RNA_Veh_UT_CR_12-03-09\n",
      "\t\t./tag_directories_rna/C57Bl6_Thiomac_RNA_Veh_UT_TKS_14-12-15\n",
      "\t\t./tag_directories_rna/C57Bl6_Thiomac_RNA_Veh_UT_TKS_15-04-06\n",
      "\t\t./tag_directories_rna/C57Bl6_Thiomac_RNA_KLA-1h_UT_CR_12-03-09\n",
      "\t\t./tag_directories_rna/C57Bl6_Thiomac_RNA_KLA-1h_UT_VML_15-02-17\n",
      "\tInput file format: homerRmsk\n",
      "\tFiltering based on repeat parameters: kept 35756 of 35756\n",
      "\tCalculating read coverage for ./tag_directories_rna/C57Bl6_Thiomac_RNA_Veh_UT_CR_12-03-09\n",
      "\tCalculating read coverage for ./tag_directories_rna/C57Bl6_Thiomac_RNA_Veh_UT_TKS_14-12-15\n",
      "\tCalculating read coverage for ./tag_directories_rna/C57Bl6_Thiomac_RNA_Veh_UT_TKS_15-04-06\n",
      "\tCalculating read coverage for ./tag_directories_rna/C57Bl6_Thiomac_RNA_KLA-1h_UT_CR_12-03-09\n",
      "\tCalculating read coverage for ./tag_directories_rna/C57Bl6_Thiomac_RNA_KLA-1h_UT_VML_15-02-17\n",
      "\t\tNormalizing...\n",
      "\t\tNormalizing...\n",
      "\t\tNormalizing...\n",
      "\t\tNormalizing...\n",
      "\t\tNormalizing...\n",
      "\tPrinting output\n",
      "\t\tPrinted 24453 of 34711 repeats (expression >= -1e+20)\n"
     ]
    }
   ],
   "source": [
    "!analyzeRepeats.pl rna mm10 -condenseGenes -count exons -rpkm -d $veh_dirs $treated_dirs > rpkm.tsv"
   ]
  },
  {
   "cell_type": "code",
   "execution_count": 75,
   "metadata": {
    "collapsed": false
   },
   "outputs": [
    {
     "name": "stdout",
     "output_type": "stream",
     "text": [
      "\n",
      "\tDifferential Expression Program: edgeR\n",
      "\tAutodetecting input file format...\n",
      "\tUsing edgeR to calculate differential expression/enrichment...\n",
      "\tAutodetected analyzeRepeats.pl file\n",
      "\tOutput Stats Veh vs. KLA-1h:\n",
      "\t\tTotal Genes: 24453\n",
      "\t\tTotal Up-regulated in KLA-1h vs. Veh: 163 (0.667%) [log2fold>1, FDR<0.05]\n",
      "\t\tTotal Dn-regulated in KLA-1h vs. Veh: 4 (0.016%) [log2fold<-1, FDR<0.05]\n",
      "\n"
     ]
    }
   ],
   "source": [
    "with open('./raw.tsv') as f:\n",
    "    data = f.readline()\n",
    "conditions = [x.split('/')[2].split('_')[3] for x in data.split('\\t')[8:]]\n",
    "condition_string = ' '.join(conditions)\n",
    "!getDiffExpression.pl ./raw.tsv $condition_string > edgeR_out.tsv"
   ]
  },
  {
   "cell_type": "markdown",
   "metadata": {},
   "source": [
    "## Calculate Motif Scores"
   ]
  },
  {
   "cell_type": "code",
   "execution_count": 48,
   "metadata": {
    "collapsed": true
   },
   "outputs": [],
   "source": [
    "%%bash\n",
    "if [ ! -d ./peak_sequences ] ;\n",
    "    then mkdir ./peak_sequences\n",
    "else\n",
    "    rm ./peak_sequences/*\n",
    "fi"
   ]
  },
  {
   "cell_type": "code",
   "execution_count": 49,
   "metadata": {
    "collapsed": false
   },
   "outputs": [
    {
     "name": "stderr",
     "output_type": "stream",
     "text": [
      "\n",
      "\tConverted 56469 peaks total\n",
      "\n"
     ]
    }
   ],
   "source": [
    "%%bash\n",
    "# extract sequences for analysis\n",
    "pos2bed.pl ./merged_atac_peaks_filtered_resized.tsv > ./tmp\n",
    "tail -n +2 ./tmp > ./merged_atac_peaks_filtered_resized.bed\n",
    "rm tmp"
   ]
  },
  {
   "cell_type": "code",
   "execution_count": 50,
   "metadata": {
    "collapsed": false
   },
   "outputs": [
    {
     "name": "stdout",
     "output_type": "stream",
     "text": [
      "reading genome mm10\r\n"
     ]
    }
   ],
   "source": [
    "!/gpfs/data01/glasslab/home/jtao/code/tba/extract_sequences.py ./merged_atac_peaks_filtered_resized.bed mm10 ./merged_atac_peaks_filtered_resized.fasta"
   ]
  },
  {
   "cell_type": "markdown",
   "metadata": {},
   "source": [
    "### All Motif Scores"
   ]
  },
  {
   "cell_type": "code",
   "execution_count": null,
   "metadata": {
    "collapsed": false,
    "scrolled": true
   },
   "outputs": [
    {
     "name": "stdout",
     "output_type": "stream",
     "text": [
      "rm: cannot remove ‘./motif_scores’: No such file or directory\n",
      "AP-2_1_merged calculation time: 459.1206257343292\n",
      "CTCF calculation time: 448.63721895217896\n",
      "CP2-related_1_merged calculation time: 462.4680016040802\n",
      "Bcl6 calculation time: 479.20519495010376\n",
      "BCL6B calculation time: 482.94911313056946\n",
      "E2F-related_2_merged calculation time: 457.9318928718567\n",
      "DMRT3 calculation time: 467.9760615825653\n",
      "E2F-related_3_merged calculation time: 461.35321855545044\n",
      "Bach1::Mafk calculation time: 487.77032947540283\n",
      "ATF4 calculation time: 502.0193283557892\n",
      "Arid5a calculation time: 498.5609531402588\n",
      "CREB-related_1_merged calculation time: 481.8361566066742\n",
      "BARHL2 calculation time: 498.25181818008423\n",
      "AP-2_2_merged calculation time: 507.17067074775696\n",
      "Arid3a calculation time: 502.9049024581909\n",
      "Brachyury-related_1_merged calculation time: 493.04406452178955\n",
      "EBF1 calculation time: 466.5537440776825\n",
      "Ddit3::Cebpa calculation time: 478.894544839859\n",
      "Dux calculation time: 477.6055054664612\n",
      "CENPB calculation time: 489.0083553791046\n",
      "CEBPA calculation time: 492.0801112651825\n",
      "Arid3b calculation time: 507.31227707862854\n",
      "CEBP-related_2_merged calculation time: 495.83004784584045\n",
      "E2F1 calculation time: 477.0877947807312\n",
      "Ahr::Arnt calculation time: 514.6372156143188\n",
      "CEBP-related_1_merged calculation time: 504.2814426422119\n",
      "E2F-related_1_merged calculation time: 488.01136207580566\n",
      "CREB1 calculation time: 497.0222861766815\n"
     ]
    }
   ],
   "source": [
    "# calculate motif scores\n",
    "!rm -r ./motif_scores\n",
    "!/gpfs/data01/glasslab/home/jtao/code/tba/calculate_all_motif_scores.py -num_procs 28 ./merged_atac_peaks_filtered_resized.fasta ./motif_scores /gpfs/data01/glasslab/home/jtao/analysis/jaspar_analysis/curated_motifs/*motif "
   ]
  },
  {
   "cell_type": "markdown",
   "metadata": {},
   "source": [
    "### Top Motif Scores"
   ]
  },
  {
   "cell_type": "code",
   "execution_count": null,
   "metadata": {
    "collapsed": false
   },
   "outputs": [
    {
     "name": "stdout",
     "output_type": "stream",
     "text": [
      "rm: cannot remove ‘./motif_scores’: No such file or directory\n",
      "DMRT3 calculation time: 360.2284815311432\n",
      "CP2-related_1_merged calculation time: 369.02230072021484\n",
      "Brachyury-related_1_merged calculation time: 376.26801347732544\n",
      "ATF4 calculation time: 391.7348816394806\n",
      "EBF1 calculation time: 359.29960203170776\n",
      "CTCF calculation time: 371.6599955558777\n",
      "E2F-related_2_merged calculation time: 367.2333173751831\n",
      "Bcl6 calculation time: 390.3344051837921\n",
      "BCL6B calculation time: 393.72959566116333\n",
      "Ahr::Arnt calculation time: 402.1710674762726\n",
      "E2F-related_3_merged calculation time: 374.29560589790344\n",
      "AP-2_1_merged calculation time: 409.707248210907\n",
      "Ddit3::Cebpa calculation time: 384.4718368053436\n",
      "Bach1::Mafk calculation time: 401.0715899467468\n",
      "CEBPA calculation time: 396.7222349643707\n",
      "CREB1 calculation time: 392.1004765033722\n",
      "Arid5a calculation time: 407.82206678390503\n",
      "E2F-related_1_merged calculation time: 386.09208393096924\n",
      "CENPB calculation time: 399.3982057571411\n",
      "Dux calculation time: 390.4907534122467\n",
      "CEBP-related_2_merged calculation time: 402.864244222641\n",
      "BARHL2 calculation time: 411.41020941734314\n",
      "CEBP-related_1_merged calculation time: 405.2725627422333\n",
      "Arid3b calculation time: 416.62353682518005\n",
      "E2F1 calculation time: 389.1956012248993\n",
      "CREB-related_1_merged calculation time: 402.9369697570801\n",
      "AP-2_2_merged calculation time: 429.55971693992615\n",
      "Arid3a calculation time: 433.7006211280823\n",
      "GLI2 calculation time: 263.95976281166077\n",
      "EWSR1-FLI1 calculation time: 327.0083501338959\n",
      "GATA1::TAL1 calculation time: 308.84820437431335\n",
      "FOXH1 calculation time: 321.65282583236694\n",
      "Ets-related_2_merged calculation time: 337.6740415096283\n",
      "Gmeb1 calculation time: 319.5858678817749\n",
      "Forkhead_1_merged calculation time: 344.4617121219635\n",
      "HINFP calculation time: 330.7821943759918\n",
      "Foxq1 calculation time: 353.2124128341675\n",
      "GMEB2 calculation time: 348.65720105171204\n",
      "Ets-related_1_merged calculation time: 370.55233359336853\n",
      "HOX-related_1_merged calculation time: 339.72265005111694\n",
      "HOX-related_2_merged calculation time: 339.15695333480835\n",
      "Foxd3 calculation time: 366.96739387512207\n",
      "GATA-type_1_merged calculation time: 369.26218485832214\n",
      "Gfi1b calculation time: 358.1557800769806\n",
      "EGR1 calculation time: 392.3543555736542\n",
      "GCM_1_merged calculation time: 374.23855328559875\n",
      "HD-CUT_2_merged calculation time: 366.60822439193726\n",
      "HNF4G calculation time: 364.2799434661865\n",
      "Gabpa calculation time: 380.6709907054901\n",
      "HMBOX1 calculation time: 371.53461742401123\n",
      "HLTF calculation time: 383.21691608428955\n",
      "Factors_1_merged calculation time: 409.5731177330017\n",
      "Gfi1 calculation time: 397.7176170349121\n",
      "HOX-related_4_merged calculation time: 382.90124678611755\n",
      "HD-CUT_1_merged calculation time: 401.95813941955566\n",
      "HOX-related_3_merged calculation time: 410.60400891304016\n",
      "HOXA5 calculation time: 414.9574429988861\n",
      "Hairy-related_1_merged calculation time: 399.23279213905334\n",
      "Hand1::Tcf3 calculation time: 401.3929612636566\n",
      "Hoxd8 calculation time: 378.5413193702698\n",
      "Hnf4a calculation time: 389.612797498703\n",
      "HSF_1_merged calculation time: 418.5883820056915\n",
      "Hes2 calculation time: 418.55873012542725\n",
      "Jun-related_1_merged calculation time: 404.7942085266113\n",
      "IRF1 calculation time: 416.68156838417053\n",
      "MAFG::NFE2L1 calculation time: 387.05020570755005\n",
      "MAF::NFE2 calculation time: 400.4762580394745\n",
      "Jun-related_2_merged calculation time: 414.9995334148407\n",
      "INSM1 calculation time: 431.53034806251526\n",
      "IRF2 calculation time: 424.99460887908936\n",
      "Interferon-regulatory_1_merged calculation time: 428.23893451690674\n",
      "Klf12 calculation time: 427.7178931236267\n",
      "LIN54 calculation time: 429.895619392395\n",
      "Mecom calculation time: 401.74205327033997\n",
      "More_1_merged calculation time: 397.03702664375305\n",
      "MAFG calculation time: 430.9468605518341\n",
      "MZF1_var.2 calculation time: 418.75550627708435\n",
      "Lhx3 calculation time: 440.92765259742737\n",
      "MZF1 calculation time: 425.3671987056732\n",
      "More_3_merged calculation time: 408.9930021762848\n",
      "MTF1 calculation time: 440.61572766304016\n",
      "Maf-related_1_merged calculation time: 431.42623114585876\n",
      "More_2_merged calculation time: 423.26466512680054\n",
      "More_4_merged calculation time: 412.1845815181732\n",
      "More_5_merged calculation time: 307.0381910800934\n",
      "MybSANT_1_merged calculation time: 307.0695044994354\n",
      "Myb calculation time: 320.66230964660645\n",
      "Myod1 calculation time: 322.78900051116943\n",
      "MyoD_1_merged calculation time: 344.611661195755\n",
      "NFIL3 calculation time: 300.65812730789185\n",
      "NF-kappaB-related_1_merged calculation time: 354.7435381412506\n",
      "NFAT-related_1_merged calculation time: 317.60762429237366\n",
      "NFIC::TLX1 calculation time: 329.6147634983063\n",
      "NK-related_1_merged calculation time: 321.25392985343933\n",
      "NF-kappaB-related_2_merged calculation time: 363.16816449165344\n",
      "NFYA calculation time: 335.25277972221375\n",
      "NFYB calculation time: 339.1565215587616\n",
      "NK-related_2_merged calculation time: 349.14558005332947\n",
      "Nfe2l2 calculation time: 329.17385482788086\n",
      "Nr2e3 calculation time: 321.3798747062683\n",
      "Nkx2-5 calculation time: 332.0906140804291\n",
      "Nr1h3::Rxra calculation time: 327.95756578445435\n",
      "Nr5a2 calculation time: 312.3303279876709\n",
      "Nr2e1 calculation time: 329.4057524204254\n",
      "NR2F1 calculation time: 360.15717911720276\n",
      "NR4A2 calculation time: 358.79277062416077\n",
      "NRF1 calculation time: 363.0694305896759\n",
      "Nkx2-5_var.2 calculation time: 356.821888923645\n",
      "Nuclear_1_merged calculation time: 338.3863444328308\n",
      "PAX5 calculation time: 361.1797151565552\n",
      "PAS_1_merged calculation time: 374.2102816104889\n",
      "PBX1 calculation time: 396.83569717407227\n",
      "PLAG1 calculation time: 340.67797923088074\n",
      "POU_1_merged calculation time: 313.4599714279175\n",
      "POU6F2 calculation time: 326.8352847099304\n",
      "POU_2_merged calculation time: 313.7659149169922\n",
      "PPARG calculation time: 334.0491347312927\n",
      "POU_3_merged calculation time: 343.76360845565796\n",
      "PROX1 calculation time: 338.56627202033997\n",
      "Paired-related_4_merged calculation time: 334.1227066516876\n",
      "PRDM1 calculation time: 379.83736419677734\n",
      "Paired-related_2_merged calculation time: 366.76828503608704\n",
      "Paired-related_5_merged calculation time: 351.1807961463928\n",
      "REST calculation time: 333.51870608329773\n",
      "Paired_1_merged calculation time: 348.9814188480377\n",
      "Paired_2_merged calculation time: 351.8234314918518\n",
      "RREB1 calculation time: 325.606404542923\n",
      "Paired-related_1_merged calculation time: 396.0538282394409\n",
      "Pax6 calculation time: 365.0914981365204\n",
      "Paired-related_3_merged calculation time: 406.7013943195343\n",
      "Pou5f1::Sox2 calculation time: 377.79154539108276\n",
      "RFX-related_1_merged calculation time: 379.3161211013794\n",
      "RORA calculation time: 379.5915756225586\n",
      "RORA_var.2 calculation time: 375.49329471588135\n",
      "Pax2 calculation time: 392.8090696334839\n",
      "RXR-related_1_merged calculation time: 380.2816274166107\n",
      "RUNX1 calculation time: 416.8085038661957\n",
      "RXR-related_2_merged calculation time: 383.67613911628723\n",
      "RXR-related_3_merged calculation time: 388.18070888519287\n",
      "RXRA::VDR calculation time: 406.79978919029236\n",
      "Regulators_1_merged calculation time: 331.4757375717163\n",
      "SMAD2::SMAD3::SMAD4 calculation time: 340.19264912605286\n",
      "Rhox11 calculation time: 358.98592472076416\n",
      "Runt-related_1_merged calculation time: 357.645090341568\n",
      "SOX-related_1_merged calculation time: 332.7280077934265\n",
      "SMAD3 calculation time: 334.73549151420593\n",
      "SOX-related_2_merged calculation time: 321.28153371810913\n",
      "SOX-related_3_merged calculation time: 329.8597512245178\n",
      "SPIB calculation time: 341.71533584594727\n",
      "SOX10 calculation time: 354.4381124973297\n",
      "STAT_1_merged calculation time: 334.77839946746826\n",
      "Six3 calculation time: 337.5572919845581\n",
      "Spz1 calculation time: 330.8637981414795\n",
      "SPDEF calculation time: 371.60446643829346\n",
      "SRF calculation time: 365.7986240386963\n",
      "STAT1::STAT2 calculation time: 389.1177613735199\n",
      "TALE-type_2_merged calculation time: 339.2837760448456\n",
      "Steroid_2_merged calculation time: 370.77248525619507\n",
      "Sox17 calculation time: 397.8418860435486\n",
      "Steroid_1_merged calculation time: 385.7069311141968\n",
      "TBP calculation time: 353.47849702835083\n",
      "TAL1::TCF3 calculation time: 385.0703332424164\n",
      "TALE-type_1_merged calculation time: 385.77318000793457\n",
      "Steroid_3_merged calculation time: 396.10711765289307\n",
      "TCF-7-related_1_merged calculation time: 368.1986041069031\n",
      "TBrain-related_1_merged calculation time: 375.67081689834595\n",
      "TP53 calculation time: 294.22721910476685\n",
      "TEF-1-related_1_merged calculation time: 377.11251425743103\n",
      "Tal-related_1_merged calculation time: 287.62798833847046\n",
      "Three-zinc_1_merged calculation time: 300.32710552215576\n",
      "THAP1 calculation time: 372.3501787185669\n",
      "Three-zinc_2_merged calculation time: 291.7359688282013\n",
      "Tal-related_2_merged calculation time: 327.06775546073914\n",
      "Vdr calculation time: 314.70328736305237\n",
      "Three-zinc_3_merged calculation time: 323.5680510997772\n",
      "XBP1 calculation time: 302.03826117515564\n",
      "YY1 calculation time: 314.5906262397766\n",
      "ZBTB33 calculation time: 293.3314907550812\n",
      "ZBED1 calculation time: 314.3922657966614\n",
      "YY2 calculation time: 327.54456543922424\n",
      "ZBTB7A calculation time: 313.6938953399658\n",
      "ZBTB18 calculation time: 330.9488322734833\n",
      "ZNF263 calculation time: 291.0215275287628\n",
      "ZEB1 calculation time: 321.8815610408783\n",
      "ZNF143 calculation time: 296.1534662246704\n",
      "ZNF410 calculation time: 282.02476239204407\n",
      "ZNF354C calculation time: 288.1660258769989\n",
      "Zfx calculation time: 285.16232919692993\n",
      "p53-related_1_merged calculation time: 271.7409996986389\n",
      "Znf423 calculation time: 279.58192253112793\n",
      "ZNF740 calculation time: 295.6513080596924\n",
      "bHLH-ZIP_1_merged calculation time: 298.60089898109436\n",
      "total time 2698.0479323863983\n"
     ]
    }
   ],
   "source": [
    "# calculate motif scores\n",
    "!rm -r ./top_motif_scores\n",
    "!/gpfs/data01/glasslab/home/jtao/code/tba/calculate_motif_scores.py -num_procs 28 ./merged_atac_peaks_filtered_resized.fasta ./top_motif_scores /gpfs/data01/glasslab/home/jtao/analysis/jaspar_analysis/curated_motifs/*motif "
   ]
  },
  {
   "cell_type": "markdown",
   "metadata": {},
   "source": [
    "## Read in Data"
   ]
  },
  {
   "cell_type": "markdown",
   "metadata": {},
   "source": [
    "### Peak Data"
   ]
  },
  {
   "cell_type": "code",
   "execution_count": 45,
   "metadata": {
    "collapsed": true
   },
   "outputs": [],
   "source": [
    "# read in peak data data\n",
    "summary_frame = pd.read_csv('./group_atac_summary.tsv' , sep='\\t')\n",
    "summary_frame = summary_frame.fillna('0')\n",
    "for col in summary_frame.columns[5:]:\n",
    "    floatValues = []\n",
    "    for val in summary_frame[col].values.astype(str):\n",
    "        if ',' in val:\n",
    "            maxVal = np.mean([float(x) for x in val.split(',')])\n",
    "            floatValues.append(maxVal)\n",
    "        else:\n",
    "            floatValues.append(float(val))\n",
    "    summary_frame[col] = floatValues\n",
    "summary_frame.index = summary_frame['ID'].values\n",
    "\n",
    "# remove peaks in unknown/random chromosomes\n",
    "summary_frame = summary_frame[~summary_frame['chr'].str.contains('random')]\n",
    "summary_frame = summary_frame[~summary_frame['chr'].str.contains('Un')]\n",
    "\n",
    "summary_frame.to_pickle('summary_frame.pickle')"
   ]
  },
  {
   "cell_type": "markdown",
   "metadata": {},
   "source": [
    "### ATAC Tag Data"
   ]
  },
  {
   "cell_type": "code",
   "execution_count": 80,
   "metadata": {
    "collapsed": false
   },
   "outputs": [
    {
     "name": "stdout",
     "output_type": "stream",
     "text": [
      "treatment loop\n",
      "Veh\n",
      "KLA-1h\n"
     ]
    },
    {
     "name": "stderr",
     "output_type": "stream",
     "text": [
      "/gpfs/data01/glasslab/home/jtao/software/anaconda3/lib/python3.5/site-packages/ipykernel/__main__.py:22: SettingWithCopyWarning: \n",
      "A value is trying to be set on a copy of a slice from a DataFrame.\n",
      "Try using .loc[row_indexer,col_indexer] = value instead\n",
      "\n",
      "See the caveats in the documentation: http://pandas.pydata.org/pandas-docs/stable/indexing.html#indexing-view-versus-copy\n"
     ]
    }
   ],
   "source": [
    "# read in annotated frame\n",
    "annotated_frame = pd.read_csv('./annotated_atac_peaks.tsv', sep='\\t')\n",
    "annotated_frame.index = annotated_frame['Chr'] + ':' + (annotated_frame['Start'] -1).astype(str) + '-' + annotated_frame['End'].astype(str)\n",
    "\n",
    "# get promoter associated peaks and associated gene names\n",
    "annotated_frame['Annotation'] = [x.split(' ')[0] for x in annotated_frame['Annotation'].astype(str)]\n",
    "\n",
    "columns = list(annotated_frame.columns.values)\n",
    "columns = columns[:4] + ['Annotation', 'Gene Name'] + [x for x in columns[1:] if 'Tag Count' in x]\n",
    "annotated_frame = annotated_frame[columns]\n",
    "columns[0] = 'PeakID'\n",
    "columns = [x.split('/')[-2].split(' ')[0] if '/' in x else x for x in columns]\n",
    "annotated_frame.columns = columns\n",
    "\n",
    "annotated_mean_atac_frame = annotated_frame[[]]\n",
    "\n",
    "treatments = set([x.split('_')[3] for x in annotated_frame.columns if '_' in x])\n",
    "print('treatment loop')\n",
    "for treatment in treatments:\n",
    "    print(treatment)\n",
    "    treatment_cols = [x for x in columns if treatment in x]\n",
    "    annotated_mean_atac_frame[treatment] = annotated_frame[treatment_cols].mean(axis=1).values\n",
    "\n",
    "promoter_ids = annotated_frame[annotated_frame['Annotation'].str.contains('promoter')].index.values\n",
    "intergenic_ids = annotated_frame[annotated_frame['Annotation'].str.contains('Intergenic')].index.values"
   ]
  },
  {
   "cell_type": "markdown",
   "metadata": {},
   "source": [
    "### GRO Data"
   ]
  },
  {
   "cell_type": "code",
   "execution_count": 82,
   "metadata": {
    "collapsed": false
   },
   "outputs": [
    {
     "name": "stdout",
     "output_type": "stream",
     "text": [
      "treatment loop\n",
      "Veh\n",
      "KLA-1h\n"
     ]
    },
    {
     "name": "stderr",
     "output_type": "stream",
     "text": [
      "/gpfs/data01/glasslab/home/jtao/software/anaconda3/lib/python3.5/site-packages/ipykernel/__main__.py:22: SettingWithCopyWarning: \n",
      "A value is trying to be set on a copy of a slice from a DataFrame.\n",
      "Try using .loc[row_indexer,col_indexer] = value instead\n",
      "\n",
      "See the caveats in the documentation: http://pandas.pydata.org/pandas-docs/stable/indexing.html#indexing-view-versus-copy\n"
     ]
    }
   ],
   "source": [
    "# read in annotated frame\n",
    "gro_frame = pd.read_csv('./annotated_gro_peaks.tsv', sep='\\t')\n",
    "gro_frame.index = gro_frame['Chr'] + ':' + (gro_frame['Start'] -1).astype(str) + '-' + gro_frame['End'].astype(str)\n",
    "\n",
    "# get promoter associated peaks and associated gene names\n",
    "gro_frame['Annotation'] = [x.split(' ')[0] for x in gro_frame['Annotation'].astype(str)]\n",
    "\n",
    "columns = list(gro_frame.columns.values)\n",
    "columns = columns[:4] + ['Annotation', 'Gene Name'] + [x for x in columns[1:] if 'Tag Count' in x]\n",
    "gro_frame = gro_frame[columns]\n",
    "columns[0] = 'PeakID'\n",
    "columns = [x.split('/')[-2].split(' ')[0] if '/' in x else x for x in columns]\n",
    "gro_frame.columns = columns\n",
    "\n",
    "annotated_mean_gro_frame = gro_frame[[]]\n",
    "\n",
    "treatments = set([x.split('_')[3] for x in gro_frame.columns if '_' in x])\n",
    "print('treatment loop')\n",
    "for treatment in treatments:\n",
    "    print(treatment)\n",
    "    treatment_cols = [x for x in columns if treatment in x]\n",
    "    annotated_mean_gro_frame[treatment] = gro_frame[treatment_cols].mean(axis=1).values"
   ]
  },
  {
   "cell_type": "markdown",
   "metadata": {},
   "source": [
    "### Expression Data"
   ]
  },
  {
   "cell_type": "code",
   "execution_count": 83,
   "metadata": {
    "collapsed": false
   },
   "outputs": [
    {
     "name": "stderr",
     "output_type": "stream",
     "text": [
      "/gpfs/data01/glasslab/home/jtao/software/anaconda3/lib/python3.5/site-packages/ipykernel/__main__.py:17: SettingWithCopyWarning: \n",
      "A value is trying to be set on a copy of a slice from a DataFrame.\n",
      "Try using .loc[row_indexer,col_indexer] = value instead\n",
      "\n",
      "See the caveats in the documentation: http://pandas.pydata.org/pandas-docs/stable/indexing.html#indexing-view-versus-copy\n"
     ]
    }
   ],
   "source": [
    "rpkm_frame = pd.read_csv('./rpkm.tsv', sep='\\t')\n",
    "columns = rpkm_frame.columns.values\n",
    "columns[0] = 'Refseq'\n",
    "columns[7] = 'Gene'\n",
    "rpkm_frame.columns = columns\n",
    "rpkm_frame['All Gene Names'] = rpkm_frame['Gene'].values\n",
    "rpkm_frame['Gene'] = [x.split('|')[0] for x in rpkm_frame['Gene'].values]\n",
    "rpkm_frame.index = rpkm_frame['Gene'].values\n",
    "rpkm_frame.drop('strand', axis=1, inplace=True)\n",
    "rpkm_frame.drop('Length', axis=1, inplace=True)\n",
    "rpkm_frame.drop('Copies', axis=1, inplace=True)\n",
    "conditions = set(sorted([x.split('/')[-1].split('_')[3] for x in rpkm_frame.columns if 'tag_directories' in x]))\n",
    "rpkm_mean_frame = rpkm_frame[['Refseq', 'Gene', 'All Gene Names']]\n",
    "for condition in conditions:\n",
    "    current_cols = [x for x in rpkm_frame.columns if condition in x]\n",
    "    mean_vals = rpkm_frame[current_cols].mean(axis=1)\n",
    "    rpkm_mean_frame[condition] = mean_vals\n",
    "    "
   ]
  },
  {
   "cell_type": "markdown",
   "metadata": {},
   "source": [
    "### Diff Expression Data"
   ]
  },
  {
   "cell_type": "code",
   "execution_count": 84,
   "metadata": {
    "collapsed": true
   },
   "outputs": [],
   "source": [
    "diff_expression_frame = pd.read_csv('./edgeR_out.tsv', sep='\\t')\n",
    "columns = diff_expression_frame.columns.values\n",
    "columns[0] = 'refseq'\n",
    "columns[7] = 'gene'\n",
    "\n",
    "columns = [x.lower() for x in columns]\n",
    "diff_expression_frame.columns = columns\n",
    "\n",
    "diff_expression_frame = diff_expression_frame.ix[:,['refseq', 'chr', 'start', 'end', 'gene'] + [x for x in diff_expression_frame.columns if 'vs.' in x]]\n",
    "diff_expression_frame['gene'] = [x.split('|')[0] for x in diff_expression_frame['gene'].values]"
   ]
  },
  {
   "cell_type": "markdown",
   "metadata": {},
   "source": [
    "### Motifs"
   ]
  },
  {
   "cell_type": "code",
   "execution_count": 90,
   "metadata": {
    "collapsed": false
   },
   "outputs": [],
   "source": [
    "pseudocount = 0.001\n",
    "motif_file_path = '/gpfs/data01/glasslab/home/jtao/analysis/jaspar_analysis/curated_motifs/'\n",
    "all_motifs = []\n",
    "\n",
    "for m in os.listdir(motif_file_path):\n",
    "    if '.motif' in m:\n",
    "        motif = read_motif_file(motif_file_path + '/' + m, pseudocount)\n",
    "        all_motifs.append(motif)\n",
    "# sort motifs by name\n",
    "all_motifs.sort(key=lambda x:x[0])\n",
    "\n",
    "fasta_path = './merged_atac_peaks_filtered_resized.fasta'\n",
    "\n",
    "sequence_list, id_list = read_fasta(fasta_path)\n",
    "\n",
    "# convert strings to arrays\n",
    "sequence_array_list = convert_sequences_to_array(sequence_list)\n",
    "\n",
    "motif_size_dict = {}\n",
    "for motif in all_motifs:\n",
    "    name = motif[0]\n",
    "    size = motif[1].shape[0]\n",
    "    if '.' in name:\n",
    "        name = '.'.join(name.split('.')[:-1])\n",
    "    motif_size_dict[name] = size\n",
    "\n",
    "motif_names = sorted(motif_size_dict.keys())"
   ]
  },
  {
   "cell_type": "markdown",
   "metadata": {},
   "source": [
    "### Identify Expressed Transcription Factors"
   ]
  },
  {
   "cell_type": "code",
   "execution_count": 91,
   "metadata": {
    "collapsed": true
   },
   "outputs": [],
   "source": [
    "gene_motif_dict = {}\n",
    "with open('/gpfs/data01/glasslab/home/jtao/analysis/jaspar_analysis/clustered_motifs/motifGene.txt') as f:\n",
    "    data = f.readlines()\n",
    "for line in data:\n",
    "    tokens = line.strip().split()\n",
    "    motif = tokens[0]\n",
    "    genes = tokens[1].split('|')\n",
    "    if motif in motif_size_dict:\n",
    "        for g in genes:\n",
    "            if g in gene_motif_dict:\n",
    "                gene_motif_dict[g.upper()].append(motif)\n",
    "            else:\n",
    "                gene_motif_dict[g.upper()] = [motif]"
   ]
  },
  {
   "cell_type": "code",
   "execution_count": 92,
   "metadata": {
    "collapsed": false
   },
   "outputs": [
    {
     "data": {
      "text/plain": [
       "<matplotlib.text.Text at 0x7f764ae49d68>"
      ]
     },
     "execution_count": 92,
     "metadata": {},
     "output_type": "execute_result"
    },
    {
     "data": {
      "image/png": "[encoded data removed]",
      "text/plain": [
       "<matplotlib.figure.Figure at 0x7f764dad7c18>"
      ]
     },
     "metadata": {},
     "output_type": "display_data"
    }
   ],
   "source": [
    "expression_threshold = 16\n",
    "# thresholds = [1,2,4,8,16,32,64,128]\n",
    "thresholds = range(100)\n",
    "num_motifs = []\n",
    "for expression_threshold in thresholds:\n",
    "    motifs_at_threshold = []\n",
    "    gene_names = rpkm_mean_frame[\n",
    "        rpkm_mean_frame.ix[:,2:].max(axis=1) >= expression_threshold\n",
    "                    ].ix[:,'All Gene Names'].values\n",
    "    for gn in gene_names:\n",
    "        genes = gn.upper().split('|')\n",
    "        for g in genes:\n",
    "            if g in gene_motif_dict:\n",
    "                motifs_at_threshold += gene_motif_dict[g]\n",
    "    motifs_at_threshold = sorted(set(motifs_at_threshold))\n",
    "    num_motifs.append(len(motifs_at_threshold))\n",
    "plt.plot(thresholds, num_motifs) \n",
    "plt.xlabel('Expression Threshold (RPKM)')\n",
    "plt.ylabel('Number of Motifs')"
   ]
  },
  {
   "cell_type": "code",
   "execution_count": 93,
   "metadata": {
    "collapsed": false
   },
   "outputs": [
    {
     "name": "stdout",
     "output_type": "stream",
     "text": [
      "45\n"
     ]
    }
   ],
   "source": [
    "expression_threshold = 20\n",
    "motifs_to_include = []\n",
    "gene_names = rpkm_mean_frame[\n",
    "    rpkm_mean_frame.ix[:,2:].max(axis=1) >= expression_threshold\n",
    "                ].ix[:,'All Gene Names'].values\n",
    "for gn in gene_names:\n",
    "    genes = gn.upper().split('|')\n",
    "    for g in genes:\n",
    "        if g in gene_motif_dict:\n",
    "            motifs_to_include += gene_motif_dict[g]\n",
    "motifs_to_include = sorted(set(motifs_to_include))\n",
    "print(len(set(motifs_to_include)))"
   ]
  },
  {
   "cell_type": "markdown",
   "metadata": {},
   "source": [
    "### Motif Scores"
   ]
  },
  {
   "cell_type": "markdown",
   "metadata": {},
   "source": [
    "#### All Motif Scores"
   ]
  },
  {
   "cell_type": "code",
   "execution_count": 94,
   "metadata": {
    "collapsed": false
   },
   "outputs": [
    {
     "name": "stdout",
     "output_type": "stream",
     "text": [
      "reading ATF4\n",
      "reading Arid3a\n",
      "reading CEBP-related_1_merged\n",
      "reading CEBP-related_2_merged\n",
      "reading CENPB\n",
      "reading CREB-related_1_merged\n",
      "reading Ddit3::Cebpa\n",
      "reading E2F-related_1_merged\n",
      "reading EGR1\n",
      "reading Ets-related_1_merged\n",
      "reading Ets-related_2_merged\n",
      "reading Forkhead_1_merged\n",
      "reading HD-CUT_1_merged\n",
      "reading Hairy-related_1_merged\n",
      "reading IRF1\n",
      "reading IRF2\n",
      "reading Interferon-regulatory_1_merged\n",
      "reading Jun-related_1_merged\n",
      "reading Jun-related_2_merged\n",
      "reading MAFG\n",
      "reading MAFG::NFE2L1\n",
      "reading Maf-related_1_merged\n",
      "reading More_1_merged\n",
      "reading NF-kappaB-related_1_merged\n",
      "reading NF-kappaB-related_2_merged\n",
      "reading NFYA\n",
      "reading NRF1\n",
      "reading Nfe2l2\n",
      "reading Nr1h3::Rxra\n",
      "reading PAS_1_merged\n",
      "reading PPARG\n",
      "reading PRDM1\n",
      "reading Paired-related_3_merged\n",
      "reading Regulators_1_merged\n",
      "reading STAT_1_merged\n",
      "reading Steroid_3_merged\n",
      "reading TALE-type_1_merged\n",
      "reading TBrain-related_1_merged\n",
      "reading Three-zinc_3_merged\n",
      "reading XBP1\n",
      "reading YY1\n",
      "reading ZBTB18\n",
      "reading ZBTB7A\n",
      "reading bHLH-ZIP_1_merged\n",
      "reading p53-related_1_merged\n"
     ]
    }
   ],
   "source": [
    "motif_score_dict = {}\n",
    "motif_score_rc_dict = {}\n",
    "for f in sorted([x for x in os.listdir('./motif_scores') if x.split('.')[0] in motifs_to_include]):\n",
    "    motif_name = f.split('.')[0]\n",
    "    if 'rc' in f:\n",
    "        print('reading', motif_name)\n",
    "        motif_score_rc_dict[motif_name] = pickle.load(open('./motif_scores/'+f, 'rb'))\n",
    "    else:\n",
    "        motif_score_dict[motif_name] = pickle.load(open('./motif_scores/'+f, 'rb'))"
   ]
  },
  {
   "cell_type": "markdown",
   "metadata": {},
   "source": [
    "#### Top Motif Scores"
   ]
  },
  {
   "cell_type": "code",
   "execution_count": 95,
   "metadata": {
    "collapsed": true
   },
   "outputs": [],
   "source": [
    "topMotifScore_frame = pd.read_csv('./top_motif_scores/merged_atac_peaks_filtered_resized_motif_scores.tsv', \n",
    "                    sep='\\t',\n",
    "                    index_col= 0)"
   ]
  },
  {
   "cell_type": "markdown",
   "metadata": {},
   "source": [
    "## Find Symmetric Motifs"
   ]
  },
  {
   "cell_type": "code",
   "execution_count": 96,
   "metadata": {
    "collapsed": true
   },
   "outputs": [],
   "source": [
    "num_sequence_to_sample = 100\n",
    "num_seqs = len(sequence_array_list)\n",
    "mean_pearsons = []\n",
    "motif_symmetryPearson_dict = {}\n",
    "for motif in sorted(motif_score_dict.keys()):\n",
    "    \n",
    "    pearsons = []\n",
    "    for i in range(num_sequence_to_sample):\n",
    "        index = np.random.randint(0,num_seqs)\n",
    "\n",
    "        forward_scores = motif_score_dict[motif][index]\n",
    "        reverse_scores = motif_score_rc_dict[motif][index]\n",
    "\n",
    "        pearson, pval = scipy.stats.pearsonr(forward_scores, reverse_scores)\n",
    "        pearsons.append(pearson)\n",
    "    mean_pearson = np.mean(pearsons)\n",
    "    mean_pearsons.append(mean_pearson)\n",
    "    motif_symmetryPearson_dict[motif] = mean_pearson\n",
    "symmetric_motifs = [x for x in motif_symmetryPearson_dict if motif_symmetryPearson_dict[x] > 0.8]\n",
    "\n"
   ]
  },
  {
   "cell_type": "markdown",
   "metadata": {},
   "source": [
    "## Find Frequent Patterns"
   ]
  },
  {
   "cell_type": "code",
   "execution_count": 97,
   "metadata": {
    "collapsed": true
   },
   "outputs": [],
   "source": [
    "id_motifScore_forward_dict = {}\n",
    "for i in range(len(id_list)):\n",
    "    current_id = id_list[i]\n",
    "    current_dict = {}\n",
    "    for motif in motifs_to_include:\n",
    "        if motif in motif_score_dict:\n",
    "            current_dict[motif] = motif_score_dict[motif][i]\n",
    "    id_motifScore_forward_dict[current_id] = current_dict"
   ]
  },
  {
   "cell_type": "code",
   "execution_count": 98,
   "metadata": {
    "collapsed": true
   },
   "outputs": [],
   "source": [
    "id_motifScore_reverse_dict = {}\n",
    "for i in range(len(id_list)):\n",
    "    current_id = id_list[i]\n",
    "    current_dict = {}\n",
    "    for motif in motifs_to_include:\n",
    "        if motif in motif_score_rc_dict:\n",
    "            current_dict[motif] = motif_score_rc_dict[motif][i]\n",
    "    id_motifScore_reverse_dict[current_id] = current_dict"
   ]
  },
  {
   "cell_type": "code",
   "execution_count": 99,
   "metadata": {
    "collapsed": false
   },
   "outputs": [
    {
     "name": "stdout",
     "output_type": "stream",
     "text": [
      "Name: \n",
      "Type: DiGraph\n",
      "Number of nodes: 19\n",
      "Number of edges: 29\n",
      "Average in degree:   1.5263\n",
      "Average out degree:   1.5263\n"
     ]
    }
   ],
   "source": [
    "index = 1\n",
    "seq_array = sequence_array_list[index]\n",
    "forward_score_dict = id_motifScore_forward_dict[id_list[index]]\n",
    "reverse_score_dict = id_motifScore_reverse_dict[id_list[index]]\n",
    "graph, paths, paths_nodata = calc_multi_motif_sequence(seq_array, \n",
    "                              forward_score_dict, \n",
    "                              reverse_score_dict, \n",
    "                              motif_size_dict,\n",
    "                              score_threshold = 5,\n",
    "                              distance_threshold = 200,\n",
    "                              symmetric_motifs = symmetric_motifs\n",
    "                             )\n",
    "print(nx.info(graph))"
   ]
  },
  {
   "cell_type": "code",
   "execution_count": 100,
   "metadata": {
    "collapsed": false
   },
   "outputs": [
    {
     "data": {
      "image/png": "[encoded data removed]",
      "text/plain": [
       "<matplotlib.figure.Figure at 0x7f764dad0ef0>"
      ]
     },
     "metadata": {},
     "output_type": "display_data"
    }
   ],
   "source": [
    "nx.draw(graph,\n",
    "        node_size=50,\n",
    "        with_labels=True,\n",
    "        font_size = 8,\n",
    "        pos=graphviz_layout(graph, prog = 'dot'))\n",
    "\n"
   ]
  },
  {
   "cell_type": "code",
   "execution_count": null,
   "metadata": {
    "collapsed": false,
    "scrolled": true
   },
   "outputs": [
    {
     "name": "stdout",
     "output_type": "stream",
     "text": [
      "0\n",
      "100\n",
      "Too many paths!!!\n",
      "200\n",
      "300\n",
      "400\n",
      "500\n",
      "600\n",
      "700\n",
      "800\n",
      "900\n",
      "1000\n",
      "1100\n",
      "1200\n",
      "1300\n",
      "1400\n",
      "1500\n",
      "1600\n",
      "1700\n",
      "1800\n",
      "1900\n",
      "2000\n",
      "2100\n",
      "2200\n",
      "2300\n",
      "2400\n",
      "2500\n",
      "2600\n",
      "2700\n",
      "2800\n",
      "2900\n",
      "3000\n",
      "3100\n",
      "3200\n",
      "3300\n",
      "3400\n",
      "3500\n",
      "3600\n",
      "3700\n",
      "3800\n",
      "3900\n",
      "4000\n",
      "4100\n",
      "4200\n",
      "4300\n",
      "4400\n",
      "4500\n",
      "4600\n",
      "4700\n",
      "4800\n",
      "4900\n",
      "5000\n",
      "5100\n",
      "5200\n",
      "5300\n",
      "5400\n",
      "Too many paths!!!\n",
      "5500\n",
      "5600\n",
      "5700\n",
      "5800\n",
      "5900\n",
      "Too many paths!!!\n",
      "6000\n",
      "6100\n",
      "6200\n",
      "6300\n",
      "Too many paths!!!\n",
      "6400\n",
      "6500\n",
      "6600\n",
      "6700\n",
      "6800\n",
      "6900\n",
      "7000\n",
      "7100\n",
      "7200\n",
      "7300\n",
      "7400\n",
      "7500\n"
     ]
    },
    {
     "name": "stderr",
     "output_type": "stream",
     "text": [
      "Exception ignored in: 'zmq.backend.cython.message.Frame.__dealloc__'\n",
      "Traceback (most recent call last):\n",
      "  File \"zmq/backend/cython/checkrc.pxd\", line 12, in zmq.backend.cython.checkrc._check_rc (zmq/backend/cython/message.c:3968)\n",
      "KeyboardInterrupt\n"
     ]
    },
    {
     "name": "stdout",
     "output_type": "stream",
     "text": [
      "7600\n",
      "7700\n",
      "7800\n",
      "7900\n",
      "8000\n",
      "8100\n",
      "8200\n",
      "8300\n",
      "8400\n",
      "8500\n",
      "8600\n",
      "8700\n",
      "8800\n",
      "8900\n",
      "9000\n",
      "9100\n",
      "9200\n",
      "9300\n",
      "9400\n",
      "9500\n",
      "9600\n",
      "9700\n",
      "9800\n",
      "9900\n",
      "10000\n",
      "10100\n",
      "10200\n",
      "10300\n",
      "10400\n",
      "10500\n",
      "10600\n",
      "10700\n",
      "10800\n",
      "10900\n",
      "11000\n",
      "11100\n",
      "11200\n",
      "11300\n",
      "11400\n",
      "11500\n",
      "Too many paths!!!\n",
      "11600\n",
      "11700\n",
      "11800\n",
      "11900\n",
      "12000\n",
      "12100\n",
      "12200\n",
      "12300\n",
      "12400\n",
      "12500\n",
      "12600\n",
      "12700\n",
      "12800\n",
      "12900\n",
      "13000\n",
      "13100\n",
      "13200\n",
      "13300\n",
      "13400\n",
      "13500\n",
      "13600\n",
      "13700\n",
      "13800\n",
      "13900\n",
      "14000\n",
      "14100\n",
      "Too many paths!!!\n",
      "14200\n",
      "14300\n",
      "14400\n",
      "14500\n",
      "14600\n",
      "14700\n",
      "14800\n",
      "14900\n",
      "Too many paths!!!\n",
      "15000\n",
      "15100\n",
      "15200\n",
      "15300\n",
      "15400\n",
      "15500\n",
      "15600\n",
      "15700\n",
      "15800\n",
      "15900\n",
      "16000\n",
      "16100\n",
      "16200\n",
      "16300\n",
      "16400\n",
      "16500\n",
      "16600\n",
      "16700\n",
      "16800\n",
      "16900\n",
      "17000\n",
      "17100\n",
      "17200\n",
      "17300\n",
      "17400\n",
      "17500\n",
      "17600\n",
      "17700\n",
      "17800\n",
      "17900\n",
      "18000\n",
      "18100\n",
      "18200\n",
      "18300\n",
      "18400\n",
      "18500\n",
      "Too many paths!!!\n",
      "18600\n",
      "18700\n",
      "Too many paths!!!\n",
      "18800\n",
      "18900\n",
      "19000\n",
      "19100\n",
      "19200\n",
      "19300\n",
      "19400\n",
      "19500\n",
      "19600\n",
      "19700\n",
      "19800\n",
      "19900\n",
      "20000\n",
      "20100\n",
      "20200\n",
      "20300\n",
      "20400\n",
      "20500\n",
      "20600\n",
      "20700\n",
      "20800\n",
      "20900\n",
      "21000\n",
      "21100\n",
      "21200\n",
      "21300\n",
      "21400\n",
      "21500\n",
      "21600\n",
      "21700\n",
      "21800\n",
      "21900\n",
      "22000\n",
      "22100\n",
      "22200\n",
      "22300\n",
      "22400\n",
      "22500\n",
      "22600\n",
      "22700\n",
      "22800\n",
      "22900\n",
      "23000\n",
      "23100\n",
      "23200\n",
      "23300\n",
      "23400\n",
      "23500\n",
      "23600\n",
      "23700\n",
      "23800\n",
      "23900\n",
      "24000\n",
      "24100\n",
      "24200\n",
      "24300\n",
      "24400\n",
      "24500\n",
      "24600\n",
      "24700\n",
      "24800\n"
     ]
    }
   ],
   "source": [
    "id_pathList_dict = {}\n",
    "counter = 0\n",
    "for index in range(len(id_list)):\n",
    "    if index % 100 ==0: \n",
    "        print(index)\n",
    "    seq_id = id_list[index]\n",
    "    seq_array = sequence_array_list[index]\n",
    "    forward_score_dict = id_motifScore_forward_dict[seq_id]\n",
    "    reverse_score_dict = id_motifScore_reverse_dict[seq_id]\n",
    "    result = calc_multi_motif_sequence(seq_array, \n",
    "             forward_score_dict, \n",
    "             reverse_score_dict, \n",
    "             motif_size_dict,\n",
    "             score_threshold = 5,\n",
    "             distance_threshold = 200,\n",
    "             symmetric_motifs = symmetric_motifs\n",
    "             )\n",
    "    graph, paths_with_data, paths_without_data = result\n",
    "    if len(paths_without_data) > 1:\n",
    "        id_pathList_dict[seq_id] = paths_without_data\n",
    "    else:\n",
    "        counter +=1\n",
    "print(counter)"
   ]
  },
  {
   "cell_type": "code",
   "execution_count": null,
   "metadata": {
    "collapsed": true
   },
   "outputs": [],
   "source": [
    "id_pathList_intergenic_dict = {x:id_pathList_dict[x] for x in intergenic_ids if x in id_pathList_dict}\n",
    "\n"
   ]
  },
  {
   "cell_type": "code",
   "execution_count": null,
   "metadata": {
    "collapsed": true
   },
   "outputs": [],
   "source": [
    "min_support_level = 100\n",
    "\n",
    "frequent_intergenic_patterns = motif_prefix_span([], id_pathList_intergenic_dict, min_support_level)"
   ]
  },
  {
   "cell_type": "code",
   "execution_count": null,
   "metadata": {
    "collapsed": false
   },
   "outputs": [],
   "source": [
    "len(id_pathList_intergenic_dict)"
   ]
  },
  {
   "cell_type": "code",
   "execution_count": null,
   "metadata": {
    "collapsed": true
   },
   "outputs": [],
   "source": [
    "# sequence_pattern_promoter_table = create_pattern_sequence_table(frequent_promoter_patterns, id_pathList_promoter_dict)\n",
    "start = time.time()\n",
    "sequence_pattern_intergenic_table = create_pattern_sequence_table(frequent_intergenic_patterns, \n",
    "                                                       id_pathList_intergenic_dict,\n",
    "                                                       )\n",
    "print('total time', time.time() - start)"
   ]
  },
  {
   "cell_type": "code",
   "execution_count": null,
   "metadata": {
    "collapsed": true
   },
   "outputs": [],
   "source": [
    "sequence_pattern_intergenic_table.to_pickle('./sequence_pattern_intergenic_table.pickle')"
   ]
  },
  {
   "cell_type": "code",
   "execution_count": null,
   "metadata": {
    "collapsed": true
   },
   "outputs": [],
   "source": []
  }
 ],
 "metadata": {
  "anaconda-cloud": {},
  "kernelspec": {
   "display_name": "Python [Root]",
   "language": "python",
   "name": "Python [Root]"
  },
  "language_info": {
   "codemirror_mode": {
    "name": "ipython",
    "version": 3
   },
   "file_extension": ".py",
   "mimetype": "text/x-python",
   "name": "python",
   "nbconvert_exporter": "python",
   "pygments_lexer": "ipython3",
   "version": "3.5.1"
  }
 },
 "nbformat": 4,
 "nbformat_minor": 0
}
