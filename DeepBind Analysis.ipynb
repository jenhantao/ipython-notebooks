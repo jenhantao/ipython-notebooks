{
 "cells": [
  {
   "cell_type": "markdown",
   "metadata": {},
   "source": [
    "# DeepBind Analysis"
   ]
  },
  {
   "cell_type": "markdown",
   "metadata": {},
   "source": [
    "## Imports"
   ]
  },
  {
   "cell_type": "code",
   "execution_count": 1,
   "metadata": {
    "collapsed": false
   },
   "outputs": [
    {
     "name": "stderr",
     "output_type": "stream",
     "text": [
      "Using TensorFlow backend.\n"
     ]
    }
   ],
   "source": [
    "from __future__ import print_function\n",
    "import keras\n",
    "from keras.datasets import mnist\n",
    "from keras.models import Sequential\n",
    "from keras.layers import Input, Maximum, Dense, Dropout, Flatten\n",
    "from keras.layers import Conv1D, MaxPooling1D\n",
    "from keras.layers import Conv2D, MaxPooling2D\n",
    "from keras.models import Model\n",
    "\n",
    "from keras import backend as K"
   ]
  },
  {
   "cell_type": "code",
   "execution_count": 38,
   "metadata": {
    "collapsed": true
   },
   "outputs": [],
   "source": [
    "import os\n",
    "import numpy as np\n",
    "import Bio\n",
    "from Bio import SeqIO\n",
    "import seaborn as sns\n",
    "import pandas as pd\n",
    "import Bio.motifs\n",
    "%matplotlib inline\n",
    "\n",
    "from sklearn import model_selection\n",
    "\n",
    "import seaborn as sns\n",
    "from matplotlib import pyplot as plt"
   ]
  },
  {
   "cell_type": "code",
   "execution_count": 18,
   "metadata": {
    "collapsed": false
   },
   "outputs": [],
   "source": [
    "if not os.path.isdir('/home/jtao/analysis/deepbind_analysis'):\n",
    "    os.mkdir('/home/jtao/analysis/deepbind_analysis')\n",
    "os.chdir('/home/jtao/analysis/deepbind_analysis')"
   ]
  },
  {
   "cell_type": "code",
   "execution_count": 2,
   "metadata": {
    "collapsed": true
   },
   "outputs": [],
   "source": [
    "batch_size = 128\n",
    "num_classes = 10\n",
    "epochs = 12"
   ]
  },
  {
   "cell_type": "markdown",
   "metadata": {},
   "source": [
    "## Copy Fasta File and Background"
   ]
  },
  {
   "cell_type": "code",
   "execution_count": 779,
   "metadata": {
    "collapsed": false
   },
   "outputs": [],
   "source": [
    "! cp /home/jtao/analysis/ap1_fdr_analysis/idr_peak_files/c57bl6_atf3_veh_idr_peaks.tsv ./"
   ]
  },
  {
   "cell_type": "code",
   "execution_count": 885,
   "metadata": {
    "collapsed": false
   },
   "outputs": [],
   "source": [
    "target_peak_size = 200\n",
    "current_peak_frame = pd.read_csv('./c57bl6_atf3_veh_idr_peaks.tsv', sep='\\t' )\n",
    "peakCenters = (current_peak_frame['start'] + current_peak_frame['end']) /2\n",
    "int_peakCenters = np.ceil(peakCenters).astype(int)\n",
    "new_starts = int_peakCenters - int(target_peak_size/2)\n",
    "new_ends = int_peakCenters + int(target_peak_size/2)\n",
    "current_peak_frame['start'] = new_starts\n",
    "current_peak_frame['end'] = new_ends\n",
    "current_peak_frame.to_csv('./c57bl6_atf3_veh_resized_peaks.tsv', sep='\\t', index=False)"
   ]
  },
  {
   "cell_type": "code",
   "execution_count": 886,
   "metadata": {
    "collapsed": false
   },
   "outputs": [
    {
     "name": "stdout",
     "output_type": "stream",
     "text": [
      "\r\n",
      "\tConverted 23160 peaks total\r\n",
      "\r\n"
     ]
    }
   ],
   "source": [
    "! pos2bed.pl ./c57bl6_atf3_veh_resized_peaks.tsv > ./c57bl6_atf3_veh_idr_peaks.bed"
   ]
  },
  {
   "cell_type": "code",
   "execution_count": 887,
   "metadata": {
    "collapsed": false
   },
   "outputs": [
    {
     "name": "stdout",
     "output_type": "stream",
     "text": [
      "reading genome mm10\r\n"
     ]
    }
   ],
   "source": [
    "! /home/jtao/code/tba/model_training/extract_sequences.py ./c57bl6_atf3_veh_idr_peaks.bed mm10 ./c57bl6_atf3_veh_idr_peaks.fasta"
   ]
  },
  {
   "cell_type": "code",
   "execution_count": 888,
   "metadata": {
    "collapsed": false
   },
   "outputs": [
    {
     "name": "stdout",
     "output_type": "stream",
     "text": [
      "filtering out: chrM chrY\n",
      "reading genome mm10\n",
      "done reading genome\n",
      "0 0\n",
      "target GC: 0.3800343317878802 background GC: 0.3769579678174266 target length: 201 numTargetPositions 2316 backgroundPositions 2316\n",
      "0 0\n",
      "target GC: 0.4188299824646237 background GC: 0.4160061731560868 target length: 201 numTargetPositions 2316 backgroundPositions 2316\n",
      "0 0\n",
      "target GC: 0.4404232205932298 background GC: 0.4392174968791277 target length: 201 numTargetPositions 2316 backgroundPositions 2316\n",
      "0 0\n",
      "target GC: 0.4578405042088684 background GC: 0.45465218228076587 target length: 201 numTargetPositions 2315 backgroundPositions 2315\n",
      "0 0\n",
      "target GC: 0.4735631833138448 background GC: 0.4686653978571801 target length: 201 numTargetPositions 2315 backgroundPositions 2315\n",
      "0 0\n",
      "target GC: 0.4895179632038591 background GC: 0.48386331073701777 target length: 201 numTargetPositions 2315 backgroundPositions 2315\n",
      "0 0\n",
      "target GC: 0.5072371388764302 background GC: 0.5009644376963623 target length: 201 numTargetPositions 2315 backgroundPositions 2315\n",
      "0 0\n",
      "target GC: 0.5286548835402075 background GC: 0.5197014733869684 target length: 201 numTargetPositions 2315 backgroundPositions 2315\n",
      "0 0\n",
      "target GC: 0.5619570480304636 background GC: 0.5532343947136511 target length: 201 numTargetPositions 2315 backgroundPositions 2315\n",
      "0 0\n",
      "target GC: 0.6563232097991232 background GC: 0.6473793383656636 target length: 201 numTargetPositions 2315 backgroundPositions 2315\n"
     ]
    }
   ],
   "source": [
    "! /home/jtao/code/tba/model_training/generate_background_coordinates.py ./c57bl6_atf3_veh_idr_peaks.bed ./ #-filterChromosomes chrY"
   ]
  },
  {
   "cell_type": "markdown",
   "metadata": {},
   "source": [
    "## Sequential API Implementation"
   ]
  },
  {
   "cell_type": "markdown",
   "metadata": {},
   "source": [
    "### Set up Training and Test Data"
   ]
  },
  {
   "cell_type": "code",
   "execution_count": 986,
   "metadata": {
    "collapsed": false
   },
   "outputs": [],
   "source": [
    "def convert_sequences_to_array(sequences):\n",
    "    '''\n",
    "    inputs: sequence of nucleotides represented as a string composed of A, C, G, T\n",
    "    outputs: a list of numpy array representations of a sequence with:\n",
    "             A = [1, 0, 0, 0]\n",
    "             C = [0, 1, 0, 0]\n",
    "             G = [0, 0, 1, 0]\n",
    "             T = [0, 0, 0, 1]\n",
    "             \n",
    "    '''\n",
    "\n",
    "    nucleotide_array_dict = {'A': [1, 0, 0, 0],\n",
    "                             'C': [0, 1, 0, 0],\n",
    "                             'G': [0, 0, 1, 0],\n",
    "                             'T': [0, 0, 0, 1],\n",
    "                             'N': [0.25,0.25,0.25,0.25]}\n",
    "\n",
    "    sequence_array_list = []\n",
    "    for seq in sequences:\n",
    "        seq_array = []\n",
    "        for nuc in seq:\n",
    "            seq_array.append(nucleotide_array_dict[nuc])\n",
    "        seq_array = np.array(seq_array)\n",
    "        sequence_array_list.append(seq_array)\n",
    "    sequence_array_list = np.array(sequence_array_list)\n",
    "    return sequence_array_list"
   ]
  },
  {
   "cell_type": "code",
   "execution_count": 434,
   "metadata": {
    "collapsed": false
   },
   "outputs": [],
   "source": [
    "sequences = []\n",
    "positive_seqRecords = list(SeqIO.parse('./c57bl6_atf3_veh_idr_peaks.fasta', 'fasta'))\n",
    "negative_seqRecords = list(SeqIO.parse('./background.fasta', 'fasta'))\n",
    "\n",
    "fasta_seq = [str(x.seq)[:200] for x in positive_seqRecords] + [str(x.seq)[:200] for x in negative_seqRecords]"
   ]
  },
  {
   "cell_type": "code",
   "execution_count": 435,
   "metadata": {
    "collapsed": true
   },
   "outputs": [],
   "source": [
    "\n",
    "labels = [1 for x in positive_seqRecords] + [0 for x in negative_seqRecords]\n",
    "labels = np.array(labels)"
   ]
  },
  {
   "cell_type": "code",
   "execution_count": 436,
   "metadata": {
    "collapsed": true
   },
   "outputs": [],
   "source": [
    "sequence_arrays = convert_sequences_to_array(fasta_seq)\n",
    "sequence_arrays = np.array(sequence_arrays)"
   ]
  },
  {
   "cell_type": "code",
   "execution_count": 437,
   "metadata": {
    "collapsed": false
   },
   "outputs": [],
   "source": [
    "x_train, x_test, y_train, y_test = model_selection.train_test_split(sequence_arrays, labels, test_size=0.2)"
   ]
  },
  {
   "cell_type": "code",
   "execution_count": 438,
   "metadata": {
    "collapsed": true
   },
   "outputs": [],
   "source": [
    "num_classes = 2\n",
    "y_train = keras.utils.to_categorical(y_train, num_classes)\n",
    "y_test = keras.utils.to_categorical(y_test, num_classes)"
   ]
  },
  {
   "cell_type": "markdown",
   "metadata": {},
   "source": [
    "### Define Model"
   ]
  },
  {
   "cell_type": "code",
   "execution_count": 469,
   "metadata": {
    "collapsed": false
   },
   "outputs": [],
   "source": [
    "num_classes = 2\n",
    "model = Sequential()\n",
    "model.add(Conv1D(filters=16, \n",
    "                 kernel_size=24,\n",
    "                 activation='relu',\n",
    "                 input_shape=(200,4)))\n",
    "model.add(MaxPooling1D(pool_size=176))\n",
    "model.add(Dense(32, activation='relu'))\n",
    "\n",
    "model.add(Dropout(0.25))\n",
    "model.add(Flatten())\n",
    "model.add(Dense(num_classes, activation='softmax'))\n",
    "\n",
    "model.compile(loss=keras.losses.categorical_crossentropy,\n",
    "              optimizer=keras.optimizers.Adadelta(),\n",
    "              metrics=['accuracy'])"
   ]
  },
  {
   "cell_type": "markdown",
   "metadata": {},
   "source": [
    "### Train Model"
   ]
  },
  {
   "cell_type": "code",
   "execution_count": 470,
   "metadata": {
    "collapsed": false
   },
   "outputs": [
    {
     "name": "stdout",
     "output_type": "stream",
     "text": [
      "Train on 37044 samples, validate on 9262 samples\n",
      "Epoch 1/10\n",
      "37044/37044 [==============================] - 4s - loss: 0.6815 - acc: 0.5662 - val_loss: 0.6453 - val_acc: 0.7153\n",
      "Epoch 2/10\n",
      "37044/37044 [==============================] - 4s - loss: 0.5805 - acc: 0.7140 - val_loss: 0.5224 - val_acc: 0.7414\n",
      "Epoch 3/10\n",
      "37044/37044 [==============================] - 4s - loss: 0.4624 - acc: 0.7890 - val_loss: 0.4297 - val_acc: 0.8031\n",
      "Epoch 4/10\n",
      "37044/37044 [==============================] - 4s - loss: 0.4144 - acc: 0.8166 - val_loss: 0.3978 - val_acc: 0.8224\n",
      "Epoch 5/10\n",
      "37044/37044 [==============================] - 4s - loss: 0.3921 - acc: 0.8291 - val_loss: 0.3856 - val_acc: 0.8302\n",
      "Epoch 6/10\n",
      "37044/37044 [==============================] - 4s - loss: 0.3716 - acc: 0.8401 - val_loss: 0.3697 - val_acc: 0.8393\n",
      "Epoch 7/10\n",
      "37044/37044 [==============================] - 4s - loss: 0.3581 - acc: 0.8489 - val_loss: 0.3625 - val_acc: 0.8417\n",
      "Epoch 8/10\n",
      "37044/37044 [==============================] - 4s - loss: 0.3470 - acc: 0.8538 - val_loss: 0.3640 - val_acc: 0.8430\n",
      "Epoch 9/10\n",
      "37044/37044 [==============================] - 4s - loss: 0.3407 - acc: 0.8568 - val_loss: 0.3464 - val_acc: 0.8499\n",
      "Epoch 10/10\n",
      "37044/37044 [==============================] - 4s - loss: 0.3337 - acc: 0.8602 - val_loss: 0.3490 - val_acc: 0.8500\n",
      "Test loss: 0.34897923555456006\n",
      "Test accuracy: 0.8500323904253088\n"
     ]
    }
   ],
   "source": [
    "model.fit(x_train, y_train,\n",
    "          batch_size=128,\n",
    "          epochs=10,\n",
    "          verbose=1,\n",
    "          validation_data=(x_test, y_test))\n",
    "score = model.evaluate(x_test, y_test, verbose=0)\n",
    "print('Test loss:', score[0])\n",
    "print('Test accuracy:', score[1])"
   ]
  },
  {
   "cell_type": "markdown",
   "metadata": {},
   "source": [
    "## Functional API Implementation"
   ]
  },
  {
   "cell_type": "code",
   "execution_count": 592,
   "metadata": {
    "collapsed": false
   },
   "outputs": [],
   "source": [
    "num_classes = 2\n",
    "input_fwd = Input(shape=(200,4), name='input_fwd')\n",
    "\n",
    "shared_motif_convolution = Conv1D(filters=16, \n",
    "     kernel_size=24,\n",
    "     activation='relu',\n",
    "     input_shape=(200,4))\n",
    "\n",
    "motif_scores_fwd = shared_motif_convolution(input_fwd)\n",
    "\n",
    "max_seq_scores = MaxPooling1D(pool_size=176)(motif_scores_fwd)\n",
    "\n",
    "dense_out = Dense(32, activation='relu')(max_seq_scores)\n",
    "\n",
    "drop_out = Dropout(0.25)(dense_out)\n",
    "\n",
    "flattened = Flatten()(drop_out)\n",
    "\n",
    "predictions = Dense(num_classes, activation = 'softmax')(flattened)\n",
    "\n",
    "model = Model(inputs=input_fwd, outputs=predictions)\n",
    "model.compile(loss=keras.losses.categorical_crossentropy,\n",
    "              optimizer=keras.optimizers.Adadelta(),\n",
    "              metrics=['accuracy'])"
   ]
  },
  {
   "cell_type": "code",
   "execution_count": 587,
   "metadata": {
    "collapsed": false
   },
   "outputs": [
    {
     "name": "stdout",
     "output_type": "stream",
     "text": [
      "Train on 37044 samples, validate on 9262 samples\n",
      "Epoch 1/10\n",
      "37044/37044 [==============================] - 4s - loss: 0.6871 - acc: 0.5475 - val_loss: 0.6674 - val_acc: 0.6139\n",
      "Epoch 2/10\n",
      "37044/37044 [==============================] - 4s - loss: 0.5927 - acc: 0.7054 - val_loss: 0.5126 - val_acc: 0.7590\n",
      "Epoch 3/10\n",
      "37044/37044 [==============================] - 4s - loss: 0.4724 - acc: 0.7813 - val_loss: 0.4604 - val_acc: 0.7817\n",
      "Epoch 4/10\n",
      "37044/37044 [==============================] - 4s - loss: 0.4247 - acc: 0.8120 - val_loss: 0.4049 - val_acc: 0.8217\n",
      "Epoch 5/10\n",
      "37044/37044 [==============================] - 4s - loss: 0.3982 - acc: 0.8269 - val_loss: 0.3893 - val_acc: 0.8301\n",
      "Epoch 6/10\n",
      "37044/37044 [==============================] - 4s - loss: 0.3817 - acc: 0.8354 - val_loss: 0.3806 - val_acc: 0.8342\n",
      "Epoch 7/10\n",
      "37044/37044 [==============================] - 4s - loss: 0.3717 - acc: 0.8428 - val_loss: 0.3902 - val_acc: 0.8304\n",
      "Epoch 8/10\n",
      "37044/37044 [==============================] - 4s - loss: 0.3658 - acc: 0.8456 - val_loss: 0.3729 - val_acc: 0.8389\n",
      "Epoch 9/10\n",
      "37044/37044 [==============================] - 4s - loss: 0.3564 - acc: 0.8497 - val_loss: 0.3713 - val_acc: 0.8415\n",
      "Epoch 10/10\n",
      "37044/37044 [==============================] - 4s - loss: 0.3506 - acc: 0.8532 - val_loss: 0.3660 - val_acc: 0.8416\n",
      "Test loss: 0.3660328049680065\n",
      "Test accuracy: 0.8416108831785791\n"
     ]
    }
   ],
   "source": [
    "model.fit(x_train, y_train,\n",
    "          batch_size=128,\n",
    "          epochs=10,\n",
    "          verbose=1,\n",
    "          validation_data=(x_test, y_test))\n",
    "score = model.evaluate(x_test, y_test, verbose=0)\n",
    "print('Test loss:', score[0])\n",
    "print('Test accuracy:', score[1])"
   ]
  },
  {
   "cell_type": "markdown",
   "metadata": {},
   "source": [
    "## Define Model with Reverse Complement"
   ]
  },
  {
   "cell_type": "code",
   "execution_count": 890,
   "metadata": {
    "collapsed": false
   },
   "outputs": [],
   "source": [
    "sequences = []\n",
    "positive_seqRecords = list(SeqIO.parse('./c57bl6_atf3_veh_idr_peaks.fasta', 'fasta'))\n",
    "negative_seqRecords = list(SeqIO.parse('./background.fasta', 'fasta'))\n",
    "fasta_seq = [str(x.seq[:200]) for x in positive_seqRecords] + [str(x[:200].seq) for x in negative_seqRecords]"
   ]
  },
  {
   "cell_type": "code",
   "execution_count": 891,
   "metadata": {
    "collapsed": true
   },
   "outputs": [],
   "source": [
    "fasta_rc_seq = [str(x[:200].reverse_complement().seq) for x in positive_seqRecords] + \\\n",
    "    [str(x[:200].reverse_complement().seq) for x in negative_seqRecords]"
   ]
  },
  {
   "cell_type": "code",
   "execution_count": 892,
   "metadata": {
    "collapsed": true
   },
   "outputs": [],
   "source": [
    "sequence_arrays = convert_sequences_to_array(fasta_seq)\n",
    "sequence_arrays = np.array(sequence_arrays)"
   ]
  },
  {
   "cell_type": "code",
   "execution_count": 893,
   "metadata": {
    "collapsed": true
   },
   "outputs": [],
   "source": [
    "sequence_rc_arrays = convert_sequences_to_array(fasta_rc_seq)\n",
    "sequence_rc_arrays = np.array(sequence_rc_arrays)"
   ]
  },
  {
   "cell_type": "code",
   "execution_count": 1097,
   "metadata": {
    "collapsed": true
   },
   "outputs": [],
   "source": [
    "labels = [1 for x in positive_seqRecords] + [0 for x in negative_seqRecords]\n",
    "labels = np.array(labels)"
   ]
  },
  {
   "cell_type": "code",
   "execution_count": 1099,
   "metadata": {
    "collapsed": false
   },
   "outputs": [],
   "source": [
    "x_train, x_test, x_rc_train, x_rc_test, y_train, y_test = model_selection.train_test_split(sequence_arrays, sequence_rc_arrays, labels, test_size=0.2)"
   ]
  },
  {
   "cell_type": "code",
   "execution_count": 1100,
   "metadata": {
    "collapsed": true
   },
   "outputs": [],
   "source": [
    "num_classes = 2\n",
    "y_train = keras.utils.to_categorical(y_train, num_classes)\n",
    "y_test = keras.utils.to_categorical(y_test, num_classes)"
   ]
  },
  {
   "cell_type": "code",
   "execution_count": 1219,
   "metadata": {
    "collapsed": true
   },
   "outputs": [],
   "source": [
    "convolution_initializer = keras.initializers.glorot_normal()\n",
    "dense_initializer = keras.initializers.glorot_normal()"
   ]
  },
  {
   "cell_type": "code",
   "execution_count": 1211,
   "metadata": {
    "collapsed": false
   },
   "outputs": [],
   "source": [
    "convolution_initializer = keras.initializers.RandomNormal(mean=0,stddev=1e-2 ) # [1e-7, 1e-3]\n",
    "dense_initializer = keras.initializers.RandomNormal(mean=0, stddev=1e-1) # [1e-5, 1e-2]\\"
   ]
  },
  {
   "cell_type": "code",
   "execution_count": 1220,
   "metadata": {
    "collapsed": true
   },
   "outputs": [],
   "source": [
    "num_classes = 2\n",
    "motif_size = 24\n",
    "num_motifs = 16"
   ]
  },
  {
   "cell_type": "code",
   "execution_count": 1221,
   "metadata": {
    "collapsed": false
   },
   "outputs": [],
   "source": [
    "# define input tensors\n",
    "input_fwd = Input(shape=(200,4), name='input_fwd')\n",
    "input_rev = Input(shape=(200,4), name='input_rev')\n",
    "\n",
    "# fwd and reverse sequence should share convolution layer\n",
    "shared_motif_convolution = Conv1D(filters=num_motifs, \n",
    "     kernel_size=motif_size,\n",
    "     activation='relu',\n",
    "     input_shape=(200,4),\n",
    "     name = 'shared_motif_convolution',\n",
    "     kernel_initializer = convolution_initializer,\n",
    "     kernel_regularizer = keras.regularizers.l1(1e-5)\n",
    "    )\n",
    "\n",
    "# perform convolution on sequences and their reverse complement using the same convolution layer\n",
    "motif_scores_fwd = shared_motif_convolution(input_fwd)\n",
    "motif_scores_rev = shared_motif_convolution(input_rev)\n",
    "\n",
    "# take the best score from fwd or rev orientations for each motif\n",
    "max_strand_scores = Maximum()([motif_scores_fwd, motif_scores_rev])\n",
    "\n",
    "# take the highest score for each sequence\n",
    "max_seq_scores = MaxPooling1D(pool_size=200 - motif_size)(max_strand_scores)\n",
    "\n",
    "# fully connected layer\n",
    "dense_out = Dense(32, activation='relu', \n",
    "                  kernel_initializer= dense_initializer,\n",
    "                  kernel_regularizer=keras.regularizers.l1(1e-5)\n",
    "                 )(max_seq_scores)\n",
    "\n",
    "# drop out\n",
    "drop_out = Dropout(0.5)(dense_out)\n",
    "\n",
    "# make prediction\n",
    "flattened = Flatten()(drop_out)\n",
    "predictions = Dense(num_classes,\n",
    "                    activation = 'softmax', \n",
    "                    kernel_initializer=dense_initializer,\n",
    "                    kernel_regularizer = keras.regularizers.l1(1e-5)\n",
    "                   )(flattened)\n",
    "\n",
    "# define and compile model\n",
    "model = Model(inputs=[input_fwd, input_rev], outputs=predictions)\n",
    "\n",
    "# model.compile(loss=keras.losses.categorical_crossentropy,\n",
    "#               optimizer=keras.optimizers.sgd(lr = 0.05,\n",
    "# #                                              momentum=0.99, nesterov=True\n",
    "#                                             ),\n",
    "#               metrics=['accuracy'])\n",
    "model.compile(loss=keras.losses.categorical_crossentropy,\n",
    "              optimizer=keras.optimizers.Adam(),\n",
    "              metrics=['accuracy'])"
   ]
  },
  {
   "cell_type": "code",
   "execution_count": 1223,
   "metadata": {
    "collapsed": false
   },
   "outputs": [
    {
     "name": "stdout",
     "output_type": "stream",
     "text": [
      "Train on 37044 samples, validate on 9262 samples\n",
      "Epoch 1/20\n",
      "37044/37044 [==============================] - 7s - loss: 0.4781 - acc: 0.7809 - val_loss: 0.4057 - val_acc: 0.8201\n",
      "Epoch 2/20\n",
      "37044/37044 [==============================] - 7s - loss: 0.3962 - acc: 0.8317 - val_loss: 0.3935 - val_acc: 0.8227\n",
      "Epoch 3/20\n",
      "37044/37044 [==============================] - 7s - loss: 0.3612 - acc: 0.8514 - val_loss: 0.3668 - val_acc: 0.8432\n",
      "Epoch 4/20\n",
      "37044/37044 [==============================] - 7s - loss: 0.3312 - acc: 0.8651 - val_loss: 0.3243 - val_acc: 0.8643\n",
      "Epoch 5/20\n",
      "37044/37044 [==============================] - 7s - loss: 0.3149 - acc: 0.8741 - val_loss: 0.3066 - val_acc: 0.8732\n",
      "Epoch 6/20\n",
      "37044/37044 [==============================] - 7s - loss: 0.3059 - acc: 0.8795 - val_loss: 0.3070 - val_acc: 0.8707\n",
      "Epoch 7/20\n",
      "37044/37044 [==============================] - 7s - loss: 0.2989 - acc: 0.8805 - val_loss: 0.3020 - val_acc: 0.8757\n",
      "Epoch 8/20\n",
      "37044/37044 [==============================] - 7s - loss: 0.2923 - acc: 0.8826 - val_loss: 0.3067 - val_acc: 0.8693\n",
      "Epoch 9/20\n",
      "37044/37044 [==============================] - 7s - loss: 0.2842 - acc: 0.8869 - val_loss: 0.2976 - val_acc: 0.8782\n",
      "Epoch 10/20\n",
      "37044/37044 [==============================] - 8s - loss: 0.2778 - acc: 0.8911 - val_loss: 0.2868 - val_acc: 0.8843\n",
      "Epoch 11/20\n",
      "37044/37044 [==============================] - 7s - loss: 0.2720 - acc: 0.8916 - val_loss: 0.2852 - val_acc: 0.8839\n",
      "Epoch 12/20\n",
      "37044/37044 [==============================] - 7s - loss: 0.2717 - acc: 0.8944 - val_loss: 0.2833 - val_acc: 0.8837\n",
      "Epoch 13/20\n",
      "37044/37044 [==============================] - 7s - loss: 0.2664 - acc: 0.8968 - val_loss: 0.2836 - val_acc: 0.8856\n",
      "Epoch 14/20\n",
      "37044/37044 [==============================] - 8s - loss: 0.2643 - acc: 0.8951 - val_loss: 0.2823 - val_acc: 0.8892\n",
      "Epoch 15/20\n",
      "37044/37044 [==============================] - 7s - loss: 0.2623 - acc: 0.8979 - val_loss: 0.2823 - val_acc: 0.8854\n",
      "Epoch 16/20\n",
      "37044/37044 [==============================] - 7s - loss: 0.2600 - acc: 0.8976 - val_loss: 0.2810 - val_acc: 0.8846\n",
      "Epoch 17/20\n",
      "37044/37044 [==============================] - 8s - loss: 0.2586 - acc: 0.8983 - val_loss: 0.2783 - val_acc: 0.8881\n",
      "Epoch 18/20\n",
      "37044/37044 [==============================] - 7s - loss: 0.2557 - acc: 0.9004 - val_loss: 0.2787 - val_acc: 0.8879\n",
      "Epoch 19/20\n",
      "37044/37044 [==============================] - 8s - loss: 0.2552 - acc: 0.9003 - val_loss: 0.2840 - val_acc: 0.8815\n",
      "Epoch 20/20\n",
      "37044/37044 [==============================] - 8s - loss: 0.2548 - acc: 0.9004 - val_loss: 0.2911 - val_acc: 0.8871\n",
      "Test loss: 0.29114784774374713\n",
      "Test accuracy: 0.8870654286331245\n"
     ]
    }
   ],
   "source": [
    "model.fit([x_train, x_rc_train], y_train,\n",
    "          batch_size=64,\n",
    "          epochs=20,\n",
    "          verbose=1,\n",
    "          validation_data=([x_test, x_rc_test], y_test))\n",
    "score = model.evaluate([x_test, x_rc_test], y_test, verbose=0)\n",
    "print('Test loss:', score[0])\n",
    "print('Test accuracy:', score[1])"
   ]
  },
  {
   "cell_type": "code",
   "execution_count": 1224,
   "metadata": {
    "collapsed": false
   },
   "outputs": [],
   "source": [
    "weights = model.get_layer('shared_motif_convolution').get_weights()"
   ]
  },
  {
   "cell_type": "code",
   "execution_count": 1230,
   "metadata": {
    "collapsed": true
   },
   "outputs": [],
   "source": [
    "motifs = weights[0]"
   ]
  },
  {
   "cell_type": "code",
   "execution_count": 1121,
   "metadata": {
    "collapsed": true
   },
   "outputs": [],
   "source": [
    "index_seq_dict = dict(zip(range(4), ['A','C', 'G', 'T']))"
   ]
  },
  {
   "cell_type": "code",
   "execution_count": 1234,
   "metadata": {
    "collapsed": false,
    "scrolled": false
   },
   "outputs": [
    {
     "name": "stdout",
     "output_type": "stream",
     "text": [
      "GTACATACCTGGGGAGTCCAGATC\n"
     ]
    },
    {
     "data": {
      "image/png": "[encoded data removed]",
      "text/plain": [
       "<matplotlib.figure.Figure at 0x7f68fbee3b38>"
      ]
     },
     "metadata": {},
     "output_type": "display_data"
    },
    {
     "name": "stdout",
     "output_type": "stream",
     "text": [
      "AAAGGCGATTACGTCATCGTGCGG\n"
     ]
    },
    {
     "data": {
      "image/png": "[encoded data removed]",
      "text/plain": [
       "<matplotlib.figure.Figure at 0x7f69203f6d30>"
      ]
     },
     "metadata": {},
     "output_type": "display_data"
    },
    {
     "name": "stdout",
     "output_type": "stream",
     "text": [
      "TAAATTCTTTTCAATTAGATTGGT\n"
     ]
    },
    {
     "data": {
      "image/png": "[encoded data removed]",
      "text/plain": [
       "<matplotlib.figure.Figure at 0x7f68fbd397f0>"
      ]
     },
     "metadata": {},
     "output_type": "display_data"
    },
    {
     "name": "stdout",
     "output_type": "stream",
     "text": [
      "AAGCGGAAGTGAGACCGGGGTGAT\n"
     ]
    },
    {
     "data": {
      "image/png": "[encoded data removed]",
      "text/plain": [
       "<matplotlib.figure.Figure at 0x7f68bb1c6b00>"
      ]
     },
     "metadata": {},
     "output_type": "display_data"
    },
    {
     "name": "stdout",
     "output_type": "stream",
     "text": [
      "GTCGTACCATTTACTGACCGACCA\n"
     ]
    },
    {
     "data": {
      "image/png": "[encoded data removed]",
      "text/plain": [
       "<matplotlib.figure.Figure at 0x7f68bb05a4e0>"
      ]
     },
     "metadata": {},
     "output_type": "display_data"
    },
    {
     "name": "stdout",
     "output_type": "stream",
     "text": [
      "GCATCCAGAGGTATATAGAACGAG\n"
     ]
    },
    {
     "data": {
      "image/png": "[encoded data removed]",
      "text/plain": [
       "<matplotlib.figure.Figure at 0x7f68baf30470>"
      ]
     },
     "metadata": {},
     "output_type": "display_data"
    },
    {
     "name": "stdout",
     "output_type": "stream",
     "text": [
      "CTTTATACCTCAAACTGTCCATAA\n"
     ]
    },
    {
     "data": {
      "image/png": "[encoded data removed]",
      "text/plain": [
       "<matplotlib.figure.Figure at 0x7f68bae84128>"
      ]
     },
     "metadata": {},
     "output_type": "display_data"
    },
    {
     "name": "stdout",
     "output_type": "stream",
     "text": [
      "CTAGTCACGCGCGCGCGGCGGATG\n"
     ]
    },
    {
     "data": {
      "image/png": "[encoded data removed]",
      "text/plain": [
       "<matplotlib.figure.Figure at 0x7f68bab82b70>"
      ]
     },
     "metadata": {},
     "output_type": "display_data"
    },
    {
     "name": "stdout",
     "output_type": "stream",
     "text": [
      "TAGCCTCGAACAAGGATGAGTCAT\n"
     ]
    },
    {
     "data": {
      "image/png": "[encoded data removed]",
      "text/plain": [
       "<matplotlib.figure.Figure at 0x7f68ba9fa978>"
      ]
     },
     "metadata": {},
     "output_type": "display_data"
    },
    {
     "name": "stdout",
     "output_type": "stream",
     "text": [
      "AGATTAATTCTCTAGGATATTCTA\n"
     ]
    },
    {
     "data": {
      "image/png": "[encoded data removed]",
      "text/plain": [
       "<matplotlib.figure.Figure at 0x7f68ba875be0>"
      ]
     },
     "metadata": {},
     "output_type": "display_data"
    },
    {
     "name": "stdout",
     "output_type": "stream",
     "text": [
      "AATATCGGGGACCCCTATTTAAGG\n"
     ]
    },
    {
     "data": {
      "image/png": "[encoded data removed]",
      "text/plain": [
       "<matplotlib.figure.Figure at 0x7f68baa17320>"
      ]
     },
     "metadata": {},
     "output_type": "display_data"
    },
    {
     "name": "stdout",
     "output_type": "stream",
     "text": [
      "CCGATTACGCAATACGGGGCGTCC\n"
     ]
    },
    {
     "data": {
      "image/png": "[encoded data removed]",
      "text/plain": [
       "<matplotlib.figure.Figure at 0x7f68ba716400>"
      ]
     },
     "metadata": {},
     "output_type": "display_data"
    },
    {
     "name": "stdout",
     "output_type": "stream",
     "text": [
      "ATATATGGGATGGATGCACCTAAT\n"
     ]
    },
    {
     "data": {
      "image/png": "[encoded data removed]",
      "text/plain": [
       "<matplotlib.figure.Figure at 0x7f68ba414978>"
      ]
     },
     "metadata": {},
     "output_type": "display_data"
    },
    {
     "name": "stdout",
     "output_type": "stream",
     "text": [
      "CATATTGGAGCTGGGTATGCTCCT\n"
     ]
    },
    {
     "data": {
      "image/png": "[encoded data removed]",
      "text/plain": [
       "<matplotlib.figure.Figure at 0x7f68ba35fe48>"
      ]
     },
     "metadata": {},
     "output_type": "display_data"
    },
    {
     "name": "stdout",
     "output_type": "stream",
     "text": [
      "ATAGTTGTAGACCACCTGTACAAG\n"
     ]
    },
    {
     "data": {
      "image/png": "[encoded data removed]",
      "text/plain": [
       "<matplotlib.figure.Figure at 0x7f68ba16fcf8>"
      ]
     },
     "metadata": {},
     "output_type": "display_data"
    },
    {
     "name": "stdout",
     "output_type": "stream",
     "text": [
      "GGATCCAAGGACCTATAGGGGTGC\n"
     ]
    },
    {
     "data": {
      "image/png": "[encoded data removed]",
      "text/plain": [
       "<matplotlib.figure.Figure at 0x7f68b9f8a908>"
      ]
     },
     "metadata": {},
     "output_type": "display_data"
    },
    {
     "name": "stdout",
     "output_type": "stream",
     "text": [
      "GTACATACCTGGGGAGTCCAGATC\n",
      "AAAGGCGATTACGTCATCGTGCGG\n",
      "TAAATTCTTTTCAATTAGATTGGT\n",
      "AAGCGGAAGTGAGACCGGGGTGAT\n",
      "GTCGTACCATTTACTGACCGACCA\n",
      "GCATCCAGAGGTATATAGAACGAG\n",
      "CTTTATACCTCAAACTGTCCATAA\n",
      "CTAGTCACGCGCGCGCGGCGGATG\n",
      "TAGCCTCGAACAAGGATGAGTCAT\n",
      "AGATTAATTCTCTAGGATATTCTA\n",
      "AATATCGGGGACCCCTATTTAAGG\n",
      "CCGATTACGCAATACGGGGCGTCC\n",
      "ATATATGGGATGGATGCACCTAAT\n",
      "CATATTGGAGCTGGGTATGCTCCT\n",
      "ATAGTTGTAGACCACCTGTACAAG\n",
      "GGATCCAAGGACCTATAGGGGTGC\n"
     ]
    }
   ],
   "source": [
    "seq_list = []\n",
    "for i in range(num_motifs):\n",
    "    motif = motifs[:,:,i]\n",
    "    normed_motif = np.array([row - np.mean(row) for row in motif])\n",
    "    \n",
    "    sequence = ''.join([index_seq_dict[np.argmax(x)] for x in motif])\n",
    "    seq_list.append(sequence)\n",
    "    normed_motif = pd.DataFrame(normed_motif, index = list(sequence), columns=['A','C','G','T'])\n",
    "    print(sequence)\n",
    "    cg = sns.clustermap(normed_motif,\n",
    "#                   z_score=0,\n",
    "                  row_cluster = False,\n",
    "                  col_cluster=False,\n",
    "#                   vmin=-0.2,\n",
    "#                   vmax=0.2\n",
    "                  )\n",
    "    plt.setp(cg.ax_heatmap.yaxis.get_majorticklabels(), rotation=0)\n",
    "    plt.show()\n",
    "for s in seq_list:\n",
    "    print(s)"
   ]
  },
  {
   "cell_type": "markdown",
   "metadata": {},
   "source": [
    "## Create Logos"
   ]
  },
  {
   "cell_type": "code",
   "execution_count": 1235,
   "metadata": {
    "collapsed": false
   },
   "outputs": [],
   "source": [
    "positive_fasta_seq = [str(x.seq[:200]) for x in positive_seqRecords]\n",
    "positive_fasta_rc_seq = [str(x[:200].reverse_complement().seq) for x in positive_seqRecords]\n",
    "positive_sequence_arrays = convert_sequences_to_array(positive_fasta_seq)\n",
    "positive_sequence_rc_arrays = convert_sequences_to_array(positive_fasta_rc_seq)\n"
   ]
  },
  {
   "cell_type": "code",
   "execution_count": 1236,
   "metadata": {
    "collapsed": true
   },
   "outputs": [],
   "source": [
    "motifs = weights[0]\n",
    "biases = weights[1]\n",
    "alphabet = Bio.Seq.IUPAC.Alphabet.IUPAC.IUPACUnambiguousDNA()\n",
    "\n"
   ]
  },
  {
   "cell_type": "code",
   "execution_count": null,
   "metadata": {
    "collapsed": false,
    "scrolled": true
   },
   "outputs": [],
   "source": [
    "bio_motifs_list = []\n",
    "for i,b in zip(range(len(motifs)), biases):\n",
    "    current_motif = motifs[:,:,i]\n",
    "    current_size = current_motif.shape[0]\n",
    "    # loop through sequences\n",
    "    sequences = []\n",
    "    scores = []\n",
    "    counter = 0\n",
    "    for fwd_seq, rev_seq in zip(positive_sequence_arrays, positive_sequence_rc_arrays):\n",
    "        max_score = -1\n",
    "        max_seq = None\n",
    "        for i in range(fwd_seq.shape[0] - current_size + 1):\n",
    "            sub_seq = fwd_seq[i:i+current_size]\n",
    "            score = (current_motif*sub_seq).sum() + b\n",
    "            if score > max_score:\n",
    "                max_score = score\n",
    "                max_seq = sub_seq\n",
    "            scores.append(score)\n",
    "        for i in range(rev_seq.shape[0] - current_size + 1):\n",
    "            sub_seq = rev_seq[i:i+current_size]\n",
    "            score = (current_motif*sub_seq).sum() + b\n",
    "            if score > max_score:\n",
    "                max_score = score\n",
    "                max_seq = sub_seq\n",
    "            scores.append(score)\n",
    "        if max_score > 0:\n",
    "            sequences.append(max_seq)\n",
    "        counter += 1\n",
    "        if counter % 10000 == 0:\n",
    "            print(counter)\n",
    "    if len(sequences) > 0:\n",
    "        counts = np.array(sequences).sum(axis=0)\n",
    "        counts_dict = {x[0]:x[1] for x in zip(list('ACGT'), counts.T)}\n",
    "        bio_motif = Bio.motifs.Motif(alphabet = alphabet, counts = counts_dict)\n",
    "        bio_motifs_list.append(bio_motif)"
   ]
  },
  {
   "cell_type": "code",
   "execution_count": null,
   "metadata": {
    "collapsed": true
   },
   "outputs": [],
   "source": [
    "for i in range(len(bio_motifs_list)):\n",
    "    bm = bio_motifs_list[i]\n",
    "    bm.weblogo('motif_' +str(i) + '.pdf', format='PDF')"
   ]
  },
  {
   "cell_type": "code",
   "execution_count": null,
   "metadata": {
    "collapsed": true
   },
   "outputs": [],
   "source": []
  }
 ],
 "metadata": {
  "kernelspec": {
   "display_name": "Python [Root]",
   "language": "python",
   "name": "Python [Root]"
  },
  "language_info": {
   "codemirror_mode": {
    "name": "ipython",
    "version": 3
   },
   "file_extension": ".py",
   "mimetype": "text/x-python",
   "name": "python",
   "nbconvert_exporter": "python",
   "pygments_lexer": "ipython3",
   "version": "3.5.1"
  }
 },
 "nbformat": 4,
 "nbformat_minor": 0
}
