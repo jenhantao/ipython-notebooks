{
 "cells": [
  {
   "cell_type": "markdown",
   "metadata": {},
   "source": [
    "# DeepBind Analysis"
   ]
  },
  {
   "cell_type": "markdown",
   "metadata": {},
   "source": [
    "## Imports"
   ]
  },
  {
   "cell_type": "code",
   "execution_count": 1,
   "metadata": {
    "collapsed": false
   },
   "outputs": [
    {
     "name": "stderr",
     "output_type": "stream",
     "text": [
      "Using TensorFlow backend.\n"
     ]
    }
   ],
   "source": [
    "from __future__ import print_function\n",
    "import keras\n",
    "from keras.datasets import mnist\n",
    "from keras.models import Sequential\n",
    "from keras.layers import Input, Maximum, Dense, Dropout, Flatten\n",
    "from keras.layers import Conv1D, MaxPooling1D\n",
    "from keras.layers import Conv2D, MaxPooling2D\n",
    "from keras.models import Model\n",
    "\n",
    "from keras import backend as K"
   ]
  },
  {
   "cell_type": "code",
   "execution_count": 38,
   "metadata": {
    "collapsed": true
   },
   "outputs": [],
   "source": [
    "import os\n",
    "import numpy as np\n",
    "import Bio\n",
    "from Bio import SeqIO\n",
    "import seaborn as sns\n",
    "import pandas as pd\n",
    "\n",
    "%matplotlib inline\n",
    "\n",
    "from sklearn import model_selection\n",
    "\n",
    "import seaborn as sns\n",
    "from matplotlib import pyplot as plt"
   ]
  },
  {
   "cell_type": "code",
   "execution_count": 18,
   "metadata": {
    "collapsed": false
   },
   "outputs": [],
   "source": [
    "if not os.path.isdir('/home/jtao/analysis/deepbind_analysis'):\n",
    "    os.mkdir('/home/jtao/analysis/deepbind_analysis')\n",
    "os.chdir('/home/jtao/analysis/deepbind_analysis')"
   ]
  },
  {
   "cell_type": "code",
   "execution_count": 2,
   "metadata": {
    "collapsed": true
   },
   "outputs": [],
   "source": [
    "batch_size = 128\n",
    "num_classes = 10\n",
    "epochs = 12"
   ]
  },
  {
   "cell_type": "markdown",
   "metadata": {},
   "source": [
    "## Copy Fasta File and Background"
   ]
  },
  {
   "cell_type": "code",
   "execution_count": 779,
   "metadata": {
    "collapsed": false
   },
   "outputs": [],
   "source": [
    "! cp /home/jtao/analysis/ap1_fdr_analysis/idr_peak_files/c57bl6_atf3_veh_idr_peaks.tsv ./"
   ]
  },
  {
   "cell_type": "code",
   "execution_count": 885,
   "metadata": {
    "collapsed": false
   },
   "outputs": [],
   "source": [
    "target_peak_size = 200\n",
    "current_peak_frame = pd.read_csv('./c57bl6_atf3_veh_idr_peaks.tsv', sep='\\t' )\n",
    "peakCenters = (current_peak_frame['start'] + current_peak_frame['end']) /2\n",
    "int_peakCenters = np.ceil(peakCenters).astype(int)\n",
    "new_starts = int_peakCenters - int(target_peak_size/2)\n",
    "new_ends = int_peakCenters + int(target_peak_size/2)\n",
    "current_peak_frame['start'] = new_starts\n",
    "current_peak_frame['end'] = new_ends\n",
    "current_peak_frame.to_csv('./c57bl6_atf3_veh_resized_peaks.tsv', sep='\\t', index=False)"
   ]
  },
  {
   "cell_type": "code",
   "execution_count": 886,
   "metadata": {
    "collapsed": false
   },
   "outputs": [
    {
     "name": "stdout",
     "output_type": "stream",
     "text": [
      "\r\n",
      "\tConverted 23160 peaks total\r\n",
      "\r\n"
     ]
    }
   ],
   "source": [
    "! pos2bed.pl ./c57bl6_atf3_veh_resized_peaks.tsv > ./c57bl6_atf3_veh_idr_peaks.bed"
   ]
  },
  {
   "cell_type": "code",
   "execution_count": 887,
   "metadata": {
    "collapsed": false
   },
   "outputs": [
    {
     "name": "stdout",
     "output_type": "stream",
     "text": [
      "reading genome mm10\r\n"
     ]
    }
   ],
   "source": [
    "! /home/jtao/code/tba/model_training/extract_sequences.py ./c57bl6_atf3_veh_idr_peaks.bed mm10 ./c57bl6_atf3_veh_idr_peaks.fasta"
   ]
  },
  {
   "cell_type": "code",
   "execution_count": 888,
   "metadata": {
    "collapsed": false
   },
   "outputs": [
    {
     "name": "stdout",
     "output_type": "stream",
     "text": [
      "filtering out: chrM chrY\n",
      "reading genome mm10\n",
      "done reading genome\n",
      "0 0\n",
      "target GC: 0.3800343317878802 background GC: 0.3769579678174266 target length: 201 numTargetPositions 2316 backgroundPositions 2316\n",
      "0 0\n",
      "target GC: 0.4188299824646237 background GC: 0.4160061731560868 target length: 201 numTargetPositions 2316 backgroundPositions 2316\n",
      "0 0\n",
      "target GC: 0.4404232205932298 background GC: 0.4392174968791277 target length: 201 numTargetPositions 2316 backgroundPositions 2316\n",
      "0 0\n",
      "target GC: 0.4578405042088684 background GC: 0.45465218228076587 target length: 201 numTargetPositions 2315 backgroundPositions 2315\n",
      "0 0\n",
      "target GC: 0.4735631833138448 background GC: 0.4686653978571801 target length: 201 numTargetPositions 2315 backgroundPositions 2315\n",
      "0 0\n",
      "target GC: 0.4895179632038591 background GC: 0.48386331073701777 target length: 201 numTargetPositions 2315 backgroundPositions 2315\n",
      "0 0\n",
      "target GC: 0.5072371388764302 background GC: 0.5009644376963623 target length: 201 numTargetPositions 2315 backgroundPositions 2315\n",
      "0 0\n",
      "target GC: 0.5286548835402075 background GC: 0.5197014733869684 target length: 201 numTargetPositions 2315 backgroundPositions 2315\n",
      "0 0\n",
      "target GC: 0.5619570480304636 background GC: 0.5532343947136511 target length: 201 numTargetPositions 2315 backgroundPositions 2315\n",
      "0 0\n",
      "target GC: 0.6563232097991232 background GC: 0.6473793383656636 target length: 201 numTargetPositions 2315 backgroundPositions 2315\n"
     ]
    }
   ],
   "source": [
    "! /home/jtao/code/tba/model_training/generate_background_coordinates.py ./c57bl6_atf3_veh_idr_peaks.bed ./ #-filterChromosomes chrY"
   ]
  },
  {
   "cell_type": "markdown",
   "metadata": {},
   "source": [
    "## Sequential API Implementation"
   ]
  },
  {
   "cell_type": "markdown",
   "metadata": {},
   "source": [
    "### Set up Training and Test Data"
   ]
  },
  {
   "cell_type": "code",
   "execution_count": 889,
   "metadata": {
    "collapsed": false
   },
   "outputs": [],
   "source": [
    "def convert_sequences_to_array(sequences):\n",
    "    '''\n",
    "    inputs: sequence of nucleotides represented as a string composed of A, C, G, T\n",
    "    outputs: a list of numpy array representations of a sequence with:\n",
    "             A = [1, 0, 0, 0]\n",
    "             C = [0, 1, 0, 0]\n",
    "             G = [0, 0, 1, 0]\n",
    "             T = [0, 0, 0, 1]\n",
    "             \n",
    "    '''\n",
    "\n",
    "    nucleotide_array_dict = {'A': [1, 0, 0, 0],\n",
    "                             'C': [0, 1, 0, 0],\n",
    "                             'G': [0, 0, 1, 0],\n",
    "                             'T': [0, 0, 0, 1],\n",
    "                             'N': [0.25,0.25,0.25,0.25]}\n",
    "\n",
    "    sequence_array_list = []\n",
    "    for seq in sequences:\n",
    "        seq_array = []\n",
    "        for nuc in seq:\n",
    "            seq_array.append(nucleotide_array_dict[nuc])\n",
    "        seq_array = np.array(seq_array)\n",
    "        sequence_array_list.append(seq_array)\n",
    "    return sequence_array_list"
   ]
  },
  {
   "cell_type": "code",
   "execution_count": 434,
   "metadata": {
    "collapsed": false
   },
   "outputs": [],
   "source": [
    "sequences = []\n",
    "positive_seqRecords = list(SeqIO.parse('./c57bl6_atf3_veh_idr_peaks.fasta', 'fasta'))\n",
    "negative_seqRecords = list(SeqIO.parse('./background.fasta', 'fasta'))\n",
    "\n",
    "fasta_seq = [str(x.seq)[:200] for x in positive_seqRecords] + [str(x.seq)[:200] for x in negative_seqRecords]"
   ]
  },
  {
   "cell_type": "code",
   "execution_count": 435,
   "metadata": {
    "collapsed": true
   },
   "outputs": [],
   "source": [
    "\n",
    "labels = [1 for x in positive_seqRecords] + [0 for x in negative_seqRecords]\n",
    "labels = np.array(labels)"
   ]
  },
  {
   "cell_type": "code",
   "execution_count": 436,
   "metadata": {
    "collapsed": true
   },
   "outputs": [],
   "source": [
    "sequence_arrays = convert_sequences_to_array(fasta_seq)\n",
    "sequence_arrays = np.array(sequence_arrays)"
   ]
  },
  {
   "cell_type": "code",
   "execution_count": 437,
   "metadata": {
    "collapsed": false
   },
   "outputs": [],
   "source": [
    "x_train, x_test, y_train, y_test = model_selection.train_test_split(sequence_arrays, labels, test_size=0.2)"
   ]
  },
  {
   "cell_type": "code",
   "execution_count": 438,
   "metadata": {
    "collapsed": true
   },
   "outputs": [],
   "source": [
    "num_classes = 2\n",
    "y_train = keras.utils.to_categorical(y_train, num_classes)\n",
    "y_test = keras.utils.to_categorical(y_test, num_classes)"
   ]
  },
  {
   "cell_type": "markdown",
   "metadata": {},
   "source": [
    "### Define Model"
   ]
  },
  {
   "cell_type": "code",
   "execution_count": 469,
   "metadata": {
    "collapsed": false
   },
   "outputs": [],
   "source": [
    "num_classes = 2\n",
    "model = Sequential()\n",
    "model.add(Conv1D(filters=16, \n",
    "                 kernel_size=24,\n",
    "                 activation='relu',\n",
    "                 input_shape=(200,4)))\n",
    "model.add(MaxPooling1D(pool_size=176))\n",
    "model.add(Dense(32, activation='relu'))\n",
    "\n",
    "model.add(Dropout(0.25))\n",
    "model.add(Flatten())\n",
    "model.add(Dense(num_classes, activation='softmax'))\n",
    "\n",
    "model.compile(loss=keras.losses.categorical_crossentropy,\n",
    "              optimizer=keras.optimizers.Adadelta(),\n",
    "              metrics=['accuracy'])"
   ]
  },
  {
   "cell_type": "markdown",
   "metadata": {},
   "source": [
    "### Train Model"
   ]
  },
  {
   "cell_type": "code",
   "execution_count": 470,
   "metadata": {
    "collapsed": false
   },
   "outputs": [
    {
     "name": "stdout",
     "output_type": "stream",
     "text": [
      "Train on 37044 samples, validate on 9262 samples\n",
      "Epoch 1/10\n",
      "37044/37044 [==============================] - 4s - loss: 0.6815 - acc: 0.5662 - val_loss: 0.6453 - val_acc: 0.7153\n",
      "Epoch 2/10\n",
      "37044/37044 [==============================] - 4s - loss: 0.5805 - acc: 0.7140 - val_loss: 0.5224 - val_acc: 0.7414\n",
      "Epoch 3/10\n",
      "37044/37044 [==============================] - 4s - loss: 0.4624 - acc: 0.7890 - val_loss: 0.4297 - val_acc: 0.8031\n",
      "Epoch 4/10\n",
      "37044/37044 [==============================] - 4s - loss: 0.4144 - acc: 0.8166 - val_loss: 0.3978 - val_acc: 0.8224\n",
      "Epoch 5/10\n",
      "37044/37044 [==============================] - 4s - loss: 0.3921 - acc: 0.8291 - val_loss: 0.3856 - val_acc: 0.8302\n",
      "Epoch 6/10\n",
      "37044/37044 [==============================] - 4s - loss: 0.3716 - acc: 0.8401 - val_loss: 0.3697 - val_acc: 0.8393\n",
      "Epoch 7/10\n",
      "37044/37044 [==============================] - 4s - loss: 0.3581 - acc: 0.8489 - val_loss: 0.3625 - val_acc: 0.8417\n",
      "Epoch 8/10\n",
      "37044/37044 [==============================] - 4s - loss: 0.3470 - acc: 0.8538 - val_loss: 0.3640 - val_acc: 0.8430\n",
      "Epoch 9/10\n",
      "37044/37044 [==============================] - 4s - loss: 0.3407 - acc: 0.8568 - val_loss: 0.3464 - val_acc: 0.8499\n",
      "Epoch 10/10\n",
      "37044/37044 [==============================] - 4s - loss: 0.3337 - acc: 0.8602 - val_loss: 0.3490 - val_acc: 0.8500\n",
      "Test loss: 0.34897923555456006\n",
      "Test accuracy: 0.8500323904253088\n"
     ]
    }
   ],
   "source": [
    "model.fit(x_train, y_train,\n",
    "          batch_size=128,\n",
    "          epochs=10,\n",
    "          verbose=1,\n",
    "          validation_data=(x_test, y_test))\n",
    "score = model.evaluate(x_test, y_test, verbose=0)\n",
    "print('Test loss:', score[0])\n",
    "print('Test accuracy:', score[1])"
   ]
  },
  {
   "cell_type": "markdown",
   "metadata": {},
   "source": [
    "## Functional API Implementation"
   ]
  },
  {
   "cell_type": "code",
   "execution_count": 592,
   "metadata": {
    "collapsed": false
   },
   "outputs": [],
   "source": [
    "num_classes = 2\n",
    "input_fwd = Input(shape=(200,4), name='input_fwd')\n",
    "\n",
    "shared_motif_convolution = Conv1D(filters=16, \n",
    "     kernel_size=24,\n",
    "     activation='relu',\n",
    "     input_shape=(200,4))\n",
    "\n",
    "motif_scores_fwd = shared_motif_convolution(input_fwd)\n",
    "\n",
    "max_seq_scores = MaxPooling1D(pool_size=176)(motif_scores_fwd)\n",
    "\n",
    "dense_out = Dense(32, activation='relu')(max_seq_scores)\n",
    "\n",
    "drop_out = Dropout(0.25)(dense_out)\n",
    "\n",
    "flattened = Flatten()(drop_out)\n",
    "\n",
    "predictions = Dense(num_classes, activation = 'softmax')(flattened)\n",
    "\n",
    "model = Model(inputs=input_fwd, outputs=predictions)\n",
    "model.compile(loss=keras.losses.categorical_crossentropy,\n",
    "              optimizer=keras.optimizers.Adadelta(),\n",
    "              metrics=['accuracy'])"
   ]
  },
  {
   "cell_type": "code",
   "execution_count": 587,
   "metadata": {
    "collapsed": false
   },
   "outputs": [
    {
     "name": "stdout",
     "output_type": "stream",
     "text": [
      "Train on 37044 samples, validate on 9262 samples\n",
      "Epoch 1/10\n",
      "37044/37044 [==============================] - 4s - loss: 0.6871 - acc: 0.5475 - val_loss: 0.6674 - val_acc: 0.6139\n",
      "Epoch 2/10\n",
      "37044/37044 [==============================] - 4s - loss: 0.5927 - acc: 0.7054 - val_loss: 0.5126 - val_acc: 0.7590\n",
      "Epoch 3/10\n",
      "37044/37044 [==============================] - 4s - loss: 0.4724 - acc: 0.7813 - val_loss: 0.4604 - val_acc: 0.7817\n",
      "Epoch 4/10\n",
      "37044/37044 [==============================] - 4s - loss: 0.4247 - acc: 0.8120 - val_loss: 0.4049 - val_acc: 0.8217\n",
      "Epoch 5/10\n",
      "37044/37044 [==============================] - 4s - loss: 0.3982 - acc: 0.8269 - val_loss: 0.3893 - val_acc: 0.8301\n",
      "Epoch 6/10\n",
      "37044/37044 [==============================] - 4s - loss: 0.3817 - acc: 0.8354 - val_loss: 0.3806 - val_acc: 0.8342\n",
      "Epoch 7/10\n",
      "37044/37044 [==============================] - 4s - loss: 0.3717 - acc: 0.8428 - val_loss: 0.3902 - val_acc: 0.8304\n",
      "Epoch 8/10\n",
      "37044/37044 [==============================] - 4s - loss: 0.3658 - acc: 0.8456 - val_loss: 0.3729 - val_acc: 0.8389\n",
      "Epoch 9/10\n",
      "37044/37044 [==============================] - 4s - loss: 0.3564 - acc: 0.8497 - val_loss: 0.3713 - val_acc: 0.8415\n",
      "Epoch 10/10\n",
      "37044/37044 [==============================] - 4s - loss: 0.3506 - acc: 0.8532 - val_loss: 0.3660 - val_acc: 0.8416\n",
      "Test loss: 0.3660328049680065\n",
      "Test accuracy: 0.8416108831785791\n"
     ]
    }
   ],
   "source": [
    "model.fit(x_train, y_train,\n",
    "          batch_size=128,\n",
    "          epochs=10,\n",
    "          verbose=1,\n",
    "          validation_data=(x_test, y_test))\n",
    "score = model.evaluate(x_test, y_test, verbose=0)\n",
    "print('Test loss:', score[0])\n",
    "print('Test accuracy:', score[1])"
   ]
  },
  {
   "cell_type": "markdown",
   "metadata": {},
   "source": [
    "## Define Model with Reverse Complement"
   ]
  },
  {
   "cell_type": "code",
   "execution_count": 890,
   "metadata": {
    "collapsed": false
   },
   "outputs": [],
   "source": [
    "sequences = []\n",
    "positive_seqRecords = list(SeqIO.parse('./c57bl6_atf3_veh_idr_peaks.fasta', 'fasta'))\n",
    "negative_seqRecords = list(SeqIO.parse('./background.fasta', 'fasta'))\n",
    "fasta_seq = [str(x.seq[:200]) for x in positive_seqRecords] + [str(x[:200].seq) for x in negative_seqRecords]"
   ]
  },
  {
   "cell_type": "code",
   "execution_count": 891,
   "metadata": {
    "collapsed": true
   },
   "outputs": [],
   "source": [
    "fasta_rc_seq = [str(x[:200].reverse_complement().seq) for x in positive_seqRecords] + \\\n",
    "    [str(x[:200].reverse_complement().seq) for x in negative_seqRecords]"
   ]
  },
  {
   "cell_type": "code",
   "execution_count": 892,
   "metadata": {
    "collapsed": true
   },
   "outputs": [],
   "source": [
    "sequence_arrays = convert_sequences_to_array(fasta_seq)\n",
    "sequence_arrays = np.array(sequence_arrays)"
   ]
  },
  {
   "cell_type": "code",
   "execution_count": 893,
   "metadata": {
    "collapsed": true
   },
   "outputs": [],
   "source": [
    "sequence_rc_arrays = convert_sequences_to_array(fasta_rc_seq)\n",
    "sequence_rc_arrays = np.array(sequence_rc_arrays)"
   ]
  },
  {
   "cell_type": "code",
   "execution_count": 894,
   "metadata": {
    "collapsed": true
   },
   "outputs": [],
   "source": [
    "labels = [1 for x in positive_seqRecords] + [0 for x in negative_seqRecords]\n",
    "labels = np.array(labels)"
   ]
  },
  {
   "cell_type": "code",
   "execution_count": 895,
   "metadata": {
    "collapsed": false
   },
   "outputs": [],
   "source": [
    "x_train, x_test, x_rc_train, x_rc_test, y_train, y_test = model_selection.train_test_split(sequence_arrays, sequence_rc_arrays, labels, test_size=0.2)"
   ]
  },
  {
   "cell_type": "code",
   "execution_count": 896,
   "metadata": {
    "collapsed": true
   },
   "outputs": [],
   "source": [
    "num_classes = 2\n",
    "y_train = keras.utils.to_categorical(y_train, num_classes)\n",
    "y_test = keras.utils.to_categorical(y_test, num_classes)"
   ]
  },
  {
   "cell_type": "code",
   "execution_count": 904,
   "metadata": {
    "collapsed": false
   },
   "outputs": [],
   "source": [
    "# convolution_initializer = keras.initializers.RandomNormal(mean=0,stddev=1e-3 ) # [1e-7, 1e-3]\n",
    "# dense_initializer = keras.initializers.RandomNormal(mean=0, stddev=1e-2) # [1e-5, 1e-2]"
   ]
  },
  {
   "cell_type": "code",
   "execution_count": 905,
   "metadata": {
    "collapsed": true
   },
   "outputs": [],
   "source": [
    "convolution_initializer = keras.initializers.glorot_uniform()\n",
    "dense_initializer = keras.initializers.glorot_uniform()"
   ]
  },
  {
   "cell_type": "code",
   "execution_count": 906,
   "metadata": {
    "collapsed": false
   },
   "outputs": [],
   "source": [
    "num_classes = 2\n",
    "motif_size = 24\n",
    "num_motifs = 16\n",
    "# define input tensors\n",
    "input_fwd = Input(shape=(200,4), name='input_fwd')\n",
    "input_rev = Input(shape=(200,4), name='input_rev')\n",
    "\n",
    "# fwd and reverse sequence should share convolution layer\n",
    "shared_motif_convolution = Conv1D(filters=num_motifs, \n",
    "     kernel_size=motif_size,\n",
    "     activation='relu',\n",
    "     input_shape=(200,4),\n",
    "     name = 'shared_motif_convolution',\n",
    "     kernel_initializer = convolution_initializer\n",
    "    )\n",
    "\n",
    "# perform convolution on sequences and their reverse complement using the same convolution layer\n",
    "motif_scores_fwd = shared_motif_convolution(input_fwd)\n",
    "motif_scores_rev = shared_motif_convolution(input_rev)\n",
    "\n",
    "# take the best score from fwd or rev orientations for each motif\n",
    "max_strand_scores = Maximum()([motif_scores_fwd, motif_scores_rev])\n",
    "\n",
    "# take the highest score for each sequence\n",
    "max_seq_scores = MaxPooling1D(pool_size=200 - motif_size)(max_strand_scores)\n",
    "\n",
    "# fully connected layer\n",
    "dense_out = Dense(32, activation='relu', \n",
    "                  kernel_initializer= dense_initializer\n",
    "                 )(max_seq_scores)\n",
    "\n",
    "# drop out\n",
    "drop_out = Dropout(0.25)(dense_out)\n",
    "\n",
    "# make prediction\n",
    "flattened = Flatten()(drop_out)\n",
    "predictions = Dense(num_classes, activation = 'softmax')(flattened)\n",
    "\n",
    "# define and compile model\n",
    "model = Model(inputs=[input_fwd, input_rev], outputs=predictions)\n",
    "\n",
    "model.compile(loss=keras.losses.categorical_crossentropy,\n",
    "              optimizer=keras.optimizers.sgd(lr = 0.5,\n",
    "                                             decay=1e-10),\n",
    "              metrics=['accuracy'])"
   ]
  },
  {
   "cell_type": "code",
   "execution_count": 909,
   "metadata": {
    "collapsed": false
   },
   "outputs": [
    {
     "name": "stdout",
     "output_type": "stream",
     "text": [
      "Train on 37044 samples, validate on 9262 samples\n",
      "Epoch 1/10\n",
      "37044/37044 [==============================] - 6s - loss: 0.3105 - acc: 0.8705 - val_loss: 0.3076 - val_acc: 0.8765\n",
      "Epoch 2/10\n",
      "37044/37044 [==============================] - 6s - loss: 0.3073 - acc: 0.8725 - val_loss: 0.3218 - val_acc: 0.8544\n",
      "Epoch 3/10\n",
      "37044/37044 [==============================] - 6s - loss: 0.3078 - acc: 0.8695 - val_loss: 0.3043 - val_acc: 0.8713\n",
      "Epoch 4/10\n",
      "37044/37044 [==============================] - 6s - loss: 0.3086 - acc: 0.8727 - val_loss: 0.4348 - val_acc: 0.8180\n",
      "Epoch 5/10\n",
      "37044/37044 [==============================] - 6s - loss: 0.3060 - acc: 0.8739 - val_loss: 0.3001 - val_acc: 0.8753\n",
      "Epoch 6/10\n",
      "37044/37044 [==============================] - 6s - loss: 0.3053 - acc: 0.8733 - val_loss: 0.3055 - val_acc: 0.8744\n",
      "Epoch 7/10\n",
      "37044/37044 [==============================] - 6s - loss: 0.3052 - acc: 0.8738 - val_loss: 0.3142 - val_acc: 0.8741\n",
      "Epoch 8/10\n",
      "37044/37044 [==============================] - 6s - loss: 0.3038 - acc: 0.8737 - val_loss: 0.3099 - val_acc: 0.8735\n",
      "Epoch 9/10\n",
      "37044/37044 [==============================] - 6s - loss: 0.3006 - acc: 0.8760 - val_loss: 0.3007 - val_acc: 0.8727\n",
      "Epoch 10/10\n",
      "37044/37044 [==============================] - 6s - loss: 0.3037 - acc: 0.8729 - val_loss: 0.2992 - val_acc: 0.8729\n",
      "Test loss: 0.2991760072196387\n",
      "Test accuracy: 0.8729216152147711\n"
     ]
    }
   ],
   "source": [
    "model.fit([x_train, x_rc_train], y_train,\n",
    "          batch_size=64,\n",
    "          epochs=10,\n",
    "          verbose=1,\n",
    "          validation_data=([x_test, x_rc_test], y_test))\n",
    "score = model.evaluate([x_test, x_rc_test], y_test, verbose=0)\n",
    "print('Test loss:', score[0])\n",
    "print('Test accuracy:', score[1])"
   ]
  },
  {
   "cell_type": "code",
   "execution_count": 913,
   "metadata": {
    "collapsed": false
   },
   "outputs": [],
   "source": [
    "weights = model.get_layer('shared_motif_convolution').get_weights()"
   ]
  },
  {
   "cell_type": "code",
   "execution_count": 916,
   "metadata": {
    "collapsed": true
   },
   "outputs": [],
   "source": [
    "motifs = weights[0]"
   ]
  },
  {
   "cell_type": "code",
   "execution_count": 914,
   "metadata": {
    "collapsed": true
   },
   "outputs": [],
   "source": [
    "index_seq_dict = dict(zip(range(4), ['A','C', 'G', 'T']))"
   ]
  },
  {
   "cell_type": "code",
   "execution_count": 925,
   "metadata": {
    "collapsed": false,
    "scrolled": false
   },
   "outputs": [
    {
     "name": "stdout",
     "output_type": "stream",
     "text": [
      "GTAACTCAATGTACCTTCAACATG\n"
     ]
    },
    {
     "data": {
      "image/png": "[encoded data removed]",
      "text/plain": [
       "<matplotlib.figure.Figure at 0x7f695b7198d0>"
      ]
     },
     "metadata": {},
     "output_type": "display_data"
    },
    {
     "name": "stdout",
     "output_type": "stream",
     "text": [
      "GAGTCGCTCATGCACAGGTTTCGT\n"
     ]
    },
    {
     "data": {
      "image/png": "[encoded data removed]",
      "text/plain": [
       "<matplotlib.figure.Figure at 0x7f695b2670f0>"
      ]
     },
     "metadata": {},
     "output_type": "display_data"
    },
    {
     "name": "stdout",
     "output_type": "stream",
     "text": [
      "ACATCAGGTACGGTCATACAAAGT\n"
     ]
    },
    {
     "data": {
      "image/png": "[encoded data removed]",
      "text/plain": [
       "<matplotlib.figure.Figure at 0x7f695b0df8d0>"
      ]
     },
     "metadata": {},
     "output_type": "display_data"
    },
    {
     "name": "stdout",
     "output_type": "stream",
     "text": [
      "TGCTACGGGGGATCTACCTTCGAG\n"
     ]
    },
    {
     "data": {
      "image/png": "[encoded data removed]",
      "text/plain": [
       "<matplotlib.figure.Figure at 0x7f695b02afd0>"
      ]
     },
     "metadata": {},
     "output_type": "display_data"
    },
    {
     "name": "stdout",
     "output_type": "stream",
     "text": [
      "CACTATTGTCATGTCAGCGTATTG\n"
     ]
    },
    {
     "data": {
      "image/png": "[encoded data removed]",
      "text/plain": [
       "<matplotlib.figure.Figure at 0x7f695af6f320>"
      ]
     },
     "metadata": {},
     "output_type": "display_data"
    },
    {
     "name": "stdout",
     "output_type": "stream",
     "text": [
      "CGATTGTTTGTATCTTAGGGACAG\n"
     ]
    },
    {
     "data": {
      "image/png": "[encoded data removed]",
      "text/plain": [
       "<matplotlib.figure.Figure at 0x7f695ac59e10>"
      ]
     },
     "metadata": {},
     "output_type": "display_data"
    },
    {
     "name": "stdout",
     "output_type": "stream",
     "text": [
      "TTGACCAGATGTAGTTACTTTCAT\n"
     ]
    },
    {
     "data": {
      "image/png": "[encoded data removed]",
      "text/plain": [
       "<matplotlib.figure.Figure at 0x7f695ac43e10>"
      ]
     },
     "metadata": {},
     "output_type": "display_data"
    },
    {
     "name": "stdout",
     "output_type": "stream",
     "text": [
      "GACTTAGACCCCTTATAGCTAGGG\n"
     ]
    },
    {
     "data": {
      "image/png": "[encoded data removed]",
      "text/plain": [
       "<matplotlib.figure.Figure at 0x7f695aa2a908>"
      ]
     },
     "metadata": {},
     "output_type": "display_data"
    },
    {
     "name": "stdout",
     "output_type": "stream",
     "text": [
      "ACAACTATCTCTACGCACAATATT\n"
     ]
    },
    {
     "data": {
      "image/png": "[encoded data removed]",
      "text/plain": [
       "<matplotlib.figure.Figure at 0x7f695a83fda0>"
      ]
     },
     "metadata": {},
     "output_type": "display_data"
    },
    {
     "name": "stdout",
     "output_type": "stream",
     "text": [
      "TATCCTGCCCGCACTTCTTTGTAT\n"
     ]
    },
    {
     "data": {
      "image/png": "[encoded data removed]",
      "text/plain": [
       "<matplotlib.figure.Figure at 0x7f695a65aeb8>"
      ]
     },
     "metadata": {},
     "output_type": "display_data"
    },
    {
     "name": "stdout",
     "output_type": "stream",
     "text": [
      "AAAAACCTCGTCCCGTCAGTATGT\n"
     ]
    },
    {
     "data": {
      "image/png": "[encoded data removed]",
      "text/plain": [
       "<matplotlib.figure.Figure at 0x7f695a4d8e10>"
      ]
     },
     "metadata": {},
     "output_type": "display_data"
    },
    {
     "name": "stdout",
     "output_type": "stream",
     "text": [
      "TGGAAGACGCCACAGCTTATCCGT\n"
     ]
    },
    {
     "data": {
      "image/png": "[encoded data removed]",
      "text/plain": [
       "<matplotlib.figure.Figure at 0x7f695a3599e8>"
      ]
     },
     "metadata": {},
     "output_type": "display_data"
    },
    {
     "name": "stdout",
     "output_type": "stream",
     "text": [
      "CCTCCTGTCGATATGTAACAAGCC\n"
     ]
    },
    {
     "data": {
      "image/png": "[encoded data removed]",
      "text/plain": [
       "<matplotlib.figure.Figure at 0x7f695a1c47f0>"
      ]
     },
     "metadata": {},
     "output_type": "display_data"
    },
    {
     "name": "stdout",
     "output_type": "stream",
     "text": [
      "CAATCCACGCATCATTACGTCATA\n"
     ]
    },
    {
     "data": {
      "image/png": "[encoded data removed]",
      "text/plain": [
       "<matplotlib.figure.Figure at 0x7f695a37d5c0>"
      ]
     },
     "metadata": {},
     "output_type": "display_data"
    },
    {
     "name": "stdout",
     "output_type": "stream",
     "text": [
      "ACCACGCTGTATAACTACATGAAT\n"
     ]
    },
    {
     "data": {
      "image/png": "[encoded data removed]",
      "text/plain": [
       "<matplotlib.figure.Figure at 0x7f6937806a20>"
      ]
     },
     "metadata": {},
     "output_type": "display_data"
    },
    {
     "name": "stdout",
     "output_type": "stream",
     "text": [
      "AATTCCTAACGATCCTGTCTCAAT\n"
     ]
    },
    {
     "data": {
      "image/png": "[encoded data removed]",
      "text/plain": [
       "<matplotlib.figure.Figure at 0x7f68cf025828>"
      ]
     },
     "metadata": {},
     "output_type": "display_data"
    },
    {
     "name": "stdout",
     "output_type": "stream",
     "text": [
      "GTAACTCAATGTACCTTCAACATG\n",
      "GAGTCGCTCATGCACAGGTTTCGT\n",
      "ACATCAGGTACGGTCATACAAAGT\n",
      "TGCTACGGGGGATCTACCTTCGAG\n",
      "CACTATTGTCATGTCAGCGTATTG\n",
      "CGATTGTTTGTATCTTAGGGACAG\n",
      "TTGACCAGATGTAGTTACTTTCAT\n",
      "GACTTAGACCCCTTATAGCTAGGG\n",
      "ACAACTATCTCTACGCACAATATT\n",
      "TATCCTGCCCGCACTTCTTTGTAT\n",
      "AAAAACCTCGTCCCGTCAGTATGT\n",
      "TGGAAGACGCCACAGCTTATCCGT\n",
      "CCTCCTGTCGATATGTAACAAGCC\n",
      "CAATCCACGCATCATTACGTCATA\n",
      "ACCACGCTGTATAACTACATGAAT\n",
      "AATTCCTAACGATCCTGTCTCAAT\n"
     ]
    }
   ],
   "source": [
    "seq_list = []\n",
    "for motif in motifs.reshape(num_motifs, motif_size, 4):\n",
    "    normed_motif = np.array([row - np.mean(row) for row in motif])\n",
    "    \n",
    "    sequence = ''.join([index_seq_dict[np.argmax(x)] for x in motif])\n",
    "    seq_list.append(sequence)\n",
    "    normed_motif = pd.DataFrame(normed_motif, index = list(sequence), columns=['A','C','G','T'])\n",
    "    print(sequence)\n",
    "    cg = sns.clustermap(normed_motif,\n",
    "#                   z_score=0,\n",
    "                  row_cluster = False,\n",
    "                  col_cluster=False,\n",
    "#                   vmin=-0.2,\n",
    "#                   vmax=0.2\n",
    "                  )\n",
    "    plt.setp(cg.ax_heatmap.yaxis.get_majorticklabels(), rotation=0)\n",
    "    plt.show()\n",
    "for s in seq_list:\n",
    "    print(s)"
   ]
  },
  {
   "cell_type": "code",
   "execution_count": null,
   "metadata": {
    "collapsed": true
   },
   "outputs": [],
   "source": []
  }
 ],
 "metadata": {
  "kernelspec": {
   "display_name": "Python [Root]",
   "language": "python",
   "name": "Python [Root]"
  },
  "language_info": {
   "codemirror_mode": {
    "name": "ipython",
    "version": 3
   },
   "file_extension": ".py",
   "mimetype": "text/x-python",
   "name": "python",
   "nbconvert_exporter": "python",
   "pygments_lexer": "ipython3",
   "version": "3.5.1"
  }
 },
 "nbformat": 4,
 "nbformat_minor": 0
}
