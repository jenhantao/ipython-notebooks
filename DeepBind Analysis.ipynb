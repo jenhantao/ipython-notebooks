{
 "cells": [
  {
   "cell_type": "markdown",
   "metadata": {},
   "source": [
    "# DeepBind Analysis"
   ]
  },
  {
   "cell_type": "markdown",
   "metadata": {},
   "source": [
    "## Imports"
   ]
  },
  {
   "cell_type": "code",
   "execution_count": 1,
   "metadata": {
    "collapsed": false
   },
   "outputs": [
    {
     "name": "stderr",
     "output_type": "stream",
     "text": [
      "Using TensorFlow backend.\n"
     ]
    }
   ],
   "source": [
    "from __future__ import print_function\n",
    "import keras\n",
    "from keras.datasets import mnist\n",
    "from keras.models import Sequential\n",
    "from keras.layers import Input, Maximum, Dense, Dropout, Flatten\n",
    "from keras.layers import Conv1D, MaxPooling1D\n",
    "from keras.layers import Conv2D, MaxPooling2D\n",
    "from keras.models import Model\n",
    "\n",
    "from keras import backend as K"
   ]
  },
  {
   "cell_type": "code",
   "execution_count": 38,
   "metadata": {
    "collapsed": true
   },
   "outputs": [],
   "source": [
    "import os\n",
    "import numpy as np\n",
    "import Bio\n",
    "from Bio import SeqIO\n",
    "import seaborn as sns\n",
    "import pandas as pd\n",
    "import Bio.motifs\n",
    "%matplotlib inline\n",
    "\n",
    "from sklearn import model_selection\n",
    "\n",
    "import seaborn as sns\n",
    "from matplotlib import pyplot as plt"
   ]
  },
  {
   "cell_type": "code",
   "execution_count": 18,
   "metadata": {
    "collapsed": false
   },
   "outputs": [],
   "source": [
    "if not os.path.isdir('/home/jtao/analysis/deepbind_analysis'):\n",
    "    os.mkdir('/home/jtao/analysis/deepbind_analysis')\n",
    "os.chdir('/home/jtao/analysis/deepbind_analysis')"
   ]
  },
  {
   "cell_type": "code",
   "execution_count": 2,
   "metadata": {
    "collapsed": true
   },
   "outputs": [],
   "source": [
    "batch_size = 128\n",
    "num_classes = 10\n",
    "epochs = 12"
   ]
  },
  {
   "cell_type": "markdown",
   "metadata": {},
   "source": [
    "## Copy Fasta File and Background"
   ]
  },
  {
   "cell_type": "code",
   "execution_count": 779,
   "metadata": {
    "collapsed": false
   },
   "outputs": [],
   "source": [
    "! cp /home/jtao/analysis/ap1_fdr_analysis/idr_peak_files/c57bl6_atf3_veh_idr_peaks.tsv ./"
   ]
  },
  {
   "cell_type": "code",
   "execution_count": 885,
   "metadata": {
    "collapsed": false
   },
   "outputs": [],
   "source": [
    "target_peak_size = 200\n",
    "current_peak_frame = pd.read_csv('./c57bl6_atf3_veh_idr_peaks.tsv', sep='\\t' )\n",
    "peakCenters = (current_peak_frame['start'] + current_peak_frame['end']) /2\n",
    "int_peakCenters = np.ceil(peakCenters).astype(int)\n",
    "new_starts = int_peakCenters - int(target_peak_size/2)\n",
    "new_ends = int_peakCenters + int(target_peak_size/2)\n",
    "current_peak_frame['start'] = new_starts\n",
    "current_peak_frame['end'] = new_ends\n",
    "current_peak_frame.to_csv('./c57bl6_atf3_veh_resized_peaks.tsv', sep='\\t', index=False)"
   ]
  },
  {
   "cell_type": "code",
   "execution_count": 886,
   "metadata": {
    "collapsed": false
   },
   "outputs": [
    {
     "name": "stdout",
     "output_type": "stream",
     "text": [
      "\r\n",
      "\tConverted 23160 peaks total\r\n",
      "\r\n"
     ]
    }
   ],
   "source": [
    "! pos2bed.pl ./c57bl6_atf3_veh_resized_peaks.tsv > ./c57bl6_atf3_veh_idr_peaks.bed"
   ]
  },
  {
   "cell_type": "code",
   "execution_count": 887,
   "metadata": {
    "collapsed": false
   },
   "outputs": [
    {
     "name": "stdout",
     "output_type": "stream",
     "text": [
      "reading genome mm10\r\n"
     ]
    }
   ],
   "source": [
    "! /home/jtao/code/tba/model_training/extract_sequences.py ./c57bl6_atf3_veh_idr_peaks.bed mm10 ./c57bl6_atf3_veh_idr_peaks.fasta"
   ]
  },
  {
   "cell_type": "code",
   "execution_count": 888,
   "metadata": {
    "collapsed": false
   },
   "outputs": [
    {
     "name": "stdout",
     "output_type": "stream",
     "text": [
      "filtering out: chrM chrY\n",
      "reading genome mm10\n",
      "done reading genome\n",
      "0 0\n",
      "target GC: 0.3800343317878802 background GC: 0.3769579678174266 target length: 201 numTargetPositions 2316 backgroundPositions 2316\n",
      "0 0\n",
      "target GC: 0.4188299824646237 background GC: 0.4160061731560868 target length: 201 numTargetPositions 2316 backgroundPositions 2316\n",
      "0 0\n",
      "target GC: 0.4404232205932298 background GC: 0.4392174968791277 target length: 201 numTargetPositions 2316 backgroundPositions 2316\n",
      "0 0\n",
      "target GC: 0.4578405042088684 background GC: 0.45465218228076587 target length: 201 numTargetPositions 2315 backgroundPositions 2315\n",
      "0 0\n",
      "target GC: 0.4735631833138448 background GC: 0.4686653978571801 target length: 201 numTargetPositions 2315 backgroundPositions 2315\n",
      "0 0\n",
      "target GC: 0.4895179632038591 background GC: 0.48386331073701777 target length: 201 numTargetPositions 2315 backgroundPositions 2315\n",
      "0 0\n",
      "target GC: 0.5072371388764302 background GC: 0.5009644376963623 target length: 201 numTargetPositions 2315 backgroundPositions 2315\n",
      "0 0\n",
      "target GC: 0.5286548835402075 background GC: 0.5197014733869684 target length: 201 numTargetPositions 2315 backgroundPositions 2315\n",
      "0 0\n",
      "target GC: 0.5619570480304636 background GC: 0.5532343947136511 target length: 201 numTargetPositions 2315 backgroundPositions 2315\n",
      "0 0\n",
      "target GC: 0.6563232097991232 background GC: 0.6473793383656636 target length: 201 numTargetPositions 2315 backgroundPositions 2315\n"
     ]
    }
   ],
   "source": [
    "! /home/jtao/code/tba/model_training/generate_background_coordinates.py ./c57bl6_atf3_veh_idr_peaks.bed ./ #-filterChromosomes chrY"
   ]
  },
  {
   "cell_type": "markdown",
   "metadata": {},
   "source": [
    "## Sequential API Implementation"
   ]
  },
  {
   "cell_type": "markdown",
   "metadata": {},
   "source": [
    "### Set up Training and Test Data"
   ]
  },
  {
   "cell_type": "code",
   "execution_count": 986,
   "metadata": {
    "collapsed": false
   },
   "outputs": [],
   "source": [
    "def convert_sequences_to_array(sequences):\n",
    "    '''\n",
    "    inputs: sequence of nucleotides represented as a string composed of A, C, G, T\n",
    "    outputs: a list of numpy array representations of a sequence with:\n",
    "             A = [1, 0, 0, 0]\n",
    "             C = [0, 1, 0, 0]\n",
    "             G = [0, 0, 1, 0]\n",
    "             T = [0, 0, 0, 1]\n",
    "             \n",
    "    '''\n",
    "\n",
    "    nucleotide_array_dict = {'A': [1, 0, 0, 0],\n",
    "                             'C': [0, 1, 0, 0],\n",
    "                             'G': [0, 0, 1, 0],\n",
    "                             'T': [0, 0, 0, 1],\n",
    "                             'N': [0.25,0.25,0.25,0.25]}\n",
    "\n",
    "    sequence_array_list = []\n",
    "    for seq in sequences:\n",
    "        seq_array = []\n",
    "        for nuc in seq:\n",
    "            seq_array.append(nucleotide_array_dict[nuc])\n",
    "        seq_array = np.array(seq_array)\n",
    "        sequence_array_list.append(seq_array)\n",
    "    sequence_array_list = np.array(sequence_array_list)\n",
    "    return sequence_array_list"
   ]
  },
  {
   "cell_type": "code",
   "execution_count": 434,
   "metadata": {
    "collapsed": false
   },
   "outputs": [],
   "source": [
    "sequences = []\n",
    "positive_seqRecords = list(SeqIO.parse('./c57bl6_atf3_veh_idr_peaks.fasta', 'fasta'))\n",
    "negative_seqRecords = list(SeqIO.parse('./background.fasta', 'fasta'))\n",
    "\n",
    "fasta_seq = [str(x.seq)[:200] for x in positive_seqRecords] + [str(x.seq)[:200] for x in negative_seqRecords]"
   ]
  },
  {
   "cell_type": "code",
   "execution_count": 435,
   "metadata": {
    "collapsed": true
   },
   "outputs": [],
   "source": [
    "\n",
    "labels = [1 for x in positive_seqRecords] + [0 for x in negative_seqRecords]\n",
    "labels = np.array(labels)"
   ]
  },
  {
   "cell_type": "code",
   "execution_count": 436,
   "metadata": {
    "collapsed": true
   },
   "outputs": [],
   "source": [
    "sequence_arrays = convert_sequences_to_array(fasta_seq)\n",
    "sequence_arrays = np.array(sequence_arrays)"
   ]
  },
  {
   "cell_type": "code",
   "execution_count": 437,
   "metadata": {
    "collapsed": false
   },
   "outputs": [],
   "source": [
    "x_train, x_test, y_train, y_test = model_selection.train_test_split(sequence_arrays, labels, test_size=0.2)"
   ]
  },
  {
   "cell_type": "code",
   "execution_count": 438,
   "metadata": {
    "collapsed": true
   },
   "outputs": [],
   "source": [
    "num_classes = 2\n",
    "y_train = keras.utils.to_categorical(y_train, num_classes)\n",
    "y_test = keras.utils.to_categorical(y_test, num_classes)"
   ]
  },
  {
   "cell_type": "markdown",
   "metadata": {},
   "source": [
    "### Define Model"
   ]
  },
  {
   "cell_type": "code",
   "execution_count": 469,
   "metadata": {
    "collapsed": false
   },
   "outputs": [],
   "source": [
    "num_classes = 2\n",
    "model = Sequential()\n",
    "model.add(Conv1D(filters=16, \n",
    "                 kernel_size=24,\n",
    "                 activation='relu',\n",
    "                 input_shape=(200,4)))\n",
    "model.add(MaxPooling1D(pool_size=176))\n",
    "model.add(Dense(32, activation='relu'))\n",
    "\n",
    "model.add(Dropout(0.25))\n",
    "model.add(Flatten())\n",
    "model.add(Dense(num_classes, activation='softmax'))\n",
    "\n",
    "model.compile(loss=keras.losses.categorical_crossentropy,\n",
    "              optimizer=keras.optimizers.Adadelta(),\n",
    "              metrics=['accuracy'])"
   ]
  },
  {
   "cell_type": "markdown",
   "metadata": {},
   "source": [
    "### Train Model"
   ]
  },
  {
   "cell_type": "code",
   "execution_count": 470,
   "metadata": {
    "collapsed": false
   },
   "outputs": [
    {
     "name": "stdout",
     "output_type": "stream",
     "text": [
      "Train on 37044 samples, validate on 9262 samples\n",
      "Epoch 1/10\n",
      "37044/37044 [==============================] - 4s - loss: 0.6815 - acc: 0.5662 - val_loss: 0.6453 - val_acc: 0.7153\n",
      "Epoch 2/10\n",
      "37044/37044 [==============================] - 4s - loss: 0.5805 - acc: 0.7140 - val_loss: 0.5224 - val_acc: 0.7414\n",
      "Epoch 3/10\n",
      "37044/37044 [==============================] - 4s - loss: 0.4624 - acc: 0.7890 - val_loss: 0.4297 - val_acc: 0.8031\n",
      "Epoch 4/10\n",
      "37044/37044 [==============================] - 4s - loss: 0.4144 - acc: 0.8166 - val_loss: 0.3978 - val_acc: 0.8224\n",
      "Epoch 5/10\n",
      "37044/37044 [==============================] - 4s - loss: 0.3921 - acc: 0.8291 - val_loss: 0.3856 - val_acc: 0.8302\n",
      "Epoch 6/10\n",
      "37044/37044 [==============================] - 4s - loss: 0.3716 - acc: 0.8401 - val_loss: 0.3697 - val_acc: 0.8393\n",
      "Epoch 7/10\n",
      "37044/37044 [==============================] - 4s - loss: 0.3581 - acc: 0.8489 - val_loss: 0.3625 - val_acc: 0.8417\n",
      "Epoch 8/10\n",
      "37044/37044 [==============================] - 4s - loss: 0.3470 - acc: 0.8538 - val_loss: 0.3640 - val_acc: 0.8430\n",
      "Epoch 9/10\n",
      "37044/37044 [==============================] - 4s - loss: 0.3407 - acc: 0.8568 - val_loss: 0.3464 - val_acc: 0.8499\n",
      "Epoch 10/10\n",
      "37044/37044 [==============================] - 4s - loss: 0.3337 - acc: 0.8602 - val_loss: 0.3490 - val_acc: 0.8500\n",
      "Test loss: 0.34897923555456006\n",
      "Test accuracy: 0.8500323904253088\n"
     ]
    }
   ],
   "source": [
    "model.fit(x_train, y_train,\n",
    "          batch_size=128,\n",
    "          epochs=10,\n",
    "          verbose=1,\n",
    "          validation_data=(x_test, y_test))\n",
    "score = model.evaluate(x_test, y_test, verbose=0)\n",
    "print('Test loss:', score[0])\n",
    "print('Test accuracy:', score[1])"
   ]
  },
  {
   "cell_type": "markdown",
   "metadata": {},
   "source": [
    "## Functional API Implementation"
   ]
  },
  {
   "cell_type": "code",
   "execution_count": 592,
   "metadata": {
    "collapsed": false
   },
   "outputs": [],
   "source": [
    "num_classes = 2\n",
    "input_fwd = Input(shape=(200,4), name='input_fwd')\n",
    "\n",
    "shared_motif_convolution = Conv1D(filters=16, \n",
    "     kernel_size=24,\n",
    "     activation='relu',\n",
    "     input_shape=(200,4))\n",
    "\n",
    "motif_scores_fwd = shared_motif_convolution(input_fwd)\n",
    "\n",
    "max_seq_scores = MaxPooling1D(pool_size=176)(motif_scores_fwd)\n",
    "\n",
    "dense_out = Dense(32, activation='relu')(max_seq_scores)\n",
    "\n",
    "drop_out = Dropout(0.25)(dense_out)\n",
    "\n",
    "flattened = Flatten()(drop_out)\n",
    "\n",
    "predictions = Dense(num_classes, activation = 'softmax')(flattened)\n",
    "\n",
    "model = Model(inputs=input_fwd, outputs=predictions)\n",
    "model.compile(loss=keras.losses.categorical_crossentropy,\n",
    "              optimizer=keras.optimizers.Adadelta(),\n",
    "              metrics=['accuracy'])"
   ]
  },
  {
   "cell_type": "code",
   "execution_count": 587,
   "metadata": {
    "collapsed": false
   },
   "outputs": [
    {
     "name": "stdout",
     "output_type": "stream",
     "text": [
      "Train on 37044 samples, validate on 9262 samples\n",
      "Epoch 1/10\n",
      "37044/37044 [==============================] - 4s - loss: 0.6871 - acc: 0.5475 - val_loss: 0.6674 - val_acc: 0.6139\n",
      "Epoch 2/10\n",
      "37044/37044 [==============================] - 4s - loss: 0.5927 - acc: 0.7054 - val_loss: 0.5126 - val_acc: 0.7590\n",
      "Epoch 3/10\n",
      "37044/37044 [==============================] - 4s - loss: 0.4724 - acc: 0.7813 - val_loss: 0.4604 - val_acc: 0.7817\n",
      "Epoch 4/10\n",
      "37044/37044 [==============================] - 4s - loss: 0.4247 - acc: 0.8120 - val_loss: 0.4049 - val_acc: 0.8217\n",
      "Epoch 5/10\n",
      "37044/37044 [==============================] - 4s - loss: 0.3982 - acc: 0.8269 - val_loss: 0.3893 - val_acc: 0.8301\n",
      "Epoch 6/10\n",
      "37044/37044 [==============================] - 4s - loss: 0.3817 - acc: 0.8354 - val_loss: 0.3806 - val_acc: 0.8342\n",
      "Epoch 7/10\n",
      "37044/37044 [==============================] - 4s - loss: 0.3717 - acc: 0.8428 - val_loss: 0.3902 - val_acc: 0.8304\n",
      "Epoch 8/10\n",
      "37044/37044 [==============================] - 4s - loss: 0.3658 - acc: 0.8456 - val_loss: 0.3729 - val_acc: 0.8389\n",
      "Epoch 9/10\n",
      "37044/37044 [==============================] - 4s - loss: 0.3564 - acc: 0.8497 - val_loss: 0.3713 - val_acc: 0.8415\n",
      "Epoch 10/10\n",
      "37044/37044 [==============================] - 4s - loss: 0.3506 - acc: 0.8532 - val_loss: 0.3660 - val_acc: 0.8416\n",
      "Test loss: 0.3660328049680065\n",
      "Test accuracy: 0.8416108831785791\n"
     ]
    }
   ],
   "source": [
    "model.fit(x_train, y_train,\n",
    "          batch_size=128,\n",
    "          epochs=10,\n",
    "          verbose=1,\n",
    "          validation_data=(x_test, y_test))\n",
    "score = model.evaluate(x_test, y_test, verbose=0)\n",
    "print('Test loss:', score[0])\n",
    "print('Test accuracy:', score[1])"
   ]
  },
  {
   "cell_type": "markdown",
   "metadata": {},
   "source": [
    "## Define Model with Reverse Complement"
   ]
  },
  {
   "cell_type": "code",
   "execution_count": 890,
   "metadata": {
    "collapsed": false
   },
   "outputs": [],
   "source": [
    "sequences = []\n",
    "positive_seqRecords = list(SeqIO.parse('./c57bl6_atf3_veh_idr_peaks.fasta', 'fasta'))\n",
    "negative_seqRecords = list(SeqIO.parse('./background.fasta', 'fasta'))\n",
    "fasta_seq = [str(x.seq[:200]) for x in positive_seqRecords] + [str(x[:200].seq) for x in negative_seqRecords]"
   ]
  },
  {
   "cell_type": "code",
   "execution_count": 891,
   "metadata": {
    "collapsed": true
   },
   "outputs": [],
   "source": [
    "fasta_rc_seq = [str(x[:200].reverse_complement().seq) for x in positive_seqRecords] + \\\n",
    "    [str(x[:200].reverse_complement().seq) for x in negative_seqRecords]"
   ]
  },
  {
   "cell_type": "code",
   "execution_count": 892,
   "metadata": {
    "collapsed": true
   },
   "outputs": [],
   "source": [
    "sequence_arrays = convert_sequences_to_array(fasta_seq)\n",
    "sequence_arrays = np.array(sequence_arrays)"
   ]
  },
  {
   "cell_type": "code",
   "execution_count": 893,
   "metadata": {
    "collapsed": true
   },
   "outputs": [],
   "source": [
    "sequence_rc_arrays = convert_sequences_to_array(fasta_rc_seq)\n",
    "sequence_rc_arrays = np.array(sequence_rc_arrays)"
   ]
  },
  {
   "cell_type": "code",
   "execution_count": 1097,
   "metadata": {
    "collapsed": true
   },
   "outputs": [],
   "source": [
    "labels = [1 for x in positive_seqRecords] + [0 for x in negative_seqRecords]\n",
    "labels = np.array(labels)"
   ]
  },
  {
   "cell_type": "code",
   "execution_count": 1099,
   "metadata": {
    "collapsed": false
   },
   "outputs": [],
   "source": [
    "x_train, x_test, x_rc_train, x_rc_test, y_train, y_test = model_selection.train_test_split(sequence_arrays, sequence_rc_arrays, labels, test_size=0.2)"
   ]
  },
  {
   "cell_type": "code",
   "execution_count": 1100,
   "metadata": {
    "collapsed": true
   },
   "outputs": [],
   "source": [
    "num_classes = 2\n",
    "y_train = keras.utils.to_categorical(y_train, num_classes)\n",
    "y_test = keras.utils.to_categorical(y_test, num_classes)"
   ]
  },
  {
   "cell_type": "code",
   "execution_count": 904,
   "metadata": {
    "collapsed": false
   },
   "outputs": [],
   "source": [
    "# convolution_initializer = keras.initializers.RandomNormal(mean=0,stddev=1e-3 ) # [1e-7, 1e-3]\n",
    "# dense_initializer = keras.initializers.RandomNormal(mean=0, stddev=1e-2) # [1e-5, 1e-2]"
   ]
  },
  {
   "cell_type": "code",
   "execution_count": 905,
   "metadata": {
    "collapsed": true
   },
   "outputs": [],
   "source": [
    "convolution_initializer = keras.initializers.glorot_uniform()\n",
    "dense_initializer = keras.initializers.glorot_uniform()"
   ]
  },
  {
   "cell_type": "code",
   "execution_count": 1046,
   "metadata": {
    "collapsed": true
   },
   "outputs": [],
   "source": [
    "num_classes = 2\n",
    "motif_size = 24\n",
    "num_motifs = 16"
   ]
  },
  {
   "cell_type": "code",
   "execution_count": 1106,
   "metadata": {
    "collapsed": false
   },
   "outputs": [],
   "source": [
    "# define input tensors\n",
    "input_fwd = Input(shape=(200,4), name='input_fwd')\n",
    "input_rev = Input(shape=(200,4), name='input_rev')\n",
    "\n",
    "# fwd and reverse sequence should share convolution layer\n",
    "shared_motif_convolution = Conv1D(filters=num_motifs, \n",
    "     kernel_size=motif_size,\n",
    "     activation='relu',\n",
    "     input_shape=(200,4),\n",
    "     name = 'shared_motif_convolution',\n",
    "     kernel_initializer = convolution_initializer\n",
    "    )\n",
    "\n",
    "# perform convolution on sequences and their reverse complement using the same convolution layer\n",
    "motif_scores_fwd = shared_motif_convolution(input_fwd)\n",
    "motif_scores_rev = shared_motif_convolution(input_rev)\n",
    "\n",
    "# take the best score from fwd or rev orientations for each motif\n",
    "max_strand_scores = Maximum()([motif_scores_fwd, motif_scores_rev])\n",
    "\n",
    "# take the highest score for each sequence\n",
    "max_seq_scores = MaxPooling1D(pool_size=200 - motif_size)(max_strand_scores)\n",
    "\n",
    "# fully connected layer\n",
    "dense_out = Dense(32, activation='relu', \n",
    "                  kernel_initializer= dense_initializer\n",
    "                 )(max_seq_scores)\n",
    "\n",
    "# drop out\n",
    "drop_out = Dropout(0.25)(dense_out)\n",
    "\n",
    "# make prediction\n",
    "flattened = Flatten()(drop_out)\n",
    "predictions = Dense(num_classes, activation = 'softmax')(flattened)\n",
    "\n",
    "# define and compile model\n",
    "model = Model(inputs=[input_fwd, input_rev], outputs=predictions)\n",
    "\n",
    "# model.compile(loss=keras.losses.binary_crossentropy,\n",
    "#               optimizer=keras.optimizers.sgd(lr = 0.5,\n",
    "#                                              decay=1e-10),\n",
    "#               metrics=['accuracy'])\n",
    "model.compile(loss=keras.losses.categorical_crossentropy,\n",
    "              optimizer=keras.optimizers.Adam(),\n",
    "              metrics=['accuracy'])"
   ]
  },
  {
   "cell_type": "code",
   "execution_count": 1107,
   "metadata": {
    "collapsed": false
   },
   "outputs": [
    {
     "name": "stdout",
     "output_type": "stream",
     "text": [
      "Train on 37044 samples, validate on 9262 samples\n",
      "Epoch 1/30\n",
      "37044/37044 [==============================] - 8s - loss: 0.5570 - acc: 0.6996 - val_loss: 0.3831 - val_acc: 0.8349\n",
      "Epoch 2/30\n",
      "37044/37044 [==============================] - 6s - loss: 0.3625 - acc: 0.8437 - val_loss: 0.3300 - val_acc: 0.8596\n",
      "Epoch 3/30\n",
      "37044/37044 [==============================] - 6s - loss: 0.3271 - acc: 0.8637 - val_loss: 0.3177 - val_acc: 0.8682\n",
      "Epoch 4/30\n",
      "37044/37044 [==============================] - 6s - loss: 0.3073 - acc: 0.8732 - val_loss: 0.3037 - val_acc: 0.8740\n",
      "Epoch 5/30\n",
      "37044/37044 [==============================] - 6s - loss: 0.2863 - acc: 0.8855 - val_loss: 0.2870 - val_acc: 0.8823\n",
      "Epoch 6/30\n",
      "37044/37044 [==============================] - 6s - loss: 0.2768 - acc: 0.8895 - val_loss: 0.2842 - val_acc: 0.8821\n",
      "Epoch 7/30\n",
      "37044/37044 [==============================] - 6s - loss: 0.2699 - acc: 0.8912 - val_loss: 0.2777 - val_acc: 0.8877\n",
      "Epoch 8/30\n",
      "37044/37044 [==============================] - 6s - loss: 0.2604 - acc: 0.8967 - val_loss: 0.2693 - val_acc: 0.8921\n",
      "Epoch 9/30\n",
      "37044/37044 [==============================] - 6s - loss: 0.2582 - acc: 0.8975 - val_loss: 0.2684 - val_acc: 0.8920\n",
      "Epoch 10/30\n",
      "37044/37044 [==============================] - 6s - loss: 0.2505 - acc: 0.8991 - val_loss: 0.2642 - val_acc: 0.8949\n",
      "Epoch 11/30\n",
      "37044/37044 [==============================] - 6s - loss: 0.2502 - acc: 0.8987 - val_loss: 0.2650 - val_acc: 0.8974\n",
      "Epoch 12/30\n",
      "37044/37044 [==============================] - 6s - loss: 0.2465 - acc: 0.9016 - val_loss: 0.2656 - val_acc: 0.8942\n",
      "Epoch 13/30\n",
      "37044/37044 [==============================] - 6s - loss: 0.2462 - acc: 0.9005 - val_loss: 0.2688 - val_acc: 0.8925\n",
      "Epoch 14/30\n",
      "37044/37044 [==============================] - 6s - loss: 0.2434 - acc: 0.9019 - val_loss: 0.2722 - val_acc: 0.8924\n",
      "Epoch 15/30\n",
      "37044/37044 [==============================] - 7s - loss: 0.2418 - acc: 0.9019 - val_loss: 0.2734 - val_acc: 0.8918\n",
      "Epoch 16/30\n",
      "37044/37044 [==============================] - 6s - loss: 0.2434 - acc: 0.9032 - val_loss: 0.2791 - val_acc: 0.8892\n",
      "Epoch 17/30\n",
      "37044/37044 [==============================] - 6s - loss: 0.2396 - acc: 0.9043 - val_loss: 0.2716 - val_acc: 0.8897\n",
      "Epoch 18/30\n",
      "37044/37044 [==============================] - 6s - loss: 0.2399 - acc: 0.9050 - val_loss: 0.2633 - val_acc: 0.8965\n",
      "Epoch 19/30\n",
      "37044/37044 [==============================] - 6s - loss: 0.2391 - acc: 0.9050 - val_loss: 0.2652 - val_acc: 0.8949\n",
      "Epoch 20/30\n",
      "37044/37044 [==============================] - 6s - loss: 0.2365 - acc: 0.9051 - val_loss: 0.2658 - val_acc: 0.8951\n",
      "Epoch 21/30\n",
      "37044/37044 [==============================] - 6s - loss: 0.2373 - acc: 0.9056 - val_loss: 0.2635 - val_acc: 0.8912\n",
      "Epoch 22/30\n",
      "37044/37044 [==============================] - 6s - loss: 0.2352 - acc: 0.9058 - val_loss: 0.2776 - val_acc: 0.8873\n",
      "Epoch 23/30\n",
      "37044/37044 [==============================] - 6s - loss: 0.2357 - acc: 0.9067 - val_loss: 0.2831 - val_acc: 0.8904\n",
      "Epoch 24/30\n",
      "37044/37044 [==============================] - 6s - loss: 0.2338 - acc: 0.9066 - val_loss: 0.2715 - val_acc: 0.8895\n",
      "Epoch 25/30\n",
      "37044/37044 [==============================] - 6s - loss: 0.2327 - acc: 0.9061 - val_loss: 0.2666 - val_acc: 0.8918\n",
      "Epoch 26/30\n",
      "37044/37044 [==============================] - 6s - loss: 0.2325 - acc: 0.9065 - val_loss: 0.2670 - val_acc: 0.8935\n",
      "Epoch 27/30\n",
      "37044/37044 [==============================] - 6s - loss: 0.2304 - acc: 0.9079 - val_loss: 0.3160 - val_acc: 0.8678\n",
      "Epoch 28/30\n",
      "37044/37044 [==============================] - 6s - loss: 0.2300 - acc: 0.9083 - val_loss: 0.2701 - val_acc: 0.8902\n",
      "Epoch 29/30\n",
      "37044/37044 [==============================] - 6s - loss: 0.2297 - acc: 0.9079 - val_loss: 0.2709 - val_acc: 0.8931\n",
      "Epoch 30/30\n",
      "37044/37044 [==============================] - 6s - loss: 0.2303 - acc: 0.9055 - val_loss: 0.2679 - val_acc: 0.8924\n",
      "Test loss: 0.26785350141431824\n",
      "Test accuracy: 0.8923558626260388\n"
     ]
    }
   ],
   "source": [
    "model.fit([x_train, x_rc_train], y_train,\n",
    "          batch_size=64,\n",
    "          epochs=30,\n",
    "          verbose=1,\n",
    "          validation_data=([x_test, x_rc_test], y_test))\n",
    "score = model.evaluate([x_test, x_rc_test], y_test, verbose=0)\n",
    "print('Test loss:', score[0])\n",
    "print('Test accuracy:', score[1])"
   ]
  },
  {
   "cell_type": "code",
   "execution_count": 1108,
   "metadata": {
    "collapsed": false
   },
   "outputs": [],
   "source": [
    "weights = model.get_layer('shared_motif_convolution').get_weights()"
   ]
  },
  {
   "cell_type": "code",
   "execution_count": 1109,
   "metadata": {
    "collapsed": true
   },
   "outputs": [],
   "source": [
    "motifs = weights[0]"
   ]
  },
  {
   "cell_type": "code",
   "execution_count": 1110,
   "metadata": {
    "collapsed": true
   },
   "outputs": [],
   "source": [
    "index_seq_dict = dict(zip(range(4), ['A','C', 'G', 'T']))"
   ]
  },
  {
   "cell_type": "code",
   "execution_count": 1111,
   "metadata": {
    "collapsed": false,
    "scrolled": true
   },
   "outputs": [
    {
     "name": "stdout",
     "output_type": "stream",
     "text": [
      "GCCTAAGCACAGAATCGGAACACC\n"
     ]
    },
    {
     "data": {
      "image/png": "[encoded data removed]",
      "text/plain": [
       "<matplotlib.figure.Figure at 0x7f6866641630>"
      ]
     },
     "metadata": {},
     "output_type": "display_data"
    },
    {
     "name": "stdout",
     "output_type": "stream",
     "text": [
      "ATGTCCTGAGAGTCGAGTTTGAGA\n"
     ]
    },
    {
     "data": {
      "image/png": "[encoded data removed]",
      "text/plain": [
       "<matplotlib.figure.Figure at 0x7f68664fccf8>"
      ]
     },
     "metadata": {},
     "output_type": "display_data"
    },
    {
     "name": "stdout",
     "output_type": "stream",
     "text": [
      "GCGCTGTCTTATAGCGGGCGTCGC\n"
     ]
    },
    {
     "data": {
      "image/png": "[encoded data removed]",
      "text/plain": [
       "<matplotlib.figure.Figure at 0x7f68663aecf8>"
      ]
     },
     "metadata": {},
     "output_type": "display_data"
    },
    {
     "name": "stdout",
     "output_type": "stream",
     "text": [
      "ATTTGGAAATTGCGGACCAACGTT\n"
     ]
    },
    {
     "data": {
      "image/png": "[encoded data removed]",
      "text/plain": [
       "<matplotlib.figure.Figure at 0x7f68662479e8>"
      ]
     },
     "metadata": {},
     "output_type": "display_data"
    },
    {
     "name": "stdout",
     "output_type": "stream",
     "text": [
      "GCTAAGTTTGACGTGTGGTCATCT\n"
     ]
    },
    {
     "data": {
      "image/png": "[encoded data removed]",
      "text/plain": [
       "<matplotlib.figure.Figure at 0x7f6866230c18>"
      ]
     },
     "metadata": {},
     "output_type": "display_data"
    },
    {
     "name": "stdout",
     "output_type": "stream",
     "text": [
      "ACGCGTATGCGTGAATCGGAAGCC\n"
     ]
    },
    {
     "data": {
      "image/png": "[encoded data removed]",
      "text/plain": [
       "<matplotlib.figure.Figure at 0x7f68660fe780>"
      ]
     },
     "metadata": {},
     "output_type": "display_data"
    },
    {
     "name": "stdout",
     "output_type": "stream",
     "text": [
      "ATGAACCGCCGCGTATAACCTTGA\n"
     ]
    },
    {
     "data": {
      "image/png": "[encoded data removed]",
      "text/plain": [
       "<matplotlib.figure.Figure at 0x7f6865d5f8d0>"
      ]
     },
     "metadata": {},
     "output_type": "display_data"
    },
    {
     "name": "stdout",
     "output_type": "stream",
     "text": [
      "CGTTGAGGCTGGAGCTCGGAGACA\n"
     ]
    },
    {
     "data": {
      "image/png": "[encoded data removed]",
      "text/plain": [
       "<matplotlib.figure.Figure at 0x7f6865cafeb8>"
      ]
     },
     "metadata": {},
     "output_type": "display_data"
    },
    {
     "name": "stdout",
     "output_type": "stream",
     "text": [
      "TACAATATACCCCTATTCAGATCC\n"
     ]
    },
    {
     "data": {
      "image/png": "[encoded data removed]",
      "text/plain": [
       "<matplotlib.figure.Figure at 0x7f6865abbd68>"
      ]
     },
     "metadata": {},
     "output_type": "display_data"
    },
    {
     "name": "stdout",
     "output_type": "stream",
     "text": [
      "CTTGCACCCTGCAGGAGCCGAAAA\n"
     ]
    },
    {
     "data": {
      "image/png": "[encoded data removed]",
      "text/plain": [
       "<matplotlib.figure.Figure at 0x7f6865ab5f28>"
      ]
     },
     "metadata": {},
     "output_type": "display_data"
    },
    {
     "name": "stdout",
     "output_type": "stream",
     "text": [
      "TTCCACTTCAAGACGAAGCTATAC\n"
     ]
    },
    {
     "data": {
      "image/png": "[encoded data removed]",
      "text/plain": [
       "<matplotlib.figure.Figure at 0x7f68657b3be0>"
      ]
     },
     "metadata": {},
     "output_type": "display_data"
    },
    {
     "name": "stdout",
     "output_type": "stream",
     "text": [
      "TCGACAGCGTCCCCAGATGTGGAA\n"
     ]
    },
    {
     "data": {
      "image/png": "[encoded data removed]",
      "text/plain": [
       "<matplotlib.figure.Figure at 0x7f6865653048>"
      ]
     },
     "metadata": {},
     "output_type": "display_data"
    },
    {
     "name": "stdout",
     "output_type": "stream",
     "text": [
      "CCGTACAGTAGAGAAGGCGGAAGG\n"
     ]
    },
    {
     "data": {
      "image/png": "[encoded data removed]",
      "text/plain": [
       "<matplotlib.figure.Figure at 0x7f68654d2240>"
      ]
     },
     "metadata": {},
     "output_type": "display_data"
    },
    {
     "name": "stdout",
     "output_type": "stream",
     "text": [
      "TCCTCGAATCGGCACAAGTGGTAG\n"
     ]
    },
    {
     "data": {
      "image/png": "[encoded data removed]",
      "text/plain": [
       "<matplotlib.figure.Figure at 0x7f686561fef0>"
      ]
     },
     "metadata": {},
     "output_type": "display_data"
    },
    {
     "name": "stdout",
     "output_type": "stream",
     "text": [
      "TTGACAGTGGCGGTATGAATACGT\n"
     ]
    },
    {
     "data": {
      "image/png": "[encoded data removed]",
      "text/plain": [
       "<matplotlib.figure.Figure at 0x7f68651cdf98>"
      ]
     },
     "metadata": {},
     "output_type": "display_data"
    },
    {
     "name": "stdout",
     "output_type": "stream",
     "text": [
      "TTTGCTTGGTAGCAGAGATCTCCT\n"
     ]
    },
    {
     "data": {
      "image/png": "[encoded data removed]",
      "text/plain": [
       "<matplotlib.figure.Figure at 0x7f686510a160>"
      ]
     },
     "metadata": {},
     "output_type": "display_data"
    },
    {
     "name": "stdout",
     "output_type": "stream",
     "text": [
      "GCCTAAGCACAGAATCGGAACACC\n",
      "ATGTCCTGAGAGTCGAGTTTGAGA\n",
      "GCGCTGTCTTATAGCGGGCGTCGC\n",
      "ATTTGGAAATTGCGGACCAACGTT\n",
      "GCTAAGTTTGACGTGTGGTCATCT\n",
      "ACGCGTATGCGTGAATCGGAAGCC\n",
      "ATGAACCGCCGCGTATAACCTTGA\n",
      "CGTTGAGGCTGGAGCTCGGAGACA\n",
      "TACAATATACCCCTATTCAGATCC\n",
      "CTTGCACCCTGCAGGAGCCGAAAA\n",
      "TTCCACTTCAAGACGAAGCTATAC\n",
      "TCGACAGCGTCCCCAGATGTGGAA\n",
      "CCGTACAGTAGAGAAGGCGGAAGG\n",
      "TCCTCGAATCGGCACAAGTGGTAG\n",
      "TTGACAGTGGCGGTATGAATACGT\n",
      "TTTGCTTGGTAGCAGAGATCTCCT\n"
     ]
    }
   ],
   "source": [
    "seq_list = []\n",
    "for motif in motifs.reshape(num_motifs, motif_size, 4):\n",
    "    normed_motif = np.array([row - np.mean(row) for row in motif])\n",
    "    \n",
    "    sequence = ''.join([index_seq_dict[np.argmax(x)] for x in motif])\n",
    "    seq_list.append(sequence)\n",
    "    normed_motif = pd.DataFrame(normed_motif, index = list(sequence), columns=['A','C','G','T'])\n",
    "    print(sequence)\n",
    "    cg = sns.clustermap(normed_motif,\n",
    "#                   z_score=0,\n",
    "                  row_cluster = False,\n",
    "                  col_cluster=False,\n",
    "#                   vmin=-0.2,\n",
    "#                   vmax=0.2\n",
    "                  )\n",
    "    plt.setp(cg.ax_heatmap.yaxis.get_majorticklabels(), rotation=0)\n",
    "    plt.show()\n",
    "for s in seq_list:\n",
    "    print(s)"
   ]
  },
  {
   "cell_type": "markdown",
   "metadata": {},
   "source": [
    "## Create Logos"
   ]
  },
  {
   "cell_type": "code",
   "execution_count": 1112,
   "metadata": {
    "collapsed": false
   },
   "outputs": [],
   "source": [
    "positive_fasta_seq = [str(x.seq[:200]) for x in positive_seqRecords]\n",
    "positive_fasta_rc_seq = [str(x[:200].reverse_complement().seq) for x in positive_seqRecords]\n",
    "positive_sequence_arrays = convert_sequences_to_array(positive_fasta_seq)\n",
    "positive_sequence_rc_arrays = convert_sequences_to_array(positive_fasta_rc_seq)\n"
   ]
  },
  {
   "cell_type": "code",
   "execution_count": null,
   "metadata": {
    "collapsed": true
   },
   "outputs": [],
   "source": [
    "motifs = weights[0]\n",
    "biases = weights[1]\n",
    "alphabet = Bio.Seq.IUPAC.Alphabet.IUPAC.IUPACUnambiguousDNA()\n",
    "\n"
   ]
  },
  {
   "cell_type": "code",
   "execution_count": null,
   "metadata": {
    "collapsed": false
   },
   "outputs": [],
   "source": [
    "bio_motifs_list = []\n",
    "for m,b in zip(motifs.reshape(num_motifs, motif_size, 4), biases):\n",
    "    current_motif = m\n",
    "    current_size = current_motif.shape[0]\n",
    "    # loop through sequences\n",
    "    sequences = []\n",
    "    scores = []\n",
    "    counter = 0\n",
    "    for fwd_seq, rev_seq in zip(positive_sequence_arrays, positive_sequence_rc_arrays):\n",
    "        max_score = -1\n",
    "        max_seq = None\n",
    "        for i in range(fwd_seq.shape[0] - current_size + 1):\n",
    "            sub_seq = fwd_seq[i:i+current_size]\n",
    "            score = (current_motif*sub_seq).sum() + b\n",
    "            if score > max_score:\n",
    "                max_score = score\n",
    "                max_seq = sub_seq\n",
    "            scores.append(score)\n",
    "        for i in range(rev_seq.shape[0] - current_size + 1):\n",
    "            sub_seq = rev_seq[i:i+current_size]\n",
    "            score = (current_motif*sub_seq).sum() + b\n",
    "            if score > max_score:\n",
    "                max_score = score\n",
    "                max_seq = sub_seq\n",
    "            scores.append(score)\n",
    "        if max_score > 0:\n",
    "            sequences.append(max_seq)\n",
    "        counter += 1\n",
    "        if counter % 1000 == 0:\n",
    "            print(counter)\n",
    "    if len(sequences) > 0:\n",
    "        counts = np.array(sequences).sum(axis=0)\n",
    "        counts_dict = {x[0]:x[1] for x in zip(list('ACGT'), counts.T)}\n",
    "        bio_motif = Bio.motifs.Motif(alphabet = alphabet, counts = counts_dict)\n",
    "        bio_motifs_list.append(bio_motif)"
   ]
  },
  {
   "cell_type": "code",
   "execution_count": null,
   "metadata": {
    "collapsed": true
   },
   "outputs": [],
   "source": [
    "for i in range(len(bio_motifs_list)):\n",
    "    bm = bio_motifs_list[i]\n",
    "    bm.weblogo('motif_' +str(i) + '.pdf', format='PDF')"
   ]
  },
  {
   "cell_type": "code",
   "execution_count": null,
   "metadata": {
    "collapsed": true
   },
   "outputs": [],
   "source": []
  }
 ],
 "metadata": {
  "kernelspec": {
   "display_name": "Python [Root]",
   "language": "python",
   "name": "Python [Root]"
  },
  "language_info": {
   "codemirror_mode": {
    "name": "ipython",
    "version": 3
   },
   "file_extension": ".py",
   "mimetype": "text/x-python",
   "name": "python",
   "nbconvert_exporter": "python",
   "pygments_lexer": "ipython3",
   "version": "3.5.1"
  }
 },
 "nbformat": 4,
 "nbformat_minor": 0
}
