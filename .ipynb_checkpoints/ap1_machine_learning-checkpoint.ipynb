{
 "metadata": {
  "name": "",
  "signature": "sha256:20d83342a6ff74009b08ee29b27d250c6dc7a33945ec2fad58658f575e97ad2c"
 },
 "nbformat": 3,
 "nbformat_minor": 0,
 "worksheets": [
  {
   "cells": [
    {
     "cell_type": "code",
     "collapsed": false,
     "input": [],
     "language": "python",
     "metadata": {},
     "outputs": []
    }
   ],
   "metadata": {}
  }
 ]
}